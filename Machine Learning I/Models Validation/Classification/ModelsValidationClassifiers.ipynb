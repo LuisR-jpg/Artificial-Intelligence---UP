{
 "cells": [
  {
   "cell_type": "code",
   "execution_count": 5,
   "id": "3952ecb1",
   "metadata": {},
   "outputs": [],
   "source": [
    "import numpy as np\n",
    "import pandas\n",
    "import matplotlib.pyplot as plt\n",
    "\n",
    "# Datasets\n",
    "from sklearn.datasets import load_iris, load_digits, load_breast_cancer\n",
    "\n",
    "# Training and testing sets\n",
    "from sklearn.model_selection import train_test_split\n",
    "from sklearn.model_selection import KFold\n",
    "from sklearn.model_selection import cross_val_score\n",
    "\n",
    "# Classifiers\n",
    "from sklearn.neural_network import MLPClassifier\n",
    "\n",
    "# Metrics\n",
    "from sklearn.metrics import accuracy_score\n",
    "from sklearn.metrics import confusion_matrix\n",
    "from sklearn.metrics import recall_score, precision_score, f1_score"
   ]
  },
  {
   "cell_type": "markdown",
   "id": "5ea75b56",
   "metadata": {},
   "source": [
    "# Datasets\n",
    "## Breast cancer"
   ]
  },
  {
   "cell_type": "code",
   "execution_count": 10,
   "id": "e815225e",
   "metadata": {},
   "outputs": [
    {
     "name": "stdout",
     "output_type": "stream",
     "text": [
      "Features ['mean radius' 'mean texture' 'mean perimeter' 'mean area'\n",
      " 'mean smoothness' 'mean compactness' 'mean concavity'\n",
      " 'mean concave points' 'mean symmetry' 'mean fractal dimension'\n",
      " 'radius error' 'texture error' 'perimeter error' 'area error'\n",
      " 'smoothness error' 'compactness error' 'concavity error'\n",
      " 'concave points error' 'symmetry error' 'fractal dimension error'\n",
      " 'worst radius' 'worst texture' 'worst perimeter' 'worst area'\n",
      " 'worst smoothness' 'worst compactness' 'worst concavity'\n",
      " 'worst concave points' 'worst symmetry' 'worst fractal dimension']\n",
      "Target ['malignant' 'benign']\n",
      "Data Shape (569, 30)\n"
     ]
    }
   ],
   "source": [
    "data = load_breast_cancer()\n",
    "print('Features', data.feature_names)\n",
    "print('Target', data.target_names)\n",
    "print('Data Shape', data.data.shape)"
   ]
  },
  {
   "cell_type": "code",
   "execution_count": 13,
   "id": "f1af0c2b",
   "metadata": {},
   "outputs": [
    {
     "name": "stdout",
     "output_type": "stream",
     "text": [
      "X (569, 30)\n",
      "Y 569 (array([0, 1]), array([212, 357], dtype=int64))\n"
     ]
    }
   ],
   "source": [
    "x, y = load_breast_cancer(return_X_y = True)\n",
    "print('X', x.shape)\n",
    "print('Y', len(y), np.unique(y, return_counts = True))"
   ]
  },
  {
   "cell_type": "markdown",
   "id": "87589953",
   "metadata": {},
   "source": [
    "## Iris"
   ]
  },
  {
   "cell_type": "code",
   "execution_count": 16,
   "id": "779f7d09",
   "metadata": {},
   "outputs": [
    {
     "name": "stdout",
     "output_type": "stream",
     "text": [
      "Features ['sepal length (cm)', 'sepal width (cm)', 'petal length (cm)', 'petal width (cm)']\n",
      "Target ['setosa' 'versicolor' 'virginica']\n",
      "Data Shape (150, 4)\n"
     ]
    }
   ],
   "source": [
    "data = load_iris()\n",
    "print('Features', data.feature_names)\n",
    "print('Target', data.target_names)\n",
    "print('Data Shape', data.data.shape)"
   ]
  },
  {
   "cell_type": "code",
   "execution_count": 18,
   "id": "6ff1a2cc",
   "metadata": {},
   "outputs": [
    {
     "name": "stdout",
     "output_type": "stream",
     "text": [
      "X (150, 4)\n",
      "Y 150 (array([0, 1, 2]), array([50, 50, 50], dtype=int64))\n"
     ]
    }
   ],
   "source": [
    "x, y = load_iris(return_X_y = True)\n",
    "print('X', x.shape)\n",
    "print('Y', len(y), np.unique(y, return_counts = True))"
   ]
  },
  {
   "cell_type": "markdown",
   "id": "7ed31ab0",
   "metadata": {},
   "source": [
    "## Digits"
   ]
  },
  {
   "cell_type": "code",
   "execution_count": 20,
   "id": "81c8f2fa",
   "metadata": {},
   "outputs": [
    {
     "name": "stdout",
     "output_type": "stream",
     "text": [
      "Target [0 1 2 3 4 5 6 7 8 9]\n",
      "Data Shape (1797, 64)\n"
     ]
    }
   ],
   "source": [
    "data = load_digits()\n",
    "print('Target', data.target_names)\n",
    "print('Data Shape', data.data.shape)"
   ]
  },
  {
   "cell_type": "code",
   "execution_count": 22,
   "id": "90fe8da7",
   "metadata": {},
   "outputs": [
    {
     "name": "stdout",
     "output_type": "stream",
     "text": [
      "X (1797, 64)\n",
      "Y 1797 (array([0, 1, 2, 3, 4, 5, 6, 7, 8, 9]), array([178, 182, 177, 183, 181, 182, 181, 179, 174, 180], dtype=int64))\n"
     ]
    }
   ],
   "source": [
    "x, y = load_digits(return_X_y = True)\n",
    "print('X', x.shape)\n",
    "print('Y', len(y), np.unique(y, return_counts = True))"
   ]
  },
  {
   "cell_type": "code",
   "execution_count": 26,
   "id": "484cb5b3",
   "metadata": {},
   "outputs": [
    {
     "data": {
      "image/png": "[encoded data removed]",
      "text/plain": [
       "<Figure size 432x288 with 1 Axes>"
      ]
     },
     "metadata": {
      "needs_background": "light"
     },
     "output_type": "display_data"
    }
   ],
   "source": [
    "#i = 10\n",
    "i = 100\n",
    "plt.figure()\n",
    "plt.title(y[i])\n",
    "plt.imshow(np.reshape(x[i, :], (8, 8)))\n",
    "plt.show()"
   ]
  },
  {
   "cell_type": "markdown",
   "id": "93254bd5",
   "metadata": {},
   "source": [
    "# Training and testing sets"
   ]
  },
  {
   "cell_type": "code",
   "execution_count": 74,
   "id": "9dcebd39",
   "metadata": {},
   "outputs": [
    {
     "name": "stdout",
     "output_type": "stream",
     "text": [
      "X: (150, 4) Y: 150\n",
      "xTrain: (135, 4) yTrain: 135\n",
      "xTest: (15, 4) yTest: 15\n",
      "yTest: [2 1 0 2 0 2 0 1 1 1 2 1 1 1 1]\n"
     ]
    }
   ],
   "source": [
    "x, y = load_iris(return_X_y = True)\n",
    "xTrain, xTest, yTrain, yTest = train_test_split(x, y, test_size = 0.1, random_state = 0) #Random-state is the seed\n",
    "print('X:', x.shape, 'Y:', len(y))\n",
    "print('xTrain:', xTrain.shape, 'yTrain:', len(yTrain))\n",
    "print('xTest:', xTest.shape, 'yTest:', len(yTest))\n",
    "print('yTest:', yTest)"
   ]
  },
  {
   "cell_type": "markdown",
   "id": "5106fdc7",
   "metadata": {},
   "source": [
    "### Cross Validation"
   ]
  },
  {
   "cell_type": "code",
   "execution_count": 98,
   "id": "b4e46407",
   "metadata": {},
   "outputs": [
    {
     "name": "stdout",
     "output_type": "stream",
     "text": [
      "X: (150, 4) Y: 150\n",
      "xTrain: (135, 4) yTrain: 135\n",
      "xTest: (15, 4) yTest: 15\n",
      "\n",
      "X: (150, 4) Y: 150\n",
      "xTrain: (135, 4) yTrain: 135\n",
      "xTest: (15, 4) yTest: 15\n",
      "\n",
      "X: (150, 4) Y: 150\n",
      "xTrain: (135, 4) yTrain: 135\n",
      "xTest: (15, 4) yTest: 15\n",
      "\n",
      "X: (150, 4) Y: 150\n",
      "xTrain: (135, 4) yTrain: 135\n",
      "xTest: (15, 4) yTest: 15\n",
      "\n",
      "X: (150, 4) Y: 150\n",
      "xTrain: (135, 4) yTrain: 135\n",
      "xTest: (15, 4) yTest: 15\n",
      "\n",
      "X: (150, 4) Y: 150\n",
      "xTrain: (135, 4) yTrain: 135\n",
      "xTest: (15, 4) yTest: 15\n",
      "\n",
      "X: (150, 4) Y: 150\n",
      "xTrain: (135, 4) yTrain: 135\n",
      "xTest: (15, 4) yTest: 15\n",
      "\n",
      "X: (150, 4) Y: 150\n",
      "xTrain: (135, 4) yTrain: 135\n",
      "xTest: (15, 4) yTest: 15\n",
      "\n",
      "X: (150, 4) Y: 150\n",
      "xTrain: (135, 4) yTrain: 135\n",
      "xTest: (15, 4) yTest: 15\n",
      "\n",
      "X: (150, 4) Y: 150\n",
      "xTrain: (135, 4) yTrain: 135\n",
      "xTest: (15, 4) yTest: 15\n",
      "\n"
     ]
    }
   ],
   "source": [
    "x, y = load_iris(return_X_y = True)\n",
    "kf = KFold(n_splits = 10, random_state = 0, shuffle = True)\n",
    "for trainI, testI in kf.split(x):\n",
    "    #print(testI)\n",
    "    xTrain, yTrain = x[trainI, :], y[trainI]\n",
    "    xTest, yTest = x[testI, :], y[testI]\n",
    "    print('X:', x.shape, 'Y:', len(y))\n",
    "    print('xTrain:', xTrain.shape, 'yTrain:', len(yTrain))\n",
    "    print('xTest:', xTest.shape, 'yTest:', len(yTest))\n",
    "    #print('yTest:', yTest)\n",
    "    print()"
   ]
  },
  {
   "cell_type": "code",
   "execution_count": 100,
   "id": "bffef47e",
   "metadata": {},
   "outputs": [
    {
     "name": "stdout",
     "output_type": "stream",
     "text": [
      "Macro F1: [0.9439895185063871, 0.9463108320251178, 0.9565548780487805, 1.0, 0.8782051282051282, 0.8635897435897436, 0.9439895185063871, 0.9246031746031745, 0.97999297999298, 0.9083469721767594]\n"
     ]
    },
    {
     "name": "stderr",
     "output_type": "stream",
     "text": [
      "C:\\Users\\lalor\\anaconda3\\lib\\site-packages\\sklearn\\neural_network\\_multilayer_perceptron.py:614: ConvergenceWarning: Stochastic Optimizer: Maximum iterations (200) reached and the optimization hasn't converged yet.\n",
      "  warnings.warn(\n"
     ]
    }
   ],
   "source": [
    "x, y = load_breast_cancer(return_X_y = True)\n",
    "\n",
    "kf = KFold(n_splits = 10, random_state = 0, shuffle = True)\n",
    "\n",
    "results = []\n",
    "for trainI, testI in kf.split(x):\n",
    "    #print(testI)\n",
    "    xTrain, yTrain = x[trainI, :], y[trainI]\n",
    "    xTest, yTest = x[testI, :], y[testI]\n",
    "    model = MLPClassifier(random_state = 0)\n",
    "    model.fit(xTrain, yTrain)\n",
    "    yPred = model.predict(xTest)\n",
    "    \n",
    "    results.append(f1_score(yTest, yPred, average = 'macro'))\n",
    "\n",
    "print('Macro F1:', results)"
   ]
  },
  {
   "cell_type": "markdown",
   "id": "7de69c90",
   "metadata": {},
   "source": [
    "## Metrics"
   ]
  },
  {
   "cell_type": "code",
   "execution_count": 95,
   "id": "c85d8b8b",
   "metadata": {},
   "outputs": [
    {
     "name": "stdout",
     "output_type": "stream",
     "text": [
      "Accuracy: 0.9777777777777777\n",
      "Confusion Matrix:\n",
      " [[16  0  0]\n",
      " [ 0 17  1]\n",
      " [ 0  0 11]]\n"
     ]
    },
    {
     "name": "stderr",
     "output_type": "stream",
     "text": [
      "C:\\Users\\lalor\\anaconda3\\lib\\site-packages\\sklearn\\neural_network\\_multilayer_perceptron.py:614: ConvergenceWarning: Stochastic Optimizer: Maximum iterations (200) reached and the optimization hasn't converged yet.\n",
      "  warnings.warn(\n"
     ]
    },
    {
     "data": {
      "text/html": [
       "<div>\n",
       "<style scoped>\n",
       "    .dataframe tbody tr th:only-of-type {\n",
       "        vertical-align: middle;\n",
       "    }\n",
       "\n",
       "    .dataframe tbody tr th {\n",
       "        vertical-align: top;\n",
       "    }\n",
       "\n",
       "    .dataframe thead th {\n",
       "        text-align: right;\n",
       "    }\n",
       "</style>\n",
       "<table border=\"1\" class=\"dataframe\">\n",
       "  <thead>\n",
       "    <tr style=\"text-align: right;\">\n",
       "      <th></th>\n",
       "      <th>setosa</th>\n",
       "      <th>versicolor</th>\n",
       "      <th>virginica</th>\n",
       "    </tr>\n",
       "  </thead>\n",
       "  <tbody>\n",
       "    <tr>\n",
       "      <th>setosa</th>\n",
       "      <td>100.0</td>\n",
       "      <td>0.0</td>\n",
       "      <td>0.0</td>\n",
       "    </tr>\n",
       "    <tr>\n",
       "      <th>versicolor</th>\n",
       "      <td>0.0</td>\n",
       "      <td>94.0</td>\n",
       "      <td>6.0</td>\n",
       "    </tr>\n",
       "    <tr>\n",
       "      <th>virginica</th>\n",
       "      <td>0.0</td>\n",
       "      <td>0.0</td>\n",
       "      <td>100.0</td>\n",
       "    </tr>\n",
       "  </tbody>\n",
       "</table>\n",
       "</div>"
      ],
      "text/plain": [
       "            setosa  versicolor  virginica\n",
       "setosa       100.0         0.0        0.0\n",
       "versicolor     0.0        94.0        6.0\n",
       "virginica      0.0         0.0      100.0"
      ]
     },
     "execution_count": 95,
     "metadata": {},
     "output_type": "execute_result"
    }
   ],
   "source": [
    "x, y = load_iris(return_X_y = True)\n",
    "data = load_iris()\n",
    "\n",
    "xTrain, xTest, yTrain, yTest = train_test_split(x, y, test_size = 0.3, random_state = 0)\\\n",
    "\n",
    "model = MLPClassifier(random_state = 0)\n",
    "model.fit(xTrain, yTrain)\n",
    "yPred = model.predict(xTest)\n",
    "\n",
    "print('Accuracy:', accuracy_score(yTest, yPred))\n",
    "print('Confusion Matrix:\\n', confusion_matrix(yTest, yPred))\n",
    "\n",
    "m = confusion_matrix(yTest, yPred)\n",
    "m = m.transpose()\n",
    "m = np.round(100 * m / np.sum(m, axis = 0), 0).transpose()\n",
    "df = pandas.DataFrame(m, index = data.target_names, columns = data.target_names)\n",
    "df"
   ]
  },
  {
   "cell_type": "markdown",
   "id": "5d934782",
   "metadata": {},
   "source": [
    "## Precision, recall, F1"
   ]
  },
  {
   "cell_type": "code",
   "execution_count": 96,
   "id": "b7f81411",
   "metadata": {},
   "outputs": [
    {
     "name": "stdout",
     "output_type": "stream",
     "text": [
      "Accuracy: 0.9649122807017544\n",
      "Recall: 0.9814814814814815\n",
      "Precision: 0.9636363636363636\n",
      "F1: 0.9724770642201834\n",
      "Macro-F1: 0.962044983722995\n"
     ]
    }
   ],
   "source": [
    "x, y = load_breast_cancer(return_X_y = True)\n",
    "xTrain, xTest, yTrain, yTest = train_test_split(x, y, test_size = 0.3, random_state = 0)\n",
    "\n",
    "model = MLPClassifier(random_state = 0)\n",
    "model.fit(xTrain, yTrain)\n",
    "yPred = model.predict(xTest)\n",
    "\n",
    "print('Accuracy:', accuracy_score(yTest, yPred))\n",
    "print('Recall:', recall_score(yTest, yPred))\n",
    "print('Precision:', precision_score(yTest, yPred))\n",
    "print('F1:', f1_score(yTest, yPred))\n",
    "print('Macro-F1:', f1_score(yTest, yPred, average = 'macro'))"
   ]
  }
 ],
 "metadata": {
  "kernelspec": {
   "display_name": "Python 3 (ipykernel)",
   "language": "python",
   "name": "python3"
  },
  "language_info": {
   "codemirror_mode": {
    "name": "ipython",
    "version": 3
   },
   "file_extension": ".py",
   "mimetype": "text/x-python",
   "name": "python",
   "nbconvert_exporter": "python",
   "pygments_lexer": "ipython3",
   "version": "3.9.7"
  }
 },
 "nbformat": 4,
 "nbformat_minor": 5
}
