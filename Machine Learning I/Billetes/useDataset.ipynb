{
 "cells": [
  {
   "cell_type": "code",
   "execution_count": 2,
   "id": "0aad6041",
   "metadata": {},
   "outputs": [],
   "source": [
    "import cv2\n",
    "import matplotlib.pyplot as plt\n",
    "import numpy as np\n",
    "\n",
    "import matplotlib.image as mpimg\n",
    "from mpl_toolkits.mplot3d import Axes3D\n",
    "\n",
    "import seaborn as sns\n",
    "\n",
    "from collections import Counter"
   ]
  },
  {
   "cell_type": "code",
   "execution_count": 3,
   "id": "4f21933a",
   "metadata": {},
   "outputs": [],
   "source": [
    "def nextPic(denominacion, numero, letra):\n",
    "    if chr(letra) != 'd': return (denominacion, numero, letra + 1)\n",
    "    if numero != 20: return (denominacion, numero + 1, 97)\n",
    "    if denominacion != 4: return (denominacion + 1, 1, 97)\n",
    "    return (-1, -1, -1)\n",
    "def getImgName(d, n, l):\n",
    "    den = \"\"\n",
    "    if d == -1: return(-1, \"no\")\n",
    "    if d == 0: den = \"020\";\n",
    "    if d == 1: den = \"050\";\n",
    "    if d == 2: den = \"100\";\n",
    "    if d == 3: den = \"200\";\n",
    "    if d == 4: den = \"500\";\n",
    "    num = \"\"\n",
    "    if n < 10: num = \"0\"\n",
    "    num += str(n)\n",
    "    i = 'MX' + den + 'N_' + num + chr(l) + \".jpg\" \n",
    "    return (d, i)"
   ]
  },
  {
   "cell_type": "code",
   "execution_count": 4,
   "id": "aa0262d1",
   "metadata": {},
   "outputs": [
    {
     "name": "stdout",
     "output_type": "stream",
     "text": [
      "Termine\n"
     ]
    }
   ],
   "source": [
    "pics = [[], [], [], [], []]\n",
    "hB, fB = [[], [], [], [], []], [[], [], [], [], []]\n",
    "den, num = \"\", \"\"\n",
    "d, n, l = -1, 20, 100\n",
    "while(True):\n",
    "    d, n, l = nextPic(d, n, l)\n",
    "    denom, name = getImgName(d, n, l)\n",
    "    if name == \"no\": break\n",
    "    img = cv2.imread('Datasets/Billetes/billetes/' + name)\n",
    "    img = cv2.resize(img, (1100, 520))\n",
    "    \n",
    "    pics[denom].append(img)\n",
    "    \n",
    "    #print(i)\n",
    "    \"\"\"\n",
    "    img = cv2.cvtColor(img, code = cv2.COLOR_BGR2RGB) #convertir color [viene en cv]\n",
    "    plt.figure()\n",
    "    plt.imshow(img)\n",
    "    plt.show()\n",
    "    \"\"\"\n",
    "print(\"Termine\")"
   ]
  },
  {
   "cell_type": "code",
   "execution_count": 6,
   "id": "10522327",
   "metadata": {},
   "outputs": [
    {
     "name": "stdout",
     "output_type": "stream",
     "text": [
      "Counter({0: 1, 1: 1, 2: 1, 3: 1, 4: 1, 5: 1, 6: 1, 7: 1, 8: 1, 9: 1, 10: 1, 12: 1, 13: 1, 14: 1, 15: 1, 18: 1, 24: 1, 25: 1, 30: 1, 38: 1, 45: 1, 64: 1, 66: 1, 70: 1, 73: 1, 78: 1, 84: 1, 85: 1, 86: 1, 90: 1, 93: 1, 95: 1, 96: 1, 98: 1, 100: 1, 101: 1, 102: 1, 103: 1, 104: 1, 105: 1, 107: 1, 109: 1, 113: 1, 120: 1, 128: 1, 135: 1, 150: 1, 175: 1, 237: 1, 245: 1, 246: 1, 247: 1, 249: 1, 250: 1, 251: 1, 252: 1, 253: 1, 254: 1, 255: 1})\n",
      "Counter({0: 1, 1: 1, 2: 1, 3: 1, 4: 1, 5: 1, 6: 1, 7: 1, 8: 1, 9: 1, 10: 1, 11: 1, 12: 1, 13: 1, 15: 1, 24: 1, 30: 1, 33: 1, 35: 1, 38: 1, 40: 1, 41: 1, 45: 1, 46: 1, 50: 1, 51: 1, 53: 1, 54: 1, 55: 1, 60: 1, 64: 1, 65: 1, 68: 1, 69: 1, 70: 1, 72: 1, 75: 1, 78: 1, 84: 1, 86: 1, 90: 1, 114: 1, 130: 1, 135: 1, 150: 1, 238: 1, 242: 1, 246: 1, 247: 1, 248: 1, 249: 1, 250: 1, 251: 1, 252: 1, 253: 1, 254: 1, 255: 1})\n",
      "Counter({0: 1, 1: 1, 2: 1, 3: 1, 4: 1, 5: 1, 6: 1, 7: 1, 8: 1, 9: 1, 10: 1, 11: 1, 12: 1, 13: 1, 14: 1, 15: 1, 17: 1, 18: 1, 19: 1, 20: 1, 21: 1, 23: 1, 24: 1, 25: 1, 26: 1, 27: 1, 29: 1, 30: 1, 39: 1, 40: 1, 46: 1, 51: 1, 53: 1, 54: 1, 56: 1, 68: 1, 70: 1, 84: 1, 85: 1, 90: 1, 135: 1, 150: 1, 154: 1, 160: 1, 165: 1, 167: 1, 168: 1, 170: 1, 176: 1, 239: 1, 245: 1, 246: 1, 247: 1, 248: 1, 249: 1, 250: 1, 251: 1, 252: 1, 253: 1, 254: 1, 255: 1})\n",
      "Counter({0: 1, 1: 1, 2: 1, 3: 1, 4: 1, 5: 1, 6: 1, 7: 1, 8: 1, 9: 1, 10: 1, 11: 1, 12: 1, 14: 1, 16: 1, 17: 1, 19: 1, 23: 1, 24: 1, 30: 1, 38: 1, 45: 1, 50: 1, 53: 1, 66: 1, 67: 1, 70: 1, 77: 1, 84: 1, 86: 1, 90: 1, 98: 1, 107: 1, 110: 1, 150: 1, 153: 1, 154: 1, 157: 1, 159: 1, 160: 1, 162: 1, 165: 1, 167: 1, 168: 1, 170: 1, 173: 1, 242: 1, 245: 1, 247: 1, 248: 1, 249: 1, 250: 1, 251: 1, 252: 1, 253: 1, 254: 1, 255: 1})\n",
      "Counter({0: 1, 1: 1, 2: 1, 3: 1, 4: 1, 5: 1, 6: 1, 7: 1, 8: 1, 9: 1, 10: 1, 11: 1, 12: 1, 13: 1, 16: 1, 17: 1, 19: 1, 20: 1, 21: 1, 23: 1, 24: 1, 29: 1, 30: 1, 33: 1, 38: 1, 40: 1, 41: 1, 45: 1, 47: 1, 50: 1, 65: 1, 69: 1, 70: 1, 78: 1, 84: 1, 90: 1, 95: 1, 107: 1, 109: 1, 120: 1, 135: 1, 150: 1, 160: 1, 165: 1, 174: 1, 175: 1, 234: 1, 239: 1, 242: 1, 244: 1, 246: 1, 248: 1, 249: 1, 250: 1, 251: 1, 252: 1, 253: 1, 254: 1, 255: 1})\n"
     ]
    }
   ],
   "source": [
    "hB, cB = [[], [], [], [], []], [[], [], [], [], []]\n",
    "for i, den in enumerate(pics):\n",
    "    v = []\n",
    "    for img in den:\n",
    "        img = cv2.cvtColor(img, code = cv2.COLOR_RGB2HSV)\n",
    "        nrows, ncols, nch = img.shape\n",
    "        hsv = np.reshape(img, (nrows*ncols, 3))\n",
    "        #print(np.unique(hsv[0]), np.unique(hsv[1]), np.unique(hsv[2]))\n",
    "        v = [*v, *hsv[0]]\n",
    "        \n",
    "    hB[i] = np.unique(v)\n",
    "    cB[i] = Counter(hB[i])\n",
    "    print(cB[i])"
   ]
  },
  {
   "cell_type": "code",
   "execution_count": 28,
   "id": "f5437afe",
   "metadata": {},
   "outputs": [
    {
     "name": "stdout",
     "output_type": "stream",
     "text": [
      "Counter({14: 1, 18: 1, 25: 1, 66: 1, 73: 1, 85: 1, 93: 1, 95: 1, 96: 1, 98: 1, 100: 1, 101: 1, 102: 1, 103: 1, 104: 1, 105: 1, 107: 1, 109: 1, 113: 1, 120: 1, 128: 1, 175: 1, 237: 1, 245: 1})\n",
      "Counter({11: 1, 33: 1, 35: 1, 40: 1, 41: 1, 46: 1, 50: 1, 51: 1, 53: 1, 54: 1, 55: 1, 60: 1, 65: 1, 68: 1, 69: 1, 72: 1, 75: 1, 114: 1, 130: 1, 238: 1, 242: 1, 248: 1})\n",
      "24\n",
      "22\n"
     ]
    }
   ],
   "source": [
    "print(cB[0] - cB[1])\n",
    "print(cB[1] - cB[0])\n",
    "print(len(cB[0] - cB[1]))\n",
    "print(len(cB[1] - cB[0]))\n"
   ]
  },
  {
   "cell_type": "code",
   "execution_count": null,
   "id": "5a689dc3",
   "metadata": {},
   "outputs": [],
   "source": [
    "plt.figure(figsize = (5, 5))\n",
    "for i in range(4):\n",
    "    \n",
    "\n",
    "    plt.scatter(np.full(len(hB[i]), i), hB[i], s = fB[i])\n",
    "plt.show()\n"
   ]
  },
  {
   "cell_type": "code",
   "execution_count": null,
   "id": "88089946",
   "metadata": {},
   "outputs": [],
   "source": [
    "plt.figure(figsize = (15, 5))\n",
    "for i in range(4):\n",
    "    \n",
    "    plt.subplot(1, 4, i + 1)\n",
    "\n",
    "    plt.boxplot(hB[i])\n",
    "plt.show()\n"
   ]
  },
  {
   "cell_type": "code",
   "execution_count": null,
   "id": "c52c7deb",
   "metadata": {},
   "outputs": [],
   "source": [
    "for i in hB:\n",
    "    print(i)\n",
    "    break\n",
    "    i = np.unique(i)\n",
    "    print(i)\n",
    "    plt.figure(figsize = (10, 5))\n",
    "    ax = plt.subplot(1, 1, 1, projection = '3d')\n",
    "    ax.scatter(i, 240, 120)\n",
    "    plt.show()"
   ]
  }
 ],
 "metadata": {
  "kernelspec": {
   "display_name": "Python 3 (ipykernel)",
   "language": "python",
   "name": "python3"
  },
  "language_info": {
   "codemirror_mode": {
    "name": "ipython",
    "version": 3
   },
   "file_extension": ".py",
   "mimetype": "text/x-python",
   "name": "python",
   "nbconvert_exporter": "python",
   "pygments_lexer": "ipython3",
   "version": "3.9.7"
  }
 },
 "nbformat": 4,
 "nbformat_minor": 5
}
