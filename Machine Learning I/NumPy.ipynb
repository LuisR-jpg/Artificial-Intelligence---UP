{
  "cells": [
    {
      "cell_type": "markdown",
      "metadata": {
        "id": "view-in-github",
        "colab_type": "text"
      },
      "source": [
        "<a href=\"https://colab.research.google.com/github/LuisR-jpg/School/blob/master/Machine%20Learning%20I/NumPy.ipynb\" target=\"_parent\"><img src=\"https://colab.research.google.com/assets/colab-badge.svg\" alt=\"Open In Colab\"/></a>"
      ]
    },
    {
      "cell_type": "markdown",
      "id": "30050036",
      "metadata": {
        "id": "30050036"
      },
      "source": [
        "# Numpy tutorial\n",
        "\n",
        "> NumPy is a Python library.\n",
        ">\n",
        "> NumPy is used for working with arrays.\n",
        ">\n",
        "> NumPy is short for \"Numerical Python\".\n",
        "\n",
        "See the reference in [W3 Schools](https://www.w3schools.com/python/numpy/default.asp)."
      ]
    },
    {
      "cell_type": "markdown",
      "id": "67bb2955",
      "metadata": {
        "id": "67bb2955"
      },
      "source": [
        "### NumPy Introduction\n",
        "\n",
        "NumPy aims to provide an array object that is up to 50x faster than traditional Python lists. This is achieved by storing data at one continuous place in memory unlike lists.\n",
        "This library is written partially in Python, and the parts that require fast computation are written in C or C++."
      ]
    },
    {
      "cell_type": "markdown",
      "id": "de529127",
      "metadata": {
        "id": "de529127"
      },
      "source": [
        "### NumPy getting started\n",
        "\n",
        "    import numpy as np\n",
        "*In Python alias are an alternate name for referring to the same thing.*\n",
        "    \n",
        "    print(np.__version__)\n",
        "*The version string is stored under \\_\\_version\\_\\_ attribute.*"
      ]
    },
    {
      "cell_type": "markdown",
      "id": "f9e33066",
      "metadata": {
        "id": "f9e33066"
      },
      "source": [
        "### NumPy Creating Arrays\n",
        "\n",
        "We can create a NumPy ***ndarray*** object by using the array() function.\n",
        "To create an ndarray, we can pass a list, tuple or any array-like object into the array() method, and it will be converted into an ndarray.\n",
        "\n",
        "#### Dimension in Arrays\n",
        "- 0-D Arrays are scalars\n",
        "- 1-D Arrays are called uni-dimensional\n",
        "- 2-D Arrays are used to represent matrix or 2nd order tensors\n",
        "- 3-D Arrays has matrices as its elements and they're used to represent 3rd order tensor.\n",
        "\n",
        "The ***ndim*** attribute is an integer that tells us how many dimensions the array has.\n",
        "\n",
        "*When the array is created, you can define the number of dimensions by using the ndmin argument*"
      ]
    },
    {
      "cell_type": "code",
      "execution_count": null,
      "id": "6adb6d1c",
      "metadata": {
        "id": "6adb6d1c",
        "outputId": "ff2c69f9-84b2-4739-d1cb-f2981886342b"
      },
      "outputs": [
        {
          "name": "stdout",
          "output_type": "stream",
          "text": [
            "[1 2 3 4 5]\n",
            "<class 'numpy.ndarray'>\n",
            "0\n",
            "1\n",
            "2\n",
            "3\n",
            "5\n"
          ]
        }
      ],
      "source": [
        "import numpy as np\n",
        "\n",
        "#Creating \n",
        "uno = np.array([1, 2, 3, 4, 5])\n",
        "print(uno)\n",
        "print(type(uno))\n",
        "dos = np.array((1, 2, 3, 4, 5))\n",
        "\n",
        "#Dimensions\n",
        "zeroD = np.array(42)\n",
        "oneD = np.array([1, 2, 3, 4, 5])\n",
        "twoD = np.array([[1, 2, 3], [4, 5, 6]])\n",
        "threeD = np.array([[[1, 2, 3], [4, 5, 6]], [[1, 2, 3], [4, 5, 6]]])\n",
        "fiveD = np.array([1, 2, 3, 4], ndmin=5)\n",
        "print(zeroD.ndim)\n",
        "print(oneD.ndim)\n",
        "print(twoD.ndim)\n",
        "print(threeD.ndim)\n",
        "print(fiveD.ndim)"
      ]
    },
    {
      "cell_type": "markdown",
      "id": "649dfccc",
      "metadata": {
        "id": "649dfccc"
      },
      "source": [
        "### NumPy Array Indexing\n",
        "#### Access Array Elements\n",
        "Array indexing is the same as accessing an array element.\n",
        "\n",
        "To access elements from several arrays we can use comma separated integers representing the dimension and the index of the element.\n",
        "\n",
        "#### Negative Indexing\n",
        "Use negative indexing to access an array from the end."
      ]
    },
    {
      "cell_type": "code",
      "execution_count": null,
      "id": "8d3bc27b",
      "metadata": {
        "id": "8d3bc27b",
        "outputId": "9a0d53c2-b898-4055-bbe4-2a11792dce1d"
      },
      "outputs": [
        {
          "name": "stdout",
          "output_type": "stream",
          "text": [
            "1\n",
            "2nd element on 1st row:  2\n",
            "6\n",
            "Last element from 2nd dim:  10\n"
          ]
        }
      ],
      "source": [
        "import numpy as np\n",
        "\n",
        "oneD = np.array([1, 2, 3, 4])\n",
        "twoD = np.array([[1,2,3,4,5], [6,7,8,9,10]])\n",
        "threeD = np.array([[[1, 2, 3], [4, 5, 6]], [[7, 8, 9], [10, 11, 12]]])\n",
        "\n",
        "\n",
        "#Access\n",
        "print(oneD[0])\n",
        "print('2nd element on 1st row: ', twoD[0, 1])\n",
        "print(threeD[0, 1, 2])\n",
        "\n",
        "#Negative indexing\n",
        "print('Last element from 2nd dim: ', twoD[1, -1])"
      ]
    },
    {
      "cell_type": "markdown",
      "id": "83779daf",
      "metadata": {
        "id": "83779daf"
      },
      "source": [
        "### NumPy Array Slicing\n",
        "#### Slicing Arrays\n",
        "Slicing in python means taking elements from one given index to another given index *[start, end)*.\n",
        "\n",
        "- We pass slice instead of index like this: ***[start:end]***.\n",
        "\n",
        "- We can also define the step, like this: ***[start:end:step]***.\n",
        "\n",
        "*If we don't pass start its considered 0*\n",
        "\n",
        "*If we don't pass end its considered length of array in that dimension*\n",
        "\n",
        "*If we don't pass step its considered 1*\n",
        "\n",
        "#### Negative Slicing\n",
        "Use the minus operator to refer to an index from the end\n",
        "\n",
        "#### Step\n",
        "Determines step of the slicing\n",
        "\n",
        "#### Slicing more dimensional arrays\n",
        "Slicing can be applied to any dimension"
      ]
    },
    {
      "cell_type": "code",
      "execution_count": null,
      "id": "2f1c5b31",
      "metadata": {
        "id": "2f1c5b31",
        "outputId": "2f3c628e-22ba-4771-bb84-9ac1de3f1cca"
      },
      "outputs": [
        {
          "name": "stdout",
          "output_type": "stream",
          "text": [
            "[2 3 4 5]\n",
            "Slice elements from index 4 to the end of the array: [5 6 7]\n",
            "From [beginning to end) [1 2 3 4]\n",
            "Slice from the end [third element, last element) [5 6]\n",
            "[2 4]\n",
            "[1 3 5 7]\n",
            "[7 8 9]\n",
            "[3 8]\n",
            "[[2 3 4]\n",
            " [7 8 9]]\n"
          ]
        }
      ],
      "source": [
        "import numpy as np\n",
        "\n",
        "oneD = np.array([1, 2, 3, 4, 5, 6, 7])\n",
        "twoD = np.array([[1, 2, 3, 4, 5], [6, 7, 8, 9, 10]])\n",
        "\n",
        "#Slicing arrays\n",
        "print(oneD[1:5])\n",
        "print('Slice elements from index 4 to the end of the array:', oneD[4:])\n",
        "print('From [beginning to end)', oneD[:4])\n",
        "\n",
        "#Negative slicing\n",
        "print('Slice from the end [third element, last element)', arr[-3:-1])\n",
        "\n",
        "#Step\n",
        "print(oneD[1:5:2])\n",
        "print(oneD[::2])\n",
        "\n",
        "#Slicing 2-D\n",
        "print(twoD[1, 1:4])\n",
        "print(twoD[0:2, 2])\n",
        "print(twoD[0:2, 1:4])"
      ]
    },
    {
      "cell_type": "markdown",
      "id": "2093f41f",
      "metadata": {
        "id": "2093f41f"
      },
      "source": [
        "### NumPy Data Types\n",
        "#### Data types\n",
        "##### Python\n",
        "By default Python have these data types:\n",
        "\n",
        "- strings - used to represent text data, the text is given under quote marks. e.g. \"ABCD\"\n",
        "- integer - used to represent integer numbers. e.g. -1, -2, -3\n",
        "- float - used to represent real numbers. e.g. 1.2, 42.42\n",
        "- boolean - used to represent True or False.\n",
        "- complex - used to represent complex numbers. e.g. 1.0 + 2.0j, 1.5 + 2.5j\n",
        "\n",
        "##### NumPy\n",
        "Below is a list of all data types in NumPy and the characters used to represent them.\n",
        "\n",
        "- i - integer\n",
        "- b - boolean\n",
        "- u - unsigned integer\n",
        "- f - float\n",
        "- c - complex float\n",
        "- m - timedelta\n",
        "- M - datetime\n",
        "- O - object\n",
        "- S - string\n",
        "- U - unicode string\n",
        "- V - fixed chunk of memory for other type ( void )\n",
        "\n",
        "#### Checking the Data Type of an Array\n",
        "The NumPy array object has a property called ***dtype*** that returns the data type of the array\n",
        "\n",
        "#### Creating Arrays With a Defined Data Type\n",
        "Array() can take an optional argument that allows to define the expected data type of the array elements\n",
        "\n",
        "*For i, u, f, S and U we can define size as well.*\n",
        "\n",
        "#### What if a Value Can Not Be Converted?\n",
        "Raises **ValueError**\n",
        "\n",
        "#### Convert data type of existing array\n",
        "The best way to change the data type of an existing array, is to make a copy of the array with the astype() method.\n",
        "\n",
        "The astype() function creates a copy of the array, and allows you to specify the data type as a parameter."
      ]
    },
    {
      "cell_type": "code",
      "execution_count": null,
      "id": "b4f8c623",
      "metadata": {
        "id": "b4f8c623",
        "outputId": "101a14f5-65f7-4612-ec88-87c247190851"
      },
      "outputs": [
        {
          "name": "stdout",
          "output_type": "stream",
          "text": [
            "int32\n",
            "int16\n",
            "See? I'm here\n",
            "[1 2 3] int32\n",
            "[1 2 3] int32\n"
          ]
        }
      ],
      "source": [
        "import numpy as np\n",
        "\n",
        "arr = np.array([1, 2, 3, 4])\n",
        "\n",
        "#Checking data type\n",
        "print(arr.dtype)\n",
        "\n",
        "#Creating arrays with defined data type\n",
        "arr = np.array([1, 2, 3, 4], dtype='S')\n",
        "arr = np.array([1, 2, 3, 4], dtype='i2') \n",
        "print(arr.dtype)\n",
        "\n",
        "#What if a value can't be converted?\n",
        "try:\n",
        "  arr = np.array(['a', '2', '3'], dtype='i')\n",
        "except ValueError:\n",
        "  print(\"See? I'm here\")\n",
        "\n",
        "#Converting Data Type on Existing Arrays\n",
        "arr = np.array([1.1, 2.1, 3.1])\n",
        "newarr = arr.astype('i')\n",
        "print(newarr, newarr.dtype)\n",
        "newarr = arr.astype(int)\n",
        "print(newarr, newarr.dtype)"
      ]
    },
    {
      "cell_type": "markdown",
      "id": "ac768477",
      "metadata": {
        "id": "ac768477"
      },
      "source": [
        "### The Difference Between Copy and View\n",
        "- **Copy** is a duplicated of the array, it is independant from the original.\n",
        "- **View** is a reference of the original, both are connected. But the view doesn't own the data.\n",
        "\n",
        "#### Check if Array owns it's data\n",
        "Every NumPy array has the attribute ***base*** that returns **None** if the array owns the data. Otherwise, the base  attribute **refers** to the original object.\n"
      ]
    },
    {
      "cell_type": "code",
      "execution_count": null,
      "id": "e04e058c",
      "metadata": {
        "id": "e04e058c",
        "outputId": "84b2e8fc-8518-4fcb-c648-7b09872b5440"
      },
      "outputs": [
        {
          "name": "stdout",
          "output_type": "stream",
          "text": [
            "None\n",
            "[1 2 3 4 5]\n"
          ]
        }
      ],
      "source": [
        "import numpy as np\n",
        "\n",
        "arr = np.array([1, 2, 3, 4, 5])\n",
        "copy = arr.copy()\n",
        "view = arr.view()\n",
        "\n",
        "#Check property\n",
        "print(copy.base)\n",
        "print(view.base)"
      ]
    },
    {
      "cell_type": "markdown",
      "id": "2b6231db",
      "metadata": {
        "id": "2b6231db"
      },
      "source": [
        "### NumPy Array Shape\n",
        "#### Shape of an array\n",
        "Is the number of elements in each dimension.\n",
        "\n",
        "#### Get the Shape of an Array\n",
        "NumPy arrays have an attribute called shape that returns a tuple with each index having the number of corresponding elements.\n"
      ]
    },
    {
      "cell_type": "code",
      "execution_count": null,
      "id": "f78f3f04",
      "metadata": {
        "id": "f78f3f04",
        "outputId": "68af7745-d5bf-46c5-cfbf-43684888bfd6"
      },
      "outputs": [
        {
          "name": "stdout",
          "output_type": "stream",
          "text": [
            "(2, 4)\n",
            "(1, 1, 1, 1, 4)\n"
          ]
        }
      ],
      "source": [
        "import numpy as np\n",
        "\n",
        "twoD = np.array([[1, 2, 3, 4], [5, 6, 7, 8]])\n",
        "fiveD = np.array([1, 2, 3, 4], ndmin=5)\n",
        "\n",
        "print(twoD.shape)\n",
        "print(fiveD.shape)"
      ]
    },
    {
      "cell_type": "markdown",
      "source": [
        "### NumPy Array Reshaping\n",
        "#### Reshaping Arrays\n",
        "By reshaping we can add or remove dimensions or change number of elements in each dimension.\n",
        "#### Can We Reshape Into any Shape?\n",
        "Yes, as long as the elements required for reshaping are equal in both shapes.\n",
        "#### Returns Copy or View?\n",
        "Returns the original array, so it is a view.\n",
        "#### Unknown Dimension\n",
        "You are allowed to have one \"unknown\" dimension.\n",
        "\n",
        "Meaning that you do not have to specify an exact number for one of the dimensions in the reshape method.\n",
        "\n",
        "Pass -1 as the value, and NumPy will calculate this number for you.\n",
        "#### Flattening the arrays\n",
        "Flattening array means converting a multidimensional array into a 1D array.\n",
        "\n",
        "We can use ***reshape(-1)*** to do this.\n",
        "\n"
      ],
      "metadata": {
        "id": "BF__bNvkPXEC"
      },
      "id": "BF__bNvkPXEC"
    },
    {
      "cell_type": "code",
      "source": [
        "import numpy as np\n",
        "\n",
        "arr = np.array([1, 2, 3, 4, 5, 6, 7, 8, 9, 10, 11, 12])\n",
        "\n",
        "print('1D to 2D', '\\n', arr.reshape(4, 3))\n",
        "print('1D to 3D', '\\n', arr.reshape(2, 3, 2))\n",
        "\n",
        "#Can We Reshape Into any Shape?\n",
        "try:\n",
        "  print(arr.reshape(3, 3))\n",
        "except ValueError:\n",
        "  print(\"See? I'm here\")\n",
        "\n",
        "#Returns a view or a copy?\n",
        "print(arr.reshape(4, 3).base)\n",
        "\n",
        "#Unknown dimension\n",
        "print(arr.reshape(2, 2, -1))\n",
        "\n",
        "#Flattening the arrays\n",
        "print(arr.reshape(-1))"
      ],
      "metadata": {
        "id": "BA2Pk0hrPjei",
        "outputId": "d69519bf-a41c-4057-b8b8-6bb592f18961",
        "colab": {
          "base_uri": "https://localhost:8080/"
        }
      },
      "id": "BA2Pk0hrPjei",
      "execution_count": 11,
      "outputs": [
        {
          "output_type": "stream",
          "name": "stdout",
          "text": [
            "1D to 2D \n",
            " [[ 1  2  3]\n",
            " [ 4  5  6]\n",
            " [ 7  8  9]\n",
            " [10 11 12]]\n",
            "1D to 3D \n",
            " [[[ 1  2]\n",
            "  [ 3  4]\n",
            "  [ 5  6]]\n",
            "\n",
            " [[ 7  8]\n",
            "  [ 9 10]\n",
            "  [11 12]]]\n",
            "See? I'm here\n",
            "[ 1  2  3  4  5  6  7  8  9 10 11 12]\n",
            "[[[ 1  2  3]\n",
            "  [ 4  5  6]]\n",
            "\n",
            " [[ 7  8  9]\n",
            "  [10 11 12]]]\n",
            "[ 1  2  3  4  5  6  7  8  9 10 11 12]\n"
          ]
        }
      ]
    },
    {
      "cell_type": "markdown",
      "source": [
        "### NumPy Array Iterating\n",
        "#### Iterating Arrays\n",
        "As we deal with multi-dimensional arrays in numpy, we can do this using basic for loop of python.\n",
        "\n",
        "If we iterate on a n-D array it will go through n-1th dimension one by one.\n",
        "#### Iterating Arrays Using nditer()\n",
        "The function ***nditer()*** is a function that solves some basic issues which we face in iteration.\n",
        "##### Iterating on Each Scalar Element\n",
        "    for x in np.nditer(arr):\n",
        "      print(x)\n",
        "##### Iterating Array With Different Data Types\n",
        "We can use ***op_dtypes*** argument and pass it the expected datatype to change the datatype of elements while iterating.\n",
        "\n",
        "NumPy does not change the data type of the element in-place so it needs ***flags=['buffered']***.\n",
        "##### Iterating With Different Step Size\n",
        "We can use filtering and followed by iteration.\n",
        "#### Enumerated Iteration Using ndenumerate()\n",
        "Sometimes we require corresponding index of the element while iterating, the ***ndenumerate()*** method can be used for those usecases."
      ],
      "metadata": {
        "id": "E1-oSRBRRZjx"
      },
      "id": "E1-oSRBRRZjx"
    },
    {
      "cell_type": "code",
      "source": [
        "import numpy as np\n",
        "\n",
        "arr = np.array([[[1, 2, 3], [4, 5, 6]], [[7, 8, 9], [10, 11, 12]]])\n",
        "\n",
        "#Iterating arrays\n",
        "for x in arr:\n",
        "  print(x)\n",
        "for x in arr:\n",
        "  for y in x:\n",
        "    for z in y:\n",
        "      print(z)\n",
        "    \n",
        "##nditer()\n",
        "#Iterating on Each Scalar Element\n",
        "for x in np.nditer(arr):\n",
        "  print(x)\n",
        "#Iterating Array With Different Data Types\n",
        "for x in np.nditer(arr, flags=['buffered'], op_dtypes=['S']):\n",
        "  print(x)\n",
        "#Iterating With Different Step Size\n",
        "for x in np.nditer(arr[:, :, ::2]):\n",
        "  print(x)\n",
        "\n",
        "#Enumerated Iteration Using ndenumerate(\n",
        "for idx, x in np.ndenumerate(arr):\n",
        "  print(idx, x)"
      ],
      "metadata": {
        "id": "i3ytZp7PUcok",
        "outputId": "62366d68-9afd-4022-e0ea-079c182979dc",
        "colab": {
          "base_uri": "https://localhost:8080/"
        }
      },
      "id": "i3ytZp7PUcok",
      "execution_count": 13,
      "outputs": [
        {
          "output_type": "stream",
          "name": "stdout",
          "text": [
            "[[1 2 3]\n",
            " [4 5 6]]\n",
            "[[ 7  8  9]\n",
            " [10 11 12]]\n",
            "1\n",
            "2\n",
            "3\n",
            "4\n",
            "5\n",
            "6\n",
            "7\n",
            "8\n",
            "9\n",
            "10\n",
            "11\n",
            "12\n",
            "1\n",
            "2\n",
            "3\n",
            "4\n",
            "5\n",
            "6\n",
            "7\n",
            "8\n",
            "9\n",
            "10\n",
            "11\n",
            "12\n",
            "b'1'\n",
            "b'2'\n",
            "b'3'\n",
            "b'4'\n",
            "b'5'\n",
            "b'6'\n",
            "b'7'\n",
            "b'8'\n",
            "b'9'\n",
            "b'10'\n",
            "b'11'\n",
            "b'12'\n",
            "1\n",
            "3\n",
            "4\n",
            "6\n",
            "7\n",
            "9\n",
            "10\n",
            "12\n",
            "(0, 0, 0) 1\n",
            "(0, 0, 1) 2\n",
            "(0, 0, 2) 3\n",
            "(0, 1, 0) 4\n",
            "(0, 1, 1) 5\n",
            "(0, 1, 2) 6\n",
            "(1, 0, 0) 7\n",
            "(1, 0, 1) 8\n",
            "(1, 0, 2) 9\n",
            "(1, 1, 0) 10\n",
            "(1, 1, 1) 11\n",
            "(1, 1, 2) 12\n"
          ]
        }
      ]
    },
    {
      "cell_type": "markdown",
      "source": [
        "### Joining NumPy Arrays \n",
        "Joining means putting contents of two or more arrays in a single array.\n",
        "\n",
        "We pass a sequence of arrays that we want to join to the ***concatenate()*** function, along with the axis. If axis is not explicitly passed, it is taken as 0."
      ],
      "metadata": {
        "id": "rf2OC8YYQfQ8"
      },
      "id": "rf2OC8YYQfQ8"
    },
    {
      "cell_type": "code",
      "source": [
        "import numpy as np\n",
        "\n",
        "arr1 = np.array([1, 2, 3])\n",
        "arr2 = np.array([4, 5, 6])\n",
        "arr = np.concatenate((arr1, arr2))\n",
        "print(arr)\n",
        "\n",
        "arr1 = np.array([[1, 2], [3, 4]])\n",
        "arr2 = np.array([[5, 6], [7, 8]])\n",
        "arr = np.concatenate((arr1, arr2), axis = 1)\n",
        "print(arr)"
      ],
      "metadata": {
        "id": "fJcIoLEUQ533",
        "outputId": "3628d2ee-8ec5-4eda-9ad6-0153e24d10f6",
        "colab": {
          "base_uri": "https://localhost:8080/"
        }
      },
      "id": "fJcIoLEUQ533",
      "execution_count": 8,
      "outputs": [
        {
          "output_type": "stream",
          "name": "stdout",
          "text": [
            "[1 2 3 4 5 6]\n",
            "[[1 2 5 6]\n",
            " [3 4 7 8]]\n"
          ]
        }
      ]
    }
  ],
  "metadata": {
    "kernelspec": {
      "display_name": "Python 3 (ipykernel)",
      "language": "python",
      "name": "python3"
    },
    "language_info": {
      "codemirror_mode": {
        "name": "ipython",
        "version": 3
      },
      "file_extension": ".py",
      "mimetype": "text/x-python",
      "name": "python",
      "nbconvert_exporter": "python",
      "pygments_lexer": "ipython3",
      "version": "3.9.7"
    },
    "colab": {
      "name": "NumPy.ipynb",
      "provenance": [],
      "include_colab_link": true
    }
  },
  "nbformat": 4,
  "nbformat_minor": 5
}