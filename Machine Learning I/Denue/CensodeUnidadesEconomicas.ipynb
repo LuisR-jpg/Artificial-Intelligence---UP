{
 "cells": [
  {
   "cell_type": "code",
   "execution_count": 2,
   "id": "f8c3cbb1",
   "metadata": {},
   "outputs": [],
   "source": [
    "import pandas\n",
    "import numpy as np\n",
    "import matplotlib.pyplot as plt\n",
    "import seaborn as sns"
   ]
  },
  {
   "cell_type": "markdown",
   "id": "f0924b57",
   "metadata": {},
   "source": [
    "$ H(x) = - \\sum_x P(x) log_2 P(x) $\n",
    "\n",
    "$ IM(x, y) = \\sum_x \\sum_y P(x, y) log_2 \\frac{ P(x, y) }{ P(x)P(y) } $"
   ]
  },
  {
   "cell_type": "code",
   "execution_count": 12,
   "id": "228a05e3",
   "metadata": {},
   "outputs": [],
   "source": [
    "df = pandas.read_csv('../Datasets/denue_inegi.csv', encoding='ISO-8859-1')"
   ]
  },
  {
   "cell_type": "code",
   "execution_count": 49,
   "id": "b69cfec7",
   "metadata": {},
   "outputs": [],
   "source": [
    "def H(x):\n",
    "    m = len(x)\n",
    "    values, counts = np.unique(x, return_counts = True)\n",
    "    nCategories = len(values)\n",
    "    probabilities = counts/m\n",
    "    h = -np.sum(probabilities*np.log2(probabilities))\n",
    "    hMax = -np.log2(1/nCategories)\n",
    "    return h, hMax\n",
    "def IM(x, y):\n",
    "    allPairs = np.array([(i, j) for i in x for j in y])\n",
    "    print(allPairs)\n",
    "    pairs, pairsFrequency = np.unique(allPairs, return_counts = True, axis = 0)\n",
    "    print(pairs, pairsFrequency)"
   ]
  },
  {
   "cell_type": "code",
   "execution_count": null,
   "id": "9005b7c9",
   "metadata": {},
   "outputs": [
    {
     "name": "stdout",
     "output_type": "stream",
     "text": [
      "(1.522370914986196, 3.4594316186372973)\n"
     ]
    }
   ],
   "source": [
    "print(H(df['municipio'].values))\n",
    "#IM([1, 2, 3], [4, 5, 6])\n",
    "IM(df['municipio'].values, df['fecha_alta'].values)"
   ]
  },
  {
   "cell_type": "code",
   "execution_count": null,
   "id": "51e7e2f7",
   "metadata": {},
   "outputs": [],
   "source": [
    "sns.countplot(data = df, x = 'municipio')"
   ]
  },
  {
   "cell_type": "code",
   "execution_count": null,
   "id": "34bea3a3",
   "metadata": {},
   "outputs": [],
   "source": [
    "sns.countplot(data = df, y = 'municipio')"
   ]
  },
  {
   "cell_type": "code",
   "execution_count": null,
   "id": "284740d6",
   "metadata": {},
   "outputs": [],
   "source": [
    "sns.countplot(data = df, y = 'municipio', hue = 'per_ocu')"
   ]
  },
  {
   "cell_type": "code",
   "execution_count": null,
   "id": "5370cb3e",
   "metadata": {},
   "outputs": [],
   "source": [
    "sns.countplot(data = df, hue = 'municipio', y = 'per_ocu')"
   ]
  },
  {
   "cell_type": "markdown",
   "id": "823bedbd",
   "metadata": {},
   "source": [
    "## Filtros"
   ]
  },
  {
   "cell_type": "code",
   "execution_count": null,
   "id": "cffdbd3a",
   "metadata": {},
   "outputs": [],
   "source": [
    "iUno = df['nombre_act'].values == 'Escuelas de educación primaria del sector privado'\n",
    "iDos = df['nombre_act'].values == 'Escuelas de educación primaria del sector público'\n",
    "i = np.logical_or(iUno, iDos)"
   ]
  },
  {
   "cell_type": "code",
   "execution_count": null,
   "id": "a51c5783",
   "metadata": {},
   "outputs": [],
   "source": [
    "sns.countplot(y = df['municipio'].values[i], hue = df['nombre_act'].values[i])"
   ]
  },
  {
   "cell_type": "code",
   "execution_count": null,
   "id": "e922cb00",
   "metadata": {},
   "outputs": [],
   "source": [
    "plt.figure()\n",
    "plt.pie([10, 3, 4], labels = ['A', 'B', 'C'])\n"
   ]
  },
  {
   "cell_type": "code",
   "execution_count": null,
   "id": "1b6b6d30",
   "metadata": {},
   "outputs": [],
   "source": [
    "plt.figure()\n",
    "plt.subplot(1, 3, 1)\n",
    "plt.title('Aguascalientes')\n",
    "iAgs = df['municipio'].values == 'Aguascalientes'\n",
    "cUno = np.sum(np.logical_and(iUno, iAgs))\n",
    "cDos = np.sum(np.logical_and(iDos, iAgs))\n",
    "plt.pie([cUno, cDos], labels=['Privadas', 'Públicas'])\n",
    "plt.subplot(1, 3, 2)\n",
    "plt.title('Calvillo')\n",
    "iCal = df['municipio'].values == 'Calvillo'\n",
    "cUno = np.sum(np.logical_and(iUno, iCal))\n",
    "cDos = np.sum(np.logical_and(iDos, iCal))\n",
    "plt.pie([cUno, cDos], labels=['Privadas', 'Públicas'])\n",
    "plt.subplot(1, 3, 3)\n",
    "plt.title('Cosío')\n",
    "iCos = df['municipio'].values == 'Cosío'\n",
    "cUno = np.sum(np.logical_and(iUno, iCos))\n",
    "cDos = np.sum(np.logical_and(iDos, iCos))\n",
    "plt.pie([cUno, cDos], labels=['Privadas', 'Públicas'])\n",
    "plt.show()"
   ]
  }
 ],
 "metadata": {
  "kernelspec": {
   "display_name": "Python 3 (ipykernel)",
   "language": "python",
   "name": "python3"
  },
  "language_info": {
   "codemirror_mode": {
    "name": "ipython",
    "version": 3
   },
   "file_extension": ".py",
   "mimetype": "text/x-python",
   "name": "python",
   "nbconvert_exporter": "python",
   "pygments_lexer": "ipython3",
   "version": "3.9.7"
  }
 },
 "nbformat": 4,
 "nbformat_minor": 5
}
