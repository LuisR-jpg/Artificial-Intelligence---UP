{
 "cells": [
  {
   "cell_type": "code",
   "execution_count": 1,
   "id": "d516f58f",
   "metadata": {},
   "outputs": [],
   "source": [
    "import numpy as np\n",
    "import pandas\n",
    "import matplotlib.pyplot as plt\n",
    "from sklearn.linear_model import LogisticRegression\n",
    "from sklearn.model_selection import train_test_split\n",
    "from sklearn.metrics import mean_absolute_error\n",
    "from sklearn.datasets import make_circles,make_blobs\n",
    "from sklearn.datasets import load_digits, load_breast_cancer\n",
    "from sklearn.metrics import accuracy_score, f1_score, confusion_matrix"
   ]
  },
  {
   "cell_type": "code",
   "execution_count": 7,
   "id": "ac5580f9",
   "metadata": {},
   "outputs": [
    {
     "name": "stdout",
     "output_type": "stream",
     "text": [
      "X (50, 2)\n",
      "[1 0 0 1 1 0 1 1 0 1 0 1 0 1 1 1 1 1 0 0 0 0 0 0 1 1 1 0 0 0 0 0 1 1 1 0 0\n",
      " 0 0 1 0 1 1 1 1 1 1 0 0 0]\n"
     ]
    },
    {
     "data": {
      "image/png": "[encoded data removed]",
      "text/plain": [
       "<Figure size 432x288 with 1 Axes>"
      ]
     },
     "metadata": {
      "needs_background": "light"
     },
     "output_type": "display_data"
    }
   ],
   "source": [
    "X,y = make_blobs(n_samples=50,n_features=2,centers=2)\n",
    "print('X',X.shape)\n",
    "print(y)\n",
    "plt.figure()\n",
    "plt.scatter(X[:,0],X[:,1],c=y)\n",
    "plt.show()"
   ]
  },
  {
   "cell_type": "code",
   "execution_count": 8,
   "id": "16341fe0",
   "metadata": {},
   "outputs": [
    {
     "name": "stdout",
     "output_type": "stream",
     "text": [
      "[[1.15528075 0.36643162]]\n",
      "[-2.00380451]\n"
     ]
    },
    {
     "data": {
      "image/png": "[encoded data removed]",
      "text/plain": [
       "<Figure size 432x288 with 1 Axes>"
      ]
     },
     "metadata": {
      "needs_background": "light"
     },
     "output_type": "display_data"
    }
   ],
   "source": [
    "model = LogisticRegression()\n",
    "model.fit(X,y)\n",
    "print(model.coef_)\n",
    "print(model.intercept_)\n",
    "\n",
    "w0 = model.intercept_[0]\n",
    "w1 = model.coef_[0][0]\n",
    "w2 = model.coef_[0][1]\n",
    "\n",
    "m = -w1/w2\n",
    "b = -w0/w2\n",
    "\n",
    "plt.figure()\n",
    "plt.scatter(X[:,0],X[:,1],c=y)\n",
    "plt.plot([-7,-2],[-7*m+b, -2*m+b])\n",
    "plt.show()"
   ]
  },
  {
   "cell_type": "code",
   "execution_count": 9,
   "id": "a2da46c3",
   "metadata": {},
   "outputs": [],
   "source": [
    "class myLogisticRegression:\n",
    "    def __init__(self):\n",
    "        self.coef_ = None\n",
    "        self.intercept_ = None\n",
    "        \n",
    "    def h(self,X):\n",
    "        ns,nf = X.shape\n",
    "        c1 = np.ones((ns,1))\n",
    "        XX = np.concatenate((c1,X),axis=1)\n",
    "        W = np.zeros((nf+1,1))\n",
    "        W[0,0] = self.intercept_\n",
    "        W[1:,0] = self.coef_\n",
    "        WtX = np.dot(XX,W)\n",
    "        r = 1 / (1 + np.exp(-WtX))\n",
    "        return r.flatten()\n",
    "    \n",
    "    def cost(self,X,y):\n",
    "        hx = self.h(X)\n",
    "        c = - np.sum( y*np.log(hx) + (1-y)*np.log(1-hx) )\n",
    "        return c\n",
    "    \n",
    "    def dCost(self,X,y):\n",
    "        ns,nf = X.shape\n",
    "        hx = self.h(X)\n",
    "        c1 = np.ones((ns,1))\n",
    "        XX = np.concatenate((c1,X),axis=1)\n",
    "        dC = np.zeros((nf+1))\n",
    "        \n",
    "        for i in range(nf+1):\n",
    "            dC[i] = np.sum( ( hx - y )*(XX[:,i]) )\n",
    "        return dC\n",
    "    \n",
    "    def optimize(self,X,y):\n",
    "        ns,nf = X.shape\n",
    "        NMaxIter = 50000\n",
    "        \n",
    "        self.coef_ = np.zeros((nf))\n",
    "        self.intercept_ = 0\n",
    "        W = np.zeros((nf+1))\n",
    "        W[0] = self.intercept_\n",
    "        W[1:] = self.coef_\n",
    "        \n",
    "        c = self.cost(X,y)\n",
    "        dC = self.dCost(X,y)\n",
    "        ndC = np.linalg.norm(dC)\n",
    "        \n",
    "        eps = 1e-5\n",
    "        k = 0\n",
    "        while k<NMaxIter and ndC > eps: \n",
    "            alpha = 1.0 \n",
    "            P = -dC / ndC \n",
    "            W = W + alpha*P\n",
    "            self.intercept_ = W[0]\n",
    "            self.coef_ = W[1:]\n",
    "            \n",
    "            #print(k,self.intercept_,self.coef_)\n",
    "            c = self.cost(X,y)\n",
    "            dC = self.dCost(X,y)\n",
    "            ndC = np.linalg.norm(dC)\n",
    "            k = k+1\n",
    "        \n",
    "    def fit(self,X,y):\n",
    "        nsamples, nfeatures = X.shape\n",
    "        self.optimize(X,y)\n",
    "        \n",
    "    def predict(self):\n",
    "        pass"
   ]
  },
  {
   "cell_type": "code",
   "execution_count": 10,
   "id": "88e513e9",
   "metadata": {},
   "outputs": [
    {
     "name": "stdout",
     "output_type": "stream",
     "text": [
      "[5.32548462 2.38638983]\n",
      "-0.1518224877897027\n"
     ]
    },
    {
     "name": "stderr",
     "output_type": "stream",
     "text": [
      "C:\\Users\\lalor\\AppData\\Local\\Temp/ipykernel_5976/1391194892.py:19: RuntimeWarning: divide by zero encountered in log\n",
      "  c = - np.sum( y*np.log(hx) + (1-y)*np.log(1-hx) )\n",
      "C:\\Users\\lalor\\AppData\\Local\\Temp/ipykernel_5976/1391194892.py:19: RuntimeWarning: invalid value encountered in multiply\n",
      "  c = - np.sum( y*np.log(hx) + (1-y)*np.log(1-hx) )\n"
     ]
    },
    {
     "data": {
      "image/png": "[encoded data removed]",
      "text/plain": [
       "<Figure size 432x288 with 1 Axes>"
      ]
     },
     "metadata": {
      "needs_background": "light"
     },
     "output_type": "display_data"
    }
   ],
   "source": [
    "model = myLogisticRegression()\n",
    "model.fit(X,y)\n",
    "print(model.coef_)\n",
    "print(model.intercept_)\n",
    "w0 = model.intercept_\n",
    "w1 = model.coef_[0]\n",
    "w2 = model.coef_[1]\n",
    "\n",
    "m = -w1/w2\n",
    "b = -w0/w2\n",
    "\n",
    "plt.figure()\n",
    "plt.scatter(X[:,0],X[:,1],c=y)\n",
    "plt.plot([-7,-2],[-7*m+b, -2*m+b])\n",
    "plt.show()"
   ]
  }
 ],
 "metadata": {
  "kernelspec": {
   "display_name": "Python 3 (ipykernel)",
   "language": "python",
   "name": "python3"
  },
  "language_info": {
   "codemirror_mode": {
    "name": "ipython",
    "version": 3
   },
   "file_extension": ".py",
   "mimetype": "text/x-python",
   "name": "python",
   "nbconvert_exporter": "python",
   "pygments_lexer": "ipython3",
   "version": "3.9.7"
  }
 },
 "nbformat": 4,
 "nbformat_minor": 5
}
