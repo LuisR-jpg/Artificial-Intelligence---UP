{
  "nbformat": 4,
  "nbformat_minor": 0,
  "metadata": {
    "colab": {
      "name": "EjerciciosNumPy.ipynb",
      "provenance": [],
      "authorship_tag": "ABX9TyNNJN7xKLvpGncUFhcrSc+H",
      "include_colab_link": true
    },
    "kernelspec": {
      "name": "python3",
      "display_name": "Python 3"
    },
    "language_info": {
      "name": "python"
    }
  },
  "cells": [
    {
      "cell_type": "markdown",
      "metadata": {
        "id": "view-in-github",
        "colab_type": "text"
      },
      "source": [
        "<a href=\"https://colab.research.google.com/github/LuisR-jpg/School/blob/master/Machine%20Learning%20I/EjerciciosNumPy.ipynb\" target=\"_parent\"><img src=\"https://colab.research.google.com/assets/colab-badge.svg\" alt=\"Open In Colab\"/></a>"
      ]
    },
    {
      "cell_type": "code",
      "execution_count": 1,
      "metadata": {
        "id": "5sU4qzTsrsPV"
      },
      "outputs": [],
      "source": [
        "import numpy as np"
      ]
    },
    {
      "cell_type": "code",
      "source": [
        "arr = np.array([10, 40, 5, 7, 8])\n",
        "idx = arr >= 10\n",
        "print(idx)\n",
        "print(arr[idx])\n",
        "print(arr[np.argsort(arr)[:: -1]])"
      ],
      "metadata": {
        "colab": {
          "base_uri": "https://localhost:8080/"
        },
        "id": "xw96WUipuJDr",
        "outputId": "afdac4eb-ee48-410c-9ddb-4be26f0fda80"
      },
      "execution_count": 10,
      "outputs": [
        {
          "output_type": "stream",
          "name": "stdout",
          "text": [
            "[ True  True False False False]\n",
            "[10 40]\n",
            "[40 10  8  7  5]\n"
          ]
        }
      ]
    }
  ]
}