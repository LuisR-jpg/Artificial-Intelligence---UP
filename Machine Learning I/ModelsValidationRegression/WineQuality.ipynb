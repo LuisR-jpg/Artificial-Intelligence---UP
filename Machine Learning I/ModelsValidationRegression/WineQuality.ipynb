{
 "cells": [
  {
   "cell_type": "markdown",
   "id": "b5ebd815",
   "metadata": {},
   "source": [
    "# Wine Quality"
   ]
  },
  {
   "cell_type": "code",
   "execution_count": 56,
   "id": "95dfc11a",
   "metadata": {},
   "outputs": [],
   "source": [
    "import numpy as np\n",
    "import pandas\n",
    "import matplotlib.pyplot as plt\n",
    "\n",
    "# Training and testing sets\n",
    "from sklearn.model_selection import train_test_split\n",
    "from sklearn.model_selection import KFold\n",
    "\n",
    "# Regression models\n",
    "from sklearn.linear_model import LinearRegression\n",
    "from sklearn.ensemble import RandomForestRegressor\n",
    "from sklearn.neural_network import MLPRegressor\n",
    "\n",
    "# Metrics\n",
    "from sklearn.metrics import mean_absolute_error, mean_squared_error\n",
    "from sklearn.metrics import r2_score"
   ]
  },
  {
   "cell_type": "code",
   "execution_count": 30,
   "id": "c2332cb7",
   "metadata": {},
   "outputs": [
    {
     "data": {
      "text/html": [
       "<div>\n",
       "<style scoped>\n",
       "    .dataframe tbody tr th:only-of-type {\n",
       "        vertical-align: middle;\n",
       "    }\n",
       "\n",
       "    .dataframe tbody tr th {\n",
       "        vertical-align: top;\n",
       "    }\n",
       "\n",
       "    .dataframe thead th {\n",
       "        text-align: right;\n",
       "    }\n",
       "</style>\n",
       "<table border=\"1\" class=\"dataframe\">\n",
       "  <thead>\n",
       "    <tr style=\"text-align: right;\">\n",
       "      <th></th>\n",
       "      <th>fixed acidity</th>\n",
       "      <th>volatile acidity</th>\n",
       "      <th>citric acid</th>\n",
       "      <th>residual sugar</th>\n",
       "      <th>chlorides</th>\n",
       "      <th>free sulfur dioxide</th>\n",
       "      <th>total sulfur dioxide</th>\n",
       "      <th>density</th>\n",
       "      <th>pH</th>\n",
       "      <th>sulphates</th>\n",
       "      <th>alcohol</th>\n",
       "      <th>quality</th>\n",
       "    </tr>\n",
       "  </thead>\n",
       "  <tbody>\n",
       "    <tr>\n",
       "      <th>0</th>\n",
       "      <td>7.4</td>\n",
       "      <td>0.700</td>\n",
       "      <td>0.00</td>\n",
       "      <td>1.9</td>\n",
       "      <td>0.076</td>\n",
       "      <td>11.0</td>\n",
       "      <td>34.0</td>\n",
       "      <td>0.99780</td>\n",
       "      <td>3.51</td>\n",
       "      <td>0.56</td>\n",
       "      <td>9.4</td>\n",
       "      <td>5</td>\n",
       "    </tr>\n",
       "    <tr>\n",
       "      <th>1</th>\n",
       "      <td>7.8</td>\n",
       "      <td>0.880</td>\n",
       "      <td>0.00</td>\n",
       "      <td>2.6</td>\n",
       "      <td>0.098</td>\n",
       "      <td>25.0</td>\n",
       "      <td>67.0</td>\n",
       "      <td>0.99680</td>\n",
       "      <td>3.20</td>\n",
       "      <td>0.68</td>\n",
       "      <td>9.8</td>\n",
       "      <td>5</td>\n",
       "    </tr>\n",
       "    <tr>\n",
       "      <th>2</th>\n",
       "      <td>7.8</td>\n",
       "      <td>0.760</td>\n",
       "      <td>0.04</td>\n",
       "      <td>2.3</td>\n",
       "      <td>0.092</td>\n",
       "      <td>15.0</td>\n",
       "      <td>54.0</td>\n",
       "      <td>0.99700</td>\n",
       "      <td>3.26</td>\n",
       "      <td>0.65</td>\n",
       "      <td>9.8</td>\n",
       "      <td>5</td>\n",
       "    </tr>\n",
       "    <tr>\n",
       "      <th>3</th>\n",
       "      <td>11.2</td>\n",
       "      <td>0.280</td>\n",
       "      <td>0.56</td>\n",
       "      <td>1.9</td>\n",
       "      <td>0.075</td>\n",
       "      <td>17.0</td>\n",
       "      <td>60.0</td>\n",
       "      <td>0.99800</td>\n",
       "      <td>3.16</td>\n",
       "      <td>0.58</td>\n",
       "      <td>9.8</td>\n",
       "      <td>6</td>\n",
       "    </tr>\n",
       "    <tr>\n",
       "      <th>4</th>\n",
       "      <td>7.4</td>\n",
       "      <td>0.700</td>\n",
       "      <td>0.00</td>\n",
       "      <td>1.9</td>\n",
       "      <td>0.076</td>\n",
       "      <td>11.0</td>\n",
       "      <td>34.0</td>\n",
       "      <td>0.99780</td>\n",
       "      <td>3.51</td>\n",
       "      <td>0.56</td>\n",
       "      <td>9.4</td>\n",
       "      <td>5</td>\n",
       "    </tr>\n",
       "    <tr>\n",
       "      <th>...</th>\n",
       "      <td>...</td>\n",
       "      <td>...</td>\n",
       "      <td>...</td>\n",
       "      <td>...</td>\n",
       "      <td>...</td>\n",
       "      <td>...</td>\n",
       "      <td>...</td>\n",
       "      <td>...</td>\n",
       "      <td>...</td>\n",
       "      <td>...</td>\n",
       "      <td>...</td>\n",
       "      <td>...</td>\n",
       "    </tr>\n",
       "    <tr>\n",
       "      <th>1594</th>\n",
       "      <td>6.2</td>\n",
       "      <td>0.600</td>\n",
       "      <td>0.08</td>\n",
       "      <td>2.0</td>\n",
       "      <td>0.090</td>\n",
       "      <td>32.0</td>\n",
       "      <td>44.0</td>\n",
       "      <td>0.99490</td>\n",
       "      <td>3.45</td>\n",
       "      <td>0.58</td>\n",
       "      <td>10.5</td>\n",
       "      <td>5</td>\n",
       "    </tr>\n",
       "    <tr>\n",
       "      <th>1595</th>\n",
       "      <td>5.9</td>\n",
       "      <td>0.550</td>\n",
       "      <td>0.10</td>\n",
       "      <td>2.2</td>\n",
       "      <td>0.062</td>\n",
       "      <td>39.0</td>\n",
       "      <td>51.0</td>\n",
       "      <td>0.99512</td>\n",
       "      <td>3.52</td>\n",
       "      <td>0.76</td>\n",
       "      <td>11.2</td>\n",
       "      <td>6</td>\n",
       "    </tr>\n",
       "    <tr>\n",
       "      <th>1596</th>\n",
       "      <td>6.3</td>\n",
       "      <td>0.510</td>\n",
       "      <td>0.13</td>\n",
       "      <td>2.3</td>\n",
       "      <td>0.076</td>\n",
       "      <td>29.0</td>\n",
       "      <td>40.0</td>\n",
       "      <td>0.99574</td>\n",
       "      <td>3.42</td>\n",
       "      <td>0.75</td>\n",
       "      <td>11.0</td>\n",
       "      <td>6</td>\n",
       "    </tr>\n",
       "    <tr>\n",
       "      <th>1597</th>\n",
       "      <td>5.9</td>\n",
       "      <td>0.645</td>\n",
       "      <td>0.12</td>\n",
       "      <td>2.0</td>\n",
       "      <td>0.075</td>\n",
       "      <td>32.0</td>\n",
       "      <td>44.0</td>\n",
       "      <td>0.99547</td>\n",
       "      <td>3.57</td>\n",
       "      <td>0.71</td>\n",
       "      <td>10.2</td>\n",
       "      <td>5</td>\n",
       "    </tr>\n",
       "    <tr>\n",
       "      <th>1598</th>\n",
       "      <td>6.0</td>\n",
       "      <td>0.310</td>\n",
       "      <td>0.47</td>\n",
       "      <td>3.6</td>\n",
       "      <td>0.067</td>\n",
       "      <td>18.0</td>\n",
       "      <td>42.0</td>\n",
       "      <td>0.99549</td>\n",
       "      <td>3.39</td>\n",
       "      <td>0.66</td>\n",
       "      <td>11.0</td>\n",
       "      <td>6</td>\n",
       "    </tr>\n",
       "  </tbody>\n",
       "</table>\n",
       "<p>1599 rows × 12 columns</p>\n",
       "</div>"
      ],
      "text/plain": [
       "      fixed acidity  volatile acidity  citric acid  residual sugar  chlorides  \\\n",
       "0               7.4             0.700         0.00             1.9      0.076   \n",
       "1               7.8             0.880         0.00             2.6      0.098   \n",
       "2               7.8             0.760         0.04             2.3      0.092   \n",
       "3              11.2             0.280         0.56             1.9      0.075   \n",
       "4               7.4             0.700         0.00             1.9      0.076   \n",
       "...             ...               ...          ...             ...        ...   \n",
       "1594            6.2             0.600         0.08             2.0      0.090   \n",
       "1595            5.9             0.550         0.10             2.2      0.062   \n",
       "1596            6.3             0.510         0.13             2.3      0.076   \n",
       "1597            5.9             0.645         0.12             2.0      0.075   \n",
       "1598            6.0             0.310         0.47             3.6      0.067   \n",
       "\n",
       "      free sulfur dioxide  total sulfur dioxide  density    pH  sulphates  \\\n",
       "0                    11.0                  34.0  0.99780  3.51       0.56   \n",
       "1                    25.0                  67.0  0.99680  3.20       0.68   \n",
       "2                    15.0                  54.0  0.99700  3.26       0.65   \n",
       "3                    17.0                  60.0  0.99800  3.16       0.58   \n",
       "4                    11.0                  34.0  0.99780  3.51       0.56   \n",
       "...                   ...                   ...      ...   ...        ...   \n",
       "1594                 32.0                  44.0  0.99490  3.45       0.58   \n",
       "1595                 39.0                  51.0  0.99512  3.52       0.76   \n",
       "1596                 29.0                  40.0  0.99574  3.42       0.75   \n",
       "1597                 32.0                  44.0  0.99547  3.57       0.71   \n",
       "1598                 18.0                  42.0  0.99549  3.39       0.66   \n",
       "\n",
       "      alcohol  quality  \n",
       "0         9.4        5  \n",
       "1         9.8        5  \n",
       "2         9.8        5  \n",
       "3         9.8        6  \n",
       "4         9.4        5  \n",
       "...       ...      ...  \n",
       "1594     10.5        5  \n",
       "1595     11.2        6  \n",
       "1596     11.0        6  \n",
       "1597     10.2        5  \n",
       "1598     11.0        6  \n",
       "\n",
       "[1599 rows x 12 columns]"
      ]
     },
     "execution_count": 30,
     "metadata": {},
     "output_type": "execute_result"
    }
   ],
   "source": [
    "df = pandas.read_csv('../Datasets/winequality-red.csv')\n",
    "df"
   ]
  },
  {
   "cell_type": "code",
   "execution_count": 44,
   "id": "c389dbf2",
   "metadata": {},
   "outputs": [],
   "source": [
    "def getStats(yTest, yPred):\n",
    "    print('MAE', mean_absolute_error(yTest, yPred))\n",
    "    print('MSE', mean_squared_error(yTest, yPred))\n",
    "    print('R2 score:', r2_score(yTest, yPred))\n",
    "    plt.figure(figsize = (10, 5))\n",
    "    plt.subplot(1, 2, 1)\n",
    "    plt.boxplot([yTest, yPred], labels = ['yTest', 'yPred'])\n",
    "    plt.subplot(1, 2, 2)\n",
    "    mini, maxi = 0, 0\n",
    "    plt.scatter(yTest, yPred)\n",
    "    plt.plot([mini := np.min([*yTest, *yPred]), maxi := np.max([*yTest, *yPred])], [mini, maxi])\n",
    "    plt.show()"
   ]
  },
  {
   "cell_type": "markdown",
   "id": "8ea8afe7",
   "metadata": {},
   "source": [
    "## First Experiment"
   ]
  },
  {
   "cell_type": "markdown",
   "id": "436d4612",
   "metadata": {},
   "source": [
    "### Randomly divide the data into training (70%) and testing (30%) sets"
   ]
  },
  {
   "cell_type": "code",
   "execution_count": 26,
   "id": "d6f65d70",
   "metadata": {},
   "outputs": [
    {
     "name": "stdout",
     "output_type": "stream",
     "text": [
      "X: (1599, 11) Y: 1599\n",
      "xTrain: (1119, 11) yTrain: 1119\n",
      "xTest: (480, 11) yTest: 480\n"
     ]
    }
   ],
   "source": [
    "x, y = df.values[:, :-1], df.values[:, -1]\n",
    "xTrain, xTest, yTrain, yTest = train_test_split(x, y, test_size = 0.3, random_state = 0) #Random-state is the seed\n",
    "print('X:', x.shape, 'Y:', len(y))\n",
    "print('xTrain:', xTrain.shape, 'yTrain:', len(yTrain))\n",
    "print('xTest:', xTest.shape, 'yTest:', len(yTest))"
   ]
  },
  {
   "cell_type": "markdown",
   "id": "c63cc35e",
   "metadata": {},
   "source": [
    "### Generate three regression models: \n",
    "\n",
    "#### Linear Regression\n"
   ]
  },
  {
   "cell_type": "code",
   "execution_count": 48,
   "id": "6d5c3ec9",
   "metadata": {},
   "outputs": [],
   "source": [
    "model = LinearRegression()\n",
    "model.fit(xTrain, yTrain)\n",
    "yPred = model.predict(xTest)"
   ]
  },
  {
   "cell_type": "markdown",
   "id": "79210f24",
   "metadata": {},
   "source": [
    "##### Print:\n",
    "\n",
    "- MAE\n",
    "- MSE\n",
    "- R2 score, coefficient of determination\n",
    "- Boxplot of the quality\n",
    "- Scatter plot of real and predicted outputs"
   ]
  },
  {
   "cell_type": "code",
   "execution_count": 49,
   "id": "cb957d41",
   "metadata": {},
   "outputs": [
    {
     "name": "stdout",
     "output_type": "stream",
     "text": [
      "MAE 0.4871262164592858\n",
      "MSE 0.4007803663750101\n",
      "R2 score: 0.3207112434321864\n"
     ]
    },
    {
     "data": {
      "image/png": "[encoded data removed]",
      "text/plain": [
       "<Figure size 720x360 with 2 Axes>"
      ]
     },
     "metadata": {
      "needs_background": "light"
     },
     "output_type": "display_data"
    }
   ],
   "source": [
    "getStats(yTest, yPred)"
   ]
  },
  {
   "cell_type": "markdown",
   "id": "fbce0de8",
   "metadata": {},
   "source": [
    "#### Random Forest"
   ]
  },
  {
   "cell_type": "code",
   "execution_count": 50,
   "id": "d3a155a0",
   "metadata": {},
   "outputs": [],
   "source": [
    "model = RandomForestRegressor(random_state=0)\n",
    "model.fit(xTrain, yTrain)\n",
    "yPred = model.predict(xTest)"
   ]
  },
  {
   "cell_type": "markdown",
   "id": "bc59f5ac",
   "metadata": {},
   "source": [
    "##### Print:\n",
    "\n",
    "- MAE\n",
    "- MSE\n",
    "- R2 score, coefficient of determination\n",
    "- Boxplot of the quality\n",
    "- Scatter plot of real and predicted outputs"
   ]
  },
  {
   "cell_type": "code",
   "execution_count": 51,
   "id": "bcdecc0d",
   "metadata": {},
   "outputs": [
    {
     "name": "stdout",
     "output_type": "stream",
     "text": [
      "MAE 0.43652083333333336\n",
      "MSE 0.3536022916666666\n",
      "R2 score: 0.4006740819209039\n"
     ]
    },
    {
     "data": {
      "image/png": "[encoded data removed]",
      "text/plain": [
       "<Figure size 720x360 with 2 Axes>"
      ]
     },
     "metadata": {
      "needs_background": "light"
     },
     "output_type": "display_data"
    }
   ],
   "source": [
    "getStats(yTest, yPred)"
   ]
  },
  {
   "cell_type": "markdown",
   "id": "3f3cd5c4",
   "metadata": {},
   "source": [
    "#### MultiLayer Perceptron"
   ]
  },
  {
   "cell_type": "code",
   "execution_count": 52,
   "id": "ee53649d",
   "metadata": {},
   "outputs": [],
   "source": [
    "model = MLPRegressor(random_state=0)\n",
    "model.fit(xTrain, yTrain)\n",
    "yPred = model.predict(xTest)"
   ]
  },
  {
   "cell_type": "markdown",
   "id": "5b4d0411",
   "metadata": {},
   "source": [
    "##### Print:\n",
    "\n",
    "- MAE\n",
    "- MSE\n",
    "- R2 score, coefficient of determination\n",
    "- Boxplot of the quality\n",
    "- Scatter plot of real and predicted outputs"
   ]
  },
  {
   "cell_type": "code",
   "execution_count": 54,
   "id": "be185f82",
   "metadata": {},
   "outputs": [
    {
     "name": "stdout",
     "output_type": "stream",
     "text": [
      "MAE 0.5438516464356039\n",
      "MSE 0.4550963050367226\n",
      "R2 score: 0.22865033044623284\n"
     ]
    },
    {
     "data": {
      "image/png": "[encoded data removed]",
      "text/plain": [
       "<Figure size 720x360 with 2 Axes>"
      ]
     },
     "metadata": {
      "needs_background": "light"
     },
     "output_type": "display_data"
    }
   ],
   "source": [
    "getStats(yTest, yPred)"
   ]
  },
  {
   "cell_type": "markdown",
   "id": "6035d849",
   "metadata": {},
   "source": [
    "## Second Experiment\n"
   ]
  },
  {
   "cell_type": "markdown",
   "id": "69c5e70c",
   "metadata": {},
   "source": [
    "### Randomly divide the data into 5 splits using [K-fold](https://scikit-learn.org/stable/modules/generated/sklearn.model_selection.KFold.html).\n",
    "\n"
   ]
  },
  {
   "cell_type": "code",
   "execution_count": 57,
   "id": "b9476520",
   "metadata": {},
   "outputs": [],
   "source": [
    "kf = KFold(n_splits = 5, random_state = 0, shuffle = True)"
   ]
  },
  {
   "cell_type": "markdown",
   "id": "2f0832ea",
   "metadata": {},
   "source": [
    "### For each iteration\n",
    "\n",
    "#### Create three models: \n",
    "- Linear Regression\n",
    "\n",
    "- Random Forest\n",
    "\n",
    "- MultiLayer Perceptron\n"
   ]
  },
  {
   "cell_type": "code",
   "execution_count": 59,
   "id": "c2195a65",
   "metadata": {},
   "outputs": [],
   "source": [
    "resultsL, resultsR, resultsM = [], [], []\n",
    "for trainI, testI in kf.split(x):\n",
    "    xTrain, yTrain = x[trainI, :], y[trainI]\n",
    "    xTest, yTest = x[testI, :], y[testI]\n",
    "    \n",
    "    modelL = LinearRegression()\n",
    "    modelL.fit(xTrain, yTrain)\n",
    "    yPredL = modelL.predict(xTest)\n",
    "    resultsL.append(r2_score(yTest, yPredL))\n",
    "\n",
    "    modelR = RandomForestRegressor(random_state=0)\n",
    "    modelR.fit(xTrain, yTrain)\n",
    "    yPredR = modelR.predict(xTest)\n",
    "    resultsR.append(r2_score(yTest, yPredR))\n",
    "\n",
    "    modelM = MLPRegressor(random_state=0)\n",
    "    modelM.fit(xTrain, yTrain)\n",
    "    yPredM = modelM.predict(xTest)\n",
    "    resultsM.append(r2_score(yTest, yPredM))    "
   ]
  },
  {
   "cell_type": "markdown",
   "id": "4bc75a10",
   "metadata": {},
   "source": [
    "\n",
    "## Generate a visualization\n",
    "\n",
    "With three boxplots (each one per type of model) showing the values of R2 score."
   ]
  },
  {
   "cell_type": "code",
   "execution_count": 60,
   "id": "92cc5d9b",
   "metadata": {},
   "outputs": [
    {
     "data": {
      "image/png": "[encoded data removed]",
      "text/plain": [
       "<Figure size 432x288 with 1 Axes>"
      ]
     },
     "metadata": {
      "needs_background": "light"
     },
     "output_type": "display_data"
    }
   ],
   "source": [
    "plt.figure()\n",
    "plt.suptitle('MODELS')\n",
    "plt.boxplot([resultsL, resultsR, resultsM], labels = ['Linear Regression', 'Random Forest', 'Multilayer Perceptron'])\n",
    "plt.show()"
   ]
  },
  {
   "cell_type": "markdown",
   "id": "a6c7669c",
   "metadata": {},
   "source": [
    "# Conclusion\n",
    "\n",
    "**Finally, write a small paragraph analyzing the results describing which one is the best model for this kind of data.**"
   ]
  },
  {
   "cell_type": "markdown",
   "id": "1342a301",
   "metadata": {},
   "source": [
    "> Based on the results of the experiments, I can see that this kind of data is harder to predict and it can be because of many reasons.\n",
    "\n",
    "> As it's harder, results were worse than expected, but still, there's this model called Random Forest that was able to do way better than the others."
   ]
  }
 ],
 "metadata": {
  "kernelspec": {
   "display_name": "Python 3 (ipykernel)",
   "language": "python",
   "name": "python3"
  },
  "language_info": {
   "codemirror_mode": {
    "name": "ipython",
    "version": 3
   },
   "file_extension": ".py",
   "mimetype": "text/x-python",
   "name": "python",
   "nbconvert_exporter": "python",
   "pygments_lexer": "ipython3",
   "version": "3.9.7"
  }
 },
 "nbformat": 4,
 "nbformat_minor": 5
}
