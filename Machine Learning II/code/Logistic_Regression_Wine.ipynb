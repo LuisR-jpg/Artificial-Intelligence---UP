{
  "cells": [
    {
      "cell_type": "markdown",
      "metadata": {
        "id": "_ZLAvEgfPNL2"
      },
      "source": [
        "# Logistic regresion:"
      ]
    },
    {
      "cell_type": "markdown",
      "metadata": {
        "id": "rE9QtzDbUDx7"
      },
      "source": [
        "Links of additional good resources:\n",
        "\n",
        "  Github of \"Python Data Science Handbook\": https://github.com/jakevdp/PythonDataScienceHandbook\n",
        "\n",
        "  Colab version of \"Python Data Science Handbook\": https://colab.research.google.com/github/jakevdp/PythonDataScienceHandbook/blob/master/notebooks/Index.ipynb\n",
        "\n",
        "  A Colab related to Scikit-Learn: https://colab.research.google.com/github/rugantio/MachineLearningCourse/blob/master/class06_Scikit-Learn.ipynb#scrollTo=9AsDtWyfJJau\n"
      ]
    },
    {
      "cell_type": "markdown",
      "metadata": {
        "id": "dqFEDb9TJJam"
      },
      "source": [
        "## Loading the Wine Data with Scikit-Learn\n",
        "\n",
        "As an example of a simple dataset, we're going to take a look at the Wine Dataset.\n",
        "  \n",
        "``scikit-learn`` embeds a copy of the iris CSV file along with a helper function to load it into numpy arrays:"
      ]
    },
    {
      "cell_type": "code",
      "execution_count": 17,
      "metadata": {
        "colab": {
          "base_uri": "https://localhost:8080/"
        },
        "id": "J7vLELxOi81V",
        "outputId": "0f7a88eb-82d3-4733-bda2-7fd27ccc2931"
      },
      "outputs": [
        {
          "name": "stdout",
          "output_type": "stream",
          "text": [
            "(178, 2)\n",
            "(178,)\n"
          ]
        },
        {
          "name": "stderr",
          "output_type": "stream",
          "text": [
            "/tmp/ipykernel_5890/2474644459.py:7: DeprecationWarning: `np.int` is a deprecated alias for the builtin `int`. To silence this warning, use `int` by itself. Doing this will not modify any behavior and is safe. When replacing `np.int`, you may wish to use e.g. `np.int64` or `np.int32` to specify the precision. If you wish to review your current use, check the release note link for additional information.\n",
            "Deprecated in NumPy 1.20; for more details and guidance: https://numpy.org/devdocs/release/1.20.0-notes.html#deprecations\n",
            "  y = (wine_data[\"target\"] == 2).astype(np.int) # 1 if type of wine is of the class 2, else 0\n"
          ]
        }
      ],
      "source": [
        "import numpy as np\n",
        "from sklearn import datasets\n",
        "\n",
        "wine_data = datasets.load_wine()\n",
        "\n",
        "X = wine_data[\"data\"][:, :2] #We are taking only the first 2 features of the dataset\n",
        "y = (wine_data[\"target\"] == 2).astype(np.int) # 1 if type of wine is of the class 2, else 0\n",
        "\n",
        "print(X.shape) #We have 178 registries on the dataset\n",
        "print(y.shape) "
      ]
    },
    {
      "cell_type": "code",
      "execution_count": 18,
      "metadata": {
        "colab": {
          "base_uri": "https://localhost:8080/"
        },
        "id": "0s9i1FO5eaDF",
        "outputId": "0837ff40-8e4a-4205-b332-3c2b508ab2a7"
      },
      "outputs": [
        {
          "data": {
            "text/plain": [
              "[1.0, 0.0, (178, 2)]"
            ]
          },
          "execution_count": 18,
          "metadata": {},
          "output_type": "execute_result"
        }
      ],
      "source": [
        "from sklearn import preprocessing\n",
        "\n",
        "mm_scaler = preprocessing.MinMaxScaler()\n",
        "X_train_minmax = mm_scaler.fit_transform(X)\n",
        "\n",
        "X = X_train_minmax\n",
        "statistic = [np.amax(X_train_minmax), np.amin(X_train_minmax), X.shape]\n",
        "statistic"
      ]
    },
    {
      "cell_type": "markdown",
      "metadata": {
        "id": "Vy_iwZsyerVQ"
      },
      "source": [
        "## Split Dataset into Train/Test"
      ]
    },
    {
      "cell_type": "code",
      "execution_count": 19,
      "metadata": {
        "id": "2Uumaotmekfd"
      },
      "outputs": [],
      "source": [
        "from sklearn.model_selection import train_test_split\n",
        "\n",
        "X_train, X_test, y_train, y_test = train_test_split(X, y, test_size = .10, random_state = 42)"
      ]
    },
    {
      "cell_type": "markdown",
      "metadata": {
        "id": "liwWpvV4jfrj"
      },
      "source": [
        "## Deffinitions and the class to predict, calculate the loss and train the logistic model"
      ]
    },
    {
      "cell_type": "code",
      "execution_count": 20,
      "metadata": {
        "id": "ogc2NiWEeqEU"
      },
      "outputs": [],
      "source": [
        "\n",
        "def _sigmoid(z):\n",
        "    return 1.0/(1 + np.exp(-(z)))\n",
        "\n",
        "def _loss(y, y_hat):\n",
        "    #epsilon = 0.000000000001 #0.000 000 000 001\n",
        "    loss = -np.mean(y * (np.log(y_hat)) + (1 - y) * np.log(1 - y_hat))# + epsilon))\n",
        "    #print(\"loss\")\n",
        "    #print(loss)\n",
        "    return loss\n",
        "\n",
        "\n",
        "class LogisticReg:\n",
        "    \n",
        "    def __init__(self, lr = 0.01, epochs = 100):\n",
        "        self.lr = lr\n",
        "        self.epochs = epochs\n",
        "        self.weights = None\n",
        "        self.bias = None\n",
        "    \n",
        "    # training step\n",
        "    def fit(self, X, y, debug = False):\n",
        "        \n",
        "        # m is the size of samples\n",
        "        # n is the size of features\n",
        "        m, n = X.shape\n",
        "        \n",
        "        self.weights = np.zeros((n, 1))\n",
        "        self.bias = 0\n",
        "        \n",
        "        # for safety\n",
        "        y = y.reshape(m, 1)\n",
        "        \n",
        "        # save the history, for debug information\n",
        "        losses = list()\n",
        "        b_list = list()\n",
        "        w_list = list()\n",
        "        \n",
        "        # gradient loop\n",
        "        for epoch in range(self.epochs):\n",
        "            \n",
        "            # calculate prediction\n",
        "            y_hat = _sigmoid(np.dot(X, self.weights) + self.bias)\n",
        "            \n",
        "            # calculate and save current loss\n",
        "            loss = _loss(y, y_hat)\n",
        "            losses.append(loss)\n",
        "            \n",
        "            # calculate gradient\n",
        "            dw = (1/m) * np.dot(X.T, (y_hat - y))\n",
        "            db = (1/m) * np.sum((y_hat - y))\n",
        "            \n",
        "            # update parameters\n",
        "            self.weights = self.weights - self.lr * dw            \n",
        "            self.bias = self.bias - self.lr * db\n",
        "            \n",
        "            # save the parameters\n",
        "            w_list.append(self.weights)\n",
        "            b_list.append(self.bias)\n",
        "            \n",
        "            # print\n",
        "            if (debug and epoch % 1000 == 0):\n",
        "                print(f\"epoch: {epoch}, loss: {np.round(loss, 4)}\")  #, y_hat: {y_hat[0]}\")\n",
        "                \n",
        "        return self.weights, self.bias, losses, b_list, w_list    \n",
        "\n",
        "    # the probability predicted\n",
        "    def prob_predict(self, X):\n",
        "        preds = _sigmoid(np.dot(X.T, self.weights) + self.bias)\n",
        "        return np.array(preds)\n",
        "\n",
        "    # the class predicted\n",
        "    def predict(self, X):\n",
        "        preds = self.prob_predict(X)\n",
        "        pred_class = [1 if i > 0.5 else 0 for i in preds]\n",
        "        return np.array(pred_class)\n",
        "\n"
      ]
    },
    {
      "cell_type": "code",
      "execution_count": 21,
      "metadata": {
        "colab": {
          "base_uri": "https://localhost:8080/"
        },
        "id": "ZZ4DFRHSezkz",
        "outputId": "1a998381-7046-4e28-9175-daca5e6e238f"
      },
      "outputs": [
        {
          "name": "stdout",
          "output_type": "stream",
          "text": [
            "epoch: 0, loss: 0.6931\n",
            "epoch: 1000, loss: 0.5766\n",
            "epoch: 2000, loss: 0.5527\n",
            "epoch: 3000, loss: 0.5331\n",
            "epoch: 4000, loss: 0.5169\n",
            "epoch: 5000, loss: 0.5034\n",
            "epoch: 6000, loss: 0.4923\n",
            "epoch: 7000, loss: 0.4829\n",
            "epoch: 8000, loss: 0.4751\n",
            "epoch: 9000, loss: 0.4685\n",
            "epoch: 10000, loss: 0.4629\n",
            "epoch: 11000, loss: 0.4581\n",
            "epoch: 12000, loss: 0.454\n",
            "epoch: 13000, loss: 0.4505\n",
            "epoch: 14000, loss: 0.4474\n",
            "epoch: 15000, loss: 0.4447\n",
            "epoch: 16000, loss: 0.4424\n",
            "epoch: 17000, loss: 0.4404\n",
            "epoch: 18000, loss: 0.4386\n",
            "epoch: 19000, loss: 0.437\n",
            "epoch: 20000, loss: 0.4356\n",
            "epoch: 21000, loss: 0.4344\n",
            "epoch: 22000, loss: 0.4333\n",
            "epoch: 23000, loss: 0.4323\n",
            "epoch: 24000, loss: 0.4314\n",
            "epoch: 25000, loss: 0.4306\n",
            "epoch: 26000, loss: 0.4299\n",
            "epoch: 27000, loss: 0.4293\n",
            "epoch: 28000, loss: 0.4287\n",
            "epoch: 29000, loss: 0.4282\n",
            "epoch: 30000, loss: 0.4277\n",
            "epoch: 31000, loss: 0.4273\n",
            "epoch: 32000, loss: 0.4269\n",
            "epoch: 33000, loss: 0.4265\n",
            "epoch: 34000, loss: 0.4262\n",
            "epoch: 35000, loss: 0.4259\n",
            "epoch: 36000, loss: 0.4256\n",
            "epoch: 37000, loss: 0.4254\n",
            "epoch: 38000, loss: 0.4252\n",
            "epoch: 39000, loss: 0.4249\n",
            "epoch: 40000, loss: 0.4248\n",
            "epoch: 41000, loss: 0.4246\n",
            "epoch: 42000, loss: 0.4244\n",
            "epoch: 43000, loss: 0.4243\n",
            "epoch: 44000, loss: 0.4241\n",
            "epoch: 45000, loss: 0.424\n",
            "epoch: 46000, loss: 0.4239\n",
            "epoch: 47000, loss: 0.4238\n",
            "epoch: 48000, loss: 0.4237\n",
            "epoch: 49000, loss: 0.4236\n",
            "epoch: 50000, loss: 0.4235\n",
            "epoch: 51000, loss: 0.4234\n",
            "epoch: 52000, loss: 0.4234\n",
            "epoch: 53000, loss: 0.4233\n",
            "epoch: 54000, loss: 0.4233\n",
            "epoch: 55000, loss: 0.4232\n",
            "epoch: 56000, loss: 0.4231\n",
            "epoch: 57000, loss: 0.4231\n",
            "epoch: 58000, loss: 0.423\n",
            "epoch: 59000, loss: 0.423\n",
            "epoch: 60000, loss: 0.423\n",
            "epoch: 61000, loss: 0.4229\n",
            "epoch: 62000, loss: 0.4229\n",
            "epoch: 63000, loss: 0.4229\n",
            "epoch: 64000, loss: 0.4228\n",
            "epoch: 65000, loss: 0.4228\n",
            "epoch: 66000, loss: 0.4228\n",
            "epoch: 67000, loss: 0.4228\n",
            "epoch: 68000, loss: 0.4227\n",
            "epoch: 69000, loss: 0.4227\n",
            "epoch: 70000, loss: 0.4227\n",
            "epoch: 71000, loss: 0.4227\n",
            "epoch: 72000, loss: 0.4227\n",
            "epoch: 73000, loss: 0.4227\n",
            "epoch: 74000, loss: 0.4226\n",
            "epoch: 75000, loss: 0.4226\n",
            "epoch: 76000, loss: 0.4226\n",
            "epoch: 77000, loss: 0.4226\n",
            "epoch: 78000, loss: 0.4226\n",
            "epoch: 79000, loss: 0.4226\n",
            "epoch: 80000, loss: 0.4226\n",
            "epoch: 81000, loss: 0.4226\n",
            "epoch: 82000, loss: 0.4226\n",
            "epoch: 83000, loss: 0.4225\n",
            "epoch: 84000, loss: 0.4225\n",
            "epoch: 85000, loss: 0.4225\n",
            "epoch: 86000, loss: 0.4225\n",
            "epoch: 87000, loss: 0.4225\n",
            "epoch: 88000, loss: 0.4225\n",
            "epoch: 89000, loss: 0.4225\n",
            "epoch: 90000, loss: 0.4225\n",
            "epoch: 91000, loss: 0.4225\n",
            "epoch: 92000, loss: 0.4225\n",
            "epoch: 93000, loss: 0.4225\n",
            "epoch: 94000, loss: 0.4225\n",
            "epoch: 95000, loss: 0.4225\n",
            "epoch: 96000, loss: 0.4225\n",
            "epoch: 97000, loss: 0.4225\n",
            "epoch: 98000, loss: 0.4225\n",
            "epoch: 99000, loss: 0.4225\n"
          ]
        },
        {
          "data": {
            "text/plain": [
              "(array([[1.366297  ],\n",
              "        [6.36112424]]),\n",
              " -3.9438856808084815)"
            ]
          },
          "execution_count": 21,
          "metadata": {},
          "output_type": "execute_result"
        }
      ],
      "source": [
        "model = LogisticReg(lr = 0.01, epochs = 100000)\n",
        "w, b, loss, b_list, w_list = model.fit(X_train, y_train, debug = True)\n",
        "w, b"
      ]
    },
    {
      "cell_type": "markdown",
      "metadata": {
        "id": "XsBPMhfRe8TO"
      },
      "source": [
        "## Plot the loss through the training"
      ]
    },
    {
      "cell_type": "code",
      "execution_count": 22,
      "metadata": {
        "colab": {
          "base_uri": "https://localhost:8080/",
          "height": 279
        },
        "id": "8dZih2zwe61L",
        "outputId": "b929a245-deb6-441d-efd3-80e19eb07ae0"
      },
      "outputs": [
        {
          "data": {
            "image/png": "[encoded data removed]",
            "text/plain": [
              "<Figure size 640x480 with 1 Axes>"
            ]
          },
          "metadata": {},
          "output_type": "display_data"
        }
      ],
      "source": [
        "import matplotlib.pyplot as plt\n",
        "\n",
        "plt.plot(np.arange(len(loss)), loss)\n",
        "plt.xlabel(\"Epoch\")\n",
        "plt.ylabel(\"Loss\")\n",
        "\n",
        "plt.show()"
      ]
    },
    {
      "cell_type": "markdown",
      "metadata": {
        "id": "Q3pFoxMlkZUP"
      },
      "source": [
        "## Plot the results"
      ]
    },
    {
      "cell_type": "code",
      "execution_count": 23,
      "metadata": {
        "colab": {
          "base_uri": "https://localhost:8080/",
          "height": 283
        },
        "id": "vnSayy-ZFKM0",
        "outputId": "a973cbc3-6bc3-46a7-b34b-cb51f8711b3b"
      },
      "outputs": [
        {
          "data": {
            "image/png": "[encoded data removed]",
            "text/plain": [
              "<Figure size 640x480 with 2 Axes>"
            ]
          },
          "metadata": {},
          "output_type": "display_data"
        }
      ],
      "source": [
        "# probability decision surface for logistic regression on a binary classification dataset\n",
        "from numpy import where\n",
        "from numpy import meshgrid\n",
        "from numpy import arange\n",
        "from numpy import hstack\n",
        "from sklearn.datasets import make_blobs\n",
        "from sklearn.linear_model import LogisticRegression\n",
        "from matplotlib import pyplot\n",
        "  # generate dataset\n",
        "  #X, y = make_blobs(n_samples=1000, centers=2, n_features=2, random_state=1, cluster_std=3)\n",
        "# define bounds of the domain\n",
        "min1, max1 = X[:, 0].min()-0.1, X[:, 0].max()+0.1\n",
        "min2, max2 = X[:, 1].min()-0.1, X[:, 1].max()+0.1\n",
        "# define the x and y scale\n",
        "x1grid = arange(min1, max1, 0.1)\n",
        "x2grid = arange(min2, max2, 0.1)\n",
        "# create all of the lines and rows of the grid\n",
        "xx, yy = meshgrid(x1grid, x2grid)\n",
        "# flatten each grid to a vector\n",
        "r1, r2 = xx.flatten(), yy.flatten()\n",
        "r1, r2 = r1.reshape((len(r1), 1)), r2.reshape((len(r2), 1))\n",
        "# horizontal stack vectors to create x1,x2 input for the model\n",
        "grid = hstack((r1,r2))\n",
        "  # define the model\n",
        "  #model = LogisticRegression()\n",
        "  # fit the model\n",
        "  #model.fit(X, y)\n",
        "# make predictions for the grid\n",
        "yhat = model.prob_predict(grid.T)\n",
        "# keep just the probabilities for class 0\n",
        "yhat = yhat[:, 0]\n",
        "# reshape the predictions back into a grid\n",
        "zz = yhat.reshape(xx.shape)\n",
        "# plot the grid of x, y and z values as a surface\n",
        "c = pyplot.contourf(xx, yy, zz, cmap='RdBu')\n",
        "# add a legend, called a color bar\n",
        "pyplot.colorbar(c)\n",
        "# create scatter plot for samples from each class\n",
        "for class_value in range(2):\n",
        "\t# get row indexes for samples with this class\n",
        "\trow_ix = where(y == class_value)\n",
        "\t# create scatter of these samples\n",
        "\tpyplot.scatter(X[row_ix, 0], X[row_ix, 1], cmap='Paired')\n",
        "#Names of the axis:\n",
        "plt.xlabel(\"Feature X1\")\n",
        "plt.ylabel(\"Feature X2\")\n",
        "# show the plot\n",
        "pyplot.show()"
      ]
    },
    {
      "cell_type": "markdown",
      "metadata": {
        "id": "CdS3snHzfHBO"
      },
      "source": [
        "## Accuracy on test and training sets"
      ]
    },
    {
      "cell_type": "code",
      "execution_count": 24,
      "metadata": {
        "colab": {
          "base_uri": "https://localhost:8080/"
        },
        "id": "_pO2D9fpfEHi",
        "outputId": "84206ba8-cc3f-4e6c-8e6d-2674cd3464d8"
      },
      "outputs": [
        {
          "name": "stdout",
          "output_type": "stream",
          "text": [
            "Accuracy on  test:  0.6666666666666666\n"
          ]
        }
      ],
      "source": [
        "def accuracy(y, y_hat):\n",
        "    accuracy = np.sum(y == y_hat) / len(y)\n",
        "    return accuracy\n",
        "\n",
        "\n",
        "print(\"Accuracy on  test: \", accuracy(y_test, y_hat=model.predict(X_test.T)))"
      ]
    },
    {
      "cell_type": "code",
      "execution_count": 25,
      "metadata": {
        "colab": {
          "base_uri": "https://localhost:8080/"
        },
        "id": "sWUQKpc1fJrZ",
        "outputId": "7697d431-5c2d-489f-d012-30716a64a664"
      },
      "outputs": [
        {
          "name": "stdout",
          "output_type": "stream",
          "text": [
            "Accuracy on  train:  0.81875\n"
          ]
        }
      ],
      "source": [
        "print(\"Accuracy on  train: \", accuracy(y_train, y_hat=model.predict(X_train.T)))"
      ]
    },
    {
      "cell_type": "markdown",
      "metadata": {
        "id": "wT5KSeK_FT16"
      },
      "source": [
        "## Confusion Matrix\n",
        "### Evaluate model using confusion matrix\n",
        "This is basically looking at how well your model did on predictions"
      ]
    },
    {
      "cell_type": "code",
      "execution_count": 26,
      "metadata": {
        "colab": {
          "base_uri": "https://localhost:8080/"
        },
        "id": "--6mhjfrwNJq",
        "outputId": "acd8e648-31a7-44bb-fdc8-256a51818903"
      },
      "outputs": [
        {
          "data": {
            "text/plain": [
              "array([[11,  3],\n",
              "       [ 3,  1]])"
            ]
          },
          "execution_count": 26,
          "metadata": {},
          "output_type": "execute_result"
        }
      ],
      "source": [
        "from sklearn import metrics\n",
        "\n",
        "y_pred = model.predict(X_test.T)\n",
        "cnf_matrix = metrics.confusion_matrix(y_test, y_pred)\n",
        "cnf_matrix"
      ]
    },
    {
      "cell_type": "markdown",
      "metadata": {
        "id": "2uJKYyzkFvVM"
      },
      "source": [
        "### Visualize CFM (confusion matrix) using a heatmap"
      ]
    },
    {
      "cell_type": "code",
      "execution_count": 27,
      "metadata": {
        "colab": {
          "base_uri": "https://localhost:8080/",
          "height": 342
        },
        "id": "dWAPvfQdvd1T",
        "outputId": "5fde5662-5c2a-470b-d8cd-80388bc3ab44"
      },
      "outputs": [
        {
          "data": {
            "text/plain": [
              "Text(0.5, 427.9555555555555, 'Predicted label')"
            ]
          },
          "execution_count": 27,
          "metadata": {},
          "output_type": "execute_result"
        },
        {
          "data": {
            "image/png": "[encoded data removed]",
            "text/plain": [
              "<Figure size 640x480 with 2 Axes>"
            ]
          },
          "metadata": {},
          "output_type": "display_data"
        }
      ],
      "source": [
        "import seaborn as sns\n",
        "import pandas as pd\n",
        "\n",
        "class_names=[0,1] # name  of classes\n",
        "fig, ax = plt.subplots()\n",
        "tick_marks = np.arange(len(class_names))\n",
        "plt.xticks(tick_marks, class_names)\n",
        "plt.yticks(tick_marks, class_names)\n",
        "# create heatmap\n",
        "sns.heatmap(pd.DataFrame(cnf_matrix), annot=True, cmap=\"Blues\" ,fmt='g') #another color map for confusion matrix: YlGnBu\n",
        "ax.xaxis.set_label_position(\"top\")\n",
        "plt.tight_layout()\n",
        "plt.title('Confusion matrix', y=1.1)\n",
        "plt.ylabel('Actual label')\n",
        "plt.xlabel('Predicted label')"
      ]
    },
    {
      "cell_type": "markdown",
      "metadata": {
        "id": "bwFsPmQQGIiR"
      },
      "source": [
        "### Evaluation metrics Accuracy, Precision, Recall"
      ]
    },
    {
      "cell_type": "code",
      "execution_count": 28,
      "metadata": {
        "colab": {
          "base_uri": "https://localhost:8080/"
        },
        "id": "glRCpnJN9WAG",
        "outputId": "899ba1eb-da19-45a8-b0e9-99af05e1ac10"
      },
      "outputs": [
        {
          "name": "stdout",
          "output_type": "stream",
          "text": [
            "Accuracy: 0.6666666666666666\n",
            "Precision: 0.6666666666666666\n",
            "Recall: 0.6666666666666666\n"
          ]
        }
      ],
      "source": [
        "print(\"Accuracy:\",metrics.accuracy_score(y_test, y_pred))\n",
        "print(\"Precision:\",metrics.precision_score(y_test, y_pred, average = 'weighted'))\n",
        "print(\"Recall:\",metrics.recall_score(y_test, y_pred, average = 'weighted'))"
      ]
    },
    {
      "cell_type": "markdown",
      "metadata": {
        "id": "HYhuGWisu-lI"
      },
      "source": [
        "# Now, the logistic regression with Scikit-Learn\n",
        "Example cosidering wine dataset"
      ]
    },
    {
      "cell_type": "code",
      "execution_count": 29,
      "metadata": {
        "colab": {
          "base_uri": "https://localhost:8080/",
          "height": 208
        },
        "id": "261oLIuOTJPz",
        "outputId": "494e5e16-7580-467b-d908-9de1df50e4e0"
      },
      "outputs": [
        {
          "name": "stderr",
          "output_type": "stream",
          "text": [
            "/tmp/ipykernel_5890/1963320541.py:12: DeprecationWarning: `np.int` is a deprecated alias for the builtin `int`. To silence this warning, use `int` by itself. Doing this will not modify any behavior and is safe. When replacing `np.int`, you may wish to use e.g. `np.int64` or `np.int32` to specify the precision. If you wish to review your current use, check the release note link for additional information.\n",
            "Deprecated in NumPy 1.20; for more details and guidance: https://numpy.org/devdocs/release/1.20.0-notes.html#deprecations\n",
            "  Y = (wine_data[\"target\"] == 2).astype(np.int) # 1 if type of wine is of the class 2, else 0\n"
          ]
        },
        {
          "data": {
            "image/png": "[encoded data removed]",
            "text/plain": [
              "<Figure size 400x300 with 1 Axes>"
            ]
          },
          "metadata": {},
          "output_type": "display_data"
        }
      ],
      "source": [
        "#Code from: https://scikit-learn.org/stable/auto_examples/linear_model/plot_iris_logistic.html#sphx-glr-auto-examples-linear-model-plot-iris-logistic-py\n",
        "\n",
        "import numpy as np\n",
        "import matplotlib.pyplot as plt\n",
        "from sklearn.linear_model import LogisticRegression\n",
        "from sklearn import datasets\n",
        "from sklearn.model_selection import train_test_split\n",
        "\n",
        "# import some data to play with\n",
        "wine = datasets.load_wine()#datasets.load_iris()\n",
        "X = wine.data[:, :2]  # we only take the last two features.\n",
        "Y = (wine_data[\"target\"] == 2).astype(np.int) # 1 if type of wine is of the class 2, else 0 \n",
        "\n",
        "#Split the data into train and test sets\n",
        "X_train, X_test, y_train, y_test = train_test_split(X, y, test_size = .10, random_state = 42)\n",
        "\n",
        "# Create an instance of Logistic Regression Classifier and fit the data.\n",
        "logreg = LogisticRegression(C=1e5)\n",
        "logreg.fit(X_train, y_train)\n",
        "\n",
        "#\"\"\"\n",
        "# Plot the decision boundary. For that, we will assign a color to each\n",
        "# point in the mesh [x_min, x_max]x[y_min, y_max].\n",
        "x_min, x_max = X[:, 0].min() - 0.5, X[:, 0].max() + 0.5\n",
        "y_min, y_max = X[:, 1].min() - 0.5, X[:, 1].max() + 0.5\n",
        "h = 0.02  # step size in the mesh\n",
        "xx, yy = np.meshgrid(np.arange(x_min, x_max, h), np.arange(y_min, y_max, h))\n",
        "Z = logreg.predict(np.c_[xx.ravel(), yy.ravel()])\n",
        "\n",
        "# Put the result into a color plot\n",
        "Z = Z.reshape(xx.shape)\n",
        "plt.figure(1, figsize=(4, 3))\n",
        "plt.pcolormesh(xx, yy, Z, cmap=plt.cm.Paired)\n",
        "\n",
        "# Plot also the training points\n",
        "plt.scatter(X[:, 0], X[:, 1], c=Y, edgecolors=\"k\", cmap=plt.cm.Paired)\n",
        "\n",
        "#Names of the axis:\n",
        "plt.xlabel(\"Feature X1\")\n",
        "plt.ylabel(\"Feature X2\")\n",
        "\n",
        "plt.xlim(xx.min(), xx.max())\n",
        "plt.ylim(yy.min(), yy.max())\n",
        "plt.xticks(())\n",
        "plt.yticks(())\n",
        "\n",
        "plt.show()\n",
        "#\"\"\"\n",
        "#end"
      ]
    },
    {
      "cell_type": "markdown",
      "metadata": {
        "id": "sq3UBsUaYQSV"
      },
      "source": [
        "##Confusion Matrix, for the Scikit-Learn example\n",
        "### Evaluate model using confusion matrix\n",
        "This is basically looking at how well your model did on predictions"
      ]
    },
    {
      "cell_type": "code",
      "execution_count": 30,
      "metadata": {
        "colab": {
          "base_uri": "https://localhost:8080/"
        },
        "id": "0jOvYz20YQSW",
        "outputId": "59608904-bfd8-48a6-b6ac-54a76df6993d"
      },
      "outputs": [
        {
          "data": {
            "text/plain": [
              "array([[11,  3],\n",
              "       [ 3,  1]])"
            ]
          },
          "execution_count": 30,
          "metadata": {},
          "output_type": "execute_result"
        }
      ],
      "source": [
        "from sklearn import metrics\n",
        "\n",
        "y_pred = logreg.predict(X_test)\n",
        "cnf_matrix = metrics.confusion_matrix(y_test, y_pred)\n",
        "cnf_matrix"
      ]
    },
    {
      "cell_type": "markdown",
      "metadata": {
        "id": "EE-VVJYoYQSW"
      },
      "source": [
        "### Visualize CFM (confusion matrix) using a heatmap"
      ]
    },
    {
      "cell_type": "code",
      "execution_count": 31,
      "metadata": {
        "colab": {
          "base_uri": "https://localhost:8080/",
          "height": 342
        },
        "id": "tvNJU9ANYQSW",
        "outputId": "94954e1c-2b8a-4f6b-cfe0-90343f3bcda9"
      },
      "outputs": [
        {
          "data": {
            "text/plain": [
              "Text(0.5, 427.9555555555555, 'Predicted label')"
            ]
          },
          "execution_count": 31,
          "metadata": {},
          "output_type": "execute_result"
        },
        {
          "data": {
            "image/png": "[encoded data removed]",
            "text/plain": [
              "<Figure size 640x480 with 2 Axes>"
            ]
          },
          "metadata": {},
          "output_type": "display_data"
        }
      ],
      "source": [
        "import seaborn as sns\n",
        "import pandas as pd\n",
        "\n",
        "class_names=[0,1] # name  of classes\n",
        "fig, ax = plt.subplots()\n",
        "tick_marks = np.arange(len(class_names))\n",
        "plt.xticks(tick_marks, class_names)\n",
        "plt.yticks(tick_marks, class_names)\n",
        "# create heatmap\n",
        "sns.heatmap(pd.DataFrame(cnf_matrix), annot=True, cmap=\"Blues\" ,fmt='g') #another color map for confusion matrix: YlGnBu\n",
        "ax.xaxis.set_label_position(\"top\")\n",
        "plt.tight_layout()\n",
        "plt.title('Confusion matrix', y=1.1)\n",
        "plt.ylabel('Actual label')\n",
        "plt.xlabel('Predicted label')"
      ]
    },
    {
      "cell_type": "markdown",
      "metadata": {
        "id": "4Uiuyd-fYQSW"
      },
      "source": [
        "### Evaluation metrics Accuracy, Precision, Recall"
      ]
    },
    {
      "cell_type": "code",
      "execution_count": 32,
      "metadata": {
        "colab": {
          "base_uri": "https://localhost:8080/"
        },
        "id": "L2HP6J7tYQSW",
        "outputId": "9a8a0fbf-59a0-41c2-fb20-0769ee1904e5"
      },
      "outputs": [
        {
          "name": "stdout",
          "output_type": "stream",
          "text": [
            "Accuracy: 0.6666666666666666\n",
            "Precision: 0.6666666666666666\n",
            "Recall: 0.6666666666666666\n"
          ]
        }
      ],
      "source": [
        "print(\"Accuracy:\",metrics.accuracy_score(y_test, y_pred))\n",
        "print(\"Precision:\",metrics.precision_score(y_test, y_pred, average = 'weighted'))\n",
        "print(\"Recall:\",metrics.recall_score(y_test, y_pred, average = 'weighted'))"
      ]
    }
  ],
  "metadata": {
    "colab": {
      "collapsed_sections": [],
      "name": "Logistic_Regression_Wine.ipynb",
      "provenance": [],
      "toc_visible": true
    },
    "kernelspec": {
      "display_name": "Python 3.8.10 64-bit",
      "language": "python",
      "name": "python3"
    },
    "language_info": {
      "codemirror_mode": {
        "name": "ipython",
        "version": 3
      },
      "file_extension": ".py",
      "mimetype": "text/x-python",
      "name": "python",
      "nbconvert_exporter": "python",
      "pygments_lexer": "ipython3",
      "version": "3.8.10"
    },
    "vscode": {
      "interpreter": {
        "hash": "916dbcbb3f70747c44a77c7bcd40155683ae19c65e1c03b4aa3499c5328201f1"
      }
    }
  },
  "nbformat": 4,
  "nbformat_minor": 0
}
