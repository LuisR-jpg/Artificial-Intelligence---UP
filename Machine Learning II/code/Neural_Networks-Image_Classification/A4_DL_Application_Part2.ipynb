{
  "cells": [
    {
      "cell_type": "markdown",
      "metadata": {
        "id": "V6TPVKsvMr3d"
      },
      "source": [
        "# Deep Neural Network for Image Classification: Application\n",
        "\n",
        "You will use the functions you'd implemented in the Part 1 of the assignment to build a deep network, and apply it to cat vs non-cat classification. Hopefully, you will see an improvement in accuracy relative to your previous logistic regression implementation.  \n",
        "\n",
        "**After this assignment you will be able to:**\n",
        "- Build and apply a deep neural network to supervised learning. \n",
        "\n",
        "Let's get started!"
      ]
    },
    {
      "cell_type": "markdown",
      "metadata": {
        "id": "JtbGJVOXMr3i"
      },
      "source": [
        "## 1 - Packages"
      ]
    },
    {
      "cell_type": "markdown",
      "metadata": {
        "id": "IrxM843pMr3i"
      },
      "source": [
        "Let's first import all the packages that you will need during this assignment. \n",
        "- [numpy](https://www.numpy.org/) is the fundamental package for scientific computing with Python.\n",
        "- [matplotlib](http://matplotlib.org) is a library to plot graphs in Python.\n",
        "- [h5py](http://www.h5py.org) is a common package to interact with a dataset that is stored on an H5 file.\n",
        "- [PIL](http://www.pythonware.com/products/pil/) and [scipy](https://www.scipy.org/) are used here to test your model with your own picture at the end.\n",
        "- dnn_app_utils provides the functions implemented in the \"Building your Deep Neural Network: Step by Step\" assignment to this notebook.\n",
        "- np.random.seed(1) is used to keep all the random function calls consistent. It will help us grade your work."
      ]
    },
    {
      "cell_type": "code",
      "execution_count": 10,
      "metadata": {
        "collapsed": true,
        "id": "_ltq1DONMr3i"
      },
      "outputs": [
        {
          "name": "stdout",
          "output_type": "stream",
          "text": [
            "The autoreload extension is already loaded. To reload it, use:\n",
            "  %reload_ext autoreload\n"
          ]
        }
      ],
      "source": [
        "import time\n",
        "import numpy as np\n",
        "import h5py\n",
        "import matplotlib.pyplot as plt\n",
        "import scipy\n",
        "from PIL import Image\n",
        "from scipy import ndimage\n",
        "#from dnn_app_utils_v3 import *\n",
        "\n",
        "%matplotlib inline\n",
        "plt.rcParams['figure.figsize'] = (5.0, 4.0) # set default size of plots\n",
        "plt.rcParams['image.interpolation'] = 'nearest'\n",
        "plt.rcParams['image.cmap'] = 'gray'\n",
        "\n",
        "%load_ext autoreload\n",
        "%autoreload 2\n",
        "\n",
        "np.random.seed(1)"
      ]
    },
    {
      "cell_type": "markdown",
      "metadata": {
        "id": "Tvc64QbZMr3j"
      },
      "source": [
        "## 2 - Dataset\n",
        "\n",
        "You will use the same \"Cat vs non-Cat\" dataset as in \"Logistic Regression\" Assignment (Assignment 1). The model you had built had 70% test accuracy on classifying cats vs non-cats images. Hopefully, your new model will perform a better!\n",
        "\n",
        "**Problem Statement**: You are given a dataset (\"data.h5\") containing:\n",
        "    - a training set of m_train images labelled as cat (1) or non-cat (0)\n",
        "    - a test set of m_test images labelled as cat and non-cat\n",
        "    - each image is of shape (num_px, num_px, 3) where 3 is for the 3 channels (RGB).\n",
        "\n",
        "Let's get more familiar with the dataset. Load the data by running the cell below."
      ]
    },
    {
      "cell_type": "code",
      "execution_count": 11,
      "metadata": {},
      "outputs": [],
      "source": [
        "def load_data():\n",
        "    train_dataset = h5py.File('../../data/train_catvnoncat.h5', \"r\")\n",
        "    train_set_x_orig = np.array(train_dataset[\"train_set_x\"][:]) # your train set features\n",
        "    train_set_y_orig = np.array(train_dataset[\"train_set_y\"][:]) # your train set labels\n",
        "\n",
        "    test_dataset = h5py.File('../../data/test_catvnoncat.h5', \"r\")\n",
        "    test_set_x_orig = np.array(test_dataset[\"test_set_x\"][:]) # your test set features\n",
        "    test_set_y_orig = np.array(test_dataset[\"test_set_y\"][:]) # your test set labels\n",
        "\n",
        "    classes = np.array(test_dataset[\"list_classes\"][:]) # the list of classes\n",
        "    \n",
        "    train_set_y_orig = train_set_y_orig.reshape((1, train_set_y_orig.shape[0]))\n",
        "    test_set_y_orig = test_set_y_orig.reshape((1, test_set_y_orig.shape[0]))\n",
        "    \n",
        "    return train_set_x_orig, train_set_y_orig, test_set_x_orig, test_set_y_orig, classes"
      ]
    },
    {
      "cell_type": "code",
      "execution_count": 12,
      "metadata": {
        "collapsed": true,
        "id": "r_BYG1vTMr3j"
      },
      "outputs": [],
      "source": [
        "train_x_orig, train_y, test_x_orig, test_y, classes = load_data()"
      ]
    },
    {
      "cell_type": "markdown",
      "metadata": {
        "id": "yCdHZouJMr3k"
      },
      "source": [
        "The following code will show you an image in the dataset. Feel free to change the index and re-run the cell multiple times to see other images. "
      ]
    },
    {
      "cell_type": "code",
      "execution_count": 13,
      "metadata": {
        "id": "zn1YOz9eMr3k"
      },
      "outputs": [
        {
          "name": "stdout",
          "output_type": "stream",
          "text": [
            "y = 0. It's a non-cat picture.\n"
          ]
        },
        {
          "data": {
            "image/png": "[encoded data removed]",
            "text/plain": [
              "<Figure size 500x400 with 1 Axes>"
            ]
          },
          "metadata": {},
          "output_type": "display_data"
        }
      ],
      "source": [
        "# Example of a picture\n",
        "index = 10\n",
        "plt.imshow(train_x_orig[index])\n",
        "print (\"y = \" + str(train_y[0,index]) + \". It's a \" + classes[train_y[0,index]].decode(\"utf-8\") +  \" picture.\")"
      ]
    },
    {
      "cell_type": "code",
      "execution_count": 14,
      "metadata": {
        "id": "xoPeY_0aMr3k"
      },
      "outputs": [
        {
          "name": "stdout",
          "output_type": "stream",
          "text": [
            "Number of training examples: 209\n",
            "Number of testing examples: 50\n",
            "Each image is of size: (64, 64, 3)\n",
            "train_x_orig shape: (209, 64, 64, 3)\n",
            "train_y shape: (1, 209)\n",
            "test_x_orig shape: (50, 64, 64, 3)\n",
            "test_y shape: (1, 50)\n"
          ]
        }
      ],
      "source": [
        "# Explore your dataset \n",
        "m_train = train_x_orig.shape[0]\n",
        "num_px = train_x_orig.shape[1]\n",
        "m_test = test_x_orig.shape[0]\n",
        "\n",
        "print (\"Number of training examples: \" + str(m_train))\n",
        "print (\"Number of testing examples: \" + str(m_test))\n",
        "print (\"Each image is of size: (\" + str(num_px) + \", \" + str(num_px) + \", 3)\")\n",
        "print (\"train_x_orig shape: \" + str(train_x_orig.shape))\n",
        "print (\"train_y shape: \" + str(train_y.shape))\n",
        "print (\"test_x_orig shape: \" + str(test_x_orig.shape))\n",
        "print (\"test_y shape: \" + str(test_y.shape))"
      ]
    },
    {
      "attachments": {},
      "cell_type": "markdown",
      "metadata": {
        "id": "AqA4weOFMr3k"
      },
      "source": [
        "As usual, you reshape and standardize the images before feeding them to the network. The code is given in the cell below.\n",
        "\n",
        "<img src=\"imvectorkiank.png\" style=\"width:450px;height:300px;\">\n",
        "\n",
        "<caption><center> <u>Figure 1</u>: Image to vector conversion. <br> </center></caption>"
      ]
    },
    {
      "cell_type": "markdown",
      "metadata": {
        "id": "QfxPYX0AOjpT"
      },
      "source": [
        "**Exercise 1**:  Flattern and array the samples in columns"
      ]
    },
    {
      "cell_type": "code",
      "execution_count": 15,
      "metadata": {
        "id": "MEKivtYnMr3l"
      },
      "outputs": [
        {
          "ename": "TypeError",
          "evalue": "unsupported operand type(s) for /: 'NoneType' and 'float'",
          "output_type": "error",
          "traceback": [
            "\u001b[1;31m---------------------------------------------------------------------------\u001b[0m",
            "\u001b[1;31mTypeError\u001b[0m                                 Traceback (most recent call last)",
            "Cell \u001b[1;32mIn[15], line 6\u001b[0m\n\u001b[0;32m      3\u001b[0m test_x_flatten \u001b[39m=\u001b[39m \u001b[39mNone\u001b[39;00m\n\u001b[0;32m      5\u001b[0m \u001b[39m# Standardize data to have feature values between 0 and 1.\u001b[39;00m\n\u001b[1;32m----> 6\u001b[0m train_x \u001b[39m=\u001b[39m train_x_flatten\u001b[39m/\u001b[39;49m\u001b[39m255.\u001b[39;49m\n\u001b[0;32m      7\u001b[0m test_x \u001b[39m=\u001b[39m test_x_flatten\u001b[39m/\u001b[39m\u001b[39m255.\u001b[39m\n\u001b[0;32m      9\u001b[0m \u001b[39mprint\u001b[39m (\u001b[39m\"\u001b[39m\u001b[39mtrain_x\u001b[39m\u001b[39m'\u001b[39m\u001b[39ms shape: \u001b[39m\u001b[39m\"\u001b[39m \u001b[39m+\u001b[39m \u001b[39mstr\u001b[39m(train_x\u001b[39m.\u001b[39mshape))\n",
            "\u001b[1;31mTypeError\u001b[0m: unsupported operand type(s) for /: 'NoneType' and 'float'"
          ]
        }
      ],
      "source": [
        "# Reshape the training and test examples \n",
        "train_x_flatten = None   # The \"-1\" makes reshape flatten the remaining dimensions\n",
        "test_x_flatten = None\n",
        "\n",
        "# Standardize data to have feature values between 0 and 1.\n",
        "train_x = train_x_flatten/255.\n",
        "test_x = test_x_flatten/255.\n",
        "\n",
        "print (\"train_x's shape: \" + str(train_x.shape))\n",
        "print (\"test_x's shape: \" + str(test_x.shape))\n"
      ]
    },
    {
      "cell_type": "markdown",
      "metadata": {
        "id": "P2Pb7LWWMr3l"
      },
      "source": [
        "$12,288$ equals $64 \\times 64 \\times 3$ which is the size of one reshaped image vector."
      ]
    },
    {
      "cell_type": "markdown",
      "metadata": {
        "id": "phvZYNB_Mr3l"
      },
      "source": [
        "## 3 - Architecture of your model"
      ]
    },
    {
      "attachments": {},
      "cell_type": "markdown",
      "metadata": {
        "id": "FAaKq1OrMr3l"
      },
      "source": [
        "Now that you are familiar with the dataset, it is time to build a deep neural network to distinguish cat images from non-cat images.\n",
        "\n",
        "You will build two different models:\n",
        "- A 2-layer neural network\n",
        "- An L-layer deep neural network\n",
        "\n",
        "You will then compare the performance of these models, and also try out different values for $L$. \n",
        "\n",
        "Let's look at the two architectures.\n",
        "\n",
        "### 3.1 - 2-layer neural network\n",
        "\n",
        "<img src=\"2layerNN_kiank.png\" style=\"width:650px;height:400px;\">\n",
        "<caption><center> <u>Figure 2</u>: 2-layer neural network. <br> The model can be summarized as: ***INPUT -> LINEAR -> RELU -> LINEAR -> SIGMOID -> OUTPUT***. </center></caption>\n",
        "\n",
        "<u>Detailed Architecture of figure 2</u>:\n",
        "- The input is a (64,64,3) image which is flattened to a vector of size $(12288,1)$. \n",
        "- The corresponding vector: $[x_0,x_1,...,x_{12287}]^T$ is then multiplied by the weight matrix $W^{[1]}$ of size $(n^{[1]}, 12288)$.\n",
        "- You then add a bias term and take its relu to get the following vector: $[a_0^{[1]}, a_1^{[1]},..., a_{n^{[1]}-1}^{[1]}]^T$.\n",
        "- You then repeat the same process.\n",
        "- You multiply the resulting vector by $W^{[2]}$ and add your intercept (bias). \n",
        "- Finally, you take the sigmoid of the result. If it is greater than 0.5, you classify it to be a cat.\n",
        "\n",
        "### 3.2 - L-layer deep neural network\n",
        "\n",
        "It is hard to represent an L-layer deep neural network with the above representation. However, here is a simplified network representation:\n",
        "\n",
        "<img src=\"LlayerNN_kiank.png\" style=\"width:650px;height:400px;\">\n",
        "<caption><center> <u>Figure 3</u>: L-layer neural network. <br> The model can be summarized as: ***[LINEAR -> RELU] $\\times$ (L-1) -> LINEAR -> SIGMOID***</center></caption>\n",
        "\n",
        "<u>Detailed Architecture of figure 3</u>:\n",
        "- The input is a (64,64,3) image which is flattened to a vector of size (12288,1).\n",
        "- The corresponding vector: $[x_0,x_1,...,x_{12287}]^T$ is then multiplied by the weight matrix $W^{[1]}$ and then you add the intercept $b^{[1]}$. The result is called the linear unit.\n",
        "- Next, you take the relu of the linear unit. This process could be repeated several times for each $(W^{[l]}, b^{[l]})$ depending on the model architecture.\n",
        "- Finally, you take the sigmoid of the final linear unit. If it is greater than 0.5, you classify it to be a cat.\n",
        "\n",
        "### 3.3 - General methodology\n",
        "\n",
        "As usual you will follow the Deep Learning methodology to build the model:\n",
        "    1. Initialize parameters / Define hyperparameters\n",
        "    2. Loop for num_iterations:\n",
        "        a. Forward propagation\n",
        "        b. Compute cost function\n",
        "        c. Backward propagation\n",
        "        d. Update parameters (using parameters, and grads from backprop) \n",
        "    4. Use trained parameters to predict labels\n",
        "\n",
        "Let's now implement those two models!"
      ]
    },
    {
      "cell_type": "markdown",
      "metadata": {
        "id": "CXntQboWMr3m"
      },
      "source": [
        "## 4 - Two-layer neural network\n",
        "\n",
        "**Exercise 2**:  Use the helper functions you have implemented in the previous assignment to build a 2-layer neural network with the following structure: *LINEAR -> RELU -> LINEAR -> SIGMOID*. The functions you may need and their inputs are:\n",
        "```python\n",
        "def initialize_parameters(n_x, n_h, n_y):\n",
        "    ...\n",
        "    return parameters \n",
        "def linear_activation_forward(A_prev, W, b, activation):\n",
        "    ...\n",
        "    return A, cache\n",
        "def compute_cost(AL, Y):\n",
        "    ...\n",
        "    return cost\n",
        "def linear_activation_backward(dA, cache, activation):\n",
        "    ...\n",
        "    return dA_prev, dW, db\n",
        "def update_parameters(parameters, grads, learning_rate):\n",
        "    ...\n",
        "    return parameters\n",
        "```"
      ]
    },
    {
      "cell_type": "code",
      "execution_count": null,
      "metadata": {
        "collapsed": true,
        "id": "-sPWDS4DMr3n"
      },
      "outputs": [],
      "source": [
        "### CONSTANTS DEFINING THE MODEL ####\n",
        "n_x = 12288     # num_px * num_px * 3\n",
        "n_h = 7\n",
        "n_y = 1\n",
        "layers_dims = (n_x, n_h, n_y)"
      ]
    },
    {
      "cell_type": "code",
      "execution_count": null,
      "metadata": {
        "collapsed": true,
        "id": "RbtwoEORMr3n"
      },
      "outputs": [],
      "source": [
        "# GRADED FUNCTION: two_layer_model\n",
        "\n",
        "def two_layer_model(X, Y, layers_dims, learning_rate = 0.0075, num_iterations = 3000, print_cost=False):\n",
        "    \"\"\"\n",
        "    Implements a two-layer neural network: LINEAR->RELU->LINEAR->SIGMOID.\n",
        "    \n",
        "    Arguments:\n",
        "    X -- input data, of shape (n_x, number of examples)\n",
        "    Y -- true \"label\" vector (containing 1 if cat, 0 if non-cat), of shape (1, number of examples)\n",
        "    layers_dims -- dimensions of the layers (n_x, n_h, n_y)\n",
        "    num_iterations -- number of iterations of the optimization loop\n",
        "    learning_rate -- learning rate of the gradient descent update rule\n",
        "    print_cost -- If set to True, this will print the cost every 100 iterations \n",
        "    \n",
        "    Returns:\n",
        "    parameters -- a dictionary containing W1, W2, b1, and b2\n",
        "    \"\"\"\n",
        "    \n",
        "    np.random.seed(1)\n",
        "    grads = {}\n",
        "    costs = []                              # to keep track of the cost\n",
        "    m = X.shape[1]                           # number of examples\n",
        "    (n_x, n_h, n_y) = layers_dims\n",
        "    \n",
        "    # Initialize parameters dictionary, by calling one of the functions you'd previously implemented\n",
        "    ### START CODE HERE ### \n",
        "    parameters = None\n",
        "    ### END CODE HERE ###\n",
        "    \n",
        "    # Get W1, b1, W2 and b2 from the dictionary parameters.\n",
        "    W1 = parameters[\"W1\"]\n",
        "    b1 = parameters[\"b1\"]\n",
        "    W2 = parameters[\"W2\"]\n",
        "    b2 = parameters[\"b2\"]\n",
        "    \n",
        "    # Loop (gradient descent)\n",
        "\n",
        "    for i in range(0, num_iterations):\n",
        "\n",
        "        # Forward propagation: LINEAR -> RELU -> LINEAR -> SIGMOID. Inputs: \"X, W1, b1, W2, b2\". Output: \"A1, cache1, A2, cache2\".\n",
        "        ### START CODE HERE ### (≈ 2 lines of code)\n",
        "        A1, cache1 = None\n",
        "        A2, cache2 = None\n",
        "        ### END CODE HERE ###\n",
        "        \n",
        "        # Compute cost\n",
        "        ### START CODE HERE ### \n",
        "        cost = None\n",
        "        ### END CODE HERE ###\n",
        "        \n",
        "        # Initializing backward propagation\n",
        "        dA2 = - (np.divide(Y, A2) - np.divide(1 - Y, 1 - A2))\n",
        "        \n",
        "        # Backward propagation. Inputs: \"dA2, cache2, cache1\". Outputs: \"dA1, dW2, db2; also dA0 (not used), dW1, db1\".\n",
        "        ### START CODE HERE ### \n",
        "        dA1, dW2, db2 = None\n",
        "        dA0, dW1, db1 = None\n",
        "        ### END CODE HERE ###\n",
        "        \n",
        "        # Set grads['dWl'] to dW1, grads['db1'] to db1, grads['dW2'] to dW2, grads['db2'] to db2\n",
        "        grads['dW1'] = dW1\n",
        "        grads['db1'] = db1\n",
        "        grads['dW2'] = dW2\n",
        "        grads['db2'] = db2\n",
        "        \n",
        "        # Update parameters.\n",
        "        ### START CODE HERE ### \n",
        "        parameters = None\n",
        "        ### END CODE HERE ###\n",
        "\n",
        "        # Retrieve W1, b1, W2, b2 from parameters\n",
        "        W1 = parameters[\"W1\"]\n",
        "        b1 = parameters[\"b1\"]\n",
        "        W2 = parameters[\"W2\"]\n",
        "        b2 = parameters[\"b2\"]\n",
        "        \n",
        "        # Print the cost every 100 training example\n",
        "        if print_cost and i % 100 == 0:\n",
        "            print(\"Cost after iteration {}: {}\".format(i, np.squeeze(cost)))\n",
        "        if print_cost and i % 100 == 0:\n",
        "            costs.append(cost)\n",
        "       \n",
        "    # plot the cost\n",
        "\n",
        "    plt.plot(np.squeeze(costs))\n",
        "    plt.ylabel('cost')\n",
        "    plt.xlabel('iterations (per hundreds)')\n",
        "    plt.title(\"Learning rate =\" + str(learning_rate))\n",
        "    plt.show()\n",
        "    \n",
        "    return parameters"
      ]
    },
    {
      "cell_type": "markdown",
      "metadata": {
        "id": "Nz6HZnuBMr3n"
      },
      "source": [
        "Run the cell below to train your parameters. See if your model runs. The cost should be decreasing. It may take up to 5 minutes to run 2500 iterations. Check if the \"Cost after iteration 0\" matches the expected output below, if not click on the square (⬛) on the upper bar of the notebook to stop the cell and try to find your error."
      ]
    },
    {
      "cell_type": "code",
      "execution_count": null,
      "metadata": {
        "id": "-8I9esV1Mr3o"
      },
      "outputs": [],
      "source": [
        "parameters = two_layer_model(train_x, train_y, layers_dims = (n_x, n_h, n_y), num_iterations = 2500, print_cost=True)"
      ]
    },
    {
      "cell_type": "markdown",
      "metadata": {
        "id": "fzwAzT66Mr3o"
      },
      "source": [
        "**Expected Output**:\n",
        "<table> \n",
        "    <tr>\n",
        "        <td> **Cost after iteration 0**</td>\n",
        "        <td> 0.69... </td>\n",
        "    </tr>\n",
        "    <tr>\n",
        "        <td> **Cost after iteration 100**</td>\n",
        "        <td> 0.64... </td>\n",
        "    </tr>\n",
        "    <tr>\n",
        "        <td> **...**</td>\n",
        "        <td> ... </td>\n",
        "    </tr>\n",
        "    <tr>\n",
        "        <td> **Cost after iteration 2400**</td>\n",
        "        <td> 0.04... </td>\n",
        "    </tr>\n",
        "</table>"
      ]
    },
    {
      "cell_type": "markdown",
      "metadata": {
        "id": "5BhAa-xsMr3o"
      },
      "source": [
        "Good thing you built a vectorized implementation! Otherwise it might have taken 10 times longer to train this.\n",
        "\n",
        "Now, you can use the trained parameters to classify images from the dataset. To see your predictions on the training and test sets, run the cell below."
      ]
    },
    {
      "cell_type": "code",
      "execution_count": null,
      "metadata": {
        "id": "8SV3OlpEMr3o"
      },
      "outputs": [],
      "source": [
        "predictions_train = predict(train_x, train_y, parameters)"
      ]
    },
    {
      "cell_type": "markdown",
      "metadata": {
        "id": "84YJw55OMr3o"
      },
      "source": [
        "**Expected Output**:\n",
        "<table> \n",
        "    <tr>\n",
        "        <td> **Accuracy**</td>\n",
        "        <td> 1.0 </td>\n",
        "    </tr>\n",
        "</table>"
      ]
    },
    {
      "cell_type": "code",
      "execution_count": null,
      "metadata": {
        "id": "3OGHirRmMr3p",
        "scrolled": true
      },
      "outputs": [],
      "source": [
        "predictions_test = predict(test_x, test_y, parameters)"
      ]
    },
    {
      "cell_type": "markdown",
      "metadata": {
        "id": "tytAc2inMr3p"
      },
      "source": [
        "**Expected Output**:\n",
        "\n",
        "<table> \n",
        "    <tr>\n",
        "        <td> **Accuracy**</td>\n",
        "        <td> 0.72 </td>\n",
        "    </tr>\n",
        "</table>"
      ]
    },
    {
      "cell_type": "markdown",
      "metadata": {
        "id": "-gQVHzQvMr3p"
      },
      "source": [
        "**Note**: You may notice that running the model on fewer iterations (say 1500) gives better accuracy on the test set. This is called \"early stopping\" and we will talk about it in the next course. Early stopping is a way to prevent overfitting. \n",
        "\n",
        "Congratulations! It seems that your 2-layer neural network has better performance (72%) than the logistic regression implementation (70%, assignment week 2). Let's see if you can do even better with an $L$-layer model."
      ]
    },
    {
      "cell_type": "markdown",
      "metadata": {
        "id": "C-a4Np_eMr3p"
      },
      "source": [
        "## 5 - L-layer Neural Network\n",
        "\n",
        "**Exercise 3**: Use the helper functions you have implemented previously to build an $L$-layer neural network with the following structure: *[LINEAR -> RELU]$\\times$(L-1) -> LINEAR -> SIGMOID*. The functions you may need and their inputs are:\n",
        "```python\n",
        "def initialize_parameters_deep(layers_dims):\n",
        "    ...\n",
        "    return parameters \n",
        "def L_model_forward(X, parameters):\n",
        "    ...\n",
        "    return AL, caches\n",
        "def compute_cost(AL, Y):\n",
        "    ...\n",
        "    return cost\n",
        "def L_model_backward(AL, Y, caches):\n",
        "    ...\n",
        "    return grads\n",
        "def update_parameters(parameters, grads, learning_rate):\n",
        "    ...\n",
        "    return parameters\n",
        "```"
      ]
    },
    {
      "cell_type": "code",
      "execution_count": null,
      "metadata": {
        "collapsed": true,
        "id": "g7mpB4eCMr3p"
      },
      "outputs": [],
      "source": [
        "### CONSTANTS ###\n",
        "layers_dims = [12288, 20, 20, 10, 5, 1] #  4-layer model"
      ]
    },
    {
      "cell_type": "code",
      "execution_count": null,
      "metadata": {
        "collapsed": true,
        "id": "Cu1CVqOmMr3q"
      },
      "outputs": [],
      "source": [
        "# GRADED FUNCTION: L_layer_model\n",
        "\n",
        "def L_layer_model(X, Y, layers_dims, learning_rate = 0.0075, num_iterations = 3000, print_cost=False):#lr was 0.009\n",
        "    \"\"\"\n",
        "    Implements a L-layer neural network: [LINEAR->RELU]*(L-1)->LINEAR->SIGMOID.\n",
        "    \n",
        "    Arguments:\n",
        "    X -- data, numpy array of shape (num_px * num_px * 3, number of examples)\n",
        "    Y -- true \"label\" vector (containing 0 if cat, 1 if non-cat), of shape (1, number of examples)\n",
        "    layers_dims -- list containing the input size and each layer size, of length (number of layers + 1).\n",
        "    learning_rate -- learning rate of the gradient descent update rule\n",
        "    num_iterations -- number of iterations of the optimization loop\n",
        "    print_cost -- if True, it prints the cost every 100 steps\n",
        "    \n",
        "    Returns:\n",
        "    parameters -- parameters learnt by the model. They can then be used to predict.\n",
        "    \"\"\"\n",
        "\n",
        "    np.random.seed(1)\n",
        "    costs = []                         # keep track of cost\n",
        "    \n",
        "    # Parameters initialization. \n",
        "    ### START CODE HERE ###\n",
        "    parameters = None\n",
        "    ### END CODE HERE ###\n",
        "    \n",
        "    # Loop (gradient descent)\n",
        "    for i in range(0, None):\n",
        "\n",
        "        # Forward propagation: [LINEAR -> RELU]*(L-1) -> LINEAR -> SIGMOID.\n",
        "        ### START CODE HERE ### \n",
        "        AL, caches = None\n",
        "        ### END CODE HERE ###\n",
        "        \n",
        "        # Compute cost.\n",
        "        ### START CODE HERE ### \n",
        "        cost = None\n",
        "        ### END CODE HERE ###\n",
        "    \n",
        "        # Backward propagation.\n",
        "        ### START CODE HERE ### \n",
        "        grads = None\n",
        "        ### END CODE HERE ###\n",
        " \n",
        "        # Update parameters.\n",
        "        ### START CODE HERE ### \n",
        "        parameters = None\n",
        "        ### END CODE HERE ###\n",
        "                \n",
        "        # Print the cost every 100 training example\n",
        "        if print_cost and i % 100 == 0:\n",
        "            print (\"Cost after iteration %i: %f\" %(i, cost))\n",
        "        if print_cost and i % 100 == 0:\n",
        "            costs.append(cost)\n",
        "            \n",
        "    # plot the cost\n",
        "    plt.plot(np.squeeze(costs))\n",
        "    plt.ylabel('cost')\n",
        "    plt.xlabel('iterations (per hundreds)')\n",
        "    plt.title(\"Learning rate =\" + str(learning_rate))\n",
        "    plt.show()\n",
        "    \n",
        "    return parameters"
      ]
    },
    {
      "cell_type": "markdown",
      "metadata": {
        "id": "1ITNfm8xMr3q"
      },
      "source": [
        "You will now train the model as a 4-layer neural network. \n",
        "\n",
        "Run the cell below to train your model. The cost should decrease on every iteration. It may take up to 5 minutes to run 2500 iterations. Check if the \"Cost after iteration 0\" matches the expected output below, if not click on the square (⬛) on the upper bar of the notebook to stop the cell and try to find your error."
      ]
    },
    {
      "cell_type": "code",
      "execution_count": null,
      "metadata": {
        "id": "-g-KHIX3Mr3q",
        "scrolled": false
      },
      "outputs": [],
      "source": [
        "parameters = L_layer_model(train_x, train_y, layers_dims, num_iterations = 2500, print_cost = True)"
      ]
    },
    {
      "cell_type": "markdown",
      "metadata": {
        "id": "KiOCdB1-Mr3q"
      },
      "source": [
        "**Expected Output**:\n",
        "<table> \n",
        "    <tr>\n",
        "        <td> **Cost after iteration 0**</td>\n",
        "        <td> 0.69... </td>\n",
        "    </tr>\n",
        "    <tr>\n",
        "        <td> **Cost after iteration 100**</td>\n",
        "        <td> 0.66... </td>\n",
        "    </tr>\n",
        "    <tr>\n",
        "        <td> **...**</td>\n",
        "        <td> ... </td>\n",
        "    </tr>\n",
        "    <tr>\n",
        "        <td> **Cost after iteration 2400**</td>\n",
        "        <td> 0.003... </td>\n",
        "    </tr>\n",
        "</table>"
      ]
    },
    {
      "cell_type": "code",
      "execution_count": null,
      "metadata": {
        "id": "msjL7IK0Mr3r",
        "scrolled": true
      },
      "outputs": [],
      "source": [
        "pred_train = predict(train_x, train_y, parameters)"
      ]
    },
    {
      "cell_type": "markdown",
      "metadata": {
        "id": "fF27GfawMr3r"
      },
      "source": [
        "<table>\n",
        "    <tr>\n",
        "    <td>\n",
        "    **Train Accuracy**\n",
        "    </td>\n",
        "    <td>\n",
        "    greater than 0.95\n",
        "    </td>\n",
        "    </tr>\n",
        "</table>"
      ]
    },
    {
      "cell_type": "code",
      "execution_count": null,
      "metadata": {
        "id": "mo_IwPbyMr3r"
      },
      "outputs": [],
      "source": [
        "pred_test = predict(test_x, test_y, parameters)"
      ]
    },
    {
      "cell_type": "markdown",
      "metadata": {
        "id": "vOM6mLU5Mr3r"
      },
      "source": [
        "**Expected Output**:\n",
        "\n",
        "<table> \n",
        "    <tr>\n",
        "        <td> **Test Accuracy**</td>\n",
        "        <td> greater than 0.7 </td>\n",
        "    </tr>\n",
        "</table>"
      ]
    },
    {
      "cell_type": "markdown",
      "metadata": {
        "id": "1JnsvbywMr3r"
      },
      "source": [
        "Congrats! It seems that your 4-layer neural network has better performance (80%) than your 2-layer neural network (72%) on the same test set. \n",
        "\n",
        "This is good performance for this task. Nice job!  "
      ]
    },
    {
      "cell_type": "markdown",
      "metadata": {
        "id": "NRCQU2VLMr3r"
      },
      "source": [
        "##  6) Results Analysis\n",
        "\n",
        "First, let's take a look at some images the L-layer model labeled incorrectly. This will show a few mislabeled images."
      ]
    },
    {
      "cell_type": "code",
      "execution_count": null,
      "metadata": {
        "id": "TuiJbQbNMr3s",
        "scrolled": false
      },
      "outputs": [],
      "source": [
        "print_mislabeled_images(classes, test_x, test_y, pred_test)"
      ]
    },
    {
      "cell_type": "markdown",
      "metadata": {
        "id": "-Fsu_PM0Mr3s"
      },
      "source": [
        "**A few types of images the model tends to do poorly on include:** \n",
        "- Cat body in an unusual position\n",
        "- Cat appears against a background of a similar color\n",
        "- Unusual cat color and species\n",
        "- Camera Angle\n",
        "- Brightness of the picture\n",
        "- Scale variation (cat is very large or small in image) "
      ]
    },
    {
      "attachments": {},
      "cell_type": "markdown",
      "metadata": {
        "id": "SiDqBhl7Mr3s"
      },
      "source": [
        "# 7 - Test with your own data (12 additional points) ##\n",
        "\n",
        "Use the dataset of fingerprints created in Assignment 2 and test the previously implemented classifier. Note that this is a two-class problem, so if your dataset has three or more classes, select two.\n",
        "\n",
        "Report a pdf file in Moodle where you discuss:\n",
        "- Compare the results obtained with logistic regression and the Deep Network implemented in this assignment. (6 points)\n",
        "- Test several iterations, learning rates, number of hidden layers and units, and discuss the results. (6 points)"
      ]
    }
  ],
  "metadata": {
    "colab": {
      "collapsed_sections": [],
      "name": "A4_DL_Application_Part2.ipynb",
      "provenance": []
    },
    "coursera": {
      "course_slug": "neural-networks-deep-learning",
      "graded_item_id": "TSPse",
      "launcher_item_id": "24mxX"
    },
    "kernel_info": {
      "name": "python3"
    },
    "kernelspec": {
      "display_name": "pyTorch-gpu",
      "language": "python",
      "name": "python3"
    },
    "language_info": {
      "codemirror_mode": {
        "name": "ipython",
        "version": 3
      },
      "file_extension": ".py",
      "mimetype": "text/x-python",
      "name": "python",
      "nbconvert_exporter": "python",
      "pygments_lexer": "ipython3",
      "version": "3.9.16"
    },
    "nteract": {
      "version": "0.12.3"
    },
    "vscode": {
      "interpreter": {
        "hash": "a5894844b2d2ed0dfa0303dd3da765415d62adce6c74979413b2b103f5e23799"
      }
    }
  },
  "nbformat": 4,
  "nbformat_minor": 0
}
