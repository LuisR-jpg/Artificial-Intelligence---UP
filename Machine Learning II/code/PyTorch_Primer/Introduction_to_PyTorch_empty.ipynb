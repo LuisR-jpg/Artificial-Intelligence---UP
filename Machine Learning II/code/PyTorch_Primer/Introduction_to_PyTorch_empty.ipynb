{
 "cells": [
  {
   "attachments": {},
   "cell_type": "markdown",
   "metadata": {},
   "source": [
    "## Introduction to PyTorch\n",
    "\n",
    "Ricardo Espinosa\n",
    "\n",
    "Deep Learning Class"
   ]
  },
  {
   "cell_type": "markdown",
   "metadata": {},
   "source": [
    "Welcome to our PyTorch tutorial for the Deep Learning course at the Universidad Panamericana The following notebook is meant to give a short introduction to PyTorch basics, and get you setup for writing your own neural networks. PyTorch is an open source machine learning framework that allows you to write your own neural networks and optimize them efficiently. However, PyTorch is not the only framework of its kind. Alternatives to PyTorch include [TensorFlow](https://www.tensorflow.org/), [JAX](https://github.com/google/jax#quickstart-colab-in-the-cloud) and [Caffe](http://caffe.berkeleyvision.org/). We choose to teach PyTorch because it is well established, has a huge developer community (originally developed by Facebook), is very flexible and especially used in research. Many current papers publish their code in PyTorch, and thus it is good to be familiar with PyTorch as well. \n",
    "Meanwhile, TensorFlow (developed by Google) is usually known for being a production-grade deep learning library. Still, if you know one machine learning framework in depth, it is very easy to learn another one because many of them use the same concepts and ideas. For instance, TensorFlow's version 2 was heavily inspired by the most popular features of PyTorch, making the frameworks even more similar. "
   ]
  },
  {
   "cell_type": "code",
   "execution_count": 1,
   "metadata": {},
   "outputs": [
    {
     "name": "stderr",
     "output_type": "stream",
     "text": [
      "C:\\Users\\lalor\\AppData\\Local\\Temp\\ipykernel_22352\\3937499902.py:11: DeprecationWarning: `set_matplotlib_formats` is deprecated since IPython 7.23, directly use `matplotlib_inline.backend_inline.set_matplotlib_formats()`\n",
      "  set_matplotlib_formats('svg', 'pdf') # For export\n"
     ]
    }
   ],
   "source": [
    "## Standard libraries\n",
    "import os\n",
    "import math\n",
    "import numpy as np \n",
    "import time\n",
    "\n",
    "## Imports for plotting\n",
    "import matplotlib.pyplot as plt\n",
    "%matplotlib inline \n",
    "from IPython.display import set_matplotlib_formats\n",
    "set_matplotlib_formats('svg', 'pdf') # For export\n",
    "from matplotlib.colors import to_rgba\n",
    "import seaborn as sns\n",
    "sns.set()\n",
    "\n",
    "## Progress bar\n",
    "from tqdm.notebook import tqdm"
   ]
  },
  {
   "cell_type": "markdown",
   "metadata": {},
   "source": [
    "## The Basics of PyTorch\n",
    "\n",
    "We will start with reviewing the very basic concepts of PyTorch. As a prerequisite, we recommend to be familiar with the `numpy` package as most machine learning frameworks are based on very similar concepts. If you are not familiar with numpy yet, don't worry: here is a [tutorial](https://numpy.org/devdocs/user/quickstart.html) to go through. \n",
    "\n",
    "So, let's start with importing PyTorch. The package is called `torch`, based on its original framework [Torch](http://torch.ch/). As a first step, we can check its version:"
   ]
  },
  {
   "cell_type": "code",
   "execution_count": 2,
   "metadata": {},
   "outputs": [
    {
     "name": "stdout",
     "output_type": "stream",
     "text": [
      "Using torch 1.13.1+cpu\n"
     ]
    }
   ],
   "source": [
    "import torch\n",
    "print(\"Using torch\", torch.__version__)"
   ]
  },
  {
   "cell_type": "markdown",
   "metadata": {},
   "source": [
    "At the time of writing this tutorial (mid of October 2020), the current stable version is 1.6. You should therefore see the output `Using torch 1.6.0`. If you see a lower version number, make sure you have installed the correct the environment, or ask one of your TAs. In case PyTorch 1.7 or newer will be published during the time of the course, don't worry. The interface between PyTorch versions doesn't change too much, and hence all code should also be runnable with newer versions.\n",
    "\n",
    "As in every machine learning framework, PyTorch provides functions that are stochastic like generating random numbers. However, a very good practice is to setup your code to be reproducible with the exact same random numbers. This is why we set a seed below. "
   ]
  },
  {
   "cell_type": "code",
   "execution_count": 3,
   "metadata": {},
   "outputs": [
    {
     "data": {
      "text/plain": [
       "<torch._C.Generator at 0x2ca33945f70>"
      ]
     },
     "execution_count": 3,
     "metadata": {},
     "output_type": "execute_result"
    }
   ],
   "source": [
    "torch.manual_seed(42) # Setting the seed"
   ]
  },
  {
   "cell_type": "markdown",
   "metadata": {},
   "source": [
    "### Tensors\n",
    "\n",
    "Tensors are the PyTorch equivalent to Numpy arrays, with the addition to also have support for GPU acceleration (more on that later).\n",
    "The name \"tensor\" is a generalization of concepts you already know. For instance, a vector is a 1-D tensor, and a matrix a 2-D tensor. When working with neural networks, we will use tensors of various shapes and number of dimensions.\n",
    "\n",
    "Most common functions you know from numpy can be used on tensors as well. Actually, since numpy arrays are so similar to tensors, we can convert most tensors to numpy arrays (and back) but we don't need it too often.\n",
    "\n",
    "#### Initialization\n",
    "\n",
    "Let's first start by looking at different ways of creating a tensor. There are many possible options, the most simple one is to call `torch.Tensor` passing the desired shape as input argument:"
   ]
  },
  {
   "cell_type": "code",
   "execution_count": 9,
   "metadata": {},
   "outputs": [
    {
     "name": "stdout",
     "output_type": "stream",
     "text": [
      "tensor([[[0.1053, 0.2695, 0.3588, 0.1994],\n",
      "         [0.5472, 0.0062, 0.9516, 0.0753],\n",
      "         [0.8860, 0.5832, 0.3376, 0.8090]],\n",
      "\n",
      "        [[0.5779, 0.9040, 0.5547, 0.3423],\n",
      "         [0.6343, 0.3644, 0.7104, 0.9464],\n",
      "         [0.7890, 0.2814, 0.7886, 0.5895]]])\n"
     ]
    }
   ],
   "source": [
    "x = torch.rand(2, 3, 4)\n",
    "print(x)"
   ]
  },
  {
   "cell_type": "markdown",
   "metadata": {},
   "source": [
    "The function `torch.Tensor` allocates memory for the desired tensor, but reuses any values that have already been in the memory. To directly assign values to the tensor during initialization, there are many alternatives including:\n",
    "\n",
    "* `torch.zeros`: Creates a tensor filled with zeros\n",
    "* `torch.ones`: Creates a tensor filled with ones\n",
    "* `torch.rand`: Creates a tensor with random values uniformly sampled between 0 and 1\n",
    "* `torch.randn`: Creates a tensor with random values sampled from a normal distribution with mean 0 and variance 1\n",
    "* `torch.arange`: Creates a tensor containing the values $N,N+1,N+2,...,M$\n",
    "* `torch.Tensor` (input list): Creates a tensor from the list elements you provide\n",
    "* `torch.from_numpy`: Converts a numpy array into a PyTorch tensor"
   ]
  },
  {
   "cell_type": "code",
   "execution_count": 10,
   "metadata": {},
   "outputs": [
    {
     "name": "stdout",
     "output_type": "stream",
     "text": [
      "tensor([[1., 2.],\n",
      "        [3., 4.]])\n"
     ]
    }
   ],
   "source": [
    "## TODO: Create a tensor from the list [[1, 2], [3, 4]]\n",
    "x = torch.Tensor([[1, 2], [3, 4]])\n",
    "print(x)"
   ]
  },
  {
   "cell_type": "code",
   "execution_count": 11,
   "metadata": {},
   "outputs": [
    {
     "name": "stdout",
     "output_type": "stream",
     "text": [
      "tensor([[[0.7539, 0.1952, 0.0050, 0.3068],\n",
      "         [0.1165, 0.9103, 0.6440, 0.7071],\n",
      "         [0.6581, 0.4913, 0.8913, 0.1447]],\n",
      "\n",
      "        [[0.5315, 0.1587, 0.6542, 0.3278],\n",
      "         [0.6532, 0.3958, 0.9147, 0.2036],\n",
      "         [0.2018, 0.2018, 0.9497, 0.6666]]])\n"
     ]
    }
   ],
   "source": [
    "## TODO: Create a tensor with random values between 0 and 1 with the shape [2, 3, 4]\n",
    "x = torch.rand(2, 3, 4)\n",
    "print(x)"
   ]
  },
  {
   "cell_type": "markdown",
   "metadata": {},
   "source": [
    "You can obtain the shape of a tensor in the same way as in numpy (`x.shape`), or using the `.size` method:"
   ]
  },
  {
   "cell_type": "code",
   "execution_count": 12,
   "metadata": {},
   "outputs": [
    {
     "name": "stdout",
     "output_type": "stream",
     "text": [
      "Shape: torch.Size([2, 3, 4])\n",
      "Size: torch.Size([2, 3, 4])\n",
      "Size: 2 3 4\n"
     ]
    }
   ],
   "source": [
    "shape = x.shape\n",
    "print(\"Shape:\", x.shape)\n",
    "\n",
    "size = x.size()\n",
    "print(\"Size:\", size)\n",
    "\n",
    "dim1, dim2, dim3 = x.size()\n",
    "print(\"Size:\", dim1, dim2, dim3)"
   ]
  },
  {
   "cell_type": "markdown",
   "metadata": {},
   "source": [
    "#### Operations\n",
    "\n",
    "Most operations that exist in numpy, also exist in PyTorch. A full list of operations can be found in the [PyTorch documentation](https://pytorch.org/docs/stable/tensors.html#), but we will review the most important ones here.\n",
    "\n",
    "The simplest operation is to add two tensors:"
   ]
  },
  {
   "cell_type": "code",
   "execution_count": 13,
   "metadata": {},
   "outputs": [
    {
     "name": "stdout",
     "output_type": "stream",
     "text": [
      "X1 tensor([[0.9811, 0.0874, 0.0041],\n",
      "        [0.1088, 0.1637, 0.7025]])\n",
      "X2 tensor([[0.6790, 0.9155, 0.2418],\n",
      "        [0.1591, 0.7653, 0.2979]])\n",
      "Y tensor([[1.6602, 1.0028, 0.2458],\n",
      "        [0.2680, 0.9289, 1.0004]])\n"
     ]
    }
   ],
   "source": [
    "x1 = torch.rand(2, 3)\n",
    "x2 = torch.rand(2, 3)\n",
    "\n",
    "## TODO: Sum up the tensors x1 and x2, and store the result in y\n",
    "y = x1 + x2\n",
    "\n",
    "print(\"X1\", x1)\n",
    "print(\"X2\", x2)\n",
    "print(\"Y\", y)"
   ]
  },
  {
   "cell_type": "markdown",
   "metadata": {},
   "source": [
    "Calling `x1 + x2` creates a new tensor containing the sum of the two inputs. However, we can also use in-place operations that are applied directly on the memory of a tensor. We therefore change the values of `x2` without the chance to re-accessing the values of `x2` before the operation. An example is shown below:"
   ]
  },
  {
   "cell_type": "code",
   "execution_count": 14,
   "metadata": {},
   "outputs": [
    {
     "name": "stdout",
     "output_type": "stream",
     "text": [
      "X1 (before) tensor([[0.8035, 0.3813, 0.7860],\n",
      "        [0.1115, 0.2477, 0.6524]])\n",
      "X2 (before) tensor([[0.6057, 0.3725, 0.7980],\n",
      "        [0.8399, 0.1374, 0.2331]])\n",
      "X1 (after) tensor([[0.8035, 0.3813, 0.7860],\n",
      "        [0.1115, 0.2477, 0.6524]])\n",
      "X2 (after) tensor([[1.4092, 0.7539, 1.5841],\n",
      "        [0.9514, 0.3851, 0.8855]])\n"
     ]
    }
   ],
   "source": [
    "x1 = torch.rand(2, 3)\n",
    "x2 = torch.rand(2, 3)\n",
    "print(\"X1 (before)\", x1)\n",
    "print(\"X2 (before)\", x2)\n",
    "\n",
    "x2.add_(x1)\n",
    "print(\"X1 (after)\", x1)\n",
    "print(\"X2 (after)\", x2)"
   ]
  },
  {
   "cell_type": "markdown",
   "metadata": {},
   "source": [
    "In-place operations are usually marked with a underscore postfix (e.g. \"add_\" instead of \"add\").\n",
    "\n",
    "Another common operation aims at changing the shape of a tensor. A tensor of size (2,3) can be re-organized to any other shape with the same number of elements (e.g. a tensor of size (6), or (3,2), ...). In PyTorch, this operation is called `view`:"
   ]
  },
  {
   "cell_type": "code",
   "execution_count": 15,
   "metadata": {},
   "outputs": [
    {
     "name": "stdout",
     "output_type": "stream",
     "text": [
      "X tensor([0, 1, 2, 3, 4, 5])\n"
     ]
    }
   ],
   "source": [
    "## TODO: Create a tensor with the input values [0, .., 5] (i.e. a range to 6)\n",
    "x = torch.arange(6)\n",
    "print(\"X\", x)"
   ]
  },
  {
   "cell_type": "code",
   "execution_count": 16,
   "metadata": {},
   "outputs": [
    {
     "name": "stdout",
     "output_type": "stream",
     "text": [
      "X tensor([[0, 1, 2],\n",
      "        [3, 4, 5]])\n"
     ]
    }
   ],
   "source": [
    "x = x.view(2, 3) # It's like a reshape\n",
    "print(\"X\", x)"
   ]
  },
  {
   "cell_type": "code",
   "execution_count": null,
   "metadata": {},
   "outputs": [],
   "source": [
    "x = x.permute(1, 0) # Swapping dimension 0 and 1\n",
    "print(\"X\", x)"
   ]
  },
  {
   "cell_type": "markdown",
   "metadata": {},
   "source": [
    "Other commonly used operations include matrix multiplications, which are essential for neural networks. Quite often, we have an input vector $\\mathbf{x}$, which is transformed using a learned weight matrix $\\mathbf{W}$. There are multiple ways and functions to perform matrix multiplication, some of which we list below:\n",
    "\n",
    "* `torch.matmul`: Performs the matrix product over two tensors, where the specific behavior depends on the dimensions. If both inputs are matrices (2-dimensional tensors), it performs the standard matrix product. For higher dimensional inputs, the function supports broadcasting (for details see the [documentation](https://pytorch.org/docs/stable/generated/torch.matmul.html?highlight=matmul#torch.matmul)). Can also be written as `a @ b`, similar to numpy. \n",
    "* `torch.mm`: Performs the matrix product over two matrices, but doesn't support broadcasting (see [documentation](https://pytorch.org/docs/stable/generated/torch.mm.html?highlight=torch%20mm#torch.mm))\n",
    "* `torch.bmm`: Performs the matrix product with a support batch dimension. If the first tensor $T$ is of shape ($b\\times n\\times m$), and the second tensor $R$ ($b\\times m\\times p$), the output $O$ is of shape ($b\\times n\\times p$), and has been calculated by performing $b$ matrix multiplications of the submatrices of $T$ and $R$: $O_i = T_i @ R_i$\n",
    "* `torch.einsum`: Performs matrix multiplications and more (i.e. sums of products) using the Einstein summation convention. Explanation of the Einstein sum can be found in assignment 1.\n",
    "\n",
    "Usually, we use `torch.matmul` or `torch.bmm`. We can try a matrix multiplication with `torch.matmul` below."
   ]
  },
  {
   "cell_type": "code",
   "execution_count": 18,
   "metadata": {},
   "outputs": [
    {
     "name": "stdout",
     "output_type": "stream",
     "text": [
      "X tensor([[0, 1, 2],\n",
      "        [3, 4, 5]])\n"
     ]
    }
   ],
   "source": [
    "x = torch.arange(6)\n",
    "x = x.view(2, 3)\n",
    "print(\"X\", x)"
   ]
  },
  {
   "cell_type": "code",
   "execution_count": 19,
   "metadata": {},
   "outputs": [
    {
     "name": "stdout",
     "output_type": "stream",
     "text": [
      "W tensor([[0, 1, 2],\n",
      "        [3, 4, 5],\n",
      "        [6, 7, 8]])\n"
     ]
    }
   ],
   "source": [
    "W = torch.arange(9).view(3, 3) # We can also stack multiple operations in a single line\n",
    "print(\"W\", W)"
   ]
  },
  {
   "cell_type": "code",
   "execution_count": 21,
   "metadata": {},
   "outputs": [
    {
     "name": "stdout",
     "output_type": "stream",
     "text": [
      "h tensor([[15, 18, 21],\n",
      "        [42, 54, 66]])\n"
     ]
    }
   ],
   "source": [
    "## TODO: Perform a matrix multiplication between x and W\n",
    "h = torch.matmul(x, W)\n",
    "print(\"h\", h)\n",
    "# Verify the result by calculating it by hand too!"
   ]
  },
  {
   "cell_type": "markdown",
   "metadata": {},
   "source": [
    "#### Indexing\n",
    "\n",
    "We often have the situation where we need to select a part of a tensor. Indexing works just like in numpy, so let's try it:"
   ]
  },
  {
   "cell_type": "code",
   "execution_count": 22,
   "metadata": {},
   "outputs": [
    {
     "name": "stdout",
     "output_type": "stream",
     "text": [
      "X tensor([[ 0,  1,  2,  3],\n",
      "        [ 4,  5,  6,  7],\n",
      "        [ 8,  9, 10, 11]])\n"
     ]
    }
   ],
   "source": [
    "x = torch.arange(12).view(3, 4)\n",
    "print(\"X\", x)"
   ]
  },
  {
   "cell_type": "code",
   "execution_count": 27,
   "metadata": {},
   "outputs": [
    {
     "name": "stdout",
     "output_type": "stream",
     "text": [
      "tensor([1, 5, 9])\n"
     ]
    }
   ],
   "source": [
    "## TODO: Print the second column of the tensor x\n",
    "print(x[:, 1]) "
   ]
  },
  {
   "cell_type": "code",
   "execution_count": 25,
   "metadata": {},
   "outputs": [
    {
     "name": "stdout",
     "output_type": "stream",
     "text": [
      "tensor([0, 1, 2, 3])\n"
     ]
    }
   ],
   "source": [
    "## TODO: Print the first row of the tensor x\n",
    "print(x[0, :])"
   ]
  },
  {
   "cell_type": "code",
   "execution_count": 28,
   "metadata": {},
   "outputs": [
    {
     "name": "stdout",
     "output_type": "stream",
     "text": [
      "tensor([3, 7])\n"
     ]
    }
   ],
   "source": [
    "## TODO: Print the elements of the tensor x that are both in first two rows and the last column \n",
    "print(x[:2, -1])"
   ]
  },
  {
   "cell_type": "code",
   "execution_count": 30,
   "metadata": {},
   "outputs": [
    {
     "name": "stdout",
     "output_type": "stream",
     "text": [
      "tensor([[ 4,  5,  6,  7],\n",
      "        [ 8,  9, 10, 11]])\n"
     ]
    }
   ],
   "source": [
    "## TODO: Print the middle two rows of tensor x\n",
    "print(x[1:3, :])"
   ]
  },
  {
   "cell_type": "markdown",
   "metadata": {},
   "source": [
    "### Dynamic Computation Graph and Backpropagation\n",
    "\n",
    "One of the main reasons for using PyTorch in Deep Learning projects is that we can automatically get **gradients/derivatives** of functions that we define. We will mainly use PyTorch for implementing neural networks, and they are just fancy functions. If we use weight matrices in our function that we want to learn, then those are called the **parameters** or simply the **weights**.\n",
    "\n",
    "If our neural network would output a single scalar value, we would talk about taking the **derivative**, but you will see that quite often we will have **multiple** output variables (\"values\"); in that case we talk about **gradients**. It's a more general term.\n",
    "\n",
    "Given an input $\\mathbf{x}$, we define our function by **manipulating** that input, usually by matrix-multiplications with weight matrices and additions with so-called bias vectors. As we manipulate our input, we are automatically creating a **computational graph**. This graph shows how to arrive at our output from our input. \n",
    "PyTorch is a **define-by-run** framework; this means that we can just do our manipulations, and PyTorch will keep track of that graph for us. Thus, we create a dynamic computation graph along the way.\n",
    "\n",
    "So, to recap: the only thing we have to do is to compute the **output**, and then we can ask PyTorch to automatically get the **gradients**. \n",
    "\n",
    "> **Note:  Why do we want gradients?** Consider that we have defined a function, a neural net, that is supposed to compute a certain output $y$ for an input vector $\\mathbf{x}$. We then define an **error measure** that tells us how wrong our network is; how bad it is in predicting output $y$ from input $\\mathbf{x}$. Based on this error measure, we can use the gradients to **update** the weights $\\mathbf{W}$ that were responsible for the output, so that the next time we present input $\\mathbf{x}$ to our network, the output will be closer to what we want.\n",
    "\n",
    "The first thing we have to do is to specify which tensors require gradients. By default, when we create a tensor, it does not require gradients."
   ]
  },
  {
   "cell_type": "code",
   "execution_count": 31,
   "metadata": {},
   "outputs": [
    {
     "name": "stdout",
     "output_type": "stream",
     "text": [
      "False\n"
     ]
    }
   ],
   "source": [
    "x = torch.ones((3,))\n",
    "print(x.requires_grad)"
   ]
  },
  {
   "cell_type": "markdown",
   "metadata": {},
   "source": [
    "We can change this for an existing tensor using the function `requires_grad_()` (underscore indicating that this is a in-place operation). Alternatively, when creating a tensor, you can pass the argument `requires_grad=True` to most initializers we have seen above."
   ]
  },
  {
   "cell_type": "code",
   "execution_count": 32,
   "metadata": {},
   "outputs": [
    {
     "name": "stdout",
     "output_type": "stream",
     "text": [
      "True\n"
     ]
    }
   ],
   "source": [
    "x.requires_grad_(True)\n",
    "print(x.requires_grad)"
   ]
  },
  {
   "cell_type": "markdown",
   "metadata": {},
   "source": [
    "In order to get familiar with the concept of a computation graph, we will create one for the following function:\n",
    "\n",
    "$$y = \\frac{1}{|x|}\\sum_i \\left[(x_i + 2)^2 + 3\\right]$$\n",
    "\n",
    "You could imagine that $x$ are our parameters, and we want to optimize (either maximize or minimize) the output $y$. For this, we want to obtain the gradients $\\partial y / \\partial \\mathbf{x}$. For our example, we'll use $\\mathbf{x}=[0,1,2]$ as our input."
   ]
  },
  {
   "cell_type": "code",
   "execution_count": 33,
   "metadata": {},
   "outputs": [
    {
     "name": "stdout",
     "output_type": "stream",
     "text": [
      "X tensor([0., 1., 2.], requires_grad=True)\n"
     ]
    }
   ],
   "source": [
    "## TODO: Create a tensor with values [0.0, 1.0, 2.0] which is requires gradients\n",
    "# Note that only float tensors can have gradients\n",
    "x = torch.arange(3, dtype = torch.float32, requires_grad = True)\n",
    "print(\"X\", x)"
   ]
  },
  {
   "cell_type": "markdown",
   "metadata": {},
   "source": [
    "Now let's build the computation graph step by step. You can combine multiple operations in a single line, but we will separate them here to get a better understanding of how each operation is added to the computation graph."
   ]
  },
  {
   "cell_type": "code",
   "execution_count": 35,
   "metadata": {},
   "outputs": [
    {
     "name": "stdout",
     "output_type": "stream",
     "text": [
      "Y tensor(12.6667, grad_fn=<MeanBackward0>)\n"
     ]
    }
   ],
   "source": [
    "## TODO: Implement the function above in four steps, each representing one single operation (add -> a, square -> b, add -> c, mean -> y)\n",
    "a = x + 2\n",
    "b = a ** 2\n",
    "c = b + 3\n",
    "y = c.mean()\n",
    "print(\"Y\", y)\n",
    "\n",
    "# MeanBackward means that it has been added to the gradient stacktrace"
   ]
  },
  {
   "cell_type": "markdown",
   "metadata": {},
   "source": [
    "Using the statements above, we have created a computation graph that looks similar to the figure below:\n",
    "\n",
    "<center style=\"width: 100%\"><img src=\"pytorch_computation_graph.svg\" width=\"200px\"></center>\n",
    "\n",
    "We calculate $a$ based on the inputs $x$ and the constant $2$, $b$ is $a$ squared, and so on. The visualization is an abstraction of the dependencies between inputs and outputs of the operations we have applied.\n",
    "Each node of the computation graph has automatically defined a function for calculating the gradients with respect to its inputs, `grad_fn`. You can see this when we printed the output tensor $y$. This is why the computation graph is usually visualized in the reverse direction (arrows point from the result to the inputs). We can perform backpropagation on the computation graph by calling the function `backward()` on the last output, which effectively calculates the gradients for each tensor that has the property `requires_grad=True`:"
   ]
  },
  {
   "cell_type": "code",
   "execution_count": 36,
   "metadata": {},
   "outputs": [],
   "source": [
    "y.backward()"
   ]
  },
  {
   "cell_type": "markdown",
   "metadata": {},
   "source": [
    "`x.grad` will now contain the gradient $\\partial y/ \\partial \\mathcal{x}$, and this gradient indicates how a change in $\\mathbf{x}$ will affect output $y$ given the current input $\\mathbf{x}=[0,1,2]$:"
   ]
  },
  {
   "cell_type": "code",
   "execution_count": 37,
   "metadata": {},
   "outputs": [
    {
     "name": "stdout",
     "output_type": "stream",
     "text": [
      "tensor([1.3333, 2.0000, 2.6667])\n"
     ]
    }
   ],
   "source": [
    "print(x.grad)"
   ]
  },
  {
   "cell_type": "markdown",
   "metadata": {},
   "source": [
    "We can also verify these gradients by hand. We will calculate the gradients using the chain rule, in the same way as PyTorch did it:\n",
    "\n",
    "$$\\frac{\\partial y}{\\partial x_i} = \\frac{\\partial y}{\\partial c_i}\\frac{\\partial c_i}{\\partial b_i}\\frac{\\partial b_i}{\\partial a_i}\\frac{\\partial a_i}{\\partial x_i}$$\n",
    "\n",
    "Note that we have simplified this equation to index notation, and by using the fact that all operation besides the mean do not combine the elements in the tensor. The partial derivatives are:\n",
    "\n",
    "$$\n",
    "\\frac{\\partial a_i}{\\partial x_i} = 1,\\hspace{1cm}\n",
    "\\frac{\\partial b_i}{\\partial a_i} = 2\\cdot a_i\\hspace{1cm}\n",
    "\\frac{\\partial c_i}{\\partial b_i} = 1\\hspace{1cm}\n",
    "\\frac{\\partial y}{\\partial c_i} = \\frac{1}{3}\n",
    "$$\n",
    "\n",
    "Hence, with the input being $\\mathbf{x}=[0,1,2]$, our gradients are $\\partial y/\\partial \\mathbf{x}=[4/3,2,8/3]$. The previous code cell should have printed the same result."
   ]
  },
  {
   "cell_type": "markdown",
   "metadata": {},
   "source": [
    "### GPU support\n",
    "\n",
    "A crucial feature of PyTorch is the support of GPUs, short for Graphics Processing Unit. A GPU can perform many thousands of small operations in parallel, making it very well suitable for performing large matrix operations in neural networks. When comparing GPUs to CPUs, we can list the following main differences (credit: [Kevin Krewell, 2009](https://blogs.nvidia.com/blog/2009/12/16/whats-the-difference-between-a-cpu-and-a-gpu/)) \n",
    "\n",
    "<center style=\"width: 100%\"><img src=\"comparison_CPU_GPU.png\" width=\"700px\"></center>\n",
    "\n",
    "CPUs and GPUs have both different advantages and disadvantages, which is why many computers contain both components and use them for different tasks. In case you are not familiar with GPUs, you can read up more details in this [NVIDIA blog post](https://blogs.nvidia.com/blog/2009/12/16/whats-the-difference-between-a-cpu-and-a-gpu/) or [here](https://www.intel.com/content/www/us/en/products/docs/processors/what-is-a-gpu.html). \n",
    "\n",
    "GPUs can accelerate the training of your network up to a factor of $100$ which is essential for large neural networks. PyTorch implements a lot of functionality for supporting GPUs (mostly those of NVIDIA due to the libraries [CUDA](https://developer.nvidia.com/cuda-zone) and [cuDNN](https://developer.nvidia.com/cudnn)). First, let's check whether you have a GPU available:"
   ]
  },
  {
   "cell_type": "code",
   "execution_count": 38,
   "metadata": {},
   "outputs": [
    {
     "name": "stdout",
     "output_type": "stream",
     "text": [
      "Is the GPU available? False\n"
     ]
    }
   ],
   "source": [
    "gpu_avail = torch.cuda.is_available()\n",
    "print(\"Is the GPU available? %s\" % str(gpu_avail))"
   ]
  },
  {
   "cell_type": "markdown",
   "metadata": {},
   "source": [
    "If you have a GPU on your computer but the command above returns False, make sure you have the correct CUDA-version installed. The `dl2020` environment comes with the CUDA-toolkit 10.1, which is selected for the Lisa supercomputer. Please change it if necessary (CUDA 10.2 is currently common). On Google Colab, make sure that you have selected a GPU in your runtime setup (in the menu, check under `Runtime -> Change runtime type`). \n",
    "\n",
    "By default, all tensors you create are stored on the CPU. We can push a tensor to the GPU by using the function `.to(...)`, or `.cuda()`. However, it is often a good practice to define a `device` object in your code which points to the GPU if you have one, and otherwise to the CPU. Then, you can write your code with respect to this device object, and it allows you to run the same code on both a CPU-only system, and one with a GPU. Let's try it below. We can specify the device as follows: "
   ]
  },
  {
   "cell_type": "code",
   "execution_count": 39,
   "metadata": {},
   "outputs": [
    {
     "name": "stdout",
     "output_type": "stream",
     "text": [
      "Device cpu\n"
     ]
    }
   ],
   "source": [
    "device = torch.device(\"cuda\") if torch.cuda.is_available() else torch.device(\"cpu\")\n",
    "print(\"Device\", device)"
   ]
  },
  {
   "cell_type": "markdown",
   "metadata": {},
   "source": [
    "Now let's create a tensor and push it to the device:"
   ]
  },
  {
   "cell_type": "code",
   "execution_count": 40,
   "metadata": {},
   "outputs": [
    {
     "name": "stdout",
     "output_type": "stream",
     "text": [
      "X cpu\n"
     ]
    }
   ],
   "source": [
    "x = torch.zeros(2, 3)\n",
    "\n",
    "## TODO: Push the tensor to \"device\"\n",
    "x = x.to(device) \n",
    "print(\"X\", x)"
   ]
  },
  {
   "cell_type": "markdown",
   "metadata": {},
   "source": [
    "In case you have a GPU, you should now see the attribute `device='cuda:0'` being printed next to your tensor. The zero next to cuda indicates that this is the zero-th GPU device on your computer. PyTorch also supports multi-GPU systems, but this you will only need once you have very big networks to train (if interested, see the [PyTorch documentation](https://pytorch.org/docs/stable/distributed.html#distributed-basics)). We can also compare the runtime of a large matrix multiplication on the CPU with a operation on the GPU:"
   ]
  },
  {
   "cell_type": "code",
   "execution_count": 41,
   "metadata": {},
   "outputs": [
    {
     "name": "stdout",
     "output_type": "stream",
     "text": [
      "CPU time: 0.48092s\n",
      "GPU time: 0.48799s\n"
     ]
    }
   ],
   "source": [
    "x = torch.randn(5000, 5000)\n",
    "\n",
    "## CPU version\n",
    "start_time = time.time()\n",
    "_ = torch.matmul(x, x)\n",
    "end_time = time.time()\n",
    "print(\"CPU time: %6.5fs\" % (end_time - start_time))\n",
    "\n",
    "## GPU version\n",
    "x = x.to(device)\n",
    "# The first operation on a CUDA device can be slow as it has to establish a CPU-GPU communication first. \n",
    "# Hence, we run an arbitrary command first without timing it for a fair comparison.\n",
    "if torch.cuda.is_available():\n",
    "    _ = torch.matmul(x*0.0, x)\n",
    "start_time = time.time()\n",
    "_ = torch.matmul(x, x)\n",
    "end_time = time.time()\n",
    "print(\"GPU time: %6.5fs\" % (end_time - start_time))"
   ]
  },
  {
   "cell_type": "markdown",
   "metadata": {},
   "source": [
    "Depending on the size of the operation and the CPU/GPU in your system, the speedup of this operation can be >500x. As `matmul` operations are very common in neural networks, we can already see the great benefit of training a NN on a GPU. The time estimate can be relatively noisy here because we haven't run it for multiple times. Feel free to extend this, but it also takes longer to run.\n",
    "\n",
    "When generating random numbers, the seed between CPU and GPU is not synchronized. Hence, we need to set the seed on the GPU separately to ensure a reproducible code. Note that due to different GPU architectures, running the same code on different GPUs does not guarantee the same random numbers. Still, we don't want that our code gives us a different output every time we run it on the exact same hardware. Hence, we also set the seed on the GPU:"
   ]
  },
  {
   "cell_type": "code",
   "execution_count": 42,
   "metadata": {},
   "outputs": [],
   "source": [
    "# GPU operations have a separate seed we also want to set\n",
    "if torch.cuda.is_available(): \n",
    "    torch.cuda.manual_seed(42)\n",
    "    torch.cuda.manual_seed_all(42)\n",
    "    \n",
    "# Additionally, some operations on a GPU are implemented stochastic for efficiency\n",
    "# We want to ensure that all operations are deterministic on GPU (if used) for reproducibility\n",
    "torch.backends.cudnn.deterministic = True\n",
    "torch.backends.cudnn.benchmark = False"
   ]
  },
  {
   "cell_type": "markdown",
   "metadata": {},
   "source": [
    "## Learning by example: Continuous XOR\n",
    "\n",
    "If we want to build a neural network in PyTorch, we could specify all our parameters (weight matrices, bias vectors) using `Tensors` (with `requires_grad=True`), ask PyTorch to calculate the gradients and then adjust the parameters. But things can quickly get cumbersome if we have a lot of parameters. In PyTorch, there is a package called `torch.nn` that makes building neural networks more convenient. \n",
    "\n",
    "We will introduce the libraries and all additional parts you might need to train a neural network in PyTorch, using a simple example classifier on a simple yet well known example: XOR. Given two binary inputs $x_1$ and $x_2$, the label to predict is $1$ if either $x_1$ or $x_2$ is $1$ while the other is $0$, or the label is $0$ in all other cases. The example became famous by the fact that a single neuron, i.e. a linear classifier, cannot learn this simple function.\n",
    "Hence, we will learn how to build a small neural network that can learn this function. \n",
    "To make it a little bit more interesting, we move the XOR into continuous space and introduce some gaussian noise on the binary inputs. Our desired separation of an XOR dataset could look as follows:\n",
    "\n",
    "<center style=\"width: 100%\"><img src=\"continuous_xor.svg\" width=\"350px\"></center>"
   ]
  },
  {
   "cell_type": "markdown",
   "metadata": {},
   "source": [
    "### The model\n",
    "\n",
    "The package `torch.nn` defines a series of useful classes like linear networks layers, activation functions, loss functions etc. A full list can be found [here](https://pytorch.org/docs/stable/nn.html). In case you need a certain network layer, check the documentation of the package first before writing the layer yourself as the package likely contains the code for it already. We import it below:"
   ]
  },
  {
   "cell_type": "code",
   "execution_count": 43,
   "metadata": {},
   "outputs": [],
   "source": [
    "import torch.nn as nn"
   ]
  },
  {
   "cell_type": "markdown",
   "metadata": {},
   "source": [
    "Additionally to `torch.nn`, there is also `torch.nn.functional`. It contains functions that are used in network layers. This is in contrast to `torch.nn` which defines them as `nn.Modules` (more on it below), and `torch.nn` actually uses a lot of functionalities from `torch.nn.functional`. Hence, the functional package is useful in many situations, and so we import it as well here."
   ]
  },
  {
   "cell_type": "code",
   "execution_count": 44,
   "metadata": {},
   "outputs": [],
   "source": [
    "import torch.nn.functional as F"
   ]
  },
  {
   "cell_type": "markdown",
   "metadata": {},
   "source": [
    "#### nn.Module\n",
    "\n",
    "In PyTorch, a neural network is build up out of modules. Modules can contain other modules, and a neural network is considered to be a module itself as well. The basic template of a module is as follows:"
   ]
  },
  {
   "cell_type": "code",
   "execution_count": 45,
   "metadata": {},
   "outputs": [],
   "source": [
    "class MyModule(nn.Module):\n",
    "    \n",
    "    def __init__(self):\n",
    "        super().__init__()\n",
    "        # Some init for my module\n",
    "        \n",
    "    def forward(self, x):\n",
    "        # Function for performing the calculation of the module.\n",
    "        pass"
   ]
  },
  {
   "cell_type": "markdown",
   "metadata": {},
   "source": [
    "The forward function is where the computation of the module is taken place, and is executed when you call the module (`nn = MyModule(); nn(x)`). In the init function, we usually create the parameters of the module, using `nn.Parameter`, or defining other modules that are used in the forward function. The backward calculation is done automatically, but could be overwritten as well if wanted.\n",
    "\n",
    "#### Simple classifier\n",
    "We can now make use of the pre-defined modules in the `torch.nn` package, and define our own small neural network. We will use a minimal network with a input layer, one hidden layer with tanh as activation function, and a output layer. In other words, our networks should look something like this:\n",
    "\n",
    "<center width=\"100%\"><img src=\"small_neural_network.svg\" width=\"300px\"></center>\n",
    "\n",
    "The input neurons are shown in blue, which represent the coordinates $x_1$ and $x_2$ of a data point. The hidden neurons including a tanh activation are shown in white, and the output neuron in red.\n",
    "In PyTorch, we can define this as follows:"
   ]
  },
  {
   "cell_type": "code",
   "execution_count": 47,
   "metadata": {},
   "outputs": [],
   "source": [
    "class SimpleClassifier(nn.Module):\n",
    "    \n",
    "    def __init__(self, num_inputs, num_hidden, num_outputs):\n",
    "        super().__init__()\n",
    "        # Initialize the modules we need to build the network\n",
    "        ## TODO: Implement the linear layers using nn.Linear(input_neurons, output_neurons)\n",
    "        self.linear1 = nn.Linear(num_inputs, num_hidden)\n",
    "        self.linear2 = nn.Linear(num_hidden, num_outputs)\n",
    "        ## TODO: Implement the activation function using nn.Tanh\n",
    "        self.act_fn = nn.Tanh()\n",
    "        \n",
    "        \n",
    "    def forward(self, x):\n",
    "        # Perform the calculation of the model to determine the prediction\n",
    "        ## TODO: Execute the NN modules in sequence to build the neural network computation graph\n",
    "        x = self.linear1(x)\n",
    "        x = self.act_fn(x)\n",
    "        x = self.linear2(x)\n",
    "        return x"
   ]
  },
  {
   "cell_type": "markdown",
   "metadata": {},
   "source": [
    "For the examples in this notebook, we will use a tiny neural network with two input neurons and four hidden neurons. As we perform binary classification, we will use a single output neuron. Note that we do not apply a sigmoid on the output yet. This is because other functions, especially the loss, are more efficient and precise to calculate on the original outputs instead of the sigmoid output. We will discuss the detailed reason later."
   ]
  },
  {
   "cell_type": "code",
   "execution_count": 48,
   "metadata": {},
   "outputs": [
    {
     "name": "stdout",
     "output_type": "stream",
     "text": [
      "SimpleClassifier(\n",
      "  (linear1): Linear(in_features=2, out_features=4, bias=True)\n",
      "  (linear2): Linear(in_features=4, out_features=1, bias=True)\n",
      "  (act_fn): Tanh()\n",
      ")\n"
     ]
    }
   ],
   "source": [
    "model = SimpleClassifier(num_inputs=2, num_hidden=4, num_outputs=1)\n",
    "# Printing a module shows all its submodules\n",
    "print(model)"
   ]
  },
  {
   "cell_type": "markdown",
   "metadata": {},
   "source": [
    "Printing the model lists all submodules it contains. The parameters of a module can be obtained by using its `parameters()` functions, or `named_parameters()` to get a name to each parameter object. For our small neural network, we have the following parameters:"
   ]
  },
  {
   "cell_type": "code",
   "execution_count": 49,
   "metadata": {},
   "outputs": [
    {
     "name": "stdout",
     "output_type": "stream",
     "text": [
      "Parameter linear1.weight, shape torch.Size([4, 2])\n",
      "Parameter linear1.bias, shape torch.Size([4])\n",
      "Parameter linear2.weight, shape torch.Size([1, 4])\n",
      "Parameter linear2.bias, shape torch.Size([1])\n"
     ]
    }
   ],
   "source": [
    "for name, param in model.named_parameters():\n",
    "    print(\"Parameter %s, shape %s\" % (name, str(param.shape)))"
   ]
  },
  {
   "cell_type": "markdown",
   "metadata": {},
   "source": [
    "Each linear layer has a weight matrix of the shape `[output, input]`, and a bias of the shape `[output]`. The tanh activation function does not have any parameters. Note that parameters are only registered for `nn.Module` objects that are direct object attributes, i.e. `self.a = ...`. If you define a list of modules, the parameters of those are not registered for the outer module and can cause some issues when you try to optimize your module. There are alternatives, like `nn.ModuleList`, `nn.ModuleDict` and `nn.Sequential`, that allow you to have different data structures of modules. We will use them in a few later tutorials and explain them there. "
   ]
  },
  {
   "cell_type": "markdown",
   "metadata": {},
   "source": [
    "### The data\n",
    "\n",
    "PyTorch also provides a few functionalities to load the training and test data efficiently, summarized in the package `torch.utils.data`."
   ]
  },
  {
   "cell_type": "code",
   "execution_count": 50,
   "metadata": {},
   "outputs": [],
   "source": [
    "import torch.utils.data as data"
   ]
  },
  {
   "cell_type": "markdown",
   "metadata": {},
   "source": [
    "The data package defines two classes which are the standard interface for handling data in PyTorch: `data.Dataset`, and `data.DataLoader`. The dataset class provides an uniform interface to access the training/test data, while the data loader makes sure to efficiently load and stack the data points from the dataset into batches during training."
   ]
  },
  {
   "cell_type": "markdown",
   "metadata": {},
   "source": [
    "#### The dataset class\n",
    "\n",
    "The dataset class summarizes the basic functionality of a dataset in a natural way. To define a dataset in PyTorch, we simply specify two functions: `__getitem__`, and `__len__`. The get-item function has to return the $i$-th data point in the dataset, while the len function returns the size of the dataset. For the XOR dataset, we can define the dataset class as follows:"
   ]
  },
  {
   "cell_type": "code",
   "execution_count": 51,
   "metadata": {},
   "outputs": [],
   "source": [
    "class XORDataset(data.Dataset):\n",
    "    \n",
    "    def __init__(self, size, std=0.1):\n",
    "        \"\"\"\n",
    "        Inputs:\n",
    "            size - Number of data points we want to generate\n",
    "            std - Standard deviation of the noise (see generate_continuous_xor function)\n",
    "        \"\"\"\n",
    "        super().__init__()\n",
    "        self.size = size\n",
    "        self.std = std\n",
    "        self.generate_continuous_xor()\n",
    "        \n",
    "    \n",
    "    def generate_continuous_xor(self):\n",
    "        # Each data point in the XOR dataset has two variables, x and y, that can be either 0 or 1\n",
    "        # The label is their XOR combination, i.e. 1 if only x or only y is 1 while the other is 0.\n",
    "        # If x=y, the label is 0.\n",
    "        data = torch.randint(low=0, high=2, size=(self.size, 2), dtype=torch.float32)\n",
    "        label = (data.sum(dim=1) == 1).to(torch.long)\n",
    "        # To make it slightly more challenging, we add a bit of gaussian noise to the data points.\n",
    "        data += self.std * torch.randn(data.shape)\n",
    "        \n",
    "        self.data = data\n",
    "        self.label = label\n",
    "        \n",
    "    \n",
    "    def __len__(self):\n",
    "        ## TODO: Return the number of data points the data has\n",
    "        return self.size\n",
    "    \n",
    "    \n",
    "    def __getitem__(self, idx):\n",
    "        ## TODO: Return the idx-th data point and label of the dataset\n",
    "        data_point = self.data[idx]\n",
    "        data_label = self.label[idx]\n",
    "        return data_point, data_label"
   ]
  },
  {
   "cell_type": "markdown",
   "metadata": {},
   "source": [
    "Let's try to create such a dataset and inspect it:"
   ]
  },
  {
   "cell_type": "code",
   "execution_count": 52,
   "metadata": {},
   "outputs": [
    {
     "name": "stdout",
     "output_type": "stream",
     "text": [
      "Size of dataset: 200\n",
      "Data point 0: (tensor([-0.0035,  1.1174]), tensor(1))\n"
     ]
    }
   ],
   "source": [
    "dataset = XORDataset(size=200)\n",
    "print(\"Size of dataset:\", len(dataset))\n",
    "print(\"Data point 0:\", dataset[0])"
   ]
  },
  {
   "cell_type": "markdown",
   "metadata": {},
   "source": [
    "To better relate to the dataset, we visualize the samples below. "
   ]
  },
  {
   "cell_type": "code",
   "execution_count": 53,
   "metadata": {},
   "outputs": [],
   "source": [
    "def visualize_samples(data, label):\n",
    "    if isinstance(data, torch.Tensor):\n",
    "        data = data.cpu().numpy()\n",
    "    if isinstance(label, torch.Tensor):\n",
    "        label = label.cpu().numpy()\n",
    "    data_0 = data[label == 0]\n",
    "    data_1 = data[label == 1]\n",
    "    \n",
    "    plt.figure(figsize=(4,4))\n",
    "    plt.scatter(data_0[:,0], data_0[:,1], edgecolor=\"#333\", label=\"Class 0\")\n",
    "    plt.scatter(data_1[:,0], data_1[:,1], edgecolor=\"#333\", label=\"Class 1\")\n",
    "    plt.title(\"Dataset samples\")\n",
    "    plt.ylabel(r\"$x_2$\")\n",
    "    plt.xlabel(r\"$x_1$\")\n",
    "    plt.legend()"
   ]
  },
  {
   "cell_type": "code",
   "execution_count": 54,
   "metadata": {},
   "outputs": [
    {
     "data": {
      "application/pdf": "[encoded data removed]",
      "image/svg+xml": "<?xml version=\"1.0\" encoding=\"utf-8\" standalone=\"no\"?>\n<!DOCTYPE svg PUBLIC \"-//W3C//DTD SVG 1.1//EN\"\n  \"http://www.w3.org/Graphics/SVG/1.1/DTD/svg11.dtd\">\n<svg xmlns:xlink=\"http://www.w3.org/1999/xlink\" width=\"283.789062pt\" height=\"285.283594pt\" viewBox=\"0 0 283.789062 285.283594\" xmlns=\"http://www.w3.org/2000/svg\" version=\"1.1\">\n <metadata>\n  <rdf:RDF xmlns:dc=\"http://purl.org/dc/elements/1.1/\" xmlns:cc=\"http://creativecommons.org/ns#\" xmlns:rdf=\"http://www.w3.org/1999/02/22-rdf-syntax-ns#\">\n   <cc:Work>\n    <dc:type rdf:resource=\"http://purl.org/dc/dcmitype/StillImage\"/>\n    <dc:date>2023-02-09T19:00:50.290164</dc:date>\n    <dc:format>image/svg+xml</dc:format>\n    <dc:creator>\n     <cc:Agent>\n      <dc:title>Matplotlib v3.6.3, https://matplotlib.org/</dc:title>\n     </cc:Agent>\n    </dc:creator>\n   </cc:Work>\n  </rdf:RDF>\n </metadata>\n <defs>\n  <style type=\"text/css\">*{stroke-linejoin: round; stroke-linecap: butt}</style>\n </defs>\n <g id=\"figure_1\">\n  <g id=\"patch_1\">\n   <path d=\"M 0 285.283594 \nL 283.789062 285.283594 \nL 283.789062 0 \nL 0 0 \nz\n\" style=\"fill: #ffffff\"/>\n  </g>\n  <g id=\"axes_1\">\n   <g id=\"patch_2\">\n    <path d=\"M 53.389062 243.549375 \nL 276.589063 243.549375 \nL 276.589063 21.789375 \nL 53.389062 21.789375 \nz\n\" style=\"fill: #eaeaf2\"/>\n   </g>\n   <g id=\"matplotlib.axis_1\">\n    <g id=\"xtick_1\">\n     <g id=\"line2d_1\">\n      <path d=\"M 98.50043 243.549375 \nL 98.50043 21.789375 \n\" clip-path=\"url(#p6b75542abd)\" style=\"fill: none; stroke: #ffffff; stroke-linecap: round\"/>\n     </g>\n     <g id=\"text_1\">\n      <!-- 0.0 -->\n      <g style=\"fill: #262626\" transform=\"translate(90.85543 260.922969) scale(0.11 -0.11)\">\n       <defs>\n        <path id=\"ArialMT-30\" d=\"M 266 2259 \nQ 266 3072 433 3567 \nQ 600 4063 929 4331 \nQ 1259 4600 1759 4600 \nQ 2128 4600 2406 4451 \nQ 2684 4303 2865 4023 \nQ 3047 3744 3150 3342 \nQ 3253 2941 3253 2259 \nQ 3253 1453 3087 958 \nQ 2922 463 2592 192 \nQ 2263 -78 1759 -78 \nQ 1097 -78 719 397 \nQ 266 969 266 2259 \nz\nM 844 2259 \nQ 844 1131 1108 757 \nQ 1372 384 1759 384 \nQ 2147 384 2411 759 \nQ 2675 1134 2675 2259 \nQ 2675 3391 2411 3762 \nQ 2147 4134 1753 4134 \nQ 1366 4134 1134 3806 \nQ 844 3388 844 2259 \nz\n\" transform=\"scale(0.015625)\"/>\n        <path id=\"ArialMT-2e\" d=\"M 581 0 \nL 581 641 \nL 1222 641 \nL 1222 0 \nL 581 0 \nz\n\" transform=\"scale(0.015625)\"/>\n       </defs>\n       <use xlink:href=\"#ArialMT-30\"/>\n       <use xlink:href=\"#ArialMT-2e\" x=\"55.615234\"/>\n       <use xlink:href=\"#ArialMT-30\" x=\"83.398438\"/>\n      </g>\n     </g>\n    </g>\n    <g id=\"xtick_2\">\n     <g id=\"line2d_2\">\n      <path d=\"M 167.852486 243.549375 \nL 167.852486 21.789375 \n\" clip-path=\"url(#p6b75542abd)\" style=\"fill: none; stroke: #ffffff; stroke-linecap: round\"/>\n     </g>\n     <g id=\"text_2\">\n      <!-- 0.5 -->\n      <g style=\"fill: #262626\" transform=\"translate(160.207486 260.922969) scale(0.11 -0.11)\">\n       <defs>\n        <path id=\"ArialMT-35\" d=\"M 266 1200 \nL 856 1250 \nQ 922 819 1161 601 \nQ 1400 384 1738 384 \nQ 2144 384 2425 690 \nQ 2706 997 2706 1503 \nQ 2706 1984 2436 2262 \nQ 2166 2541 1728 2541 \nQ 1456 2541 1237 2417 \nQ 1019 2294 894 2097 \nL 366 2166 \nL 809 4519 \nL 3088 4519 \nL 3088 3981 \nL 1259 3981 \nL 1013 2750 \nQ 1425 3038 1878 3038 \nQ 2478 3038 2890 2622 \nQ 3303 2206 3303 1553 \nQ 3303 931 2941 478 \nQ 2500 -78 1738 -78 \nQ 1113 -78 717 272 \nQ 322 622 266 1200 \nz\n\" transform=\"scale(0.015625)\"/>\n       </defs>\n       <use xlink:href=\"#ArialMT-30\"/>\n       <use xlink:href=\"#ArialMT-2e\" x=\"55.615234\"/>\n       <use xlink:href=\"#ArialMT-35\" x=\"83.398438\"/>\n      </g>\n     </g>\n    </g>\n    <g id=\"xtick_3\">\n     <g id=\"line2d_3\">\n      <path d=\"M 237.204542 243.549375 \nL 237.204542 21.789375 \n\" clip-path=\"url(#p6b75542abd)\" style=\"fill: none; stroke: #ffffff; stroke-linecap: round\"/>\n     </g>\n     <g id=\"text_3\">\n      <!-- 1.0 -->\n      <g style=\"fill: #262626\" transform=\"translate(229.559542 260.922969) scale(0.11 -0.11)\">\n       <defs>\n        <path id=\"ArialMT-31\" d=\"M 2384 0 \nL 1822 0 \nL 1822 3584 \nQ 1619 3391 1289 3197 \nQ 959 3003 697 2906 \nL 697 3450 \nQ 1169 3672 1522 3987 \nQ 1875 4303 2022 4600 \nL 2384 4600 \nL 2384 0 \nz\n\" transform=\"scale(0.015625)\"/>\n       </defs>\n       <use xlink:href=\"#ArialMT-31\"/>\n       <use xlink:href=\"#ArialMT-2e\" x=\"55.615234\"/>\n       <use xlink:href=\"#ArialMT-30\" x=\"83.398438\"/>\n      </g>\n     </g>\n    </g>\n    <g id=\"text_4\">\n     <!-- $x_1$ -->\n     <g style=\"fill: #262626\" transform=\"translate(158.569063 275.698594) scale(0.12 -0.12)\">\n      <defs>\n       <path id=\"DejaVuSans-Oblique-78\" d=\"M 3841 3500 \nL 2234 1784 \nL 3219 0 \nL 2559 0 \nL 1819 1388 \nL 531 0 \nL -166 0 \nL 1556 1844 \nL 641 3500 \nL 1300 3500 \nL 1972 2234 \nL 3144 3500 \nL 3841 3500 \nz\n\" transform=\"scale(0.015625)\"/>\n       <path id=\"DejaVuSans-31\" d=\"M 794 531 \nL 1825 531 \nL 1825 4091 \nL 703 3866 \nL 703 4441 \nL 1819 4666 \nL 2450 4666 \nL 2450 531 \nL 3481 531 \nL 3481 0 \nL 794 0 \nL 794 531 \nz\n\" transform=\"scale(0.015625)\"/>\n      </defs>\n      <use xlink:href=\"#DejaVuSans-Oblique-78\" transform=\"translate(0 0.3125)\"/>\n      <use xlink:href=\"#DejaVuSans-31\" transform=\"translate(59.179688 -16.09375) scale(0.7)\"/>\n     </g>\n    </g>\n   </g>\n   <g id=\"matplotlib.axis_2\">\n    <g id=\"ytick_1\">\n     <g id=\"line2d_4\">\n      <path d=\"M 53.389062 227.775566 \nL 276.589063 227.775566 \n\" clip-path=\"url(#p6b75542abd)\" style=\"fill: none; stroke: #ffffff; stroke-linecap: round\"/>\n     </g>\n     <g id=\"text_5\">\n      <!-- −0.2 -->\n      <g style=\"fill: #262626\" transform=\"translate(22.174375 231.712363) scale(0.11 -0.11)\">\n       <defs>\n        <path id=\"ArialMT-2212\" d=\"M 3381 1997 \nL 356 1997 \nL 356 2522 \nL 3381 2522 \nL 3381 1997 \nz\n\" transform=\"scale(0.015625)\"/>\n        <path id=\"ArialMT-32\" d=\"M 3222 541 \nL 3222 0 \nL 194 0 \nQ 188 203 259 391 \nQ 375 700 629 1000 \nQ 884 1300 1366 1694 \nQ 2113 2306 2375 2664 \nQ 2638 3022 2638 3341 \nQ 2638 3675 2398 3904 \nQ 2159 4134 1775 4134 \nQ 1369 4134 1125 3890 \nQ 881 3647 878 3216 \nL 300 3275 \nQ 359 3922 746 4261 \nQ 1134 4600 1788 4600 \nQ 2447 4600 2831 4234 \nQ 3216 3869 3216 3328 \nQ 3216 3053 3103 2787 \nQ 2991 2522 2730 2228 \nQ 2469 1934 1863 1422 \nQ 1356 997 1212 845 \nQ 1069 694 975 541 \nL 3222 541 \nz\n\" transform=\"scale(0.015625)\"/>\n       </defs>\n       <use xlink:href=\"#ArialMT-2212\"/>\n       <use xlink:href=\"#ArialMT-30\" x=\"58.398438\"/>\n       <use xlink:href=\"#ArialMT-2e\" x=\"114.013672\"/>\n       <use xlink:href=\"#ArialMT-32\" x=\"141.796875\"/>\n      </g>\n     </g>\n    </g>\n    <g id=\"ytick_2\">\n     <g id=\"line2d_5\">\n      <path d=\"M 53.389062 201.276224 \nL 276.589063 201.276224 \n\" clip-path=\"url(#p6b75542abd)\" style=\"fill: none; stroke: #ffffff; stroke-linecap: round\"/>\n     </g>\n     <g id=\"text_6\">\n      <!-- 0.0 -->\n      <g style=\"fill: #262626\" transform=\"translate(28.599062 205.213021) scale(0.11 -0.11)\">\n       <use xlink:href=\"#ArialMT-30\"/>\n       <use xlink:href=\"#ArialMT-2e\" x=\"55.615234\"/>\n       <use xlink:href=\"#ArialMT-30\" x=\"83.398438\"/>\n      </g>\n     </g>\n    </g>\n    <g id=\"ytick_3\">\n     <g id=\"line2d_6\">\n      <path d=\"M 53.389062 174.776882 \nL 276.589063 174.776882 \n\" clip-path=\"url(#p6b75542abd)\" style=\"fill: none; stroke: #ffffff; stroke-linecap: round\"/>\n     </g>\n     <g id=\"text_7\">\n      <!-- 0.2 -->\n      <g style=\"fill: #262626\" transform=\"translate(28.599062 178.713679) scale(0.11 -0.11)\">\n       <use xlink:href=\"#ArialMT-30\"/>\n       <use xlink:href=\"#ArialMT-2e\" x=\"55.615234\"/>\n       <use xlink:href=\"#ArialMT-32\" x=\"83.398438\"/>\n      </g>\n     </g>\n    </g>\n    <g id=\"ytick_4\">\n     <g id=\"line2d_7\">\n      <path d=\"M 53.389062 148.277539 \nL 276.589063 148.277539 \n\" clip-path=\"url(#p6b75542abd)\" style=\"fill: none; stroke: #ffffff; stroke-linecap: round\"/>\n     </g>\n     <g id=\"text_8\">\n      <!-- 0.4 -->\n      <g style=\"fill: #262626\" transform=\"translate(28.599062 152.214336) scale(0.11 -0.11)\">\n       <defs>\n        <path id=\"ArialMT-34\" d=\"M 2069 0 \nL 2069 1097 \nL 81 1097 \nL 81 1613 \nL 2172 4581 \nL 2631 4581 \nL 2631 1613 \nL 3250 1613 \nL 3250 1097 \nL 2631 1097 \nL 2631 0 \nL 2069 0 \nz\nM 2069 1613 \nL 2069 3678 \nL 634 1613 \nL 2069 1613 \nz\n\" transform=\"scale(0.015625)\"/>\n       </defs>\n       <use xlink:href=\"#ArialMT-30\"/>\n       <use xlink:href=\"#ArialMT-2e\" x=\"55.615234\"/>\n       <use xlink:href=\"#ArialMT-34\" x=\"83.398438\"/>\n      </g>\n     </g>\n    </g>\n    <g id=\"ytick_5\">\n     <g id=\"line2d_8\">\n      <path d=\"M 53.389062 121.778197 \nL 276.589063 121.778197 \n\" clip-path=\"url(#p6b75542abd)\" style=\"fill: none; stroke: #ffffff; stroke-linecap: round\"/>\n     </g>\n     <g id=\"text_9\">\n      <!-- 0.6 -->\n      <g style=\"fill: #262626\" transform=\"translate(28.599062 125.714994) scale(0.11 -0.11)\">\n       <defs>\n        <path id=\"ArialMT-36\" d=\"M 3184 3459 \nL 2625 3416 \nQ 2550 3747 2413 3897 \nQ 2184 4138 1850 4138 \nQ 1581 4138 1378 3988 \nQ 1113 3794 959 3422 \nQ 806 3050 800 2363 \nQ 1003 2672 1297 2822 \nQ 1591 2972 1913 2972 \nQ 2475 2972 2870 2558 \nQ 3266 2144 3266 1488 \nQ 3266 1056 3080 686 \nQ 2894 316 2569 119 \nQ 2244 -78 1831 -78 \nQ 1128 -78 684 439 \nQ 241 956 241 2144 \nQ 241 3472 731 4075 \nQ 1159 4600 1884 4600 \nQ 2425 4600 2770 4297 \nQ 3116 3994 3184 3459 \nz\nM 888 1484 \nQ 888 1194 1011 928 \nQ 1134 663 1356 523 \nQ 1578 384 1822 384 \nQ 2178 384 2434 671 \nQ 2691 959 2691 1453 \nQ 2691 1928 2437 2201 \nQ 2184 2475 1800 2475 \nQ 1419 2475 1153 2201 \nQ 888 1928 888 1484 \nz\n\" transform=\"scale(0.015625)\"/>\n       </defs>\n       <use xlink:href=\"#ArialMT-30\"/>\n       <use xlink:href=\"#ArialMT-2e\" x=\"55.615234\"/>\n       <use xlink:href=\"#ArialMT-36\" x=\"83.398438\"/>\n      </g>\n     </g>\n    </g>\n    <g id=\"ytick_6\">\n     <g id=\"line2d_9\">\n      <path d=\"M 53.389062 95.278855 \nL 276.589063 95.278855 \n\" clip-path=\"url(#p6b75542abd)\" style=\"fill: none; stroke: #ffffff; stroke-linecap: round\"/>\n     </g>\n     <g id=\"text_10\">\n      <!-- 0.8 -->\n      <g style=\"fill: #262626\" transform=\"translate(28.599062 99.215652) scale(0.11 -0.11)\">\n       <defs>\n        <path id=\"ArialMT-38\" d=\"M 1131 2484 \nQ 781 2613 612 2850 \nQ 444 3088 444 3419 \nQ 444 3919 803 4259 \nQ 1163 4600 1759 4600 \nQ 2359 4600 2725 4251 \nQ 3091 3903 3091 3403 \nQ 3091 3084 2923 2848 \nQ 2756 2613 2416 2484 \nQ 2838 2347 3058 2040 \nQ 3278 1734 3278 1309 \nQ 3278 722 2862 322 \nQ 2447 -78 1769 -78 \nQ 1091 -78 675 323 \nQ 259 725 259 1325 \nQ 259 1772 486 2073 \nQ 713 2375 1131 2484 \nz\nM 1019 3438 \nQ 1019 3113 1228 2906 \nQ 1438 2700 1772 2700 \nQ 2097 2700 2305 2904 \nQ 2513 3109 2513 3406 \nQ 2513 3716 2298 3927 \nQ 2084 4138 1766 4138 \nQ 1444 4138 1231 3931 \nQ 1019 3725 1019 3438 \nz\nM 838 1322 \nQ 838 1081 952 856 \nQ 1066 631 1291 507 \nQ 1516 384 1775 384 \nQ 2178 384 2440 643 \nQ 2703 903 2703 1303 \nQ 2703 1709 2433 1975 \nQ 2163 2241 1756 2241 \nQ 1359 2241 1098 1978 \nQ 838 1716 838 1322 \nz\n\" transform=\"scale(0.015625)\"/>\n       </defs>\n       <use xlink:href=\"#ArialMT-30\"/>\n       <use xlink:href=\"#ArialMT-2e\" x=\"55.615234\"/>\n       <use xlink:href=\"#ArialMT-38\" x=\"83.398438\"/>\n      </g>\n     </g>\n    </g>\n    <g id=\"ytick_7\">\n     <g id=\"line2d_10\">\n      <path d=\"M 53.389062 68.779513 \nL 276.589063 68.779513 \n\" clip-path=\"url(#p6b75542abd)\" style=\"fill: none; stroke: #ffffff; stroke-linecap: round\"/>\n     </g>\n     <g id=\"text_11\">\n      <!-- 1.0 -->\n      <g style=\"fill: #262626\" transform=\"translate(28.599062 72.716309) scale(0.11 -0.11)\">\n       <use xlink:href=\"#ArialMT-31\"/>\n       <use xlink:href=\"#ArialMT-2e\" x=\"55.615234\"/>\n       <use xlink:href=\"#ArialMT-30\" x=\"83.398438\"/>\n      </g>\n     </g>\n    </g>\n    <g id=\"ytick_8\">\n     <g id=\"line2d_11\">\n      <path d=\"M 53.389062 42.28017 \nL 276.589063 42.28017 \n\" clip-path=\"url(#p6b75542abd)\" style=\"fill: none; stroke: #ffffff; stroke-linecap: round\"/>\n     </g>\n     <g id=\"text_12\">\n      <!-- 1.2 -->\n      <g style=\"fill: #262626\" transform=\"translate(28.599062 46.216967) scale(0.11 -0.11)\">\n       <use xlink:href=\"#ArialMT-31\"/>\n       <use xlink:href=\"#ArialMT-2e\" x=\"55.615234\"/>\n       <use xlink:href=\"#ArialMT-32\" x=\"83.398438\"/>\n      </g>\n     </g>\n    </g>\n    <g id=\"text_13\">\n     <!-- $x_2$ -->\n     <g style=\"fill: #262626\" transform=\"translate(15.789375 139.089375) rotate(-90) scale(0.12 -0.12)\">\n      <defs>\n       <path id=\"DejaVuSans-32\" d=\"M 1228 531 \nL 3431 531 \nL 3431 0 \nL 469 0 \nL 469 531 \nQ 828 903 1448 1529 \nQ 2069 2156 2228 2338 \nQ 2531 2678 2651 2914 \nQ 2772 3150 2772 3378 \nQ 2772 3750 2511 3984 \nQ 2250 4219 1831 4219 \nQ 1534 4219 1204 4116 \nQ 875 4013 500 3803 \nL 500 4441 \nQ 881 4594 1212 4672 \nQ 1544 4750 1819 4750 \nQ 2544 4750 2975 4387 \nQ 3406 4025 3406 3419 \nQ 3406 3131 3298 2873 \nQ 3191 2616 2906 2266 \nQ 2828 2175 2409 1742 \nQ 1991 1309 1228 531 \nz\n\" transform=\"scale(0.015625)\"/>\n      </defs>\n      <use xlink:href=\"#DejaVuSans-Oblique-78\" transform=\"translate(0 0.3125)\"/>\n      <use xlink:href=\"#DejaVuSans-32\" transform=\"translate(59.179688 -16.09375) scale(0.7)\"/>\n     </g>\n    </g>\n   </g>\n   <g id=\"PathCollection_1\">\n    <defs>\n     <path id=\"m91090bf82a\" d=\"M 0 3 \nC 0.795609 3 1.55874 2.683901 2.12132 2.12132 \nC 2.683901 1.55874 3 0.795609 3 0 \nC 3 -0.795609 2.683901 -1.55874 2.12132 -2.12132 \nC 1.55874 -2.683901 0.795609 -3 0 -3 \nC -0.795609 -3 -1.55874 -2.683901 -2.12132 -2.12132 \nC -2.683901 -1.55874 -3 -0.795609 -3 0 \nC -3 0.795609 -2.683901 1.55874 -2.12132 2.12132 \nC -1.55874 2.683901 -0.795609 3 0 3 \nz\n\" style=\"stroke: #333333\"/>\n    </defs>\n    <g clip-path=\"url(#p6b75542abd)\">\n     <use xlink:href=\"#m91090bf82a\" x=\"104.771234\" y=\"205.09098\" style=\"fill: #4c72b0; stroke: #333333\"/>\n     <use xlink:href=\"#m91090bf82a\" x=\"256.783223\" y=\"43.728108\" style=\"fill: #4c72b0; stroke: #333333\"/>\n     <use xlink:href=\"#m91090bf82a\" x=\"239.286127\" y=\"72.896777\" style=\"fill: #4c72b0; stroke: #333333\"/>\n     <use xlink:href=\"#m91090bf82a\" x=\"233.398186\" y=\"68.255519\" style=\"fill: #4c72b0; stroke: #333333\"/>\n     <use xlink:href=\"#m91090bf82a\" x=\"95.492302\" y=\"216.913129\" style=\"fill: #4c72b0; stroke: #333333\"/>\n     <use xlink:href=\"#m91090bf82a\" x=\"90.45996\" y=\"190.431599\" style=\"fill: #4c72b0; stroke: #333333\"/>\n     <use xlink:href=\"#m91090bf82a\" x=\"252.495546\" y=\"99.988282\" style=\"fill: #4c72b0; stroke: #333333\"/>\n     <use xlink:href=\"#m91090bf82a\" x=\"256.043604\" y=\"93.210993\" style=\"fill: #4c72b0; stroke: #333333\"/>\n     <use xlink:href=\"#m91090bf82a\" x=\"227.333462\" y=\"69.583778\" style=\"fill: #4c72b0; stroke: #333333\"/>\n     <use xlink:href=\"#m91090bf82a\" x=\"83.251017\" y=\"213.626586\" style=\"fill: #4c72b0; stroke: #333333\"/>\n     <use xlink:href=\"#m91090bf82a\" x=\"255.201254\" y=\"44.134288\" style=\"fill: #4c72b0; stroke: #333333\"/>\n     <use xlink:href=\"#m91090bf82a\" x=\"246.379035\" y=\"70.368537\" style=\"fill: #4c72b0; stroke: #333333\"/>\n     <use xlink:href=\"#m91090bf82a\" x=\"115.650112\" y=\"181.60051\" style=\"fill: #4c72b0; stroke: #333333\"/>\n     <use xlink:href=\"#m91090bf82a\" x=\"229.885909\" y=\"43.8572\" style=\"fill: #4c72b0; stroke: #333333\"/>\n     <use xlink:href=\"#m91090bf82a\" x=\"101.009139\" y=\"199.780352\" style=\"fill: #4c72b0; stroke: #333333\"/>\n     <use xlink:href=\"#m91090bf82a\" x=\"229.0353\" y=\"62.256734\" style=\"fill: #4c72b0; stroke: #333333\"/>\n     <use xlink:href=\"#m91090bf82a\" x=\"88.109479\" y=\"185.109161\" style=\"fill: #4c72b0; stroke: #333333\"/>\n     <use xlink:href=\"#m91090bf82a\" x=\"251.955188\" y=\"59.635485\" style=\"fill: #4c72b0; stroke: #333333\"/>\n     <use xlink:href=\"#m91090bf82a\" x=\"247.624405\" y=\"71.863013\" style=\"fill: #4c72b0; stroke: #333333\"/>\n     <use xlink:href=\"#m91090bf82a\" x=\"241.407644\" y=\"54.75924\" style=\"fill: #4c72b0; stroke: #333333\"/>\n     <use xlink:href=\"#m91090bf82a\" x=\"93.569105\" y=\"189.793839\" style=\"fill: #4c72b0; stroke: #333333\"/>\n     <use xlink:href=\"#m91090bf82a\" x=\"105.73424\" y=\"214.1137\" style=\"fill: #4c72b0; stroke: #333333\"/>\n     <use xlink:href=\"#m91090bf82a\" x=\"88.588564\" y=\"175.637927\" style=\"fill: #4c72b0; stroke: #333333\"/>\n     <use xlink:href=\"#m91090bf82a\" x=\"98.973611\" y=\"206.059488\" style=\"fill: #4c72b0; stroke: #333333\"/>\n     <use xlink:href=\"#m91090bf82a\" x=\"113.430582\" y=\"205.626386\" style=\"fill: #4c72b0; stroke: #333333\"/>\n     <use xlink:href=\"#m91090bf82a\" x=\"94.61486\" y=\"200.667888\" style=\"fill: #4c72b0; stroke: #333333\"/>\n     <use xlink:href=\"#m91090bf82a\" x=\"114.190533\" y=\"216.515342\" style=\"fill: #4c72b0; stroke: #333333\"/>\n     <use xlink:href=\"#m91090bf82a\" x=\"215.151649\" y=\"50.849006\" style=\"fill: #4c72b0; stroke: #333333\"/>\n     <use xlink:href=\"#m91090bf82a\" x=\"254.637069\" y=\"74.831029\" style=\"fill: #4c72b0; stroke: #333333\"/>\n     <use xlink:href=\"#m91090bf82a\" x=\"239.430724\" y=\"74.019893\" style=\"fill: #4c72b0; stroke: #333333\"/>\n     <use xlink:href=\"#m91090bf82a\" x=\"94.562884\" y=\"209.987085\" style=\"fill: #4c72b0; stroke: #333333\"/>\n     <use xlink:href=\"#m91090bf82a\" x=\"223.92514\" y=\"98.336292\" style=\"fill: #4c72b0; stroke: #333333\"/>\n     <use xlink:href=\"#m91090bf82a\" x=\"247.295643\" y=\"67.321475\" style=\"fill: #4c72b0; stroke: #333333\"/>\n     <use xlink:href=\"#m91090bf82a\" x=\"99.136481\" y=\"216.434068\" style=\"fill: #4c72b0; stroke: #333333\"/>\n     <use xlink:href=\"#m91090bf82a\" x=\"111.837039\" y=\"221.762061\" style=\"fill: #4c72b0; stroke: #333333\"/>\n     <use xlink:href=\"#m91090bf82a\" x=\"120.506731\" y=\"182.743281\" style=\"fill: #4c72b0; stroke: #333333\"/>\n     <use xlink:href=\"#m91090bf82a\" x=\"230.6594\" y=\"81.802847\" style=\"fill: #4c72b0; stroke: #333333\"/>\n     <use xlink:href=\"#m91090bf82a\" x=\"218.336148\" y=\"55.397272\" style=\"fill: #4c72b0; stroke: #333333\"/>\n     <use xlink:href=\"#m91090bf82a\" x=\"91.649126\" y=\"210.373868\" style=\"fill: #4c72b0; stroke: #333333\"/>\n     <use xlink:href=\"#m91090bf82a\" x=\"231.865739\" y=\"78.55617\" style=\"fill: #4c72b0; stroke: #333333\"/>\n     <use xlink:href=\"#m91090bf82a\" x=\"99.870646\" y=\"205.785458\" style=\"fill: #4c72b0; stroke: #333333\"/>\n     <use xlink:href=\"#m91090bf82a\" x=\"243.524679\" y=\"45.079136\" style=\"fill: #4c72b0; stroke: #333333\"/>\n     <use xlink:href=\"#m91090bf82a\" x=\"96.395169\" y=\"194.004605\" style=\"fill: #4c72b0; stroke: #333333\"/>\n     <use xlink:href=\"#m91090bf82a\" x=\"228.888058\" y=\"86.321821\" style=\"fill: #4c72b0; stroke: #333333\"/>\n     <use xlink:href=\"#m91090bf82a\" x=\"240.390719\" y=\"58.35157\" style=\"fill: #4c72b0; stroke: #333333\"/>\n     <use xlink:href=\"#m91090bf82a\" x=\"72.21366\" y=\"195.779386\" style=\"fill: #4c72b0; stroke: #333333\"/>\n     <use xlink:href=\"#m91090bf82a\" x=\"218.212807\" y=\"58.12174\" style=\"fill: #4c72b0; stroke: #333333\"/>\n     <use xlink:href=\"#m91090bf82a\" x=\"248.57056\" y=\"75.800571\" style=\"fill: #4c72b0; stroke: #333333\"/>\n     <use xlink:href=\"#m91090bf82a\" x=\"84.170637\" y=\"201.744136\" style=\"fill: #4c72b0; stroke: #333333\"/>\n     <use xlink:href=\"#m91090bf82a\" x=\"95.838332\" y=\"233.469375\" style=\"fill: #4c72b0; stroke: #333333\"/>\n     <use xlink:href=\"#m91090bf82a\" x=\"95.293269\" y=\"204.670947\" style=\"fill: #4c72b0; stroke: #333333\"/>\n     <use xlink:href=\"#m91090bf82a\" x=\"77.154625\" y=\"204.800811\" style=\"fill: #4c72b0; stroke: #333333\"/>\n     <use xlink:href=\"#m91090bf82a\" x=\"262.790256\" y=\"75.932758\" style=\"fill: #4c72b0; stroke: #333333\"/>\n     <use xlink:href=\"#m91090bf82a\" x=\"228.879584\" y=\"83.618448\" style=\"fill: #4c72b0; stroke: #333333\"/>\n     <use xlink:href=\"#m91090bf82a\" x=\"254.79415\" y=\"50.906152\" style=\"fill: #4c72b0; stroke: #333333\"/>\n     <use xlink:href=\"#m91090bf82a\" x=\"77.718849\" y=\"190.703614\" style=\"fill: #4c72b0; stroke: #333333\"/>\n     <use xlink:href=\"#m91090bf82a\" x=\"240.12565\" y=\"91.940582\" style=\"fill: #4c72b0; stroke: #333333\"/>\n     <use xlink:href=\"#m91090bf82a\" x=\"250.451214\" y=\"98.882406\" style=\"fill: #4c72b0; stroke: #333333\"/>\n     <use xlink:href=\"#m91090bf82a\" x=\"119.616061\" y=\"222.362729\" style=\"fill: #4c72b0; stroke: #333333\"/>\n     <use xlink:href=\"#m91090bf82a\" x=\"109.938832\" y=\"211.580423\" style=\"fill: #4c72b0; stroke: #333333\"/>\n     <use xlink:href=\"#m91090bf82a\" x=\"96.188484\" y=\"195.217707\" style=\"fill: #4c72b0; stroke: #333333\"/>\n     <use xlink:href=\"#m91090bf82a\" x=\"97.03243\" y=\"192.998196\" style=\"fill: #4c72b0; stroke: #333333\"/>\n     <use xlink:href=\"#m91090bf82a\" x=\"240.737471\" y=\"64.526373\" style=\"fill: #4c72b0; stroke: #333333\"/>\n     <use xlink:href=\"#m91090bf82a\" x=\"228.199143\" y=\"97.435409\" style=\"fill: #4c72b0; stroke: #333333\"/>\n     <use xlink:href=\"#m91090bf82a\" x=\"96.144984\" y=\"200.494828\" style=\"fill: #4c72b0; stroke: #333333\"/>\n     <use xlink:href=\"#m91090bf82a\" x=\"108.219394\" y=\"192.171662\" style=\"fill: #4c72b0; stroke: #333333\"/>\n     <use xlink:href=\"#m91090bf82a\" x=\"109.796082\" y=\"199.147398\" style=\"fill: #4c72b0; stroke: #333333\"/>\n     <use xlink:href=\"#m91090bf82a\" x=\"240.455536\" y=\"48.900602\" style=\"fill: #4c72b0; stroke: #333333\"/>\n     <use xlink:href=\"#m91090bf82a\" x=\"239.545509\" y=\"47.138088\" style=\"fill: #4c72b0; stroke: #333333\"/>\n     <use xlink:href=\"#m91090bf82a\" x=\"98.222624\" y=\"212.576579\" style=\"fill: #4c72b0; stroke: #333333\"/>\n     <use xlink:href=\"#m91090bf82a\" x=\"251.260163\" y=\"49.007265\" style=\"fill: #4c72b0; stroke: #333333\"/>\n     <use xlink:href=\"#m91090bf82a\" x=\"233.587526\" y=\"82.289138\" style=\"fill: #4c72b0; stroke: #333333\"/>\n     <use xlink:href=\"#m91090bf82a\" x=\"249.427841\" y=\"45.045161\" style=\"fill: #4c72b0; stroke: #333333\"/>\n     <use xlink:href=\"#m91090bf82a\" x=\"89.657172\" y=\"198.02937\" style=\"fill: #4c72b0; stroke: #333333\"/>\n     <use xlink:href=\"#m91090bf82a\" x=\"235.498695\" y=\"58.888074\" style=\"fill: #4c72b0; stroke: #333333\"/>\n     <use xlink:href=\"#m91090bf82a\" x=\"99.764129\" y=\"216.80683\" style=\"fill: #4c72b0; stroke: #333333\"/>\n     <use xlink:href=\"#m91090bf82a\" x=\"109.028232\" y=\"208.931319\" style=\"fill: #4c72b0; stroke: #333333\"/>\n     <use xlink:href=\"#m91090bf82a\" x=\"88.954921\" y=\"196.362592\" style=\"fill: #4c72b0; stroke: #333333\"/>\n     <use xlink:href=\"#m91090bf82a\" x=\"214.045123\" y=\"64.499427\" style=\"fill: #4c72b0; stroke: #333333\"/>\n     <use xlink:href=\"#m91090bf82a\" x=\"226.396293\" y=\"58.739965\" style=\"fill: #4c72b0; stroke: #333333\"/>\n     <use xlink:href=\"#m91090bf82a\" x=\"203.870869\" y=\"55.718255\" style=\"fill: #4c72b0; stroke: #333333\"/>\n     <use xlink:href=\"#m91090bf82a\" x=\"88.209656\" y=\"196.668083\" style=\"fill: #4c72b0; stroke: #333333\"/>\n     <use xlink:href=\"#m91090bf82a\" x=\"117.915548\" y=\"211.48885\" style=\"fill: #4c72b0; stroke: #333333\"/>\n     <use xlink:href=\"#m91090bf82a\" x=\"93.004906\" y=\"214.217513\" style=\"fill: #4c72b0; stroke: #333333\"/>\n     <use xlink:href=\"#m91090bf82a\" x=\"227.120221\" y=\"99.884368\" style=\"fill: #4c72b0; stroke: #333333\"/>\n     <use xlink:href=\"#m91090bf82a\" x=\"103.315363\" y=\"200.285303\" style=\"fill: #4c72b0; stroke: #333333\"/>\n     <use xlink:href=\"#m91090bf82a\" x=\"96.133368\" y=\"194.377116\" style=\"fill: #4c72b0; stroke: #333333\"/>\n     <use xlink:href=\"#m91090bf82a\" x=\"90.744113\" y=\"205.008007\" style=\"fill: #4c72b0; stroke: #333333\"/>\n     <use xlink:href=\"#m91090bf82a\" x=\"100.395289\" y=\"212.670438\" style=\"fill: #4c72b0; stroke: #333333\"/>\n     <use xlink:href=\"#m91090bf82a\" x=\"212.80607\" y=\"68.364487\" style=\"fill: #4c72b0; stroke: #333333\"/>\n     <use xlink:href=\"#m91090bf82a\" x=\"221.979538\" y=\"52.624078\" style=\"fill: #4c72b0; stroke: #333333\"/>\n     <use xlink:href=\"#m91090bf82a\" x=\"73.365903\" y=\"218.659445\" style=\"fill: #4c72b0; stroke: #333333\"/>\n     <use xlink:href=\"#m91090bf82a\" x=\"237.144488\" y=\"90.05475\" style=\"fill: #4c72b0; stroke: #333333\"/>\n     <use xlink:href=\"#m91090bf82a\" x=\"111.554269\" y=\"209.151025\" style=\"fill: #4c72b0; stroke: #333333\"/>\n     <use xlink:href=\"#m91090bf82a\" x=\"97.851116\" y=\"201.097818\" style=\"fill: #4c72b0; stroke: #333333\"/>\n     <use xlink:href=\"#m91090bf82a\" x=\"215.469044\" y=\"66.386168\" style=\"fill: #4c72b0; stroke: #333333\"/>\n     <use xlink:href=\"#m91090bf82a\" x=\"111.752689\" y=\"192.100991\" style=\"fill: #4c72b0; stroke: #333333\"/>\n     <use xlink:href=\"#m91090bf82a\" x=\"225.77766\" y=\"70.549711\" style=\"fill: #4c72b0; stroke: #333333\"/>\n     <use xlink:href=\"#m91090bf82a\" x=\"209.096144\" y=\"66.117071\" style=\"fill: #4c72b0; stroke: #333333\"/>\n     <use xlink:href=\"#m91090bf82a\" x=\"114.079883\" y=\"185.529733\" style=\"fill: #4c72b0; stroke: #333333\"/>\n     <use xlink:href=\"#m91090bf82a\" x=\"244.309107\" y=\"47.366876\" style=\"fill: #4c72b0; stroke: #333333\"/>\n    </g>\n   </g>\n   <g id=\"PathCollection_2\">\n    <defs>\n     <path id=\"m5e9a43f16d\" d=\"M 0 3 \nC 0.795609 3 1.55874 2.683901 2.12132 2.12132 \nC 2.683901 1.55874 3 0.795609 3 0 \nC 3 -0.795609 2.683901 -1.55874 2.12132 -2.12132 \nC 1.55874 -2.683901 0.795609 -3 0 -3 \nC -0.795609 -3 -1.55874 -2.683901 -2.12132 -2.12132 \nC -2.683901 -1.55874 -3 -0.795609 -3 0 \nC -3 0.795609 -2.683901 1.55874 -2.12132 2.12132 \nC -1.55874 2.683901 -0.795609 3 0 3 \nz\n\" style=\"stroke: #333333\"/>\n    </defs>\n    <g clip-path=\"url(#p6b75542abd)\">\n     <use xlink:href=\"#m5e9a43f16d\" x=\"98.016512\" y=\"53.220996\" style=\"fill: #dd8452; stroke: #333333\"/>\n     <use xlink:href=\"#m5e9a43f16d\" x=\"76.936672\" y=\"50.282919\" style=\"fill: #dd8452; stroke: #333333\"/>\n     <use xlink:href=\"#m5e9a43f16d\" x=\"235.150182\" y=\"206.480287\" style=\"fill: #dd8452; stroke: #333333\"/>\n     <use xlink:href=\"#m5e9a43f16d\" x=\"217.510895\" y=\"186.332027\" style=\"fill: #dd8452; stroke: #333333\"/>\n     <use xlink:href=\"#m5e9a43f16d\" x=\"227.173678\" y=\"188.315131\" style=\"fill: #dd8452; stroke: #333333\"/>\n     <use xlink:href=\"#m5e9a43f16d\" x=\"109.116969\" y=\"69.699736\" style=\"fill: #dd8452; stroke: #333333\"/>\n     <use xlink:href=\"#m5e9a43f16d\" x=\"213.494439\" y=\"197.256064\" style=\"fill: #dd8452; stroke: #333333\"/>\n     <use xlink:href=\"#m5e9a43f16d\" x=\"258.317538\" y=\"205.314345\" style=\"fill: #dd8452; stroke: #333333\"/>\n     <use xlink:href=\"#m5e9a43f16d\" x=\"249.756222\" y=\"202.977408\" style=\"fill: #dd8452; stroke: #333333\"/>\n     <use xlink:href=\"#m5e9a43f16d\" x=\"224.503784\" y=\"206.824443\" style=\"fill: #dd8452; stroke: #333333\"/>\n     <use xlink:href=\"#m5e9a43f16d\" x=\"255.852775\" y=\"182.194408\" style=\"fill: #dd8452; stroke: #333333\"/>\n     <use xlink:href=\"#m5e9a43f16d\" x=\"84.428858\" y=\"80.178063\" style=\"fill: #dd8452; stroke: #333333\"/>\n     <use xlink:href=\"#m5e9a43f16d\" x=\"252.952221\" y=\"185.010597\" style=\"fill: #dd8452; stroke: #333333\"/>\n     <use xlink:href=\"#m5e9a43f16d\" x=\"112.047412\" y=\"65.729845\" style=\"fill: #dd8452; stroke: #333333\"/>\n     <use xlink:href=\"#m5e9a43f16d\" x=\"233.354476\" y=\"184.318528\" style=\"fill: #dd8452; stroke: #333333\"/>\n     <use xlink:href=\"#m5e9a43f16d\" x=\"69.726027\" y=\"67.506022\" style=\"fill: #dd8452; stroke: #333333\"/>\n     <use xlink:href=\"#m5e9a43f16d\" x=\"96.454791\" y=\"76.285639\" style=\"fill: #dd8452; stroke: #333333\"/>\n     <use xlink:href=\"#m5e9a43f16d\" x=\"224.621099\" y=\"213.118229\" style=\"fill: #dd8452; stroke: #333333\"/>\n     <use xlink:href=\"#m5e9a43f16d\" x=\"216.173386\" y=\"188.604044\" style=\"fill: #dd8452; stroke: #333333\"/>\n     <use xlink:href=\"#m5e9a43f16d\" x=\"101.433743\" y=\"71.046048\" style=\"fill: #dd8452; stroke: #333333\"/>\n     <use xlink:href=\"#m5e9a43f16d\" x=\"245.355299\" y=\"189.300787\" style=\"fill: #dd8452; stroke: #333333\"/>\n     <use xlink:href=\"#m5e9a43f16d\" x=\"102.010224\" y=\"78.602552\" style=\"fill: #dd8452; stroke: #333333\"/>\n     <use xlink:href=\"#m5e9a43f16d\" x=\"98.914098\" y=\"81.24258\" style=\"fill: #dd8452; stroke: #333333\"/>\n     <use xlink:href=\"#m5e9a43f16d\" x=\"262.469315\" y=\"213.775697\" style=\"fill: #dd8452; stroke: #333333\"/>\n     <use xlink:href=\"#m5e9a43f16d\" x=\"232.764406\" y=\"185.667638\" style=\"fill: #dd8452; stroke: #333333\"/>\n     <use xlink:href=\"#m5e9a43f16d\" x=\"85.660167\" y=\"66.404537\" style=\"fill: #dd8452; stroke: #333333\"/>\n     <use xlink:href=\"#m5e9a43f16d\" x=\"115.932552\" y=\"68.377344\" style=\"fill: #dd8452; stroke: #333333\"/>\n     <use xlink:href=\"#m5e9a43f16d\" x=\"119.367708\" y=\"51.484638\" style=\"fill: #dd8452; stroke: #333333\"/>\n     <use xlink:href=\"#m5e9a43f16d\" x=\"245.559437\" y=\"210.867982\" style=\"fill: #dd8452; stroke: #333333\"/>\n     <use xlink:href=\"#m5e9a43f16d\" x=\"86.16558\" y=\"70.396604\" style=\"fill: #dd8452; stroke: #333333\"/>\n     <use xlink:href=\"#m5e9a43f16d\" x=\"230.339153\" y=\"190.639861\" style=\"fill: #dd8452; stroke: #333333\"/>\n     <use xlink:href=\"#m5e9a43f16d\" x=\"101.093971\" y=\"83.373541\" style=\"fill: #dd8452; stroke: #333333\"/>\n     <use xlink:href=\"#m5e9a43f16d\" x=\"109.002647\" y=\"60.935259\" style=\"fill: #dd8452; stroke: #333333\"/>\n     <use xlink:href=\"#m5e9a43f16d\" x=\"107.909658\" y=\"64.244972\" style=\"fill: #dd8452; stroke: #333333\"/>\n     <use xlink:href=\"#m5e9a43f16d\" x=\"221.52822\" y=\"191.503272\" style=\"fill: #dd8452; stroke: #333333\"/>\n     <use xlink:href=\"#m5e9a43f16d\" x=\"86.159265\" y=\"87.216575\" style=\"fill: #dd8452; stroke: #333333\"/>\n     <use xlink:href=\"#m5e9a43f16d\" x=\"106.719623\" y=\"59.04757\" style=\"fill: #dd8452; stroke: #333333\"/>\n     <use xlink:href=\"#m5e9a43f16d\" x=\"213.246003\" y=\"187.712033\" style=\"fill: #dd8452; stroke: #333333\"/>\n     <use xlink:href=\"#m5e9a43f16d\" x=\"240.008649\" y=\"214.960614\" style=\"fill: #dd8452; stroke: #333333\"/>\n     <use xlink:href=\"#m5e9a43f16d\" x=\"104.149069\" y=\"59.536799\" style=\"fill: #dd8452; stroke: #333333\"/>\n     <use xlink:href=\"#m5e9a43f16d\" x=\"110.455243\" y=\"77.889589\" style=\"fill: #dd8452; stroke: #333333\"/>\n     <use xlink:href=\"#m5e9a43f16d\" x=\"220.144636\" y=\"200.100489\" style=\"fill: #dd8452; stroke: #333333\"/>\n     <use xlink:href=\"#m5e9a43f16d\" x=\"211.640596\" y=\"202.689093\" style=\"fill: #dd8452; stroke: #333333\"/>\n     <use xlink:href=\"#m5e9a43f16d\" x=\"107.637359\" y=\"72.685908\" style=\"fill: #dd8452; stroke: #333333\"/>\n     <use xlink:href=\"#m5e9a43f16d\" x=\"63.534517\" y=\"79.567538\" style=\"fill: #dd8452; stroke: #333333\"/>\n     <use xlink:href=\"#m5e9a43f16d\" x=\"93.062578\" y=\"87.179205\" style=\"fill: #dd8452; stroke: #333333\"/>\n     <use xlink:href=\"#m5e9a43f16d\" x=\"110.711384\" y=\"62.843654\" style=\"fill: #dd8452; stroke: #333333\"/>\n     <use xlink:href=\"#m5e9a43f16d\" x=\"88.755485\" y=\"73.504878\" style=\"fill: #dd8452; stroke: #333333\"/>\n     <use xlink:href=\"#m5e9a43f16d\" x=\"95.262724\" y=\"66.349524\" style=\"fill: #dd8452; stroke: #333333\"/>\n     <use xlink:href=\"#m5e9a43f16d\" x=\"111.341492\" y=\"78.340579\" style=\"fill: #dd8452; stroke: #333333\"/>\n     <use xlink:href=\"#m5e9a43f16d\" x=\"258.54643\" y=\"207.0183\" style=\"fill: #dd8452; stroke: #333333\"/>\n     <use xlink:href=\"#m5e9a43f16d\" x=\"80.99024\" y=\"51.067528\" style=\"fill: #dd8452; stroke: #333333\"/>\n     <use xlink:href=\"#m5e9a43f16d\" x=\"259.276624\" y=\"190.407694\" style=\"fill: #dd8452; stroke: #333333\"/>\n     <use xlink:href=\"#m5e9a43f16d\" x=\"246.017287\" y=\"177.787761\" style=\"fill: #dd8452; stroke: #333333\"/>\n     <use xlink:href=\"#m5e9a43f16d\" x=\"215.702515\" y=\"215.63955\" style=\"fill: #dd8452; stroke: #333333\"/>\n     <use xlink:href=\"#m5e9a43f16d\" x=\"219.61596\" y=\"230.953709\" style=\"fill: #dd8452; stroke: #333333\"/>\n     <use xlink:href=\"#m5e9a43f16d\" x=\"99.475157\" y=\"52.506753\" style=\"fill: #dd8452; stroke: #333333\"/>\n     <use xlink:href=\"#m5e9a43f16d\" x=\"222.319345\" y=\"184.597622\" style=\"fill: #dd8452; stroke: #333333\"/>\n     <use xlink:href=\"#m5e9a43f16d\" x=\"209.011362\" y=\"171.221767\" style=\"fill: #dd8452; stroke: #333333\"/>\n     <use xlink:href=\"#m5e9a43f16d\" x=\"85.714514\" y=\"58.048057\" style=\"fill: #dd8452; stroke: #333333\"/>\n     <use xlink:href=\"#m5e9a43f16d\" x=\"109.548621\" y=\"70.264204\" style=\"fill: #dd8452; stroke: #333333\"/>\n     <use xlink:href=\"#m5e9a43f16d\" x=\"248.253075\" y=\"189.717711\" style=\"fill: #dd8452; stroke: #333333\"/>\n     <use xlink:href=\"#m5e9a43f16d\" x=\"93.252248\" y=\"62.156026\" style=\"fill: #dd8452; stroke: #333333\"/>\n     <use xlink:href=\"#m5e9a43f16d\" x=\"105.204158\" y=\"71.926168\" style=\"fill: #dd8452; stroke: #333333\"/>\n     <use xlink:href=\"#m5e9a43f16d\" x=\"103.603578\" y=\"75.034482\" style=\"fill: #dd8452; stroke: #333333\"/>\n     <use xlink:href=\"#m5e9a43f16d\" x=\"231.755146\" y=\"182.880885\" style=\"fill: #dd8452; stroke: #333333\"/>\n     <use xlink:href=\"#m5e9a43f16d\" x=\"239.712924\" y=\"174.029726\" style=\"fill: #dd8452; stroke: #333333\"/>\n     <use xlink:href=\"#m5e9a43f16d\" x=\"248.56813\" y=\"190.568183\" style=\"fill: #dd8452; stroke: #333333\"/>\n     <use xlink:href=\"#m5e9a43f16d\" x=\"136.036725\" y=\"69.743574\" style=\"fill: #dd8452; stroke: #333333\"/>\n     <use xlink:href=\"#m5e9a43f16d\" x=\"214.954778\" y=\"217.826925\" style=\"fill: #dd8452; stroke: #333333\"/>\n     <use xlink:href=\"#m5e9a43f16d\" x=\"266.443608\" y=\"216.913399\" style=\"fill: #dd8452; stroke: #333333\"/>\n     <use xlink:href=\"#m5e9a43f16d\" x=\"228.067567\" y=\"214.001859\" style=\"fill: #dd8452; stroke: #333333\"/>\n     <use xlink:href=\"#m5e9a43f16d\" x=\"89.68311\" y=\"79.819939\" style=\"fill: #dd8452; stroke: #333333\"/>\n     <use xlink:href=\"#m5e9a43f16d\" x=\"87.428766\" y=\"69.740463\" style=\"fill: #dd8452; stroke: #333333\"/>\n     <use xlink:href=\"#m5e9a43f16d\" x=\"250.936693\" y=\"216.76051\" style=\"fill: #dd8452; stroke: #333333\"/>\n     <use xlink:href=\"#m5e9a43f16d\" x=\"87.867837\" y=\"76.875252\" style=\"fill: #dd8452; stroke: #333333\"/>\n     <use xlink:href=\"#m5e9a43f16d\" x=\"73.777213\" y=\"72.127079\" style=\"fill: #dd8452; stroke: #333333\"/>\n     <use xlink:href=\"#m5e9a43f16d\" x=\"117.555359\" y=\"59.484202\" style=\"fill: #dd8452; stroke: #333333\"/>\n     <use xlink:href=\"#m5e9a43f16d\" x=\"90.852757\" y=\"62.339909\" style=\"fill: #dd8452; stroke: #333333\"/>\n     <use xlink:href=\"#m5e9a43f16d\" x=\"258.598101\" y=\"214.375922\" style=\"fill: #dd8452; stroke: #333333\"/>\n     <use xlink:href=\"#m5e9a43f16d\" x=\"210.562353\" y=\"197.072059\" style=\"fill: #dd8452; stroke: #333333\"/>\n     <use xlink:href=\"#m5e9a43f16d\" x=\"99.36688\" y=\"55.596508\" style=\"fill: #dd8452; stroke: #333333\"/>\n     <use xlink:href=\"#m5e9a43f16d\" x=\"255.847203\" y=\"212.050535\" style=\"fill: #dd8452; stroke: #333333\"/>\n     <use xlink:href=\"#m5e9a43f16d\" x=\"85.174121\" y=\"51.139363\" style=\"fill: #dd8452; stroke: #333333\"/>\n     <use xlink:href=\"#m5e9a43f16d\" x=\"231.982549\" y=\"203.148474\" style=\"fill: #dd8452; stroke: #333333\"/>\n     <use xlink:href=\"#m5e9a43f16d\" x=\"218.827092\" y=\"214.328162\" style=\"fill: #dd8452; stroke: #333333\"/>\n     <use xlink:href=\"#m5e9a43f16d\" x=\"251.712043\" y=\"200.063128\" style=\"fill: #dd8452; stroke: #333333\"/>\n     <use xlink:href=\"#m5e9a43f16d\" x=\"92.735791\" y=\"31.869375\" style=\"fill: #dd8452; stroke: #333333\"/>\n     <use xlink:href=\"#m5e9a43f16d\" x=\"106.858862\" y=\"70.218051\" style=\"fill: #dd8452; stroke: #333333\"/>\n     <use xlink:href=\"#m5e9a43f16d\" x=\"94.845083\" y=\"53.424055\" style=\"fill: #dd8452; stroke: #333333\"/>\n     <use xlink:href=\"#m5e9a43f16d\" x=\"105.889067\" y=\"87.301654\" style=\"fill: #dd8452; stroke: #333333\"/>\n     <use xlink:href=\"#m5e9a43f16d\" x=\"97.772681\" y=\"65.227522\" style=\"fill: #dd8452; stroke: #333333\"/>\n     <use xlink:href=\"#m5e9a43f16d\" x=\"223.232455\" y=\"201.045056\" style=\"fill: #dd8452; stroke: #333333\"/>\n     <use xlink:href=\"#m5e9a43f16d\" x=\"245.846217\" y=\"191.254489\" style=\"fill: #dd8452; stroke: #333333\"/>\n     <use xlink:href=\"#m5e9a43f16d\" x=\"106.896215\" y=\"61.930681\" style=\"fill: #dd8452; stroke: #333333\"/>\n     <use xlink:href=\"#m5e9a43f16d\" x=\"223.582481\" y=\"206.936711\" style=\"fill: #dd8452; stroke: #333333\"/>\n     <use xlink:href=\"#m5e9a43f16d\" x=\"117.675605\" y=\"62.882399\" style=\"fill: #dd8452; stroke: #333333\"/>\n     <use xlink:href=\"#m5e9a43f16d\" x=\"238.57265\" y=\"216.840848\" style=\"fill: #dd8452; stroke: #333333\"/>\n     <use xlink:href=\"#m5e9a43f16d\" x=\"231.545277\" y=\"204.177822\" style=\"fill: #dd8452; stroke: #333333\"/>\n    </g>\n   </g>\n   <g id=\"patch_3\">\n    <path d=\"M 53.389062 243.549375 \nL 53.389062 21.789375 \n\" style=\"fill: none; stroke: #ffffff; stroke-width: 1.25; stroke-linejoin: miter; stroke-linecap: square\"/>\n   </g>\n   <g id=\"patch_4\">\n    <path d=\"M 276.589063 243.549375 \nL 276.589063 21.789375 \n\" style=\"fill: none; stroke: #ffffff; stroke-width: 1.25; stroke-linejoin: miter; stroke-linecap: square\"/>\n   </g>\n   <g id=\"patch_5\">\n    <path d=\"M 53.389063 243.549375 \nL 276.589062 243.549375 \n\" style=\"fill: none; stroke: #ffffff; stroke-width: 1.25; stroke-linejoin: miter; stroke-linecap: square\"/>\n   </g>\n   <g id=\"patch_6\">\n    <path d=\"M 53.389063 21.789375 \nL 276.589062 21.789375 \n\" style=\"fill: none; stroke: #ffffff; stroke-width: 1.25; stroke-linejoin: miter; stroke-linecap: square\"/>\n   </g>\n   <g id=\"text_14\">\n    <!-- Dataset samples -->\n    <g style=\"fill: #262626\" transform=\"translate(120.305 15.789375) scale(0.12 -0.12)\">\n     <defs>\n      <path id=\"ArialMT-44\" d=\"M 494 0 \nL 494 4581 \nL 2072 4581 \nQ 2606 4581 2888 4516 \nQ 3281 4425 3559 4188 \nQ 3922 3881 4101 3404 \nQ 4281 2928 4281 2316 \nQ 4281 1794 4159 1391 \nQ 4038 988 3847 723 \nQ 3656 459 3429 307 \nQ 3203 156 2883 78 \nQ 2563 0 2147 0 \nL 494 0 \nz\nM 1100 541 \nL 2078 541 \nQ 2531 541 2789 625 \nQ 3047 709 3200 863 \nQ 3416 1078 3536 1442 \nQ 3656 1806 3656 2325 \nQ 3656 3044 3420 3430 \nQ 3184 3816 2847 3947 \nQ 2603 4041 2063 4041 \nL 1100 4041 \nL 1100 541 \nz\n\" transform=\"scale(0.015625)\"/>\n      <path id=\"ArialMT-61\" d=\"M 2588 409 \nQ 2275 144 1986 34 \nQ 1697 -75 1366 -75 \nQ 819 -75 525 192 \nQ 231 459 231 875 \nQ 231 1119 342 1320 \nQ 453 1522 633 1644 \nQ 813 1766 1038 1828 \nQ 1203 1872 1538 1913 \nQ 2219 1994 2541 2106 \nQ 2544 2222 2544 2253 \nQ 2544 2597 2384 2738 \nQ 2169 2928 1744 2928 \nQ 1347 2928 1158 2789 \nQ 969 2650 878 2297 \nL 328 2372 \nQ 403 2725 575 2942 \nQ 747 3159 1072 3276 \nQ 1397 3394 1825 3394 \nQ 2250 3394 2515 3294 \nQ 2781 3194 2906 3042 \nQ 3031 2891 3081 2659 \nQ 3109 2516 3109 2141 \nL 3109 1391 \nQ 3109 606 3145 398 \nQ 3181 191 3288 0 \nL 2700 0 \nQ 2613 175 2588 409 \nz\nM 2541 1666 \nQ 2234 1541 1622 1453 \nQ 1275 1403 1131 1340 \nQ 988 1278 909 1158 \nQ 831 1038 831 891 \nQ 831 666 1001 516 \nQ 1172 366 1500 366 \nQ 1825 366 2078 508 \nQ 2331 650 2450 897 \nQ 2541 1088 2541 1459 \nL 2541 1666 \nz\n\" transform=\"scale(0.015625)\"/>\n      <path id=\"ArialMT-74\" d=\"M 1650 503 \nL 1731 6 \nQ 1494 -44 1306 -44 \nQ 1000 -44 831 53 \nQ 663 150 594 308 \nQ 525 466 525 972 \nL 525 2881 \nL 113 2881 \nL 113 3319 \nL 525 3319 \nL 525 4141 \nL 1084 4478 \nL 1084 3319 \nL 1650 3319 \nL 1650 2881 \nL 1084 2881 \nL 1084 941 \nQ 1084 700 1114 631 \nQ 1144 563 1211 522 \nQ 1278 481 1403 481 \nQ 1497 481 1650 503 \nz\n\" transform=\"scale(0.015625)\"/>\n      <path id=\"ArialMT-73\" d=\"M 197 991 \nL 753 1078 \nQ 800 744 1014 566 \nQ 1228 388 1613 388 \nQ 2000 388 2187 545 \nQ 2375 703 2375 916 \nQ 2375 1106 2209 1216 \nQ 2094 1291 1634 1406 \nQ 1016 1563 777 1677 \nQ 538 1791 414 1992 \nQ 291 2194 291 2438 \nQ 291 2659 392 2848 \nQ 494 3038 669 3163 \nQ 800 3259 1026 3326 \nQ 1253 3394 1513 3394 \nQ 1903 3394 2198 3281 \nQ 2494 3169 2634 2976 \nQ 2775 2784 2828 2463 \nL 2278 2388 \nQ 2241 2644 2061 2787 \nQ 1881 2931 1553 2931 \nQ 1166 2931 1000 2803 \nQ 834 2675 834 2503 \nQ 834 2394 903 2306 \nQ 972 2216 1119 2156 \nQ 1203 2125 1616 2013 \nQ 2213 1853 2448 1751 \nQ 2684 1650 2818 1456 \nQ 2953 1263 2953 975 \nQ 2953 694 2789 445 \nQ 2625 197 2315 61 \nQ 2006 -75 1616 -75 \nQ 969 -75 630 194 \nQ 291 463 197 991 \nz\n\" transform=\"scale(0.015625)\"/>\n      <path id=\"ArialMT-65\" d=\"M 2694 1069 \nL 3275 997 \nQ 3138 488 2766 206 \nQ 2394 -75 1816 -75 \nQ 1088 -75 661 373 \nQ 234 822 234 1631 \nQ 234 2469 665 2931 \nQ 1097 3394 1784 3394 \nQ 2450 3394 2872 2941 \nQ 3294 2488 3294 1666 \nQ 3294 1616 3291 1516 \nL 816 1516 \nQ 847 969 1125 678 \nQ 1403 388 1819 388 \nQ 2128 388 2347 550 \nQ 2566 713 2694 1069 \nz\nM 847 1978 \nL 2700 1978 \nQ 2663 2397 2488 2606 \nQ 2219 2931 1791 2931 \nQ 1403 2931 1139 2672 \nQ 875 2413 847 1978 \nz\n\" transform=\"scale(0.015625)\"/>\n      <path id=\"ArialMT-20\" transform=\"scale(0.015625)\"/>\n      <path id=\"ArialMT-6d\" d=\"M 422 0 \nL 422 3319 \nL 925 3319 \nL 925 2853 \nQ 1081 3097 1340 3245 \nQ 1600 3394 1931 3394 \nQ 2300 3394 2536 3241 \nQ 2772 3088 2869 2813 \nQ 3263 3394 3894 3394 \nQ 4388 3394 4653 3120 \nQ 4919 2847 4919 2278 \nL 4919 0 \nL 4359 0 \nL 4359 2091 \nQ 4359 2428 4304 2576 \nQ 4250 2725 4106 2815 \nQ 3963 2906 3769 2906 \nQ 3419 2906 3187 2673 \nQ 2956 2441 2956 1928 \nL 2956 0 \nL 2394 0 \nL 2394 2156 \nQ 2394 2531 2256 2718 \nQ 2119 2906 1806 2906 \nQ 1569 2906 1367 2781 \nQ 1166 2656 1075 2415 \nQ 984 2175 984 1722 \nL 984 0 \nL 422 0 \nz\n\" transform=\"scale(0.015625)\"/>\n      <path id=\"ArialMT-70\" d=\"M 422 -1272 \nL 422 3319 \nL 934 3319 \nL 934 2888 \nQ 1116 3141 1344 3267 \nQ 1572 3394 1897 3394 \nQ 2322 3394 2647 3175 \nQ 2972 2956 3137 2557 \nQ 3303 2159 3303 1684 \nQ 3303 1175 3120 767 \nQ 2938 359 2589 142 \nQ 2241 -75 1856 -75 \nQ 1575 -75 1351 44 \nQ 1128 163 984 344 \nL 984 -1272 \nL 422 -1272 \nz\nM 931 1641 \nQ 931 1000 1190 694 \nQ 1450 388 1819 388 \nQ 2194 388 2461 705 \nQ 2728 1022 2728 1688 \nQ 2728 2322 2467 2637 \nQ 2206 2953 1844 2953 \nQ 1484 2953 1207 2617 \nQ 931 2281 931 1641 \nz\n\" transform=\"scale(0.015625)\"/>\n      <path id=\"ArialMT-6c\" d=\"M 409 0 \nL 409 4581 \nL 972 4581 \nL 972 0 \nL 409 0 \nz\n\" transform=\"scale(0.015625)\"/>\n     </defs>\n     <use xlink:href=\"#ArialMT-44\"/>\n     <use xlink:href=\"#ArialMT-61\" x=\"72.216797\"/>\n     <use xlink:href=\"#ArialMT-74\" x=\"127.832031\"/>\n     <use xlink:href=\"#ArialMT-61\" x=\"155.615234\"/>\n     <use xlink:href=\"#ArialMT-73\" x=\"211.230469\"/>\n     <use xlink:href=\"#ArialMT-65\" x=\"261.230469\"/>\n     <use xlink:href=\"#ArialMT-74\" x=\"316.845703\"/>\n     <use xlink:href=\"#ArialMT-20\" x=\"344.628906\"/>\n     <use xlink:href=\"#ArialMT-73\" x=\"372.412109\"/>\n     <use xlink:href=\"#ArialMT-61\" x=\"422.412109\"/>\n     <use xlink:href=\"#ArialMT-6d\" x=\"478.027344\"/>\n     <use xlink:href=\"#ArialMT-70\" x=\"561.328125\"/>\n     <use xlink:href=\"#ArialMT-6c\" x=\"616.943359\"/>\n     <use xlink:href=\"#ArialMT-65\" x=\"639.160156\"/>\n     <use xlink:href=\"#ArialMT-73\" x=\"694.775391\"/>\n    </g>\n   </g>\n   <g id=\"legend_1\">\n    <g id=\"patch_7\">\n     <path d=\"M 197.010937 149.879219 \nL 268.889063 149.879219 \nQ 271.089063 149.879219 271.089063 147.679219 \nL 271.089063 117.659531 \nQ 271.089063 115.459531 268.889063 115.459531 \nL 197.010937 115.459531 \nQ 194.810937 115.459531 194.810937 117.659531 \nL 194.810937 147.679219 \nQ 194.810937 149.879219 197.010937 149.879219 \nz\n\" style=\"fill: #eaeaf2; opacity: 0.8; stroke: #cccccc; stroke-linejoin: miter\"/>\n    </g>\n    <g id=\"PathCollection_3\">\n     <g>\n      <use xlink:href=\"#m91090bf82a\" x=\"210.210938\" y=\"124.845625\" style=\"fill: #4c72b0; stroke: #333333\"/>\n     </g>\n    </g>\n    <g id=\"text_15\">\n     <!-- Class 0 -->\n     <g style=\"fill: #262626\" transform=\"translate(230.010938 127.733125) scale(0.11 -0.11)\">\n      <defs>\n       <path id=\"ArialMT-43\" d=\"M 3763 1606 \nL 4369 1453 \nQ 4178 706 3683 314 \nQ 3188 -78 2472 -78 \nQ 1731 -78 1267 223 \nQ 803 525 561 1097 \nQ 319 1669 319 2325 \nQ 319 3041 592 3573 \nQ 866 4106 1370 4382 \nQ 1875 4659 2481 4659 \nQ 3169 4659 3637 4309 \nQ 4106 3959 4291 3325 \nL 3694 3184 \nQ 3534 3684 3231 3912 \nQ 2928 4141 2469 4141 \nQ 1941 4141 1586 3887 \nQ 1231 3634 1087 3207 \nQ 944 2781 944 2328 \nQ 944 1744 1114 1308 \nQ 1284 872 1643 656 \nQ 2003 441 2422 441 \nQ 2931 441 3284 734 \nQ 3638 1028 3763 1606 \nz\n\" transform=\"scale(0.015625)\"/>\n      </defs>\n      <use xlink:href=\"#ArialMT-43\"/>\n      <use xlink:href=\"#ArialMT-6c\" x=\"72.216797\"/>\n      <use xlink:href=\"#ArialMT-61\" x=\"94.433594\"/>\n      <use xlink:href=\"#ArialMT-73\" x=\"150.048828\"/>\n      <use xlink:href=\"#ArialMT-73\" x=\"200.048828\"/>\n      <use xlink:href=\"#ArialMT-20\" x=\"250.048828\"/>\n      <use xlink:href=\"#ArialMT-30\" x=\"277.832031\"/>\n     </g>\n    </g>\n    <g id=\"PathCollection_4\">\n     <g>\n      <use xlink:href=\"#m5e9a43f16d\" x=\"210.210938\" y=\"140.405469\" style=\"fill: #dd8452; stroke: #333333\"/>\n     </g>\n    </g>\n    <g id=\"text_16\">\n     <!-- Class 1 -->\n     <g style=\"fill: #262626\" transform=\"translate(230.010938 143.292969) scale(0.11 -0.11)\">\n      <use xlink:href=\"#ArialMT-43\"/>\n      <use xlink:href=\"#ArialMT-6c\" x=\"72.216797\"/>\n      <use xlink:href=\"#ArialMT-61\" x=\"94.433594\"/>\n      <use xlink:href=\"#ArialMT-73\" x=\"150.048828\"/>\n      <use xlink:href=\"#ArialMT-73\" x=\"200.048828\"/>\n      <use xlink:href=\"#ArialMT-20\" x=\"250.048828\"/>\n      <use xlink:href=\"#ArialMT-31\" x=\"277.832031\"/>\n     </g>\n    </g>\n   </g>\n  </g>\n </g>\n <defs>\n  <clipPath id=\"p6b75542abd\">\n   <rect x=\"53.389062\" y=\"21.789375\" width=\"223.2\" height=\"221.76\"/>\n  </clipPath>\n </defs>\n</svg>\n",
      "text/plain": [
       "<Figure size 400x400 with 1 Axes>"
      ]
     },
     "metadata": {},
     "output_type": "display_data"
    }
   ],
   "source": [
    "visualize_samples(dataset.data, dataset.label)\n",
    "plt.show()"
   ]
  },
  {
   "cell_type": "markdown",
   "metadata": {},
   "source": [
    "#### The data loader class\n",
    "\n",
    "The class `torch.utils.data.DataLoader` represents a Python iterable over a dataset with support for automatic batching, multi-process data loading and many more features. The data loader communicates with the dataset using the function `__getitem__`, and stacks its outputs as tensors over the first dimension to form a batch.\n",
    "In contrast to the dataset class, we usually don't have to define our own data loader class, but can just create an object of it with the dataset as input. Additionally, we can configure our data loader with the following input arguments (only a selection, see full list [here](https://pytorch.org/docs/stable/data.html#torch.utils.data.DataLoader)):\n",
    "\n",
    "* `batch_size`: Number of samples to stack per batch\n",
    "* `shuffle`: If True, the data is returned in a random order. This is important during training for introducing stochasticity. \n",
    "* `num_workers`: Number of subprocesses to use for data loading. The default, 0, means that the data will be loaded in the main process which can slow down training for datasets where loading a data point takes a considerable amount of time (e.g. large images). More workers are recommended for those, but can cause issues on Windows computers. For tiny datasets as ours, 0 workers are usually faster.\n",
    "* `pin_memory`: If True, the data loader will copy Tensors into CUDA pinned memory before returning them. This can save some time for large data points on GPUs. Usually a good practice to use for a training set, but not necessarily for validation and test to save memory on the GPU.\n",
    "* `drop_last`: If True, the last batch is dropped in case it is smaller than the specified batch size. This occurs when the dataset size is not a multiple of the batch size. Only potentially helpful during training to keep a consistent batch size.\n",
    "\n",
    "Let's create a simple data loader below:"
   ]
  },
  {
   "cell_type": "code",
   "execution_count": 55,
   "metadata": {},
   "outputs": [],
   "source": [
    "data_loader = data.DataLoader(dataset, batch_size=8, shuffle=True)"
   ]
  },
  {
   "cell_type": "code",
   "execution_count": 56,
   "metadata": {},
   "outputs": [
    {
     "name": "stdout",
     "output_type": "stream",
     "text": [
      "Data inputs torch.Size([8, 2]) \n",
      " tensor([[-0.0106,  0.0625],\n",
      "        [ 0.8396, -0.1249],\n",
      "        [-0.0798,  0.9927],\n",
      "        [ 0.8241,  1.0031],\n",
      "        [-0.0280,  0.0046],\n",
      "        [-0.0636,  0.9167],\n",
      "        [-0.0035,  1.1174],\n",
      "        [-0.0688,  0.0371]])\n",
      "Data labels torch.Size([8]) \n",
      " tensor([0, 1, 1, 0, 0, 1, 1, 0])\n"
     ]
    }
   ],
   "source": [
    "# next(iter(...)) catches the first batch of the data loader\n",
    "# If shuffle is True, this will return a different batch every time we run this cell\n",
    "# For iterating over the whole dataset, we can simple use \"for batch in data_loader: ...\"\n",
    "data_inputs, data_labels = next(iter(data_loader))\n",
    "\n",
    "# The shape of the outputs are [batch_size, d_1,...,d_N] where d_1,...,d_N are the \n",
    "# dimensions of the data point returned from the dataset class\n",
    "print(\"Data inputs\", data_inputs.shape, \"\\n\", data_inputs)\n",
    "print(\"Data labels\", data_labels.shape, \"\\n\", data_labels)"
   ]
  },
  {
   "cell_type": "markdown",
   "metadata": {},
   "source": [
    "### Optimization\n",
    "\n",
    "After defining the model and the dataset, it is time to prepare the optimization of the model. During training, we will perform the following steps:\n",
    "\n",
    "1. Get a batch from the data loader\n",
    "2. Obtain the predictions from the model for the batch\n",
    "3. Calculate the loss based on the difference between predictions and labels\n",
    "4. Backpropagation: calculate the gradients for every parameter with respect to the loss\n",
    "5. Update the parameters of the model in the direction of the gradients\n",
    "\n",
    "We have seen how we can do step 1, 2 and 4 in PyTorch. Now, we will look at step 3 and 5."
   ]
  },
  {
   "cell_type": "markdown",
   "metadata": {},
   "source": [
    "#### Loss modules\n",
    "\n",
    "We can calculate the loss for a batch by simply performing a few tensor operations as those are automatically added to the computation graph. For instance, for binary classification, we can use Binary Cross Entropy (BCE) which is defined as follows:\n",
    "\n",
    "$$\\mathcal{L}_{BCE} = \\sum_i y_i \\log x_i + (1 - y_i) \\log (1 - x_i)$$\n",
    "\n",
    "where $y$ are our labels, and $x$ our predictions, both in the range of $[0,1]$. However, PyTorch already provides a list of predefined loss functions which we can use (see [here](https://pytorch.org/docs/stable/nn.html#loss-functions) for a full list). For instance, for BCE, PyTorch has two modules: `nn.BCELoss()`, `nn.BCEWithLogitsLoss()`. While `nn.BCELoss` expects the inputs $x$ to be in the range $[0,1]$, i.e. the output of a sigmoid, `nn.BCEWithLogitsLoss` combines a sigmoid layer and the BCE loss in a single class. This version is numerically more stable than using a plain Sigmoid followed by a BCE loss because of the logarithms applied in the loss function. Hence, it is adviced to use loss functions applied on \"logits\" where possible (remember to not apply a sigmoid on the output of the model in this case!). For our model defined above, we therefore use the module `nn.BCEWithLogitsLoss`. "
   ]
  },
  {
   "cell_type": "code",
   "execution_count": null,
   "metadata": {},
   "outputs": [],
   "source": [
    "loss_module = nn.BCEWithLogitsLoss()"
   ]
  },
  {
   "cell_type": "markdown",
   "metadata": {},
   "source": [
    "#### Stochastic Gradient Descent\n",
    "\n",
    "For updating the parameters, PyTorch provides the package `torch.optim` that has most popular optimizers implemented. We will discuss the specific optimizers and their differences later in the course, but will for now use the simplest of them: `torch.optim.SGD`. Stochastic Gradient Descent updates parameters by multiplying the gradients with a small constant, called learning rate, and subtracting those from the parameters (hence minimizing the loss). Therefore, we slowly move towards the direction of minimizing the loss. A good default value of the learning rate for a small network as ours is 0.1. "
   ]
  },
  {
   "cell_type": "code",
   "execution_count": null,
   "metadata": {},
   "outputs": [],
   "source": [
    "# Input to the optimizer are the parameters of the model: model.parameters()\n",
    "optimizer = torch.optim.SGD(model.parameters(), lr=0.1)"
   ]
  },
  {
   "cell_type": "markdown",
   "metadata": {},
   "source": [
    "The optimizer provides two useful functions: `optimizer.step()`, and `optimizer.zero_grad()`. The step function updates the parameters based on the gradients as explained above. The function `optimizer.zero_grad()` sets the gradients of all parameters to zero. While this function seems less relevant at first, it is a crucial pre-step before performing backpropagation. If we would call the `backward` function on the loss while the parameter gradients are non-zero from the previous batch, the new gradients would actually be added to the previous ones instead of overwriting them. This is done because a parameter might occur multiple times in a computation graph, and we need to sum the gradients in this case instead of replacing them. Hence, remember to call `optimizer.zero_grad()` before calculating the gradients of a batch."
   ]
  },
  {
   "cell_type": "markdown",
   "metadata": {},
   "source": [
    "### Training\n",
    "\n",
    "Finally, we are ready to train our model. As a first step, we create a slightly larger dataset and specify a data loader with a larger batch size. "
   ]
  },
  {
   "cell_type": "code",
   "execution_count": null,
   "metadata": {},
   "outputs": [],
   "source": [
    "train_dataset = XORDataset(size=1000)\n",
    "train_data_loader = data.DataLoader(train_dataset, batch_size=128, shuffle=True)"
   ]
  },
  {
   "cell_type": "markdown",
   "metadata": {},
   "source": [
    "Now, we can write a small training function. Remember our five steps: load a batch, obtain the predictions, calculate the loss, backpropagate, and update. Additionally, we have to push all data and model parameters to the device of our choice (GPU if available). For the tiny neural network we have, communicating the data to the GPU actually takes much more time than we could save from running the operation on GPU. For large networks, the communication time is significantly smaller than the actual runtime making a GPU crucial in these cases. Still, to practice, we will push the data to GPU here. "
   ]
  },
  {
   "cell_type": "code",
   "execution_count": null,
   "metadata": {},
   "outputs": [],
   "source": [
    "# Push model to device. Has to be only done once\n",
    "model.to(device)"
   ]
  },
  {
   "cell_type": "markdown",
   "metadata": {},
   "source": [
    "In addition, we set our model to training mode. This is done by calling `model.train()`. There exist certain modules that need to perform a different forward step during training than during testing (e.g. BatchNorm and Dropout), and we can switch between them using `model.train()` and `model.eval()`."
   ]
  },
  {
   "cell_type": "code",
   "execution_count": null,
   "metadata": {},
   "outputs": [],
   "source": [
    "def train_model(model, optimizer, data_loader, loss_module, num_epochs=100):\n",
    "    # Set model to train mode\n",
    "    model.train() \n",
    "    \n",
    "    # Training loop\n",
    "    for epoch in tqdm(range(num_epochs)):\n",
    "        for data_inputs, data_labels in data_loader:\n",
    "            \n",
    "            ## TODO: Step 1 - Move input data to device\n",
    "            data_inputs, data_labels = ...\n",
    "            \n",
    "            ## TODO: Step 2 - Run the model on the input data\n",
    "            preds = ...\n",
    "            \n",
    "            ## TODO: Step 3 - Calculate the loss using the module loss_module\n",
    "            loss = ...\n",
    "            \n",
    "            ## TODO: Step 4 - Perform backpropagation\n",
    "            ...\n",
    "            \n",
    "            ## TODO: Step 5 - Update parameters\n",
    "            ..."
   ]
  },
  {
   "cell_type": "code",
   "execution_count": null,
   "metadata": {},
   "outputs": [],
   "source": [
    "train_model(model, optimizer, train_data_loader, loss_module)"
   ]
  },
  {
   "cell_type": "markdown",
   "metadata": {},
   "source": [
    "#### Saving a model\n",
    "\n",
    "After finish training a model, we save the model to disk so that we can load the same weights at a later time. For this, we extract the so-called `state_dict` from the model which contains all learnable parameters. For our simple model, the state dict contains the following entries:"
   ]
  },
  {
   "cell_type": "code",
   "execution_count": null,
   "metadata": {},
   "outputs": [],
   "source": [
    "state_dict = model.state_dict()\n",
    "print(state_dict)"
   ]
  },
  {
   "cell_type": "markdown",
   "metadata": {},
   "source": [
    "To save the state dictionary, we can use `torch.save`:"
   ]
  },
  {
   "cell_type": "code",
   "execution_count": null,
   "metadata": {},
   "outputs": [],
   "source": [
    "# torch.save(object, filename). For the filename, any extension can be used\n",
    "torch.save(state_dict, \"our_model.tar\")"
   ]
  },
  {
   "cell_type": "markdown",
   "metadata": {},
   "source": [
    "To load a model from a state dict, we use the function `torch.load` to load the state dict from the disk, and the module function `load_state_dict` to overwrite our parameters with the new values:"
   ]
  },
  {
   "cell_type": "code",
   "execution_count": null,
   "metadata": {},
   "outputs": [],
   "source": [
    "# Load state dict from the disk (make sure it is the same name as above)\n",
    "state_dict = torch.load(\"our_model.tar\")\n",
    "\n",
    "# Create a new model and load the state\n",
    "new_model = SimpleClassifier(num_inputs=2, num_hidden=4, num_outputs=1)\n",
    "new_model.load_state_dict(state_dict)\n",
    "\n",
    "# Verify that the parameters are the same\n",
    "print(\"Original model\\n\", model.state_dict())\n",
    "print(\"\\nLoaded model\\n\", new_model.state_dict())"
   ]
  },
  {
   "cell_type": "markdown",
   "metadata": {},
   "source": [
    "A detailed tutorial on saving and loading models in PyTorch can be found [here](https://pytorch.org/tutorials/beginner/saving_loading_models.html)."
   ]
  },
  {
   "cell_type": "markdown",
   "metadata": {},
   "source": [
    "### Evaluation\n",
    "\n",
    "Once we have trained a model, it is time to evaluate it on a held-out test set. As our dataset consist of randomly generated data points, we need to first create a test set with a corresponding data loader."
   ]
  },
  {
   "cell_type": "code",
   "execution_count": null,
   "metadata": {},
   "outputs": [],
   "source": [
    "test_dataset = XORDataset(size=500)\n",
    "# drop_last -> Don't drop the last batch although it is smaller than 128\n",
    "test_data_loader = data.DataLoader(test_dataset, batch_size=128, shuffle=False, drop_last=False) "
   ]
  },
  {
   "cell_type": "markdown",
   "metadata": {},
   "source": [
    "As metric, we will use accuracy which is calculated as follows:\n",
    "\n",
    "$$acc = \\frac{\\#\\text{correct predictions}}{\\#\\text{all predictions}} = \\frac{TP+TN}{TP+TN+FP+FN}$$\n",
    "\n",
    "where TP are the true positives, TN true negatives, FP false positives, and FN the fale negatives. \n",
    "\n",
    "When evaluating the model, we don't need to keep track of the computation graph as we don't intend to calculate the gradients. This reduces the required memory and speed up the model. In PyTorch, we can deactivate the computation graph using `with torch.no_grad(): ...`. Remember to additionally set the model to eval mode."
   ]
  },
  {
   "cell_type": "code",
   "execution_count": null,
   "metadata": {},
   "outputs": [],
   "source": [
    "def eval_model(model, data_loader):\n",
    "    model.eval() # Set model to eval mode\n",
    "    true_preds, num_preds = 0., 0.\n",
    "    \n",
    "    with torch.no_grad(): # Deactivate gradients for the following code\n",
    "        for data_inputs, data_labels in data_loader:\n",
    "            \n",
    "            ## TODO: Step 1 - Move data to device\n",
    "            data_inputs, data_labels = data_inputs.to(device), data_labels.to(device)\n",
    "            \n",
    "            ## TODO: Step 2 - Run the model on the input data\n",
    "            preds = ...\n",
    "            \n",
    "            ## TODO: Step 3 - Determine binary predictions of the model\n",
    "            pred_labels = ...\n",
    "            \n",
    "            ## TODO: Step 4 - Keep records of predictions for the accuracy metric (true_preds=TP+TN, num_preds=TP+TN+FP+FN)\n",
    "            true_preds += ...\n",
    "            num_preds += ...\n",
    "            \n",
    "    acc = true_preds / num_preds\n",
    "    print(\"Accuracy of the model: %4.2f%%\" % (100.0*acc))"
   ]
  },
  {
   "cell_type": "code",
   "execution_count": null,
   "metadata": {},
   "outputs": [],
   "source": [
    "eval_model(model, test_data_loader)"
   ]
  },
  {
   "cell_type": "markdown",
   "metadata": {},
   "source": [
    "If we trained our model correctly, we should see a score close to 100% accuracy. However, this is only possible because of our simple task, and unfortunately, we usually don't get such high scores on test sets of more complex tasks."
   ]
  },
  {
   "cell_type": "markdown",
   "metadata": {},
   "source": [
    "#### Visualizing classification boundaries\n",
    "\n",
    "To visualize what our model has learned, we can perform a prediction for every data point in a range of $[-0.5, 1.5]$, and visualize the predicted class as in the sample figure at the beginning of this section. This shows where the model has created decision boundaries, and which points would be classified as $0$, and which as $1$. We therefore get a background image out of blue (class 0) and orange (class 1). The spots where the model is uncertain we will see a blurry overlap. The specific code is less relevant compared to the output figure which should hopefully show us a clear separation of classes:"
   ]
  },
  {
   "cell_type": "code",
   "execution_count": null,
   "metadata": {},
   "outputs": [],
   "source": [
    "@torch.no_grad() # Decorator, same effect as \"with torch.no_grad(): ...\" over the whole function.\n",
    "def visualize_classification(model, data, label):\n",
    "    if isinstance(data, torch.Tensor):\n",
    "        data = data.cpu().numpy()\n",
    "    if isinstance(label, torch.Tensor):\n",
    "        label = label.cpu().numpy()\n",
    "    data_0 = data[label == 0]\n",
    "    data_1 = data[label == 1]\n",
    "    \n",
    "    plt.figure(figsize=(4,4))\n",
    "    plt.scatter(data_0[:,0], data_0[:,1], edgecolor=\"#333\", label=\"Class 0\")\n",
    "    plt.scatter(data_1[:,0], data_1[:,1], edgecolor=\"#333\", label=\"Class 1\")\n",
    "    plt.title(\"Dataset samples\")\n",
    "    plt.ylabel(r\"$x_2$\")\n",
    "    plt.xlabel(r\"$x_1$\")\n",
    "    plt.legend()\n",
    "    \n",
    "    # Let's make use of a lot of operations we have learned above\n",
    "    model.to(device)\n",
    "    c0 = torch.Tensor(to_rgba(\"C0\")).to(device)\n",
    "    c1 = torch.Tensor(to_rgba(\"C1\")).to(device)\n",
    "    x1 = torch.arange(-0.5, 1.5, step=0.01, device=device)\n",
    "    x2 = torch.arange(-0.5, 1.5, step=0.01, device=device)\n",
    "    xx1, xx2 = torch.meshgrid(x1, x2) # Meshgrid function as in numpy\n",
    "    model_inputs = torch.stack([xx1, xx2], dim=-1)\n",
    "    preds = model(model_inputs)\n",
    "    preds = torch.sigmoid(preds)\n",
    "    output_image = preds * c0[None,None] + (1 - preds) * c1[None,None] # Specifying \"None\" in a dimension creates a new one\n",
    "    output_image = output_image.cpu().numpy() # Convert to numpy array. This only works for tensors on CPU, hence first push to CPU\n",
    "    plt.imshow(output_image, origin='upper', extent=(-0.5, 1.5, -0.5, 1.5))\n",
    "    plt.grid(False)\n",
    "\n",
    "visualize_classification(model, dataset.data, dataset.label)\n",
    "plt.show()"
   ]
  },
  {
   "cell_type": "markdown",
   "metadata": {},
   "source": [
    "The decision boundaries might not look exactly as in the figure in the preamble of this section which can be caused by running it on CPU or a different GPU architecture. Nevertheless, the result on the accuracy metric should be the approximately the same. "
   ]
  }
 ],
 "metadata": {
  "kernelspec": {
   "display_name": "Python 3",
   "language": "python",
   "name": "python3"
  },
  "language_info": {
   "codemirror_mode": {
    "name": "ipython",
    "version": 3
   },
   "file_extension": ".py",
   "mimetype": "text/x-python",
   "name": "python",
   "nbconvert_exporter": "python",
   "pygments_lexer": "ipython3",
   "version": "3.10.4"
  },
  "vscode": {
   "interpreter": {
    "hash": "26de051ba29f2982a8de78e945f0abaf191376122a1563185a90213a26c5da77"
   }
  }
 },
 "nbformat": 4,
 "nbformat_minor": 4
}
