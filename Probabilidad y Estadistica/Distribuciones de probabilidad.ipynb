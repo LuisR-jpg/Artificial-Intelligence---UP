{
 "cells": [
  {
   "cell_type": "code",
   "execution_count": 27,
   "id": "beginning-surrey",
   "metadata": {},
   "outputs": [],
   "source": [
    "%matplotlib inline\n",
    "import matplotlib.pyplot as plt\n",
    "import numpy as np\n",
    "from scipy.stats import *\n",
    "from sympy import *\n",
    "x = symbols('x')"
   ]
  },
  {
   "cell_type": "markdown",
   "id": "lucky-arabic",
   "metadata": {},
   "source": [
    "# Distribuciones de probabilidad"
   ]
  },
  {
   "cell_type": "markdown",
   "id": "moderate-constant",
   "metadata": {},
   "source": [
    "## Discretas"
   ]
  },
  {
   "cell_type": "markdown",
   "id": "composed-qatar",
   "metadata": {},
   "source": [
    "### Bernoulli"
   ]
  },
  {
   "cell_type": "code",
   "execution_count": null,
   "id": "statistical-stomach",
   "metadata": {},
   "outputs": [],
   "source": []
  },
  {
   "cell_type": "markdown",
   "id": "lined-nightlife",
   "metadata": {},
   "source": [
    "### Binomial"
   ]
  },
  {
   "cell_type": "code",
   "execution_count": null,
   "id": "solved-speech",
   "metadata": {},
   "outputs": [],
   "source": []
  },
  {
   "cell_type": "markdown",
   "id": "mental-express",
   "metadata": {},
   "source": [
    "### Hipergeométrica"
   ]
  },
  {
   "cell_type": "markdown",
   "id": "fatal-dining",
   "metadata": {},
   "source": [
    "### Poisson"
   ]
  },
  {
   "cell_type": "code",
   "execution_count": null,
   "id": "specified-julian",
   "metadata": {},
   "outputs": [],
   "source": []
  },
  {
   "cell_type": "markdown",
   "id": "weekly-giant",
   "metadata": {},
   "source": [
    "### Geométrica"
   ]
  },
  {
   "cell_type": "code",
   "execution_count": null,
   "id": "fifth-trash",
   "metadata": {},
   "outputs": [],
   "source": []
  },
  {
   "cell_type": "markdown",
   "id": "latest-miller",
   "metadata": {},
   "source": [
    "## Continuas"
   ]
  },
  {
   "cell_type": "markdown",
   "id": "comprehensive-turkey",
   "metadata": {},
   "source": [
    "### Uniforme"
   ]
  },
  {
   "cell_type": "code",
   "execution_count": 26,
   "id": "tropical-restaurant",
   "metadata": {},
   "outputs": [
    {
     "data": {
      "text/plain": [
       "'\\n# Suponga que un vuelo entre Aguascalientes y la Ciudad de México puede durar cualquier tiempo ente 45 y 65 minutos, con igual probabilidad\\n# Sea X = Tiempo que tarda el vuelo. Entonces:\\nU = Uniform(45, 65)\\n# Exprese la función de densidad de probabilidad de X\\nprint(U.fdp)\\n# Obtenga la función de distribución de X\\nprint(U.fd)\\n# Calcule el tiempo esperado de duración del vuelo R = 55\\nprint(U.E)\\n# Calcule la probabilidad de que el vuelo tome 50 minutos o menos R = 0.25\\nprint(U.Probabilidad(d = 50))\\n# Calcule la probabilidad de que el vuelo tome más de 50 minutos R = 0.75\\nprint(U.Probabilidad(c = 50))\\n'"
      ]
     },
     "execution_count": 26,
     "metadata": {},
     "output_type": "execute_result"
    }
   ],
   "source": [
    "class Uniform:\n",
    "    def __init__(self, a, b):\n",
    "        self.a = a\n",
    "        self.b = b\n",
    "        self.fdp = 1/(b - a)\n",
    "        self.E = (a + b)/2 #Valor esperado\n",
    "        self.Var = (b - a)*(b - a)/12 #Varianza\n",
    "        self.fd = \"(x - \" + str(a) + \")/(\" + str(b) + \" - \" + str(a) + \")\" #Función de distribución\n",
    "    def Probabilidad(self, c = -1, d = -1):\n",
    "        if c == -1: c = self.a\n",
    "        if d == -1: d = self.b\n",
    "        return (d - c)/(self.b - self.a)\n",
    "\n",
    "\"\"\"\n",
    "Sea X ~ U(13,26)\n",
    "U = Uniform(13, 26)\n",
    "Obtenga la fdp de X y esboce su gráfica\n",
    "...\n",
    "Calcule P(15 ≤ X ≤ 20) R= 0.3848\n",
    "print(U.Probabilidad(15, 20))\n",
    "Calcule P(X ≤ 19.5) R = 0.5000\n",
    "print(U.Probabilidad(d = 19.5))\n",
    "Calcule P( X ≥ 23.4) R = 0.2000\n",
    "print(U.Probabilidad(c = 23.4))\n",
    "Obtenga E(X) R = 19.5\n",
    "print(U.E)\n",
    "Obtenga Var(X) R = 14.0833\n",
    "print(U.Var)\n",
    "\"\"\"    \n",
    "\"\"\"\n",
    "# Suponga que un vuelo entre Aguascalientes y la Ciudad de México puede durar cualquier tiempo ente 45 y 65 minutos, con igual probabilidad\n",
    "# Sea X = Tiempo que tarda el vuelo. Entonces:\n",
    "U = Uniform(45, 65)\n",
    "# Exprese la función de densidad de probabilidad de X\n",
    "print(U.fdp)\n",
    "# Obtenga la función de distribución de X\n",
    "print(U.fd)\n",
    "# Calcule el tiempo esperado de duración del vuelo R = 55\n",
    "print(U.E)\n",
    "# Calcule la probabilidad de que el vuelo tome 50 minutos o menos R = 0.25\n",
    "print(U.Probabilidad(d = 50))\n",
    "# Calcule la probabilidad de que el vuelo tome más de 50 minutos R = 0.75\n",
    "print(U.Probabilidad(c = 50))\n",
    "\"\"\""
   ]
  },
  {
   "cell_type": "markdown",
   "id": "certified-sodium",
   "metadata": {},
   "source": [
    "### Exponencial"
   ]
  },
  {
   "cell_type": "code",
   "execution_count": 31,
   "id": "convenient-travel",
   "metadata": {},
   "outputs": [],
   "source": [
    "class Exponential:\n",
    "    def __init__(self, lam):\n",
    "        self.lam = lam\n",
    "        self.fdp = lam*exp(-lam*x)\n",
    "        self.fd = 1 - exp(-lam*x) #Función de distribución\n",
    "        self.E = 1/lam #Valor esperado\n",
    "        self.Var = 1/(lam**2) #Varianza\n",
    "    def Probabilidad(self, c = -1, d = -1):\n",
    "        if c == -1: c = self.a\n",
    "        if d == -1: d = self.b\n",
    "        return self.fd.subs(x, d) - self.fd.subs(x, c)\n",
    "    \n",
    "E = Exponential(0.2)"
   ]
  },
  {
   "cell_type": "code",
   "execution_count": null,
   "id": "hollywood-exception",
   "metadata": {},
   "outputs": [],
   "source": []
  }
 ],
 "metadata": {
  "kernelspec": {
   "display_name": "Python 3",
   "language": "python",
   "name": "python3"
  },
  "language_info": {
   "codemirror_mode": {
    "name": "ipython",
    "version": 3
   },
   "file_extension": ".py",
   "mimetype": "text/x-python",
   "name": "python",
   "nbconvert_exporter": "python",
   "pygments_lexer": "ipython3",
   "version": "3.9.2"
  }
 },
 "nbformat": 4,
 "nbformat_minor": 5
}
