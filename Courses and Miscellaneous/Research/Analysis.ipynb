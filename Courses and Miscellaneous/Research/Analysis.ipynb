{
 "cells": [
  {
   "attachments": {},
   "cell_type": "markdown",
   "metadata": {},
   "source": [
    "# Six-bar mechanism balancing\n",
    "\n",
    "###### Luis Eduardo Robles Jiménez"
   ]
  },
  {
   "attachments": {},
   "cell_type": "markdown",
   "metadata": {},
   "source": [
    "With this work, I pretend to find out the behavior of the function with different tools, in order to understand what are the most important variables, find patterns, identify overlapping zones of minima between the functions we're optimizing, graphing data, etc."
   ]
  },
  {
   "cell_type": "code",
   "execution_count": 4,
   "metadata": {},
   "outputs": [],
   "source": [
    "from BetaShF import *\n",
    "from BetaShM import *\n",
    "import numpy as np\n",
    "import scipy as sp\n",
    "\n",
    "assert ShF([0, 0, 0, 0, 0, 0, 0, 0, 0, 0, 0, 0, 0, 0, 0]) == 1.0\n",
    "assert ShM([0, 0, 0, 0, 0, 0, 0, 0, 0, 0, 0, 0, 0, 0, 0]) == 1.0"
   ]
  },
  {
   "cell_type": "markdown",
   "metadata": {},
   "source": [
    "#### Constraints\n",
    "\n",
    "$$ -0.16m \\leq x_{cn}, y_{cn} \\leq 0.16m $$\n",
    "\n",
    "$$ 0.005m \\leq t_{cn} \\leq 0.04m $$"
   ]
  },
  {
   "cell_type": "markdown",
   "metadata": {},
   "source": [
    "#### Objective function"
   ]
  },
  {
   "cell_type": "code",
   "execution_count": 5,
   "metadata": {},
   "outputs": [],
   "source": [
    "def objective(s, ShF, ShM):\n",
    "    return 0.5*ShF(s) + 0.5*ShM(s)"
   ]
  },
  {
   "attachments": {},
   "cell_type": "markdown",
   "metadata": {},
   "source": [
    "## Mathematical analysis with sympy"
   ]
  },
  {
   "attachments": {},
   "cell_type": "markdown",
   "metadata": {},
   "source": [
    "## Sample generation"
   ]
  },
  {
   "cell_type": "code",
   "execution_count": 6,
   "metadata": {},
   "outputs": [
    {
     "name": "stdout",
     "output_type": "stream",
     "text": [
      "Iteration: 249 \tWorst fitness: 0.7156200975691219"
     ]
    }
   ],
   "source": [
    "nSamples, nVariables = 250, 15\n",
    "samples = np.zeros((nSamples, nVariables))\n",
    "bounds = np.zeros((nVariables, 2))\n",
    "fitness = np.zeros((nSamples))\n",
    "\"\"\"\n",
    "for i in range(nVariables):\n",
    "    if (i + 1) % 3 == 0: samples[:, i] = np.random.uniform(0.005, 0.04, (nSamples))\n",
    "    else: samples[:, i] = np.random.uniform(-0.16, 0.16, (nSamples))\n",
    "\"\"\"\n",
    "for v in range(nVariables):\n",
    "    bounds[v] = [0.005, 0.04] if (v + 1) % 3 == 0 else [-0.16, 0.16]\n",
    "worst = 0.0\n",
    "for s in range(nSamples):\n",
    "    print(\"\\rIteration:\", s, \"\\tWorst fitness:\", worst, end = \"\")\n",
    "    r = sp.optimize.differential_evolution(objective, bounds, args = (ShF, ShM), maxiter = 10)\n",
    "    samples[s] = r.x\n",
    "    fitness[s] = r.fun\n",
    "    worst = np.max([worst, fitness[s]])"
   ]
  },
  {
   "cell_type": "code",
   "execution_count": 7,
   "metadata": {},
   "outputs": [],
   "source": [
    "import time\n",
    "now = str(int(time.time()))\n",
    "np.savetxt(now + \"Population.txt\", samples)\n",
    "np.savetxt(now + \"Fitness.txt\", fitness)"
   ]
  },
  {
   "attachments": {},
   "cell_type": "markdown",
   "metadata": {},
   "source": [
    "## Dimensionality reduction"
   ]
  },
  {
   "attachments": {},
   "cell_type": "markdown",
   "metadata": {},
   "source": [
    "### Feature extraction"
   ]
  },
  {
   "attachments": {},
   "cell_type": "markdown",
   "metadata": {},
   "source": [
    "### Feature selection"
   ]
  },
  {
   "attachments": {},
   "cell_type": "markdown",
   "metadata": {},
   "source": [
    "## Data visualization"
   ]
  }
 ],
 "metadata": {
  "kernelspec": {
   "display_name": "Python 3",
   "language": "python",
   "name": "python3"
  },
  "language_info": {
   "codemirror_mode": {
    "name": "ipython",
    "version": 3
   },
   "file_extension": ".py",
   "mimetype": "text/x-python",
   "name": "python",
   "nbconvert_exporter": "python",
   "pygments_lexer": "ipython3",
   "version": "3.10.4"
  },
  "orig_nbformat": 4,
  "vscode": {
   "interpreter": {
    "hash": "26de051ba29f2982a8de78e945f0abaf191376122a1563185a90213a26c5da77"
   }
  }
 },
 "nbformat": 4,
 "nbformat_minor": 2
}
