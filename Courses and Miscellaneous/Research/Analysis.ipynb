{
 "cells": [
  {
   "attachments": {},
   "cell_type": "markdown",
   "metadata": {},
   "source": [
    "# Six-bar mechanism balancing\n",
    "\n",
    "###### Luis Eduardo Robles Jiménez"
   ]
  },
  {
   "attachments": {},
   "cell_type": "markdown",
   "metadata": {},
   "source": [
    "With this work, I pretend to find out the behavior of the function with different tools, in order to understand what are the most important variables, find patterns, identify overlapping zones of minima between the functions we're optimizing, graphing data, etc."
   ]
  },
  {
   "cell_type": "code",
   "execution_count": null,
   "metadata": {},
   "outputs": [],
   "source": [
    "from BetaShF import *\n",
    "from BetaShM import *\n",
    "from sklearn.decomposition import PCA\n",
    "import matplotlib.pyplot as plt\n",
    "import plotly.express as px\n",
    "import numpy as np\n",
    "import scipy as sp\n",
    "import time\n",
    "\n",
    "\n",
    "assert ShF([0, 0, 0, 0, 0, 0, 0, 0, 0, 0, 0, 0, 0, 0, 0]) == 1.0\n",
    "assert ShM([0, 0, 0, 0, 0, 0, 0, 0, 0, 0, 0, 0, 0, 0, 0]) == 1.0"
   ]
  },
  {
   "cell_type": "markdown",
   "metadata": {},
   "source": [
    "#### Constraints\n",
    "\n",
    "$$ -0.16m \\leq x_{cn}, y_{cn} \\leq 0.16m $$\n",
    "\n",
    "$$ 0.005m \\leq t_{cn} \\leq 0.04m $$"
   ]
  },
  {
   "cell_type": "markdown",
   "metadata": {},
   "source": [
    "#### Objective function"
   ]
  },
  {
   "cell_type": "code",
   "execution_count": null,
   "metadata": {},
   "outputs": [],
   "source": [
    "def objective(s, ShF, ShM):\n",
    "    return 0.5*ShF(s) + 0.5*ShM(s)"
   ]
  },
  {
   "attachments": {},
   "cell_type": "markdown",
   "metadata": {},
   "source": [
    "## Mathematical analysis "
   ]
  },
  {
   "cell_type": "markdown",
   "metadata": {},
   "source": [
    "### Sympy"
   ]
  },
  {
   "cell_type": "code",
   "execution_count": 1,
   "metadata": {},
   "outputs": [],
   "source": [
    "from sympy import *\n",
    "\n",
    "#x1c, y1c, t1c, x2c, y2c, t2c, x3c, y3c, t3c, x4c, y4c, t4c, x5c, y5c, t5c = symbols('x1c y1c t1c x2c y2c t2c x3c y3c t3c x4c y4c t4c x5c y5c t5c')\n",
    "#a = x1c + t1c"
   ]
  },
  {
   "cell_type": "code",
   "execution_count": 2,
   "metadata": {},
   "outputs": [],
   "source": [
    "#from forceFormula import *\n",
    "from momentFormula import *"
   ]
  },
  {
   "cell_type": "code",
   "execution_count": 3,
   "metadata": {},
   "outputs": [
    {
     "data": {
      "text/latex": [
       "$\\displaystyle 1$"
      ],
      "text/plain": [
       "1"
      ]
     },
     "execution_count": 3,
     "metadata": {},
     "output_type": "execute_result"
    }
   ],
   "source": [
    "f = Poly(momentF)\n",
    "count_roots(f)"
   ]
  },
  {
   "attachments": {},
   "cell_type": "markdown",
   "metadata": {},
   "source": [
    "## Sample generation"
   ]
  },
  {
   "cell_type": "code",
   "execution_count": null,
   "metadata": {},
   "outputs": [],
   "source": [
    "nSamples, nVariables = 500, 15\n",
    "nWeights = nVariables // 3\n",
    "samples = np.zeros((nSamples, nVariables))\n",
    "bounds = np.zeros((nVariables, 2))\n",
    "fitness = np.zeros((nSamples))\n",
    "shForces = np.zeros((nSamples))\n",
    "shMoments = np.zeros((nSamples))"
   ]
  },
  {
   "cell_type": "code",
   "execution_count": null,
   "metadata": {},
   "outputs": [],
   "source": [
    "for i in range(nVariables):\n",
    "    if (i + 1) % 3 == 0: samples[:, i] = np.random.uniform(0.005, 0.04, (nSamples))\n",
    "    else: samples[:, i] = np.random.uniform(-0.16, 0.16, (nSamples))\n",
    "for i in range(nSamples):\n",
    "    fitness[i] = objective(samples[i], ShF, ShM)\n",
    "\"\"\"\n",
    "for v in range(nVariables):\n",
    "    bounds[v] = [0.005, 0.04] if (v + 1) % 3 == 0 else [-0.16, 0.16]\n",
    "worst = 0.0\n",
    "for s in range(nSamples):\n",
    "    print(\"\\rIteration:\", s, \"\\tWorst fitness:\", worst, end = \"\")\n",
    "    p = False\n",
    "    if s < nSamples // 10: p = True\n",
    "    r = sp.optimize.differential_evolution(objective, bounds, args = (ShF, ShM), maxiter = 25, popsize = 10, polish = p)\n",
    "    samples[s] = r.x\n",
    "    fitness[s] = r.fun\n",
    "    worst = np.max([worst, fitness[s]])\n",
    "\"\"\""
   ]
  },
  {
   "cell_type": "markdown",
   "metadata": {},
   "source": [
    "### Write data to a file"
   ]
  },
  {
   "cell_type": "code",
   "execution_count": null,
   "metadata": {},
   "outputs": [],
   "source": [
    "now = str(int(time.time()))\n",
    "np.savetxt(now + \"Population.txt\", samples)\n",
    "np.savetxt(now + \"Fitness.txt\", fitness)\n",
    "np.savetxt(now + \"ShForces.txt\", shForces)\n",
    "np.savetxt(now + \"ShMoments.txt\", shMoments)"
   ]
  },
  {
   "cell_type": "markdown",
   "metadata": {},
   "source": [
    "### Read data from a file"
   ]
  },
  {
   "cell_type": "code",
   "execution_count": null,
   "metadata": {},
   "outputs": [],
   "source": [
    "\"\"\"\n",
    "# The very best examples, to understand how good solutions behave\n",
    "fitness = np.loadtxt(\"1671649703Fitness.txt\")\n",
    "samples = np.loadtxt(\"1671649703Population.txt\")\n",
    "# Solutions under 1.0\n",
    "fitness = np.loadtxt(\"1671919014Fitness.txt\")\n",
    "samples = np.loadtxt(\"1671919014Population.txt\")\n",
    "\"\"\"\n",
    "# Broader space\n",
    "fitness = np.loadtxt(\"1671988185Fitness.txt\")\n",
    "samples = np.loadtxt(\"1671988185Population.txt\")\n",
    "shForces = np.loadtxt(\"1671988185ShForces.txt\")\n",
    "shMoments = np.loadtxt(\"1671988185ShMoments.txt\")\n",
    "\n",
    "print(samples.shape)\n",
    "print(fitness.shape)\n",
    "print(shForces.shape)\n",
    "print(shMoments.shape)"
   ]
  },
  {
   "attachments": {},
   "cell_type": "markdown",
   "metadata": {},
   "source": [
    "## Dimensionality reduction"
   ]
  },
  {
   "attachments": {},
   "cell_type": "markdown",
   "metadata": {},
   "source": [
    "### Feature selection"
   ]
  },
  {
   "attachments": {},
   "cell_type": "markdown",
   "metadata": {},
   "source": [
    "### Feature extraction"
   ]
  },
  {
   "attachments": {},
   "cell_type": "markdown",
   "metadata": {},
   "source": [
    "#### Find optimal values"
   ]
  },
  {
   "cell_type": "code",
   "execution_count": null,
   "metadata": {},
   "outputs": [],
   "source": [
    "optimal = np.where(fitness < 1)[0]"
   ]
  },
  {
   "cell_type": "markdown",
   "metadata": {},
   "source": [
    "#### Masses\n",
    "\n",
    "This is a problem-specific feature that we can get from the variables.\n",
    "\n",
    "These calculations are intended to be used later on to find out where this is a good representative of the solutions or not.\n",
    "\n",
    "The mass can be easily calculated with the resulting formula of the following steps.\n",
    "\n",
    "#### Formula\n",
    "\n",
    "$$\\sigma_i = \\frac{m_i}{V_i}$$\n",
    "\n",
    "$$m_i = V_i \\sigma_i$$\n",
    "\n",
    "$$m_i = (r_i^2 t_i \\pi)(\\sigma_i)$$\n",
    "\n",
    "$$m_i = (\\sqrt{x_i^2 + y_i^2}^2 t_i \\pi)(\\sigma_i)$$\n",
    "\n",
    "$$m_i = (x_i^2 + y_i^2) t_i \\pi\\sigma_i$$\n",
    "\n",
    "#### Considering that\n",
    "\n",
    "$\\sigma$ is density. In this problem: $\\sigma_i = 7800 \\frac{kg}{m^3}$\n",
    "\n",
    "$m$ is mass $(kg)$\n",
    "\n",
    "$V$ is volume; of a cylinder in this problem $(m^3)$ \n",
    "\n",
    "$x, y$ are the relative coordinates of the weight centers. $(m)$"
   ]
  },
  {
   "cell_type": "code",
   "execution_count": null,
   "metadata": {},
   "outputs": [],
   "source": [
    "masses = np.zeros((nSamples, nWeights))\n",
    "density = 7800\n",
    "for i in range(nWeights):\n",
    "    masses[:, i] = (samples[:, i*3]**2 + samples[:, i*3 + 1]**2) * samples[:, i*3 + 2] * np.pi * density\n",
    "sumMasses = np.sum(masses, axis = 1)"
   ]
  },
  {
   "cell_type": "markdown",
   "metadata": {},
   "source": [
    "#### PCA"
   ]
  },
  {
   "cell_type": "code",
   "execution_count": null,
   "metadata": {},
   "outputs": [],
   "source": [
    "modelPCA = PCA()\n",
    "modelPCA.fit(samples)\n",
    "dataPCA = modelPCA.transform(samples)\n",
    "dataPCA.shape"
   ]
  },
  {
   "cell_type": "code",
   "execution_count": null,
   "metadata": {},
   "outputs": [],
   "source": [
    "expVar = modelPCA.explained_variance_ratio_\n",
    "expVarCum = np.cumsum(expVar)\n",
    "plt.figure(figsize=(10, 5))\n",
    "plt.plot(np.concatenate(([0], expVarCum)))\n",
    "plt.show()"
   ]
  },
  {
   "cell_type": "markdown",
   "metadata": {},
   "source": [
    "### First two main components"
   ]
  },
  {
   "cell_type": "code",
   "execution_count": null,
   "metadata": {},
   "outputs": [],
   "source": [
    "dataPCA = dataPCA[:, :2]\n",
    "plt.figure(figsize=(5, 5))\n",
    "plt.title(\"PCA first two components\")\n",
    "plt.scatter(dataPCA[:, 0], dataPCA[:, 1], s = 1)\n",
    "plt.xlabel(\"PCA 1 -> \" + str(np.round(expVar[0]*100, 2)) + \"%\")\n",
    "plt.ylabel(\"PCA 2 -> \" + str(np.round(expVar[1]*100, 2)) + \"%\")\n",
    "plt.show()"
   ]
  },
  {
   "attachments": {},
   "cell_type": "markdown",
   "metadata": {},
   "source": [
    "## Data visualization"
   ]
  },
  {
   "cell_type": "markdown",
   "metadata": {},
   "source": [
    "### Parallel coordinates "
   ]
  },
  {
   "cell_type": "code",
   "execution_count": null,
   "metadata": {},
   "outputs": [],
   "source": [
    "fig = px.parallel_coordinates(samples, title = \"Mechanism balancing samples\",\n",
    "                            color = fitness,\n",
    "                            labels=[\"x One\", \"y One\", \"t One\", \"x Two\", \"y Two\", \"t Two\", \"x Three\", \"y Three\", \"t Three\", \"x Four\", \"y Four\", \"t Four\", \"x Five\", \"y Five\", \"t Five\", \"Fitness\"],\n",
    "                            color_continuous_scale=px.colors.sequential.Hot)\n",
    "fig.show()"
   ]
  },
  {
   "cell_type": "code",
   "execution_count": null,
   "metadata": {},
   "outputs": [],
   "source": [
    "fig = px.parallel_coordinates(masses, title = \"Samples' masses\",\n",
    "                            color = fitness,\n",
    "                            labels=[\"mass One\", \"mass Two\", \"mass Three\", \"mass Four\", \"mass Five\", \"Fitness\"],\n",
    "                            color_continuous_scale=px.colors.sequential.Hot)\n",
    "fig.show()"
   ]
  },
  {
   "cell_type": "code",
   "execution_count": null,
   "metadata": {},
   "outputs": [],
   "source": [
    "fig = px.parallel_coordinates(np.c_[(shForces[optimal], shMoments[optimal])], title = \"Multiobjective optimization behavior\",\n",
    "                            color = fitness[optimal],\n",
    "                            labels=[\"Shaking Force\", \"Shaking Moment\", \"Fitness\"],\n",
    "                            color_continuous_scale=px.colors.sequential.Hot)\n",
    "fig.show()"
   ]
  },
  {
   "attachments": {},
   "cell_type": "markdown",
   "metadata": {},
   "source": [
    "### Violinplot\n",
    "\n",
    "This graph is created with hopes of seeing if the masses have a tendency. \n",
    "\n",
    "Also maybe conclude that the heavier a weight is, the more importance it has."
   ]
  },
  {
   "cell_type": "code",
   "execution_count": null,
   "metadata": {},
   "outputs": [],
   "source": [
    "fig = plt.figure(figsize =(15, 15))\n",
    "for i in range(nWeights):\n",
    "    plt.subplot(2, 3, i + 1)\n",
    "    plt.title(\"Weight \" + str(i + 1))\n",
    "    plt.violinplot(masses[:, i])\n",
    "    plt.violinplot(masses[optimal, i])\n",
    "plt.subplot(2, 3, 6)\n",
    "plt.title(\"Fitness\")\n",
    "plt.violinplot(fitness)\n",
    "plt.violinplot(fitness[optimal])\n",
    "plt.show()"
   ]
  },
  {
   "cell_type": "markdown",
   "metadata": {},
   "source": [
    "### Scatter plot\n",
    "\n",
    "Let's try to see if there's a relation between the masses of the weights and their fitness."
   ]
  },
  {
   "cell_type": "code",
   "execution_count": null,
   "metadata": {},
   "outputs": [],
   "source": [
    "fig = plt.figure(figsize =(15, 30))\n",
    "for i in range(nWeights):\n",
    "    plt.subplot(5, 2, i*2 + 1)\n",
    "    plt.title(\"Weight \" + str(i + 1))\n",
    "    plt.scatter(masses[:, i], fitness, alpha = 0.3, color = '0')\n",
    "    plt.xlabel(\"Mass\")\n",
    "    plt.ylabel(\"Fitness\")\n",
    "    plt.subplot(5, 2, i*2 + 2)\n",
    "    plt.title(\"Optimal Weight \" + str(i + 1))\n",
    "    plt.scatter(masses[optimal, i], fitness[optimal], alpha = 0.3, color = '0')\n",
    "    plt.xlabel(\"Mass\")\n",
    "    plt.ylabel(\"Fitness\")"
   ]
  },
  {
   "cell_type": "code",
   "execution_count": null,
   "metadata": {},
   "outputs": [],
   "source": [
    "plt.figure(figsize=(15, 10))\n",
    "plt.grid(which=\"both\")\n",
    "plt.subplot(1, 2, 1)\n",
    "plt.scatter(sumMasses, fitness, alpha = 0.3, color = '0')\n",
    "plt.title(\"Behavior of total mass\")\n",
    "plt.xlabel(\"Total mass\")\n",
    "plt.ylabel(\"Fitness\")\n",
    "plt.subplot(1, 2, 2)\n",
    "plt.title(\"Optimal aggregated mass\")\n",
    "plt.ylabel(\"Mass\")\n",
    "plt.violinplot(sumMasses)\n",
    "plt.violinplot(sumMasses[optimal])"
   ]
  },
  {
   "attachments": {},
   "cell_type": "markdown",
   "metadata": {},
   "source": [
    "#### Pareto front"
   ]
  },
  {
   "cell_type": "code",
   "execution_count": null,
   "metadata": {},
   "outputs": [],
   "source": [
    "plt.figure(figsize = (10, 10))\n",
    "plt.scatter(shForces[optimal], shMoments[optimal], alpha = 0.5, c = fitness[optimal])\n",
    "plt.xlabel(\"Shaking Forces\")\n",
    "plt.ylabel(\"Shaking Moment\")"
   ]
  },
  {
   "attachments": {},
   "cell_type": "markdown",
   "metadata": {},
   "source": [
    "#### Shaking values"
   ]
  },
  {
   "cell_type": "code",
   "execution_count": null,
   "metadata": {},
   "outputs": [],
   "source": [
    "plt.figure(figsize=(10, 10))\n",
    "plt.scatter(sumMasses[optimal], shForces[optimal], c = \"r\", alpha = 0.3)\n",
    "plt.scatter(sumMasses[optimal], shMoments[optimal], c = \"b\", alpha = 0.3)"
   ]
  }
 ],
 "metadata": {
  "kernelspec": {
   "display_name": "Python 3",
   "language": "python",
   "name": "python3"
  },
  "language_info": {
   "codemirror_mode": {
    "name": "ipython",
    "version": 3
   },
   "file_extension": ".py",
   "mimetype": "text/x-python",
   "name": "python",
   "nbconvert_exporter": "python",
   "pygments_lexer": "ipython3",
   "version": "3.10.4"
  },
  "orig_nbformat": 4,
  "vscode": {
   "interpreter": {
    "hash": "26de051ba29f2982a8de78e945f0abaf191376122a1563185a90213a26c5da77"
   }
  }
 },
 "nbformat": 4,
 "nbformat_minor": 2
}
