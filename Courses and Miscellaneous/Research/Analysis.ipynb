{
 "cells": [
  {
   "attachments": {},
   "cell_type": "markdown",
   "metadata": {},
   "source": [
    "# Six-bar mechanism balancing\n",
    "\n",
    "###### Luis Eduardo Robles Jiménez"
   ]
  },
  {
   "attachments": {},
   "cell_type": "markdown",
   "metadata": {},
   "source": [
    "With this work, I pretend to find out the behavior of the function with different tools, in order to understand what are the most important variables, find patterns, identify overlapping zones of minima between the functions we're optimizing, graphing data, etc."
   ]
  },
  {
   "cell_type": "code",
   "execution_count": 1,
   "metadata": {},
   "outputs": [],
   "source": [
    "from BetaShF import *\n",
    "from BetaShM import *\n",
    "import numpy as np\n",
    "import scipy as sp\n",
    "\n",
    "#assert ShF(0, 0, 0, 0, 0, 0, 0, 0, 0, 0, 0, 0, 0, 0, 0) == 1.0\n",
    "assert ShM(0, 0, 0, 0, 0, 0, 0, 0, 0, 0, 0, 0, 0, 0, 0) == 1.0"
   ]
  },
  {
   "cell_type": "markdown",
   "metadata": {},
   "source": [
    "#### Constraints\n",
    "\n",
    "$$ -0.16m \\leq x_{cn}, y_{cn} \\leq 0.16m $$\n",
    "\n",
    "$$ 0.005m \\leq t_{cn} \\leq 0.04m $$"
   ]
  },
  {
   "attachments": {},
   "cell_type": "markdown",
   "metadata": {},
   "source": [
    "## Mathematical analysis with sympy"
   ]
  },
  {
   "attachments": {},
   "cell_type": "markdown",
   "metadata": {},
   "source": [
    "## Sample generation"
   ]
  },
  {
   "cell_type": "code",
   "execution_count": 2,
   "metadata": {},
   "outputs": [
    {
     "data": {
      "text/plain": [
       "     fun: 3.5436870140370778e-06\n",
       "     jac: array([ 0.74933572, -2.76067309, 13.30051018,  5.4578102 , -1.75850862,\n",
       "       -5.89843915,  7.83345189, -1.10713787,  0.43497214,  0.5765525 ,\n",
       "        1.28032353, -4.08078204, -6.24985121,  2.6779772 , 15.63606269])\n",
       " message: 'Maximum number of iterations has been exceeded.'\n",
       "    nfev: 226089\n",
       "     nit: 1000\n",
       " success: False\n",
       "       x: array([ 0.02329096, -0.04622267,  0.00555709, -0.08081617,  0.01524005,\n",
       "        0.01179481, -0.07209535, -0.05800959,  0.01262645,  0.00063868,\n",
       "       -0.05201232,  0.00591767, -0.04561609,  0.02301973,  0.01274946])"
      ]
     },
     "execution_count": 2,
     "metadata": {},
     "output_type": "execute_result"
    }
   ],
   "source": [
    "nSamples, nVariables = 15, 15\n",
    "samples = np.zeros((nSamples, nVariables))\n",
    "\"\"\"\n",
    "for i in range(nVariables):\n",
    "    if (i + 1) % 3 == 0: samples[:, i] = np.random.uniform(0.005, 0.04, (nSamples))\n",
    "    else: samples[:, i] = np.random.uniform(-0.16, 0.16, (nSamples))\n",
    "\"\"\"\n",
    "bounds = np.zeros((nVariables, 2))\n",
    "for v in range(nVariables):\n",
    "    bounds[v] = [0.005, 0.04] if (v + 1) % 3 == 0 else [-0.16, 0.16]\n",
    "sp.optimize.differential_evolution(ShF, bounds, maxiter = 100)"
   ]
  },
  {
   "cell_type": "code",
   "execution_count": 3,
   "metadata": {},
   "outputs": [
    {
     "ename": "TypeError",
     "evalue": "ShF() takes 1 positional argument but 15 were given",
     "output_type": "error",
     "traceback": [
      "\u001b[0;31m---------------------------------------------------------------------------\u001b[0m",
      "\u001b[0;31mTypeError\u001b[0m                                 Traceback (most recent call last)",
      "Cell \u001b[0;32mIn [3], line 1\u001b[0m\n\u001b[0;32m----> 1\u001b[0m fitness \u001b[38;5;241m=\u001b[39m np\u001b[38;5;241m.\u001b[39marray([[ShF(\u001b[38;5;241m*\u001b[39msol), ShM(\u001b[38;5;241m*\u001b[39msol)] \u001b[38;5;28;01mfor\u001b[39;00m sol \u001b[38;5;129;01min\u001b[39;00m samples])\n\u001b[1;32m      2\u001b[0m fitness\n",
      "Cell \u001b[0;32mIn [3], line 1\u001b[0m, in \u001b[0;36m<listcomp>\u001b[0;34m(.0)\u001b[0m\n\u001b[0;32m----> 1\u001b[0m fitness \u001b[38;5;241m=\u001b[39m np\u001b[38;5;241m.\u001b[39marray([[\u001b[43mShF\u001b[49m\u001b[43m(\u001b[49m\u001b[38;5;241;43m*\u001b[39;49m\u001b[43msol\u001b[49m\u001b[43m)\u001b[49m, ShM(\u001b[38;5;241m*\u001b[39msol)] \u001b[38;5;28;01mfor\u001b[39;00m sol \u001b[38;5;129;01min\u001b[39;00m samples])\n\u001b[1;32m      2\u001b[0m fitness\n",
      "\u001b[0;31mTypeError\u001b[0m: ShF() takes 1 positional argument but 15 were given"
     ]
    }
   ],
   "source": [
    "fitness = np.array([[ShF(*sol), ShM(*sol)] for sol in samples])\n",
    "fitness"
   ]
  },
  {
   "attachments": {},
   "cell_type": "markdown",
   "metadata": {},
   "source": [
    "## Dimensionality reduction"
   ]
  },
  {
   "attachments": {},
   "cell_type": "markdown",
   "metadata": {},
   "source": [
    "### Feature extraction"
   ]
  },
  {
   "attachments": {},
   "cell_type": "markdown",
   "metadata": {},
   "source": [
    "### Feature selection"
   ]
  },
  {
   "attachments": {},
   "cell_type": "markdown",
   "metadata": {},
   "source": [
    "## Data visualization"
   ]
  }
 ],
 "metadata": {
  "kernelspec": {
   "display_name": "Python 3.8.10 64-bit",
   "language": "python",
   "name": "python3"
  },
  "language_info": {
   "codemirror_mode": {
    "name": "ipython",
    "version": 3
   },
   "file_extension": ".py",
   "mimetype": "text/x-python",
   "name": "python",
   "nbconvert_exporter": "python",
   "pygments_lexer": "ipython3",
   "version": "3.8.10"
  },
  "orig_nbformat": 4,
  "vscode": {
   "interpreter": {
    "hash": "916dbcbb3f70747c44a77c7bcd40155683ae19c65e1c03b4aa3499c5328201f1"
   }
  }
 },
 "nbformat": 4,
 "nbformat_minor": 2
}
