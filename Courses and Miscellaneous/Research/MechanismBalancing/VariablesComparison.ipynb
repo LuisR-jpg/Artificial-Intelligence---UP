{
 "cells": [
  {
   "attachments": {},
   "cell_type": "markdown",
   "metadata": {},
   "source": [
    "# Six-bar mechanism balancing\n",
    "\n",
    "###### Luis Eduardo Robles Jiménez"
   ]
  },
  {
   "cell_type": "code",
   "execution_count": 19,
   "metadata": {},
   "outputs": [],
   "source": [
    "import numpy as np\n",
    "import pandas as pd\n",
    "import ipywidgets as widgets\n",
    "import matplotlib.pyplot as plt\n",
    "from ipywidgets import HBox, VBox\n",
    "from IPython.display import display\n",
    "\n",
    "%matplotlib inline"
   ]
  },
  {
   "cell_type": "markdown",
   "metadata": {},
   "source": [
    "#### Constraints\n",
    "\n",
    "$$ -0.16m \\leq x_{cn}, y_{cn} \\leq 0.16m $$\n",
    "\n",
    "$$ 0.005m \\leq t_{cn} \\leq 0.04m $$"
   ]
  },
  {
   "cell_type": "markdown",
   "metadata": {},
   "source": [
    "### Read data from a file"
   ]
  },
  {
   "cell_type": "code",
   "execution_count": 20,
   "metadata": {},
   "outputs": [
    {
     "name": "stdout",
     "output_type": "stream",
     "text": [
      "(93, 9)\n",
      "(93,)\n",
      "(93,)\n",
      "(93,)\n"
     ]
    }
   ],
   "source": [
    "\"\"\"\n",
    "# The very best examples, to understand how good solutions behave\n",
    "fitness = np.loadtxt(\"1671649703Fitness.txt\")\n",
    "samples = np.loadtxt(\"1671649703Population.txt\")\n",
    "# Solutions under 1.0\n",
    "fitness = np.loadtxt(\"1671919014Fitness.txt\")\n",
    "samples = np.loadtxt(\"1671919014Population.txt\")\n",
    "# Broader space\n",
    "# 10% best solutions, 50% Under 1.0 solutions, 50% random solutions.\n",
    "samples = np.loadtxt(\"1671988185Population.txt\")\n",
    "fitness = np.loadtxt(\"1671988185Fitness.txt\")\n",
    "shForces = np.loadtxt(\"1671988185ShForces.txt\")\n",
    "shMoments = np.loadtxt(\"1671988185ShMoments.txt\")\n",
    "# More pymoo results\n",
    "samples = np.loadtxt(\"1674756309Population.txt\")\n",
    "fitness = np.loadtxt(\"1674756309Fitness.txt\")\n",
    "shForces = np.loadtxt(\"1674756309ShForces.txt\")\n",
    "shMoments = np.loadtxt(\"1674756309ShMoments.txt\")\n",
    "# 114 crazy estimations with a random uniform alpha (0 pairs below 1)\n",
    "samples = np.loadtxt(\"1675557893Population.txt\")\n",
    "fitness = np.loadtxt(\"1675557893Fitness.txt\")\n",
    "shForces = np.loadtxt(\"1675557893ShForces.txt\")\n",
    "shMoments = np.loadtxt(\"1675557893ShMoments.txt\")\n",
    "# DE with random alpha\n",
    "samples = np.loadtxt(\"experiments/1676302198Population.txt\")\n",
    "fitness = np.loadtxt(\"experiments/1676302198Fitness.txt\")\n",
    "shForces = np.loadtxt(\"experiments/1676302198ShForces.txt\")\n",
    "shMoments = np.loadtxt(\"experiments/1676302198ShMoments.txt\")\n",
    "# Pymoo\n",
    "samples = np.loadtxt(\"experiments/1676338610Population.txt\")\n",
    "fitness = np.loadtxt(\"experiments/1676338610Fitness.txt\")\n",
    "shForces = np.loadtxt(\"experiments/1676338610ShForces.txt\")\n",
    "shMoments = np.loadtxt(\"experiments/1676338610ShMoments.txt\")\n",
    "\"\"\"\n",
    "\"\"\"\n",
    "\"\"\"\n",
    "# Pymoo 3 weights\n",
    "samples = np.loadtxt(\"experiments/1677893800Population.txt\")\n",
    "fitness = np.loadtxt(\"experiments/1677893800Fitness.txt\")\n",
    "shForces = np.loadtxt(\"experiments/1677893800ShForces.txt\")\n",
    "shMoments = np.loadtxt(\"experiments/1677893800ShMoments.txt\")\n",
    "\n",
    "print(samples.shape)\n",
    "print(fitness.shape)\n",
    "print(shForces.shape)\n",
    "print(shMoments.shape)"
   ]
  },
  {
   "cell_type": "code",
   "execution_count": 21,
   "metadata": {},
   "outputs": [],
   "source": [
    "from BetaShF import *\n",
    "from BetaShM import *"
   ]
  },
  {
   "cell_type": "code",
   "execution_count": 22,
   "metadata": {},
   "outputs": [],
   "source": [
    "def objective(s, ShF, ShM, alpha = 0.5):\n",
    "    assert len(s) == 15\n",
    "    return (alpha)*ShF(s) + (1 - alpha)*ShM(s)"
   ]
  },
  {
   "cell_type": "code",
   "execution_count": 23,
   "metadata": {},
   "outputs": [],
   "source": [
    "vOne, vTwo = 2, 0"
   ]
  },
  {
   "cell_type": "code",
   "execution_count": 24,
   "metadata": {},
   "outputs": [],
   "source": [
    "index = np.argmin(fitness)\n",
    "s = samples[index]\n",
    "\n",
    "xSet = [0, 3, 6]\n",
    "ySet = [1, 4, 7]\n",
    "tSet = [2, 5, 8]\n",
    "#assert vOne >= 0 and vOne <= 8 and vTwo >= 0 and vTwo <= 8\n",
    "#assert (vOne in tSet and vTwo in tSet) or (vOne in xSet and vTwo in xSet) or (vOne in ySet and vTwo in ySet)\n",
    "bounds = [0.005, 0.04] if vOne in tSet else [-0.16, 0.16]"
   ]
  },
  {
   "cell_type": "code",
   "execution_count": 25,
   "metadata": {},
   "outputs": [],
   "source": [
    "divs = 15\n",
    "t1 = np.linspace(bounds[0], bounds[1], divs)\n",
    "t2 = np.linspace(bounds[0], bounds[1], divs)\n",
    "X, Y = np.meshgrid(t1, t2)"
   ]
  },
  {
   "cell_type": "code",
   "execution_count": 26,
   "metadata": {},
   "outputs": [
    {
     "name": "stdout",
     "output_type": "stream",
     "text": [
      "Currently running 14, 14"
     ]
    }
   ],
   "source": [
    "Z = np.zeros((divs, divs))\n",
    "for i in range(divs):\n",
    "    for j in range(divs):\n",
    "        print(f'\\rCurrently running {i}, {j}', end = \"\")\n",
    "        test = np.copy(samples[index])\n",
    "        test[vOne] = X[i, j]\n",
    "        test[vTwo] = Y[i, j]\n",
    "        test = np.array(list(test) + [0] * 6)\n",
    "        Z[i, j] = objective(test, ShF, ShM)"
   ]
  },
  {
   "cell_type": "code",
   "execution_count": 27,
   "metadata": {},
   "outputs": [
    {
     "data": {
      "application/vnd.jupyter.widget-view+json": {
       "model_id": "ceaca84d5191418bbf3c7a53b91ef96c",
       "version_major": 2,
       "version_minor": 0
      },
      "text/plain": [
       "interactive(children=(IntSlider(value=0, description='angle1', max=180, min=-180), IntSlider(value=0, descript…"
      ]
     },
     "metadata": {},
     "output_type": "display_data"
    }
   ],
   "source": [
    "@widgets.interact(angle1 = (-180, 180), angle2 = (-180, 180))\n",
    "def plot(angle1 = 0, angle2 = 0):\n",
    "    fig = plt.figure()\n",
    "    ax = plt.axes(projection='3d')\n",
    "    ax.contour3D(X, Y, Z, 100, cmap='inferno')\n",
    "    ax.scatter([s[vOne]], [s[vTwo]], [fitness[index]], color='red', s=50)\n",
    "    ax.set_xlabel('x')\n",
    "    ax.set_ylabel('y')\n",
    "    ax.set_zlabel('Objective function')\n",
    "    ax.view_init(angle1, angle2)"
   ]
  }
 ],
 "metadata": {
  "kernelspec": {
   "display_name": "Python 3.8.10 64-bit",
   "language": "python",
   "name": "python3"
  },
  "language_info": {
   "codemirror_mode": {
    "name": "ipython",
    "version": 3
   },
   "file_extension": ".py",
   "mimetype": "text/x-python",
   "name": "python",
   "nbconvert_exporter": "python",
   "pygments_lexer": "ipython3",
   "version": "3.8.10"
  },
  "orig_nbformat": 4,
  "vscode": {
   "interpreter": {
    "hash": "916dbcbb3f70747c44a77c7bcd40155683ae19c65e1c03b4aa3499c5328201f1"
   }
  }
 },
 "nbformat": 4,
 "nbformat_minor": 2
}
