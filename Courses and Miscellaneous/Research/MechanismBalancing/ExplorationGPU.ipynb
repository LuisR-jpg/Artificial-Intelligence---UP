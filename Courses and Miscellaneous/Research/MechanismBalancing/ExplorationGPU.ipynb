{
 "cells": [
  {
   "attachments": {},
   "cell_type": "markdown",
   "metadata": {},
   "source": [
    "# Six-bar mechanism balancing"
   ]
  },
  {
   "cell_type": "code",
   "execution_count": 1,
   "metadata": {},
   "outputs": [
    {
     "name": "stderr",
     "output_type": "stream",
     "text": [
      "c:\\Users\\lalor\\miniconda3\\envs\\pyTorch-gpu\\lib\\site-packages\\tqdm\\auto.py:22: TqdmWarning: IProgress not found. Please update jupyter and ipywidgets. See https://ipywidgets.readthedocs.io/en/stable/user_install.html\n",
      "  from .autonotebook import tqdm as notebook_tqdm\n"
     ]
    }
   ],
   "source": [
    "from differential_evolution import differential_evolution\n",
    "from sklearn.decomposition import PCA\n",
    "import matplotlib.pyplot as plt\n",
    "import plotly.express as px\n",
    "from BetaShF import *\n",
    "from BetaShM import *\n",
    "import scipy as sp\n",
    "import torch\n",
    "import time\n",
    "\n",
    "assert ShF([0, 0, 0, 0, 0, 0, 0, 0, 0, 0, 0, 0, 0, 0, 0]) == 1.0\n",
    "assert ShM([0, 0, 0, 0, 0, 0, 0, 0, 0, 0, 0, 0, 0, 0, 0]) == 1.0\n"
   ]
  },
  {
   "cell_type": "markdown",
   "metadata": {},
   "source": [
    "## Util"
   ]
  },
  {
   "cell_type": "code",
   "execution_count": 2,
   "metadata": {},
   "outputs": [
    {
     "name": "stdout",
     "output_type": "stream",
     "text": [
      "Device cpu\n"
     ]
    }
   ],
   "source": [
    "device = torch.device(\"cuda\") if torch.cuda.is_available() else torch.device(\"cpu\")\n",
    "device = torch.device('cpu')\n",
    "print(\"Device\", device)"
   ]
  },
  {
   "cell_type": "code",
   "execution_count": 3,
   "metadata": {},
   "outputs": [],
   "source": [
    "seed = 1\n",
    "torch.manual_seed(seed)\n",
    "if torch.cuda.is_available(): \n",
    "    torch.cuda.manual_seed(seed)\n",
    "    torch.cuda.manual_seed_all(seed)"
   ]
  },
  {
   "cell_type": "code",
   "execution_count": 4,
   "metadata": {},
   "outputs": [],
   "source": [
    "def cleanData(samples, fitness, forces, moments):\n",
    "    filterF = forces < 1\n",
    "    filterM = moments < 1\n",
    "    f = torch.logical_and(filterF, filterM)\n",
    "    print(f.shape)\n",
    "    return samples[f], fitness[f], forces[f], moments[f]"
   ]
  },
  {
   "cell_type": "code",
   "execution_count": 5,
   "metadata": {},
   "outputs": [
    {
     "data": {
      "text/plain": [
       "'\\ndef saveData(samples, fitness, forces, moments):\\n    now = str(int(time.time()))\\n    np.savetxt(now + \"Population.txt\", samples)\\n    np.savetxt(now + \"Fitness.txt\", fitness)\\n    np.savetxt(now + \"ShForces.txt\", forces)\\n    np.savetxt(now + \"ShMoments.txt\", moments)\\n    return now\\n'"
      ]
     },
     "execution_count": 5,
     "metadata": {},
     "output_type": "execute_result"
    }
   ],
   "source": [
    "'''\n",
    "def saveData(samples, fitness, forces, moments):\n",
    "    now = str(int(time.time()))\n",
    "    np.savetxt(now + \"Population.txt\", samples)\n",
    "    np.savetxt(now + \"Fitness.txt\", fitness)\n",
    "    np.savetxt(now + \"ShForces.txt\", forces)\n",
    "    np.savetxt(now + \"ShMoments.txt\", moments)\n",
    "    return now\n",
    "'''"
   ]
  },
  {
   "cell_type": "code",
   "execution_count": 6,
   "metadata": {},
   "outputs": [],
   "source": [
    "def logSample(now, sample, fitness, force, moment):\n",
    "    def appendToFile(name, text): \n",
    "        with open(name, \"a\") as f:\n",
    "            f.write(text + '\\n')\n",
    "    s = \"\"\n",
    "    for x in sample: s += str(x) + \" \"\n",
    "    appendToFile(now + \"Population.txt\", s)\n",
    "    appendToFile(now + \"Fitness.txt\", str(fitness))\n",
    "    appendToFile(now + \"ShForces.txt\", str(force))\n",
    "    appendToFile(now + \"ShMoments.txt\", str(moment))"
   ]
  },
  {
   "attachments": {},
   "cell_type": "markdown",
   "metadata": {},
   "source": [
    "## Problem definition"
   ]
  },
  {
   "cell_type": "markdown",
   "metadata": {},
   "source": [
    "#### Constraints\n",
    "\n",
    "$$ -0.16m \\leq x_{cn}, y_{cn} \\leq 0.16m $$\n",
    "\n",
    "$$ 0.005m \\leq t_{cn} \\leq 0.04m $$"
   ]
  },
  {
   "cell_type": "markdown",
   "metadata": {},
   "source": [
    "#### Objective function"
   ]
  },
  {
   "attachments": {},
   "cell_type": "markdown",
   "metadata": {},
   "source": [
    "$$\n",
    "f(x) = \\alpha ShF(x) + (1 - \\alpha) ShM(x)\n",
    "$$\n",
    "$$\n",
    "\\therefore \\alpha = \\frac{f(x) - ShM(x)}{ShF(x) - ShM(x)}\n",
    "$$"
   ]
  },
  {
   "cell_type": "code",
   "execution_count": 7,
   "metadata": {},
   "outputs": [],
   "source": [
    "def objective(s, ShF, ShM, alpha):\n",
    "    return (alpha)*ShF(s) + (1 - alpha)*ShM(s)"
   ]
  },
  {
   "attachments": {},
   "cell_type": "markdown",
   "metadata": {},
   "source": [
    "## Sample generation"
   ]
  },
  {
   "cell_type": "code",
   "execution_count": 8,
   "metadata": {},
   "outputs": [],
   "source": [
    "#nSamples, nGen = 300, 500 # Tune here\n",
    "nSamples, nGen = 1, 1\n",
    "\n",
    "nVariables = 15\n",
    "nWeights = nVariables // 3\n",
    "samples = torch.zeros((nSamples, nVariables))\n",
    "bounds = torch.zeros((nVariables, 2))\n",
    "fitness = torch.zeros((nSamples))\n",
    "shForces = torch.zeros((nSamples))\n",
    "shMoments = torch.zeros((nSamples))"
   ]
  },
  {
   "cell_type": "markdown",
   "metadata": {},
   "source": [
    "### Differential Evolution"
   ]
  },
  {
   "attachments": {},
   "cell_type": "markdown",
   "metadata": {},
   "source": [
    "#### Define boundaries"
   ]
  },
  {
   "cell_type": "code",
   "execution_count": 9,
   "metadata": {},
   "outputs": [
    {
     "name": "stdout",
     "output_type": "stream",
     "text": [
      "tensor([[-0.1600,  0.1600],\n",
      "        [-0.1600,  0.1600],\n",
      "        [ 0.0050,  0.0400],\n",
      "        [-0.1600,  0.1600],\n",
      "        [-0.1600,  0.1600],\n",
      "        [ 0.0050,  0.0400],\n",
      "        [-0.1600,  0.1600],\n",
      "        [-0.1600,  0.1600],\n",
      "        [ 0.0050,  0.0400],\n",
      "        [-0.1600,  0.1600],\n",
      "        [-0.1600,  0.1600],\n",
      "        [ 0.0050,  0.0400],\n",
      "        [-0.1600,  0.1600],\n",
      "        [-0.1600,  0.1600],\n",
      "        [ 0.0050,  0.0400]])\n"
     ]
    }
   ],
   "source": [
    "for v in range(nVariables):\n",
    "    bounds[v] = torch.as_tensor([0.005, 0.04] if (v + 1) % 3 == 0 else [-0.16, 0.16])\n",
    "bounds = bounds.to(device)\n",
    "print(bounds)"
   ]
  },
  {
   "cell_type": "code",
   "execution_count": 10,
   "metadata": {},
   "outputs": [
    {
     "name": "stdout",
     "output_type": "stream",
     "text": [
      "Saving data with the prefix: 1676262509\n",
      "Sample 0:\tshF: 2.4313841778081606\tshM: 3.51655887191901\talpha = tensor(0.6323)\n"
     ]
    }
   ],
   "source": [
    "eTimeDE, goodSols = 0, 0\n",
    "startTime = str(int(time.time()))\n",
    "print(\"Saving data with the prefix:\", startTime)\n",
    "for s in range(nSamples):\n",
    "    alpha = torch.normal(0.5, torch.tensor([0.20])) # To get values near 0.5\n",
    "    alpha = torch.min(torch.tensor([1, torch.max(torch.tensor([0, alpha]))])) # Box constraints [0, 1]\n",
    "    start = time.perf_counter()\n",
    "    #r = differential_evolution(objective, bounds, popSize = 50, nMax = nGen, args = (ShF, ShM, alpha), seed = seed, device = device)\n",
    "    r = sp.optimize.differential_evolution(objective, bounds, args = (ShF, ShM, alpha), maxiter = nGen, popsize = 50, polish = False)\n",
    "    end = time.perf_counter()\n",
    "    #sample, fitness, force, moment = r['x'], r[\"fun\"], ShF(r['x']), ShM(r['x'])\n",
    "    sample, fitness, force, moment = r.x, r.fun, ShF(r.x), ShM(r.x)\n",
    "    if force < 1 and moment < 1:\n",
    "        goodSols += 1\n",
    "        logSample(startTime, sample, fitness, force, moment)\n",
    "    print(\"Sample \", s, \":\\tshF: \", force, \"\\tshM: \", moment, \"\\talpha = \", alpha, sep = \"\")\n",
    "    eTimeDE += (end - start) #Time in seconds\n",
    "eTimeDE /= nSamples"
   ]
  },
  {
   "cell_type": "code",
   "execution_count": 11,
   "metadata": {},
   "outputs": [
    {
     "name": "stdout",
     "output_type": "stream",
     "text": [
      "Average time of execution: 17.7131062 seconds. It was run 1 times.\n"
     ]
    }
   ],
   "source": [
    "print(\"Average time of execution:\", eTimeDE, \"seconds. It was run\", nSamples, \"times.\")"
   ]
  },
  {
   "cell_type": "code",
   "execution_count": 12,
   "metadata": {},
   "outputs": [
    {
     "name": "stdout",
     "output_type": "stream",
     "text": [
      "Went from 1 samples to 0 after cleaning data\n"
     ]
    }
   ],
   "source": [
    "print(\"Went from \", nSamples, \" samples to \", goodSols, \" after cleaning data\", sep = \"\")"
   ]
  },
  {
   "cell_type": "markdown",
   "metadata": {},
   "source": [
    "### Pymoo"
   ]
  },
  {
   "cell_type": "code",
   "execution_count": 13,
   "metadata": {},
   "outputs": [
    {
     "ename": "ModuleNotFoundError",
     "evalue": "No module named 'pymoo'",
     "output_type": "error",
     "traceback": [
      "\u001b[1;31m---------------------------------------------------------------------------\u001b[0m",
      "\u001b[1;31mModuleNotFoundError\u001b[0m                       Traceback (most recent call last)",
      "Cell \u001b[1;32mIn[13], line 1\u001b[0m\n\u001b[1;32m----> 1\u001b[0m \u001b[39mfrom\u001b[39;00m \u001b[39mpymoo\u001b[39;00m\u001b[39m.\u001b[39;00m\u001b[39mcore\u001b[39;00m\u001b[39m.\u001b[39;00m\u001b[39mproblem\u001b[39;00m \u001b[39mimport\u001b[39;00m ElementwiseProblem\n\u001b[0;32m      2\u001b[0m \u001b[39mfrom\u001b[39;00m \u001b[39mpymoo\u001b[39;00m\u001b[39m.\u001b[39;00m\u001b[39malgorithms\u001b[39;00m\u001b[39m.\u001b[39;00m\u001b[39mmoo\u001b[39;00m\u001b[39m.\u001b[39;00m\u001b[39mnsga2\u001b[39;00m \u001b[39mimport\u001b[39;00m NSGA2\n\u001b[0;32m      3\u001b[0m \u001b[39mfrom\u001b[39;00m \u001b[39mpymoo\u001b[39;00m\u001b[39m.\u001b[39;00m\u001b[39moperators\u001b[39;00m\u001b[39m.\u001b[39;00m\u001b[39mcrossover\u001b[39;00m\u001b[39m.\u001b[39;00m\u001b[39mux\u001b[39;00m \u001b[39mimport\u001b[39;00m UniformCrossover\n",
      "\u001b[1;31mModuleNotFoundError\u001b[0m: No module named 'pymoo'"
     ]
    }
   ],
   "source": [
    "from pymoo.core.problem import ElementwiseProblem\n",
    "from pymoo.algorithms.moo.nsga2 import NSGA2\n",
    "from pymoo.operators.crossover.ux import UniformCrossover\n",
    "from pymoo.operators.mutation.pm import PM\n",
    "from pymoo.operators.sampling.rnd import FloatRandomSampling\n",
    "from pymoo.termination import get_termination\n",
    "from pymoo.optimize import minimize"
   ]
  },
  {
   "cell_type": "code",
   "execution_count": null,
   "metadata": {},
   "outputs": [],
   "source": [
    "class MyProblem(ElementwiseProblem):\n",
    "\n",
    "    def __init__(self):\n",
    "        super().__init__(n_var=nVariables,\n",
    "                         n_obj=2,\n",
    "                         n_ieq_constr=0,\n",
    "                         xl=bounds[:, 0],\n",
    "                         xu=bounds[:, 1]\n",
    "        )\n",
    "\n",
    "    def _evaluate(self, x, out, *args, **kwargs):\n",
    "        f1 = ShF(x)\n",
    "        f2 = ShM(x)\n",
    "\n",
    "        out[\"F\"] = [f1, f2]\n",
    "        out[\"G\"] = []\n",
    "\n",
    "\n",
    "problem = MyProblem()"
   ]
  },
  {
   "cell_type": "code",
   "execution_count": null,
   "metadata": {},
   "outputs": [],
   "source": [
    "algorithm = NSGA2(\n",
    "    pop_size=nSamples, \n",
    "    #n_offsprings=nSamples, # Default is none and sets n_offsprings = pop_size\n",
    "    sampling=FloatRandomSampling(),\n",
    "    crossover=UniformCrossover(prob=0.75),\n",
    "    mutation=PM(eta=20),\n",
    "    eliminate_duplicates=True\n",
    ")"
   ]
  },
  {
   "cell_type": "code",
   "execution_count": null,
   "metadata": {},
   "outputs": [],
   "source": [
    "termination = get_termination(\"n_gen\", nGen)"
   ]
  },
  {
   "cell_type": "code",
   "execution_count": null,
   "metadata": {},
   "outputs": [],
   "source": [
    "start = time.perf_counter()\n",
    "res = minimize(problem,\n",
    "               algorithm,\n",
    "               termination,\n",
    "               seed=1,\n",
    "               save_history=True,\n",
    "               verbose=True)\n",
    "end = time.perf_counter() \n",
    "eTimeMOO = (end - start)\n",
    "\n",
    "X = res.X\n",
    "F = res.F"
   ]
  },
  {
   "cell_type": "code",
   "execution_count": null,
   "metadata": {},
   "outputs": [],
   "source": [
    "print(\"Time of execution:\", eTimeMOO, \"seconds.\")"
   ]
  },
  {
   "cell_type": "code",
   "execution_count": null,
   "metadata": {},
   "outputs": [],
   "source": [
    "print(X.shape)\n",
    "print(F.shape)\n",
    "samples = np.copy(X)\n",
    "fitness = np.average(F, axis = 1)\n",
    "shForces = F[:, 0]\n",
    "shMoments = F[:, 1]"
   ]
  },
  {
   "cell_type": "code",
   "execution_count": null,
   "metadata": {},
   "outputs": [],
   "source": [
    "samples, fitness, shForces, shMoments = cleanData(samples, fitness, shForces, shMoments)\n",
    "print(\"Went from \", nSamples, \" samples to \", samples.shape[0], \" after cleaning data\", sep = \"\")"
   ]
  },
  {
   "cell_type": "code",
   "execution_count": null,
   "metadata": {},
   "outputs": [],
   "source": [
    "prefix = saveData(samples, fitness, shForces, shMoments)\n",
    "print(\"Saving data with the prefix:\", prefix)"
   ]
  }
 ],
 "metadata": {
  "kernelspec": {
   "display_name": "pyTorch-gpu",
   "language": "python",
   "name": "python3"
  },
  "language_info": {
   "codemirror_mode": {
    "name": "ipython",
    "version": 3
   },
   "file_extension": ".py",
   "mimetype": "text/x-python",
   "name": "python",
   "nbconvert_exporter": "python",
   "pygments_lexer": "ipython3",
   "version": "3.9.16"
  },
  "orig_nbformat": 4,
  "vscode": {
   "interpreter": {
    "hash": "a5894844b2d2ed0dfa0303dd3da765415d62adce6c74979413b2b103f5e23799"
   }
  }
 },
 "nbformat": 4,
 "nbformat_minor": 2
}
