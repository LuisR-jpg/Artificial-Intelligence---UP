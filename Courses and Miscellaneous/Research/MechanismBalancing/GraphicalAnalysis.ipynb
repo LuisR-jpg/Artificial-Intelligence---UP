{
 "cells": [
  {
   "attachments": {},
   "cell_type": "markdown",
   "metadata": {},
   "source": [
    "# Six-bar mechanism balancing\n",
    "\n",
    "###### Luis Eduardo Robles Jiménez"
   ]
  },
  {
   "cell_type": "code",
   "execution_count": null,
   "metadata": {},
   "outputs": [],
   "source": [
    "from sklearn.decomposition import PCA\n",
    "import plotly.graph_objects as go\n",
    "import matplotlib.pyplot as plt\n",
    "import plotly.express as px\n",
    "import numpy as np"
   ]
  },
  {
   "cell_type": "markdown",
   "metadata": {},
   "source": [
    "#### Constraints\n",
    "\n",
    "$$ -0.16m \\leq x_{cn}, y_{cn} \\leq 0.16m $$\n",
    "\n",
    "$$ 0.005m \\leq t_{cn} \\leq 0.04m $$"
   ]
  },
  {
   "cell_type": "markdown",
   "metadata": {},
   "source": [
    "### Read data from a file"
   ]
  },
  {
   "cell_type": "code",
   "execution_count": null,
   "metadata": {},
   "outputs": [],
   "source": [
    "\"\"\"\n",
    "# The very best examples, to understand how good solutions behave\n",
    "fitness = np.loadtxt(\"1671649703Fitness.txt\")\n",
    "samples = np.loadtxt(\"1671649703Population.txt\")\n",
    "# Solutions under 1.0\n",
    "fitness = np.loadtxt(\"1671919014Fitness.txt\")\n",
    "samples = np.loadtxt(\"1671919014Population.txt\")\n",
    "# Broader space\n",
    "# 10% best solutions, 50% Under 1.0 solutions, 50% random solutions.\n",
    "samples = np.loadtxt(\"1671988185Population.txt\")\n",
    "fitness = np.loadtxt(\"1671988185Fitness.txt\")\n",
    "shForces = np.loadtxt(\"1671988185ShForces.txt\")\n",
    "shMoments = np.loadtxt(\"1671988185ShMoments.txt\")\n",
    "# More pymoo results\n",
    "samples = np.loadtxt(\"1674756309Population.txt\")\n",
    "fitness = np.loadtxt(\"1674756309Fitness.txt\")\n",
    "shForces = np.loadtxt(\"1674756309ShForces.txt\")\n",
    "shMoments = np.loadtxt(\"1674756309ShMoments.txt\")\n",
    "# 114 crazy estimations with a random uniform alpha (0 pairs below 1)\n",
    "samples = np.loadtxt(\"1675557893Population.txt\")\n",
    "fitness = np.loadtxt(\"1675557893Fitness.txt\")\n",
    "shForces = np.loadtxt(\"1675557893ShForces.txt\")\n",
    "shMoments = np.loadtxt(\"1675557893ShMoments.txt\")\n",
    "# DE with random alpha\n",
    "samples = np.loadtxt(\"experiments/1676302198Population.txt\")\n",
    "fitness = np.loadtxt(\"experiments/1676302198Fitness.txt\")\n",
    "shForces = np.loadtxt(\"experiments/1676302198ShForces.txt\")\n",
    "shMoments = np.loadtxt(\"experiments/1676302198ShMoments.txt\")\n",
    "# Pymoo\n",
    "samples = np.loadtxt(\"experiments/1676338610Population.txt\")\n",
    "fitness = np.loadtxt(\"experiments/1676338610Fitness.txt\")\n",
    "shForces = np.loadtxt(\"experiments/1676338610ShForces.txt\")\n",
    "shMoments = np.loadtxt(\"experiments/1676338610ShMoments.txt\")\n",
    "\"\"\"\n",
    "\"\"\"\n",
    "\"\"\"\n",
    "# Pymoo 3 weights\n",
    "samples = np.loadtxt(\"experiments/1677893800Population.txt\")\n",
    "fitness = np.loadtxt(\"experiments/1677893800Fitness.txt\")\n",
    "shForces = np.loadtxt(\"experiments/1677893800ShForces.txt\")\n",
    "shMoments = np.loadtxt(\"experiments/1677893800ShMoments.txt\")\n",
    "\n",
    "print(samples.shape)\n",
    "print(fitness.shape)\n",
    "print(shForces.shape)\n",
    "print(shMoments.shape)"
   ]
  },
  {
   "cell_type": "code",
   "execution_count": null,
   "metadata": {},
   "outputs": [],
   "source": [
    "nSamples, nVariables = samples.shape\n",
    "nWeights = nVariables // 3\n",
    "globalMax = np.max(samples)\n",
    "globalMin = np.min(samples)"
   ]
  },
  {
   "attachments": {},
   "cell_type": "markdown",
   "metadata": {},
   "source": [
    "## Dimensionality reduction"
   ]
  },
  {
   "attachments": {},
   "cell_type": "markdown",
   "metadata": {},
   "source": [
    "### Feature extraction"
   ]
  },
  {
   "attachments": {},
   "cell_type": "markdown",
   "metadata": {},
   "source": [
    "#### Thicknesses"
   ]
  },
  {
   "cell_type": "code",
   "execution_count": null,
   "metadata": {},
   "outputs": [],
   "source": [
    "thicknesses = samples[:, 2::3]"
   ]
  },
  {
   "attachments": {},
   "cell_type": "markdown",
   "metadata": {},
   "source": [
    "#### Radiuses"
   ]
  },
  {
   "cell_type": "code",
   "execution_count": null,
   "metadata": {},
   "outputs": [],
   "source": [
    "radiuses = np.sqrt(np.square(samples[:, ::3]) + np.square(samples[:, 1::3]))"
   ]
  },
  {
   "attachments": {},
   "cell_type": "markdown",
   "metadata": {},
   "source": [
    "#### Masses\n",
    "\n",
    "This is a problem-specific feature that can be got from variables.\n",
    "\n",
    "These calculations are intended to be used later on to find out whether this is a good representant of the solutions or not.\n",
    "\n",
    "The mass can be easily calculated with the resulting formula of the following steps.\n",
    "\n",
    "##### Formula\n",
    "\n",
    "$$\\sigma_i = \\frac{m_i}{V_i}$$\n",
    "\n",
    "$$m_i = V_i \\sigma_i$$\n",
    "\n",
    "$$m_i = (r_i^2 t_i \\pi)(\\sigma_i)$$\n",
    "\n",
    "$$m_i = (\\sqrt{x_i^2 + y_i^2}^2 t_i \\pi)(\\sigma_i)$$\n",
    "\n",
    "$$m_i = (x_i^2 + y_i^2) t_i \\pi\\sigma_i$$\n",
    "\n",
    "##### Considering that\n",
    "\n",
    "$\\sigma$ is density. In this problem: $\\sigma_i = 7800 \\frac{kg}{m^3}$\n",
    "\n",
    "$m$ is mass $(kg)$\n",
    "\n",
    "$V$ is volume; of a cylinder in this problem $(m^3)$ \n",
    "\n",
    "$x, y$ are the relative coordinates of the weight centers. $(m)$"
   ]
  },
  {
   "cell_type": "code",
   "execution_count": null,
   "metadata": {},
   "outputs": [],
   "source": [
    "masses = np.zeros((nSamples, nWeights))\n",
    "density = 7800\n",
    "for i in range(nWeights):\n",
    "    masses[:, i] = (samples[:, i*3]**2 + samples[:, i*3 + 1]**2) * samples[:, i*3 + 2] * np.pi * density\n",
    "sumMasses = np.sum(masses, axis = 1)"
   ]
  },
  {
   "attachments": {},
   "cell_type": "markdown",
   "metadata": {},
   "source": [
    "#### Alpha\n",
    "\n",
    "Alpha can be calculated out of the fitness function.\n",
    "\n",
    "Does this method work if we apply this formula even for algorithms that didn't use this method?\n",
    "\n",
    "- First problem: the resultant alpha is not standardised [0, 1]\n",
    "\n",
    "##### Formula\n",
    "\n",
    "$$\n",
    "f(x) = \\alpha ShF(x) + (1 - \\alpha) ShM(x)\n",
    "$$\n",
    "$$\n",
    "\\therefore \\alpha = \\frac{f(x) - ShM(x)}{ShF(x) - ShM(x)}\n",
    "$$"
   ]
  },
  {
   "cell_type": "code",
   "execution_count": null,
   "metadata": {},
   "outputs": [],
   "source": [
    "alpha = (fitness - shMoments)/(shForces - shMoments)\n",
    "print(np.max(alpha))\n",
    "print(np.min(alpha))    "
   ]
  },
  {
   "attachments": {},
   "cell_type": "markdown",
   "metadata": {},
   "source": [
    "#### PCA"
   ]
  },
  {
   "cell_type": "code",
   "execution_count": null,
   "metadata": {},
   "outputs": [],
   "source": [
    "modelPCA = PCA()\n",
    "modelPCA.fit(samples)\n",
    "dataPCA = modelPCA.transform(samples)\n",
    "dataPCA.shape"
   ]
  },
  {
   "cell_type": "code",
   "execution_count": null,
   "metadata": {},
   "outputs": [],
   "source": [
    "expVar = modelPCA.explained_variance_ratio_\n",
    "expVarCum = np.cumsum(expVar)\n",
    "plt.figure(figsize=(10, 5))\n",
    "plt.grid()\n",
    "plt.plot(np.concatenate(([0], expVarCum)))\n",
    "plt.show()"
   ]
  },
  {
   "cell_type": "markdown",
   "metadata": {},
   "source": [
    "##### First two main components"
   ]
  },
  {
   "cell_type": "code",
   "execution_count": null,
   "metadata": {},
   "outputs": [],
   "source": [
    "dataPCA = dataPCA[:, :2]\n",
    "plt.figure(figsize=(10, 10))\n",
    "plt.title(\"PCA first two components\")\n",
    "plt.scatter(dataPCA[:, 0], dataPCA[:, 1])\n",
    "plt.xlabel(\"PCA 1 -> \" + str(np.round(expVar[0]*100, 2)) + \"%\")\n",
    "plt.ylabel(\"PCA 2 -> \" + str(np.round(expVar[1]*100, 2)) + \"%\")\n",
    "plt.show()"
   ]
  },
  {
   "attachments": {},
   "cell_type": "markdown",
   "metadata": {},
   "source": [
    "## Data visualization"
   ]
  },
  {
   "cell_type": "markdown",
   "metadata": {},
   "source": [
    "### Parallel coordinates "
   ]
  },
  {
   "cell_type": "markdown",
   "metadata": {},
   "source": [
    "#### All variables\n",
    "\n",
    "Decent solutions seem to follow a pattern of trying to find the equilibrium between thickness and position. So the weights might be optimal with a determined mass value."
   ]
  },
  {
   "cell_type": "code",
   "execution_count": null,
   "metadata": {},
   "outputs": [],
   "source": [
    "figure = []\n",
    "features = [\"x One\", \"y One\", \"t One\", \"x Two\", \"y Two\", \"t Two\", \"x Three\", \"y Three\", \"t Three\", \"x Four\", \"y Four\", \"t Four\", \"x Five\", \"y Five\", \"t Five\"]\n",
    "for i in range(samples.shape[1]):\n",
    "    figure.append(dict(range = [globalMin, globalMax], label = features[i], values = samples[:, i]))\n",
    "    #figure.append(dict(label = features[i], values = samples[:, i]))"
   ]
  },
  {
   "cell_type": "code",
   "execution_count": null,
   "metadata": {},
   "outputs": [],
   "source": [
    "fig = go.Figure(data =\n",
    "    go.Parcoords(\n",
    "        line = dict(color = alpha, colorscale = px.colors.sequential.Jet),\n",
    "        dimensions = figure\n",
    "    )\n",
    ")\n",
    "fig.show()"
   ]
  },
  {
   "cell_type": "markdown",
   "metadata": {},
   "source": [
    "#### Masses\n",
    "\n",
    "The masses seem to describe a consistent behavior on their weights. "
   ]
  },
  {
   "cell_type": "code",
   "execution_count": null,
   "metadata": {},
   "outputs": [],
   "source": [
    "figure = []\n",
    "features = [\"mass One\", \"mass Two\", \"mass Three\", \"mass Four\", \"mass Five\"]\n",
    "massMin = np.min(masses)\n",
    "massMax = np.max(masses)\n",
    "for i in range(masses.shape[1]):\n",
    "    figure.append(dict(range = [massMin, massMax], label = features[i], values = masses[:, i]))\n",
    "    #figure.append(dict(label = features[i], values = masses[:, i]))"
   ]
  },
  {
   "cell_type": "code",
   "execution_count": null,
   "metadata": {},
   "outputs": [],
   "source": [
    "fig = go.Figure(data =\n",
    "    go.Parcoords(\n",
    "        line = dict(color = alpha, colorscale = px.colors.sequential.Jet),\n",
    "        dimensions = figure\n",
    "    )\n",
    ")\n",
    "fig.show()"
   ]
  },
  {
   "cell_type": "markdown",
   "metadata": {},
   "source": [
    "#### Shaking moment vs Shaking force\n",
    "\n",
    "This graph shows the behavior of the Pareto efficient solutions, where the improvement on the optimization of one variable, directly affects others'."
   ]
  },
  {
   "cell_type": "code",
   "execution_count": null,
   "metadata": {},
   "outputs": [],
   "source": [
    "figure = []\n",
    "figure.append(dict(range = [0, 1], label = \"Shaking Force\", values = shForces))\n",
    "figure.append(dict(range = [0, 1], label = \"Shaking Moment\", values = shMoments))\n",
    "figure.append(dict(range = [0, 1], label = \"Alpha\", values = alpha))"
   ]
  },
  {
   "cell_type": "code",
   "execution_count": null,
   "metadata": {},
   "outputs": [],
   "source": [
    "fig = go.Figure(data =\n",
    "    go.Parcoords(\n",
    "        line = dict(color = alpha, colorscale = px.colors.sequential.Jet),\n",
    "        dimensions = figure\n",
    "    )\n",
    ")\n",
    "fig.show()"
   ]
  },
  {
   "attachments": {},
   "cell_type": "markdown",
   "metadata": {},
   "source": [
    "### Violinplot\n",
    "\n",
    "This graph is created with hopes of seeing if  masses have a tendency. \n",
    "\n",
    "These graphs help to show:\n",
    "\n",
    "1. Weight 1 has a short range where it values are optimal, and the frequency seems to indicate that the smaller it is, the better it works.\n",
    "\n",
    "2. Weight 2 shows an interesting dynamic range, it's large and might ressemble a normal distribution.\n",
    "\n",
    "3. Weight 3 clearly shows it's tendency for a specific mass near the maximum limit.\n",
    "\n",
    "4. Weight 4 seems optimal when it's as small as possible.\n",
    "\n",
    "5. Weight 5 same behavior as 4."
   ]
  },
  {
   "cell_type": "code",
   "execution_count": null,
   "metadata": {},
   "outputs": [],
   "source": [
    "fig = plt.figure(figsize =(15, 15))\n",
    "plt.title(\"Distribution of the optimal weights in kg\")\n",
    "plt.xlabel(\"# of weight\")\n",
    "plt.ylabel(\"Mass (kg)\")\n",
    "plt.violinplot(masses)"
   ]
  },
  {
   "attachments": {},
   "cell_type": "markdown",
   "metadata": {},
   "source": [
    "### Scatter plot\n",
    "\n",
    "Let's try to see if there's a relation between the masses of the weights and their fitness.\n",
    "\n",
    "#### Observations\n",
    "\n",
    "- Fwiw, points above the optimal ones mean that the results can be heavily affected by other variables.\n",
    "\n",
    "- Checkout the previous [results](https://github.com/LuisR-jpg/School/blob/af30b7fbc78e681a47fba3b86f7624ddf7c9c180/Courses%20and%20Miscellaneous/Research/GraphicalAnalysis.ipynb)"
   ]
  },
  {
   "cell_type": "code",
   "execution_count": null,
   "metadata": {},
   "outputs": [],
   "source": [
    "fig = plt.figure(figsize =(15, 30))\n",
    "for i in range(nWeights):\n",
    "    plt.subplot(5, 1, i + 1)\n",
    "    plt.title(\"Weight \" + str(i + 1))\n",
    "    plt.scatter(masses[:, i], fitness, alpha = 0.5, c = alpha, cmap = 'jet')\n",
    "    plt.xlabel(\"Mass\")\n",
    "    plt.ylabel(\"Alpha\")"
   ]
  },
  {
   "cell_type": "code",
   "execution_count": null,
   "metadata": {},
   "outputs": [],
   "source": [
    "fig = plt.figure(figsize =(10, 10))\n",
    "colors = ['k', 'b', 'g', 'r', 'lime']\n",
    "for i in range(nWeights):\n",
    "    plt.title(\"Weights\")\n",
    "    plt.scatter(masses[:, i], fitness, alpha = 0.6, color = colors[i], label = \"Weight \" + str(i + 1))\n",
    "    plt.xlabel(\"Mass\")\n",
    "    plt.ylabel(\"Fitness\")\n",
    "plt.legend()"
   ]
  },
  {
   "cell_type": "markdown",
   "metadata": {},
   "source": [
    "#### Total mass\n",
    "\n",
    "It's possible to see how worse the solutions get with weights that are outside a determined range."
   ]
  },
  {
   "cell_type": "code",
   "execution_count": null,
   "metadata": {},
   "outputs": [],
   "source": [
    "plt.figure(figsize=(15, 7))\n",
    "plt.scatter(sumMasses, alpha, alpha = 0.5, color = '0')\n",
    "plt.title(\"Behavior of total mass\")\n",
    "plt.xlabel(\"Total mass\")\n",
    "plt.ylabel(\"Alpha\")"
   ]
  },
  {
   "attachments": {},
   "cell_type": "markdown",
   "metadata": {},
   "source": [
    "#### Relation between thickness and radius\n",
    "\n",
    "- Once again, it demonstrates that these two variables work together to reach the optimal mass."
   ]
  },
  {
   "cell_type": "code",
   "execution_count": null,
   "metadata": {},
   "outputs": [],
   "source": [
    "plt.figure(figsize=(15, 15))\n",
    "for w in range(1, nWeights + 1):\n",
    "    plt.subplot(3, 2, w)\n",
    "    weight = w - 1\n",
    "    plt.scatter(radiuses[:, weight], thicknesses[:, weight], c = alpha, alpha = 0.5, cmap = \"jet\")\n",
    "    plt.xlabel(\"Radius \" + str(w))\n",
    "    plt.ylabel(\"Thickness \" + str(w))\n",
    "plt.subplot(3, 2, 6)\n",
    "plt.xlabel(\"Radius \" + str(w))\n",
    "plt.ylabel(\"Thickness \" + str(w))\n",
    "for w in range(nWeights): plt.scatter(radiuses[:, w], thicknesses[:, w], c = colors[w], alpha = 0.5, cmap = \"jet\")"
   ]
  },
  {
   "cell_type": "markdown",
   "metadata": {},
   "source": [
    "#### Fitness \n",
    "\n",
    "This feature is the average of both functions"
   ]
  },
  {
   "cell_type": "code",
   "execution_count": null,
   "metadata": {},
   "outputs": [],
   "source": [
    "plt.figure(figsize = (15, 7))\n",
    "plt.plot(range(samples.shape[0]), shForces, c = 'r', alpha = 0.5)\n",
    "plt.scatter(range(samples.shape[0]), shForces, c = 'r', alpha = 0.5)\n",
    "plt.plot(range(samples.shape[0]), alpha, c = \"0\")\n",
    "plt.scatter(range(samples.shape[0]), alpha, c = \"0\")\n",
    "plt.plot(range(samples.shape[0]), shMoments, c = 'b', alpha = 0.5)\n",
    "plt.scatter(range(samples.shape[0]), shMoments, c = 'b', alpha = 0.5)\n",
    "plt.grid(which=\"both\")"
   ]
  },
  {
   "attachments": {},
   "cell_type": "markdown",
   "metadata": {},
   "source": [
    "#### Pareto front\n",
    "\n",
    "A more common way to show the Pareto front."
   ]
  },
  {
   "cell_type": "code",
   "execution_count": null,
   "metadata": {},
   "outputs": [],
   "source": [
    "plt.figure(figsize = (7, 7))\n",
    "plt.scatter(shForces, shMoments, alpha = 0.5, c = alpha, cmap = \"jet\", label = \"Alpha\")\n",
    "plt.title(\"Optimal pareto front\")\n",
    "plt.xlabel(\"Shaking Forces\")\n",
    "plt.ylabel(\"Shaking Moment\")\n",
    "plt.colorbar()"
   ]
  },
  {
   "cell_type": "code",
   "execution_count": null,
   "metadata": {},
   "outputs": [],
   "source": [
    "plt.scatter(alpha, shForces)\n",
    "plt.scatter(alpha, shMoments)"
   ]
  },
  {
   "attachments": {},
   "cell_type": "markdown",
   "metadata": {},
   "source": [
    "## Comparison"
   ]
  },
  {
   "attachments": {},
   "cell_type": "markdown",
   "metadata": {},
   "source": [
    "### Pareto Front comparison"
   ]
  },
  {
   "cell_type": "code",
   "execution_count": null,
   "metadata": {},
   "outputs": [],
   "source": [
    "# Pymoo\n",
    "fitnessTwo = np.loadtxt(\"experiments/1676338610Fitness.txt\")\n",
    "shForcesTwo = np.loadtxt(\"experiments/1676338610ShForces.txt\")\n",
    "shMomentsTwo = np.loadtxt(\"experiments/1676338610ShMoments.txt\")\n",
    "\n",
    "plt.figure(figsize = (15, 7.5))\n",
    "\n",
    "plt.subplot(1, 2, 1)\n",
    "plt.xlim(0, np.max([np.max([shForces]), np.max([shForcesTwo])]))\n",
    "plt.ylim(0, np.max([np.max([shMoments]), np.max([shMomentsTwo])]))\n",
    "plt.scatter(shForces, shMoments, alpha = 0.7, c = alpha, cmap = \"jet\")\n",
    "plt.xlabel(\"Shaking Forces\")\n",
    "plt.ylabel(\"Shaking Moment\")\n",
    "plt.title(\"Current Pareto Front\")\n",
    "plt.colorbar()\n",
    "\n",
    "plt.subplot(1, 2, 2)\n",
    "plt.xlim(0, np.max([np.max([shForces]), np.max([shForcesTwo])]))\n",
    "plt.ylim(0, np.max([np.max([shMoments]), np.max([shMomentsTwo])]))\n",
    "plt.scatter(shForcesTwo, shMomentsTwo, alpha = 0.7, cmap = \"jet\")\n",
    "plt.xlabel(\"Shaking Forces\")\n",
    "plt.ylabel(\"Shaking Moment\")\n",
    "plt.title(\"Comparison Pareto Front\")"
   ]
  },
  {
   "cell_type": "code",
   "execution_count": null,
   "metadata": {},
   "outputs": [],
   "source": [
    "plt.figure(figsize = (7, 7))\n",
    "padding = 0.05\n",
    "plt.xlim(np.min([np.min([shForces]), np.min([shForcesTwo])]) - padding, np.max([np.max([shForces]), np.max([shForcesTwo])]) + padding)\n",
    "plt.ylim(np.min([np.min([shMoments]), np.min([shMomentsTwo])]) - padding, np.max([np.max([shMoments]), np.max([shMomentsTwo])]) + padding)\n",
    "plt.scatter(shForcesTwo, shMomentsTwo, marker=\"x\", label = \"NSGA-II\")\n",
    "#plt.scatter(shForcesTwo, shMomentsTwo)\n",
    "plt.scatter(shForces, shMoments, marker = 'o', label = \"Differential Evolution\")\n",
    "plt.xlabel(\"Shaking Forces\")\n",
    "plt.ylabel(\"Shaking Moment\")\n",
    "plt.title(\"Comparison Pareto Front\")\n",
    "plt.legend()"
   ]
  },
  {
   "attachments": {},
   "cell_type": "markdown",
   "metadata": {},
   "source": [
    "### Variables comparison"
   ]
  },
  {
   "cell_type": "code",
   "execution_count": null,
   "metadata": {},
   "outputs": [],
   "source": [
    "import seaborn as sns\n",
    "import pandas as pd"
   ]
  },
  {
   "cell_type": "code",
   "execution_count": null,
   "metadata": {},
   "outputs": [],
   "source": [
    "#samples"
   ]
  },
  {
   "cell_type": "code",
   "execution_count": null,
   "metadata": {},
   "outputs": [],
   "source": [
    "df = pd.DataFrame(masses, columns = [f'Weight {i + 1}' for i in range(nWeights)])"
   ]
  },
  {
   "cell_type": "code",
   "execution_count": null,
   "metadata": {},
   "outputs": [],
   "source": [
    "sns.pairplot(df, kind = \"reg\", diag_kind = \"kde\")"
   ]
  },
  {
   "cell_type": "code",
   "execution_count": null,
   "metadata": {},
   "outputs": [],
   "source": [
    "sns.pairplot(df)"
   ]
  },
  {
   "cell_type": "code",
   "execution_count": null,
   "metadata": {},
   "outputs": [],
   "source": [
    "from BetaShF import *\n",
    "from BetaShM import *"
   ]
  },
  {
   "cell_type": "code",
   "execution_count": null,
   "metadata": {},
   "outputs": [],
   "source": [
    "def objective(s, ShF, ShM, alpha = 0.5):\n",
    "    assert len(s) == 15\n",
    "    return (alpha)*ShF(s) + (1 - alpha)*ShM(s)"
   ]
  },
  {
   "cell_type": "code",
   "execution_count": null,
   "metadata": {},
   "outputs": [],
   "source": [
    "# t1 vs t2\n",
    "index = np.random.randint(len(samples))\n",
    "rango = 0.5\n",
    "s = samples[index]\n",
    "divs = 50\n",
    "t1, t2 = s[2], s[2]\n",
    "t1 = np.linspace(t1 - rango, t1 + rango, divs)\n",
    "t2 = np.linspace(t2 - rango, t2 + rango, divs)\n",
    "t1 = np.linspace(0.005, 0.04, divs)\n",
    "t2 = np.linspace(0.005, 0.04, divs)\n",
    "#t1 = np.linspace(0, 1, divs)\n",
    "#t2 = np.linspace(-1, 0, divs)"
   ]
  },
  {
   "cell_type": "code",
   "execution_count": null,
   "metadata": {},
   "outputs": [],
   "source": [
    "X, Y = np.meshgrid(t1, t2)"
   ]
  },
  {
   "cell_type": "code",
   "execution_count": null,
   "metadata": {},
   "outputs": [],
   "source": [
    "Z = np.zeros((divs, divs))\n",
    "for i in range(divs):\n",
    "    for j in range(divs):\n",
    "        print(f'\\rCurrently running {i}, {j}', end = \"\")\n",
    "        test = np.copy(samples[index])\n",
    "        test[2] = X[i, j]\n",
    "        test[5] = Y[i, j]\n",
    "        test = np.array(list(test) + [0] * 6)\n",
    "        Z[i, j] = objective(test, ShF, ShM)"
   ]
  },
  {
   "cell_type": "code",
   "execution_count": null,
   "metadata": {},
   "outputs": [],
   "source": [
    "fig = plt.figure()\n",
    "ax = plt.axes(projection='3d')\n",
    "ax.contour3D(X, Y, Z, 50, cmap='viridis')\n",
    "ax.set_xlabel('x')\n",
    "ax.set_ylabel('y')\n",
    "ax.set_zlabel('z');"
   ]
  },
  {
   "cell_type": "code",
   "execution_count": null,
   "metadata": {},
   "outputs": [],
   "source": [
    "import ipywidgets as widgets\n",
    "from ipywidgets import HBox, VBox\n",
    "import numpy as np\n",
    "import matplotlib.pyplot as plt\n",
    "from IPython.display import display\n",
    "%matplotlib inline"
   ]
  },
  {
   "cell_type": "code",
   "execution_count": 42,
   "metadata": {},
   "outputs": [
    {
     "data": {
      "application/vnd.jupyter.widget-view+json": {
       "model_id": "b45a21f715c3469d93944be88322d11c",
       "version_major": 2,
       "version_minor": 0
      },
      "text/plain": [
       "interactive(children=(IntSlider(value=0, description='angle1', max=180, min=-180), IntSlider(value=0, descript…"
      ]
     },
     "metadata": {},
     "output_type": "display_data"
    }
   ],
   "source": [
    "@widgets.interact(angle1 = (-180, 180), angle2 = (-180, 180))\n",
    "def plot(angle1=0, angle2=0):\n",
    "    fig = plt.figure()\n",
    "    ax = plt.axes(projection='3d')\n",
    "    ax.contour3D(X, Y, Z, 50, cmap='viridis')\n",
    "    ax.set_xlabel('x')\n",
    "    ax.set_ylabel('y')\n",
    "    ax.set_zlabel('z')\n",
    "    ax.view_init(angle1, angle2)"
   ]
  }
 ],
 "metadata": {
  "kernelspec": {
   "display_name": "Python 3.8.10 64-bit",
   "language": "python",
   "name": "python3"
  },
  "language_info": {
   "codemirror_mode": {
    "name": "ipython",
    "version": 3
   },
   "file_extension": ".py",
   "mimetype": "text/x-python",
   "name": "python",
   "nbconvert_exporter": "python",
   "pygments_lexer": "ipython3",
   "version": "3.8.10"
  },
  "orig_nbformat": 4,
  "vscode": {
   "interpreter": {
    "hash": "916dbcbb3f70747c44a77c7bcd40155683ae19c65e1c03b4aa3499c5328201f1"
   }
  }
 },
 "nbformat": 4,
 "nbformat_minor": 2
}
