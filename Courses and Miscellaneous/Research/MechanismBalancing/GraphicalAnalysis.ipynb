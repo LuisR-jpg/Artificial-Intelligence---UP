{
 "cells": [
  {
   "attachments": {},
   "cell_type": "markdown",
   "metadata": {},
   "source": [
    "# Six-bar mechanism balancing\n",
    "\n",
    "###### Luis Eduardo Robles Jiménez"
   ]
  },
  {
   "cell_type": "code",
   "execution_count": 2,
   "metadata": {},
   "outputs": [],
   "source": [
    "from sklearn.decomposition import PCA\n",
    "import plotly.graph_objects as go\n",
    "import matplotlib.pyplot as plt\n",
    "import plotly.express as px\n",
    "import numpy as np"
   ]
  },
  {
   "cell_type": "markdown",
   "metadata": {},
   "source": [
    "#### Constraints\n",
    "\n",
    "$$ -0.16m \\leq x_{cn}, y_{cn} \\leq 0.16m $$\n",
    "\n",
    "$$ 0.005m \\leq t_{cn} \\leq 0.04m $$"
   ]
  },
  {
   "cell_type": "markdown",
   "metadata": {},
   "source": [
    "### Read data from a file"
   ]
  },
  {
   "cell_type": "code",
   "execution_count": 3,
   "metadata": {},
   "outputs": [
    {
     "name": "stdout",
     "output_type": "stream",
     "text": [
      "(77, 15)\n",
      "(77,)\n",
      "(77,)\n",
      "(77,)\n"
     ]
    }
   ],
   "source": [
    "\"\"\"\n",
    "# The very best examples, to understand how good solutions behave\n",
    "fitness = np.loadtxt(\"1671649703Fitness.txt\")\n",
    "samples = np.loadtxt(\"1671649703Population.txt\")\n",
    "# Solutions under 1.0\n",
    "fitness = np.loadtxt(\"1671919014Fitness.txt\")\n",
    "samples = np.loadtxt(\"1671919014Population.txt\")\n",
    "# Broader space\n",
    "# 10% best solutions, 50% Under 1.0 solutions, 50% random solutions.\n",
    "samples = np.loadtxt(\"1671988185Population.txt\")\n",
    "fitness = np.loadtxt(\"1671988185Fitness.txt\")\n",
    "shForces = np.loadtxt(\"1671988185ShForces.txt\")\n",
    "shMoments = np.loadtxt(\"1671988185ShMoments.txt\")\n",
    "# More pymoo results\n",
    "samples = np.loadtxt(\"1674756309Population.txt\")\n",
    "fitness = np.loadtxt(\"1674756309Fitness.txt\")\n",
    "shForces = np.loadtxt(\"1674756309ShForces.txt\")\n",
    "shMoments = np.loadtxt(\"1674756309ShMoments.txt\")\n",
    "# 114 crazy estimations with a random uniform alpha (0 pairs below 1)\n",
    "samples = np.loadtxt(\"1675557893Population.txt\")\n",
    "fitness = np.loadtxt(\"1675557893Fitness.txt\")\n",
    "shForces = np.loadtxt(\"1675557893ShForces.txt\")\n",
    "shMoments = np.loadtxt(\"1675557893ShMoments.txt\")\n",
    "\"\"\"\n",
    "# DE with random alpha\n",
    "samples = np.loadtxt(\"experiments/1676302198Population.txt\")\n",
    "fitness = np.loadtxt(\"experiments/1676302198Fitness.txt\")\n",
    "shForces = np.loadtxt(\"experiments/1676302198ShForces.txt\")\n",
    "shMoments = np.loadtxt(\"experiments/1676302198ShMoments.txt\")\n",
    "\n",
    "print(samples.shape)\n",
    "print(fitness.shape)\n",
    "print(shForces.shape)\n",
    "print(shMoments.shape)"
   ]
  },
  {
   "cell_type": "code",
   "execution_count": 4,
   "metadata": {},
   "outputs": [],
   "source": [
    "nSamples, nVariables = samples.shape\n",
    "nWeights = nVariables // 3\n",
    "globalMax = np.max(samples)\n",
    "globalMin = np.min(samples)"
   ]
  },
  {
   "attachments": {},
   "cell_type": "markdown",
   "metadata": {},
   "source": [
    "## Dimensionality reduction"
   ]
  },
  {
   "attachments": {},
   "cell_type": "markdown",
   "metadata": {},
   "source": [
    "### Feature extraction"
   ]
  },
  {
   "attachments": {},
   "cell_type": "markdown",
   "metadata": {},
   "source": [
    "#### Thicknesses"
   ]
  },
  {
   "cell_type": "code",
   "execution_count": 5,
   "metadata": {},
   "outputs": [],
   "source": [
    "thicknesses = samples[:, 2::3]"
   ]
  },
  {
   "attachments": {},
   "cell_type": "markdown",
   "metadata": {},
   "source": [
    "#### Radiuses"
   ]
  },
  {
   "cell_type": "code",
   "execution_count": 6,
   "metadata": {},
   "outputs": [],
   "source": [
    "radiuses = np.sqrt(np.square(samples[:, ::3]) + np.square(samples[:, 1::3]))"
   ]
  },
  {
   "attachments": {},
   "cell_type": "markdown",
   "metadata": {},
   "source": [
    "#### Masses\n",
    "\n",
    "This is a problem-specific feature that can be got from variables.\n",
    "\n",
    "These calculations are intended to be used later on to find out whether this is a good representant of the solutions or not.\n",
    "\n",
    "The mass can be easily calculated with the resulting formula of the following steps.\n",
    "\n",
    "##### Formula\n",
    "\n",
    "$$\\sigma_i = \\frac{m_i}{V_i}$$\n",
    "\n",
    "$$m_i = V_i \\sigma_i$$\n",
    "\n",
    "$$m_i = (r_i^2 t_i \\pi)(\\sigma_i)$$\n",
    "\n",
    "$$m_i = (\\sqrt{x_i^2 + y_i^2}^2 t_i \\pi)(\\sigma_i)$$\n",
    "\n",
    "$$m_i = (x_i^2 + y_i^2) t_i \\pi\\sigma_i$$\n",
    "\n",
    "##### Considering that\n",
    "\n",
    "$\\sigma$ is density. In this problem: $\\sigma_i = 7800 \\frac{kg}{m^3}$\n",
    "\n",
    "$m$ is mass $(kg)$\n",
    "\n",
    "$V$ is volume; of a cylinder in this problem $(m^3)$ \n",
    "\n",
    "$x, y$ are the relative coordinates of the weight centers. $(m)$"
   ]
  },
  {
   "cell_type": "code",
   "execution_count": 7,
   "metadata": {},
   "outputs": [],
   "source": [
    "masses = np.zeros((nSamples, nWeights))\n",
    "density = 7800\n",
    "for i in range(nWeights):\n",
    "    masses[:, i] = (samples[:, i*3]**2 + samples[:, i*3 + 1]**2) * samples[:, i*3 + 2] * np.pi * density\n",
    "sumMasses = np.sum(masses, axis = 1)"
   ]
  },
  {
   "attachments": {},
   "cell_type": "markdown",
   "metadata": {},
   "source": [
    "#### Alpha\n",
    "\n",
    "Alpha can be calculated out of the fitness function.\n",
    "\n",
    "Does this method work if we apply this formula even for algorithms that didn't use this method?\n",
    "\n",
    "##### Formula\n",
    "\n",
    "$$\n",
    "f(x) = \\alpha ShF(x) + (1 - \\alpha) ShM(x)\n",
    "$$\n",
    "$$\n",
    "\\therefore \\alpha = \\frac{f(x) - ShM(x)}{ShF(x) - ShM(x)}\n",
    "$$"
   ]
  },
  {
   "cell_type": "code",
   "execution_count": 8,
   "metadata": {},
   "outputs": [
    {
     "name": "stdout",
     "output_type": "stream",
     "text": [
      "0.6363422463752267\n",
      "0.07722465969874434\n"
     ]
    }
   ],
   "source": [
    "alpha = (fitness - shMoments)/(shForces - shMoments)\n",
    "print(np.max(alpha))\n",
    "print(np.min(alpha))"
   ]
  },
  {
   "attachments": {},
   "cell_type": "markdown",
   "metadata": {},
   "source": [
    "#### PCA"
   ]
  },
  {
   "cell_type": "code",
   "execution_count": 9,
   "metadata": {},
   "outputs": [
    {
     "data": {
      "text/plain": [
       "(77, 15)"
      ]
     },
     "execution_count": 9,
     "metadata": {},
     "output_type": "execute_result"
    }
   ],
   "source": [
    "modelPCA = PCA()\n",
    "modelPCA.fit(samples)\n",
    "dataPCA = modelPCA.transform(samples)\n",
    "dataPCA.shape"
   ]
  },
  {
   "cell_type": "code",
   "execution_count": 10,
   "metadata": {},
   "outputs": [
    {
     "data": {
      "image/png": "[encoded data removed]",
      "text/plain": [
       "<Figure size 1000x500 with 1 Axes>"
      ]
     },
     "metadata": {},
     "output_type": "display_data"
    }
   ],
   "source": [
    "expVar = modelPCA.explained_variance_ratio_\n",
    "expVarCum = np.cumsum(expVar)\n",
    "plt.figure(figsize=(10, 5))\n",
    "plt.grid()\n",
    "plt.plot(np.concatenate(([0], expVarCum)))\n",
    "plt.show()"
   ]
  },
  {
   "cell_type": "markdown",
   "metadata": {},
   "source": [
    "##### First two main components"
   ]
  },
  {
   "cell_type": "code",
   "execution_count": 11,
   "metadata": {},
   "outputs": [
    {
     "data": {
      "image/png": "[encoded data removed]",
      "text/plain": [
       "<Figure size 1000x1000 with 1 Axes>"
      ]
     },
     "metadata": {},
     "output_type": "display_data"
    }
   ],
   "source": [
    "dataPCA = dataPCA[:, :2]\n",
    "plt.figure(figsize=(10, 10))\n",
    "plt.title(\"PCA first two components\")\n",
    "plt.scatter(dataPCA[:, 0], dataPCA[:, 1])\n",
    "plt.xlabel(\"PCA 1 -> \" + str(np.round(expVar[0]*100, 2)) + \"%\")\n",
    "plt.ylabel(\"PCA 2 -> \" + str(np.round(expVar[1]*100, 2)) + \"%\")\n",
    "plt.show()"
   ]
  },
  {
   "attachments": {},
   "cell_type": "markdown",
   "metadata": {},
   "source": [
    "## Data visualization"
   ]
  },
  {
   "cell_type": "markdown",
   "metadata": {},
   "source": [
    "### Parallel coordinates "
   ]
  },
  {
   "cell_type": "markdown",
   "metadata": {},
   "source": [
    "#### All variables\n",
    "\n",
    "Decent solutions seem to follow a pattern of trying to find the equilibrium between thickness and position. So the weights might be optimal with a determined mass value."
   ]
  },
  {
   "cell_type": "code",
   "execution_count": 20,
   "metadata": {},
   "outputs": [],
   "source": [
    "figure = []\n",
    "features = [\"x One\", \"y One\", \"t One\", \"x Two\", \"y Two\", \"t Two\", \"x Three\", \"y Three\", \"t Three\", \"x Four\", \"y Four\", \"t Four\", \"x Five\", \"y Five\", \"t Five\"]\n",
    "for i in range(samples.shape[1]):\n",
    "    #figure.append(dict(range = [globalMin, globalMax], label = features[i], values = samples[:, i]))\n",
    "    figure.append(dict(label = features[i], values = samples[:, i]))"
   ]
  },
  {
   "cell_type": "code",
   "execution_count": 21,
   "metadata": {},
   "outputs": [
    {
     "data": {
      "application/vnd.plotly.v1+json": {
       "config": {
        "plotlyServerURL": "https://plot.ly"
       },
       "data": [
        {
         "dimensions": [
          {
           "label": "x One",
           "values": [
            -0.020222383646002907,
            -0.019156136813364824,
            -0.022224107033016346,
            -0.020393469212833755,
            -0.02635436656011892,
            -0.03353653615778223,
            -0.017866214221397503,
            -0.030319377434268435,
            -0.027286751448826092,
            -0.018486409905652326,
            -0.0236153556177947,
            -0.029340368736363327,
            -0.020504519495888593,
            -0.018212455222736342,
            -0.01593288100855877,
            -0.01851493177108224,
            -0.024862912473349878,
            -0.030904748129663366,
            -0.01824229665785263,
            -0.02122161836301609,
            -0.03345285576992074,
            -0.01758183681137955,
            -0.020922186690759327,
            -0.024832575177685993,
            -0.03212826365946428,
            -0.030835388322099568,
            -0.01941340457302669,
            -0.01719843418966205,
            -0.017459768589867197,
            -0.024218580971100093,
            -0.01917179469771207,
            -0.03074864289511047,
            -0.020409648340233226,
            -0.029759611025981382,
            -0.015499667802347001,
            -0.020900331568960515,
            -0.032001524763249425,
            -0.019728639088277405,
            -0.027788333053579115,
            -0.018770749867442062,
            -0.019101370108725875,
            -0.017177350169870285,
            -0.02305220190823368,
            -0.021971234889253354,
            -0.026880792079529685,
            -0.023808469740574864,
            -0.01724551491182008,
            -0.026778480517595297,
            -0.03076991313289115,
            -0.01944647139864153,
            -0.029922587080873354,
            -0.01656389108747008,
            -0.01935598026921659,
            -0.034266788187985515,
            -0.019178550428339224,
            -0.022420599531298095,
            -0.018096376907332193,
            -0.03522739575300304,
            -0.01678688151721521,
            -0.03174764284963417,
            -0.020468079908024794,
            -0.020535822112514993,
            -0.02139205659927532,
            -0.0337161274569687,
            -0.01890998859893135,
            -0.01873699374390641,
            -0.023429809010080575,
            -0.030979603211787804,
            -0.020335679811715156,
            -0.02003983386908048,
            -0.024523161867381967,
            -0.021622959581770795,
            -0.016637957252443394,
            -0.016885572358076067,
            -0.03856831964141332,
            -0.0295856495299339,
            -0.020031339579912343
           ]
          },
          {
           "label": "y One",
           "values": [
            -0.032943865692147405,
            -0.03310372062045585,
            -0.03303786432938074,
            -0.03301674742569103,
            -0.034456479661972045,
            -0.03471249301234868,
            -0.03331287201439912,
            -0.03701762982602737,
            -0.03486802913689178,
            -0.03314606136395032,
            -0.033763889446627254,
            -0.03592002032951188,
            -0.03281512252485721,
            -0.03316076772360293,
            -0.03374248657306165,
            -0.03316012274485207,
            -0.03392204536267684,
            -0.034542869335670454,
            -0.0333608123548646,
            -0.03302553830419011,
            -0.034309403783039656,
            -0.03267386209934859,
            -0.0330925714690373,
            -0.03305606836659255,
            -0.035940166130991116,
            -0.03688497315019624,
            -0.03286296641388417,
            -0.03345028893054816,
            -0.03311005598012523,
            -0.03394555475942422,
            -0.03313668066572124,
            -0.035375497045421915,
            -0.03272983158416898,
            -0.038245836808587154,
            -0.033983397601603835,
            -0.03260936407310283,
            -0.03521071554317006,
            -0.03302597908288761,
            -0.041399767185648986,
            -0.0331344531328184,
            -0.03282851394721705,
            -0.0332814415662638,
            -0.03383492527240688,
            -0.03300228445811994,
            -0.035291539853065046,
            -0.033193784171490305,
            -0.033369206245797436,
            -0.034111871215517536,
            -0.03844919325959245,
            -0.03324991546699082,
            -0.035778637621696974,
            -0.03383779951239437,
            -0.03314928142567231,
            -0.03467860994223829,
            -0.03292716376978338,
            -0.03301430251341954,
            -0.033206148833256253,
            -0.035224548705770777,
            -0.03353869510738304,
            -0.03627257380869999,
            -0.03308262527690552,
            -0.033040521951970464,
            -0.03316368578780082,
            -0.036098525985520005,
            -0.03308992001203534,
            -0.03298790390249745,
            -0.03375244858669433,
            -0.03528170134364923,
            -0.03316287561596899,
            -0.03258594300451016,
            -0.03355193839316255,
            -0.03309399355056124,
            -0.03372041774437874,
            -0.03344068652377556,
            -0.029663408545853764,
            -0.035071477784835034,
            -0.03308264419555174
           ]
          },
          {
           "label": "t One",
           "values": [
            0.0399997434718925,
            0.04,
            0.04,
            0.04,
            0.03999792124066479,
            0.039598201132225896,
            0.04,
            0.039981669511804506,
            0.03999428588205454,
            0.04,
            0.03998170418832511,
            0.03998016970051708,
            0.03999413001112665,
            0.04,
            0.03999949823679365,
            0.039991959736709964,
            0.04,
            0.03995645939053283,
            0.04,
            0.03999976945207183,
            0.03989562897751998,
            0.04,
            0.04,
            0.04,
            0.03987270703522323,
            0.04,
            0.04,
            0.03999245606308778,
            0.039981773361310737,
            0.03999753155060407,
            0.04,
            0.03999756820922325,
            0.03999923789763078,
            0.04,
            0.03999559165581069,
            0.0399709862365901,
            0.039986248496211886,
            0.04,
            0.03646339316082746,
            0.04,
            0.039994572670860665,
            0.039997189134166757,
            0.03999650683998361,
            0.04,
            0.03999556364389125,
            0.03999962920377343,
            0.04,
            0.04,
            0.039985655704013974,
            0.039995958047723136,
            0.04,
            0.039997825914791056,
            0.0399866637988958,
            0.03977426582710055,
            0.03999066728694184,
            0.04,
            0.04,
            0.03923763398997757,
            0.03999314615151514,
            0.03889331488522961,
            0.04,
            0.04,
            0.039992258231541476,
            0.04,
            0.04,
            0.03998963389672423,
            0.04,
            0.04,
            0.04,
            0.03999999984577721,
            0.03998702490637495,
            0.03999955826857802,
            0.04,
            0.04,
            0.0373511247469475,
            0.03999051876238547,
            0.039999881744471937
           ]
          },
          {
           "label": "x Two",
           "values": [
            -0.11519370183075338,
            -0.13797188777533076,
            -0.09884616295840856,
            -0.12110832294681535,
            -0.13682275416804218,
            -0.15303163446305693,
            -0.11592419128528539,
            -0.12725138197113564,
            -0.0754221314658706,
            -0.12052175123494441,
            -0.13214612691175567,
            -0.11479180274127025,
            -0.13323932737541616,
            -0.09897086477343836,
            -0.13553064705932863,
            -0.11752046026499083,
            -0.13668482816486205,
            -0.11550483092539947,
            -0.10803669985522521,
            -0.13245901122051135,
            -0.14000103718972526,
            -0.1195478543453452,
            -0.10525971326496225,
            -0.13092804300800528,
            -0.07778961281123828,
            -0.09701961570835443,
            -0.09182885736380798,
            -0.12752213113883892,
            -0.12266911024826116,
            -0.11578893232698263,
            -0.08627715583943171,
            -0.10550250571675968,
            -0.13030267603559026,
            -0.11739250016855338,
            -0.1351733861990684,
            -0.0866008109809168,
            -0.1064068149018657,
            -0.1024996690832413,
            -0.13249264274523925,
            -0.13506948422944845,
            -0.0840700044069098,
            -0.0904468168262537,
            -0.11873742334587549,
            -0.10498036681559446,
            -0.13269696227261646,
            -0.07168084569889835,
            -0.10608625792882234,
            -0.11783220617133136,
            -0.1146422097058943,
            -0.12863791590113022,
            -0.1484045927787505,
            -0.108570530514475,
            -0.12657655824803687,
            -0.1390347749275471,
            -0.1011430018258699,
            -0.1244933901629086,
            -0.06869035886086702,
            -0.11818236501207212,
            -0.07991518238578715,
            -0.14189500672420582,
            -0.09377370823518777,
            -0.12134880905625282,
            -0.1220271769484497,
            -0.14835055371615005,
            -0.13054564481213052,
            -0.1304974778869122,
            -0.10854751711100723,
            -0.11948285323016185,
            -0.09934558726433008,
            -0.1224493386691112,
            -0.11321979892766533,
            -0.09094798216147335,
            -0.09286643354754172,
            -0.11552448926058381,
            -0.12858515523852615,
            -0.11774804184690603,
            -0.1043300647318603
           ]
          },
          {
           "label": "y Two",
           "values": [
            -0.01674966434160266,
            -0.02054432917001594,
            -0.01264852891056842,
            -0.017010317169901885,
            -0.013783821961986449,
            -0.010696698809234097,
            -0.01842934992058063,
            -0.011797669306077585,
            -0.00736943280155811,
            -0.01863691153433364,
            -0.015302023348858575,
            -0.010087797550936453,
            -0.018957683580494242,
            -0.01556468090119639,
            -0.02331169019759487,
            -0.01841592442783604,
            -0.01479035249012717,
            -0.008795713760963221,
            -0.016892491149565654,
            -0.017857328012185904,
            -0.009194918002294815,
            -0.020210328651593952,
            -0.014204297417577814,
            -0.014144705685751182,
            -0.005920178223026294,
            -0.00860332884465341,
            -0.01385946611993618,
            -0.02055979405241843,
            -0.01975140318035897,
            -0.012810340126806957,
            -0.013288043915783865,
            -0.008857262102806343,
            -0.018768730987485625,
            -0.010628761005684693,
            -0.0233135088933864,
            -0.012296397645793244,
            -0.008683886502940774,
            -0.014862637058913655,
            -0.01251523683364393,
            -0.020628194640646993,
            -0.01258815977706322,
            -0.014622933659449435,
            -0.014060063422695288,
            -0.013369248061724666,
            -0.013225152959866433,
            -0.008125450622406862,
            -0.01762968659900091,
            -0.011569991236657862,
            -0.010192190169264766,
            -0.018526987050221527,
            -0.013634917089599474,
            -0.018127993305536237,
            -0.018653764074164168,
            -0.011200705443340918,
            -0.015300859978955111,
            -0.0158590313938856,
            -0.010801395130386767,
            -0.008480050929967032,
            -0.013557908033930926,
            -0.011150411250380974,
            -0.013131651070515601,
            -0.01691916394695926,
            -0.01632229746656201,
            -0.011918056962967378,
            -0.01990623626092904,
            -0.02019564205243887,
            -0.012805090713496623,
            -0.010111247444202763,
            -0.013892639137051287,
            -0.01818120145711875,
            -0.012569116992817235,
            -0.011439335215860559,
            -0.014857745312138324,
            -0.019204276319101245,
            -0.004747715990024048,
            -0.010416456137408324,
            -0.01490902108964772
           ]
          },
          {
           "label": "t Two",
           "values": [
            0.008711943168644353,
            0.005,
            0.014335257834091978,
            0.007542186489224324,
            0.006066828938421761,
            0.005025945459420145,
            0.008288607877905828,
            0.008646790848263001,
            0.03714923926827661,
            0.0074020772772170895,
            0.0062788566651640326,
            0.011253268512343116,
            0.0056441799196174985,
            0.013347108582930412,
            0.005079711773631936,
            0.008001524747241763,
            0.005838881252299206,
            0.011092380614727351,
            0.010313944465995544,
            0.005852044700261887,
            0.0065265610520267225,
            0.007374064072008597,
            0.011619816774960785,
            0.0065229549424138,
            0.03810463396989828,
            0.019752505488202402,
            0.016934624754466433,
            0.0061819499776377546,
            0.006901628820627695,
            0.009493304310067795,
            0.020381257218588793,
            0.014744836881144207,
            0.006019854544307261,
            0.011091911357651382,
            0.005116099660686595,
            0.020604260731033764,
            0.014694993069241399,
            0.012275494010563109,
            0.007338289253095524,
            0.005293405095557727,
            0.021950990063763966,
            0.017248997761953898,
            0.008546903147456318,
            0.011964769244660781,
            0.0068547413664177236,
            0.03895532387932577,
            0.01072219784158515,
            0.009501722861073153,
            0.01228401144050602,
            0.0062279075034837395,
            0.0052677833817576115,
            0.010044309207476875,
            0.006533291623238567,
            0.006829646561077036,
            0.012611419512059744,
            0.007213080925532025,
            0.039851824738125846,
            0.01147081384408763,
            0.024934174255901234,
            0.006178912665028566,
            0.016298832357149202,
            0.007514635929236247,
            0.00752671903539273,
            0.005744418208333514,
            0.005871695131268261,
            0.005830085639663609,
            0.01128308820739173,
            0.010164095903375815,
            0.013697054643733218,
            0.007171710527713883,
            0.010114445841368712,
            0.018317961849272344,
            0.01598766269582101,
            0.008250638560996525,
            0.008417211577204467,
            0.010308540461361131,
            0.011730798206105631
           ]
          },
          {
           "label": "x Three",
           "values": [
            -0.06031440009942614,
            -0.06079056809804014,
            -0.059435280450892365,
            -0.06027778617767199,
            -0.05734472156807309,
            -0.052429879171431014,
            -0.061326830746065264,
            -0.05549720737648356,
            -0.056966450950953394,
            -0.061122880971070256,
            -0.05864671610450496,
            -0.055772189189932916,
            -0.060466127588651525,
            -0.06122170068925587,
            -0.06204022203391544,
            -0.06105533433073207,
            -0.05808724215988581,
            -0.05530514396603116,
            -0.06113939332649426,
            -0.059892855428436524,
            -0.052955859658344324,
            -0.06158327032566208,
            -0.06001626621500339,
            -0.05823520348352664,
            -0.05328829429282335,
            -0.056219653034559273,
            -0.060595242895708896,
            -0.06155790202533318,
            -0.06148495797087763,
            -0.05840313797358923,
            -0.06090793843222819,
            -0.0553350835463658,
            -0.06040714317731866,
            -0.05481232641494281,
            -0.06215823554616457,
            -0.06019828855092555,
            -0.05465918854745568,
            -0.06054680881313678,
            -0.0553503804179337,
            -0.06096133135094732,
            -0.06093791070766736,
            -0.06159330452680661,
            -0.05893095259704829,
            -0.059518351565039145,
            -0.057138039577513795,
            -0.05864411251278416,
            -0.06159823246360679,
            -0.057461482944647174,
            -0.05476530882142968,
            -0.06064207987085779,
            -0.055713261705868676,
            -0.06168080063560115,
            -0.06067378963899392,
            -0.05369217675377883,
            -0.06092102573360499,
            -0.0593953662263842,
            -0.06124861327116731,
            -0.053540424771831,
            -0.0617401297424672,
            -0.053988703547501536,
            -0.06022892424336771,
            -0.06024510793184994,
            -0.059809906744649276,
            -0.053663107624300606,
            -0.060961883080687396,
            -0.061064377100956996,
            -0.05880416174812019,
            -0.05510031683733768,
            -0.06026270569519551,
            -0.06057511467757715,
            -0.058314279379527746,
            -0.05972807213349269,
            -0.06181623122705628,
            -0.06173715246128597,
            -0.050392446375643295,
            -0.055808209509098754,
            -0.06039998266939151
           ]
          },
          {
           "label": "y Three",
           "values": [
            0.013199502786450724,
            0.014182642941912734,
            0.011104210007226003,
            0.013151506476398832,
            0.004605825807646313,
            -0.010708950779186995,
            0.015071115902547588,
            -0.0031042231107738425,
            0.0028427753162252687,
            0.014798022226276079,
            0.008725027174301452,
            -0.0015961938646188597,
            0.013419859000840972,
            0.014961185917550808,
            0.01619418476065857,
            0.014688004486847291,
            0.007142759582629584,
            -0.0009260827056443227,
            0.014785339613942147,
            0.012300366388510672,
            -0.008226032342743118,
            0.015466973013016128,
            0.012459163223552866,
            0.008309631034455547,
            -0.010035173040639202,
            -0.0034489604053641143,
            0.014219031778694172,
            0.015412033504443,
            0.015546481695805468,
            0.008024907598581864,
            0.014233749364562594,
            -0.0024859000364439786,
            0.013572314807650122,
            -0.010505834831876056,
            0.016331011510402407,
            0.013427483090933464,
            -0.003285757055910125,
            0.013698181831666987,
            -0.011179955380313387,
            0.014483217467597648,
            0.014603825590762466,
            0.015752387569672816,
            0.009472281489492937,
            0.011588444772301372,
            0.0028076832314179543,
            0.009056000095588644,
            0.015541678394761964,
            0.004835575392451919,
            -0.006916018992488388,
            0.013692016831583652,
            -0.001611016092493382,
            0.015634341600200642,
            0.013939864633981648,
            -0.005974705999704172,
            0.014595657348212063,
            0.011061958175722792,
            0.014992137827635255,
            -0.007263071923871257,
            0.015809933577018195,
            -0.007692997887952467,
            0.012892841182876862,
            0.013026242033597679,
            0.012041013490067172,
            -0.007371388671645358,
            0.01438057017408152,
            0.014553931962201484,
            0.009041865510487695,
            -0.00256424106938865,
            0.01302096647679234,
            0.013918053891047406,
            0.007727299795038097,
            0.01177874334622557,
            0.015500261397734296,
            0.015740387571472076,
            -0.007727247617546537,
            -0.000567623802054554,
            0.013384060321706012
           ]
          },
          {
           "label": "t Three",
           "values": [
            0.04,
            0.04,
            0.03999995302183328,
            0.04,
            0.04,
            0.03987737530899525,
            0.04,
            0.039930050350748876,
            0.03999236213986027,
            0.04,
            0.04,
            0.03999487921918209,
            0.03999949802566515,
            0.04,
            0.039999989110639914,
            0.04,
            0.03999920599559365,
            0.039968919053513186,
            0.03999855530251969,
            0.039999911797809075,
            0.04,
            0.03998439504265155,
            0.04,
            0.039969379135462814,
            0.039771118027067155,
            0.039113654116693604,
            0.03999637095165876,
            0.03999989830252239,
            0.0399998223773998,
            0.039999914026535625,
            0.039992208542676606,
            0.03998765061650265,
            0.04,
            0.03905474978471192,
            0.039999919490177754,
            0.03999998691359974,
            0.039956372202721045,
            0.04,
            0.03949183719046005,
            0.03999998267981308,
            0.039998957844602806,
            0.039998599987775635,
            0.03999992508230705,
            0.039998111226627185,
            0.04,
            0.04,
            0.03999994865719018,
            0.04,
            0.04,
            0.039998713984220606,
            0.04,
            0.04,
            0.0399991941234923,
            0.039943591681022586,
            0.04,
            0.039999357960877814,
            0.04,
            0.03970076600792059,
            0.0399999862441722,
            0.04,
            0.03999981213148999,
            0.039999939679799874,
            0.039999990247536914,
            0.03999543734088762,
            0.03999990821568878,
            0.04,
            0.04,
            0.04,
            0.039999849145290256,
            0.039999860828788175,
            0.04,
            0.04,
            0.03999144244433456,
            0.04,
            0.03944616690327546,
            0.039996906673567714,
            0.039999945866028945
           ]
          },
          {
           "label": "x Four",
           "values": [
            0.00011096258676622496,
            0.000020777242381334287,
            0.00001126971176681483,
            -0.000006112540256771894,
            0.0002705704107769911,
            -0.002323227354850419,
            -0.00015024710000849004,
            -0.0005209326801042568,
            -0.0003678735492933664,
            -0.0006077041077668962,
            0.00041564305697668194,
            -0.00024015728704350372,
            0.0004604968041535506,
            0.000028271205190531627,
            -0.00001915996700837377,
            -0.00024803561104212485,
            -0.00014191826100227724,
            0.0013288088984176004,
            0.00004808751250125525,
            -0.0001594871682098543,
            -0.0006369018263183417,
            -0.0005261038178403094,
            -0.00007228814547457097,
            0.0009885254482028402,
            -0.0018175928682439332,
            0.0006286645236343921,
            0.0006031275057079139,
            0.00005493106467148523,
            0.0003816148335649707,
            0.00012758442585106828,
            -0.0002731169482515591,
            -0.0006045661981512645,
            -0.00001538538936937973,
            0.004524703997176569,
            -0.000039063043403166534,
            -0.00018547472506865673,
            0.0031967913939122696,
            0.00015461653083031476,
            0.003956621261967221,
            -0.0000026399835702657672,
            -0.00010271149832813554,
            -0.000396899561290653,
            0.00004975861765217359,
            -0.000021044782827752237,
            0.00019245904644418007,
            -0.00041690842186506823,
            0.0004036698214395447,
            -0.00004315365930728215,
            0.0007647283106514734,
            -0.00010785648535530616,
            -0.0006705065143783059,
            0.00004177980511665738,
            -0.00012373630628662708,
            0.00009239773605737854,
            0.00013967908333943757,
            0.00007375594411143671,
            0.00004772268850817938,
            0.0012902276117073388,
            0.00000914480029415143,
            0.0014304709406333638,
            -0.00018712955209186383,
            0.000027005814358215224,
            0.00009071166289235682,
            -0.0009394862782532614,
            0.000010732065510212467,
            -0.00037134854787867794,
            0.000004120586174068521,
            0.001119582955127587,
            -0.000022889861645518496,
            0.00018986644568003895,
            0.00012340969274706322,
            0.00018830687324686442,
            0.0005536616585742276,
            0.00005377382773054468,
            -0.002069299752153707,
            0.00043385970797087147,
            0.000015146292204763426
           ]
          },
          {
           "label": "y Four",
           "values": [
            0.00022817237497700334,
            -0.00007377615537805112,
            -0.0002532115916807062,
            0.00005491578260596055,
            0.00010994004011026084,
            0.007410437443104397,
            0.00007577528402931209,
            0.00040284218601039745,
            -0.0003913043906373354,
            0.000050300535030423695,
            -0.00025060467106393204,
            0.0003768059563209391,
            -0.0005328979612378134,
            0.000154288910399764,
            -0.000004526419614019912,
            -0.00021362234259016076,
            0.00017465124079907985,
            0.0008727698427445593,
            0.0001160349889430735,
            0.000024073551539258097,
            -0.004233623629492352,
            0.00102658691609641,
            0.00018844705956355063,
            -0.0002604602948048386,
            -0.0004524302824771352,
            -0.000409744607872067,
            0.0002732723195948852,
            -0.00020841410643747307,
            0.00004174170269312342,
            -0.00010048559710315289,
            -0.0002933013127124822,
            -0.001526352396303258,
            0.00005193734938107644,
            0.0018895770844012496,
            -0.00016379306288370358,
            -0.000041297085688659376,
            -0.00033087110117008235,
            0.00007646576194808607,
            0.0002273303543007697,
            0.00011050611854594609,
            -0.00016039268340260464,
            -0.0003573223846300586,
            0.00012952478980206495,
            0.00007445929085907353,
            -0.0001851567100422749,
            -0.00013607900520045728,
            0.000058501044519291785,
            0.0004356453317795201,
            -0.0008531209987108789,
            0.00013974619405171914,
            0.0003124550433892831,
            0.0009271571263564445,
            -0.00009048482551598986,
            0.00008413313040823712,
            -0.00008601422518889469,
            -0.0002837720024899022,
            0.00006313984597866328,
            0.002650625173483274,
            -0.00026961271500394035,
            -0.006981000858031976,
            -0.00012116891460389884,
            -0.00007068162799399334,
            -0.0000732629690177635,
            -0.000060823187228061556,
            -0.000004611091209159786,
            -0.0002147064542729624,
            -0.00007441493621823511,
            0.0006350170646365037,
            0.00007599434348428278,
            0.00035763998248320415,
            0.00004912783363133523,
            -0.00029608855665380515,
            0.0001523180519241627,
            -0.00003296811961546012,
            -0.0031781561880869992,
            -0.0000023964392305632115,
            0.000019383615717089907
           ]
          },
          {
           "label": "t Four",
           "values": [
            0.005,
            0.005295608275478086,
            0.005,
            0.005054635863443034,
            0.005154515590913219,
            0.005,
            0.005,
            0.006567236504580423,
            0.0053775895242472605,
            0.005364050423221091,
            0.005200577571586489,
            0.0051441581296695635,
            0.005,
            0.006890225845959873,
            0.005528680838216592,
            0.005,
            0.005197934584156622,
            0.00539655615280404,
            0.006030449371241727,
            0.005384721885833755,
            0.005357195903878674,
            0.0052138663842045,
            0.005,
            0.008718538927293268,
            0.006220774749191581,
            0.005,
            0.00526241642713688,
            0.005052503991422475,
            0.005257981681992489,
            0.006274175912918626,
            0.006580806868630133,
            0.005052846987150898,
            0.005096998036910753,
            0.005097039677850606,
            0.005,
            0.005017246752282312,
            0.005,
            0.005,
            0.005,
            0.005,
            0.005016332627957261,
            0.0062142460734419215,
            0.005039490540427641,
            0.0054660679005923965,
            0.006489428802411997,
            0.005208843184974808,
            0.005,
            0.005,
            0.005739687925278201,
            0.006682576363288788,
            0.005016945187172288,
            0.005,
            0.005847466545286951,
            0.005137107159162574,
            0.00832213765731132,
            0.005,
            0.005000343328683219,
            0.005238336038710151,
            0.005575528250662825,
            0.005324711252036693,
            0.005028027881274024,
            0.005,
            0.0061193975957112975,
            0.0052438778567866105,
            0.005,
            0.009875520387057685,
            0.005102438156138429,
            0.007393536207549293,
            0.012014804448558389,
            0.005176020208395906,
            0.005302083024266736,
            0.005811755050422797,
            0.005,
            0.006982523617060076,
            0.007550037178161139,
            0.005622821615673447,
            0.005061727896570538
           ]
          },
          {
           "label": "x Five",
           "values": [
            0.00006487023947742421,
            -0.000028519397159338134,
            -0.0000070938857023402,
            0.00006836246700647395,
            -0.000014695361251926868,
            -0.004361876484886471,
            0.000013886720663033525,
            -0.0007317204919696088,
            -0.00014235467743217684,
            -0.000058950369655708546,
            0.00006841045108696179,
            -0.000514832555517924,
            -0.0003108262615490862,
            -0.000034451952718676885,
            0.000026240932085564892,
            -0.00003259488572345813,
            -0.00002464150128331737,
            -0.000631600939111559,
            -0.000037278670601998375,
            0.00008788000453890852,
            -0.00007864666223328574,
            -0.00017827744719455094,
            -0.00012817343643783702,
            -0.0003017841977496897,
            0.0019200275393896067,
            0.0017481119114355092,
            -0.00036335555012947257,
            0.00009608916733863856,
            -0.000041547913683302046,
            0.00002668548870541928,
            0.00042869349527725384,
            0.0005337875000622461,
            0.000060168023883301055,
            0.00023199866323700847,
            -0.00016793565003504798,
            0.00026029713059548353,
            -0.00048139739526007884,
            0.00011045874788022123,
            -0.0008161058751591226,
            -0.00002210618193567244,
            0.000027979115549111855,
            0.00015343249633717135,
            -0.000047242325636675495,
            -0.0002901953328776441,
            0.00041823180143530834,
            0.00005748778917112184,
            0.0002757101023788247,
            9.408918056949935e-7,
            -0.0001543925765623823,
            0.0003050192825123629,
            0.00045438517738571166,
            -0.0004323950319116159,
            -0.00005300108984133684,
            0.000031137657194260245,
            0.000240046131406612,
            0.00018082459470367926,
            0.0000449450103951506,
            -0.001707586194914598,
            0.00010240370234977463,
            -0.005542820915094826,
            -0.00006081515200771934,
            0.0001107947699488297,
            0.0000717730514948216,
            0.0005324953881038496,
            0.00014660446744561872,
            0.00010469996597736397,
            0.00018876882862674366,
            0.00029951668389895754,
            0.000007721608454718463,
            -0.00007618902318003924,
            -0.0001405857658446416,
            0.000149865241774781,
            -0.00026832935594789647,
            -0.00006392471989287218,
            0.001196739103754849,
            -0.00013174587736204858,
            0.00003357439106855203
           ]
          },
          {
           "label": "y Five",
           "values": [
            0.0001354608002436993,
            0.0000162272091272966,
            0.00007076392347443836,
            -0.00002620535417542115,
            0.0001087054351236277,
            0.002475608050825503,
            -0.00007323347069093063,
            0.0005090546633075923,
            0.0005067409432098166,
            -0.00013500164908507054,
            0.000028487506349253257,
            -0.0003364332874607911,
            0.00023371393314677098,
            0.00009240336955799501,
            0.0000020219587637444724,
            0.00003833187785671138,
            -0.00012324661728115445,
            0.0012351615570808123,
            0.000011372599749593845,
            0.000023332513731949975,
            -0.0006361585565613976,
            0.0003508792792853858,
            -0.0001291702572717681,
            -0.0003959486556805803,
            -0.0005837316105531498,
            0.0003939170069961749,
            0.0001137600370005185,
            0.00001585091903889915,
            0.000676598693718137,
            -0.00011777088630328332,
            0.00018561200016813779,
            0.00031239507694420245,
            -0.00010013507975900265,
            0.001986385951798897,
            -0.000043503098579039015,
            0.0005537693753322787,
            0.0026100596993369283,
            0.000018204404595749174,
            0.002307801676810267,
            0.000009194544035711619,
            0.000029398671522662064,
            -0.000423995310376398,
            0.0002540950415291223,
            -0.0002589402416219318,
            -0.0002892109616169599,
            0.00013112911292727215,
            0.00024132558285949501,
            -0.00011478151546989767,
            -0.0005154648915151226,
            0.00019138453553973914,
            0.00022310456065113675,
            0.0007876432940426272,
            -0.00005766496359619975,
            -0.00005114650801704311,
            0.00026393291964849335,
            0.0003060548420130513,
            0.0000115744510524731,
            0.0008377475060214373,
            0.0002103283567519344,
            0.00213143538322344,
            0.00021771343184497695,
            -0.00012091154339260806,
            -0.00011286049430037407,
            -0.00002783689068904698,
            0.0000328582396513102,
            -0.0002630928598794096,
            0.000038989124519431864,
            -0.0004632114265651528,
            0.00005772712514753884,
            -0.0001193102998069583,
            0.00003670312722554278,
            0.0001766755142801458,
            -0.00018408617470791935,
            0.00006478809947024803,
            0.0045867020800290145,
            0.00032839848108611196,
            0.000021190586208695967
           ]
          },
          {
           "label": "t Five",
           "values": [
            0.005611143289699228,
            0.007595428140695192,
            0.005124449506834942,
            0.005552492508294494,
            0.005259364787032136,
            0.005,
            0.0052017116807391095,
            0.005634619772654847,
            0.005,
            0.005492921368195333,
            0.005434132149966673,
            0.0056479366852361535,
            0.005,
            0.005915669267276712,
            0.005033447352158386,
            0.006004943968630225,
            0.005090253619120067,
            0.0065433305621049155,
            0.0053441165229491,
            0.006516624796702047,
            0.009705739073178782,
            0.005013218812132956,
            0.005,
            0.006162220402181952,
            0.005154020679302445,
            0.006086044848340657,
            0.005755899409389064,
            0.005316507991310192,
            0.005913203649102784,
            0.0069857873958364975,
            0.00710557854093954,
            0.005,
            0.005060375321582135,
            0.005110646638444412,
            0.005,
            0.005371344927410303,
            0.006194449575216823,
            0.0061122740983825695,
            0.005334607703398556,
            0.005653884176519533,
            0.006221678404262546,
            0.005,
            0.005458814171384187,
            0.006218825752470072,
            0.005346152659375949,
            0.006465934400931904,
            0.005,
            0.005,
            0.0051918636819876995,
            0.00527228376504583,
            0.00581706371174482,
            0.005293968147549909,
            0.005062510533633985,
            0.00584127266776991,
            0.005838444048581777,
            0.005,
            0.005047473605030955,
            0.008560873049440653,
            0.005973509236307105,
            0.005,
            0.00547407744088634,
            0.006555519173119004,
            0.005514201252347338,
            0.005829325911969572,
            0.005087520990741607,
            0.005071163243930358,
            0.00994710883765882,
            0.005000746391968549,
            0.007221550447130661,
            0.007792685483476173,
            0.005481694069346703,
            0.005511002624101999,
            0.005,
            0.005,
            0.00582621740716834,
            0.005106660669811071,
            0.0052072310610294095
           ]
          }
         ],
         "line": {
          "color": [
           0.377648717269985,
           0.32822802883295144,
           0.4412843285609497,
           0.3825217836985131,
           0.5102344571777622,
           0.6363422463752267,
           0.2527040606706909,
           0.554632260716062,
           0.5189766376896867,
           0.28348222894760366,
           0.4774539169602117,
           0.5383896829216013,
           0.36828522078779585,
           0.2638674022484032,
           0.10043573586061824,
           0.2899153070218897,
           0.49332245076756076,
           0.5385167426849764,
           0.2848688360157261,
           0.41283295985581664,
           0.5730964430539223,
           0.19492531047773154,
           0.4061201640145135,
           0.485713066449728,
           0.6161771522598268,
           0.5528185053721106,
           0.33003246830876465,
           0.20459984960082347,
           0.1992800081803316,
           0.48639607781752836,
           0.3263379692408516,
           0.5416725298601878,
           0.3627735718381208,
           0.6167927934725809,
           0.07722465969874434,
           0.38089081617814724,
           0.5515619413521137,
           0.355607146104466,
           0.6290549963830894,
           0.30573058796223934,
           0.29669476751029344,
           0.1829920108429638,
           0.46883443998338636,
           0.43454470949912954,
           0.5205982027990413,
           0.4741597944689455,
           0.1976120284249701,
           0.5084669406965273,
           0.5914234115783,
           0.3572982093798477,
           0.5387701995310081,
           0.19004487364496853,
           0.3445313203262106,
           0.5855856903430829,
           0.29874805374837393,
           0.44234659848627406,
           0.2607281448906206,
           0.6123063913962864,
           0.1681068630472474,
           0.575851250054795,
           0.39124110946965324,
           0.3869363137652334,
           0.42143181662921964,
           0.6066497101175896,
           0.30856854159569186,
           0.2911554778963232,
           0.4739476412139447,
           0.54458015288091,
           0.3879869925712619,
           0.3416020287483305,
           0.4886783215358343,
           0.4272394478819535,
           0.18561431141951612,
           0.17067024501806224,
           0.6068367780255368,
           0.5355511348313128,
           0.37178260852936684
          ],
          "colorscale": [
           [
            0,
            "rgb(0,0,131)"
           ],
           [
            0.2,
            "rgb(0,60,170)"
           ],
           [
            0.4,
            "rgb(5,255,255)"
           ],
           [
            0.6,
            "rgb(255,255,0)"
           ],
           [
            0.8,
            "rgb(250,0,0)"
           ],
           [
            1,
            "rgb(128,0,0)"
           ]
          ]
         },
         "type": "parcoords"
        }
       ],
       "layout": {
        "template": {
         "data": {
          "bar": [
           {
            "error_x": {
             "color": "#2a3f5f"
            },
            "error_y": {
             "color": "#2a3f5f"
            },
            "marker": {
             "line": {
              "color": "#E5ECF6",
              "width": 0.5
             },
             "pattern": {
              "fillmode": "overlay",
              "size": 10,
              "solidity": 0.2
             }
            },
            "type": "bar"
           }
          ],
          "barpolar": [
           {
            "marker": {
             "line": {
              "color": "#E5ECF6",
              "width": 0.5
             },
             "pattern": {
              "fillmode": "overlay",
              "size": 10,
              "solidity": 0.2
             }
            },
            "type": "barpolar"
           }
          ],
          "carpet": [
           {
            "aaxis": {
             "endlinecolor": "#2a3f5f",
             "gridcolor": "white",
             "linecolor": "white",
             "minorgridcolor": "white",
             "startlinecolor": "#2a3f5f"
            },
            "baxis": {
             "endlinecolor": "#2a3f5f",
             "gridcolor": "white",
             "linecolor": "white",
             "minorgridcolor": "white",
             "startlinecolor": "#2a3f5f"
            },
            "type": "carpet"
           }
          ],
          "choropleth": [
           {
            "colorbar": {
             "outlinewidth": 0,
             "ticks": ""
            },
            "type": "choropleth"
           }
          ],
          "contour": [
           {
            "colorbar": {
             "outlinewidth": 0,
             "ticks": ""
            },
            "colorscale": [
             [
              0,
              "#0d0887"
             ],
             [
              0.1111111111111111,
              "#46039f"
             ],
             [
              0.2222222222222222,
              "#7201a8"
             ],
             [
              0.3333333333333333,
              "#9c179e"
             ],
             [
              0.4444444444444444,
              "#bd3786"
             ],
             [
              0.5555555555555556,
              "#d8576b"
             ],
             [
              0.6666666666666666,
              "#ed7953"
             ],
             [
              0.7777777777777778,
              "#fb9f3a"
             ],
             [
              0.8888888888888888,
              "#fdca26"
             ],
             [
              1,
              "#f0f921"
             ]
            ],
            "type": "contour"
           }
          ],
          "contourcarpet": [
           {
            "colorbar": {
             "outlinewidth": 0,
             "ticks": ""
            },
            "type": "contourcarpet"
           }
          ],
          "heatmap": [
           {
            "colorbar": {
             "outlinewidth": 0,
             "ticks": ""
            },
            "colorscale": [
             [
              0,
              "#0d0887"
             ],
             [
              0.1111111111111111,
              "#46039f"
             ],
             [
              0.2222222222222222,
              "#7201a8"
             ],
             [
              0.3333333333333333,
              "#9c179e"
             ],
             [
              0.4444444444444444,
              "#bd3786"
             ],
             [
              0.5555555555555556,
              "#d8576b"
             ],
             [
              0.6666666666666666,
              "#ed7953"
             ],
             [
              0.7777777777777778,
              "#fb9f3a"
             ],
             [
              0.8888888888888888,
              "#fdca26"
             ],
             [
              1,
              "#f0f921"
             ]
            ],
            "type": "heatmap"
           }
          ],
          "heatmapgl": [
           {
            "colorbar": {
             "outlinewidth": 0,
             "ticks": ""
            },
            "colorscale": [
             [
              0,
              "#0d0887"
             ],
             [
              0.1111111111111111,
              "#46039f"
             ],
             [
              0.2222222222222222,
              "#7201a8"
             ],
             [
              0.3333333333333333,
              "#9c179e"
             ],
             [
              0.4444444444444444,
              "#bd3786"
             ],
             [
              0.5555555555555556,
              "#d8576b"
             ],
             [
              0.6666666666666666,
              "#ed7953"
             ],
             [
              0.7777777777777778,
              "#fb9f3a"
             ],
             [
              0.8888888888888888,
              "#fdca26"
             ],
             [
              1,
              "#f0f921"
             ]
            ],
            "type": "heatmapgl"
           }
          ],
          "histogram": [
           {
            "marker": {
             "pattern": {
              "fillmode": "overlay",
              "size": 10,
              "solidity": 0.2
             }
            },
            "type": "histogram"
           }
          ],
          "histogram2d": [
           {
            "colorbar": {
             "outlinewidth": 0,
             "ticks": ""
            },
            "colorscale": [
             [
              0,
              "#0d0887"
             ],
             [
              0.1111111111111111,
              "#46039f"
             ],
             [
              0.2222222222222222,
              "#7201a8"
             ],
             [
              0.3333333333333333,
              "#9c179e"
             ],
             [
              0.4444444444444444,
              "#bd3786"
             ],
             [
              0.5555555555555556,
              "#d8576b"
             ],
             [
              0.6666666666666666,
              "#ed7953"
             ],
             [
              0.7777777777777778,
              "#fb9f3a"
             ],
             [
              0.8888888888888888,
              "#fdca26"
             ],
             [
              1,
              "#f0f921"
             ]
            ],
            "type": "histogram2d"
           }
          ],
          "histogram2dcontour": [
           {
            "colorbar": {
             "outlinewidth": 0,
             "ticks": ""
            },
            "colorscale": [
             [
              0,
              "#0d0887"
             ],
             [
              0.1111111111111111,
              "#46039f"
             ],
             [
              0.2222222222222222,
              "#7201a8"
             ],
             [
              0.3333333333333333,
              "#9c179e"
             ],
             [
              0.4444444444444444,
              "#bd3786"
             ],
             [
              0.5555555555555556,
              "#d8576b"
             ],
             [
              0.6666666666666666,
              "#ed7953"
             ],
             [
              0.7777777777777778,
              "#fb9f3a"
             ],
             [
              0.8888888888888888,
              "#fdca26"
             ],
             [
              1,
              "#f0f921"
             ]
            ],
            "type": "histogram2dcontour"
           }
          ],
          "mesh3d": [
           {
            "colorbar": {
             "outlinewidth": 0,
             "ticks": ""
            },
            "type": "mesh3d"
           }
          ],
          "parcoords": [
           {
            "line": {
             "colorbar": {
              "outlinewidth": 0,
              "ticks": ""
             }
            },
            "type": "parcoords"
           }
          ],
          "pie": [
           {
            "automargin": true,
            "type": "pie"
           }
          ],
          "scatter": [
           {
            "fillpattern": {
             "fillmode": "overlay",
             "size": 10,
             "solidity": 0.2
            },
            "type": "scatter"
           }
          ],
          "scatter3d": [
           {
            "line": {
             "colorbar": {
              "outlinewidth": 0,
              "ticks": ""
             }
            },
            "marker": {
             "colorbar": {
              "outlinewidth": 0,
              "ticks": ""
             }
            },
            "type": "scatter3d"
           }
          ],
          "scattercarpet": [
           {
            "marker": {
             "colorbar": {
              "outlinewidth": 0,
              "ticks": ""
             }
            },
            "type": "scattercarpet"
           }
          ],
          "scattergeo": [
           {
            "marker": {
             "colorbar": {
              "outlinewidth": 0,
              "ticks": ""
             }
            },
            "type": "scattergeo"
           }
          ],
          "scattergl": [
           {
            "marker": {
             "colorbar": {
              "outlinewidth": 0,
              "ticks": ""
             }
            },
            "type": "scattergl"
           }
          ],
          "scattermapbox": [
           {
            "marker": {
             "colorbar": {
              "outlinewidth": 0,
              "ticks": ""
             }
            },
            "type": "scattermapbox"
           }
          ],
          "scatterpolar": [
           {
            "marker": {
             "colorbar": {
              "outlinewidth": 0,
              "ticks": ""
             }
            },
            "type": "scatterpolar"
           }
          ],
          "scatterpolargl": [
           {
            "marker": {
             "colorbar": {
              "outlinewidth": 0,
              "ticks": ""
             }
            },
            "type": "scatterpolargl"
           }
          ],
          "scatterternary": [
           {
            "marker": {
             "colorbar": {
              "outlinewidth": 0,
              "ticks": ""
             }
            },
            "type": "scatterternary"
           }
          ],
          "surface": [
           {
            "colorbar": {
             "outlinewidth": 0,
             "ticks": ""
            },
            "colorscale": [
             [
              0,
              "#0d0887"
             ],
             [
              0.1111111111111111,
              "#46039f"
             ],
             [
              0.2222222222222222,
              "#7201a8"
             ],
             [
              0.3333333333333333,
              "#9c179e"
             ],
             [
              0.4444444444444444,
              "#bd3786"
             ],
             [
              0.5555555555555556,
              "#d8576b"
             ],
             [
              0.6666666666666666,
              "#ed7953"
             ],
             [
              0.7777777777777778,
              "#fb9f3a"
             ],
             [
              0.8888888888888888,
              "#fdca26"
             ],
             [
              1,
              "#f0f921"
             ]
            ],
            "type": "surface"
           }
          ],
          "table": [
           {
            "cells": {
             "fill": {
              "color": "#EBF0F8"
             },
             "line": {
              "color": "white"
             }
            },
            "header": {
             "fill": {
              "color": "#C8D4E3"
             },
             "line": {
              "color": "white"
             }
            },
            "type": "table"
           }
          ]
         },
         "layout": {
          "annotationdefaults": {
           "arrowcolor": "#2a3f5f",
           "arrowhead": 0,
           "arrowwidth": 1
          },
          "autotypenumbers": "strict",
          "coloraxis": {
           "colorbar": {
            "outlinewidth": 0,
            "ticks": ""
           }
          },
          "colorscale": {
           "diverging": [
            [
             0,
             "#8e0152"
            ],
            [
             0.1,
             "#c51b7d"
            ],
            [
             0.2,
             "#de77ae"
            ],
            [
             0.3,
             "#f1b6da"
            ],
            [
             0.4,
             "#fde0ef"
            ],
            [
             0.5,
             "#f7f7f7"
            ],
            [
             0.6,
             "#e6f5d0"
            ],
            [
             0.7,
             "#b8e186"
            ],
            [
             0.8,
             "#7fbc41"
            ],
            [
             0.9,
             "#4d9221"
            ],
            [
             1,
             "#276419"
            ]
           ],
           "sequential": [
            [
             0,
             "#0d0887"
            ],
            [
             0.1111111111111111,
             "#46039f"
            ],
            [
             0.2222222222222222,
             "#7201a8"
            ],
            [
             0.3333333333333333,
             "#9c179e"
            ],
            [
             0.4444444444444444,
             "#bd3786"
            ],
            [
             0.5555555555555556,
             "#d8576b"
            ],
            [
             0.6666666666666666,
             "#ed7953"
            ],
            [
             0.7777777777777778,
             "#fb9f3a"
            ],
            [
             0.8888888888888888,
             "#fdca26"
            ],
            [
             1,
             "#f0f921"
            ]
           ],
           "sequentialminus": [
            [
             0,
             "#0d0887"
            ],
            [
             0.1111111111111111,
             "#46039f"
            ],
            [
             0.2222222222222222,
             "#7201a8"
            ],
            [
             0.3333333333333333,
             "#9c179e"
            ],
            [
             0.4444444444444444,
             "#bd3786"
            ],
            [
             0.5555555555555556,
             "#d8576b"
            ],
            [
             0.6666666666666666,
             "#ed7953"
            ],
            [
             0.7777777777777778,
             "#fb9f3a"
            ],
            [
             0.8888888888888888,
             "#fdca26"
            ],
            [
             1,
             "#f0f921"
            ]
           ]
          },
          "colorway": [
           "#636efa",
           "#EF553B",
           "#00cc96",
           "#ab63fa",
           "#FFA15A",
           "#19d3f3",
           "#FF6692",
           "#B6E880",
           "#FF97FF",
           "#FECB52"
          ],
          "font": {
           "color": "#2a3f5f"
          },
          "geo": {
           "bgcolor": "white",
           "lakecolor": "white",
           "landcolor": "#E5ECF6",
           "showlakes": true,
           "showland": true,
           "subunitcolor": "white"
          },
          "hoverlabel": {
           "align": "left"
          },
          "hovermode": "closest",
          "mapbox": {
           "style": "light"
          },
          "paper_bgcolor": "white",
          "plot_bgcolor": "#E5ECF6",
          "polar": {
           "angularaxis": {
            "gridcolor": "white",
            "linecolor": "white",
            "ticks": ""
           },
           "bgcolor": "#E5ECF6",
           "radialaxis": {
            "gridcolor": "white",
            "linecolor": "white",
            "ticks": ""
           }
          },
          "scene": {
           "xaxis": {
            "backgroundcolor": "#E5ECF6",
            "gridcolor": "white",
            "gridwidth": 2,
            "linecolor": "white",
            "showbackground": true,
            "ticks": "",
            "zerolinecolor": "white"
           },
           "yaxis": {
            "backgroundcolor": "#E5ECF6",
            "gridcolor": "white",
            "gridwidth": 2,
            "linecolor": "white",
            "showbackground": true,
            "ticks": "",
            "zerolinecolor": "white"
           },
           "zaxis": {
            "backgroundcolor": "#E5ECF6",
            "gridcolor": "white",
            "gridwidth": 2,
            "linecolor": "white",
            "showbackground": true,
            "ticks": "",
            "zerolinecolor": "white"
           }
          },
          "shapedefaults": {
           "line": {
            "color": "#2a3f5f"
           }
          },
          "ternary": {
           "aaxis": {
            "gridcolor": "white",
            "linecolor": "white",
            "ticks": ""
           },
           "baxis": {
            "gridcolor": "white",
            "linecolor": "white",
            "ticks": ""
           },
           "bgcolor": "#E5ECF6",
           "caxis": {
            "gridcolor": "white",
            "linecolor": "white",
            "ticks": ""
           }
          },
          "title": {
           "x": 0.05
          },
          "xaxis": {
           "automargin": true,
           "gridcolor": "white",
           "linecolor": "white",
           "ticks": "",
           "title": {
            "standoff": 15
           },
           "zerolinecolor": "white",
           "zerolinewidth": 2
          },
          "yaxis": {
           "automargin": true,
           "gridcolor": "white",
           "linecolor": "white",
           "ticks": "",
           "title": {
            "standoff": 15
           },
           "zerolinecolor": "white",
           "zerolinewidth": 2
          }
         }
        }
       }
      }
     },
     "metadata": {},
     "output_type": "display_data"
    }
   ],
   "source": [
    "fig = go.Figure(data =\n",
    "    go.Parcoords(\n",
    "        line = dict(color = alpha, colorscale = px.colors.sequential.Jet),\n",
    "        dimensions = figure\n",
    "    )\n",
    ")\n",
    "fig.show()"
   ]
  },
  {
   "cell_type": "markdown",
   "metadata": {},
   "source": [
    "#### Masses\n",
    "\n",
    "The masses seem to describe a consistent behavior on their weights. "
   ]
  },
  {
   "cell_type": "code",
   "execution_count": 23,
   "metadata": {},
   "outputs": [
    {
     "data": {
      "application/vnd.plotly.v1+json": {
       "config": {
        "plotlyServerURL": "https://plot.ly"
       },
       "data": [
        {
         "dimensions": [
          {
           "label": "mass One",
           "values": [
            1.464613175842142,
            1.4338164019627584,
            1.5539836564397222,
            1.4761456363500451,
            1.8444026438312673,
            2.2605379885895633,
            1.400622863808228,
            2.2431547932598166,
            1.9212116461298787,
            1.4118553801530156,
            1.663270760107637,
            2.1074182570378057,
            1.467371744850875,
            1.4029566540541984,
            1.3647930638584136,
            1.4135194976705119,
            1.7338051137179287,
            2.1034349509581944,
            1.4170664447989774,
            1.5104863176239158,
            2.2448376695939207,
            1.3494117546777993,
            1.5024702331081055,
            1.675475636297047,
            2.2706047016001243,
            2.265504860161388,
            1.4279754710226382,
            1.3864025591363043,
            1.3727190223094154,
            1.7042659809161729,
            1.4365446468967547,
            2.153224471599723,
            1.4582751269081569,
            2.3018263587272467,
            1.3673048950551836,
            1.46938940497564,
            2.2182518654101453,
            1.4505976168988695,
            2.2213948979380422,
            1.4214849320068343,
            1.4137855443416887,
            1.3748129317172768,
            1.642835111858089,
            1.5407263022456434,
            1.9288425902479123,
            1.6355771674787725,
            1.3829430773033582,
            1.843425353046196,
            2.3762020512158526,
            1.4541632117400585,
            2.132347543372775,
            1.3911474604622,
            1.4438373903230253,
            2.3165555243817693,
            1.422899419906372,
            1.561056653124825,
            1.40177763478275,
            2.3861803240241266,
            1.378523192529172,
            2.2145379521435533,
            1.4834020753957877,
            1.4833958908343874,
            1.5262812029554222,
            2.391514846683933,
            1.4237368298554478,
            1.4103802247024673,
            1.6547187142026836,
            2.1608335791364275,
            1.483317586294279,
            1.4344287388859833,
            1.692332085706357,
            1.5317690439142446,
            1.3858605585213595,
            1.3755823006014014,
            2.1668351521141056,
            2.0630961419622587,
            1.466061863818706
           ]
          },
          {
           "label": "mass Two",
           "values": [
            2.892699348310672,
            2.3840734226453546,
            3.4883756960803662,
            2.764228540442313,
            2.811307258125613,
            2.8982870511394943,
            2.7984278342003006,
            3.4605206020361132,
            5.227795373204374,
            2.697687354827457,
            2.7228177880007993,
            3.6617270221322,
            2.5050386029882175,
            3.282893950758512,
            2.354077753266107,
            2.774469502757849,
            2.7043961865907,
            3.647377131162019,
            3.0220513292891122,
            2.561754318482137,
            3.1481883087478013,
            2.656275128123632,
            3.2122221444738845,
            2.772002860804525,
            5.682947624270112,
            4.5918476336035585,
            3.5789877838501027,
            2.527468413424269,
            2.6108521992395812,
            3.157036055678738,
            3.805823461526698,
            4.050048469092406,
            2.556556614464494,
            3.7763932409289995,
            2.358827034466127,
            3.862906028512784,
            4.104267517526721,
            3.2267474787806805,
            3.184789303240779,
            2.4216276207372,
            3.886961268474203,
            3.5481415960027674,
            2.99416499641901,
            3.2836122366781693,
            2.987102078971777,
            4.967781489931994,
            3.0386290327772985,
            3.2639386218659383,
            3.9874288377402887,
            2.577751397486847,
            2.866934020526919,
            2.982156408553291,
            2.6206816553333563,
            3.2561097891863713,
            3.233755192127826,
            2.7838700328473434,
            4.721634413874366,
            3.9461568639246796,
            4.01440860723141,
            3.0673571432994367,
            3.5809413974056117,
            2.7642985492161793,
            2.7955344170084806,
            3.117904596180138,
            2.509083977134798,
            2.491165190356843,
            3.303044126170079,
            3.581157938444135,
            3.377378729677776,
            2.6930884111546627,
            3.216259038411868,
            3.7715916027883023,
            3.4651633234634516,
            2.772801146379175,
            3.414963386538882,
            3.52967357961539,
            3.192790531730249
           ]
          },
          {
           "label": "mass Three",
           "values": [
            3.7364870409968334,
            3.8193970664615366,
            3.5833814626836475,
            3.7309195341398294,
            3.244023608515645,
            2.7982043664205336,
            3.90906185961115,
            3.0230355058996414,
            3.1881593902738747,
            3.876587947920569,
            3.4458740718643814,
            3.0509833174015104,
            3.7601517712210675,
            3.8931977114901946,
            4.029742168698457,
            3.865319134370344,
            3.3571830756771215,
            2.9965373084228495,
            3.8780589390277704,
            3.664337363657425,
            2.815058944550502,
            3.950263459991567,
            3.6827039748711905,
            3.3891967939760743,
            2.8655689463056286,
            3.0407493199597306,
            3.7968258718871386,
            3.947070313308102,
            3.9423453206174646,
            3.4064266448472367,
            3.834074212600618,
            3.0064024598417785,
            3.75724419142722,
            2.980872762855657,
            4.048463762264241,
            3.7287203827431634,
            2.935779538920886,
            3.777166842708593,
            3.08574109479985,
            3.848219440728695,
            3.848761056295125,
            3.961611795990362,
            3.491953373406001,
            3.6036719717170715,
            3.207764834548596,
            3.4513431268371373,
            3.955877192314083,
            3.2592889704094246,
            2.9866680125119256,
            3.788196453823266,
            3.044981220283272,
            3.968691020229889,
            3.7987250989323544,
            2.856658160148618,
            3.8466107563170504,
            3.5777612365250047,
            3.8973371014315874,
            2.8400530187950226,
            3.981278862943284,
            2.9150091981886823,
            3.7185273751437893,
            3.723839376224236,
            3.648424330727025,
            2.8755761763639343,
            3.845374160541841,
            3.862558721195478,
            3.4695172736629663,
            2.982306106499641,
            3.7257748807025757,
            3.786465838580774,
            3.3916731633636963,
            3.6327134205298552,
            3.9801412786829733,
            3.9787691899909894,
            2.5123131854684617,
            3.052895814809174,
            3.7514171587161975
           ]
          },
          {
           "label": "mass Four",
           "values": [
            0.000007887401287831192,
            7.623242414135124e-7,
            0.00000787120241870186,
            3.781606006750786e-7,
            0.000010773497597947708,
            0.007389549842070997,
            0.000003469346546965391,
            0.00006978613895385196,
            0.00003801042974929647,
            0.000048875017246034335,
            0.00003001933132029809,
            0.000025167846034967508,
            0.000060775568227827604,
            0.00000415421966111856,
            5.250996240716095e-8,
            0.000013129000372731728,
            0.000006450627857976672,
            0.00033423006712645064,
            0.0000023313397594939874,
            0.000003432757676145025,
            0.002406167302920913,
            0.0001700095853079902,
            0.000004991289960188015,
            0.0002232614147817602,
            0.0005347985911888253,
            0.0000689933938735117,
            0.00005653799458460538,
            0.0000057513919156975275,
            0.000018988001661906427,
            0.0000040550475915260385,
            0.000025901162753874344,
            0.00033371827289466367,
            3.664784378336228e-7,
            0.0030030269879436624,
            0.000003474002886930348,
            0.000004439082311073454,
            0.0012655248946206762,
            0.000003645435282603261,
            0.001924397361542142,
            0.0000014970452345586074,
            0.0000044590648376721524,
            0.00004343056308131392,
            0.000002377498760186274,
            8.019249990103926e-7,
            0.000011341840733587188,
            0.000024548958894829207,
            0.00002038421193534018,
            0.000023481251973390965,
            0.0001846177142499055,
            0.000005102864192317907,
            0.000067272193236205,
            0.00010553636921694384,
            0.0000033670254154420823,
            0.0000019657363111087046,
            0.000005487467721405269,
            0.000010532795883478183,
            7.675428769944018e-7,
            0.0011155335830165896,
            0.0000099428430149118,
            0.006625803272889584,
            0.000006123406361577586,
            7.014644060640694e-7,
            0.0000020387618022719437,
            0.00011389231386242505,
            1.6716842702335116e-8,
            0.00004452654491444471,
            6.944996653001217e-7,
            0.000300153817934274,
            0.0000018545507413002322,
            0.000020795375067678186,
            0.0000022923221459512805,
            0.000017535101798162917,
            0.00004040068933373641,
            6.80735804400722e-7,
            0.002660929264141229,
            0.000025936458214226806,
            7.50577162550357e-8
           ]
          },
          {
           "label": "mass Five",
           "values": [
            0.0000031016452329444615,
            2.0039307386920249e-7,
            6.351234690111422e-7,
            7.293050082800024e-7,
            0.0000015507628193113256,
            0.0030819949631458966,
            7.081929527680526e-7,
            0.00010970619635998915,
            0.00003394490318949439,
            0.000002920918409691986,
            7.312533359311781e-7,
            0.00005234818814260674,
            0.000018529652345763083,
            0.0000014097829373361788,
            8.543570649200079e-8,
            3.7254254061010097e-7,
            0.0000019704102248546847,
            0.0003085823911402852,
            1.9892449425214353e-7,
            0.0000013201733535632503,
            0.00009772175703801358,
            0.000019028741992093237,
            0.000004057121936074459,
            0.00003742561484867813,
            0.0005086265704919465,
            0.00047888235736827167,
            0.000020447095304664472,
            0.0000012356056324622957,
            0.00006658312727601079,
            0.000002496202544389963,
            0.000037997780357022947,
            0.00004686713181422095,
            0.0000016922774432828145,
            0.0005008777436501692,
            0.0000036872910153048353,
            0.000049281156693849246,
            0.0010692422382450287,
            0.0000018770949203656919,
            0.0007832801636395873,
            7.941726557977925e-8,
            2.5111657242869883e-7,
            0.00002491040635604272,
            0.000008934989993852676,
            0.00002305083511166012,
            0.00003387260110560166,
            0.000003248052696661665,
            0.00001644909576992928,
            0.0000016143123527448448,
            0.0000368364703427426,
            0.00001675194958255086,
            0.00003652563897168644,
            0.00010473365559676937,
            7.609917104202195e-7,
            5.132204820899714e-7,
            0.000018210047723692846,
            0.00001548276421286009,
            2.6642111508756896e-7,
            0.0007589124201234368,
            0.000008010435026271279,
            0.004320850211680131,
            0.000006854189291980502,
            0.00000432040486130307,
            0.0000024171845184970197,
            0.000040614371802581074,
            0.0000028140447616381005,
            0.000009963634104502007,
            0.00000905617585380119,
            0.00003728598977582151,
            6.002558888235648e-7,
            0.000003826688948503547,
            0.0000028358149658516027,
            0.000007248325094606586,
            0.000012973666026552048,
            0.0000010149569719021177,
            0.003208001993973711,
            0.000015667316275226218,
            2.011337157816812e-7
           ]
          },
          {
           "label": "color",
           "values": [
            0.377648717269985,
            0.32822802883295144,
            0.4412843285609497,
            0.3825217836985131,
            0.5102344571777622,
            0.6363422463752267,
            0.2527040606706909,
            0.554632260716062,
            0.5189766376896867,
            0.28348222894760366,
            0.4774539169602117,
            0.5383896829216013,
            0.36828522078779585,
            0.2638674022484032,
            0.10043573586061824,
            0.2899153070218897,
            0.49332245076756076,
            0.5385167426849764,
            0.2848688360157261,
            0.41283295985581664,
            0.5730964430539223,
            0.19492531047773154,
            0.4061201640145135,
            0.485713066449728,
            0.6161771522598268,
            0.5528185053721106,
            0.33003246830876465,
            0.20459984960082347,
            0.1992800081803316,
            0.48639607781752836,
            0.3263379692408516,
            0.5416725298601878,
            0.3627735718381208,
            0.6167927934725809,
            0.07722465969874434,
            0.38089081617814724,
            0.5515619413521137,
            0.355607146104466,
            0.6290549963830894,
            0.30573058796223934,
            0.29669476751029344,
            0.1829920108429638,
            0.46883443998338636,
            0.43454470949912954,
            0.5205982027990413,
            0.4741597944689455,
            0.1976120284249701,
            0.5084669406965273,
            0.5914234115783,
            0.3572982093798477,
            0.5387701995310081,
            0.19004487364496853,
            0.3445313203262106,
            0.5855856903430829,
            0.29874805374837393,
            0.44234659848627406,
            0.2607281448906206,
            0.6123063913962864,
            0.1681068630472474,
            0.575851250054795,
            0.39124110946965324,
            0.3869363137652334,
            0.42143181662921964,
            0.6066497101175896,
            0.30856854159569186,
            0.2911554778963232,
            0.4739476412139447,
            0.54458015288091,
            0.3879869925712619,
            0.3416020287483305,
            0.4886783215358343,
            0.4272394478819535,
            0.18561431141951612,
            0.17067024501806224,
            0.6068367780255368,
            0.5355511348313128,
            0.37178260852936684
           ]
          }
         ],
         "domain": {
          "x": [
           0,
           1
          ],
          "y": [
           0,
           1
          ]
         },
         "line": {
          "color": [
           0.377648717269985,
           0.32822802883295144,
           0.4412843285609497,
           0.3825217836985131,
           0.5102344571777622,
           0.6363422463752267,
           0.2527040606706909,
           0.554632260716062,
           0.5189766376896867,
           0.28348222894760366,
           0.4774539169602117,
           0.5383896829216013,
           0.36828522078779585,
           0.2638674022484032,
           0.10043573586061824,
           0.2899153070218897,
           0.49332245076756076,
           0.5385167426849764,
           0.2848688360157261,
           0.41283295985581664,
           0.5730964430539223,
           0.19492531047773154,
           0.4061201640145135,
           0.485713066449728,
           0.6161771522598268,
           0.5528185053721106,
           0.33003246830876465,
           0.20459984960082347,
           0.1992800081803316,
           0.48639607781752836,
           0.3263379692408516,
           0.5416725298601878,
           0.3627735718381208,
           0.6167927934725809,
           0.07722465969874434,
           0.38089081617814724,
           0.5515619413521137,
           0.355607146104466,
           0.6290549963830894,
           0.30573058796223934,
           0.29669476751029344,
           0.1829920108429638,
           0.46883443998338636,
           0.43454470949912954,
           0.5205982027990413,
           0.4741597944689455,
           0.1976120284249701,
           0.5084669406965273,
           0.5914234115783,
           0.3572982093798477,
           0.5387701995310081,
           0.19004487364496853,
           0.3445313203262106,
           0.5855856903430829,
           0.29874805374837393,
           0.44234659848627406,
           0.2607281448906206,
           0.6123063913962864,
           0.1681068630472474,
           0.575851250054795,
           0.39124110946965324,
           0.3869363137652334,
           0.42143181662921964,
           0.6066497101175896,
           0.30856854159569186,
           0.2911554778963232,
           0.4739476412139447,
           0.54458015288091,
           0.3879869925712619,
           0.3416020287483305,
           0.4886783215358343,
           0.4272394478819535,
           0.18561431141951612,
           0.17067024501806224,
           0.6068367780255368,
           0.5355511348313128,
           0.37178260852936684
          ],
          "coloraxis": "coloraxis"
         },
         "name": "",
         "type": "parcoords"
        }
       ],
       "layout": {
        "coloraxis": {
         "colorbar": {
          "title": {
           "text": "color"
          }
         },
         "colorscale": [
          [
           0,
           "rgb(0,0,131)"
          ],
          [
           0.2,
           "rgb(0,60,170)"
          ],
          [
           0.4,
           "rgb(5,255,255)"
          ],
          [
           0.6,
           "rgb(255,255,0)"
          ],
          [
           0.8,
           "rgb(250,0,0)"
          ],
          [
           1,
           "rgb(128,0,0)"
          ]
         ]
        },
        "legend": {
         "tracegroupgap": 0
        },
        "template": {
         "data": {
          "bar": [
           {
            "error_x": {
             "color": "#2a3f5f"
            },
            "error_y": {
             "color": "#2a3f5f"
            },
            "marker": {
             "line": {
              "color": "#E5ECF6",
              "width": 0.5
             },
             "pattern": {
              "fillmode": "overlay",
              "size": 10,
              "solidity": 0.2
             }
            },
            "type": "bar"
           }
          ],
          "barpolar": [
           {
            "marker": {
             "line": {
              "color": "#E5ECF6",
              "width": 0.5
             },
             "pattern": {
              "fillmode": "overlay",
              "size": 10,
              "solidity": 0.2
             }
            },
            "type": "barpolar"
           }
          ],
          "carpet": [
           {
            "aaxis": {
             "endlinecolor": "#2a3f5f",
             "gridcolor": "white",
             "linecolor": "white",
             "minorgridcolor": "white",
             "startlinecolor": "#2a3f5f"
            },
            "baxis": {
             "endlinecolor": "#2a3f5f",
             "gridcolor": "white",
             "linecolor": "white",
             "minorgridcolor": "white",
             "startlinecolor": "#2a3f5f"
            },
            "type": "carpet"
           }
          ],
          "choropleth": [
           {
            "colorbar": {
             "outlinewidth": 0,
             "ticks": ""
            },
            "type": "choropleth"
           }
          ],
          "contour": [
           {
            "colorbar": {
             "outlinewidth": 0,
             "ticks": ""
            },
            "colorscale": [
             [
              0,
              "#0d0887"
             ],
             [
              0.1111111111111111,
              "#46039f"
             ],
             [
              0.2222222222222222,
              "#7201a8"
             ],
             [
              0.3333333333333333,
              "#9c179e"
             ],
             [
              0.4444444444444444,
              "#bd3786"
             ],
             [
              0.5555555555555556,
              "#d8576b"
             ],
             [
              0.6666666666666666,
              "#ed7953"
             ],
             [
              0.7777777777777778,
              "#fb9f3a"
             ],
             [
              0.8888888888888888,
              "#fdca26"
             ],
             [
              1,
              "#f0f921"
             ]
            ],
            "type": "contour"
           }
          ],
          "contourcarpet": [
           {
            "colorbar": {
             "outlinewidth": 0,
             "ticks": ""
            },
            "type": "contourcarpet"
           }
          ],
          "heatmap": [
           {
            "colorbar": {
             "outlinewidth": 0,
             "ticks": ""
            },
            "colorscale": [
             [
              0,
              "#0d0887"
             ],
             [
              0.1111111111111111,
              "#46039f"
             ],
             [
              0.2222222222222222,
              "#7201a8"
             ],
             [
              0.3333333333333333,
              "#9c179e"
             ],
             [
              0.4444444444444444,
              "#bd3786"
             ],
             [
              0.5555555555555556,
              "#d8576b"
             ],
             [
              0.6666666666666666,
              "#ed7953"
             ],
             [
              0.7777777777777778,
              "#fb9f3a"
             ],
             [
              0.8888888888888888,
              "#fdca26"
             ],
             [
              1,
              "#f0f921"
             ]
            ],
            "type": "heatmap"
           }
          ],
          "heatmapgl": [
           {
            "colorbar": {
             "outlinewidth": 0,
             "ticks": ""
            },
            "colorscale": [
             [
              0,
              "#0d0887"
             ],
             [
              0.1111111111111111,
              "#46039f"
             ],
             [
              0.2222222222222222,
              "#7201a8"
             ],
             [
              0.3333333333333333,
              "#9c179e"
             ],
             [
              0.4444444444444444,
              "#bd3786"
             ],
             [
              0.5555555555555556,
              "#d8576b"
             ],
             [
              0.6666666666666666,
              "#ed7953"
             ],
             [
              0.7777777777777778,
              "#fb9f3a"
             ],
             [
              0.8888888888888888,
              "#fdca26"
             ],
             [
              1,
              "#f0f921"
             ]
            ],
            "type": "heatmapgl"
           }
          ],
          "histogram": [
           {
            "marker": {
             "pattern": {
              "fillmode": "overlay",
              "size": 10,
              "solidity": 0.2
             }
            },
            "type": "histogram"
           }
          ],
          "histogram2d": [
           {
            "colorbar": {
             "outlinewidth": 0,
             "ticks": ""
            },
            "colorscale": [
             [
              0,
              "#0d0887"
             ],
             [
              0.1111111111111111,
              "#46039f"
             ],
             [
              0.2222222222222222,
              "#7201a8"
             ],
             [
              0.3333333333333333,
              "#9c179e"
             ],
             [
              0.4444444444444444,
              "#bd3786"
             ],
             [
              0.5555555555555556,
              "#d8576b"
             ],
             [
              0.6666666666666666,
              "#ed7953"
             ],
             [
              0.7777777777777778,
              "#fb9f3a"
             ],
             [
              0.8888888888888888,
              "#fdca26"
             ],
             [
              1,
              "#f0f921"
             ]
            ],
            "type": "histogram2d"
           }
          ],
          "histogram2dcontour": [
           {
            "colorbar": {
             "outlinewidth": 0,
             "ticks": ""
            },
            "colorscale": [
             [
              0,
              "#0d0887"
             ],
             [
              0.1111111111111111,
              "#46039f"
             ],
             [
              0.2222222222222222,
              "#7201a8"
             ],
             [
              0.3333333333333333,
              "#9c179e"
             ],
             [
              0.4444444444444444,
              "#bd3786"
             ],
             [
              0.5555555555555556,
              "#d8576b"
             ],
             [
              0.6666666666666666,
              "#ed7953"
             ],
             [
              0.7777777777777778,
              "#fb9f3a"
             ],
             [
              0.8888888888888888,
              "#fdca26"
             ],
             [
              1,
              "#f0f921"
             ]
            ],
            "type": "histogram2dcontour"
           }
          ],
          "mesh3d": [
           {
            "colorbar": {
             "outlinewidth": 0,
             "ticks": ""
            },
            "type": "mesh3d"
           }
          ],
          "parcoords": [
           {
            "line": {
             "colorbar": {
              "outlinewidth": 0,
              "ticks": ""
             }
            },
            "type": "parcoords"
           }
          ],
          "pie": [
           {
            "automargin": true,
            "type": "pie"
           }
          ],
          "scatter": [
           {
            "fillpattern": {
             "fillmode": "overlay",
             "size": 10,
             "solidity": 0.2
            },
            "type": "scatter"
           }
          ],
          "scatter3d": [
           {
            "line": {
             "colorbar": {
              "outlinewidth": 0,
              "ticks": ""
             }
            },
            "marker": {
             "colorbar": {
              "outlinewidth": 0,
              "ticks": ""
             }
            },
            "type": "scatter3d"
           }
          ],
          "scattercarpet": [
           {
            "marker": {
             "colorbar": {
              "outlinewidth": 0,
              "ticks": ""
             }
            },
            "type": "scattercarpet"
           }
          ],
          "scattergeo": [
           {
            "marker": {
             "colorbar": {
              "outlinewidth": 0,
              "ticks": ""
             }
            },
            "type": "scattergeo"
           }
          ],
          "scattergl": [
           {
            "marker": {
             "colorbar": {
              "outlinewidth": 0,
              "ticks": ""
             }
            },
            "type": "scattergl"
           }
          ],
          "scattermapbox": [
           {
            "marker": {
             "colorbar": {
              "outlinewidth": 0,
              "ticks": ""
             }
            },
            "type": "scattermapbox"
           }
          ],
          "scatterpolar": [
           {
            "marker": {
             "colorbar": {
              "outlinewidth": 0,
              "ticks": ""
             }
            },
            "type": "scatterpolar"
           }
          ],
          "scatterpolargl": [
           {
            "marker": {
             "colorbar": {
              "outlinewidth": 0,
              "ticks": ""
             }
            },
            "type": "scatterpolargl"
           }
          ],
          "scatterternary": [
           {
            "marker": {
             "colorbar": {
              "outlinewidth": 0,
              "ticks": ""
             }
            },
            "type": "scatterternary"
           }
          ],
          "surface": [
           {
            "colorbar": {
             "outlinewidth": 0,
             "ticks": ""
            },
            "colorscale": [
             [
              0,
              "#0d0887"
             ],
             [
              0.1111111111111111,
              "#46039f"
             ],
             [
              0.2222222222222222,
              "#7201a8"
             ],
             [
              0.3333333333333333,
              "#9c179e"
             ],
             [
              0.4444444444444444,
              "#bd3786"
             ],
             [
              0.5555555555555556,
              "#d8576b"
             ],
             [
              0.6666666666666666,
              "#ed7953"
             ],
             [
              0.7777777777777778,
              "#fb9f3a"
             ],
             [
              0.8888888888888888,
              "#fdca26"
             ],
             [
              1,
              "#f0f921"
             ]
            ],
            "type": "surface"
           }
          ],
          "table": [
           {
            "cells": {
             "fill": {
              "color": "#EBF0F8"
             },
             "line": {
              "color": "white"
             }
            },
            "header": {
             "fill": {
              "color": "#C8D4E3"
             },
             "line": {
              "color": "white"
             }
            },
            "type": "table"
           }
          ]
         },
         "layout": {
          "annotationdefaults": {
           "arrowcolor": "#2a3f5f",
           "arrowhead": 0,
           "arrowwidth": 1
          },
          "autotypenumbers": "strict",
          "coloraxis": {
           "colorbar": {
            "outlinewidth": 0,
            "ticks": ""
           }
          },
          "colorscale": {
           "diverging": [
            [
             0,
             "#8e0152"
            ],
            [
             0.1,
             "#c51b7d"
            ],
            [
             0.2,
             "#de77ae"
            ],
            [
             0.3,
             "#f1b6da"
            ],
            [
             0.4,
             "#fde0ef"
            ],
            [
             0.5,
             "#f7f7f7"
            ],
            [
             0.6,
             "#e6f5d0"
            ],
            [
             0.7,
             "#b8e186"
            ],
            [
             0.8,
             "#7fbc41"
            ],
            [
             0.9,
             "#4d9221"
            ],
            [
             1,
             "#276419"
            ]
           ],
           "sequential": [
            [
             0,
             "#0d0887"
            ],
            [
             0.1111111111111111,
             "#46039f"
            ],
            [
             0.2222222222222222,
             "#7201a8"
            ],
            [
             0.3333333333333333,
             "#9c179e"
            ],
            [
             0.4444444444444444,
             "#bd3786"
            ],
            [
             0.5555555555555556,
             "#d8576b"
            ],
            [
             0.6666666666666666,
             "#ed7953"
            ],
            [
             0.7777777777777778,
             "#fb9f3a"
            ],
            [
             0.8888888888888888,
             "#fdca26"
            ],
            [
             1,
             "#f0f921"
            ]
           ],
           "sequentialminus": [
            [
             0,
             "#0d0887"
            ],
            [
             0.1111111111111111,
             "#46039f"
            ],
            [
             0.2222222222222222,
             "#7201a8"
            ],
            [
             0.3333333333333333,
             "#9c179e"
            ],
            [
             0.4444444444444444,
             "#bd3786"
            ],
            [
             0.5555555555555556,
             "#d8576b"
            ],
            [
             0.6666666666666666,
             "#ed7953"
            ],
            [
             0.7777777777777778,
             "#fb9f3a"
            ],
            [
             0.8888888888888888,
             "#fdca26"
            ],
            [
             1,
             "#f0f921"
            ]
           ]
          },
          "colorway": [
           "#636efa",
           "#EF553B",
           "#00cc96",
           "#ab63fa",
           "#FFA15A",
           "#19d3f3",
           "#FF6692",
           "#B6E880",
           "#FF97FF",
           "#FECB52"
          ],
          "font": {
           "color": "#2a3f5f"
          },
          "geo": {
           "bgcolor": "white",
           "lakecolor": "white",
           "landcolor": "#E5ECF6",
           "showlakes": true,
           "showland": true,
           "subunitcolor": "white"
          },
          "hoverlabel": {
           "align": "left"
          },
          "hovermode": "closest",
          "mapbox": {
           "style": "light"
          },
          "paper_bgcolor": "white",
          "plot_bgcolor": "#E5ECF6",
          "polar": {
           "angularaxis": {
            "gridcolor": "white",
            "linecolor": "white",
            "ticks": ""
           },
           "bgcolor": "#E5ECF6",
           "radialaxis": {
            "gridcolor": "white",
            "linecolor": "white",
            "ticks": ""
           }
          },
          "scene": {
           "xaxis": {
            "backgroundcolor": "#E5ECF6",
            "gridcolor": "white",
            "gridwidth": 2,
            "linecolor": "white",
            "showbackground": true,
            "ticks": "",
            "zerolinecolor": "white"
           },
           "yaxis": {
            "backgroundcolor": "#E5ECF6",
            "gridcolor": "white",
            "gridwidth": 2,
            "linecolor": "white",
            "showbackground": true,
            "ticks": "",
            "zerolinecolor": "white"
           },
           "zaxis": {
            "backgroundcolor": "#E5ECF6",
            "gridcolor": "white",
            "gridwidth": 2,
            "linecolor": "white",
            "showbackground": true,
            "ticks": "",
            "zerolinecolor": "white"
           }
          },
          "shapedefaults": {
           "line": {
            "color": "#2a3f5f"
           }
          },
          "ternary": {
           "aaxis": {
            "gridcolor": "white",
            "linecolor": "white",
            "ticks": ""
           },
           "baxis": {
            "gridcolor": "white",
            "linecolor": "white",
            "ticks": ""
           },
           "bgcolor": "#E5ECF6",
           "caxis": {
            "gridcolor": "white",
            "linecolor": "white",
            "ticks": ""
           }
          },
          "title": {
           "x": 0.05
          },
          "xaxis": {
           "automargin": true,
           "gridcolor": "white",
           "linecolor": "white",
           "ticks": "",
           "title": {
            "standoff": 15
           },
           "zerolinecolor": "white",
           "zerolinewidth": 2
          },
          "yaxis": {
           "automargin": true,
           "gridcolor": "white",
           "linecolor": "white",
           "ticks": "",
           "title": {
            "standoff": 15
           },
           "zerolinecolor": "white",
           "zerolinewidth": 2
          }
         }
        },
        "title": {
         "text": "Samples' masses"
        }
       }
      }
     },
     "metadata": {},
     "output_type": "display_data"
    }
   ],
   "source": [
    "fig = px.parallel_coordinates(masses, title = \"Samples' masses\",\n",
    "                            color = alpha,\n",
    "                            labels=[\"mass One\", \"mass Two\", \"mass Three\", \"mass Four\", \"mass Five\", \"Fitness\"],\n",
    "                            color_continuous_scale=px.colors.sequential.Jet)\n",
    "fig.show()"
   ]
  },
  {
   "cell_type": "markdown",
   "metadata": {},
   "source": [
    "#### Shaking moment vs Shaking force\n",
    "\n",
    "This graph shows the behavior of the Pareto efficient solutions, where the improvement on the optimization of one variable, directly affects others'."
   ]
  },
  {
   "cell_type": "code",
   "execution_count": 31,
   "metadata": {},
   "outputs": [
    {
     "data": {
      "application/vnd.plotly.v1+json": {
       "config": {
        "plotlyServerURL": "https://plot.ly"
       },
       "data": [
        {
         "dimensions": [
          {
           "label": "Shaking Force",
           "values": [
            0.7561766000063185,
            0.7966349391175427,
            0.6708992226309645,
            0.7510117134744076,
            0.44101738424887477,
            0.0829721736436574,
            0.8392301663800743,
            0.18962728279285418,
            0.38710529242528546,
            0.8244515598877153,
            0.5819733563893081,
            0.2551571136454558,
            0.7636001694296263,
            0.833085551469634,
            0.894842118436127,
            0.8198097092207584,
            0.524997865952732,
            0.2577345422609725,
            0.8233619120325844,
            0.7156559256367778,
            0.11283402196971695,
            0.8685741895316608,
            0.7240820508122935,
            0.5625140788691856,
            0.08957982399471905,
            0.18401954945206314,
            0.7930888246623922,
            0.8572144135569012,
            0.8610275327052084,
            0.553728318366331,
            0.8001973649599929,
            0.22454069816680028,
            0.7672141886878068,
            0.0894167227931876,
            0.9011616609265749,
            0.7554046452657,
            0.18628355378038955,
            0.7758007627871336,
            0.095924773038282,
            0.8108474224925103,
            0.8143674625882285,
            0.8681601349237861,
            0.6063582885125142,
            0.6848995946979164,
            0.3874313411018986,
            0.5951676420342485,
            0.8619675670080198,
            0.44671852851157773,
            0.09997433041508358,
            0.777524318884819,
            0.24616973200309206,
            0.8647064515284502,
            0.7858757625460515,
            0.1164284821694998,
            0.8112033856648989,
            0.6671218112213829,
            0.8348748684811067,
            0.0803376055279471,
            0.873221206935181,
            0.1309517010822412,
            0.7430044395941756,
            0.7458079129363187,
            0.7044505634715916,
            0.08143177333258622,
            0.8082574738157864,
            0.8182911533124205,
            0.5930935316617021,
            0.218247134096454,
            0.7462816072781128,
            0.7850371365509864,
            0.5508601144558767,
            0.696294368384855,
            0.8675253140887708,
            0.8724570700792018,
            0.11514170564061149,
            0.2818172018690776,
            0.761535251031269
           ]
          },
          {
           "label": "Shaking Moment",
           "values": [
            0.27418326634003076,
            0.2519307687640336,
            0.33433016861927156,
            0.27732108381450515,
            0.5489622389901959,
            0.9872488571869961,
            0.23429117148485618,
            0.832917500588421,
            0.6062560309259302,
            0.2396975124303039,
            0.4105154318490922,
            0.7544464165426257,
            0.2698125585507558,
            0.23643100341486414,
            0.2217394244553111,
            0.24154636776583316,
            0.46428386279223427,
            0.7529399445645643,
            0.24011709455272998,
            0.3007928597536317,
            0.9349965675798395,
            0.2263556720947665,
            0.2949385133390487,
            0.42884650418616344,
            0.9674571863241556,
            0.8439367442769048,
            0.25379951677835977,
            0.22887095188822718,
            0.2279340406044581,
            0.43675014894292025,
            0.25029411437680604,
            0.7908904433454537,
            0.2676407648379853,
            0.9733890057033519,
            0.2211269201081317,
            0.2747336102418066,
            0.8391093697865513,
            0.26277397634105837,
            0.9768508835126336,
            0.24533614355074626,
            0.24382890187664474,
            0.22622728475893178,
            0.38860128230993224,
            0.32346947025349115,
            0.6058925027662722,
            0.3985725324279049,
            0.22765717071272953,
            0.5431767046507187,
            0.9481708171329635,
            0.2618537318249028,
            0.7650198300917015,
            0.2270833577097345,
            0.25739153830203987,
            0.9281735487933278,
            0.24521388667178323,
            0.33734298262761936,
            0.23579088075587684,
            0.9848873423335417,
            0.22512974266041594,
            0.9174330658078109,
            0.2823838345719857,
            0.28059055490762536,
            0.3088260717101237,
            0.9756260307312966,
            0.24649221709279037,
            0.2421990076765116,
            0.4003956704393364,
            0.7984777911680123,
            0.28028824474319075,
            0.2578485994275409,
            0.439495178558115,
            0.3148759943698465,
            0.22642061264517113,
            0.22527407175260108,
            0.9578893677930341,
            0.7235829570799801,
            0.2709372806264593
           ]
          },
          {
           "label": "color",
           "values": [
            0.377648717269985,
            0.32822802883295144,
            0.4412843285609497,
            0.3825217836985131,
            0.5102344571777622,
            0.6363422463752267,
            0.2527040606706909,
            0.554632260716062,
            0.5189766376896867,
            0.28348222894760366,
            0.4774539169602117,
            0.5383896829216013,
            0.36828522078779585,
            0.2638674022484032,
            0.10043573586061824,
            0.2899153070218897,
            0.49332245076756076,
            0.5385167426849764,
            0.2848688360157261,
            0.41283295985581664,
            0.5730964430539223,
            0.19492531047773154,
            0.4061201640145135,
            0.485713066449728,
            0.6161771522598268,
            0.5528185053721106,
            0.33003246830876465,
            0.20459984960082347,
            0.1992800081803316,
            0.48639607781752836,
            0.3263379692408516,
            0.5416725298601878,
            0.3627735718381208,
            0.6167927934725809,
            0.07722465969874434,
            0.38089081617814724,
            0.5515619413521137,
            0.355607146104466,
            0.6290549963830894,
            0.30573058796223934,
            0.29669476751029344,
            0.1829920108429638,
            0.46883443998338636,
            0.43454470949912954,
            0.5205982027990413,
            0.4741597944689455,
            0.1976120284249701,
            0.5084669406965273,
            0.5914234115783,
            0.3572982093798477,
            0.5387701995310081,
            0.19004487364496853,
            0.3445313203262106,
            0.5855856903430829,
            0.29874805374837393,
            0.44234659848627406,
            0.2607281448906206,
            0.6123063913962864,
            0.1681068630472474,
            0.575851250054795,
            0.39124110946965324,
            0.3869363137652334,
            0.42143181662921964,
            0.6066497101175896,
            0.30856854159569186,
            0.2911554778963232,
            0.4739476412139447,
            0.54458015288091,
            0.3879869925712619,
            0.3416020287483305,
            0.4886783215358343,
            0.4272394478819535,
            0.18561431141951612,
            0.17067024501806224,
            0.6068367780255368,
            0.5355511348313128,
            0.37178260852936684
           ]
          }
         ],
         "domain": {
          "x": [
           0,
           1
          ],
          "y": [
           0,
           1
          ]
         },
         "line": {
          "color": [
           0.377648717269985,
           0.32822802883295144,
           0.4412843285609497,
           0.3825217836985131,
           0.5102344571777622,
           0.6363422463752267,
           0.2527040606706909,
           0.554632260716062,
           0.5189766376896867,
           0.28348222894760366,
           0.4774539169602117,
           0.5383896829216013,
           0.36828522078779585,
           0.2638674022484032,
           0.10043573586061824,
           0.2899153070218897,
           0.49332245076756076,
           0.5385167426849764,
           0.2848688360157261,
           0.41283295985581664,
           0.5730964430539223,
           0.19492531047773154,
           0.4061201640145135,
           0.485713066449728,
           0.6161771522598268,
           0.5528185053721106,
           0.33003246830876465,
           0.20459984960082347,
           0.1992800081803316,
           0.48639607781752836,
           0.3263379692408516,
           0.5416725298601878,
           0.3627735718381208,
           0.6167927934725809,
           0.07722465969874434,
           0.38089081617814724,
           0.5515619413521137,
           0.355607146104466,
           0.6290549963830894,
           0.30573058796223934,
           0.29669476751029344,
           0.1829920108429638,
           0.46883443998338636,
           0.43454470949912954,
           0.5205982027990413,
           0.4741597944689455,
           0.1976120284249701,
           0.5084669406965273,
           0.5914234115783,
           0.3572982093798477,
           0.5387701995310081,
           0.19004487364496853,
           0.3445313203262106,
           0.5855856903430829,
           0.29874805374837393,
           0.44234659848627406,
           0.2607281448906206,
           0.6123063913962864,
           0.1681068630472474,
           0.575851250054795,
           0.39124110946965324,
           0.3869363137652334,
           0.42143181662921964,
           0.6066497101175896,
           0.30856854159569186,
           0.2911554778963232,
           0.4739476412139447,
           0.54458015288091,
           0.3879869925712619,
           0.3416020287483305,
           0.4886783215358343,
           0.4272394478819535,
           0.18561431141951612,
           0.17067024501806224,
           0.6068367780255368,
           0.5355511348313128,
           0.37178260852936684
          ],
          "coloraxis": "coloraxis"
         },
         "name": "",
         "type": "parcoords"
        }
       ],
       "layout": {
        "coloraxis": {
         "colorbar": {
          "title": {
           "text": "color"
          }
         },
         "colorscale": [
          [
           0,
           "rgb(0,0,131)"
          ],
          [
           0.2,
           "rgb(0,60,170)"
          ],
          [
           0.4,
           "rgb(5,255,255)"
          ],
          [
           0.6,
           "rgb(255,255,0)"
          ],
          [
           0.8,
           "rgb(250,0,0)"
          ],
          [
           1,
           "rgb(128,0,0)"
          ]
         ]
        },
        "legend": {
         "tracegroupgap": 0
        },
        "template": {
         "data": {
          "bar": [
           {
            "error_x": {
             "color": "#2a3f5f"
            },
            "error_y": {
             "color": "#2a3f5f"
            },
            "marker": {
             "line": {
              "color": "#E5ECF6",
              "width": 0.5
             },
             "pattern": {
              "fillmode": "overlay",
              "size": 10,
              "solidity": 0.2
             }
            },
            "type": "bar"
           }
          ],
          "barpolar": [
           {
            "marker": {
             "line": {
              "color": "#E5ECF6",
              "width": 0.5
             },
             "pattern": {
              "fillmode": "overlay",
              "size": 10,
              "solidity": 0.2
             }
            },
            "type": "barpolar"
           }
          ],
          "carpet": [
           {
            "aaxis": {
             "endlinecolor": "#2a3f5f",
             "gridcolor": "white",
             "linecolor": "white",
             "minorgridcolor": "white",
             "startlinecolor": "#2a3f5f"
            },
            "baxis": {
             "endlinecolor": "#2a3f5f",
             "gridcolor": "white",
             "linecolor": "white",
             "minorgridcolor": "white",
             "startlinecolor": "#2a3f5f"
            },
            "type": "carpet"
           }
          ],
          "choropleth": [
           {
            "colorbar": {
             "outlinewidth": 0,
             "ticks": ""
            },
            "type": "choropleth"
           }
          ],
          "contour": [
           {
            "colorbar": {
             "outlinewidth": 0,
             "ticks": ""
            },
            "colorscale": [
             [
              0,
              "#0d0887"
             ],
             [
              0.1111111111111111,
              "#46039f"
             ],
             [
              0.2222222222222222,
              "#7201a8"
             ],
             [
              0.3333333333333333,
              "#9c179e"
             ],
             [
              0.4444444444444444,
              "#bd3786"
             ],
             [
              0.5555555555555556,
              "#d8576b"
             ],
             [
              0.6666666666666666,
              "#ed7953"
             ],
             [
              0.7777777777777778,
              "#fb9f3a"
             ],
             [
              0.8888888888888888,
              "#fdca26"
             ],
             [
              1,
              "#f0f921"
             ]
            ],
            "type": "contour"
           }
          ],
          "contourcarpet": [
           {
            "colorbar": {
             "outlinewidth": 0,
             "ticks": ""
            },
            "type": "contourcarpet"
           }
          ],
          "heatmap": [
           {
            "colorbar": {
             "outlinewidth": 0,
             "ticks": ""
            },
            "colorscale": [
             [
              0,
              "#0d0887"
             ],
             [
              0.1111111111111111,
              "#46039f"
             ],
             [
              0.2222222222222222,
              "#7201a8"
             ],
             [
              0.3333333333333333,
              "#9c179e"
             ],
             [
              0.4444444444444444,
              "#bd3786"
             ],
             [
              0.5555555555555556,
              "#d8576b"
             ],
             [
              0.6666666666666666,
              "#ed7953"
             ],
             [
              0.7777777777777778,
              "#fb9f3a"
             ],
             [
              0.8888888888888888,
              "#fdca26"
             ],
             [
              1,
              "#f0f921"
             ]
            ],
            "type": "heatmap"
           }
          ],
          "heatmapgl": [
           {
            "colorbar": {
             "outlinewidth": 0,
             "ticks": ""
            },
            "colorscale": [
             [
              0,
              "#0d0887"
             ],
             [
              0.1111111111111111,
              "#46039f"
             ],
             [
              0.2222222222222222,
              "#7201a8"
             ],
             [
              0.3333333333333333,
              "#9c179e"
             ],
             [
              0.4444444444444444,
              "#bd3786"
             ],
             [
              0.5555555555555556,
              "#d8576b"
             ],
             [
              0.6666666666666666,
              "#ed7953"
             ],
             [
              0.7777777777777778,
              "#fb9f3a"
             ],
             [
              0.8888888888888888,
              "#fdca26"
             ],
             [
              1,
              "#f0f921"
             ]
            ],
            "type": "heatmapgl"
           }
          ],
          "histogram": [
           {
            "marker": {
             "pattern": {
              "fillmode": "overlay",
              "size": 10,
              "solidity": 0.2
             }
            },
            "type": "histogram"
           }
          ],
          "histogram2d": [
           {
            "colorbar": {
             "outlinewidth": 0,
             "ticks": ""
            },
            "colorscale": [
             [
              0,
              "#0d0887"
             ],
             [
              0.1111111111111111,
              "#46039f"
             ],
             [
              0.2222222222222222,
              "#7201a8"
             ],
             [
              0.3333333333333333,
              "#9c179e"
             ],
             [
              0.4444444444444444,
              "#bd3786"
             ],
             [
              0.5555555555555556,
              "#d8576b"
             ],
             [
              0.6666666666666666,
              "#ed7953"
             ],
             [
              0.7777777777777778,
              "#fb9f3a"
             ],
             [
              0.8888888888888888,
              "#fdca26"
             ],
             [
              1,
              "#f0f921"
             ]
            ],
            "type": "histogram2d"
           }
          ],
          "histogram2dcontour": [
           {
            "colorbar": {
             "outlinewidth": 0,
             "ticks": ""
            },
            "colorscale": [
             [
              0,
              "#0d0887"
             ],
             [
              0.1111111111111111,
              "#46039f"
             ],
             [
              0.2222222222222222,
              "#7201a8"
             ],
             [
              0.3333333333333333,
              "#9c179e"
             ],
             [
              0.4444444444444444,
              "#bd3786"
             ],
             [
              0.5555555555555556,
              "#d8576b"
             ],
             [
              0.6666666666666666,
              "#ed7953"
             ],
             [
              0.7777777777777778,
              "#fb9f3a"
             ],
             [
              0.8888888888888888,
              "#fdca26"
             ],
             [
              1,
              "#f0f921"
             ]
            ],
            "type": "histogram2dcontour"
           }
          ],
          "mesh3d": [
           {
            "colorbar": {
             "outlinewidth": 0,
             "ticks": ""
            },
            "type": "mesh3d"
           }
          ],
          "parcoords": [
           {
            "line": {
             "colorbar": {
              "outlinewidth": 0,
              "ticks": ""
             }
            },
            "type": "parcoords"
           }
          ],
          "pie": [
           {
            "automargin": true,
            "type": "pie"
           }
          ],
          "scatter": [
           {
            "fillpattern": {
             "fillmode": "overlay",
             "size": 10,
             "solidity": 0.2
            },
            "type": "scatter"
           }
          ],
          "scatter3d": [
           {
            "line": {
             "colorbar": {
              "outlinewidth": 0,
              "ticks": ""
             }
            },
            "marker": {
             "colorbar": {
              "outlinewidth": 0,
              "ticks": ""
             }
            },
            "type": "scatter3d"
           }
          ],
          "scattercarpet": [
           {
            "marker": {
             "colorbar": {
              "outlinewidth": 0,
              "ticks": ""
             }
            },
            "type": "scattercarpet"
           }
          ],
          "scattergeo": [
           {
            "marker": {
             "colorbar": {
              "outlinewidth": 0,
              "ticks": ""
             }
            },
            "type": "scattergeo"
           }
          ],
          "scattergl": [
           {
            "marker": {
             "colorbar": {
              "outlinewidth": 0,
              "ticks": ""
             }
            },
            "type": "scattergl"
           }
          ],
          "scattermapbox": [
           {
            "marker": {
             "colorbar": {
              "outlinewidth": 0,
              "ticks": ""
             }
            },
            "type": "scattermapbox"
           }
          ],
          "scatterpolar": [
           {
            "marker": {
             "colorbar": {
              "outlinewidth": 0,
              "ticks": ""
             }
            },
            "type": "scatterpolar"
           }
          ],
          "scatterpolargl": [
           {
            "marker": {
             "colorbar": {
              "outlinewidth": 0,
              "ticks": ""
             }
            },
            "type": "scatterpolargl"
           }
          ],
          "scatterternary": [
           {
            "marker": {
             "colorbar": {
              "outlinewidth": 0,
              "ticks": ""
             }
            },
            "type": "scatterternary"
           }
          ],
          "surface": [
           {
            "colorbar": {
             "outlinewidth": 0,
             "ticks": ""
            },
            "colorscale": [
             [
              0,
              "#0d0887"
             ],
             [
              0.1111111111111111,
              "#46039f"
             ],
             [
              0.2222222222222222,
              "#7201a8"
             ],
             [
              0.3333333333333333,
              "#9c179e"
             ],
             [
              0.4444444444444444,
              "#bd3786"
             ],
             [
              0.5555555555555556,
              "#d8576b"
             ],
             [
              0.6666666666666666,
              "#ed7953"
             ],
             [
              0.7777777777777778,
              "#fb9f3a"
             ],
             [
              0.8888888888888888,
              "#fdca26"
             ],
             [
              1,
              "#f0f921"
             ]
            ],
            "type": "surface"
           }
          ],
          "table": [
           {
            "cells": {
             "fill": {
              "color": "#EBF0F8"
             },
             "line": {
              "color": "white"
             }
            },
            "header": {
             "fill": {
              "color": "#C8D4E3"
             },
             "line": {
              "color": "white"
             }
            },
            "type": "table"
           }
          ]
         },
         "layout": {
          "annotationdefaults": {
           "arrowcolor": "#2a3f5f",
           "arrowhead": 0,
           "arrowwidth": 1
          },
          "autotypenumbers": "strict",
          "coloraxis": {
           "colorbar": {
            "outlinewidth": 0,
            "ticks": ""
           }
          },
          "colorscale": {
           "diverging": [
            [
             0,
             "#8e0152"
            ],
            [
             0.1,
             "#c51b7d"
            ],
            [
             0.2,
             "#de77ae"
            ],
            [
             0.3,
             "#f1b6da"
            ],
            [
             0.4,
             "#fde0ef"
            ],
            [
             0.5,
             "#f7f7f7"
            ],
            [
             0.6,
             "#e6f5d0"
            ],
            [
             0.7,
             "#b8e186"
            ],
            [
             0.8,
             "#7fbc41"
            ],
            [
             0.9,
             "#4d9221"
            ],
            [
             1,
             "#276419"
            ]
           ],
           "sequential": [
            [
             0,
             "#0d0887"
            ],
            [
             0.1111111111111111,
             "#46039f"
            ],
            [
             0.2222222222222222,
             "#7201a8"
            ],
            [
             0.3333333333333333,
             "#9c179e"
            ],
            [
             0.4444444444444444,
             "#bd3786"
            ],
            [
             0.5555555555555556,
             "#d8576b"
            ],
            [
             0.6666666666666666,
             "#ed7953"
            ],
            [
             0.7777777777777778,
             "#fb9f3a"
            ],
            [
             0.8888888888888888,
             "#fdca26"
            ],
            [
             1,
             "#f0f921"
            ]
           ],
           "sequentialminus": [
            [
             0,
             "#0d0887"
            ],
            [
             0.1111111111111111,
             "#46039f"
            ],
            [
             0.2222222222222222,
             "#7201a8"
            ],
            [
             0.3333333333333333,
             "#9c179e"
            ],
            [
             0.4444444444444444,
             "#bd3786"
            ],
            [
             0.5555555555555556,
             "#d8576b"
            ],
            [
             0.6666666666666666,
             "#ed7953"
            ],
            [
             0.7777777777777778,
             "#fb9f3a"
            ],
            [
             0.8888888888888888,
             "#fdca26"
            ],
            [
             1,
             "#f0f921"
            ]
           ]
          },
          "colorway": [
           "#636efa",
           "#EF553B",
           "#00cc96",
           "#ab63fa",
           "#FFA15A",
           "#19d3f3",
           "#FF6692",
           "#B6E880",
           "#FF97FF",
           "#FECB52"
          ],
          "font": {
           "color": "#2a3f5f"
          },
          "geo": {
           "bgcolor": "white",
           "lakecolor": "white",
           "landcolor": "#E5ECF6",
           "showlakes": true,
           "showland": true,
           "subunitcolor": "white"
          },
          "hoverlabel": {
           "align": "left"
          },
          "hovermode": "closest",
          "mapbox": {
           "style": "light"
          },
          "paper_bgcolor": "white",
          "plot_bgcolor": "#E5ECF6",
          "polar": {
           "angularaxis": {
            "gridcolor": "white",
            "linecolor": "white",
            "ticks": ""
           },
           "bgcolor": "#E5ECF6",
           "radialaxis": {
            "gridcolor": "white",
            "linecolor": "white",
            "ticks": ""
           }
          },
          "scene": {
           "xaxis": {
            "backgroundcolor": "#E5ECF6",
            "gridcolor": "white",
            "gridwidth": 2,
            "linecolor": "white",
            "showbackground": true,
            "ticks": "",
            "zerolinecolor": "white"
           },
           "yaxis": {
            "backgroundcolor": "#E5ECF6",
            "gridcolor": "white",
            "gridwidth": 2,
            "linecolor": "white",
            "showbackground": true,
            "ticks": "",
            "zerolinecolor": "white"
           },
           "zaxis": {
            "backgroundcolor": "#E5ECF6",
            "gridcolor": "white",
            "gridwidth": 2,
            "linecolor": "white",
            "showbackground": true,
            "ticks": "",
            "zerolinecolor": "white"
           }
          },
          "shapedefaults": {
           "line": {
            "color": "#2a3f5f"
           }
          },
          "ternary": {
           "aaxis": {
            "gridcolor": "white",
            "linecolor": "white",
            "ticks": ""
           },
           "baxis": {
            "gridcolor": "white",
            "linecolor": "white",
            "ticks": ""
           },
           "bgcolor": "#E5ECF6",
           "caxis": {
            "gridcolor": "white",
            "linecolor": "white",
            "ticks": ""
           }
          },
          "title": {
           "x": 0.05
          },
          "xaxis": {
           "automargin": true,
           "gridcolor": "white",
           "linecolor": "white",
           "ticks": "",
           "title": {
            "standoff": 15
           },
           "zerolinecolor": "white",
           "zerolinewidth": 2
          },
          "yaxis": {
           "automargin": true,
           "gridcolor": "white",
           "linecolor": "white",
           "ticks": "",
           "title": {
            "standoff": 15
           },
           "zerolinecolor": "white",
           "zerolinewidth": 2
          }
         }
        },
        "title": {
         "text": "Multiobjective optimization behavior"
        }
       }
      }
     },
     "metadata": {},
     "output_type": "display_data"
    }
   ],
   "source": [
    "fig = px.parallel_coordinates({\"Shaking Force\": shForces, \"Shaking Moment\": shMoments}, title = \"Multiobjective optimization behavior\",\n",
    "                            color = alpha,\n",
    "                            color_continuous_scale=px.colors.sequential.Jet)\n",
    "fig.show()"
   ]
  },
  {
   "attachments": {},
   "cell_type": "markdown",
   "metadata": {},
   "source": [
    "### Violinplot\n",
    "\n",
    "This graph is created with hopes of seeing if  masses have a tendency. \n",
    "\n",
    "These graphs help to show:\n",
    "\n",
    "1. Weight 1 has a short range where it values are optimal, and the frequency seems to indicate that the smaller it is, the better it works.\n",
    "\n",
    "2. Weight 2 shows an interesting dynamic range, it's large and might ressemble a normal distribution.\n",
    "\n",
    "3. Weight 3 clearly shows it's tendency for a specific mass near the maximum limit.\n",
    "\n",
    "4. Weight 4 seems optimal when it's as small as possible.\n",
    "\n",
    "5. Weight 5 same behavior as 4."
   ]
  },
  {
   "cell_type": "code",
   "execution_count": 34,
   "metadata": {},
   "outputs": [
    {
     "data": {
      "text/plain": [
       "{'bodies': [<matplotlib.collections.PolyCollection at 0x1a2dac0be20>,\n",
       "  <matplotlib.collections.PolyCollection at 0x1a2dac1b1c0>,\n",
       "  <matplotlib.collections.PolyCollection at 0x1a2dac1b400>,\n",
       "  <matplotlib.collections.PolyCollection at 0x1a2dac1b760>,\n",
       "  <matplotlib.collections.PolyCollection at 0x1a2dac1bac0>],\n",
       " 'cmaxes': <matplotlib.collections.LineCollection at 0x1a2dac0bd90>,\n",
       " 'cmins': <matplotlib.collections.LineCollection at 0x1a2dac2d1c0>,\n",
       " 'cbars': <matplotlib.collections.LineCollection at 0x1a2dac2d5e0>}"
      ]
     },
     "execution_count": 34,
     "metadata": {},
     "output_type": "execute_result"
    },
    {
     "data": {
      "image/png": "[encoded data removed]",
      "text/plain": [
       "<Figure size 1500x1500 with 2 Axes>"
      ]
     },
     "metadata": {},
     "output_type": "display_data"
    }
   ],
   "source": [
    "fig = plt.figure(figsize =(15, 15))\n",
    "plt.subplot(2, 1, 1)\n",
    "plt.title(\"Distribution of the optimal weights in kg\")\n",
    "plt.xlabel(\"# of weight\")\n",
    "plt.ylabel(\"Mass (kg)\")\n",
    "plt.violinplot(masses)\n",
    "plt.subplot(2, 1, 2)\n",
    "plt.title(\"Weights\")\n",
    "plt.violinplot(masses)"
   ]
  },
  {
   "attachments": {},
   "cell_type": "markdown",
   "metadata": {},
   "source": [
    "### Scatter plot\n",
    "\n",
    "Let's try to see if there's a relation between the masses of the weights and their fitness.\n",
    "\n",
    "#### Observations\n",
    "\n",
    "- Fwiw, points above the optimal ones mean that the results can be heavily affected by other variables.\n",
    "\n",
    "- Checkout the previous [results](https://github.com/LuisR-jpg/School/blob/af30b7fbc78e681a47fba3b86f7624ddf7c9c180/Courses%20and%20Miscellaneous/Research/GraphicalAnalysis.ipynb)"
   ]
  },
  {
   "cell_type": "code",
   "execution_count": 35,
   "metadata": {},
   "outputs": [
    {
     "ename": "NameError",
     "evalue": "name 'optimal' is not defined",
     "output_type": "error",
     "traceback": [
      "\u001b[1;31m---------------------------------------------------------------------------\u001b[0m",
      "\u001b[1;31mNameError\u001b[0m                                 Traceback (most recent call last)",
      "Cell \u001b[1;32mIn[35], line 10\u001b[0m\n\u001b[0;32m      8\u001b[0m plt\u001b[39m.\u001b[39msubplot(\u001b[39m5\u001b[39m, \u001b[39m2\u001b[39m, i\u001b[39m*\u001b[39m\u001b[39m2\u001b[39m \u001b[39m+\u001b[39m \u001b[39m2\u001b[39m)\n\u001b[0;32m      9\u001b[0m plt\u001b[39m.\u001b[39mtitle(\u001b[39m\"\u001b[39m\u001b[39mOptimal Weight \u001b[39m\u001b[39m\"\u001b[39m \u001b[39m+\u001b[39m \u001b[39mstr\u001b[39m(i \u001b[39m+\u001b[39m \u001b[39m1\u001b[39m))\n\u001b[1;32m---> 10\u001b[0m plt\u001b[39m.\u001b[39mscatter(masses[optimal, i], fitness[optimal], alpha \u001b[39m=\u001b[39m \u001b[39m0.3\u001b[39m, color \u001b[39m=\u001b[39m \u001b[39m'\u001b[39m\u001b[39m0\u001b[39m\u001b[39m'\u001b[39m)\n\u001b[0;32m     11\u001b[0m plt\u001b[39m.\u001b[39mxlabel(\u001b[39m\"\u001b[39m\u001b[39mMass\u001b[39m\u001b[39m\"\u001b[39m)\n\u001b[0;32m     12\u001b[0m plt\u001b[39m.\u001b[39mylabel(\u001b[39m\"\u001b[39m\u001b[39mFitness\u001b[39m\u001b[39m\"\u001b[39m)\n",
      "\u001b[1;31mNameError\u001b[0m: name 'optimal' is not defined"
     ]
    },
    {
     "data": {
      "image/png": "[encoded data removed]",
      "text/plain": [
       "<Figure size 1500x3000 with 2 Axes>"
      ]
     },
     "metadata": {},
     "output_type": "display_data"
    }
   ],
   "source": [
    "fig = plt.figure(figsize =(15, 30))\n",
    "for i in range(nWeights):\n",
    "    plt.subplot(5, 2, i*2 + 1)\n",
    "    plt.title(\"Weight \" + str(i + 1))\n",
    "    plt.scatter(masses[:, i], fitness, alpha = 0.3, c = fitness, cmap = 'jet')\n",
    "    plt.xlabel(\"Mass\")\n",
    "    plt.ylabel(\"Fitness\")\n",
    "    plt.subplot(5, 2, i*2 + 2)\n",
    "    plt.title(\"Optimal Weight \" + str(i + 1))\n",
    "    plt.scatter(masses[optimal, i], fitness[optimal], alpha = 0.3, color = '0')\n",
    "    plt.xlabel(\"Mass\")\n",
    "    plt.ylabel(\"Fitness\")"
   ]
  },
  {
   "cell_type": "code",
   "execution_count": null,
   "metadata": {},
   "outputs": [],
   "source": [
    "fig = plt.figure(figsize =(10, 10))\n",
    "colors = ['k', 'b', 'g', 'r', 'lime']\n",
    "for i in range(nWeights):\n",
    "    plt.title(\"Weights\")\n",
    "    plt.scatter(masses[:, i], fitness, alpha = 0.6, color = colors[i], label = \"Weight \" + str(i + 1))\n",
    "    plt.xlabel(\"Mass\")\n",
    "    plt.ylabel(\"Fitness\")\n",
    "plt.legend()"
   ]
  },
  {
   "cell_type": "markdown",
   "metadata": {},
   "source": [
    "#### Total mass\n",
    "\n",
    "It's possible to see how worse the solutions get with weights that are outside a determined range."
   ]
  },
  {
   "cell_type": "code",
   "execution_count": null,
   "metadata": {},
   "outputs": [],
   "source": [
    "plt.figure(figsize=(15, 10))\n",
    "plt.grid(which=\"both\")\n",
    "plt.subplot(1, 2, 1)\n",
    "plt.scatter(sumMasses, fitness, alpha = 0.3, color = '0')\n",
    "plt.title(\"Behavior of total mass\")\n",
    "plt.xlabel(\"Total mass\")\n",
    "plt.ylabel(\"Fitness\")\n",
    "plt.subplot(1, 2, 2)\n",
    "plt.title(\"Optimal aggregated mass in kg\")\n",
    "plt.ylabel(\"Mass\")\n",
    "plt.violinplot(sumMasses[optimal])"
   ]
  },
  {
   "attachments": {},
   "cell_type": "markdown",
   "metadata": {},
   "source": [
    "#### Relation between thickness and radius\n",
    "\n",
    "- Once again, it demonstrates that these two variables work together to reach the optimal mass."
   ]
  },
  {
   "cell_type": "code",
   "execution_count": null,
   "metadata": {},
   "outputs": [],
   "source": [
    "plt.figure(figsize=(15, 15))\n",
    "for w in range(1, nWeights + 1):\n",
    "    plt.subplot(3, 2, w)\n",
    "    weight = w - 1\n",
    "    plt.scatter(radiuses[optimal, weight], thicknesses[optimal, weight], c = fitness[optimal], alpha = 0.5, cmap = \"jet\")\n",
    "    plt.xlabel(\"Radius \" + str(w))\n",
    "    plt.ylabel(\"Thickness \" + str(w))"
   ]
  },
  {
   "cell_type": "markdown",
   "metadata": {},
   "source": [
    "#### Fitness \n",
    "\n",
    "This feature is the average of both functions"
   ]
  },
  {
   "cell_type": "code",
   "execution_count": null,
   "metadata": {},
   "outputs": [],
   "source": [
    "plt.figure(figsize = (7, 7))\n",
    "plt.plot(range(np.sum(optimal)), shForces[optimal], c = 'r', alpha = 0.5)\n",
    "plt.scatter(range(np.sum(optimal)), shForces[optimal], c = 'r', alpha = 0.5)\n",
    "plt.plot(range(np.sum(optimal)), fitness[optimal], c = \"0\")\n",
    "plt.scatter(range(np.sum(optimal)), fitness[optimal], c = \"0\")\n",
    "plt.plot(range(np.sum(optimal)), shMoments[optimal], c = 'b', alpha = 0.5)\n",
    "plt.scatter(range(np.sum(optimal)), shMoments[optimal], c = 'b', alpha = 0.5)\n",
    "plt.grid(which=\"both\")"
   ]
  },
  {
   "attachments": {},
   "cell_type": "markdown",
   "metadata": {},
   "source": [
    "#### Pareto front\n",
    "\n",
    "A more common way to show the Pareto front."
   ]
  },
  {
   "cell_type": "code",
   "execution_count": null,
   "metadata": {},
   "outputs": [],
   "source": [
    "plt.figure(figsize = (7, 7))\n",
    "plt.scatter(shForces[optimal], shMoments[optimal], alpha = 0.5, c = fitness[optimal], cmap = \"jet\")\n",
    "plt.title(\"Optimal pareto front\")\n",
    "plt.xlabel(\"Shaking Forces\")\n",
    "plt.ylabel(\"Shaking Moment\")"
   ]
  },
  {
   "cell_type": "code",
   "execution_count": null,
   "metadata": {},
   "outputs": [],
   "source": [
    "plt.figure(figsize = (7, 7))\n",
    "plt.scatter(shForces, shMoments, alpha = 0.5, c = fitness, cmap = \"jet\")\n",
    "plt.xlabel(\"Shaking Forces\")\n",
    "plt.ylabel(\"Shaking Moment\")"
   ]
  },
  {
   "attachments": {},
   "cell_type": "markdown",
   "metadata": {},
   "source": [
    "## Pareto Front comparison"
   ]
  },
  {
   "cell_type": "code",
   "execution_count": null,
   "metadata": {},
   "outputs": [],
   "source": [
    "fitnessTwo = np.loadtxt(\"1676338610Fitness.txt\")\n",
    "shForcesTwo = np.loadtxt(\"1676338610ShForces.txt\")\n",
    "shMomentsTwo = np.loadtxt(\"1676338610ShMoments.txt\")\n",
    "\n",
    "aTwo = shForcesTwo < 1\n",
    "bTwo = shMomentsTwo < 1\n",
    "optimalTwo = np.logical_and(aTwo, bTwo)\n",
    "\n",
    "plt.figure(figsize = (15, 7.5))\n",
    "\n",
    "plt.subplot(1, 2, 1)\n",
    "plt.xlim(0, np.max([np.max([shForces[optimal]]), np.max([shForcesTwo[optimalTwo]])]))\n",
    "plt.ylim(0, np.max([np.max([shMoments[optimal]]), np.max([shMomentsTwo[optimalTwo]])]))\n",
    "plt.scatter(shForces[optimal], shMoments[optimal], alpha = 0.5, c = fitness[optimal], cmap = \"jet\")\n",
    "plt.xlabel(\"Shaking Forces\")\n",
    "plt.ylabel(\"Shaking Moment\")\n",
    "plt.title(\"Current Pareto Front\")\n",
    "\n",
    "plt.subplot(1, 2, 2)\n",
    "plt.xlim(0, np.max([np.max([shForces[optimal]]), np.max([shForcesTwo[optimalTwo]])]))\n",
    "plt.ylim(0, np.max([np.max([shMoments[optimal]]), np.max([shMomentsTwo[optimalTwo]])]))\n",
    "plt.scatter(shForcesTwo[optimalTwo], shMomentsTwo[optimalTwo], alpha = 0.5, c = fitnessTwo[optimalTwo], cmap = \"jet\")\n",
    "plt.xlabel(\"Shaking Forces\")\n",
    "plt.ylabel(\"Shaking Moment\")\n",
    "plt.title(\"Comparison Pareto Front\")"
   ]
  },
  {
   "cell_type": "code",
   "execution_count": null,
   "metadata": {},
   "outputs": [],
   "source": [
    "plt.figure(figsize = (7, 7))\n",
    "\n",
    "plt.xlim(0, np.max([np.max([shForces[optimal]]), np.max([shForcesTwo[optimalTwo]])]))\n",
    "plt.ylim(0, np.max([np.max([shMoments[optimal]]), np.max([shMomentsTwo[optimalTwo]])]))\n",
    "plt.scatter(shForcesTwo[optimalTwo], shMomentsTwo[optimalTwo], c = fitnessTwo[optimalTwo], cmap = \"jet\", marker=\"x\", s = 2)\n",
    "#plt.scatter(shForcesTwo[optimalTwo], shMomentsTwo[optimalTwo])\n",
    "plt.scatter(shForces[optimal], shMoments[optimal], c = fitness[optimal], cmap = \"jet\", marker = 'o')\n",
    "plt.xlabel(\"Shaking Forces\")\n",
    "plt.ylabel(\"Shaking Moment\")\n",
    "plt.title(\"Comparison Pareto Front\")"
   ]
  }
 ],
 "metadata": {
  "kernelspec": {
   "display_name": "pyTorch-gpu",
   "language": "python",
   "name": "python3"
  },
  "language_info": {
   "codemirror_mode": {
    "name": "ipython",
    "version": 3
   },
   "file_extension": ".py",
   "mimetype": "text/x-python",
   "name": "python",
   "nbconvert_exporter": "python",
   "pygments_lexer": "ipython3",
   "version": "3.9.16"
  },
  "orig_nbformat": 4,
  "vscode": {
   "interpreter": {
    "hash": "a5894844b2d2ed0dfa0303dd3da765415d62adce6c74979413b2b103f5e23799"
   }
  }
 },
 "nbformat": 4,
 "nbformat_minor": 2
}
