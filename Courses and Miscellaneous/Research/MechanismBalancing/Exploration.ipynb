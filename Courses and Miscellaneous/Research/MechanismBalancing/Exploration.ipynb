{
 "cells": [
  {
   "attachments": {},
   "cell_type": "markdown",
   "metadata": {},
   "source": [
    "# Six-bar mechanism balancing"
   ]
  },
  {
   "cell_type": "code",
   "execution_count": 1,
   "metadata": {},
   "outputs": [],
   "source": [
    "from BetaShF import *\n",
    "from BetaShM import *\n",
    "from sklearn.decomposition import PCA\n",
    "import matplotlib.pyplot as plt\n",
    "import plotly.express as px\n",
    "import numpy as np\n",
    "import scipy as sp\n",
    "import time\n",
    "from np_differential_evolution import differential_evolution\n",
    "from cnsg_differential_evolution import cnsg_differential_evolution\n",
    "\n",
    "assert ShF([0, 0, 0, 0, 0, 0, 0, 0, 0, 0, 0, 0, 0, 0, 0]) == 1.0\n",
    "assert ShM([0, 0, 0, 0, 0, 0, 0, 0, 0, 0, 0, 0, 0, 0, 0]) == 1.0\n",
    "np.random.seed(1)"
   ]
  },
  {
   "cell_type": "markdown",
   "metadata": {},
   "source": [
    "## Util"
   ]
  },
  {
   "cell_type": "code",
   "execution_count": 2,
   "metadata": {},
   "outputs": [],
   "source": [
    "def cleanData(samples, fitness, forces, moments):\n",
    "    filterF = forces < 1\n",
    "    filterM = moments < 1\n",
    "    f = np.logical_and(filterF, filterM)\n",
    "    print(f.shape)\n",
    "    return samples[f], fitness[f], forces[f], moments[f]"
   ]
  },
  {
   "cell_type": "code",
   "execution_count": 3,
   "metadata": {},
   "outputs": [],
   "source": [
    "def saveData(samples, fitness, forces, moments):\n",
    "    now = str(int(time.time()))\n",
    "    np.savetxt(now + \"Population.txt\", samples)\n",
    "    np.savetxt(now + \"Fitness.txt\", fitness)\n",
    "    np.savetxt(now + \"ShForces.txt\", forces)\n",
    "    np.savetxt(now + \"ShMoments.txt\", moments)\n",
    "    return now"
   ]
  },
  {
   "cell_type": "code",
   "execution_count": 4,
   "metadata": {},
   "outputs": [],
   "source": [
    "def logSample(now, sample, fitness, force, moment):\n",
    "    def appendToFile(name, text): \n",
    "        with open(name, \"a\") as f:\n",
    "            f.write(text + '\\n')\n",
    "    s = \"\"\n",
    "    for x in sample: s += str(x) + \" \"\n",
    "    appendToFile(now + \"Population.txt\", s)\n",
    "    appendToFile(now + \"Fitness.txt\", str(fitness))\n",
    "    appendToFile(now + \"ShForces.txt\", str(force))\n",
    "    appendToFile(now + \"ShMoments.txt\", str(moment))"
   ]
  },
  {
   "attachments": {},
   "cell_type": "markdown",
   "metadata": {},
   "source": [
    "## Problem definition"
   ]
  },
  {
   "cell_type": "markdown",
   "metadata": {},
   "source": [
    "#### Constraints\n",
    "\n",
    "$$ -0.16m \\leq x_{cn}, y_{cn} \\leq 0.16m $$\n",
    "\n",
    "$$ 0.005m \\leq t_{cn} \\leq 0.04m $$"
   ]
  },
  {
   "cell_type": "markdown",
   "metadata": {},
   "source": [
    "#### Objective function"
   ]
  },
  {
   "attachments": {},
   "cell_type": "markdown",
   "metadata": {},
   "source": [
    "$$\n",
    "f(x) = \\alpha ShF(x) + (1 - \\alpha) ShM(x)\n",
    "$$\n",
    "$$\n",
    "\\therefore \\alpha = \\frac{f(x) - ShM(x)}{ShF(x) - ShM(x)}\n",
    "$$"
   ]
  },
  {
   "cell_type": "code",
   "execution_count": 5,
   "metadata": {},
   "outputs": [],
   "source": [
    "def objective(s, ShF, ShM, alpha):\n",
    "    return (alpha)*ShF(s) + (1 - alpha)*ShM(s)"
   ]
  },
  {
   "attachments": {},
   "cell_type": "markdown",
   "metadata": {},
   "source": [
    "## Sample generation"
   ]
  },
  {
   "cell_type": "code",
   "execution_count": 6,
   "metadata": {},
   "outputs": [],
   "source": [
    "#nSamples, nGen = 300, 500 # Tune here\n",
    "nSamples, nGen = 100, 500 # Tune here\n",
    "\n",
    "nVariables = 15\n",
    "nWeights = nVariables // 3\n",
    "samples = np.zeros((nSamples, nVariables))\n",
    "bounds = np.zeros((nVariables, 2))\n",
    "fitness = np.zeros((nSamples))\n",
    "shForces = np.zeros((nSamples))\n",
    "shMoments = np.zeros((nSamples))"
   ]
  },
  {
   "cell_type": "markdown",
   "metadata": {},
   "source": [
    "### Differential Evolution"
   ]
  },
  {
   "attachments": {},
   "cell_type": "markdown",
   "metadata": {},
   "source": [
    "#### Define boundaries"
   ]
  },
  {
   "cell_type": "code",
   "execution_count": 7,
   "metadata": {},
   "outputs": [
    {
     "name": "stdout",
     "output_type": "stream",
     "text": [
      "[[-0.16   0.16 ]\n",
      " [-0.16   0.16 ]\n",
      " [ 0.005  0.04 ]\n",
      " [-0.16   0.16 ]\n",
      " [-0.16   0.16 ]\n",
      " [ 0.005  0.04 ]\n",
      " [-0.16   0.16 ]\n",
      " [-0.16   0.16 ]\n",
      " [ 0.005  0.04 ]\n",
      " [-0.16   0.16 ]\n",
      " [-0.16   0.16 ]\n",
      " [ 0.005  0.04 ]\n",
      " [-0.16   0.16 ]\n",
      " [-0.16   0.16 ]\n",
      " [ 0.005  0.04 ]]\n"
     ]
    }
   ],
   "source": [
    "for v in range(nVariables):\n",
    "    bounds[v] = [0.005, 0.04] if (v + 1) % 3 == 0 else [-0.16, 0.16]\n",
    "print(bounds)"
   ]
  },
  {
   "cell_type": "code",
   "execution_count": 8,
   "metadata": {},
   "outputs": [
    {
     "name": "stdout",
     "output_type": "stream",
     "text": [
      "Saving data with the prefix: 1676302198\n",
      "Sample 0:\tshF: 0.05821756310742721\tshM: 1.4432163818823391\talpha = 0.8248690727326484\n",
      "Sample 1:\tshF: 0.7561766000063185\tshM: 0.27418326634003076\talpha = 0.37764871726998495\n",
      "Sample 2:\tshF: 0.7966349391175427\tshM: 0.2519307687640336\talpha = 0.32822802883295155\n",
      "Sample 3:\tshF: 0.6708992226309645\tshM: 0.33433016861927156\talpha = 0.4412843285609496\n",
      "Sample 4:\tshF: 0.7510117134744076\tshM: 0.27732108381450515\talpha = 0.38252178369851314\n",
      "Sample 5:\tshF: 0.44101738424887477\tshM: 0.5489622389901959\talpha = 0.5102344571777618\n",
      "Sample 6:\tshF: 0.0829721736436574\tshM: 0.9872488571869961\talpha = 0.6363422463752267\n",
      "Sample 7:\tshF: 0.8392301663800743\tshM: 0.23429117148485618\talpha = 0.2527040606706909\n",
      "Sample 8:\tshF: 0.18962728279285418\tshM: 0.832917500588421\talpha = 0.554632260716062\n",
      "Sample 9:\tshF: 0.38710529242528546\tshM: 0.6062560309259302\talpha = 0.5189766376896867\n",
      "Sample 10:\tshF: 0.8244515598877153\tshM: 0.2396975124303039\talpha = 0.2834822289476037\n",
      "Sample 11:\tshF: 0.06947293296452722\tshM: 1.0656749169141388\talpha = 0.7025046124252209\n",
      "Sample 12:\tshF: 0.060342054858588255\tshM: 1.1548848468275263\talpha = 0.7142671472872445\n",
      "Sample 13:\tshF: 0.05869815469638714\tshM: 1.280812075443883\talpha = 0.7814687825850002\n",
      "Sample 14:\tshF: 0.06835771826286481\tshM: 1.0453629146565038\talpha = 0.6968855625014132\n",
      "Sample 15:\tshF: 0.5819733563893081\tshM: 0.4105154318490922\talpha = 0.4774539169602115\n",
      "Sample 16:\tshF: 0.2551571136454558\tshM: 0.7544464165426257\talpha = 0.5383896829216013\n",
      "Sample 17:\tshF: 0.07902060325581974\tshM: 1.1612554917146811\talpha = 0.7381969595387519\n",
      "Sample 18:\tshF: 0.7636001694296263\tshM: 0.2698125585507558\talpha = 0.3682852207877959\n",
      "Sample 19:\tshF: 0.07235773176443343\tshM: 1.1051497408195732\talpha = 0.7693495012840281\n",
      "Sample 20:\tshF: 0.833085551469634\tshM: 0.23643100341486414\talpha = 0.26386740224840327\n",
      "Sample 21:\tshF: 0.894842118436127\tshM: 0.2217394244553111\talpha = 0.10043573586061827\n"
     ]
    }
   ],
   "source": [
    "eTimeDE, goodSols = 0, 0\n",
    "startTime = str(int(time.time()))\n",
    "print(\"Saving data with the prefix:\", startTime)\n",
    "for s in range(nSamples):\n",
    "    alpha = np.random.normal(0.5, 0.20) # To get values near 0.5\n",
    "    alpha = np.min([1, np.max([0, alpha])]) # Box constraints [0, 1]\n",
    "    start = time.perf_counter()\n",
    "    r = differential_evolution(objective, bounds, popSize = 50, nMax = nGen, args = (ShF, ShM, alpha), cR = 0.7)\n",
    "    #r = sp.optimize.differential_evolution(objective, bounds, args = (ShF, ShM, alpha), maxiter = nGen, popsize = 50, polish = False)\n",
    "    #r = cnsg_differential_evolution(objective, bounds, args = (ShF, ShM, alpha), MaxGenerations = nGen, popsize = 50)\n",
    "    end = time.perf_counter()\n",
    "    sample, fitness, force, moment = r['x'], r[\"fun\"], ShF(r['x']), ShM(r['x'])\n",
    "    #sample, fitness, force, moment = r.x, r.fun, ShF(r.x), ShM(r.x)\n",
    "    #sample, fitness, force, moment = r, objective(r, ShF, ShM, alpha), ShF(r), ShM(r)\n",
    "    if force < 1 and moment < 1:\n",
    "        goodSols += 1\n",
    "        logSample(startTime, sample, fitness, force, moment)\n",
    "    print(\"Sample \", s, \":\\tshF: \", force, \"\\tshM: \", moment, \"\\talpha = \", alpha, sep = \"\")\n",
    "    eTimeDE += (end - start) #Time in seconds\n",
    "eTimeDE /= nSamples"
   ]
  },
  {
   "cell_type": "code",
   "execution_count": null,
   "metadata": {},
   "outputs": [],
   "source": [
    "print(\"Average time of execution:\", eTimeDE, \"seconds. It was run\", nSamples, \"times.\")"
   ]
  },
  {
   "cell_type": "code",
   "execution_count": null,
   "metadata": {},
   "outputs": [],
   "source": [
    "print(\"Went from \", nSamples, \" samples to \", goodSols, \" after cleaning data\", sep = \"\")"
   ]
  },
  {
   "cell_type": "markdown",
   "metadata": {},
   "source": [
    "### Pymoo"
   ]
  },
  {
   "cell_type": "code",
   "execution_count": null,
   "metadata": {},
   "outputs": [],
   "source": [
    "from pymoo.core.problem import ElementwiseProblem\n",
    "from pymoo.algorithms.moo.nsga2 import NSGA2\n",
    "from pymoo.operators.crossover.ux import UniformCrossover\n",
    "from pymoo.operators.mutation.pm import PM\n",
    "from pymoo.operators.sampling.rnd import FloatRandomSampling\n",
    "from pymoo.termination import get_termination\n",
    "from pymoo.optimize import minimize"
   ]
  },
  {
   "cell_type": "code",
   "execution_count": null,
   "metadata": {},
   "outputs": [],
   "source": [
    "class MyProblem(ElementwiseProblem):\n",
    "\n",
    "    def __init__(self):\n",
    "        super().__init__(n_var=nVariables,\n",
    "                         n_obj=2,\n",
    "                         n_ieq_constr=0,\n",
    "                         xl=bounds[:, 0],\n",
    "                         xu=bounds[:, 1]\n",
    "        )\n",
    "\n",
    "    def _evaluate(self, x, out, *args, **kwargs):\n",
    "        f1 = ShF(x)\n",
    "        f2 = ShM(x)\n",
    "\n",
    "        out[\"F\"] = [f1, f2]\n",
    "        out[\"G\"] = []\n",
    "\n",
    "\n",
    "problem = MyProblem()"
   ]
  },
  {
   "cell_type": "code",
   "execution_count": null,
   "metadata": {},
   "outputs": [],
   "source": [
    "algorithm = NSGA2(\n",
    "    pop_size=nSamples, \n",
    "    #n_offsprings=nSamples, # Default is none and sets n_offsprings = pop_size\n",
    "    sampling=FloatRandomSampling(),\n",
    "    crossover=UniformCrossover(prob=0.75),\n",
    "    mutation=PM(eta=20),\n",
    "    eliminate_duplicates=True\n",
    ")"
   ]
  },
  {
   "cell_type": "code",
   "execution_count": null,
   "metadata": {},
   "outputs": [],
   "source": [
    "termination = get_termination(\"n_gen\", nGen)"
   ]
  },
  {
   "cell_type": "code",
   "execution_count": null,
   "metadata": {},
   "outputs": [],
   "source": [
    "start = time.perf_counter()\n",
    "res = minimize(problem,\n",
    "               algorithm,\n",
    "               termination,\n",
    "               seed=1,\n",
    "               save_history=True,\n",
    "               verbose=True)\n",
    "end = time.perf_counter() \n",
    "eTimeMOO = (end - start)\n",
    "\n",
    "X = res.X\n",
    "F = res.F"
   ]
  },
  {
   "cell_type": "code",
   "execution_count": null,
   "metadata": {},
   "outputs": [],
   "source": [
    "print(\"Time of execution:\", eTimeMOO, \"seconds.\")"
   ]
  },
  {
   "cell_type": "code",
   "execution_count": null,
   "metadata": {},
   "outputs": [],
   "source": [
    "print(X.shape)\n",
    "print(F.shape)\n",
    "samples = np.copy(X)\n",
    "fitness = np.average(F, axis = 1)\n",
    "shForces = F[:, 0]\n",
    "shMoments = F[:, 1]"
   ]
  },
  {
   "cell_type": "code",
   "execution_count": null,
   "metadata": {},
   "outputs": [],
   "source": [
    "samples, fitness, shForces, shMoments = cleanData(samples, fitness, shForces, shMoments)\n",
    "print(\"Went from \", nSamples, \" samples to \", samples.shape[0], \" after cleaning data\", sep = \"\")"
   ]
  },
  {
   "cell_type": "code",
   "execution_count": null,
   "metadata": {},
   "outputs": [],
   "source": [
    "prefix = saveData(samples, fitness, shForces, shMoments)\n",
    "print(\"Saving data with the prefix:\", prefix)"
   ]
  }
 ],
 "metadata": {
  "kernelspec": {
   "display_name": "pyTorch-gpu",
   "language": "python",
   "name": "python3"
  },
  "language_info": {
   "codemirror_mode": {
    "name": "ipython",
    "version": 3
   },
   "file_extension": ".py",
   "mimetype": "text/x-python",
   "name": "python",
   "nbconvert_exporter": "python",
   "pygments_lexer": "ipython3",
   "version": "3.9.16"
  },
  "orig_nbformat": 4,
  "vscode": {
   "interpreter": {
    "hash": "a5894844b2d2ed0dfa0303dd3da765415d62adce6c74979413b2b103f5e23799"
   }
  }
 },
 "nbformat": 4,
 "nbformat_minor": 2
}
