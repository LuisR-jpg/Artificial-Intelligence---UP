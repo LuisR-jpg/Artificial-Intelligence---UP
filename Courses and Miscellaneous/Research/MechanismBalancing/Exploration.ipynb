{
 "cells": [
  {
   "attachments": {},
   "cell_type": "markdown",
   "metadata": {},
   "source": [
    "# Six-bar mechanism balancing"
   ]
  },
  {
   "cell_type": "code",
   "execution_count": 1,
   "metadata": {},
   "outputs": [],
   "source": [
    "from BetaShF import *\n",
    "from BetaShM import *\n",
    "from sklearn.decomposition import PCA\n",
    "import matplotlib.pyplot as plt\n",
    "import plotly.express as px\n",
    "import numpy as np\n",
    "import scipy as sp\n",
    "import time\n",
    "from np_differential_evolution import differential_evolution\n",
    "from cnsg_differential_evolution import cnsg_differential_evolution\n",
    "\n",
    "assert ShF([0, 0, 0, 0, 0, 0, 0, 0, 0, 0, 0, 0, 0, 0, 0]) == 1.0\n",
    "assert ShM([0, 0, 0, 0, 0, 0, 0, 0, 0, 0, 0, 0, 0, 0, 0]) == 1.0\n",
    "np.random.seed(1)"
   ]
  },
  {
   "cell_type": "markdown",
   "metadata": {},
   "source": [
    "## Util"
   ]
  },
  {
   "cell_type": "code",
   "execution_count": 2,
   "metadata": {},
   "outputs": [],
   "source": [
    "def cleanData(samples, fitness, forces, moments):\n",
    "    filterF = forces < 1\n",
    "    filterM = moments < 1\n",
    "    f = np.logical_and(filterF, filterM)\n",
    "    print(f.shape)\n",
    "    return samples[f], fitness[f], forces[f], moments[f]"
   ]
  },
  {
   "cell_type": "code",
   "execution_count": 3,
   "metadata": {},
   "outputs": [],
   "source": [
    "def saveData(samples, fitness, forces, moments):\n",
    "    now = str(int(time.time()))\n",
    "    np.savetxt(now + \"Population.txt\", samples)\n",
    "    np.savetxt(now + \"Fitness.txt\", fitness)\n",
    "    np.savetxt(now + \"ShForces.txt\", forces)\n",
    "    np.savetxt(now + \"ShMoments.txt\", moments)\n",
    "    return now"
   ]
  },
  {
   "cell_type": "code",
   "execution_count": 4,
   "metadata": {},
   "outputs": [],
   "source": [
    "def logSample(now, sample, fitness, force, moment):\n",
    "    def appendToFile(name, text): \n",
    "        with open(name, \"a\") as f:\n",
    "            f.write(text + '\\n')\n",
    "    s = \"\"\n",
    "    for x in sample: s += str(x) + \" \"\n",
    "    appendToFile(now + \"Population.txt\", s)\n",
    "    appendToFile(now + \"Fitness.txt\", str(fitness))\n",
    "    appendToFile(now + \"ShForces.txt\", str(force))\n",
    "    appendToFile(now + \"ShMoments.txt\", str(moment))"
   ]
  },
  {
   "attachments": {},
   "cell_type": "markdown",
   "metadata": {},
   "source": [
    "## Problem definition"
   ]
  },
  {
   "cell_type": "markdown",
   "metadata": {},
   "source": [
    "#### Constraints\n",
    "\n",
    "$$ -0.16m \\leq x_{cn}, y_{cn} \\leq 0.16m $$\n",
    "\n",
    "$$ 0.005m \\leq t_{cn} \\leq 0.04m $$"
   ]
  },
  {
   "cell_type": "markdown",
   "metadata": {},
   "source": [
    "#### Objective function"
   ]
  },
  {
   "attachments": {},
   "cell_type": "markdown",
   "metadata": {},
   "source": [
    "$$\n",
    "f(x) = \\alpha ShF(x) + (1 - \\alpha) ShM(x)\n",
    "$$\n",
    "$$\n",
    "\\therefore \\alpha = \\frac{f(x) - ShM(x)}{ShF(x) - ShM(x)}\n",
    "$$"
   ]
  },
  {
   "cell_type": "code",
   "execution_count": 5,
   "metadata": {},
   "outputs": [],
   "source": [
    "def objective(s, ShF, ShM, alpha):\n",
    "    return (alpha)*ShF(s) + (1 - alpha)*ShM(s)"
   ]
  },
  {
   "attachments": {},
   "cell_type": "markdown",
   "metadata": {},
   "source": [
    "## Sample generation"
   ]
  },
  {
   "cell_type": "code",
   "execution_count": 6,
   "metadata": {},
   "outputs": [],
   "source": [
    "#nSamples, nGen = 300, 500 # Tune here\n",
    "nSamples, nGen = 100, 500 # Tune here\n",
    "\n",
    "nVariables = 15\n",
    "nWeights = nVariables // 3\n",
    "samples = np.zeros((nSamples, nVariables))\n",
    "bounds = np.zeros((nVariables, 2))\n",
    "fitness = np.zeros((nSamples))\n",
    "shForces = np.zeros((nSamples))\n",
    "shMoments = np.zeros((nSamples))"
   ]
  },
  {
   "cell_type": "markdown",
   "metadata": {},
   "source": [
    "### Differential Evolution"
   ]
  },
  {
   "attachments": {},
   "cell_type": "markdown",
   "metadata": {},
   "source": [
    "#### Define boundaries"
   ]
  },
  {
   "cell_type": "code",
   "execution_count": 7,
   "metadata": {},
   "outputs": [
    {
     "name": "stdout",
     "output_type": "stream",
     "text": [
      "[[-0.16   0.16 ]\n",
      " [-0.16   0.16 ]\n",
      " [ 0.005  0.04 ]\n",
      " [-0.16   0.16 ]\n",
      " [-0.16   0.16 ]\n",
      " [ 0.005  0.04 ]\n",
      " [-0.16   0.16 ]\n",
      " [-0.16   0.16 ]\n",
      " [ 0.005  0.04 ]\n",
      " [-0.16   0.16 ]\n",
      " [-0.16   0.16 ]\n",
      " [ 0.005  0.04 ]\n",
      " [-0.16   0.16 ]\n",
      " [-0.16   0.16 ]\n",
      " [ 0.005  0.04 ]]\n"
     ]
    }
   ],
   "source": [
    "for v in range(nVariables):\n",
    "    bounds[v] = [0.005, 0.04] if (v + 1) % 3 == 0 else [-0.16, 0.16]\n",
    "print(bounds)"
   ]
  },
  {
   "cell_type": "code",
   "execution_count": 8,
   "metadata": {},
   "outputs": [
    {
     "name": "stdout",
     "output_type": "stream",
     "text": [
      "Saving data with the prefix: 1676302198\n",
      "Sample 0:\tshF: 0.05821756310742721\tshM: 1.4432163818823391\talpha = 0.8248690727326484\n",
      "Sample 1:\tshF: 0.7561766000063185\tshM: 0.27418326634003076\talpha = 0.37764871726998495\n",
      "Sample 2:\tshF: 0.7966349391175427\tshM: 0.2519307687640336\talpha = 0.32822802883295155\n",
      "Sample 3:\tshF: 0.6708992226309645\tshM: 0.33433016861927156\talpha = 0.4412843285609496\n",
      "Sample 4:\tshF: 0.7510117134744076\tshM: 0.27732108381450515\talpha = 0.38252178369851314\n",
      "Sample 5:\tshF: 0.44101738424887477\tshM: 0.5489622389901959\talpha = 0.5102344571777618\n",
      "Sample 6:\tshF: 0.0829721736436574\tshM: 0.9872488571869961\talpha = 0.6363422463752267\n",
      "Sample 7:\tshF: 0.8392301663800743\tshM: 0.23429117148485618\talpha = 0.2527040606706909\n",
      "Sample 8:\tshF: 0.18962728279285418\tshM: 0.832917500588421\talpha = 0.554632260716062\n",
      "Sample 9:\tshF: 0.38710529242528546\tshM: 0.6062560309259302\talpha = 0.5189766376896867\n",
      "Sample 10:\tshF: 0.8244515598877153\tshM: 0.2396975124303039\talpha = 0.2834822289476037\n",
      "Sample 11:\tshF: 0.06947293296452722\tshM: 1.0656749169141388\talpha = 0.7025046124252209\n",
      "Sample 12:\tshF: 0.060342054858588255\tshM: 1.1548848468275263\talpha = 0.7142671472872445\n",
      "Sample 13:\tshF: 0.05869815469638714\tshM: 1.280812075443883\talpha = 0.7814687825850002\n",
      "Sample 14:\tshF: 0.06835771826286481\tshM: 1.0453629146565038\talpha = 0.6968855625014132\n",
      "Sample 15:\tshF: 0.5819733563893081\tshM: 0.4105154318490922\talpha = 0.4774539169602115\n",
      "Sample 16:\tshF: 0.2551571136454558\tshM: 0.7544464165426257\talpha = 0.5383896829216013\n",
      "Sample 17:\tshF: 0.07902060325581974\tshM: 1.1612554917146811\talpha = 0.7381969595387519\n",
      "Sample 18:\tshF: 0.7636001694296263\tshM: 0.2698125585507558\talpha = 0.3682852207877959\n",
      "Sample 19:\tshF: 0.07235773176443343\tshM: 1.1051497408195732\talpha = 0.7693495012840281\n",
      "Sample 20:\tshF: 0.833085551469634\tshM: 0.23643100341486414\talpha = 0.26386740224840327\n",
      "Sample 21:\tshF: 0.894842118436127\tshM: 0.2217394244553111\talpha = 0.10043573586061827\n",
      "Sample 22:\tshF: 0.09916507971909386\tshM: 1.0148765539201252\talpha = 0.6055012526747098\n",
      "Sample 23:\tshF: 0.07488322901085245\tshM: 1.1626538489124183\talpha = 0.7016549507767861\n",
      "Sample 24:\tshF: 0.8198097092207584\tshM: 0.24154636776583316\talpha = 0.2899153070218898\n",
      "Sample 25:\tshF: 0.1046526236429265\tshM: 1.0172577438777963\talpha = 0.6357057362342273\n",
      "Sample 26:\tshF: 0.524997865952732\tshM: 0.46428386279223427\talpha = 0.4933224507675612\n",
      "Sample 27:\tshF: 0.2577345422609725\tshM: 0.7529399445645643\talpha = 0.5385167426849764\n",
      "Sample 28:\tshF: 0.8233619120325844\tshM: 0.24011709455272998\talpha = 0.28486883601572605\n",
      "Sample 29:\tshF: 0.7156559256367778\tshM: 0.3007928597536317\talpha = 0.4128329598558167\n",
      "Sample 30:\tshF: 0.11283402196971695\tshM: 0.9349965675798395\talpha = 0.5730964430539223\n",
      "Sample 31:\tshF: 0.8685741895316608\tshM: 0.2263556720947665\talpha = 0.19492531047773154\n",
      "Sample 32:\tshF: 0.7240820508122935\tshM: 0.2949385133390487\talpha = 0.40612016401451356\n",
      "Sample 33:\tshF: 0.5625140788691856\tshM: 0.42884650418616344\talpha = 0.48571306644972806\n",
      "Sample 34:\tshF: 0.08957982399471905\tshM: 0.9674571863241556\talpha = 0.6161771522598268\n",
      "Sample 35:\tshF: 0.18401954945206314\tshM: 0.8439367442769048\talpha = 0.5528185053721106\n",
      "Sample 36:\tshF: 0.05863474554631004\tshM: 1.1547393600035007\talpha = 0.7445439708265731\n",
      "Sample 37:\tshF: 0.7930888246623922\tshM: 0.25379951677835977\talpha = 0.33003246830876476\n",
      "Sample 38:\tshF: 0.8572144135569012\tshM: 0.22887095188822718\talpha = 0.2045998496008235\n",
      "Sample 39:\tshF: 0.8610275327052084\tshM: 0.2279340406044581\talpha = 0.1992800081803316\n",
      "Sample 40:\tshF: 0.553728318366331\tshM: 0.43675014894292025\talpha = 0.48639607781752886\n",
      "Sample 41:\tshF: 0.8001973649599929\tshM: 0.25029411437680604\talpha = 0.3263379692408517\n",
      "Sample 42:\tshF: 0.22454069816680028\tshM: 0.7908904433454537\talpha = 0.5416725298601879\n",
      "Sample 43:\tshF: 0.7672141886878068\tshM: 0.2676407648379853\talpha = 0.36277357183812076\n",
      "Sample 44:\tshF: 0.0894167227931876\tshM: 0.9733890057033519\talpha = 0.6167927934725809\n",
      "Sample 45:\tshF: 0.06309778408663543\tshM: 1.210907600515856\talpha = 0.7460484884628129\n",
      "Sample 46:\tshF: 0.9011616609265749\tshM: 0.2211269201081317\talpha = 0.07722465969874431\n",
      "Sample 47:\tshF: 0.7554046452657\tshM: 0.2747336102418066\talpha = 0.38089081617814735\n",
      "Sample 48:\tshF: 0.06690121818093084\tshM: 1.0685414224204361\talpha = 0.6385136690032609\n",
      "Sample 49:\tshF: 0.18628355378038955\tshM: 0.8391093697865513\talpha = 0.5515619413521138\n",
      "Sample 50:\tshF: 0.7758007627871336\tshM: 0.26277397634105837\talpha = 0.355607146104466\n",
      "Sample 51:\tshF: 0.095924773038282\tshM: 0.9768508835126336\talpha = 0.6290549963830893\n",
      "Sample 52:\tshF: 0.8108474224925103\tshM: 0.24533614355074626\talpha = 0.30573058796223934\n",
      "Sample 53:\tshF: 0.8143674625882285\tshM: 0.24382890187664474\talpha = 0.29669476751029344\n",
      "Sample 54:\tshF: 0.8681601349237861\tshM: 0.22622728475893178\talpha = 0.18299201084296385\n",
      "Sample 55:\tshF: 0.6063582885125142\tshM: 0.38860128230993224\talpha = 0.46883443998338636\n",
      "Sample 56:\tshF: 0.6848995946979164\tshM: 0.32346947025349115\talpha = 0.43454470949912966\n",
      "Sample 57:\tshF: 0.3874313411018986\tshM: 0.6058925027662722\talpha = 0.5205982027990415\n",
      "Sample 58:\tshF: 0.5951676420342485\tshM: 0.3985725324279049\talpha = 0.4741597944689455\n",
      "Sample 59:\tshF: 0.8619675670080198\tshM: 0.22765717071272953\talpha = 0.19761202842497005\n",
      "Sample 60:\tshF: 0.44671852851157773\tshM: 0.5431767046507187\talpha = 0.5084669406965272\n",
      "Sample 61:\tshF: 0.09997433041508358\tshM: 0.9481708171329635\talpha = 0.5914234115783001\n",
      "Sample 62:\tshF: 0.777524318884819\tshM: 0.2618537318249028\talpha = 0.3572982093798477\n",
      "Sample 63:\tshF: 0.06060635394839898\tshM: 1.3339218004498719\talpha = 0.7798589477924859\n",
      "Sample 64:\tshF: 0.24616973200309206\tshM: 0.7650198300917015\talpha = 0.5387701995310081\n",
      "Sample 65:\tshF: 0.05391658166770556\tshM: 1.4444572797368018\talpha = 0.9033835927392107\n",
      "Sample 66:\tshF: 0.8647064515284502\tshM: 0.2270833577097345\talpha = 0.19004487364496853\n",
      "Sample 67:\tshF: 0.7858757625460515\tshM: 0.25739153830203987\talpha = 0.3445313203262106\n",
      "Sample 68:\tshF: 0.1164284821694998\tshM: 0.9281735487933278\talpha = 0.5855856903430829\n",
      "Sample 69:\tshF: 0.8112033856648989\tshM: 0.24521388667178323\talpha = 0.298748053748374\n",
      "Sample 70:\tshF: 0.6671218112213829\tshM: 0.33734298262761936\talpha = 0.44234659848627406\n",
      "Sample 71:\tshF: 0.8348748684811067\tshM: 0.23579088075587684\talpha = 0.2607281448906206\n",
      "Sample 72:\tshF: 0.0803376055279471\tshM: 0.9848873423335417\talpha = 0.6123063913962863\n",
      "Sample 73:\tshF: 0.873221206935181\tshM: 0.22512974266041594\talpha = 0.16810686304724737\n",
      "Sample 74:\tshF: 0.1309517010822412\tshM: 0.9174330658078109\talpha = 0.575851250054795\n",
      "Sample 75:\tshF: 0.7430044395941756\tshM: 0.2823838345719857\talpha = 0.3912411094696532\n",
      "Sample 76:\tshF: 0.7458079129363187\tshM: 0.28059055490762536\talpha = 0.38693631376523346\n",
      "Sample 77:\tshF: 0.05738985836357155\tshM: 1.097990243576979\talpha = 0.7252779518494752\n",
      "Sample 78:\tshF: 0.0604992761685257\tshM: 1.1833223844392704\talpha = 0.727142049546401\n",
      "Sample 79:\tshF: 0.7044505634715916\tshM: 0.3088260717101237\talpha = 0.42143181662921964\n",
      "Sample 80:\tshF: 0.08143177333258622\tshM: 0.9756260307312966\talpha = 0.6066497101175896\n",
      "Sample 81:\tshF: 0.05163585823515083\tshM: 1.299460818760066\talpha = 0.8619650057651169\n"
     ]
    }
   ],
   "source": [
    "eTimeDE, goodSols = 0, 0\n",
    "startTime = str(int(time.time()))\n",
    "print(\"Saving data with the prefix:\", startTime)\n",
    "for s in range(nSamples):\n",
    "    alpha = np.random.normal(0.5, 0.20) # To get values near 0.5\n",
    "    alpha = np.min([1, np.max([0, alpha])]) # Box constraints [0, 1]\n",
    "    start = time.perf_counter()\n",
    "    r = differential_evolution(objective, bounds, popSize = 50, nMax = nGen, args = (ShF, ShM, alpha), cR = 0.7)\n",
    "    #r = sp.optimize.differential_evolution(objective, bounds, args = (ShF, ShM, alpha), maxiter = nGen, popsize = 50, polish = False)\n",
    "    #r = cnsg_differential_evolution(objective, bounds, args = (ShF, ShM, alpha), MaxGenerations = nGen, popsize = 50)\n",
    "    end = time.perf_counter()\n",
    "    sample, fitness, force, moment = r['x'], r[\"fun\"], ShF(r['x']), ShM(r['x'])\n",
    "    #sample, fitness, force, moment = r.x, r.fun, ShF(r.x), ShM(r.x)\n",
    "    #sample, fitness, force, moment = r, objective(r, ShF, ShM, alpha), ShF(r), ShM(r)\n",
    "    if force < 1 and moment < 1:\n",
    "        goodSols += 1\n",
    "        logSample(startTime, sample, fitness, force, moment)\n",
    "    print(\"Sample \", s, \":\\tshF: \", force, \"\\tshM: \", moment, \"\\talpha = \", alpha, sep = \"\")\n",
    "    eTimeDE += (end - start) #Time in seconds\n",
    "eTimeDE /= nSamples"
   ]
  },
  {
   "cell_type": "code",
   "execution_count": null,
   "metadata": {},
   "outputs": [],
   "source": [
    "print(\"Average time of execution:\", eTimeDE, \"seconds. It was run\", nSamples, \"times.\")"
   ]
  },
  {
   "cell_type": "code",
   "execution_count": null,
   "metadata": {},
   "outputs": [],
   "source": [
    "print(\"Went from \", nSamples, \" samples to \", goodSols, \" after cleaning data\", sep = \"\")"
   ]
  },
  {
   "cell_type": "markdown",
   "metadata": {},
   "source": [
    "### Pymoo"
   ]
  },
  {
   "cell_type": "code",
   "execution_count": null,
   "metadata": {},
   "outputs": [],
   "source": [
    "from pymoo.core.problem import ElementwiseProblem\n",
    "from pymoo.algorithms.moo.nsga2 import NSGA2\n",
    "from pymoo.operators.crossover.ux import UniformCrossover\n",
    "from pymoo.operators.mutation.pm import PM\n",
    "from pymoo.operators.sampling.rnd import FloatRandomSampling\n",
    "from pymoo.termination import get_termination\n",
    "from pymoo.optimize import minimize"
   ]
  },
  {
   "cell_type": "code",
   "execution_count": null,
   "metadata": {},
   "outputs": [],
   "source": [
    "class MyProblem(ElementwiseProblem):\n",
    "\n",
    "    def __init__(self):\n",
    "        super().__init__(n_var=nVariables,\n",
    "                         n_obj=2,\n",
    "                         n_ieq_constr=0,\n",
    "                         xl=bounds[:, 0],\n",
    "                         xu=bounds[:, 1]\n",
    "        )\n",
    "\n",
    "    def _evaluate(self, x, out, *args, **kwargs):\n",
    "        f1 = ShF(x)\n",
    "        f2 = ShM(x)\n",
    "\n",
    "        out[\"F\"] = [f1, f2]\n",
    "        out[\"G\"] = []\n",
    "\n",
    "\n",
    "problem = MyProblem()"
   ]
  },
  {
   "cell_type": "code",
   "execution_count": null,
   "metadata": {},
   "outputs": [],
   "source": [
    "algorithm = NSGA2(\n",
    "    pop_size=nSamples, \n",
    "    #n_offsprings=nSamples, # Default is none and sets n_offsprings = pop_size\n",
    "    sampling=FloatRandomSampling(),\n",
    "    crossover=UniformCrossover(prob=0.75),\n",
    "    mutation=PM(eta=20),\n",
    "    eliminate_duplicates=True\n",
    ")"
   ]
  },
  {
   "cell_type": "code",
   "execution_count": null,
   "metadata": {},
   "outputs": [],
   "source": [
    "termination = get_termination(\"n_gen\", nGen)"
   ]
  },
  {
   "cell_type": "code",
   "execution_count": null,
   "metadata": {},
   "outputs": [],
   "source": [
    "start = time.perf_counter()\n",
    "res = minimize(problem,\n",
    "               algorithm,\n",
    "               termination,\n",
    "               seed=1,\n",
    "               save_history=True,\n",
    "               verbose=True)\n",
    "end = time.perf_counter() \n",
    "eTimeMOO = (end - start)\n",
    "\n",
    "X = res.X\n",
    "F = res.F"
   ]
  },
  {
   "cell_type": "code",
   "execution_count": null,
   "metadata": {},
   "outputs": [],
   "source": [
    "print(\"Time of execution:\", eTimeMOO, \"seconds.\")"
   ]
  },
  {
   "cell_type": "code",
   "execution_count": null,
   "metadata": {},
   "outputs": [],
   "source": [
    "print(X.shape)\n",
    "print(F.shape)\n",
    "samples = np.copy(X)\n",
    "fitness = np.average(F, axis = 1)\n",
    "shForces = F[:, 0]\n",
    "shMoments = F[:, 1]"
   ]
  },
  {
   "cell_type": "code",
   "execution_count": null,
   "metadata": {},
   "outputs": [],
   "source": [
    "samples, fitness, shForces, shMoments = cleanData(samples, fitness, shForces, shMoments)\n",
    "print(\"Went from \", nSamples, \" samples to \", samples.shape[0], \" after cleaning data\", sep = \"\")"
   ]
  },
  {
   "cell_type": "code",
   "execution_count": null,
   "metadata": {},
   "outputs": [],
   "source": [
    "prefix = saveData(samples, fitness, shForces, shMoments)\n",
    "print(\"Saving data with the prefix:\", prefix)"
   ]
  }
 ],
 "metadata": {
  "kernelspec": {
   "display_name": "pyTorch-gpu",
   "language": "python",
   "name": "python3"
  },
  "language_info": {
   "codemirror_mode": {
    "name": "ipython",
    "version": 3
   },
   "file_extension": ".py",
   "mimetype": "text/x-python",
   "name": "python",
   "nbconvert_exporter": "python",
   "pygments_lexer": "ipython3",
   "version": "3.9.16"
  },
  "orig_nbformat": 4,
  "vscode": {
   "interpreter": {
    "hash": "a5894844b2d2ed0dfa0303dd3da765415d62adce6c74979413b2b103f5e23799"
   }
  }
 },
 "nbformat": 4,
 "nbformat_minor": 2
}
