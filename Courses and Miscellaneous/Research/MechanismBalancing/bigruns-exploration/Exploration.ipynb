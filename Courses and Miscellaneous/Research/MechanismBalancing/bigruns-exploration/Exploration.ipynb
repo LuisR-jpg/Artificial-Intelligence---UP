{
 "cells": [
  {
   "attachments": {},
   "cell_type": "markdown",
   "metadata": {},
   "source": [
    "# Six-bar mechanism balancing"
   ]
  },
  {
   "cell_type": "code",
   "execution_count": 1,
   "metadata": {},
   "outputs": [],
   "source": [
    "from differential_evolution import differential_evolution\n",
    "from BetaShF_population import *\n",
    "from BetaShM_population import *\n",
    "import numpy as np\n",
    "import time\n",
    "\n",
    "assert (ShM(np.zeros((1, 15)) ) == np.ones((10))).all()\n",
    "assert (ShF(np.zeros((1, 15)) ) == np.ones((10))).all()\n",
    "np.random.seed(1)"
   ]
  },
  {
   "cell_type": "markdown",
   "metadata": {},
   "source": [
    "## Util"
   ]
  },
  {
   "cell_type": "code",
   "execution_count": 2,
   "metadata": {},
   "outputs": [],
   "source": [
    "def cleanData(samples, fitness, forces, moments):\n",
    "    filterF = forces < 1\n",
    "    filterM = moments < 1\n",
    "    f = np.logical_and(filterF, filterM)\n",
    "    print(f.shape)\n",
    "    return samples[f], fitness[f], forces[f], moments[f]"
   ]
  },
  {
   "cell_type": "code",
   "execution_count": 3,
   "metadata": {},
   "outputs": [],
   "source": [
    "def saveData(samples, fitness, forces, moments):\n",
    "    now = str(int(time.time()))\n",
    "    np.savetxt(now + \"Population.txt\", samples)\n",
    "    np.savetxt(now + \"Fitness.txt\", fitness)\n",
    "    np.savetxt(now + \"ShForces.txt\", forces)\n",
    "    np.savetxt(now + \"ShMoments.txt\", moments)\n",
    "    return now"
   ]
  },
  {
   "cell_type": "code",
   "execution_count": 4,
   "metadata": {},
   "outputs": [],
   "source": [
    "def logSample(prefix, sample, fitness, force, moment):\n",
    "    def appendToFile(name, text): \n",
    "        with open(name, \"a\") as f:\n",
    "            f.write(text + '\\n')\n",
    "    s = \"\"\n",
    "    for x in sample: s += str(x) + \" \"\n",
    "    appendToFile(prefix + \"Population.txt\", s)\n",
    "    appendToFile(prefix + \"Fitness.txt\", str(fitness))\n",
    "    appendToFile(prefix + \"ShForces.txt\", str(force))\n",
    "    appendToFile(prefix + \"ShMoments.txt\", str(moment))"
   ]
  },
  {
   "attachments": {},
   "cell_type": "markdown",
   "metadata": {},
   "source": [
    "## Problem definition"
   ]
  },
  {
   "cell_type": "markdown",
   "metadata": {},
   "source": [
    "#### Constraints\n",
    "\n",
    "$$ -0.16m \\leq x_{cn}, y_{cn} \\leq 0.16m $$\n",
    "\n",
    "$$ 0.005m \\leq t_{cn} \\leq 0.04m $$"
   ]
  },
  {
   "cell_type": "markdown",
   "metadata": {},
   "source": [
    "#### Objective function"
   ]
  },
  {
   "attachments": {},
   "cell_type": "markdown",
   "metadata": {},
   "source": [
    "$$\n",
    "f(x) = \\alpha ShF(x) + (1 - \\alpha) ShM(x)\n",
    "$$\n",
    "$$\n",
    "\\therefore \\alpha = \\frac{f(x) - ShM(x)}{ShF(x) - ShM(x)}\n",
    "$$"
   ]
  },
  {
   "cell_type": "code",
   "execution_count": 5,
   "metadata": {},
   "outputs": [],
   "source": [
    "def objective(s, ShF, ShM, alpha):\n",
    "    return (alpha)*ShF(s) + (1 - alpha)*ShM(s)"
   ]
  },
  {
   "attachments": {},
   "cell_type": "markdown",
   "metadata": {},
   "source": [
    "## Sample generation"
   ]
  },
  {
   "cell_type": "code",
   "execution_count": 6,
   "metadata": {},
   "outputs": [],
   "source": [
    "#nSamples, nGen = 1, 500 # Tune here\n",
    "nSamples, nGen = 1, 1\n",
    "\n",
    "nVariables = 15\n",
    "nWeights = nVariables // 3\n",
    "samples = np.zeros((nSamples, nVariables))\n",
    "bounds = np.zeros((nVariables, 2))\n",
    "fitness = np.zeros((nSamples))\n",
    "shForces = np.zeros((nSamples))\n",
    "shMoments = np.zeros((nSamples))"
   ]
  },
  {
   "cell_type": "markdown",
   "metadata": {},
   "source": [
    "### Differential Evolution"
   ]
  },
  {
   "attachments": {},
   "cell_type": "markdown",
   "metadata": {},
   "source": [
    "#### Define boundaries"
   ]
  },
  {
   "cell_type": "code",
   "execution_count": 7,
   "metadata": {},
   "outputs": [
    {
     "name": "stdout",
     "output_type": "stream",
     "text": [
      "[[-0.16   0.16 ]\n",
      " [-0.16   0.16 ]\n",
      " [ 0.005  0.04 ]\n",
      " [-0.16   0.16 ]\n",
      " [-0.16   0.16 ]\n",
      " [ 0.005  0.04 ]\n",
      " [-0.16   0.16 ]\n",
      " [-0.16   0.16 ]\n",
      " [ 0.005  0.04 ]\n",
      " [-0.16   0.16 ]\n",
      " [-0.16   0.16 ]\n",
      " [ 0.005  0.04 ]\n",
      " [-0.16   0.16 ]\n",
      " [-0.16   0.16 ]\n",
      " [ 0.005  0.04 ]]\n"
     ]
    }
   ],
   "source": [
    "for v in range(nVariables):\n",
    "    bounds[v] = [0.005, 0.04] if (v + 1) % 3 == 0 else [-0.16, 0.16]\n",
    "print(bounds)"
   ]
  },
  {
   "attachments": {},
   "cell_type": "markdown",
   "metadata": {},
   "source": [
    "#### Define pop sizes"
   ]
  },
  {
   "cell_type": "code",
   "execution_count": 8,
   "metadata": {},
   "outputs": [],
   "source": [
    "popSizes = [50, 150, 225]"
   ]
  },
  {
   "cell_type": "code",
   "execution_count": 9,
   "metadata": {},
   "outputs": [
    {
     "name": "stdout",
     "output_type": "stream",
     "text": [
      "Saving data with the prefix: 1678139380\n",
      "Results with a popSize = 50\n",
      "Computing sample: 0\n",
      "uno\n"
     ]
    },
    {
     "ename": "AssertionError",
     "evalue": "population has the wrong size",
     "output_type": "error",
     "traceback": [
      "\u001b[1;31m---------------------------------------------------------------------------\u001b[0m",
      "\u001b[1;31mAssertionError\u001b[0m                            Traceback (most recent call last)",
      "Cell \u001b[1;32mIn[9], line 11\u001b[0m\n\u001b[0;32m      9\u001b[0m alpha \u001b[39m=\u001b[39m np\u001b[39m.\u001b[39mmin([\u001b[39m1\u001b[39m, np\u001b[39m.\u001b[39mmax([\u001b[39m0\u001b[39m, alpha])])     \u001b[39m# Box constraints [0, 1]\u001b[39;00m\n\u001b[0;32m     10\u001b[0m start \u001b[39m=\u001b[39m time\u001b[39m.\u001b[39mperf_counter()\n\u001b[1;32m---> 11\u001b[0m r \u001b[39m=\u001b[39m differential_evolution(objective, bounds, popSize \u001b[39m=\u001b[39;49m pop, nMax \u001b[39m=\u001b[39;49m nGen, args \u001b[39m=\u001b[39;49m (ShF, ShM, alpha), cR \u001b[39m=\u001b[39;49m \u001b[39m0.7\u001b[39;49m)\n\u001b[0;32m     12\u001b[0m end \u001b[39m=\u001b[39m time\u001b[39m.\u001b[39mperf_counter()\n\u001b[0;32m     13\u001b[0m sample, fitness, force, moment \u001b[39m=\u001b[39m r[\u001b[39m'\u001b[39m\u001b[39mx\u001b[39m\u001b[39m'\u001b[39m], r[\u001b[39m\"\u001b[39m\u001b[39mfun\u001b[39m\u001b[39m\"\u001b[39m], ShF(r[\u001b[39m'\u001b[39m\u001b[39mx\u001b[39m\u001b[39m'\u001b[39m]), ShM(r[\u001b[39m'\u001b[39m\u001b[39mx\u001b[39m\u001b[39m'\u001b[39m])\n",
      "File \u001b[1;32mc:\\Users\\lalor\\Documents\\Git\\School\\Courses and Miscellaneous\\Research\\MechanismBalancing\\bigruns-exploration\\differential_evolution.py:94\u001b[0m, in \u001b[0;36mdifferential_evolution\u001b[1;34m(func, bounds, popSize, cR, nMax, args)\u001b[0m\n\u001b[0;32m     92\u001b[0m \u001b[39mdef\u001b[39;00m \u001b[39mdifferential_evolution\u001b[39m(func, bounds, popSize, cR, nMax, args \u001b[39m=\u001b[39m ()):\n\u001b[0;32m     93\u001b[0m     dE \u001b[39m=\u001b[39m DifferentialEvolution(func, bounds, popSize, cR, nMax, args)\n\u001b[1;32m---> 94\u001b[0m     \u001b[39mreturn\u001b[39;00m dE\u001b[39m.\u001b[39;49msolve()\n",
      "File \u001b[1;32mc:\\Users\\lalor\\Documents\\Git\\School\\Courses and Miscellaneous\\Research\\MechanismBalancing\\bigruns-exploration\\differential_evolution.py:75\u001b[0m, in \u001b[0;36mDifferentialEvolution.solve\u001b[1;34m(self)\u001b[0m\n\u001b[0;32m     74\u001b[0m \u001b[39mdef\u001b[39;00m \u001b[39msolve\u001b[39m(\u001b[39mself\u001b[39m):\n\u001b[1;32m---> 75\u001b[0m     r \u001b[39m=\u001b[39m \u001b[39mself\u001b[39;49m\u001b[39m.\u001b[39;49m_solve()\n\u001b[0;32m     76\u001b[0m     \u001b[39massert\u001b[39;00m \u001b[39misinstance\u001b[39m(r, \u001b[39mdict\u001b[39m), \u001b[39m'\u001b[39m\u001b[39mr is not dict\u001b[39m\u001b[39m'\u001b[39m\n\u001b[0;32m     77\u001b[0m     \u001b[39mreturn\u001b[39;00m r\n",
      "File \u001b[1;32mc:\\Users\\lalor\\Documents\\Git\\School\\Courses and Miscellaneous\\Research\\MechanismBalancing\\bigruns-exploration\\differential_evolution.py:85\u001b[0m, in \u001b[0;36mDifferentialEvolution._solve\u001b[1;34m(self)\u001b[0m\n\u001b[0;32m     83\u001b[0m \u001b[39mfor\u001b[39;00m i, individual \u001b[39min\u001b[39;00m \u001b[39menumerate\u001b[39m(\u001b[39mself\u001b[39m\u001b[39m.\u001b[39mpopulation):\n\u001b[0;32m     84\u001b[0m     u \u001b[39m=\u001b[39m \u001b[39mself\u001b[39m\u001b[39m.\u001b[39mcrossover(individual, \u001b[39mself\u001b[39m\u001b[39m.\u001b[39mmutation())\n\u001b[1;32m---> 85\u001b[0m     \u001b[39mself\u001b[39;49m\u001b[39m.\u001b[39;49mselection(i, u)\n\u001b[0;32m     86\u001b[0m \u001b[39mif\u001b[39;00m \u001b[39mlen\u001b[39m(np\u001b[39m.\u001b[39munique(\u001b[39mself\u001b[39m\u001b[39m.\u001b[39mfitness)) \u001b[39m==\u001b[39m \u001b[39m1\u001b[39m: \u001b[39mbreak\u001b[39;00m\n\u001b[0;32m     87\u001b[0m \u001b[39mprint\u001b[39m(\u001b[39m'\u001b[39m\u001b[39mdos\u001b[39m\u001b[39m'\u001b[39m)    \n",
      "File \u001b[1;32mc:\\Users\\lalor\\Documents\\Git\\School\\Courses and Miscellaneous\\Research\\MechanismBalancing\\bigruns-exploration\\differential_evolution.py:59\u001b[0m, in \u001b[0;36mDifferentialEvolution.selection\u001b[1;34m(self, x, u)\u001b[0m\n\u001b[0;32m     57\u001b[0m \u001b[39massert\u001b[39;00m \u001b[39misinstance\u001b[39m(x, \u001b[39mint\u001b[39m), \u001b[39m'\u001b[39m\u001b[39mx is not int\u001b[39m\u001b[39m'\u001b[39m               \u001b[39m#Index of the already existing individual\u001b[39;00m\n\u001b[0;32m     58\u001b[0m \u001b[39massert\u001b[39;00m \u001b[39misinstance\u001b[39m(u, np\u001b[39m.\u001b[39mndarray), \u001b[39m'\u001b[39m\u001b[39mu is not np.ndarray\u001b[39m\u001b[39m'\u001b[39m \u001b[39m#New individual\u001b[39;00m\n\u001b[1;32m---> 59\u001b[0m \u001b[39mself\u001b[39;49m\u001b[39m.\u001b[39;49m_selection(x, u)\n",
      "File \u001b[1;32mc:\\Users\\lalor\\Documents\\Git\\School\\Courses and Miscellaneous\\Research\\MechanismBalancing\\bigruns-exploration\\differential_evolution.py:61\u001b[0m, in \u001b[0;36mDifferentialEvolution._selection\u001b[1;34m(self, x, u)\u001b[0m\n\u001b[0;32m     60\u001b[0m \u001b[39mdef\u001b[39;00m \u001b[39m_selection\u001b[39m(\u001b[39mself\u001b[39m, x, u):\n\u001b[1;32m---> 61\u001b[0m     f \u001b[39m=\u001b[39m \u001b[39mself\u001b[39;49m\u001b[39m.\u001b[39;49mgetFitness(u)\n\u001b[0;32m     62\u001b[0m     \u001b[39mif\u001b[39;00m f \u001b[39m<\u001b[39m \u001b[39mself\u001b[39m\u001b[39m.\u001b[39mfitness[x]: \n\u001b[0;32m     63\u001b[0m         \u001b[39mself\u001b[39m\u001b[39m.\u001b[39mfitness[x] \u001b[39m=\u001b[39m f\n",
      "File \u001b[1;32mc:\\Users\\lalor\\Documents\\Git\\School\\Courses and Miscellaneous\\Research\\MechanismBalancing\\bigruns-exploration\\differential_evolution.py:27\u001b[0m, in \u001b[0;36mDifferentialEvolution.getFitness\u001b[1;34m(self, i)\u001b[0m\n\u001b[0;32m     25\u001b[0m \u001b[39mdef\u001b[39;00m \u001b[39mgetFitness\u001b[39m(\u001b[39mself\u001b[39m, i):\n\u001b[0;32m     26\u001b[0m     \u001b[39massert\u001b[39;00m \u001b[39misinstance\u001b[39m(i, np\u001b[39m.\u001b[39mndarray), \u001b[39m'\u001b[39m\u001b[39mindividual is not np.ndarray\u001b[39m\u001b[39m'\u001b[39m\n\u001b[1;32m---> 27\u001b[0m     \u001b[39massert\u001b[39;00m i\u001b[39m.\u001b[39mshape \u001b[39m==\u001b[39m (\u001b[39mself\u001b[39m\u001b[39m.\u001b[39mpopSize, \u001b[39mself\u001b[39m\u001b[39m.\u001b[39mnVar), \u001b[39m\"\u001b[39m\u001b[39mpopulation has the wrong size\u001b[39m\u001b[39m\"\u001b[39m\n\u001b[0;32m     28\u001b[0m     r \u001b[39m=\u001b[39m \u001b[39mself\u001b[39m\u001b[39m.\u001b[39m_getFitness(i)\n\u001b[0;32m     29\u001b[0m     \u001b[39mreturn\u001b[39;00m r\n",
      "\u001b[1;31mAssertionError\u001b[0m: population has the wrong size"
     ]
    }
   ],
   "source": [
    "startTime = str(int(time.time()))\n",
    "print(\"Saving data with the prefix:\", startTime)\n",
    "eTimeDE, goodSols = 0, 0\n",
    "for pop in popSizes:\n",
    "    print(f'Results with a popSize = {pop}')\n",
    "    for s in range(nSamples):\n",
    "        print(f'Computing sample: {s}')\n",
    "        alpha = np.random.normal(0.5, 0.20)         # To get values near 0.5\n",
    "        alpha = np.min([1, np.max([0, alpha])])     # Box constraints [0, 1]\n",
    "        start = time.perf_counter()\n",
    "        r = differential_evolution(objective, bounds, popSize = pop, nMax = nGen, args = (ShF, ShM, alpha), cR = 0.7)\n",
    "        end = time.perf_counter()\n",
    "        sample, fitness, force, moment = r['x'], r[\"fun\"], ShF(r['x']), ShM(r['x'])\n",
    "        if force < 1 and moment < 1:\n",
    "            goodSols += 1\n",
    "            logSample(f'{startTime}-{pop}-', sample, fitness, force, moment)\n",
    "        print(\"Sample \", s, \":\\tshF: \", force, \"\\tshM: \", moment, \"\\talpha = \", alpha, sep = \"\")\n",
    "        eTimeDE += (end - start) #Time in seconds\n",
    "        print('\\r')\n",
    "    if nSamples: eTimeDE /= nSamples\n",
    "    print(\"Average time of execution:\", eTimeDE, \"seconds. It was run\", nSamples, \"times.\")\n",
    "    print(\"Went from \", nSamples, \" samples to \", goodSols, \" after cleaning data\", sep = \"\")"
   ]
  }
 ],
 "metadata": {
  "kernelspec": {
   "display_name": "Python 3.8.10 64-bit",
   "language": "python",
   "name": "python3"
  },
  "language_info": {
   "codemirror_mode": {
    "name": "ipython",
    "version": 3
   },
   "file_extension": ".py",
   "mimetype": "text/x-python",
   "name": "python",
   "nbconvert_exporter": "python",
   "pygments_lexer": "ipython3",
   "version": "3.9.16"
  },
  "orig_nbformat": 4,
  "vscode": {
   "interpreter": {
    "hash": "916dbcbb3f70747c44a77c7bcd40155683ae19c65e1c03b4aa3499c5328201f1"
   }
  }
 },
 "nbformat": 4,
 "nbformat_minor": 2
}
