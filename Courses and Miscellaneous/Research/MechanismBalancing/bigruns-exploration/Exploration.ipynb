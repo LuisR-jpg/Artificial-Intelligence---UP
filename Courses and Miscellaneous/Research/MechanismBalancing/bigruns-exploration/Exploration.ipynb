{
 "cells": [
  {
   "attachments": {},
   "cell_type": "markdown",
   "metadata": {},
   "source": [
    "# Six-bar mechanism balancing"
   ]
  },
  {
   "cell_type": "code",
   "execution_count": 1,
   "metadata": {},
   "outputs": [
    {
     "ename": "",
     "evalue": "",
     "output_type": "error",
     "traceback": [
      "\u001b[1;31mCanceled future for execute_request message before replies were done"
     ]
    },
    {
     "ename": "",
     "evalue": "",
     "output_type": "error",
     "traceback": [
      "\u001b[1;31mThe Kernel crashed while executing code in the the current cell or a previous cell. Please review the code in the cell(s) to identify a possible cause of the failure. Click <a href='https://aka.ms/vscodeJupyterKernelCrash'>here</a> for more info. View Jupyter <a href='command:jupyter.viewOutput'>log</a> for further details."
     ]
    }
   ],
   "source": [
    "from BetaShF_population import *\n",
    "from BetaShM_population import *\n",
    "import numpy as np\n",
    "import time\n",
    "from differential_evolution import differential_evolution\n",
    "\n",
    "assert ShF([[0, 0, 0, 0, 0, 0, 0, 0, 0, 0, 0, 0, 0, 0, 0]]) == 1.0\n",
    "assert ShM([[0, 0, 0, 0, 0, 0, 0, 0, 0, 0, 0, 0, 0, 0, 0]]) == 1.0\n",
    "np.random.seed(1)"
   ]
  },
  {
   "cell_type": "markdown",
   "metadata": {},
   "source": [
    "## Util"
   ]
  },
  {
   "cell_type": "code",
   "execution_count": null,
   "metadata": {},
   "outputs": [],
   "source": [
    "def cleanData(samples, fitness, forces, moments):\n",
    "    filterF = forces < 1\n",
    "    filterM = moments < 1\n",
    "    f = np.logical_and(filterF, filterM)\n",
    "    print(f.shape)\n",
    "    return samples[f], fitness[f], forces[f], moments[f]"
   ]
  },
  {
   "cell_type": "code",
   "execution_count": null,
   "metadata": {},
   "outputs": [],
   "source": [
    "def saveData(samples, fitness, forces, moments):\n",
    "    now = str(int(time.time()))\n",
    "    np.savetxt(now + \"Population.txt\", samples)\n",
    "    np.savetxt(now + \"Fitness.txt\", fitness)\n",
    "    np.savetxt(now + \"ShForces.txt\", forces)\n",
    "    np.savetxt(now + \"ShMoments.txt\", moments)\n",
    "    return now"
   ]
  },
  {
   "cell_type": "code",
   "execution_count": null,
   "metadata": {},
   "outputs": [],
   "source": [
    "def logSample(now, sample, fitness, force, moment):\n",
    "    def appendToFile(name, text): \n",
    "        with open(name, \"a\") as f:\n",
    "            f.write(text + '\\n')\n",
    "    s = \"\"\n",
    "    for x in sample: s += str(x) + \" \"\n",
    "    appendToFile(now + \"Population.txt\", s)\n",
    "    appendToFile(now + \"Fitness.txt\", str(fitness))\n",
    "    appendToFile(now + \"ShForces.txt\", str(force))\n",
    "    appendToFile(now + \"ShMoments.txt\", str(moment))"
   ]
  },
  {
   "attachments": {},
   "cell_type": "markdown",
   "metadata": {},
   "source": [
    "## Problem definition"
   ]
  },
  {
   "cell_type": "markdown",
   "metadata": {},
   "source": [
    "#### Constraints\n",
    "\n",
    "$$ -0.16m \\leq x_{cn}, y_{cn} \\leq 0.16m $$\n",
    "\n",
    "$$ 0.005m \\leq t_{cn} \\leq 0.04m $$"
   ]
  },
  {
   "cell_type": "markdown",
   "metadata": {},
   "source": [
    "#### Objective function"
   ]
  },
  {
   "attachments": {},
   "cell_type": "markdown",
   "metadata": {},
   "source": [
    "$$\n",
    "f(x) = \\alpha ShF(x) + (1 - \\alpha) ShM(x)\n",
    "$$\n",
    "$$\n",
    "\\therefore \\alpha = \\frac{f(x) - ShM(x)}{ShF(x) - ShM(x)}\n",
    "$$"
   ]
  },
  {
   "cell_type": "code",
   "execution_count": null,
   "metadata": {},
   "outputs": [],
   "source": [
    "def objective(s, ShF, ShM, alpha):\n",
    "    return (alpha)*ShF(s) + (1 - alpha)*ShM(s)"
   ]
  },
  {
   "attachments": {},
   "cell_type": "markdown",
   "metadata": {},
   "source": [
    "## Sample generation"
   ]
  },
  {
   "cell_type": "code",
   "execution_count": null,
   "metadata": {},
   "outputs": [],
   "source": [
    "#nSamples, nGen = 300, 500 # Tune here\n",
    "nSamples, nGen = 1, 500 # Tune here\n",
    "\n",
    "nVariables = 15\n",
    "nWeights = nVariables // 3\n",
    "samples = np.zeros((nSamples, nVariables))\n",
    "bounds = np.zeros((nVariables, 2))\n",
    "fitness = np.zeros((nSamples))\n",
    "shForces = np.zeros((nSamples))\n",
    "shMoments = np.zeros((nSamples))"
   ]
  },
  {
   "cell_type": "markdown",
   "metadata": {},
   "source": [
    "### Differential Evolution"
   ]
  },
  {
   "attachments": {},
   "cell_type": "markdown",
   "metadata": {},
   "source": [
    "#### Define boundaries"
   ]
  },
  {
   "cell_type": "code",
   "execution_count": null,
   "metadata": {},
   "outputs": [],
   "source": [
    "for v in range(nVariables):\n",
    "    bounds[v] = [0.005, 0.04] if (v + 1) % 3 == 0 else [-0.16, 0.16]\n",
    "print(bounds)"
   ]
  },
  {
   "cell_type": "code",
   "execution_count": null,
   "metadata": {},
   "outputs": [],
   "source": [
    "eTimeDE, goodSols = 0, 0\n",
    "startTime = str(int(time.time()))\n",
    "print(\"Saving data with the prefix:\", startTime)\n",
    "for s in range(nSamples):\n",
    "    alpha = np.random.normal(0.5, 0.20) # To get values near 0.5\n",
    "    alpha = np.min([1, np.max([0, alpha])]) # Box constraints [0, 1]\n",
    "    start = time.perf_counter()\n",
    "    r = differential_evolution(objective, bounds, popSize = 50, nMax = nGen, args = (ShF, ShM, alpha), cR = 0.7)\n",
    "    #r = sp.optimize.differential_evolution(objective, bounds, args = (ShF, ShM, alpha), maxiter = nGen, popsize = 50, polish = False)\n",
    "    #r = cnsg_differential_evolution(objective, bounds, args = (ShF, ShM, alpha), MaxGenerations = nGen, popsize = 50)\n",
    "    end = time.perf_counter()\n",
    "    sample, fitness, force, moment = r['x'], r[\"fun\"], ShF(r['x']), ShM(r['x'])\n",
    "    #sample, fitness, force, moment = r.x, r.fun, ShF(r.x), ShM(r.x)\n",
    "    #sample, fitness, force, moment = r, objective(r, ShF, ShM, alpha), ShF(r), ShM(r)\n",
    "    if force < 1 and moment < 1:\n",
    "        goodSols += 1\n",
    "        logSample(startTime, sample, fitness, force, moment)\n",
    "    print(\"Sample \", s, \":\\tshF: \", force, \"\\tshM: \", moment, \"\\talpha = \", alpha, sep = \"\")\n",
    "    eTimeDE += (end - start) #Time in seconds\n",
    "if nSamples: eTimeDE /= nSamples"
   ]
  },
  {
   "cell_type": "code",
   "execution_count": null,
   "metadata": {},
   "outputs": [],
   "source": [
    "print(\"Average time of execution:\", eTimeDE, \"seconds. It was run\", nSamples, \"times.\")"
   ]
  },
  {
   "cell_type": "code",
   "execution_count": null,
   "metadata": {},
   "outputs": [],
   "source": [
    "print(\"Went from \", nSamples, \" samples to \", goodSols, \" after cleaning data\", sep = \"\")"
   ]
  }
 ],
 "metadata": {
  "kernelspec": {
   "display_name": "Python 3.8.10 64-bit",
   "language": "python",
   "name": "python3"
  },
  "language_info": {
   "codemirror_mode": {
    "name": "ipython",
    "version": 3
   },
   "file_extension": ".py",
   "mimetype": "text/x-python",
   "name": "python",
   "nbconvert_exporter": "python",
   "pygments_lexer": "ipython3",
   "version": "3.9.16"
  },
  "orig_nbformat": 4,
  "vscode": {
   "interpreter": {
    "hash": "916dbcbb3f70747c44a77c7bcd40155683ae19c65e1c03b4aa3499c5328201f1"
   }
  }
 },
 "nbformat": 4,
 "nbformat_minor": 2
}
