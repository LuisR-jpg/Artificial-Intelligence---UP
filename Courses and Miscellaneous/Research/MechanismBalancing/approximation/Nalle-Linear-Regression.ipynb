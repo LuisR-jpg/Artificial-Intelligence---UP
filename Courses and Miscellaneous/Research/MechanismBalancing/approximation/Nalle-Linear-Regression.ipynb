{
 "cells": [
  {
   "cell_type": "code",
   "execution_count": 1,
   "metadata": {},
   "outputs": [],
   "source": [
    "import numpy as np\n",
    "import pandas\n",
    "from sklearn.linear_model import LinearRegression\n",
    "import matplotlib.pyplot as plt"
   ]
  },
  {
   "cell_type": "code",
   "execution_count": 2,
   "metadata": {},
   "outputs": [],
   "source": [
    "EDfit = np.loadtxt(\"1676302198Fitness.txt\")\n",
    "EDshf = np.loadtxt(\"1676302198ShForces.txt\")\n",
    "EDshm = np.loadtxt(\"1676302198ShMoments.txt\")\n",
    "EDalpha = (EDfit - EDshm)/(EDshf - EDshm)\n",
    "\n",
    "PYshf = np.loadtxt(\"1676338610ShForces.txt\")\n",
    "PYshm = np.loadtxt(\"1676338610ShMoments.txt\")\n"
   ]
  },
  {
   "cell_type": "code",
   "execution_count": 3,
   "metadata": {},
   "outputs": [
    {
     "data": {
      "text/html": [
       "<div>\n",
       "<style scoped>\n",
       "    .dataframe tbody tr th:only-of-type {\n",
       "        vertical-align: middle;\n",
       "    }\n",
       "\n",
       "    .dataframe tbody tr th {\n",
       "        vertical-align: top;\n",
       "    }\n",
       "\n",
       "    .dataframe thead th {\n",
       "        text-align: right;\n",
       "    }\n",
       "</style>\n",
       "<table border=\"1\" class=\"dataframe\">\n",
       "  <thead>\n",
       "    <tr style=\"text-align: right;\">\n",
       "      <th></th>\n",
       "      <th>shm</th>\n",
       "      <th>shf</th>\n",
       "      <th>shm2</th>\n",
       "      <th>shf2</th>\n",
       "      <th>alpha</th>\n",
       "    </tr>\n",
       "  </thead>\n",
       "  <tbody>\n",
       "    <tr>\n",
       "      <th>0</th>\n",
       "      <td>0.274183</td>\n",
       "      <td>0.756177</td>\n",
       "      <td>0.075176</td>\n",
       "      <td>0.571803</td>\n",
       "      <td>0.456207</td>\n",
       "    </tr>\n",
       "    <tr>\n",
       "      <th>1</th>\n",
       "      <td>0.251931</td>\n",
       "      <td>0.796635</td>\n",
       "      <td>0.063469</td>\n",
       "      <td>0.634627</td>\n",
       "      <td>0.430718</td>\n",
       "    </tr>\n",
       "    <tr>\n",
       "      <th>2</th>\n",
       "      <td>0.334330</td>\n",
       "      <td>0.670899</td>\n",
       "      <td>0.111777</td>\n",
       "      <td>0.450106</td>\n",
       "      <td>0.482853</td>\n",
       "    </tr>\n",
       "    <tr>\n",
       "      <th>3</th>\n",
       "      <td>0.277321</td>\n",
       "      <td>0.751012</td>\n",
       "      <td>0.076907</td>\n",
       "      <td>0.564019</td>\n",
       "      <td>0.458518</td>\n",
       "    </tr>\n",
       "    <tr>\n",
       "      <th>4</th>\n",
       "      <td>0.548962</td>\n",
       "      <td>0.441017</td>\n",
       "      <td>0.301360</td>\n",
       "      <td>0.194496</td>\n",
       "      <td>0.493885</td>\n",
       "    </tr>\n",
       "  </tbody>\n",
       "</table>\n",
       "</div>"
      ],
      "text/plain": [
       "        shm       shf      shm2      shf2     alpha\n",
       "0  0.274183  0.756177  0.075176  0.571803  0.456207\n",
       "1  0.251931  0.796635  0.063469  0.634627  0.430718\n",
       "2  0.334330  0.670899  0.111777  0.450106  0.482853\n",
       "3  0.277321  0.751012  0.076907  0.564019  0.458518\n",
       "4  0.548962  0.441017  0.301360  0.194496  0.493885"
      ]
     },
     "execution_count": 3,
     "metadata": {},
     "output_type": "execute_result"
    }
   ],
   "source": [
    "dfed = pandas.DataFrame()\n",
    "dfed['shm'] = EDshm\n",
    "dfed['shf'] = EDshf\n",
    "dfed['shm2'] = EDshm**2\n",
    "dfed['shf2'] = EDshf**2\n",
    "dfed['alpha'] = EDfit\n",
    "dfed.head()"
   ]
  },
  {
   "cell_type": "code",
   "execution_count": 4,
   "metadata": {},
   "outputs": [
    {
     "data": {
      "text/html": [
       "<div>\n",
       "<style scoped>\n",
       "    .dataframe tbody tr th:only-of-type {\n",
       "        vertical-align: middle;\n",
       "    }\n",
       "\n",
       "    .dataframe tbody tr th {\n",
       "        vertical-align: top;\n",
       "    }\n",
       "\n",
       "    .dataframe thead th {\n",
       "        text-align: right;\n",
       "    }\n",
       "</style>\n",
       "<table border=\"1\" class=\"dataframe\">\n",
       "  <thead>\n",
       "    <tr style=\"text-align: right;\">\n",
       "      <th></th>\n",
       "      <th>shm</th>\n",
       "      <th>shf</th>\n",
       "      <th>shm2</th>\n",
       "      <th>shf2</th>\n",
       "    </tr>\n",
       "  </thead>\n",
       "  <tbody>\n",
       "    <tr>\n",
       "      <th>0</th>\n",
       "      <td>0.223151</td>\n",
       "      <td>0.934058</td>\n",
       "      <td>0.049796</td>\n",
       "      <td>0.872464</td>\n",
       "    </tr>\n",
       "    <tr>\n",
       "      <th>1</th>\n",
       "      <td>0.911201</td>\n",
       "      <td>0.157835</td>\n",
       "      <td>0.830288</td>\n",
       "      <td>0.024912</td>\n",
       "    </tr>\n",
       "    <tr>\n",
       "      <th>2</th>\n",
       "      <td>0.281046</td>\n",
       "      <td>0.758496</td>\n",
       "      <td>0.078987</td>\n",
       "      <td>0.575317</td>\n",
       "    </tr>\n",
       "    <tr>\n",
       "      <th>3</th>\n",
       "      <td>0.568112</td>\n",
       "      <td>0.429403</td>\n",
       "      <td>0.322751</td>\n",
       "      <td>0.184387</td>\n",
       "    </tr>\n",
       "    <tr>\n",
       "      <th>4</th>\n",
       "      <td>0.548864</td>\n",
       "      <td>0.448040</td>\n",
       "      <td>0.301252</td>\n",
       "      <td>0.200740</td>\n",
       "    </tr>\n",
       "  </tbody>\n",
       "</table>\n",
       "</div>"
      ],
      "text/plain": [
       "        shm       shf      shm2      shf2\n",
       "0  0.223151  0.934058  0.049796  0.872464\n",
       "1  0.911201  0.157835  0.830288  0.024912\n",
       "2  0.281046  0.758496  0.078987  0.575317\n",
       "3  0.568112  0.429403  0.322751  0.184387\n",
       "4  0.548864  0.448040  0.301252  0.200740"
      ]
     },
     "execution_count": 4,
     "metadata": {},
     "output_type": "execute_result"
    }
   ],
   "source": [
    "dfpy = pandas.DataFrame()\n",
    "dfpy['shm'] = PYshm\n",
    "dfpy['shf'] = PYshf\n",
    "dfpy['shm2'] = PYshm**2\n",
    "dfpy['shf2'] = PYshf**2\n",
    "dfpy.head()"
   ]
  },
  {
   "cell_type": "code",
   "execution_count": 5,
   "metadata": {},
   "outputs": [],
   "source": [
    "model = LinearRegression()\n",
    "model.fit(dfed[['shm','shf','shm2','shf2']].values,dfed['alpha'].values)\n",
    "dfpy['alpha'] = model.predict(dfpy[['shm','shf','shm2','shf2']].values)\n",
    "dfed['alphap'] = model.predict(dfed[['shm','shf','shm2','shf2']].values)"
   ]
  },
  {
   "cell_type": "code",
   "execution_count": 6,
   "metadata": {},
   "outputs": [
    {
     "data": {
      "image/png": "[encoded data removed]",
      "text/plain": [
       "<Figure size 432x288 with 1 Axes>"
      ]
     },
     "metadata": {
      "needs_background": "light"
     },
     "output_type": "display_data"
    }
   ],
   "source": [
    "plt.boxplot(dfed['alpha'].values)\n",
    "plt.show()"
   ]
  },
  {
   "cell_type": "code",
   "execution_count": 7,
   "metadata": {},
   "outputs": [
    {
     "data": {
      "image/png": "[encoded data removed]",
      "text/plain": [
       "<Figure size 720x216 with 4 Axes>"
      ]
     },
     "metadata": {
      "needs_background": "light"
     },
     "output_type": "display_data"
    }
   ],
   "source": [
    "plt.figure(figsize=(10,3))\n",
    "plt.subplot(1,2,1)\n",
    "plt.scatter(dfed['shm'].values,dfed['shf'].values,c=dfed['alpha'].values,cmap='jet',vmin=0.2,vmax=0.6 )\n",
    "plt.colorbar()\n",
    "plt.subplot(1,2,2)\n",
    "plt.scatter(dfpy['shm'].values,dfpy['shf'].values,c=dfpy['alpha'].values,cmap='jet',vmin=0.2,vmax=0.6 )\n",
    "plt.colorbar()\n",
    "plt.show()"
   ]
  },
  {
   "cell_type": "code",
   "execution_count": 8,
   "metadata": {},
   "outputs": [
    {
     "data": {
      "image/png": "[encoded data removed]",
      "text/plain": [
       "<Figure size 720x216 with 2 Axes>"
      ]
     },
     "metadata": {
      "needs_background": "light"
     },
     "output_type": "display_data"
    }
   ],
   "source": [
    "plt.figure(figsize=(10,3))\n",
    "plt.subplot(1,2,1)\n",
    "plt.scatter(dfed['shf'].values,dfed['alpha'].values,c='green' )\n",
    "plt.scatter(dfed['shf'].values,dfed['alphap'].values,c='red' )\n",
    "plt.subplot(1,2,2)\n",
    "plt.scatter(dfed['shm'].values,dfed['alpha'].values,c='green' )\n",
    "plt.scatter(dfed['shm'].values,dfed['alphap'].values,c='red' )\n",
    "plt.show()"
   ]
  },
  {
   "cell_type": "code",
   "execution_count": 9,
   "metadata": {},
   "outputs": [
    {
     "data": {
      "image/png": "[encoded data removed]",
      "text/plain": [
       "<Figure size 216x216 with 1 Axes>"
      ]
     },
     "metadata": {
      "needs_background": "light"
     },
     "output_type": "display_data"
    }
   ],
   "source": [
    "plt.figure(figsize=(3,3))\n",
    "plt.scatter(dfed['alpha'].values,dfed['alpha'].values,c='green' )\n",
    "plt.scatter(dfed['alpha'].values,dfed['alphap'].values,c='red' )\n",
    "plt.show()"
   ]
  },
  {
   "cell_type": "code",
   "execution_count": null,
   "metadata": {},
   "outputs": [],
   "source": []
  }
 ],
 "metadata": {
  "kernelspec": {
   "display_name": "Python 3",
   "language": "python",
   "name": "python3"
  },
  "language_info": {
   "codemirror_mode": {
    "name": "ipython",
    "version": 3
   },
   "file_extension": ".py",
   "mimetype": "text/x-python",
   "name": "python",
   "nbconvert_exporter": "python",
   "pygments_lexer": "ipython3",
   "version": "3.7.6"
  }
 },
 "nbformat": 4,
 "nbformat_minor": 4
}
