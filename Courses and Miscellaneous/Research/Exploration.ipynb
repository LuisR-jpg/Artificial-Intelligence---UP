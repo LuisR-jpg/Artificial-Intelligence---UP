{
 "cells": [
  {
   "attachments": {},
   "cell_type": "markdown",
   "metadata": {},
   "source": [
    "# Six-bar mechanism balancing\n",
    "\n",
    "###### Luis Eduardo Robles Jiménez"
   ]
  },
  {
   "attachments": {},
   "cell_type": "markdown",
   "metadata": {},
   "source": [
    "With this work, I pretend to find out the behavior of the function with different tools, in order to understand what the most important variables are, find patterns, identify overlapping zones of minima between the functions we're optimizing, graphing data, etc."
   ]
  },
  {
   "cell_type": "code",
   "execution_count": 2,
   "metadata": {},
   "outputs": [],
   "source": [
    "from BetaShF import *\n",
    "from BetaShM import *\n",
    "from sklearn.decomposition import PCA\n",
    "import matplotlib.pyplot as plt\n",
    "import plotly.express as px\n",
    "from sympy import *\n",
    "import numpy as np\n",
    "import scipy as sp\n",
    "import time\n",
    "\n",
    "\n",
    "assert ShF([0, 0, 0, 0, 0, 0, 0, 0, 0, 0, 0, 0, 0, 0, 0]) == 1.0\n",
    "assert ShM([0, 0, 0, 0, 0, 0, 0, 0, 0, 0, 0, 0, 0, 0, 0]) == 1.0"
   ]
  },
  {
   "cell_type": "markdown",
   "metadata": {},
   "source": [
    "#### Constraints\n",
    "\n",
    "$$ -0.16m \\leq x_{cn}, y_{cn} \\leq 0.16m $$\n",
    "\n",
    "$$ 0.005m \\leq t_{cn} \\leq 0.04m $$"
   ]
  },
  {
   "cell_type": "markdown",
   "metadata": {},
   "source": [
    "#### Objective function"
   ]
  },
  {
   "cell_type": "code",
   "execution_count": null,
   "metadata": {},
   "outputs": [],
   "source": [
    "def objective(s, ShF, ShM):\n",
    "    return 0.5*ShF(s) + 0.5*ShM(s)"
   ]
  },
  {
   "attachments": {},
   "cell_type": "markdown",
   "metadata": {},
   "source": [
    "## Mathematical analysis "
   ]
  },
  {
   "cell_type": "markdown",
   "metadata": {},
   "source": [
    "### Sympy"
   ]
  },
  {
   "cell_type": "code",
   "execution_count": 3,
   "metadata": {},
   "outputs": [],
   "source": [
    "from momentFormula import *\n",
    "from forceFormula import *"
   ]
  },
  {
   "cell_type": "code",
   "execution_count": null,
   "metadata": {},
   "outputs": [],
   "source": [
    "a = srepr(forceF)\n",
    "b = srepr(momentF)"
   ]
  },
  {
   "attachments": {},
   "cell_type": "markdown",
   "metadata": {},
   "source": [
    "## Sample generation"
   ]
  },
  {
   "cell_type": "code",
   "execution_count": null,
   "metadata": {},
   "outputs": [],
   "source": [
    "nSamples, nVariables = 500, 15\n",
    "nWeights = nVariables // 3\n",
    "samples = np.zeros((nSamples, nVariables))\n",
    "bounds = np.zeros((nVariables, 2))\n",
    "fitness = np.zeros((nSamples))\n",
    "shForces = np.zeros((nSamples))\n",
    "shMoments = np.zeros((nSamples))"
   ]
  },
  {
   "cell_type": "markdown",
   "metadata": {},
   "source": [
    "### Differential Evolution"
   ]
  },
  {
   "cell_type": "code",
   "execution_count": null,
   "metadata": {},
   "outputs": [],
   "source": [
    "for i in range(nVariables):\n",
    "    if (i + 1) % 3 == 0: samples[:, i] = np.random.uniform(0.005, 0.04, (nSamples))\n",
    "    else: samples[:, i] = np.random.uniform(-0.16, 0.16, (nSamples))\n",
    "for i in range(nSamples):\n",
    "    fitness[i] = objective(samples[i], ShF, ShM)\n",
    "\"\"\"\n",
    "for v in range(nVariables):\n",
    "    bounds[v] = [0.005, 0.04] if (v + 1) % 3 == 0 else [-0.16, 0.16]\n",
    "worst = 0.0\n",
    "for s in range(nSamples):\n",
    "    print(\"\\rIteration:\", s, \"\\tWorst fitness:\", worst, end = \"\")\n",
    "    p = False\n",
    "    if s < nSamples // 10: p = True\n",
    "    r = sp.optimize.differential_evolution(objective, bounds, args = (ShF, ShM), maxiter = 25, popsize = 10, polish = p)\n",
    "    samples[s] = r.x\n",
    "    fitness[s] = r.fun\n",
    "    worst = np.max([worst, fitness[s]])\n",
    "\"\"\""
   ]
  },
  {
   "cell_type": "markdown",
   "metadata": {},
   "source": [
    "### Pymoo"
   ]
  },
  {
   "cell_type": "code",
   "execution_count": 3,
   "metadata": {},
   "outputs": [],
   "source": [
    "from pymoo.core.problem import ElementwiseProblem\n",
    "from pymoo.algorithms.moo.nsga2 import NSGA2\n",
    "from pymoo.operators.crossover.sbx import SBX\n",
    "from pymoo.operators.mutation.pm import PM\n",
    "from pymoo.operators.sampling.rnd import FloatRandomSampling\n",
    "from pymoo.termination import get_termination\n",
    "from pymoo.optimize import minimize"
   ]
  },
  {
   "cell_type": "code",
   "execution_count": 4,
   "metadata": {},
   "outputs": [],
   "source": [
    "class MyProblem(ElementwiseProblem):\n",
    "\n",
    "    def __init__(self):\n",
    "        super().__init__(n_var=15,\n",
    "                         n_obj=2,\n",
    "                         n_ieq_constr=0,\n",
    "                         xl=np.array([-0.16, -0.16, 0.005, -0.16, -0.16, 0.005, -0.16, -0.16, 0.005, -0.16, -0.16, 0.005, -0.16, -0.16, 0.005]),\n",
    "                         xu=np.array([0.16, 0.16, 0.04, 0.16, 0.16, 0.04, 0.16, 0.16, 0.04, 0.16, 0.16, 0.04, 0.16, 0.16, 0.04]))\n",
    "\n",
    "    def _evaluate(self, x, out, *args, **kwargs):\n",
    "        f1 = ShF(x)\n",
    "        f2 = ShM(x)\n",
    "\n",
    "        out[\"F\"] = [f1, f2]\n",
    "        out[\"G\"] = []\n",
    "\n",
    "\n",
    "problem = MyProblem()"
   ]
  },
  {
   "cell_type": "code",
   "execution_count": 5,
   "metadata": {},
   "outputs": [],
   "source": [
    "algorithm = NSGA2(\n",
    "    pop_size=40,\n",
    "    n_offsprings=10,\n",
    "    sampling=FloatRandomSampling(),\n",
    "    crossover=SBX(prob=0.9, eta=15),\n",
    "    mutation=PM(eta=20),\n",
    "    eliminate_duplicates=True\n",
    ")"
   ]
  },
  {
   "cell_type": "code",
   "execution_count": 6,
   "metadata": {},
   "outputs": [],
   "source": [
    "termination = get_termination(\"n_gen\", 40)"
   ]
  },
  {
   "cell_type": "code",
   "execution_count": 7,
   "metadata": {},
   "outputs": [
    {
     "name": "stdout",
     "output_type": "stream",
     "text": [
      "==========================================================\n",
      "n_gen  |  n_eval  | n_nds  |      eps      |   indicator  \n",
      "==========================================================\n",
      "     1 |       40 |      2 |             - |             -\n",
      "     2 |       50 |      2 |  2.3413510304 |         ideal\n",
      "     3 |       60 |      2 |  0.5409485544 |         ideal\n",
      "     4 |       70 |      2 |  0.0615535000 |         ideal\n",
      "     5 |       80 |      3 |  0.4806471457 |         ideal\n",
      "     6 |       90 |      4 |  0.2851954969 |         ideal\n",
      "     7 |      100 |      6 |  0.0198925037 |             f\n",
      "     8 |      110 |      7 |  0.2465278567 |         ideal\n",
      "     9 |      120 |      2 |  0.2211577408 |         ideal\n",
      "    10 |      130 |      2 |  0.000000E+00 |             f\n",
      "    11 |      140 |      2 |  0.6873742018 |         ideal\n",
      "    12 |      150 |      3 |  0.1377911377 |             f\n",
      "    13 |      160 |      3 |  0.2749032260 |             f\n",
      "    14 |      170 |      3 |  0.000000E+00 |             f\n",
      "    15 |      180 |      3 |  0.5433149725 |         ideal\n",
      "    16 |      190 |      3 |  0.000000E+00 |             f\n",
      "    17 |      200 |      3 |  0.000000E+00 |             f\n",
      "    18 |      210 |      3 |  0.0228120001 |             f\n",
      "    19 |      220 |      5 |  0.0373105275 |         ideal\n",
      "    20 |      230 |      4 |  0.2690309340 |         ideal\n",
      "    21 |      240 |      5 |  0.0321695777 |             f\n",
      "    22 |      250 |      7 |  0.0559927708 |             f\n",
      "    23 |      260 |      7 |  0.000000E+00 |             f\n",
      "    24 |      270 |      7 |  0.000000E+00 |             f\n",
      "    25 |      280 |      8 |  0.0097818852 |             f\n",
      "    26 |      290 |      9 |  0.0118967151 |             f\n",
      "    27 |      300 |      9 |  0.0276859223 |         ideal\n",
      "    28 |      310 |     10 |  0.0068397823 |             f\n",
      "    29 |      320 |     10 |  0.0147276265 |         ideal\n",
      "    30 |      330 |     10 |  0.0150854390 |             f\n",
      "    31 |      340 |     12 |  0.0135655860 |             f\n",
      "    32 |      350 |     13 |  0.0006315587 |             f\n",
      "    33 |      360 |     12 |  0.0201341590 |         ideal\n",
      "    34 |      370 |     13 |  0.0156214571 |             f\n",
      "    35 |      380 |     10 |  0.0231147291 |         ideal\n",
      "    36 |      390 |     12 |  0.0158843837 |             f\n",
      "    37 |      400 |     12 |  0.0222593562 |         ideal\n",
      "    38 |      410 |     13 |  0.0098243750 |             f\n",
      "    39 |      420 |     14 |  0.0030005626 |         ideal\n",
      "    40 |      430 |     15 |  0.0003046772 |             f\n"
     ]
    }
   ],
   "source": [
    "res = minimize(problem,\n",
    "               algorithm,\n",
    "               termination,\n",
    "               seed=1,\n",
    "               save_history=True,\n",
    "               verbose=True)\n",
    "\n",
    "X = res.X\n",
    "F = res.F"
   ]
  },
  {
   "cell_type": "code",
   "execution_count": 8,
   "metadata": {},
   "outputs": [
    {
     "data": {
      "image/png": "[encoded data removed]",
      "text/plain": [
       "<Figure size 700x500 with 1 Axes>"
      ]
     },
     "metadata": {},
     "output_type": "display_data"
    }
   ],
   "source": [
    "xl, xu = problem.bounds()\n",
    "plt.figure(figsize=(7, 5))\n",
    "plt.scatter(X[:, 0], X[:, 1], s=30, facecolors='none', edgecolors='r')\n",
    "plt.xlim(xl[0], xu[0])\n",
    "plt.ylim(xl[1], xu[1])\n",
    "plt.title(\"Design Space\")\n",
    "plt.show()"
   ]
  },
  {
   "cell_type": "code",
   "execution_count": 9,
   "metadata": {},
   "outputs": [
    {
     "data": {
      "image/png": "[encoded data removed]",
      "text/plain": [
       "<Figure size 700x500 with 1 Axes>"
      ]
     },
     "metadata": {},
     "output_type": "display_data"
    }
   ],
   "source": [
    "plt.figure(figsize=(7, 5))\n",
    "plt.scatter(F[:, 0], F[:, 1], s=30, facecolors='none', edgecolors='blue')\n",
    "plt.title(\"Objective Space\")\n",
    "plt.show()"
   ]
  },
  {
   "cell_type": "markdown",
   "metadata": {},
   "source": [
    "### Write data to a file"
   ]
  },
  {
   "cell_type": "code",
   "execution_count": null,
   "metadata": {},
   "outputs": [],
   "source": [
    "now = str(int(time.time()))\n",
    "np.savetxt(now + \"Population.txt\", samples)\n",
    "np.savetxt(now + \"Fitness.txt\", fitness)\n",
    "np.savetxt(now + \"ShForces.txt\", shForces)\n",
    "np.savetxt(now + \"ShMoments.txt\", shMoments)"
   ]
  }
 ],
 "metadata": {
  "kernelspec": {
   "display_name": "Python 3.8.10 64-bit",
   "language": "python",
   "name": "python3"
  },
  "language_info": {
   "codemirror_mode": {
    "name": "ipython",
    "version": 3
   },
   "file_extension": ".py",
   "mimetype": "text/x-python",
   "name": "python",
   "nbconvert_exporter": "python",
   "pygments_lexer": "ipython3",
   "version": "3.8.10"
  },
  "orig_nbformat": 4,
  "vscode": {
   "interpreter": {
    "hash": "916dbcbb3f70747c44a77c7bcd40155683ae19c65e1c03b4aa3499c5328201f1"
   }
  }
 },
 "nbformat": 4,
 "nbformat_minor": 2
}
