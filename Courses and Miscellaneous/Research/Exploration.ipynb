{
 "cells": [
  {
   "attachments": {},
   "cell_type": "markdown",
   "metadata": {},
   "source": [
    "# Six-bar mechanism balancing\n",
    "\n",
    "###### Luis Eduardo Robles Jiménez"
   ]
  },
  {
   "attachments": {},
   "cell_type": "markdown",
   "metadata": {},
   "source": [
    "With this work, I pretend to find out the behavior of the function with different tools, in order to understand what the most important variables are, find patterns, identify overlapping zones of minima between the functions we're optimizing, graphing data, etc."
   ]
  },
  {
   "cell_type": "code",
   "execution_count": 1,
   "metadata": {},
   "outputs": [],
   "source": [
    "from BetaShF import *\n",
    "from BetaShM import *\n",
    "from sklearn.decomposition import PCA\n",
    "import matplotlib.pyplot as plt\n",
    "import plotly.express as px\n",
    "from sympy import *\n",
    "import numpy as np\n",
    "import scipy as sp\n",
    "import time\n",
    "\n",
    "\n",
    "assert ShF([0, 0, 0, 0, 0, 0, 0, 0, 0, 0, 0, 0, 0, 0, 0]) == 1.0\n",
    "assert ShM([0, 0, 0, 0, 0, 0, 0, 0, 0, 0, 0, 0, 0, 0, 0]) == 1.0"
   ]
  },
  {
   "cell_type": "markdown",
   "metadata": {},
   "source": [
    "#### Constraints\n",
    "\n",
    "$$ -0.16m \\leq x_{cn}, y_{cn} \\leq 0.16m $$\n",
    "\n",
    "$$ 0.005m \\leq t_{cn} \\leq 0.04m $$"
   ]
  },
  {
   "cell_type": "markdown",
   "metadata": {},
   "source": [
    "#### Objective function"
   ]
  },
  {
   "cell_type": "code",
   "execution_count": null,
   "metadata": {},
   "outputs": [],
   "source": [
    "def objective(s, ShF, ShM):\n",
    "    return 0.5*ShF(s) + 0.5*ShM(s)"
   ]
  },
  {
   "attachments": {},
   "cell_type": "markdown",
   "metadata": {},
   "source": [
    "## Mathematical analysis "
   ]
  },
  {
   "cell_type": "markdown",
   "metadata": {},
   "source": [
    "### Sympy"
   ]
  },
  {
   "cell_type": "code",
   "execution_count": 3,
   "metadata": {},
   "outputs": [],
   "source": [
    "from momentFormula import *\n",
    "from forceFormula import *"
   ]
  },
  {
   "cell_type": "code",
   "execution_count": null,
   "metadata": {},
   "outputs": [],
   "source": [
    "a = srepr(forceF)\n",
    "b = srepr(momentF)"
   ]
  },
  {
   "attachments": {},
   "cell_type": "markdown",
   "metadata": {},
   "source": [
    "## Sample generation"
   ]
  },
  {
   "cell_type": "code",
   "execution_count": 2,
   "metadata": {},
   "outputs": [],
   "source": [
    "nSamples, nVariables = 500, 15\n",
    "nWeights = nVariables // 3\n",
    "samples = np.zeros((nSamples, nVariables))\n",
    "bounds = np.zeros((nVariables, 2))\n",
    "fitness = np.zeros((nSamples))\n",
    "shForces = np.zeros((nSamples))\n",
    "shMoments = np.zeros((nSamples))"
   ]
  },
  {
   "cell_type": "markdown",
   "metadata": {},
   "source": [
    "### Differential Evolution"
   ]
  },
  {
   "cell_type": "code",
   "execution_count": null,
   "metadata": {},
   "outputs": [],
   "source": [
    "for i in range(nVariables):\n",
    "    if (i + 1) % 3 == 0: samples[:, i] = np.random.uniform(0.005, 0.04, (nSamples))\n",
    "    else: samples[:, i] = np.random.uniform(-0.16, 0.16, (nSamples))\n",
    "for i in range(nSamples):\n",
    "    fitness[i] = objective(samples[i], ShF, ShM)\n",
    "\"\"\"\n",
    "for v in range(nVariables):\n",
    "    bounds[v] = [0.005, 0.04] if (v + 1) % 3 == 0 else [-0.16, 0.16]\n",
    "worst = 0.0\n",
    "for s in range(nSamples):\n",
    "    print(\"\\rIteration:\", s, \"\\tWorst fitness:\", worst, end = \"\")\n",
    "    p = False\n",
    "    if s < nSamples // 10: p = True\n",
    "    r = sp.optimize.differential_evolution(objective, bounds, args = (ShF, ShM), maxiter = 25, popsize = 10, polish = p)\n",
    "    samples[s] = r.x\n",
    "    fitness[s] = r.fun\n",
    "    worst = np.max([worst, fitness[s]])\n",
    "\"\"\""
   ]
  },
  {
   "cell_type": "markdown",
   "metadata": {},
   "source": [
    "### Pymoo"
   ]
  },
  {
   "cell_type": "code",
   "execution_count": 4,
   "metadata": {},
   "outputs": [],
   "source": [
    "from pymoo.core.problem import ElementwiseProblem\n",
    "from pymoo.algorithms.moo.nsga2 import NSGA2\n",
    "from pymoo.operators.crossover.sbx import SBX\n",
    "from pymoo.operators.mutation.pm import PM\n",
    "from pymoo.operators.sampling.rnd import FloatRandomSampling\n",
    "from pymoo.termination import get_termination\n",
    "from pymoo.optimize import minimize"
   ]
  },
  {
   "cell_type": "code",
   "execution_count": 5,
   "metadata": {},
   "outputs": [],
   "source": [
    "class MyProblem(ElementwiseProblem):\n",
    "\n",
    "    def __init__(self):\n",
    "        super().__init__(n_var=nVariables,\n",
    "                         n_obj=2,\n",
    "                         n_ieq_constr=0,\n",
    "                         xl=np.array([-0.16, -0.16, 0.005, -0.16, -0.16, 0.005, -0.16, -0.16, 0.005, -0.16, -0.16, 0.005, -0.16, -0.16, 0.005]),\n",
    "                         xu=np.array([0.16, 0.16, 0.04, 0.16, 0.16, 0.04, 0.16, 0.16, 0.04, 0.16, 0.16, 0.04, 0.16, 0.16, 0.04]))\n",
    "\n",
    "    def _evaluate(self, x, out, *args, **kwargs):\n",
    "        f1 = ShF(x)\n",
    "        f2 = ShM(x)\n",
    "\n",
    "        out[\"F\"] = [f1, f2]\n",
    "        out[\"G\"] = []\n",
    "\n",
    "\n",
    "problem = MyProblem()"
   ]
  },
  {
   "cell_type": "code",
   "execution_count": 16,
   "metadata": {},
   "outputs": [],
   "source": [
    "algorithm = NSGA2(\n",
    "    pop_size=100,\n",
    "    n_offsprings=30,\n",
    "    sampling=FloatRandomSampling(),\n",
    "    crossover=SBX(prob=0.9, eta=15),\n",
    "    mutation=PM(eta=20),\n",
    "    eliminate_duplicates=True\n",
    ")"
   ]
  },
  {
   "cell_type": "code",
   "execution_count": 17,
   "metadata": {},
   "outputs": [],
   "source": [
    "termination = get_termination(\"n_gen\", 100)"
   ]
  },
  {
   "cell_type": "code",
   "execution_count": 18,
   "metadata": {},
   "outputs": [
    {
     "name": "stdout",
     "output_type": "stream",
     "text": [
      "==========================================================\n",
      "n_gen  |  n_eval  | n_nds  |      eps      |   indicator  \n",
      "==========================================================\n",
      "     1 |      100 |      2 |             - |             -\n",
      "     2 |      130 |      2 |  0.6504481377 |         ideal\n",
      "     3 |      160 |      4 |  0.2504652072 |         ideal\n",
      "     4 |      190 |      2 |  0.4448574325 |         ideal\n",
      "     5 |      220 |      2 |  0.000000E+00 |             f\n",
      "     6 |      250 |      2 |  0.0056416747 |         ideal\n",
      "     7 |      280 |      2 |  0.000000E+00 |             f\n",
      "     8 |      310 |      4 |  0.0589758464 |         ideal\n",
      "     9 |      340 |      4 |  0.0266405083 |             f\n",
      "    10 |      370 |      6 |  0.4765720928 |         ideal\n",
      "    11 |      400 |      7 |  0.0301979005 |         nadir\n",
      "    12 |      430 |      9 |  0.0555568624 |         ideal\n",
      "    13 |      460 |      6 |  0.0182230661 |         ideal\n",
      "    14 |      490 |      6 |  0.000000E+00 |             f\n",
      "    15 |      520 |      5 |  0.0700527588 |             f\n",
      "    16 |      550 |      7 |  0.0226815992 |         ideal\n",
      "    17 |      580 |      9 |  0.1014563319 |         ideal\n",
      "    18 |      610 |      4 |  0.0165625691 |         ideal\n",
      "    19 |      640 |      5 |  0.1396108106 |             f\n",
      "    20 |      670 |      7 |  0.0793689999 |         ideal\n",
      "    21 |      700 |      7 |  0.0166512731 |             f\n",
      "    22 |      730 |      9 |  0.0284333242 |             f\n",
      "    23 |      760 |     10 |  0.0207300801 |         ideal\n",
      "    24 |      790 |      9 |  0.0213586992 |         ideal\n",
      "    25 |      820 |     10 |  0.0280924607 |         ideal\n",
      "    26 |      850 |      8 |  0.0198322587 |         nadir\n",
      "    27 |      880 |      9 |  0.0022373969 |             f\n",
      "    28 |      910 |     11 |  0.0039706077 |             f\n",
      "    29 |      940 |     10 |  0.0164308921 |         ideal\n",
      "    30 |      970 |      9 |  0.0273491139 |             f\n",
      "    31 |     1000 |     12 |  0.1255721033 |         nadir\n",
      "    32 |     1030 |     14 |  0.0089069615 |             f\n",
      "    33 |     1060 |     15 |  0.0016916974 |             f\n",
      "    34 |     1090 |     13 |  0.0246851250 |         ideal\n",
      "    35 |     1120 |     14 |  0.1382103863 |         ideal\n",
      "    36 |     1150 |     16 |  0.0212960687 |         ideal\n",
      "    37 |     1180 |     17 |  0.0013156252 |             f\n",
      "    38 |     1210 |     18 |  0.0148518425 |             f\n",
      "    39 |     1240 |     19 |  0.0024557139 |             f\n",
      "    40 |     1270 |     17 |  0.0148636291 |         ideal\n",
      "    41 |     1300 |     18 |  0.0054302432 |             f\n",
      "    42 |     1330 |     18 |  0.0136475164 |             f\n",
      "    43 |     1360 |     19 |  0.0009274449 |             f\n",
      "    44 |     1390 |     20 |  0.0153953794 |         ideal\n",
      "    45 |     1420 |     19 |  0.0049587172 |             f\n",
      "    46 |     1450 |     20 |  0.0070165226 |             f\n",
      "    47 |     1480 |     21 |  0.0041091653 |             f\n",
      "    48 |     1510 |     22 |  0.0026739818 |             f\n",
      "    49 |     1540 |     24 |  0.1870532282 |         nadir\n",
      "    50 |     1570 |     22 |  0.0153579617 |         ideal\n",
      "    51 |     1600 |     24 |  0.0171134979 |         ideal\n",
      "    52 |     1630 |     26 |  0.0032005404 |             f\n",
      "    53 |     1660 |     28 |  0.0008601877 |             f\n",
      "    54 |     1690 |     23 |  0.0160824963 |             f\n",
      "    55 |     1720 |     23 |  0.0252573386 |         nadir\n",
      "    56 |     1750 |     24 |  0.0036877806 |             f\n",
      "    57 |     1780 |     18 |  0.0031239059 |         ideal\n",
      "    58 |     1810 |     19 |  0.0192961691 |         ideal\n",
      "    59 |     1840 |     21 |  0.0099106443 |             f\n",
      "    60 |     1870 |     21 |  0.0036049501 |             f\n",
      "    61 |     1900 |     26 |  0.0115771056 |             f\n",
      "    62 |     1930 |     26 |  0.0183931242 |         ideal\n",
      "    63 |     1960 |     27 |  0.0016821898 |             f\n",
      "    64 |     1990 |     22 |  0.0053286854 |             f\n",
      "    65 |     2020 |     26 |  0.0038685674 |             f\n",
      "    66 |     2050 |     31 |  0.0057930980 |         ideal\n",
      "    67 |     2080 |     34 |  0.0052669421 |             f\n",
      "    68 |     2110 |     38 |  0.0035035237 |         ideal\n",
      "    69 |     2140 |     41 |  0.1167878332 |         nadir\n",
      "    70 |     2170 |     36 |  0.0013118076 |             f\n",
      "    71 |     2200 |     38 |  0.0235847664 |         ideal\n",
      "    72 |     2230 |     39 |  0.0020811857 |             f\n",
      "    73 |     2260 |     44 |  0.0080418213 |         ideal\n",
      "    74 |     2290 |     46 |  0.0002762708 |             f\n",
      "    75 |     2320 |     49 |  0.0019626898 |             f\n",
      "    76 |     2350 |     49 |  0.0037931344 |             f\n",
      "    77 |     2380 |     49 |  0.0036653285 |             f\n",
      "    78 |     2410 |     45 |  0.0020987487 |             f\n",
      "    79 |     2440 |     48 |  0.0028721898 |             f\n",
      "    80 |     2470 |     46 |  0.0016760772 |             f\n",
      "    81 |     2500 |     49 |  0.0531526016 |         nadir\n",
      "    82 |     2530 |     50 |  0.0002478177 |             f\n",
      "    83 |     2560 |     53 |  0.0007976661 |             f\n",
      "    84 |     2590 |     50 |  0.0014548887 |             f\n",
      "    85 |     2620 |     53 |  0.0019279097 |             f\n",
      "    86 |     2650 |     55 |  0.0025115983 |             f\n",
      "    87 |     2680 |     56 |  0.0007585442 |             f\n",
      "    88 |     2710 |     57 |  0.0039183438 |         ideal\n",
      "    89 |     2740 |     54 |  0.0035265923 |         nadir\n",
      "    90 |     2770 |     58 |  0.0042879085 |         ideal\n",
      "    91 |     2800 |     55 |  0.2139658516 |         nadir\n",
      "    92 |     2830 |     59 |  0.0014201044 |             f\n",
      "    93 |     2860 |     59 |  0.0026278333 |             f\n",
      "    94 |     2890 |     55 |  0.0016973672 |             f\n",
      "    95 |     2920 |     53 |  0.0035934704 |             f\n",
      "    96 |     2950 |     56 |  0.0269184203 |         ideal\n",
      "    97 |     2980 |     57 |  0.0006261823 |             f\n",
      "    98 |     3010 |     55 |  0.0016418225 |             f\n",
      "    99 |     3040 |     57 |  0.0024697675 |             f\n",
      "   100 |     3070 |     57 |  0.0026629687 |             f\n"
     ]
    }
   ],
   "source": [
    "res = minimize(problem,\n",
    "               algorithm,\n",
    "               termination,\n",
    "               seed=1,\n",
    "               save_history=True,\n",
    "               verbose=True)\n",
    "\n",
    "X = res.X\n",
    "F = res.F"
   ]
  },
  {
   "cell_type": "code",
   "execution_count": 25,
   "metadata": {},
   "outputs": [
    {
     "name": "stdout",
     "output_type": "stream",
     "text": [
      "(57, 15)\n",
      "(57, 2)\n"
     ]
    }
   ],
   "source": [
    "print(X.shape)\n",
    "print(F.shape)\n",
    "samples = np.copy(X)\n",
    "fitness = np.average(F, axis = 1)\n",
    "shForces = F[:, 0]\n",
    "shForces = F[:, 1]"
   ]
  },
  {
   "cell_type": "code",
   "execution_count": 10,
   "metadata": {},
   "outputs": [
    {
     "data": {
      "image/png": "[encoded data removed]",
      "text/plain": [
       "<Figure size 700x500 with 1 Axes>"
      ]
     },
     "metadata": {},
     "output_type": "display_data"
    }
   ],
   "source": [
    "plt.figure(figsize=(7, 5))\n",
    "plt.scatter(F[:, 0], F[:, 1], s=30, facecolors='none', edgecolors='blue')\n",
    "plt.title(\"Objective Space\")\n",
    "plt.show()"
   ]
  },
  {
   "cell_type": "markdown",
   "metadata": {},
   "source": [
    "### Write data to a file"
   ]
  },
  {
   "cell_type": "code",
   "execution_count": 26,
   "metadata": {},
   "outputs": [],
   "source": [
    "now = str(int(time.time()))\n",
    "np.savetxt(now + \"Population.txt\", samples)\n",
    "np.savetxt(now + \"Fitness.txt\", fitness)\n",
    "np.savetxt(now + \"ShForces.txt\", shForces)\n",
    "np.savetxt(now + \"ShMoments.txt\", shMoments)"
   ]
  }
 ],
 "metadata": {
  "kernelspec": {
   "display_name": "Python 3",
   "language": "python",
   "name": "python3"
  },
  "language_info": {
   "codemirror_mode": {
    "name": "ipython",
    "version": 3
   },
   "file_extension": ".py",
   "mimetype": "text/x-python",
   "name": "python",
   "nbconvert_exporter": "python",
   "pygments_lexer": "ipython3",
   "version": "3.10.4"
  },
  "orig_nbformat": 4,
  "vscode": {
   "interpreter": {
    "hash": "26de051ba29f2982a8de78e945f0abaf191376122a1563185a90213a26c5da77"
   }
  }
 },
 "nbformat": 4,
 "nbformat_minor": 2
}
