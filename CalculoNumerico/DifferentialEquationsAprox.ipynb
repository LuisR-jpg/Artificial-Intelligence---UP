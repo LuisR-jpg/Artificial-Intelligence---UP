{
 "cells": [
  {
   "cell_type": "markdown",
   "id": "artistic-worse",
   "metadata": {},
   "source": [
    "# Aproximación de Ecuaciones Diferenciales"
   ]
  },
  {
   "cell_type": "markdown",
   "id": "fifth-female",
   "metadata": {},
   "source": [
    "***Luis Eduardo Robles Jiménez***\n",
    "\n",
    "0224969"
   ]
  },
  {
   "cell_type": "markdown",
   "id": "charming-paris",
   "metadata": {},
   "source": [
    "## Input"
   ]
  },
  {
   "cell_type": "code",
   "execution_count": 25,
   "id": "classical-convergence",
   "metadata": {},
   "outputs": [],
   "source": [
    "# yp, a, b, n, c = 'y - t**2 + 1', 0, 2, 10, 0.5\n",
    "#yp, a, b, n, c = '-2*t**3 + 12*t**2 - 20*t + 8.5', 0, 4, 8, 1\n",
    "yp, a, b, n, c = 'y - t**2 + 1', 0, 2, 10, 0.5"
   ]
  },
  {
   "cell_type": "markdown",
   "id": "afraid-subsection",
   "metadata": {},
   "source": [
    "## Method"
   ]
  },
  {
   "cell_type": "code",
   "execution_count": 14,
   "id": "ethical-mixer",
   "metadata": {},
   "outputs": [
    {
     "data": {
      "text/plain": [
       "[5.25000000000000,\n",
       " 5.87500000000000,\n",
       " 5.12500000000000,\n",
       " 4.50000000000000,\n",
       " 4.75000000000000,\n",
       " 5.87500000000000,\n",
       " 7.12500000000000,\n",
       " 7.00000000000000]"
      ]
     },
     "execution_count": 14,
     "metadata": {},
     "output_type": "execute_result"
    }
   ],
   "source": [
    "Euler(yp, a, b, n, c)"
   ]
  },
  {
   "cell_type": "code",
   "execution_count": 34,
   "id": "satisfactory-independence",
   "metadata": {},
   "outputs": [
    {
     "data": {
      "text/plain": [
       "[0.829293333333333,\n",
       " 1.21407621066667,\n",
       " 1.64892201704160,\n",
       " 2.12720268494794,\n",
       " 2.64082269272875,\n",
       " 3.17989417023223,\n",
       " 3.73234007285498,\n",
       " 4.28340949831841,\n",
       " 4.81508569457943,\n",
       " 5.30536300069265]"
      ]
     },
     "execution_count": 34,
     "metadata": {},
     "output_type": "execute_result"
    }
   ],
   "source": [
    "RunggeKutta(yp, a, b, n, c)"
   ]
  },
  {
   "cell_type": "markdown",
   "id": "oriental-crowd",
   "metadata": {},
   "source": [
    "## Euler"
   ]
  },
  {
   "cell_type": "code",
   "execution_count": 15,
   "id": "universal-blink",
   "metadata": {},
   "outputs": [],
   "source": [
    "def Euler(fun, a, b, n, c):\n",
    "    f = parse_expr(fun)\n",
    "    h = (b - a)/n\n",
    "    tT, yV, p = a, c, []\n",
    "    for i in range(1, n+1):\n",
    "        yV += h*N(f.subs([(t, tT), (y, yV)]))\n",
    "        tT += h\n",
    "        p.append(yV)\n",
    "    return p    "
   ]
  },
  {
   "cell_type": "markdown",
   "id": "favorite-grace",
   "metadata": {},
   "source": [
    "## Rungge Kutta (Cuarto Grado)"
   ]
  },
  {
   "cell_type": "code",
   "execution_count": 33,
   "id": "mechanical-wings",
   "metadata": {},
   "outputs": [],
   "source": [
    "def RunggeKutta(fun, a, b, n, c):\n",
    "    f = parse_expr(fun)\n",
    "    h = (b - a)/n\n",
    "    tT, yV, p = a, c, []\n",
    "    for i in range(n):\n",
    "        ku = h*N(f.subs([(t, tT), (y, yV)]))\n",
    "        kd = h*N(f.subs([(t, tT + h/2), (y, yV + ku/2)]))\n",
    "        kt = h*N(f.subs([(t, tT + h/2), (y, yV + kd/2)]))\n",
    "        kc = h*N(f.subs([(t, tT + h), (y, yV + kt)]))\n",
    "        yV += (ku + 2*kd + 2*kt + kc)/6\n",
    "        tT += h\n",
    "        p.append(yV)\n",
    "    return p"
   ]
  },
  {
   "cell_type": "markdown",
   "id": "blond-column",
   "metadata": {},
   "source": [
    "## Run first"
   ]
  },
  {
   "cell_type": "code",
   "execution_count": 5,
   "id": "photographic-essex",
   "metadata": {},
   "outputs": [],
   "source": [
    "from sympy import *\n",
    "t, y = symbols(\"t\"), symbols(\"y\")"
   ]
  }
 ],
 "metadata": {
  "kernelspec": {
   "display_name": "Python 3",
   "language": "python",
   "name": "python3"
  },
  "language_info": {
   "codemirror_mode": {
    "name": "ipython",
    "version": 3
   },
   "file_extension": ".py",
   "mimetype": "text/x-python",
   "name": "python",
   "nbconvert_exporter": "python",
   "pygments_lexer": "ipython3",
   "version": "3.9.2"
  }
 },
 "nbformat": 4,
 "nbformat_minor": 5
}
