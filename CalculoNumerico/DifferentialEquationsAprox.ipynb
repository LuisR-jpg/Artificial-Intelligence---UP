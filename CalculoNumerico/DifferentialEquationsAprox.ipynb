{
 "cells": [
  {
   "cell_type": "markdown",
   "id": "artistic-worse",
   "metadata": {},
   "source": [
    "# Aproximación de Ecuaciones Diferenciales"
   ]
  },
  {
   "cell_type": "markdown",
   "id": "fifth-female",
   "metadata": {},
   "source": [
    "***Luis Eduardo Robles Jiménez***\n",
    "\n",
    "0224969"
   ]
  },
  {
   "cell_type": "markdown",
   "id": "charming-paris",
   "metadata": {},
   "source": [
    "## Input"
   ]
  },
  {
   "cell_type": "code",
   "execution_count": null,
   "id": "classical-convergence",
   "metadata": {},
   "outputs": [],
   "source": [
    "#yp, a, b, n, c = 'y - t**2 + 1', 0, 2, 10, 0.5\n",
    "#yp, a, b, n, c = '-2*t**3 + 12*t**2 - 20*t + 8.5', 0, 4, 8, 1\n",
    "#yp, a, b, n, c = 'y - t**2 + 1', 0, 2, 10, 0.5\n",
    "yp, a, b, n, c = '-5*y + 5*t**2 + 2*t', 0, 1, 10, 1/3"
   ]
  },
  {
   "cell_type": "markdown",
   "id": "afraid-subsection",
   "metadata": {},
   "source": [
    "## Method"
   ]
  },
  {
   "cell_type": "code",
   "execution_count": null,
   "id": "ethical-mixer",
   "metadata": {},
   "outputs": [],
   "source": [
    "Euler(yp, a, b, n, c)"
   ]
  },
  {
   "cell_type": "code",
   "execution_count": null,
   "id": "satisfactory-independence",
   "metadata": {},
   "outputs": [],
   "source": [
    "RunggeKutta(yp, a, b, n, c)"
   ]
  },
  {
   "cell_type": "markdown",
   "id": "oriental-crowd",
   "metadata": {},
   "source": [
    "## Euler"
   ]
  },
  {
   "cell_type": "code",
   "execution_count": null,
   "id": "universal-blink",
   "metadata": {},
   "outputs": [],
   "source": [
    "def Euler(fun, a, b, n, c):\n",
    "    f = parse_expr(fun)\n",
    "    print(\"\\tf(x) =\", f, end = \"\\n\\n\")\n",
    "    h = (b - a)/n\n",
    "    tT, yV, p = a, c, []\n",
    "    for i in range(1, n+1):\n",
    "        print(tT, yV, sep = \"\\t\")\n",
    "        yV += h*N(f.subs([(t, tT), (y, yV)]))\n",
    "        tT += h\n",
    "        p.append(yV)\n",
    "    return (tT, yV)"
   ]
  },
  {
   "cell_type": "markdown",
   "id": "favorite-grace",
   "metadata": {},
   "source": [
    "## Rungge Kutta (Cuarto Grado)"
   ]
  },
  {
   "cell_type": "code",
   "execution_count": null,
   "id": "mechanical-wings",
   "metadata": {},
   "outputs": [],
   "source": [
    "def RunggeKutta(fun, a, b, n, c):\n",
    "    f = parse_expr(fun)\n",
    "    print(\"\\tf(x) =\", f, end = \"\\n\\n\")\n",
    "    h = (b - a)/n\n",
    "    tT, yV, p = a, c, []\n",
    "    for i in range(n):\n",
    "        ku = h*N(f.subs([(t, tT), (y, yV)]))\n",
    "        kd = h*N(f.subs([(t, tT + h/2), (y, yV + ku/2)]))\n",
    "        kt = h*N(f.subs([(t, tT + h/2), (y, yV + kd/2)]))\n",
    "        kc = h*N(f.subs([(t, tT + h), (y, yV + kt)]))\n",
    "        yV += (ku + 2*kd + 2*kt + kc)/6\n",
    "        tT += h\n",
    "        p.append(yV)\n",
    "        print(tT, yV, sep = \"\\t\")\n",
    "    return (tT, yV)"
   ]
  },
  {
   "cell_type": "markdown",
   "id": "blond-column",
   "metadata": {},
   "source": [
    "## Run first"
   ]
  },
  {
   "cell_type": "code",
   "execution_count": null,
   "id": "photographic-essex",
   "metadata": {},
   "outputs": [],
   "source": [
    "from sympy import *\n",
    "t, y = symbols(\"t\"), symbols(\"y\")"
   ]
  }
 ],
 "metadata": {
  "kernelspec": {
   "display_name": "Python 3",
   "language": "python",
   "name": "python3"
  },
  "language_info": {
   "codemirror_mode": {
    "name": "ipython",
    "version": 3
   },
   "file_extension": ".py",
   "mimetype": "text/x-python",
   "name": "python",
   "nbconvert_exporter": "python",
   "pygments_lexer": "ipython3",
   "version": "3.9.2"
  }
 },
 "nbformat": 4,
 "nbformat_minor": 5
}
