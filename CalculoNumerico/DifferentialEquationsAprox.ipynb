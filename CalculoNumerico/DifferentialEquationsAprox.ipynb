{
 "cells": [
  {
   "cell_type": "markdown",
   "id": "artistic-worse",
   "metadata": {},
   "source": [
    "# Aproximación de Ecuaciones Diferenciales"
   ]
  },
  {
   "cell_type": "markdown",
   "id": "fifth-female",
   "metadata": {},
   "source": [
    "***Luis Eduardo Robles Jiménez***\n",
    "\n",
    "0224969"
   ]
  },
  {
   "cell_type": "markdown",
   "id": "charming-paris",
   "metadata": {},
   "source": [
    "## Input"
   ]
  },
  {
   "cell_type": "code",
   "execution_count": 15,
   "id": "classical-convergence",
   "metadata": {},
   "outputs": [],
   "source": [
    "#yp, a, b, n, c = 'y - t**2 + 1', 0, 2, 10, 0.5\n",
    "#yp, a, b, n, c = '-2*t**3 + 12*t**2 - 20*t + 8.5', 0, 4, 8, 1\n",
    "#yp, a, b, n, c = 'y - t**2 + 1', 0, 2, 10, 0.5\n",
    "#yp, a, b, n, c = '-5*y + 5*t**2 + 2*t', 0, 1, 10, 1/3\n",
    "yp, a, b, n, c = 't*exp(3*t)-2*y', 0, 1, 10, 0"
   ]
  },
  {
   "cell_type": "markdown",
   "id": "afraid-subsection",
   "metadata": {},
   "source": [
    "## Method"
   ]
  },
  {
   "cell_type": "code",
   "execution_count": 16,
   "id": "ethical-mixer",
   "metadata": {},
   "outputs": [
    {
     "name": "stdout",
     "output_type": "stream",
     "text": [
      "\tf(x) = t*exp(3*t) - 2*y\n",
      "\n",
      "0\t0\n",
      "0.1\t0\n",
      "0.2\t0.0134985880757600\n",
      "0.30000000000000004\t0.0472412464684182\n",
      "0.4\t0.111581090509443\n",
      "0.5\t0.222069549317016\n",
      "0.6\t0.401740092970516\n",
      "0.7\t0.684370922241190\n",
      "0.7999999999999999\t1.11912863167269\n",
      "0.8999999999999999\t1.77715701578948\n"
     ]
    },
    {
     "data": {
      "text/plain": [
       "(0.9999999999999999, 2.76090146787014)"
      ]
     },
     "execution_count": 16,
     "metadata": {},
     "output_type": "execute_result"
    }
   ],
   "source": [
    "Euler(yp, a, b, n, c)"
   ]
  },
  {
   "cell_type": "code",
   "execution_count": 18,
   "id": "satisfactory-independence",
   "metadata": {},
   "outputs": [
    {
     "name": "stdout",
     "output_type": "stream",
     "text": [
      "\tf(x) = t*exp(3*t) - 2*y\n",
      "\n",
      "0.1\t0.00575463131152366\n",
      "0.2\t0.0268187705967712\n",
      "0.30000000000000004\t0.0711551645153538\n",
      "0.4\t0.150795060680180\n",
      "0.5\t0.283643159044116\n",
      "0.6\t0.496059711486905\n",
      "0.7\t0.826540417642342\n",
      "0.7999999999999999\t1.33094440447376\n",
      "0.8999999999999999\t2.08990160734167\n",
      "0.9999999999999999\t3.21928339546339\n"
     ]
    },
    {
     "data": {
      "text/plain": [
       "(0.9999999999999999, 3.21928339546339)"
      ]
     },
     "execution_count": 18,
     "metadata": {},
     "output_type": "execute_result"
    }
   ],
   "source": [
    "RunggeKutta(yp, a, b, n, c)"
   ]
  },
  {
   "cell_type": "markdown",
   "id": "oriental-crowd",
   "metadata": {},
   "source": [
    "## Euler"
   ]
  },
  {
   "cell_type": "code",
   "execution_count": 10,
   "id": "universal-blink",
   "metadata": {},
   "outputs": [],
   "source": [
    "def Euler(fun, a, b, n, c):\n",
    "    f = parse_expr(fun)\n",
    "    print(\"\\tf(x) =\", f, end = \"\\n\\n\")\n",
    "    h = (b - a)/n\n",
    "    tT, yV, p = a, c, []\n",
    "    for i in range(1, n+1):\n",
    "        print(tT, yV, sep = \"\\t\")\n",
    "        yV += h*N(f.subs([(t, tT), (y, yV)]))\n",
    "        tT += h\n",
    "        p.append(yV)\n",
    "    return (tT, yV)"
   ]
  },
  {
   "cell_type": "markdown",
   "id": "favorite-grace",
   "metadata": {},
   "source": [
    "## Rungge Kutta (Cuarto Grado)"
   ]
  },
  {
   "cell_type": "code",
   "execution_count": 9,
   "id": "mechanical-wings",
   "metadata": {},
   "outputs": [],
   "source": [
    "def RunggeKutta(fun, a, b, n, c):\n",
    "    f = parse_expr(fun)\n",
    "    print(\"\\tf(x) =\", f, end = \"\\n\\n\")\n",
    "    h = (b - a)/n\n",
    "    tT, yV, p = a, c, []\n",
    "    for i in range(n):\n",
    "        ku = h*N(f.subs([(t, tT), (y, yV)]))\n",
    "        kd = h*N(f.subs([(t, tT + h/2), (y, yV + ku/2)]))\n",
    "        kt = h*N(f.subs([(t, tT + h/2), (y, yV + kd/2)]))\n",
    "        kc = h*N(f.subs([(t, tT + h), (y, yV + kt)]))\n",
    "        yV += (ku + 2*kd + 2*kt + kc)/6\n",
    "        tT += h\n",
    "        p.append(yV)\n",
    "        print(tT, yV, sep = \"\\t\")\n",
    "    return (tT, yV)"
   ]
  },
  {
   "cell_type": "markdown",
   "id": "blond-column",
   "metadata": {},
   "source": [
    "## Run first"
   ]
  },
  {
   "cell_type": "code",
   "execution_count": 8,
   "id": "photographic-essex",
   "metadata": {},
   "outputs": [],
   "source": [
    "from sympy import *\n",
    "t, y = symbols(\"t\"), symbols(\"y\")"
   ]
  }
 ],
 "metadata": {
  "kernelspec": {
   "display_name": "Python 3",
   "language": "python",
   "name": "python3"
  },
  "language_info": {
   "codemirror_mode": {
    "name": "ipython",
    "version": 3
   },
   "file_extension": ".py",
   "mimetype": "text/x-python",
   "name": "python",
   "nbconvert_exporter": "python",
   "pygments_lexer": "ipython3",
   "version": "3.9.2"
  }
 },
 "nbformat": 4,
 "nbformat_minor": 5
}
