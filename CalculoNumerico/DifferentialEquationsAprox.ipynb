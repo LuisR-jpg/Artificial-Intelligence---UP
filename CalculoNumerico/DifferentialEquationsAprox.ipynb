{
 "cells": [
  {
   "cell_type": "markdown",
   "id": "artistic-worse",
   "metadata": {},
   "source": [
    "# Aproximación de Ecuaciones Diferenciales"
   ]
  },
  {
   "cell_type": "markdown",
   "id": "fifth-female",
   "metadata": {},
   "source": [
    "***Luis Eduardo Robles Jiménez***\n",
    "\n",
    "0224969"
   ]
  },
  {
   "cell_type": "markdown",
   "id": "charming-paris",
   "metadata": {},
   "source": [
    "## Input"
   ]
  },
  {
   "cell_type": "code",
   "execution_count": 22,
   "id": "classical-convergence",
   "metadata": {},
   "outputs": [],
   "source": [
    "#yp, a, b, n, c = 'y - t**2 + 1', 0, 2, 10, 0.5\n",
    "#yp, a, b, n, c = '-2*t**3 + 12*t**2 - 20*t + 8.5', 0, 4, 8, 1\n",
    "#yp, a, b, n, c = 'y - t**2 + 1', 0, 2, 10, 0.5\n",
    "yp, a, b, n, c = '-5*y + 5*t**2 + 2*t', 0, 1, 10, 1/3"
   ]
  },
  {
   "cell_type": "markdown",
   "id": "afraid-subsection",
   "metadata": {},
   "source": [
    "## Method"
   ]
  },
  {
   "cell_type": "code",
   "execution_count": 31,
   "id": "ethical-mixer",
   "metadata": {},
   "outputs": [
    {
     "name": "stdout",
     "output_type": "stream",
     "text": [
      "\tf(x) = 5*t**2 + 2*t - 5*y\n",
      "\n",
      "0.1\t0.166666666666667\n",
      "0.2\t0.108333333333333\n",
      "0.30000000000000004\t0.114166666666667\n",
      "0.4\t0.162083333333333\n",
      "0.5\t0.241041666666667\n",
      "0.6\t0.345520833333333\n",
      "0.7\t0.472760416666667\n",
      "0.7999999999999999\t0.621380208333333\n",
      "0.8999999999999999\t0.790690104166667\n",
      "0.9999999999999999\t0.980345052083333\n"
     ]
    },
    {
     "data": {
      "text/plain": [
       "(0.9999999999999999, 0.980345052083333)"
      ]
     },
     "execution_count": 31,
     "metadata": {},
     "output_type": "execute_result"
    }
   ],
   "source": [
    "Euler(yp, a, b, n, c)"
   ]
  },
  {
   "cell_type": "code",
   "execution_count": 33,
   "id": "satisfactory-independence",
   "metadata": {},
   "outputs": [
    {
     "name": "stdout",
     "output_type": "stream",
     "text": [
      "\tf(x) = 5*t**2 + 2*t - 5*y\n",
      "\n",
      "0.1\t0.212282986111111\n",
      "0.2\t0.162765457718461\n",
      "0.30000000000000004\t0.164516540751045\n",
      "0.4\t0.205240505195296\n",
      "0.5\t0.277476660704437\n",
      "0.6\t0.376698077979515\n",
      "0.7\t0.500157948357362\n",
      "0.7999999999999999\t0.646189588456420\n",
      "0.8999999999999999\t0.813781703412359\n",
      "0.9999999999999999\t1.00232066899760\n"
     ]
    },
    {
     "data": {
      "text/plain": [
       "(0.9999999999999999, 1.00232066899760)"
      ]
     },
     "execution_count": 33,
     "metadata": {},
     "output_type": "execute_result"
    }
   ],
   "source": [
    "RunggeKutta(yp, a, b, n, c)"
   ]
  },
  {
   "cell_type": "markdown",
   "id": "oriental-crowd",
   "metadata": {},
   "source": [
    "## Euler"
   ]
  },
  {
   "cell_type": "code",
   "execution_count": 30,
   "id": "universal-blink",
   "metadata": {},
   "outputs": [],
   "source": [
    "def Euler(fun, a, b, n, c):\n",
    "    f = parse_expr(fun)\n",
    "    print(\"\\tf(x) =\", f, end = \"\\n\\n\")\n",
    "    h = (b - a)/n\n",
    "    tT, yV, p = a, c, []\n",
    "    for i in range(1, n+1):\n",
    "        yV += h*N(f.subs([(t, tT), (y, yV)]))\n",
    "        tT += h\n",
    "        p.append(yV)\n",
    "        print(tT, yV, sep = \"\\t\")\n",
    "    return (tT, yV)"
   ]
  },
  {
   "cell_type": "markdown",
   "id": "favorite-grace",
   "metadata": {},
   "source": [
    "## Rungge Kutta (Cuarto Grado)"
   ]
  },
  {
   "cell_type": "code",
   "execution_count": 32,
   "id": "mechanical-wings",
   "metadata": {},
   "outputs": [],
   "source": [
    "def RunggeKutta(fun, a, b, n, c):\n",
    "    f = parse_expr(fun)\n",
    "    print(\"\\tf(x) =\", f, end = \"\\n\\n\")\n",
    "    h = (b - a)/n\n",
    "    tT, yV, p = a, c, []\n",
    "    for i in range(n):\n",
    "        ku = h*N(f.subs([(t, tT), (y, yV)]))\n",
    "        kd = h*N(f.subs([(t, tT + h/2), (y, yV + ku/2)]))\n",
    "        kt = h*N(f.subs([(t, tT + h/2), (y, yV + kd/2)]))\n",
    "        kc = h*N(f.subs([(t, tT + h), (y, yV + kt)]))\n",
    "        yV += (ku + 2*kd + 2*kt + kc)/6\n",
    "        tT += h\n",
    "        p.append(yV)\n",
    "        print(tT, yV, sep = \"\\t\")\n",
    "    return (tT, yV)"
   ]
  },
  {
   "cell_type": "markdown",
   "id": "blond-column",
   "metadata": {},
   "source": [
    "## Run first"
   ]
  },
  {
   "cell_type": "code",
   "execution_count": 2,
   "id": "photographic-essex",
   "metadata": {},
   "outputs": [],
   "source": [
    "from sympy import *\n",
    "t, y = symbols(\"t\"), symbols(\"y\")"
   ]
  }
 ],
 "metadata": {
  "kernelspec": {
   "display_name": "Python 3",
   "language": "python",
   "name": "python3"
  },
  "language_info": {
   "codemirror_mode": {
    "name": "ipython",
    "version": 3
   },
   "file_extension": ".py",
   "mimetype": "text/x-python",
   "name": "python",
   "nbconvert_exporter": "python",
   "pygments_lexer": "ipython3",
   "version": "3.9.2"
  }
 },
 "nbformat": 4,
 "nbformat_minor": 5
}
