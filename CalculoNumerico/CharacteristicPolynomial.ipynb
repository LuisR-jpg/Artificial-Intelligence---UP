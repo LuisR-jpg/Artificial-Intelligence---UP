{
 "cells": [
  {
   "cell_type": "markdown",
   "id": "artistic-worse",
   "metadata": {},
   "source": [
    "# Aproximación de un Polinomio Característico"
   ]
  },
  {
   "cell_type": "markdown",
   "id": "fifth-female",
   "metadata": {},
   "source": [
    "***Luis Eduardo Robles Jiménez***\n",
    "\n",
    "0224969"
   ]
  },
  {
   "cell_type": "markdown",
   "id": "charming-paris",
   "metadata": {},
   "source": [
    "## Input"
   ]
  },
  {
   "cell_type": "code",
   "execution_count": 6,
   "id": "classical-convergence",
   "metadata": {},
   "outputs": [],
   "source": [
    "#matrix = np.array([[3, 1, 5], [3, 3, 1], [4, 6, 4]]) #1, -10, 4, -40\n",
    "#matrix = np.array([[3, 2, 4], [2, 0, 2], [4, 2, 3]]) #1, -6, -15, -8\n",
    "matrix = np.array([[1, -1, 4], [3, 2, -1], [2, 1, -1]])"
   ]
  },
  {
   "cell_type": "markdown",
   "id": "afraid-subsection",
   "metadata": {},
   "source": [
    "## Method"
   ]
  },
  {
   "cell_type": "code",
   "execution_count": 7,
   "id": "ethical-mixer",
   "metadata": {},
   "outputs": [
    {
     "name": "stdout",
     "output_type": "stream",
     "text": [
      "Matrix:\n",
      "\n",
      " [[ 1 -1  4]\n",
      " [ 3  2 -1]\n",
      " [ 2  1 -1]] \n",
      "\n",
      "\n"
     ]
    },
    {
     "data": {
      "text/plain": [
       "array([ 1., -2., -5.,  6.])"
      ]
     },
     "execution_count": 7,
     "metadata": {},
     "output_type": "execute_result"
    }
   ],
   "source": [
    "Leverrier_Faddeev(matrix)"
   ]
  },
  {
   "cell_type": "markdown",
   "id": "oriental-crowd",
   "metadata": {},
   "source": [
    "## Leverrier Faddeev"
   ]
  },
  {
   "cell_type": "code",
   "execution_count": 4,
   "id": "universal-blink",
   "metadata": {},
   "outputs": [],
   "source": [
    "def Leverrier_Faddeev(A):\n",
    "    print(\"Matrix:\\n\\n\", A, \"\\n\\n\")\n",
    "    n = A.shape[0]\n",
    "    b, B, i = np.empty(n+1), np.empty((n+1, n, n)), np.identity(n)\n",
    "    b[n], B[0] = 1, np.zeros((n, n))\n",
    "    for k in range(1, n+1):\n",
    "        B[k] = (A @ B[k-1]) + (b[n-k+1] * i)\n",
    "        b[n-k] = -np.trace(A @ B[k])/k\n",
    "    return np.flip(b)"
   ]
  },
  {
   "cell_type": "markdown",
   "id": "blond-column",
   "metadata": {},
   "source": [
    "## Run first"
   ]
  },
  {
   "cell_type": "code",
   "execution_count": 2,
   "id": "photographic-essex",
   "metadata": {},
   "outputs": [],
   "source": [
    "import numpy as np\n",
    "from sympy import *\n",
    "x, lmbd = symbols(\"x\"), symbols(\"lambda\")"
   ]
  }
 ],
 "metadata": {
  "kernelspec": {
   "display_name": "Python 3",
   "language": "python",
   "name": "python3"
  },
  "language_info": {
   "codemirror_mode": {
    "name": "ipython",
    "version": 3
   },
   "file_extension": ".py",
   "mimetype": "text/x-python",
   "name": "python",
   "nbconvert_exporter": "python",
   "pygments_lexer": "ipython3",
   "version": "3.9.2"
  }
 },
 "nbformat": 4,
 "nbformat_minor": 5
}
