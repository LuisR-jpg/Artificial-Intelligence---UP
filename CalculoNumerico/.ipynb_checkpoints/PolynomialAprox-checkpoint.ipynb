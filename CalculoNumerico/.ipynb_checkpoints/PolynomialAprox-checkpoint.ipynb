{
 "cells": [
  {
   "cell_type": "markdown",
   "id": "interracial-scout",
   "metadata": {},
   "source": [
    "# Aproximaciones\n",
    "\n",
    "\n",
    "##### Luis Eduardo Robles Jimenez\n",
    "\n",
    "0224969"
   ]
  },
  {
   "cell_type": "markdown",
   "id": "advance-commander",
   "metadata": {},
   "source": [
    "# Input"
   ]
  },
  {
   "cell_type": "code",
   "execution_count": null,
   "id": "indonesian-delaware",
   "metadata": {},
   "outputs": [],
   "source": [
    "#xInput = (1, 4, 6, 5)\n",
    "#yInput = \"ln(x)\"\n",
    "#xInput = (1, 4, 6)\n",
    "#yInput = \"ln(x)\"\n",
    "#xInput = (1.0, 1.3, 1.6, 1.9, 2.2)\n",
    "#yInput = (0.765197, 0.6200860, 0.4554022, 0.2818186, 0.1103623)\n",
    "#xInput = (1.0, 1.3, 1.6)\n",
    "#yInput = (0.7651977, 0.6200860, 0.4554022)\n",
    "#xInput = (8.1, 8.3, 8.6, 8.7)\n",
    "#yInput = (16.94410, 17.56492, 18.50515, 18.82091)\n",
    "#xInput = (1.3, 1.6, 1.9)\n",
    "#yInput = (0.6200860, 0.4554022, 0.2818186)\n",
    "#dInput = (-0.5220232, -0.5698959, -0.5811571)\n",
    "#xInput = (8.3, 8.6)\n",
    "#yInput = (17.56492, 18.50515)\n",
    "#dInput = (3.116256, 3.151762)\n",
    "#xInput = (0, 0.6, 0.9)\n",
    "#yInput = \"ln(x+1)\"\n",
    "#xInput = (8, 9, 11)\n",
    "#yInput = \"log(x, 10)\"\n",
    "xInput = (8, 9, 11)\n",
    "yInput = Cloud(xInput, \"log(x, 10)\")\n",
    "dInput = Cloud(xInput, \"1/(x*log(10))\")"
   ]
  },
  {
   "cell_type": "markdown",
   "id": "occupied-dictionary",
   "metadata": {},
   "source": [
    "# Method"
   ]
  },
  {
   "cell_type": "code",
   "execution_count": null,
   "id": "attended-ministry",
   "metadata": {
    "scrolled": true
   },
   "outputs": [],
   "source": [
    "f, e = Lagrange(xInput, yInput), 10\n",
    "print(\"\\ng(\", e, \") ≈ \", N(f.subs(x, e)), sep = \"\")"
   ]
  },
  {
   "cell_type": "code",
   "execution_count": null,
   "id": "announced-region",
   "metadata": {},
   "outputs": [],
   "source": [
    "f, e = Newton(xInput, yInput), 10\n",
    "print(\"\\nf(\", e, \") ≈ \", N(f.subs(x, e)), sep = \"\")"
   ]
  },
  {
   "cell_type": "code",
   "execution_count": null,
   "id": "composed-eclipse",
   "metadata": {
    "scrolled": true
   },
   "outputs": [],
   "source": [
    "f, e = Hermite(xInput, yInput, dInput), 10\n",
    "print(\"\\nf(\", e, \") ≈ \", N(f.subs(x, e)), sep = \"\")"
   ]
  },
  {
   "cell_type": "markdown",
   "id": "bottom-pregnancy",
   "metadata": {},
   "source": [
    "## Lagrange"
   ]
  },
  {
   "cell_type": "code",
   "execution_count": null,
   "id": "bronze-envelope",
   "metadata": {},
   "outputs": [],
   "source": [
    "def Lagrange(xInput, yInput, p = None):\n",
    "    yInput, n, s = Cloud(xInput, yInput), len(xInput), \"\"\n",
    "    print(n, \"points:\")\n",
    "    for i in range(n): print(\"\\tf(\", xInput[i], \") = \", yInput[i], sep = \"\")\n",
    "    for i in range(n):\n",
    "        p = str(yInput[i])\n",
    "        for j in range(n):\n",
    "            if i != j:\n",
    "                p += \"*(x - \" + str(xInput[j]) + \")/(\" + str(xInput[i]) + \" - \" + str(xInput[j]) + \")\"\n",
    "        s += (\" + \" if i else \"\") + p\n",
    "        \n",
    "    print(s)\n",
    "    return showPoly(s)"
   ]
  },
  {
   "cell_type": "markdown",
   "id": "secondary-tooth",
   "metadata": {},
   "source": [
    "## Newton's Polynomial"
   ]
  },
  {
   "cell_type": "code",
   "execution_count": null,
   "id": "artistic-punch",
   "metadata": {},
   "outputs": [],
   "source": [
    "def Newton(xInput, yInput):\n",
    "    yInput = Cloud(xInput, yInput)\n",
    "    n = len(xInput)\n",
    "    print(n, \"points:\")\n",
    "    for i in range(n): print(\"\\tf(\", xInput[i], \") = \", yInput[i], sep = \"\")\n",
    "    m = [[0 for i in range(n)] for j in range(n)]\n",
    "    for i in range(n): m[i][0] = yInput[i]\n",
    "    for j in range(1, n):\n",
    "        for i in range(n - j):\n",
    "            m[i][j] = (m[i+1][j-1] - m[i][j-1])/(xInput[i+j] - xInput[i])\n",
    "    r, a = str(m[0][0]), \"\"\n",
    "    for i in range(1, n):\n",
    "        a += \"*\" + \"(x-\" + str(xInput[i - 1]) + \")\"\n",
    "        r += \" + \" + str(m[0][i]) + a\n",
    "    return showPoly(r)"
   ]
  },
  {
   "cell_type": "markdown",
   "id": "external-chrome",
   "metadata": {},
   "source": [
    "## Hermite"
   ]
  },
  {
   "cell_type": "code",
   "execution_count": null,
   "id": "lyric-landscape",
   "metadata": {},
   "outputs": [],
   "source": [
    "def Hermite(xInput, yInput, dInput):\n",
    "    n = len(xInput)\n",
    "    print(n, \"points:\")\n",
    "    for i in range(n):\n",
    "        print(\"\\tf(\", xInput[i], \") = \", yInput[i], \"\\tf'(\", xInput[i], \") = \", dInput[i], sep = \"\")\n",
    "    m = [[0 for i in range(2*n)] for j in range(2*n)]\n",
    "    for i in range(n):\n",
    "        m[2*i][0] = m[2*i+1][0] = yInput[i]\n",
    "        m[2*i][1] = dInput[i]\n",
    "        if i: m[2*i-1][1] = (m[2*i][0]-m[2*i-1][0])/(xInput[i]-xInput[i-1])\n",
    "    for j in range(2, 2*n):\n",
    "        for i in range(2*n-j):\n",
    "            m[i][j] = (m[i+1][j-1] - m[i][j-1])/(xInput[int((i+j)/2)] - xInput[int(i/2)])\n",
    "    r, a = str(m[0][0]), \"\"\n",
    "    for i in range(1, 2*n):\n",
    "        a += \"*\" + \"(x-\" + str(xInput[int((i - 1)/2)]) + \")\"\n",
    "        r += \" + \" + str(m[0][i]) + a\n",
    "    return showPoly(r)    \n",
    "    "
   ]
  },
  {
   "cell_type": "markdown",
   "id": "careful-hygiene",
   "metadata": {},
   "source": [
    "### AuxFucnt"
   ]
  },
  {
   "cell_type": "code",
   "execution_count": null,
   "id": "interracial-confusion",
   "metadata": {},
   "outputs": [],
   "source": [
    "def Cloud(xI, yI):\n",
    "    if isinstance(yI, str):\n",
    "        a, yI = list(), parse_expr(yI)\n",
    "        for xVal in xI: a.append(N(yI.subs(x, xVal)))\n",
    "        yI = tuple(a)\n",
    "    return yI\n",
    "def showPoly(s):\n",
    "    print(\"\\nPolynomial\", s, sep = \"\\n\")\n",
    "    print(\"\\nSimplified\", simplify(parse_expr(s)), sep = \"\\n\")\n",
    "    print(\"\\nBy Powers\", r := collect(expand(parse_expr(s)), x), sep = \"\\n\")\n",
    "    return r"
   ]
  },
  {
   "cell_type": "markdown",
   "id": "enhanced-modem",
   "metadata": {},
   "source": [
    "### Run First"
   ]
  },
  {
   "cell_type": "code",
   "execution_count": null,
   "id": "unknown-bernard",
   "metadata": {},
   "outputs": [],
   "source": [
    "from sympy import *\n",
    "x = symbols(\"x\")"
   ]
  }
 ],
 "metadata": {
  "kernelspec": {
   "display_name": "Python 3",
   "language": "python",
   "name": "python3"
  },
  "language_info": {
   "codemirror_mode": {
    "name": "ipython",
    "version": 3
   },
   "file_extension": ".py",
   "mimetype": "text/x-python",
   "name": "python",
   "nbconvert_exporter": "python",
   "pygments_lexer": "ipython3",
   "version": "3.9.2"
  }
 },
 "nbformat": 4,
 "nbformat_minor": 5
}
