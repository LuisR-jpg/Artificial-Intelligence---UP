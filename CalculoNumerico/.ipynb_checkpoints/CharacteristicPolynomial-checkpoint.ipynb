{
 "cells": [
  {
   "cell_type": "markdown",
   "id": "artistic-worse",
   "metadata": {},
   "source": [
    "# Aproximación de un Polinomio Característico"
   ]
  },
  {
   "cell_type": "markdown",
   "id": "fifth-female",
   "metadata": {},
   "source": [
    "***Luis Eduardo Robles Jiménez***\n",
    "\n",
    "0224969"
   ]
  },
  {
   "cell_type": "markdown",
   "id": "charming-paris",
   "metadata": {},
   "source": [
    "## Input"
   ]
  },
  {
   "cell_type": "code",
   "execution_count": 8,
   "id": "classical-convergence",
   "metadata": {},
   "outputs": [],
   "source": [
    "matrix = np.array([[3, 1, 5], [3, 3, 1], [4, 6, 4]]);"
   ]
  },
  {
   "cell_type": "markdown",
   "id": "afraid-subsection",
   "metadata": {},
   "source": [
    "## Method"
   ]
  },
  {
   "cell_type": "code",
   "execution_count": 22,
   "id": "ethical-mixer",
   "metadata": {},
   "outputs": [
    {
     "name": "stdout",
     "output_type": "stream",
     "text": [
      "Matrix:\n",
      "\n",
      " [[3 1 5]\n",
      " [3 3 1]\n",
      " [4 6 4]] \n",
      "\n",
      "\n",
      "[[3801187 7667804 6619251]\n",
      " [7536754 7077980 7077985]\n",
      " [7471215 6357084 7340144]]\n"
     ]
    },
    {
     "data": {
      "text/plain": [
       "array([1520093024,        534,          0,          0])"
      ]
     },
     "execution_count": 22,
     "metadata": {},
     "output_type": "execute_result"
    }
   ],
   "source": [
    "Leverrier_Faddeev(matrix)"
   ]
  },
  {
   "cell_type": "markdown",
   "id": "oriental-crowd",
   "metadata": {},
   "source": [
    "## Leverrier Faddeev"
   ]
  },
  {
   "cell_type": "code",
   "execution_count": 23,
   "id": "universal-blink",
   "metadata": {},
   "outputs": [
    {
     "ename": "SyntaxError",
     "evalue": "invalid syntax (<ipython-input-23-cefe9552e981>, line 7)",
     "output_type": "error",
     "traceback": [
      "\u001b[1;36m  File \u001b[1;32m\"<ipython-input-23-cefe9552e981>\"\u001b[1;36m, line \u001b[1;32m7\u001b[0m\n\u001b[1;33m    b[n-k] = -np.trace(mInput @ )\u001b[0m\n\u001b[1;37m                                ^\u001b[0m\n\u001b[1;31mSyntaxError\u001b[0m\u001b[1;31m:\u001b[0m invalid syntax\n"
     ]
    }
   ],
   "source": [
    "def Leverrier_Faddeev(mInput):\n",
    "    print(\"Matrix:\\n\\n\", mInput, \"\\n\\n\")\n",
    "    n = mInput.shape[0]\n",
    "    b, B = np.empty(n+1, dtype = 'int32'), np.empty((n+1, n, n), dtype = 'int32')\n",
    "    b[n], B[0] = 1, np.zeros((n, n))\n",
    "    for k in range(n+1):\n",
    "        print()\n",
    "        #b[n-k] = -np.trace(mInput @ )\n",
    "    return coef"
   ]
  },
  {
   "cell_type": "markdown",
   "id": "blond-column",
   "metadata": {},
   "source": [
    "## Run first"
   ]
  },
  {
   "cell_type": "code",
   "execution_count": 7,
   "id": "photographic-essex",
   "metadata": {},
   "outputs": [],
   "source": [
    "import numpy as np\n",
    "from sympy import *\n",
    "x, lmbd = symbols(\"x\"), symbols(\"lambda\")"
   ]
  }
 ],
 "metadata": {
  "kernelspec": {
   "display_name": "Python 3",
   "language": "python",
   "name": "python3"
  },
  "language_info": {
   "codemirror_mode": {
    "name": "ipython",
    "version": 3
   },
   "file_extension": ".py",
   "mimetype": "text/x-python",
   "name": "python",
   "nbconvert_exporter": "python",
   "pygments_lexer": "ipython3",
   "version": "3.9.2"
  }
 },
 "nbformat": 4,
 "nbformat_minor": 5
}
