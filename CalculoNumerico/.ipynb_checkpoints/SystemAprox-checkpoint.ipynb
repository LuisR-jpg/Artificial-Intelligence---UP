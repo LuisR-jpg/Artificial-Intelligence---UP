{
 "cells": [
  {
   "cell_type": "markdown",
   "id": "destroyed-package",
   "metadata": {},
   "source": [
    "# Aproximaciones\n",
    "\n",
    "\n",
    "##### Luis Eduardo Robles Jimenez\n",
    "\n",
    "0224969"
   ]
  },
  {
   "cell_type": "markdown",
   "id": "advance-commander",
   "metadata": {},
   "source": [
    "# Input"
   ]
  },
  {
   "cell_type": "code",
   "execution_count": null,
   "id": "miniature-contract",
   "metadata": {},
   "outputs": [],
   "source": [
    "\"\"\"\n",
    "Matrix = [\n",
    "    [3, -0.1, -0.2], \n",
    "    [0.1, 7, -0.3],\n",
    "    [0.3, -0.2, 10]\n",
    "]\n",
    "Independent = [7.85, -19.3, 71.4]\n",
    "Matrix = [\n",
    "    [2, -1, 4, 1, -1], \n",
    "    [-1, 3, -2, -1, 2],\n",
    "    [5, 1, 3, -4, 1],\n",
    "    [3, -2, -2, -2, 3],\n",
    "    [-4, -1, -5, 3, -4]\n",
    "]\n",
    "Independent = [7, 1, 33, 24, -49]\n",
    "Matrix = [\n",
    "    [1, 0.5, 1/3],\n",
    "    [1, 2/3, 1/2], \n",
    "    [1, 3/4, 3/5]\n",
    "]\n",
    "Independent = [1.833333, 2.166667, 2.35]\n",
    "Matrix = [\n",
    "    [1, 1], \n",
    "    [1, -1]\n",
    "]\n",
    "Independent = [2, 0]\n",
    "\"\"\"\n",
    "Matrix = [\n",
    "    [10, 2, -1],\n",
    "    [-3, -6, 2], \n",
    "    [1, 1, 5]\n",
    "]\n",
    "Independent = [27, -61.5, -21.5]"
   ]
  },
  {
   "cell_type": "markdown",
   "id": "occupied-dictionary",
   "metadata": {},
   "source": [
    "# Method"
   ]
  },
  {
   "cell_type": "code",
   "execution_count": null,
   "id": "therapeutic-groove",
   "metadata": {},
   "outputs": [],
   "source": [
    "x = GaussSeidel(Matrix, Independent, 2, 0.1)\n",
    "print(x)"
   ]
  },
  {
   "cell_type": "markdown",
   "id": "secondary-tooth",
   "metadata": {},
   "source": [
    "## Gauss-Seidel"
   ]
  },
  {
   "cell_type": "code",
   "execution_count": null,
   "id": "attended-ministry",
   "metadata": {
    "scrolled": true
   },
   "outputs": [],
   "source": [
    "def GaussSeidel(m, it, n, e):\n",
    "    print(len(m), \"x\", len(m), \" System:\\n\", sep = \"\")\n",
    "    for i in range(len(m)):\n",
    "        print(\"\\t[\", end = \"\")\n",
    "        for j in range(len(m[i])):\n",
    "            print(m[i][j], end = \" \")\n",
    "        print(\"= \", it[i], \"]\", sep = \"\")\n",
    "    print()\n",
    "    x = [0 for _ in range(len(m))]\n",
    "    for i in range(len(m)):\n",
    "        d = m[i][i]\n",
    "        for j in range(len(m[i])):\n",
    "            m[i][j] /= d\n",
    "        it[i] /= d\n",
    "    for i in range(len(m)):\n",
    "        s = it[i]\n",
    "        for j in range(len(m[i])):\n",
    "            if i != j: \n",
    "                s -= m[i][j]*x[j]\n",
    "        x[i] = s\n",
    "    for _ in range(n):\n",
    "        print(\"x[\", _, \"] = \", x, sep = \"\")\n",
    "        c = 1\n",
    "        for i in range(len(m)):\n",
    "            o = x[i]\n",
    "            s = it[i]\n",
    "            for j in range(len(m[0])):\n",
    "                if i != j:\n",
    "                    s -= m[i][j]*x[j]\n",
    "            x[i] = s\n",
    "            if c and x[i]: \n",
    "                error = 100*abs((x[i]-o)/x[i])\n",
    "                if error > e: \n",
    "                    c = 0\n",
    "        if c: break;\n",
    "    return x"
   ]
  }
 ],
 "metadata": {
  "kernelspec": {
   "display_name": "Python 3",
   "language": "python",
   "name": "python3"
  },
  "language_info": {
   "codemirror_mode": {
    "name": "ipython",
    "version": 3
   },
   "file_extension": ".py",
   "mimetype": "text/x-python",
   "name": "python",
   "nbconvert_exporter": "python",
   "pygments_lexer": "ipython3",
   "version": "3.9.2"
  }
 },
 "nbformat": 4,
 "nbformat_minor": 5
}
