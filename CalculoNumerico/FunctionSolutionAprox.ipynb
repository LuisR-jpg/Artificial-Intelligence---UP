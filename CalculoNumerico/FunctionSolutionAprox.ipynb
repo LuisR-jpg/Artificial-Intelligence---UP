{
 "cells": [
  {
   "cell_type": "markdown",
   "metadata": {},
   "source": [
    "# Aproximaciones\n",
    "\n",
    "\n",
    "##### Luis Eduardo Robles Jimenez\n",
    "\n",
    "0224969"
   ]
  },
  {
   "cell_type": "markdown",
   "metadata": {},
   "source": [
    "# Function"
   ]
  },
  {
   "cell_type": "code",
   "execution_count": null,
   "metadata": {},
   "outputs": [],
   "source": [
    "#expression = \"sqrt(1 + 1/x) - x\"\n",
    "#expression = \"x**3+5*x**2+2\"\n",
    "#expression = \"2*sin(sqrt(x))-x\"\n",
    "#expression = \"2 - x/2 -x**2/4\"\n",
    "expression = \"2*x**3 - 11.7*x**2 + 17.7*x - 5\""
   ]
  },
  {
   "cell_type": "markdown",
   "metadata": {},
   "source": [
    "# Method"
   ]
  },
  {
   "cell_type": "code",
   "execution_count": null,
   "metadata": {
    "scrolled": true
   },
   "outputs": [],
   "source": [
    "NewtonRaphson(3, 0.001, 50)"
   ]
  },
  {
   "cell_type": "code",
   "execution_count": null,
   "metadata": {},
   "outputs": [],
   "source": [
    "BinarySearch(0, 3, 0.1, 50)"
   ]
  },
  {
   "cell_type": "code",
   "execution_count": null,
   "metadata": {},
   "outputs": [],
   "source": [
    "Secant(3, 4, 0.01, 100)"
   ]
  },
  {
   "cell_type": "code",
   "execution_count": null,
   "metadata": {},
   "outputs": [],
   "source": [
    "FixedP(1, 0.001, 100)"
   ]
  },
  {
   "cell_type": "markdown",
   "metadata": {},
   "source": [
    "## Newton Raphson"
   ]
  },
  {
   "cell_type": "code",
   "execution_count": null,
   "metadata": {},
   "outputs": [],
   "source": [
    "def NewtonRaphson(p0, e, n):\n",
    "    f = parse_expr(expression)\n",
    "    d = diff(f, x)\n",
    "    print(\"\\tf(x) =\", f, \"\\n\\tf'(x) =\", d, \"\\n\")\n",
    "    for i in range(n):\n",
    "        p = p0 - N(f.subs(x, p0))/N(d.subs(x, p0))\n",
    "        error = abs(N((p - p0)/p))*100\n",
    "        print(i + 1, \". \", sep = '', end = '')\n",
    "        print(\"P =\", p, \"\\tEr =\", error)\n",
    "        if error < e: return p\n",
    "        p0 = p\n",
    "    return p"
   ]
  },
  {
   "cell_type": "markdown",
   "metadata": {},
   "source": [
    "## Binary Search"
   ]
  },
  {
   "cell_type": "code",
   "execution_count": null,
   "metadata": {},
   "outputs": [],
   "source": [
    "def BinarySearch(a, b, e, n):\n",
    "    f = parse_expr(expression)\n",
    "    print(\"\\tf(x) = \", f, \"\\n\\t[\", a, \", \", b, \"]\", \"\\n\", sep = \"\")\n",
    "    fp0, p0 = N(f.subs(x, a)), a\n",
    "    for i in range(n):\n",
    "        p = a + (b - a)/2\n",
    "        fp = N(f.subs(x, p))\n",
    "        error = abs((p - p0)/p)*100\n",
    "        print(i + 1, \". \", sep = '', end = '')\n",
    "        print(\"P = \", p, \"\\tEr = \", error, \" %\", sep = '')\n",
    "        if error < e: return p\n",
    "        if fp * fp0 > 0: a, fp0 = p, fp\n",
    "        else: b = p\n",
    "        p0 = p\n",
    "    return p"
   ]
  },
  {
   "cell_type": "markdown",
   "metadata": {},
   "source": [
    "## Secant"
   ]
  },
  {
   "cell_type": "code",
   "execution_count": null,
   "metadata": {},
   "outputs": [],
   "source": [
    "def Secant(pa, pb, e, n):\n",
    "    f = parse_expr(expression)\n",
    "    print(\"\\tf(x) =\", f, \"\\n\")\n",
    "    for i in range(n):\n",
    "        qa, qb = N(f.subs(x, pa)), N(f.subs(x, pb))\n",
    "        pc = pb - qb*(pa - pb)/(qa - qb)\n",
    "        error = abs(N((pc - pb)/pc))*100\n",
    "        print(i + 1, \". \", sep = '', end = '')\n",
    "        print(\"P =\", pc, \"\\tEr =\", error)\n",
    "        if error < e: return pc\n",
    "        pa, pb = pb, pc\n",
    "    return p"
   ]
  },
  {
   "cell_type": "markdown",
   "metadata": {},
   "source": [
    "## Fixed Point"
   ]
  },
  {
   "cell_type": "code",
   "execution_count": null,
   "metadata": {},
   "outputs": [],
   "source": [
    "def FixedP(pa, e, n):\n",
    "    f = parse_expr(expression)\n",
    "    print(\"\\tf(x) =\", f)\n",
    "    f = parse_expr(expression + \" + x\")\n",
    "    print(\"\\tx =\", f, \"\\n\")\n",
    "    for i in range(n):\n",
    "        pb = N(f.subs(x, pa))\n",
    "        if not pb: return pa\n",
    "        error = abs((pb - pa)/pb)*100\n",
    "        print(i + 1, \". \", sep = '', end = '')\n",
    "        print(\"P = \", pb, \"\\tEr = \", error, sep = '')\n",
    "        if error < e: return pb\n",
    "        pa = pb\n",
    "    return pb"
   ]
  },
  {
   "cell_type": "markdown",
   "metadata": {},
   "source": [
    "### Run First"
   ]
  },
  {
   "cell_type": "code",
   "execution_count": null,
   "metadata": {},
   "outputs": [],
   "source": [
    "from sympy import *\n",
    "x = symbols(\"x\")"
   ]
  }
 ],
 "metadata": {
  "kernelspec": {
   "display_name": "Python 3",
   "language": "python",
   "name": "python3"
  },
  "language_info": {
   "codemirror_mode": {
    "name": "ipython",
    "version": 3
   },
   "file_extension": ".py",
   "mimetype": "text/x-python",
   "name": "python",
   "nbconvert_exporter": "python",
   "pygments_lexer": "ipython3",
   "version": "3.9.2"
  }
 },
 "nbformat": 4,
 "nbformat_minor": 4
}
