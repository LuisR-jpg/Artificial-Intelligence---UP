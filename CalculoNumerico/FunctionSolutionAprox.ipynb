{
 "cells": [
  {
   "cell_type": "markdown",
   "metadata": {},
   "source": [
    "# Aproximaciones\n",
    "\n",
    "\n",
    "##### Luis Eduardo Robles Jimenez\n",
    "\n",
    "0224969"
   ]
  },
  {
   "cell_type": "markdown",
   "metadata": {},
   "source": [
    "# Function"
   ]
  },
  {
   "cell_type": "code",
   "execution_count": 1,
   "metadata": {},
   "outputs": [],
   "source": [
    "#expression = \"sqrt(1 + 1/x) - x\"\n",
    "#expression = \"x**3+5*x**2+2\"\n",
    "#expression = \"2*sin(sqrt(x))-x\"\n",
    "#expression = \"2 - x/2 -x**2/4\"\n",
    "expression = \"2*x**3 - 11.7*x**2 + 17.7*x - 5\""
   ]
  },
  {
   "cell_type": "markdown",
   "metadata": {},
   "source": [
    "# Method"
   ]
  },
  {
   "cell_type": "code",
   "execution_count": 5,
   "metadata": {
    "scrolled": true
   },
   "outputs": [
    {
     "name": "stdout",
     "output_type": "stream",
     "text": [
      "\tf(x) = 2*x**3 - 11.7*x**2 + 17.7*x - 5 \n",
      "\tf'(x) = 6*x**2 - 23.4*x + 17.7 \n",
      "\n",
      "1. P = 5.13333333333332 \tEr = 41.5584415584414\n",
      "2. P = 4.26975005653324 \tEr = 20.2256166137568\n",
      "3. P = 3.79293448064323 \tEr = 12.5711524499930\n",
      "4. P = 3.59981928839808 \tEr = 5.36458018510924\n",
      "5. P = 3.56433803284734 \tEr = 0.995451475807357\n",
      "6. P = 3.56316210032519 \tEr = 0.0330024985963792\n",
      "7. P = 3.56316082486356 \tEr = 3.57957920041021e-5\n"
     ]
    },
    {
     "data": {
      "text/latex": [
       "$\\displaystyle 3.56316082486356$"
      ],
      "text/plain": [
       "3.56316082486356"
      ]
     },
     "execution_count": 5,
     "metadata": {},
     "output_type": "execute_result"
    }
   ],
   "source": [
    "NewtonRaphson(3, 0.001, 50)"
   ]
  },
  {
   "cell_type": "code",
   "execution_count": null,
   "metadata": {},
   "outputs": [],
   "source": [
    "BinarySearch(0, 3, 0.1, 50)"
   ]
  },
  {
   "cell_type": "code",
   "execution_count": 6,
   "metadata": {},
   "outputs": [
    {
     "name": "stdout",
     "output_type": "stream",
     "text": [
      "\tf(x) = 2*x**3 - 11.7*x**2 + 17.7*x - 5 \n",
      "\n",
      "1. P = 3.32653061224490 \tEr = 20.2453987730062\n",
      "2. P = 3.48127270941766 \tEr = 4.44498636243420\n",
      "3. P = 3.58627538471173 \tEr = 2.92790329882931\n",
      "4. P = 3.56134020948947 \tEr = 0.700162684705669\n",
      "5. P = 3.56312261112788 \tEr = 0.0500235841685707\n",
      "6. P = 3.56316088908759 \tEr = 0.00107426975376506\n"
     ]
    },
    {
     "data": {
      "text/latex": [
       "$\\displaystyle 3.56316088908759$"
      ],
      "text/plain": [
       "3.56316088908759"
      ]
     },
     "execution_count": 6,
     "metadata": {},
     "output_type": "execute_result"
    }
   ],
   "source": [
    "Secant(3, 4, 0.01, 100)"
   ]
  },
  {
   "cell_type": "code",
   "execution_count": 6,
   "metadata": {},
   "outputs": [
    {
     "name": "stdout",
     "output_type": "stream",
     "text": [
      "\tf(x) = -x**2/4 - x/2 + 2\n",
      "\tx = -x**2/4 + x/2 + 2 \n",
      "\n",
      "1. P = 2.25000000000000\tEr = 55.5555555555556\n",
      "2. P = 1.85937500000000\tEr = 21.0084033613445\n",
      "3. P = 2.06536865234375\tEr = 9.97369898637666\n",
      "4. P = 1.96624740865082\tEr = 5.04113791869909\n",
      "5. P = 2.01659148631890\tEr = 2.49649361358650\n",
      "6. P = 1.99163543748598\tEr = 1.25304301998225\n",
      "7. P = 2.00416478978049\tEr = 0.625165772714831\n",
      "8. P = 1.99791326874127\tEr = 0.312902523699613\n",
      "9. P = 2.00104227701753\tEr = 0.156368923944784\n",
      "10. P = 1.99947858990589\tEr = 0.0782047439531863\n",
      "11. P = 2.00026063707993\tEr = 0.0390972636037272\n",
      "12. P = 1.99986966447711\tEr = 0.0195499041644994\n",
      "13. P = 2.00006516351461\tEr = 0.00977463339998605\n",
      "14. P = 1.99996741718113\tEr = 0.00488739629660346\n",
      "15. P = 2.00001629114403\tEr = 0.00244367823990332\n",
      "16. P = 1.99999185436164\tEr = 0.00122184409590849\n",
      "17. P = 2.00000407280259\tEr = 0.000610920803836767\n"
     ]
    },
    {
     "data": {
      "text/latex": [
       "$\\displaystyle 2.00000407280259$"
      ],
      "text/plain": [
       "2.00000407280259"
      ]
     },
     "execution_count": 6,
     "metadata": {},
     "output_type": "execute_result"
    }
   ],
   "source": [
    "FixedP(1, 0.001, 100)"
   ]
  },
  {
   "cell_type": "markdown",
   "metadata": {},
   "source": [
    "## Newton Raphson"
   ]
  },
  {
   "cell_type": "code",
   "execution_count": 4,
   "metadata": {},
   "outputs": [],
   "source": [
    "def NewtonRaphson(p0, e, n):\n",
    "    f = parse_expr(expression)\n",
    "    d = diff(f, x)\n",
    "    print(\"\\tf(x) =\", f, \"\\n\\tf'(x) =\", d, \"\\n\")\n",
    "    for i in range(n):\n",
    "        p = p0 - N(f.subs(x, p0))/N(d.subs(x, p0))\n",
    "        error = abs(N((p - p0)/p))*100\n",
    "        print(i + 1, \". \", sep = '', end = '')\n",
    "        print(\"P =\", p, \"\\tEr =\", error)\n",
    "        if error < e: return p\n",
    "        p0 = p\n",
    "    return p"
   ]
  },
  {
   "cell_type": "markdown",
   "metadata": {},
   "source": [
    "## Binary Search"
   ]
  },
  {
   "cell_type": "code",
   "execution_count": null,
   "metadata": {},
   "outputs": [],
   "source": [
    "def BinarySearch(a, b, e, n):\n",
    "    f = parse_expr(expression)\n",
    "    print(\"\\tf(x) = \", f, \"\\n\\t[\", a, \", \", b, \"]\", \"\\n\", sep = \"\")\n",
    "    fp0, p0 = N(f.subs(x, a)), a\n",
    "    for i in range(n):\n",
    "        p = a + (b - a)/2\n",
    "        fp = N(f.subs(x, p))\n",
    "        error = abs((p - p0)/p)*100\n",
    "        print(i + 1, \". \", sep = '', end = '')\n",
    "        print(\"P = \", p, \"\\tEr = \", error, \" %\", sep = '')\n",
    "        if error < e: return p\n",
    "        if fp * fp0 > 0: a, fp0 = p, fp\n",
    "        else: b = p\n",
    "        p0 = p\n",
    "    return p"
   ]
  },
  {
   "cell_type": "markdown",
   "metadata": {},
   "source": [
    "## Secant"
   ]
  },
  {
   "cell_type": "code",
   "execution_count": 3,
   "metadata": {},
   "outputs": [],
   "source": [
    "def Secant(pa, pb, e, n):\n",
    "    f = parse_expr(expression)\n",
    "    print(\"\\tf(x) =\", f, \"\\n\")\n",
    "    for i in range(n):\n",
    "        qa, qb = N(f.subs(x, pa)), N(f.subs(x, pb))\n",
    "        pc = pb - qb*(pa - pb)/(qa - qb)\n",
    "        error = abs(N((pc - pb)/pc))*100\n",
    "        print(i + 1, \". \", sep = '', end = '')\n",
    "        print(\"P =\", pc, \"\\tEr =\", error)\n",
    "        if error < e: return pc\n",
    "        pa, pb = pb, pc\n",
    "    return p"
   ]
  },
  {
   "cell_type": "markdown",
   "metadata": {},
   "source": [
    "## Fixed Point"
   ]
  },
  {
   "cell_type": "code",
   "execution_count": 4,
   "metadata": {},
   "outputs": [],
   "source": [
    "def FixedP(pa, e, n):\n",
    "    f = parse_expr(expression)\n",
    "    print(\"\\tf(x) =\", f)\n",
    "    f = parse_expr(expression + \" + x\")\n",
    "    print(\"\\tx =\", f, \"\\n\")\n",
    "    for i in range(n):\n",
    "        pb = N(f.subs(x, pa))\n",
    "        if not pb: return pa\n",
    "        error = abs((pb - pa)/pb)*100\n",
    "        print(i + 1, \". \", sep = '', end = '')\n",
    "        print(\"P = \", pb, \"\\tEr = \", error, sep = '')\n",
    "        if error < e: return pb\n",
    "        pa = pb\n",
    "    return pb"
   ]
  },
  {
   "cell_type": "markdown",
   "metadata": {},
   "source": [
    "### Run First"
   ]
  },
  {
   "cell_type": "code",
   "execution_count": 2,
   "metadata": {},
   "outputs": [],
   "source": [
    "from sympy import *\n",
    "x = symbols(\"x\")"
   ]
  }
 ],
 "metadata": {
  "kernelspec": {
   "display_name": "Python 3",
   "language": "python",
   "name": "python3"
  },
  "language_info": {
   "codemirror_mode": {
    "name": "ipython",
    "version": 3
   },
   "file_extension": ".py",
   "mimetype": "text/x-python",
   "name": "python",
   "nbconvert_exporter": "python",
   "pygments_lexer": "ipython3",
   "version": "3.9.2"
  }
 },
 "nbformat": 4,
 "nbformat_minor": 4
}
