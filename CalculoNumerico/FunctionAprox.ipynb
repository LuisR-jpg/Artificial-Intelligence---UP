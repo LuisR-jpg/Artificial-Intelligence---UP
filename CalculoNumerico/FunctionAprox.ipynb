{
 "cells": [
  {
   "cell_type": "markdown",
   "metadata": {},
   "source": [
    "# Aproximación\n",
    "\n",
    "\n",
    "##### Luis Eduardo Robles Jimenez\n",
    "\n",
    "0224969"
   ]
  },
  {
   "cell_type": "markdown",
   "metadata": {},
   "source": [
    "# Input"
   ]
  },
  {
   "cell_type": "code",
   "execution_count": null,
   "metadata": {},
   "outputs": [],
   "source": [
    "#expression = \"2*x**3 - 4*log(x)\"\n",
    "#expression = \"x**(1/3)\"\n",
    "expression = \"x**3*log(x)\""
   ]
  },
  {
   "cell_type": "markdown",
   "metadata": {},
   "source": [
    "# Method"
   ]
  },
  {
   "cell_type": "code",
   "execution_count": null,
   "metadata": {},
   "outputs": [],
   "source": [
    "f = Taylor(expression, 3, 2)\n",
    "print(\"\\n\", f, \"\\n\")\n",
    "print(\"f(x) ≈\", N(f.subs(x, 2.1)))"
   ]
  },
  {
   "cell_type": "markdown",
   "metadata": {},
   "source": [
    "## Taylor "
   ]
  },
  {
   "cell_type": "code",
   "execution_count": null,
   "metadata": {},
   "outputs": [],
   "source": [
    "def Taylor(function, order, a = 0):\n",
    "    d, fS = [parse_expr(expression)], \"\"\n",
    "    for i in range(order + 1):\n",
    "        if i > 0: \n",
    "            d.append(diff(d[i-1], x))\n",
    "            fS += \" + \"\n",
    "        print(\"\\t\", d[i])\n",
    "        fS += str(N(d[i].subs(x, a))) + \"*(x - \" + str(a) + \")**\" + str(i) + \"/(\" + str(i) + \"!)\"\n",
    "    return collect(expand(parse_expr(fS)), x)"
   ]
  },
  {
   "cell_type": "markdown",
   "metadata": {},
   "source": [
    "### Run First"
   ]
  },
  {
   "cell_type": "code",
   "execution_count": null,
   "metadata": {},
   "outputs": [],
   "source": [
    "from sympy import *\n",
    "x = symbols(\"x\")"
   ]
  }
 ],
 "metadata": {
  "kernelspec": {
   "display_name": "Python 3",
   "language": "python",
   "name": "python3"
  },
  "language_info": {
   "codemirror_mode": {
    "name": "ipython",
    "version": 3
   },
   "file_extension": ".py",
   "mimetype": "text/x-python",
   "name": "python",
   "nbconvert_exporter": "python",
   "pygments_lexer": "ipython3",
   "version": "3.9.2"
  }
 },
 "nbformat": 4,
 "nbformat_minor": 4
}
