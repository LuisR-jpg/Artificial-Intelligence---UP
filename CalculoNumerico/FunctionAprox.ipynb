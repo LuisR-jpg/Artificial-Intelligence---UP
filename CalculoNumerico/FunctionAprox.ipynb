{
 "cells": [
  {
   "cell_type": "markdown",
   "metadata": {},
   "source": [
    "# Aproximaciones\n",
    "\n",
    "\n",
    "##### Luis Eduardo Robles Jimenez\n",
    "\n",
    "0224969"
   ]
  },
  {
   "cell_type": "markdown",
   "metadata": {},
   "source": [
    "# Function"
   ]
  },
  {
   "cell_type": "code",
   "execution_count": 74,
   "metadata": {},
   "outputs": [],
   "source": [
    "expression = \"sqrt(1 + 1/x) - x\""
   ]
  },
  {
   "cell_type": "markdown",
   "metadata": {},
   "source": [
    "# Method"
   ]
  },
  {
   "cell_type": "code",
   "execution_count": 67,
   "metadata": {
    "scrolled": true
   },
   "outputs": [
    {
     "name": "stdout",
     "output_type": "stream",
     "text": [
      "\tf(x) = x**3 - x + 1 \n",
      "\tf'(x) = 3*x**2 - 1 \n",
      "\n",
      "1. P = 1.36363636363636 \tEr = 46.6666666666667\n",
      "2. P = 0.889235313423039 \tEr = 53.3493264439934\n",
      "3. P = 0.296094917226827 \tEr = 200.321032779442\n",
      "4. P = 1.28643523642529 \tEr = 76.9833016973628\n",
      "5. P = 0.821712873111318 \tEr = 56.5553222446617\n",
      "6. P = 0.106919848352965 \tEr = 668.531648491190\n",
      "7. P = 1.03298211799929 \tEr = 89.6493998792496\n",
      "8. P = 0.547208509419065 \tEr = 88.7730362775132\n",
      "9. P = 6.61127471160770 \tEr = 91.7231013187471\n",
      "10. P = 4.43370258598928 \tEr = 49.1140775319405\n",
      "11. P = 2.98953805755754 \tEr = 48.3072802763253\n",
      "12. P = 2.03149681353311 \tEr = 47.1593771470525\n",
      "13. P = 1.38546495316674 \tEr = 46.6292459357951\n",
      "14. P = 0.907597055286212 \tEr = 52.6519885776661\n",
      "15. P = 0.336619871936821 \tEr = 169.620759482838\n",
      "16. P = 1.39943575971388 \tEr = 75.9460289905953\n",
      "17. P = 0.919205535593900 \tEr = 52.2440526655126\n",
      "18. P = 0.360528371347706 \tEr = 154.960665691241\n",
      "19. P = 1.48555827946895 \tEr = 75.7311189786114\n",
      "20. P = 0.988659250382436 \tEr = 50.2598877109883\n",
      "21. P = 0.482691252018088 \tEr = 104.822284690046\n",
      "22. P = 2.57476411035855 \tEr = 81.2529912904965\n",
      "23. P = 1.75444357974323 \tEr = 46.7567347326938\n",
      "24. P = 1.19022956160127 \tEr = 47.4037980860515\n",
      "25. P = 0.729942532157748 \tEr = 63.0579818500079\n",
      "26. P = -0.371209564689911 \tEr = 296.638934335516\n",
      "27. P = 1.87910550288986 \tEr = 119.754588772106\n",
      "28. P = 1.27908267468280 \tEr = 46.9104022815309\n",
      "29. P = 0.815036961525340 \tEr = 56.9355421978652\n",
      "30. P = 0.0834301071760776 \tEr = 876.909881950913\n",
      "31. P = 1.02014088081981 \tEr = 91.8217073009533\n",
      "32. P = 0.529341472342243 \tEr = 92.7188656323993\n",
      "33. P = 4.41271142198610 \tEr = 88.0041674670855\n",
      "34. P = 2.97562754939741 \tEr = 48.2951528285089\n",
      "35. P = 2.02223500360324 \tEr = 47.1454872502656\n",
      "36. P = 1.37905366056623 \tEr = 46.6393267665101\n",
      "37. P = 0.902233165677288 \tEr = 52.8489212132880\n",
      "38. P = 0.325142897865718 \tEr = 177.488197220259\n",
      "39. P = 1.36378152030929 \tEr = 76.1587253512586\n",
      "40. P = 0.889358364376862 \tEr = 53.3444306519603\n",
      "41. P = 0.296378614112614 \tEr = 200.075080329155\n",
      "42. P = 1.28711320031159 \tEr = 76.9733840006563\n",
      "43. P = 0.822326044647045 \tEr = 56.5210306410810\n",
      "44. P = 0.109022221933545 \tEr = 654.273789382404\n",
      "45. P = 1.03428853688137 \tEr = 89.4592062034959\n",
      "46. P = 0.548992416277658 \tEr = 88.3976000787361\n",
      "47. P = 6.98248368493543 \tEr = 92.1375768129312\n",
      "48. P = 4.68014992048635 \tEr = 49.1935900252064\n",
      "49. P = 3.15286232927259 \tEr = 48.4413029085901\n",
      "50. P = 2.14014021757880 \tEr = 47.3203626274313\n"
     ]
    },
    {
     "data": {
      "text/latex": [
       "$\\displaystyle 2.1401402175788$"
      ],
      "text/plain": [
       "2.14014021757880"
      ]
     },
     "execution_count": 67,
     "metadata": {},
     "output_type": "execute_result"
    }
   ],
   "source": [
    "NewtonRaphson(2, 0.1, 50)"
   ]
  },
  {
   "cell_type": "code",
   "execution_count": 14,
   "metadata": {},
   "outputs": [
    {
     "name": "stdout",
     "output_type": "stream",
     "text": [
      "\tf(x) = -2*2**x + x**3 - 5\n",
      "\t[0, 3]\n",
      "\n",
      "1. P = 1.5\tEr = 100.0 %\n",
      "2. P = 2.25\tEr = 33.33333333333333 %\n",
      "3. P = 2.625\tEr = 14.285714285714285 %\n",
      "4. P = 2.4375\tEr = 7.6923076923076925 %\n",
      "5. P = 2.53125\tEr = 3.7037037037037033 %\n",
      "6. P = 2.578125\tEr = 1.8181818181818181 %\n",
      "7. P = 2.5546875\tEr = 0.9174311926605505 %\n",
      "8. P = 2.56640625\tEr = 0.45662100456621 %\n",
      "9. P = 2.560546875\tEr = 0.2288329519450801 %\n",
      "10. P = 2.5634765625\tEr = 0.1142857142857143 %\n",
      "11. P = 2.56201171875\tEr = 0.05717552887364208 %\n"
     ]
    },
    {
     "data": {
      "text/plain": [
       "2.56201171875"
      ]
     },
     "execution_count": 14,
     "metadata": {},
     "output_type": "execute_result"
    }
   ],
   "source": [
    "BinarySearch(0, 3, 0.1, 50)"
   ]
  },
  {
   "cell_type": "code",
   "execution_count": 16,
   "metadata": {},
   "outputs": [
    {
     "name": "stdout",
     "output_type": "stream",
     "text": [
      "\tf(x) = -2*2**x + x**3 - 5 \n",
      "\n",
      "1. P = -7.00000000000000 \tEr = 1.14285714285714\n",
      "2. P = 1.18822664399614 \tEr = 6.89113199520439\n",
      "3. P = 1.37792056040428 \tEr = 0.137666801598844\n",
      "4. P = 6.20160843315054 \tEr = 0.777812389276523\n",
      "5. P = 1.76740325511756 \tEr = 2.50888141412755\n",
      "6. P = 2.06849216207142 \tEr = 0.145559607367494\n",
      "7. P = 2.84964394455899 \tEr = 0.274122591343063\n",
      "8. P = 2.49757386186937 \tEr = 0.140964833138552\n",
      "9. P = 2.55429220833145 \tEr = 0.0222051127420249\n",
      "10. P = 2.56167214739207 \tEr = 0.00288090693734561\n"
     ]
    },
    {
     "data": {
      "text/latex": [
       "$\\displaystyle 2.56167214739207$"
      ],
      "text/plain": [
       "2.56167214739207"
      ]
     },
     "execution_count": 16,
     "metadata": {},
     "output_type": "execute_result"
    }
   ],
   "source": [
    "Secant(0, 1, 0.01, 10)"
   ]
  },
  {
   "cell_type": "code",
   "execution_count": 76,
   "metadata": {},
   "outputs": [
    {
     "name": "stdout",
     "output_type": "stream",
     "text": [
      "\tf(x) = sqrt(1 + 1/x) \n",
      "\n",
      "1. P = 1.41421356237310\tEr = 29.2893218813453\n",
      "2. P = 1.30656296487638\tEr = 8.23922002923940\n",
      "3. P = 1.32867108974726\tEr = 1.66392759212454\n",
      "4. P = 1.32386997635227\tEr = 0.362657472467466\n",
      "5. P = 1.32490044510483\tEr = 0.0777770704485051\n"
     ]
    },
    {
     "data": {
      "text/latex": [
       "$\\displaystyle 1.32490044510483$"
      ],
      "text/plain": [
       "1.32490044510483"
      ]
     },
     "execution_count": 76,
     "metadata": {},
     "output_type": "execute_result"
    }
   ],
   "source": [
    "FixedP(1, 0.1, 10)"
   ]
  },
  {
   "cell_type": "markdown",
   "metadata": {},
   "source": [
    "## Newton Raphson"
   ]
  },
  {
   "cell_type": "code",
   "execution_count": 57,
   "metadata": {},
   "outputs": [],
   "source": [
    "def NewtonRaphson(p0, e, n):\n",
    "    f = parse_expr(expression)\n",
    "    d = diff(f, x)\n",
    "    print(\"\\tf(x) =\", f, \"\\n\\tf'(x) =\", d, \"\\n\")\n",
    "    for i in range(n):\n",
    "        p = p0 - N(f.subs(x, p0))/N(d.subs(x, p0))\n",
    "        error = abs(N((p - p0)/p))*100\n",
    "        print(i + 1, \". \", sep = '', end = '')\n",
    "        print(\"P =\", p, \"\\tEr =\", error)\n",
    "        if error < e: return p\n",
    "        p0 = p\n",
    "    return p"
   ]
  },
  {
   "cell_type": "markdown",
   "metadata": {},
   "source": [
    "## Binary Search"
   ]
  },
  {
   "cell_type": "code",
   "execution_count": 33,
   "metadata": {},
   "outputs": [],
   "source": [
    "def BinarySearch(a, b, e, n):\n",
    "    f = parse_expr(expression)\n",
    "    print(\"\\tf(x) = \", f, \"\\n\\t[\", a, \", \", b, \"]\", \"\\n\", sep = \"\")\n",
    "    fp0, p0 = N(f.subs(x, a)), a\n",
    "    for i in range(n):\n",
    "        p = a + (b - a)/2\n",
    "        fp = N(f.subs(x, p))\n",
    "        error = abs((p - p0)/p)*100\n",
    "        print(i + 1, \". \", sep = '', end = '')\n",
    "        print(\"P = \", p, \"\\tEr = \", error, \" %\", sep = '')\n",
    "        if error < e: return p\n",
    "        if fp * fp0 > 0: a, fp0 = p, fp\n",
    "        else: b = p\n",
    "        p0 = p\n",
    "    return p"
   ]
  },
  {
   "cell_type": "markdown",
   "metadata": {},
   "source": [
    "## Secant"
   ]
  },
  {
   "cell_type": "code",
   "execution_count": 34,
   "metadata": {},
   "outputs": [],
   "source": [
    "def Secant(pa, pb, e, n):\n",
    "    f = parse_expr(expression)\n",
    "    print(\"\\tf(x) =\", f, \"\\n\")\n",
    "    for i in range(n):\n",
    "        qa, qb = N(f.subs(x, pa)), N(f.subs(x, pb))\n",
    "        pc = pb - qb*(pa - pb)/(qa - qb)\n",
    "        error = abs(N((pc - pb)/pc))*100\n",
    "        print(i + 1, \". \", sep = '', end = '')\n",
    "        print(\"P =\", pc, \"\\tEr =\", error)\n",
    "        if error < e: return pc\n",
    "        pa, pb = pb, pc\n",
    "    return p"
   ]
  },
  {
   "cell_type": "markdown",
   "metadata": {},
   "source": [
    "## Fixed Point"
   ]
  },
  {
   "cell_type": "code",
   "execution_count": 75,
   "metadata": {},
   "outputs": [],
   "source": [
    "def FixedP(pa, e, n):\n",
    "    #expression += \" + x\"\n",
    "    f = parse_expr(expression + \" + x\")\n",
    "    print(\"\\tf(x) =\", f, \"\\n\")\n",
    "    for i in range(n):\n",
    "        pb = N(f.subs(x, pa))\n",
    "        if not pb: return pa\n",
    "        error = abs((pb - pa)/pb)*100\n",
    "        print(i + 1, \". \", sep = '', end = '')\n",
    "        print(\"P = \", pb, \"\\tEr = \", error, sep = '')\n",
    "        if error < e: return pb\n",
    "        pa = pb\n",
    "    return pb"
   ]
  },
  {
   "cell_type": "markdown",
   "metadata": {},
   "source": [
    "### Run First"
   ]
  },
  {
   "cell_type": "code",
   "execution_count": 18,
   "metadata": {},
   "outputs": [],
   "source": [
    "from sympy import *\n",
    "x = symbols(\"x\")"
   ]
  }
 ],
 "metadata": {
  "kernelspec": {
   "display_name": "Python 3",
   "language": "python",
   "name": "python3"
  },
  "language_info": {
   "codemirror_mode": {
    "name": "ipython",
    "version": 3
   },
   "file_extension": ".py",
   "mimetype": "text/x-python",
   "name": "python",
   "nbconvert_exporter": "python",
   "pygments_lexer": "ipython3",
   "version": "3.9.2"
  }
 },
 "nbformat": 4,
 "nbformat_minor": 4
}
