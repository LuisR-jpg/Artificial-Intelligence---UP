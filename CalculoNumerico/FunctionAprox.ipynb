{
 "cells": [
  {
   "cell_type": "markdown",
   "metadata": {},
   "source": [
    "# Function"
   ]
  },
  {
   "cell_type": "code",
   "execution_count": 146,
   "metadata": {},
   "outputs": [],
   "source": [
    "expression = \"pi-x\""
   ]
  },
  {
   "cell_type": "markdown",
   "metadata": {},
   "source": [
    "# Method"
   ]
  },
  {
   "cell_type": "code",
   "execution_count": 147,
   "metadata": {},
   "outputs": [
    {
     "data": {
      "text/latex": [
       "$\\displaystyle 3.14159265358979$"
      ],
      "text/plain": [
       "3.14159265358979"
      ]
     },
     "execution_count": 147,
     "metadata": {},
     "output_type": "execute_result"
    }
   ],
   "source": [
    "NewtonRaphson(1, 0.1, 100)"
   ]
  },
  {
   "cell_type": "code",
   "execution_count": 150,
   "metadata": {},
   "outputs": [
    {
     "name": "stdout",
     "output_type": "stream",
     "text": [
      "2.25 0.891592653589793\n",
      "3.125 0.0165926535897932\n",
      "3.5625 -0.420907346410207\n",
      "3.34375 -0.202157346410207\n",
      "3.234375 -0.0927823464102068\n",
      "3.1796875 -0.0380948464102068\n",
      "3.15234375 -0.0107510964102068\n",
      "3.138671875 0.00292077858979324\n",
      "3.1455078125 -0.00391515891020676\n",
      "3.14208984375 -0.000497190160206761\n"
     ]
    },
    {
     "data": {
      "text/plain": [
       "3.14208984375"
      ]
     },
     "execution_count": 150,
     "metadata": {},
     "output_type": "execute_result"
    }
   ],
   "source": [
    "BinarySearch(0.5, 4, 0.001, 100)"
   ]
  },
  {
   "cell_type": "markdown",
   "metadata": {},
   "source": [
    "## Newton Raphson"
   ]
  },
  {
   "cell_type": "code",
   "execution_count": 125,
   "metadata": {},
   "outputs": [],
   "source": [
    "from sympy import *\n",
    "x = symbols(\"x\")\n",
    "def NewtonRaphson(p0, e, n):\n",
    "    f = parse_expr(expression)\n",
    "    for i in range(n):\n",
    "        d = diff(f, x)\n",
    "        a, b = N(f.subs(x, p0)), N(d.subs(x, p0))\n",
    "        if not b: return \"/0\"\n",
    "        p = p0 - N(a/b)\n",
    "        error = abs(1 - N(p0/p))\n",
    "        if not p0 or error < e: return p\n",
    "        p0 = p\n",
    "    return \"Failed\""
   ]
  },
  {
   "cell_type": "markdown",
   "metadata": {},
   "source": [
    "## Binary Search"
   ]
  },
  {
   "cell_type": "code",
   "execution_count": 124,
   "metadata": {},
   "outputs": [],
   "source": [
    "def BinarySearch(a, b, e, n):\n",
    "    f = parse_expr(expression)\n",
    "    for i in range(n):\n",
    "        p = (a + b)/2\n",
    "        fp = N(f.subs(x, p))\n",
    "        print(p, fp)\n",
    "        if not fp or abs(fp) < e: return p\n",
    "        if fp * N(f.subs(x, a)) > 0: a = p\n",
    "        else: b = p\n",
    "    return \"Failed\""
   ]
  }
 ],
 "metadata": {
  "kernelspec": {
   "display_name": "Python 3",
   "language": "python",
   "name": "python3"
  },
  "language_info": {
   "codemirror_mode": {
    "name": "ipython",
    "version": 3
   },
   "file_extension": ".py",
   "mimetype": "text/x-python",
   "name": "python",
   "nbconvert_exporter": "python",
   "pygments_lexer": "ipython3",
   "version": "3.8.3"
  }
 },
 "nbformat": 4,
 "nbformat_minor": 4
}
