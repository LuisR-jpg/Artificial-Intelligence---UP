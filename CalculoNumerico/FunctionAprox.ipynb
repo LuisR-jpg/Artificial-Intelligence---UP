{
 "cells": [
  {
   "cell_type": "markdown",
   "metadata": {},
   "source": [
    "# Aproximaciones\n",
    "\n",
    "\n",
    "##### Luis Eduardo Robles Jimenez\n",
    "\n",
    "0224969"
   ]
  },
  {
   "cell_type": "markdown",
   "metadata": {},
   "source": [
    "# Function"
   ]
  },
  {
   "cell_type": "code",
   "execution_count": null,
   "metadata": {},
   "outputs": [],
   "source": [
    "expression = \"x - 1\""
   ]
  },
  {
   "cell_type": "markdown",
   "metadata": {},
   "source": [
    "# Method"
   ]
  },
  {
   "cell_type": "code",
   "execution_count": null,
   "metadata": {
    "scrolled": true
   },
   "outputs": [],
   "source": [
    "NewtonRaphson(0, 0.1, 50)"
   ]
  },
  {
   "cell_type": "code",
   "execution_count": null,
   "metadata": {},
   "outputs": [],
   "source": [
    "BinarySearch(0, 2, 1, 50)"
   ]
  },
  {
   "cell_type": "markdown",
   "metadata": {},
   "source": [
    "## Newton Raphson"
   ]
  },
  {
   "cell_type": "code",
   "execution_count": null,
   "metadata": {},
   "outputs": [],
   "source": [
    "def NewtonRaphson(p0, e, n):\n",
    "    f = parse_expr(expression)\n",
    "    d = diff(f, x)\n",
    "    print(\"\\tf(x) =\", f, \"\\n\\tf'(x) =\", d, \"\\n\")\n",
    "    for i in range(n):\n",
    "        p = p0 - N(f.subs(x, p0))/N(d.subs(x, p0))\n",
    "        error = abs(N((p - p0)/p))\n",
    "        print(i + 1, \". \", sep = '', end = '')\n",
    "        print(\"P =\", p, \"\\tEr =\", error)\n",
    "        if error < e: return p\n",
    "        p0 = p\n",
    "    return p"
   ]
  },
  {
   "cell_type": "markdown",
   "metadata": {},
   "source": [
    "## Binary Search"
   ]
  },
  {
   "cell_type": "code",
   "execution_count": null,
   "metadata": {},
   "outputs": [],
   "source": [
    "def BinarySearch(a, b, e, n):\n",
    "    f = parse_expr(expression)\n",
    "    print(\"\\tf(x) = \", f, \"\\n\\t[\", a, \", \", b, \"]\", \"\\n\", sep = \"\")\n",
    "    fp0, p0 = N(f.subs(x, a)), a\n",
    "    for i in range(n):\n",
    "        p = a + (b - a)/2\n",
    "        fp = N(f.subs(x, p))\n",
    "        error = abs((p - p0)/p)*100\n",
    "        print(i + 1, \". \", sep = '', end = '')\n",
    "        print(\"P = \", p, \"\\tEr = \", error, \" %\", sep = '')\n",
    "        if error < e: return p\n",
    "        if fp * fp0 > 0: a, fp0 = p, fp\n",
    "        else: b = p\n",
    "        p0 = p\n",
    "    return p"
   ]
  },
  {
   "cell_type": "markdown",
   "metadata": {},
   "source": [
    "### Run First"
   ]
  },
  {
   "cell_type": "code",
   "execution_count": null,
   "metadata": {},
   "outputs": [],
   "source": [
    "from sympy import *\n",
    "x = symbols(\"x\")"
   ]
  }
 ],
 "metadata": {
  "kernelspec": {
   "display_name": "Python 3",
   "language": "python",
   "name": "python3"
  },
  "language_info": {
   "codemirror_mode": {
    "name": "ipython",
    "version": 3
   },
   "file_extension": ".py",
   "mimetype": "text/x-python",
   "name": "python",
   "nbconvert_exporter": "python",
   "pygments_lexer": "ipython3",
   "version": "3.8.3"
  }
 },
 "nbformat": 4,
 "nbformat_minor": 4
}
