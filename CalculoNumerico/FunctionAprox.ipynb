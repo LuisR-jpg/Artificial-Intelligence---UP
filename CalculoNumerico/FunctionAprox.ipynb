{
 "cells": [
  {
   "cell_type": "markdown",
   "metadata": {},
   "source": [
    "# Aproximaciones\n",
    "\n",
    "\n",
    "##### Luis Eduardo Robles Jimenez"
   ]
  },
  {
   "cell_type": "markdown",
   "metadata": {},
   "source": [
    "# Function"
   ]
  },
  {
   "cell_type": "code",
   "execution_count": 132,
   "metadata": {},
   "outputs": [],
   "source": [
    "expression = \"2*x**2-1\""
   ]
  },
  {
   "cell_type": "markdown",
   "metadata": {},
   "source": [
    "# Method"
   ]
  },
  {
   "cell_type": "code",
   "execution_count": 131,
   "metadata": {},
   "outputs": [
    {
     "name": "stdout",
     "output_type": "stream",
     "text": [
      "\tf(x) = 2*x**2 - 1 \n",
      "\tf'(x) = 4*x \n",
      "\n",
      "1. P = 0.750000000000000 \tEr = 0.333333333333333\n",
      "2. P = 0.708333333333333 \tEr = 0.0588235294117646\n",
      "3. P = 0.707107843137255 \tEr = 0.00173310225303292\n",
      "4. P = 0.707106781187345 \tEr = 1.50182396529309e-6\n"
     ]
    },
    {
     "data": {
      "text/latex": [
       "$\\displaystyle 0.707106781187345$"
      ],
      "text/plain": [
       "0.707106781187345"
      ]
     },
     "execution_count": 131,
     "metadata": {},
     "output_type": "execute_result"
    }
   ],
   "source": [
    "NewtonRaphson(0.5, 0.00001, 500)"
   ]
  },
  {
   "cell_type": "code",
   "execution_count": 130,
   "metadata": {},
   "outputs": [
    {
     "name": "stdout",
     "output_type": "stream",
     "text": [
      "\tf(x) = 2*x**2 - 1\n",
      "\t[0, 1]\n",
      "\n",
      "1. P = 0.5\tEr = 1.0\n",
      "2. P = 0.75\tEr = 0.3333333333333333\n",
      "3. P = 0.625\tEr = 0.2\n",
      "4. P = 0.6875\tEr = 0.09090909090909091\n",
      "5. P = 0.71875\tEr = 0.043478260869565216\n",
      "6. P = 0.703125\tEr = 0.022222222222222223\n",
      "7. P = 0.7109375\tEr = 0.01098901098901099\n",
      "8. P = 0.70703125\tEr = 0.0055248618784530384\n",
      "9. P = 0.708984375\tEr = 0.0027548209366391185\n",
      "10. P = 0.7080078125\tEr = 0.001379310344827586\n",
      "11. P = 0.70751953125\tEr = 0.0006901311249137336\n",
      "12. P = 0.707275390625\tEr = 0.00034518467380048324\n",
      "13. P = 0.7071533203125\tEr = 0.00017262213015708613\n",
      "14. P = 0.70709228515625\tEr = 8.631851532153647e-05\n",
      "15. P = 0.707122802734375\tEr = 4.3157395019636617e-05\n",
      "16. P = 0.7071075439453125\tEr = 2.1579163160052653e-05\n",
      "17. P = 0.7070999145507812\tEr = 1.0789697996353082e-05\n",
      "18. P = 0.7071037292480469\tEr = 5.394819893937841e-06\n"
     ]
    },
    {
     "data": {
      "text/plain": [
       "0.7071037292480469"
      ]
     },
     "execution_count": 130,
     "metadata": {},
     "output_type": "execute_result"
    }
   ],
   "source": [
    "BinarySearch(0, 1, 0.00001, 500)"
   ]
  },
  {
   "cell_type": "markdown",
   "metadata": {},
   "source": [
    "## Newton Raphson"
   ]
  },
  {
   "cell_type": "code",
   "execution_count": 126,
   "metadata": {},
   "outputs": [],
   "source": [
    "def NewtonRaphson(p0, e, n):\n",
    "    f = parse_expr(expression)\n",
    "    d = diff(f, x)\n",
    "    print(\"\\tf(x) =\", f, \"\\n\\tf'(x) =\", d, \"\\n\")\n",
    "    for i in range(n):\n",
    "        p = p0 - N(f.subs(x, p0))/N(d.subs(x, p0))\n",
    "        error = abs(N((p - p0)/p))\n",
    "        print(i + 1, \". \", sep = '', end = '')\n",
    "        print(\"P =\", p, \"\\tEr =\", error)\n",
    "        if error < e: return p\n",
    "        p0 = p\n",
    "    return p"
   ]
  },
  {
   "cell_type": "markdown",
   "metadata": {},
   "source": [
    "## Binary Search"
   ]
  },
  {
   "cell_type": "code",
   "execution_count": 127,
   "metadata": {},
   "outputs": [],
   "source": [
    "def BinarySearch(a, b, e, n):\n",
    "    f = parse_expr(expression)\n",
    "    print(\"\\tf(x) = \", f, \"\\n\\t[\", a, \", \", b, \"]\", \"\\n\", sep = \"\")\n",
    "    fp0, p0 = N(f.subs(x, a)), a\n",
    "    for i in range(n):\n",
    "        p = (a + b)/2\n",
    "        fp = N(f.subs(x, p))\n",
    "        error = abs((p - p0)/p)\n",
    "        print(i + 1, \". \", sep = '', end = '')\n",
    "        print(\"P = \", p, \"\\tEr = \", error, sep = '')\n",
    "        if error < e: return p\n",
    "        if fp * fp0 > 0: a, fp0 = p, fp\n",
    "        else: b = p\n",
    "        p0 = p\n",
    "    return p"
   ]
  },
  {
   "cell_type": "markdown",
   "metadata": {},
   "source": [
    "### Run First"
   ]
  },
  {
   "cell_type": "code",
   "execution_count": 125,
   "metadata": {},
   "outputs": [],
   "source": [
    "from sympy import *\n",
    "x = symbols(\"x\")"
   ]
  }
 ],
 "metadata": {
  "kernelspec": {
   "display_name": "Python 3",
   "language": "python",
   "name": "python3"
  },
  "language_info": {
   "codemirror_mode": {
    "name": "ipython",
    "version": 3
   },
   "file_extension": ".py",
   "mimetype": "text/x-python",
   "name": "python",
   "nbconvert_exporter": "python",
   "pygments_lexer": "ipython3",
   "version": "3.8.3"
  }
 },
 "nbformat": 4,
 "nbformat_minor": 4
}
