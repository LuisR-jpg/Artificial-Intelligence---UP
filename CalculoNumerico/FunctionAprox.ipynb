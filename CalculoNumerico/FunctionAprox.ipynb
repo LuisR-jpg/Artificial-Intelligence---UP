{
 "cells": [
  {
   "cell_type": "markdown",
   "metadata": {},
   "source": [
    "# Aproximaciones\n",
    "\n",
    "\n",
    "##### Luis Eduardo Robles Jimenez\n",
    "\n",
    "0224969"
   ]
  },
  {
   "cell_type": "markdown",
   "metadata": {},
   "source": [
    "# Function"
   ]
  },
  {
   "cell_type": "code",
   "execution_count": 16,
   "metadata": {},
   "outputs": [],
   "source": [
    "expression = \"1 - x\""
   ]
  },
  {
   "cell_type": "markdown",
   "metadata": {},
   "source": [
    "# Method"
   ]
  },
  {
   "cell_type": "code",
   "execution_count": 18,
   "metadata": {
    "scrolled": true
   },
   "outputs": [
    {
     "name": "stdout",
     "output_type": "stream",
     "text": [
      "\tf(x) = 1 - x \n",
      "\tf'(x) = -1 \n",
      "\n",
      "1. P = 1.00000000000000 \tEr = 1.00000000000000\n",
      "2. P = 1.00000000000000 \tEr = 0\n"
     ]
    },
    {
     "data": {
      "text/latex": [
       "$\\displaystyle 1.0$"
      ],
      "text/plain": [
       "1.00000000000000"
      ]
     },
     "execution_count": 18,
     "metadata": {},
     "output_type": "execute_result"
    }
   ],
   "source": [
    "NewtonRaphson(0, 0.1, 50)"
   ]
  },
  {
   "cell_type": "code",
   "execution_count": 19,
   "metadata": {},
   "outputs": [
    {
     "name": "stdout",
     "output_type": "stream",
     "text": [
      "\tf(x) = 1 - x\n",
      "\t[0, 2]\n",
      "\n",
      "1. P = 1.0\tEr = 100.0 %\n",
      "2. P = 0.5\tEr = 100.0 %\n",
      "3. P = 0.75\tEr = 33.33333333333333 %\n",
      "4. P = 0.875\tEr = 14.285714285714285 %\n",
      "5. P = 0.9375\tEr = 6.666666666666667 %\n",
      "6. P = 0.96875\tEr = 3.225806451612903 %\n",
      "7. P = 0.984375\tEr = 1.5873015873015872 %\n",
      "8. P = 0.9921875\tEr = 0.7874015748031495 %\n",
      "9. P = 0.99609375\tEr = 0.39215686274509803 %\n",
      "10. P = 0.998046875\tEr = 0.19569471624266144 %\n",
      "11. P = 0.9990234375\tEr = 0.09775171065493646 %\n"
     ]
    },
    {
     "data": {
      "text/plain": [
       "0.9990234375"
      ]
     },
     "execution_count": 19,
     "metadata": {},
     "output_type": "execute_result"
    }
   ],
   "source": [
    "BinarySearch(0, 2, 0.1, 50)"
   ]
  },
  {
   "cell_type": "code",
   "execution_count": 20,
   "metadata": {},
   "outputs": [
    {
     "name": "stdout",
     "output_type": "stream",
     "text": [
      "\tf(x) = 1 - x \n",
      "\n",
      "1. P = 1 \tEr = 0\n"
     ]
    },
    {
     "data": {
      "text/latex": [
       "$\\displaystyle 1$"
      ],
      "text/plain": [
       "1"
      ]
     },
     "execution_count": 20,
     "metadata": {},
     "output_type": "execute_result"
    }
   ],
   "source": [
    "Secant(0, 1, 0.01, 10)"
   ]
  },
  {
   "cell_type": "markdown",
   "metadata": {},
   "source": [
    "## Newton Raphson"
   ]
  },
  {
   "cell_type": "code",
   "execution_count": 13,
   "metadata": {},
   "outputs": [],
   "source": [
    "def NewtonRaphson(p0, e, n):\n",
    "    f = parse_expr(expression)\n",
    "    d = diff(f, x)\n",
    "    print(\"\\tf(x) =\", f, \"\\n\\tf'(x) =\", d, \"\\n\")\n",
    "    for i in range(n):\n",
    "        p = p0 - N(f.subs(x, p0))/N(d.subs(x, p0))\n",
    "        error = abs(N((p - p0)/p))\n",
    "        print(i + 1, \". \", sep = '', end = '')\n",
    "        print(\"P =\", p, \"\\tEr =\", error)\n",
    "        if error < e: return p\n",
    "        p0 = p\n",
    "    return p"
   ]
  },
  {
   "cell_type": "markdown",
   "metadata": {},
   "source": [
    "## Binary Search"
   ]
  },
  {
   "cell_type": "code",
   "execution_count": 10,
   "metadata": {},
   "outputs": [],
   "source": [
    "def BinarySearch(a, b, e, n):\n",
    "    f = parse_expr(expression)\n",
    "    print(\"\\tf(x) = \", f, \"\\n\\t[\", a, \", \", b, \"]\", \"\\n\", sep = \"\")\n",
    "    fp0, p0 = N(f.subs(x, a)), a\n",
    "    for i in range(n):\n",
    "        p = a + (b - a)/2\n",
    "        fp = N(f.subs(x, p))\n",
    "        error = abs((p - p0)/p)*100\n",
    "        print(i + 1, \". \", sep = '', end = '')\n",
    "        print(\"P = \", p, \"\\tEr = \", error, \" %\", sep = '')\n",
    "        if error < e: return p\n",
    "        if fp * fp0 > 0: a, fp0 = p, fp\n",
    "        else: b = p\n",
    "        p0 = p\n",
    "    return p"
   ]
  },
  {
   "cell_type": "markdown",
   "metadata": {},
   "source": [
    "## Secant"
   ]
  },
  {
   "cell_type": "code",
   "execution_count": 8,
   "metadata": {},
   "outputs": [],
   "source": [
    "def Secant(pa, pb, e, n):\n",
    "    f = parse_expr(expression)\n",
    "    print(\"\\tf(x) =\", f, \"\\n\")\n",
    "    for i in range(n):\n",
    "        qa, qb = N(f.subs(x, pa)), N(f.subs(x, pb))\n",
    "        pc = pb - qb*(pa - pb)/(qa - qb)\n",
    "        error = abs(N((pc - pb)/pc))\n",
    "        print(i + 1, \". \", sep = '', end = '')\n",
    "        print(\"P =\", pc, \"\\tEr =\", error)\n",
    "        if error < e: return pc\n",
    "        pa, pb = pb, pc\n",
    "    return p"
   ]
  },
  {
   "cell_type": "markdown",
   "metadata": {},
   "source": [
    "### Run First"
   ]
  },
  {
   "cell_type": "code",
   "execution_count": 1,
   "metadata": {},
   "outputs": [],
   "source": [
    "from sympy import *\n",
    "x = symbols(\"x\")"
   ]
  }
 ],
 "metadata": {
  "kernelspec": {
   "display_name": "Python 3",
   "language": "python",
   "name": "python3"
  },
  "language_info": {
   "codemirror_mode": {
    "name": "ipython",
    "version": 3
   },
   "file_extension": ".py",
   "mimetype": "text/x-python",
   "name": "python",
   "nbconvert_exporter": "python",
   "pygments_lexer": "ipython3",
   "version": "3.8.3"
  }
 },
 "nbformat": 4,
 "nbformat_minor": 4
}
