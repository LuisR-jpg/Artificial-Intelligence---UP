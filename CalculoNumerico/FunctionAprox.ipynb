{
 "cells": [
  {
   "cell_type": "markdown",
   "metadata": {},
   "source": [
    "# Aproximación\n",
    "\n",
    "\n",
    "##### Luis Eduardo Robles Jimenez\n",
    "\n",
    "0224969"
   ]
  },
  {
   "cell_type": "markdown",
   "metadata": {},
   "source": [
    "# Input"
   ]
  },
  {
   "cell_type": "code",
   "execution_count": 4,
   "metadata": {},
   "outputs": [],
   "source": [
    "#expression = \"2*x**3 - 4*log(x)\"\n",
    "#expression = \"x**(1/3)\"\n",
    "#expression = \"x**3*log(x)\"\n",
    "expression = \"(E**x+E**(-x))/2\""
   ]
  },
  {
   "cell_type": "markdown",
   "metadata": {},
   "source": [
    "# Method"
   ]
  },
  {
   "cell_type": "code",
   "execution_count": 17,
   "metadata": {},
   "outputs": [
    {
     "name": "stdout",
     "output_type": "stream",
     "text": [
      "\tf(x) =\t exp(x)/2 + exp(-x)/2\n",
      "\tf'(x) =\t exp(x)/2 - exp(-x)/2\n",
      "\tf''(x) =\t exp(x)/2 + exp(-x)/2\n",
      "\tf'''(x) =\t exp(x)/2 - exp(-x)/2\n",
      "\n",
      "g(x) = 1.00000000000000*(x - 0)**0/(0!) + 0*(x - 0)**1/(1!) + 1.00000000000000*(x - 0)**2/(2!) + 0*(x - 0)**3/(3!)\n",
      "\n",
      "g(x) = 0.5*x**2 + 1.0 \n",
      "\n"
     ]
    }
   ],
   "source": [
    "f = Taylor(expression, 3, 0)\n",
    "print(\"\\ng(x) =\", f, \"\\n\")\n",
    "#print(\"f(x) ≈\", N(f.subs(x, 2.1)))"
   ]
  },
  {
   "cell_type": "markdown",
   "metadata": {},
   "source": [
    "## Taylor "
   ]
  },
  {
   "cell_type": "code",
   "execution_count": 16,
   "metadata": {},
   "outputs": [],
   "source": [
    "def Taylor(function, order, a = 0):\n",
    "    d, fS = [parse_expr(expression)], \"\"\n",
    "    for i in range(order + 1):\n",
    "        if i > 0: \n",
    "            d.append(diff(d[i-1], x))\n",
    "            fS += \" + \"\n",
    "        print(\"\\tf\", end=\"\")\n",
    "        for j in range(i):\n",
    "            print(\"'\", end=\"\")\n",
    "        print(\"(x) =\\t\", d[i])\n",
    "        fS += str(N(d[i].subs(x, a))) + \"*(x - \" + str(a) + \")**\" + str(i) + \"/(\" + str(i) + \"!)\"\n",
    "    print(\"\\ng(x) =\", fS)\n",
    "    return collect(expand(parse_expr(fS)), x)"
   ]
  },
  {
   "cell_type": "markdown",
   "metadata": {},
   "source": [
    "### Run First"
   ]
  },
  {
   "cell_type": "code",
   "execution_count": 2,
   "metadata": {},
   "outputs": [],
   "source": [
    "from sympy import *\n",
    "x = symbols(\"x\")"
   ]
  }
 ],
 "metadata": {
  "kernelspec": {
   "display_name": "Python 3",
   "language": "python",
   "name": "python3"
  },
  "language_info": {
   "codemirror_mode": {
    "name": "ipython",
    "version": 3
   },
   "file_extension": ".py",
   "mimetype": "text/x-python",
   "name": "python",
   "nbconvert_exporter": "python",
   "pygments_lexer": "ipython3",
   "version": "3.9.2"
  }
 },
 "nbformat": 4,
 "nbformat_minor": 4
}
