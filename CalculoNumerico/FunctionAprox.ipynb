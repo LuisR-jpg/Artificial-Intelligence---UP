{
 "cells": [
  {
   "cell_type": "markdown",
   "metadata": {},
   "source": [
    "# Function"
   ]
  },
  {
   "cell_type": "code",
   "execution_count": 11,
   "metadata": {},
   "outputs": [],
   "source": [
    "expression = \"x\"\n",
    "\n",
    "\n",
    "from sympy import *\n",
    "x = symbols(\"x\")"
   ]
  },
  {
   "cell_type": "markdown",
   "metadata": {},
   "source": [
    "# Method"
   ]
  },
  {
   "cell_type": "code",
   "execution_count": 12,
   "metadata": {},
   "outputs": [
    {
     "name": "stdout",
     "output_type": "stream",
     "text": [
      "x 1\n",
      "5.00000000000000 1.00000000000000\n",
      "0\n",
      "\n",
      "x 1\n",
      "0 1.00000000000000\n"
     ]
    },
    {
     "data": {
      "text/latex": [
       "$\\displaystyle 0$"
      ],
      "text/plain": [
       "0"
      ]
     },
     "execution_count": 12,
     "metadata": {},
     "output_type": "execute_result"
    }
   ],
   "source": [
    "NewtonRaphson(5, 0.05, 500)"
   ]
  },
  {
   "cell_type": "code",
   "execution_count": 13,
   "metadata": {},
   "outputs": [
    {
     "name": "stdout",
     "output_type": "stream",
     "text": [
      "0.5 0.500000000000000\n",
      "0.25 0.250000000000000\n",
      "0.125 0.125000000000000\n",
      "0.0625 0.0625000000000000\n",
      "0.03125 0.0312500000000000\n",
      "0.015625 0.0156250000000000\n",
      "0.0078125 0.00781250000000000\n"
     ]
    },
    {
     "data": {
      "text/plain": [
       "0.0078125"
      ]
     },
     "execution_count": 13,
     "metadata": {},
     "output_type": "execute_result"
    }
   ],
   "source": [
    "BinarySearch(0, 1, 0.01, 100)"
   ]
  },
  {
   "cell_type": "markdown",
   "metadata": {},
   "source": [
    "## Newton Raphson"
   ]
  },
  {
   "cell_type": "code",
   "execution_count": 6,
   "metadata": {},
   "outputs": [],
   "source": [
    "def NewtonRaphson(p0, e, n):\n",
    "    f = parse_expr(expression)\n",
    "    for i in range(n):\n",
    "        d = diff(f, x)\n",
    "        print(f, d)\n",
    "        a, b = N(f.subs(x, p0)), N(d.subs(x, p0))\n",
    "        print(a, b)\n",
    "        if not b: return \"/0\"\n",
    "        p = p0 - N(a/b)\n",
    "        error = abs(1 - N(p0/p))\n",
    "        if not p0 or error < e: return p\n",
    "        print(p)\n",
    "        p0 = p\n",
    "        print()\n",
    "    return \"Failed\""
   ]
  },
  {
   "cell_type": "markdown",
   "metadata": {},
   "source": [
    "## Binary Search"
   ]
  },
  {
   "cell_type": "code",
   "execution_count": 7,
   "metadata": {},
   "outputs": [],
   "source": [
    "def BinarySearch(a, b, e, n):\n",
    "    f = parse_expr(expression)\n",
    "    for i in range(n):\n",
    "        p = (a + b)/2\n",
    "        fp = N(f.subs(x, p))\n",
    "        print(p, fp)\n",
    "        if not fp or abs(fp) < e: return p\n",
    "        if fp * N(f.subs(x, a)) > 0: a = p\n",
    "        else: b = p\n",
    "    return \"Failed\""
   ]
  }
 ],
 "metadata": {
  "kernelspec": {
   "display_name": "Python 3",
   "language": "python",
   "name": "python3"
  },
  "language_info": {
   "codemirror_mode": {
    "name": "ipython",
    "version": 3
   },
   "file_extension": ".py",
   "mimetype": "text/x-python",
   "name": "python",
   "nbconvert_exporter": "python",
   "pygments_lexer": "ipython3",
   "version": "3.8.3"
  }
 },
 "nbformat": 4,
 "nbformat_minor": 4
}
