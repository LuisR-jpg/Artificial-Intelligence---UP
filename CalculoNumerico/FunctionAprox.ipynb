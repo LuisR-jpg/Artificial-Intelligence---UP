{
 "cells": [
  {
   "cell_type": "markdown",
   "metadata": {},
   "source": [
    "# Function"
   ]
  },
  {
   "cell_type": "code",
   "execution_count": 1,
   "metadata": {},
   "outputs": [],
   "source": [
    "expression = \"-x**2 + 1.8*x + 2.5\"\n",
    "\n",
    "\n",
    "from sympy import *\n",
    "x = symbols(\"x\")"
   ]
  },
  {
   "cell_type": "markdown",
   "metadata": {},
   "source": [
    "# Method"
   ]
  },
  {
   "cell_type": "code",
   "execution_count": 9,
   "metadata": {},
   "outputs": [
    {
     "name": "stdout",
     "output_type": "stream",
     "text": [
      "-x**2 + 1.8*x + 2.5 1.8 - 2*x\n",
      "-13.5000000000000 -8.20000000000000\n",
      "Error: 5 3.35365853658537 : 0.490909090909091\n",
      "3.35365853658537\n",
      "\n",
      "-x**2 + 1.8*x + 2.5 1.8 - 2*x\n",
      "-2.71044021415824 -4.90731707317073\n",
      "Error: 3.35365853658537 2.80133225040004 : 0.197165575810029\n",
      "2.80133225040004\n",
      "\n",
      "-x**2 + 1.8*x + 2.5 1.8 - 2*x\n",
      "-0.305064326411276 -3.80266450080008\n",
      "Error: 2.80133225040004 2.72110841620507 : 0.0294820425813280\n",
      "2.72110841620507\n",
      "\n",
      "-x**2 + 1.8*x + 2.5 1.8 - 2*x\n",
      "-0.00643586357294179 -3.64221683241014\n",
      "Error: 2.72110841620507 2.71934139796616 : 0.000649796395639779\n",
      "2.71934139796616\n",
      "\n",
      "-x**2 + 1.8*x + 2.5 1.8 - 2*x\n",
      "-3.12235345667489e-6 -3.63868279593232\n",
      "Error: 2.71934139796616 2.71934053986623 : 3.15554421481679e-7\n"
     ]
    },
    {
     "data": {
      "text/latex": [
       "$\\displaystyle 2.71934053986623$"
      ],
      "text/plain": [
       "2.71934053986623"
      ]
     },
     "execution_count": 9,
     "metadata": {},
     "output_type": "execute_result"
    }
   ],
   "source": [
    "NewtonRaphson(5, 0.0005, 500)"
   ]
  },
  {
   "cell_type": "code",
   "execution_count": 13,
   "metadata": {},
   "outputs": [
    {
     "name": "stdout",
     "output_type": "stream",
     "text": [
      "0.5 0.500000000000000\n",
      "0.25 0.250000000000000\n",
      "0.125 0.125000000000000\n",
      "0.0625 0.0625000000000000\n",
      "0.03125 0.0312500000000000\n",
      "0.015625 0.0156250000000000\n",
      "0.0078125 0.00781250000000000\n"
     ]
    },
    {
     "data": {
      "text/plain": [
       "0.0078125"
      ]
     },
     "execution_count": 13,
     "metadata": {},
     "output_type": "execute_result"
    }
   ],
   "source": [
    "BinarySearch(0, 1, 0.01, 100)"
   ]
  },
  {
   "cell_type": "markdown",
   "metadata": {},
   "source": [
    "## Newton Raphson"
   ]
  },
  {
   "cell_type": "code",
   "execution_count": 8,
   "metadata": {},
   "outputs": [],
   "source": [
    "def NewtonRaphson(p0, e, n):\n",
    "    f = parse_expr(expression)\n",
    "    for i in range(n):\n",
    "        d = diff(f, x)\n",
    "        print(f, d)\n",
    "        a, b = N(f.subs(x, p0)), N(d.subs(x, p0))\n",
    "        print(a, b)\n",
    "        if not b: return \"/0\"\n",
    "        p = p0 - N(a/b)\n",
    "        error = abs(1 - N(p0/p))\n",
    "        print(\"Error:\", p0, p, \":\", error)\n",
    "        if not p0 or error < e: return p\n",
    "        print(p)\n",
    "        p0 = p\n",
    "        print()\n",
    "    return \"Failed\""
   ]
  },
  {
   "cell_type": "markdown",
   "metadata": {},
   "source": [
    "## Binary Search"
   ]
  },
  {
   "cell_type": "code",
   "execution_count": 7,
   "metadata": {},
   "outputs": [],
   "source": [
    "def BinarySearch(a, b, e, n):\n",
    "    f = parse_expr(expression)\n",
    "    for i in range(n):\n",
    "        p = (a + b)/2\n",
    "        fp = N(f.subs(x, p))\n",
    "        print(p, fp)\n",
    "        if not fp or abs(fp) < e: return p\n",
    "        if fp * N(f.subs(x, a)) > 0: a = p\n",
    "        else: b = p\n",
    "    return \"Failed\""
   ]
  }
 ],
 "metadata": {
  "kernelspec": {
   "display_name": "Python 3",
   "language": "python",
   "name": "python3"
  },
  "language_info": {
   "codemirror_mode": {
    "name": "ipython",
    "version": 3
   },
   "file_extension": ".py",
   "mimetype": "text/x-python",
   "name": "python",
   "nbconvert_exporter": "python",
   "pygments_lexer": "ipython3",
   "version": "3.8.3"
  }
 },
 "nbformat": 4,
 "nbformat_minor": 4
}
