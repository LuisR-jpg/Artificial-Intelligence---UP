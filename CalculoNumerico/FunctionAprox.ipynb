{
 "cells": [
  {
   "cell_type": "markdown",
   "metadata": {},
   "source": [
    "# Aproximaciones\n",
    "\n",
    "\n",
    "##### Luis Eduardo Robles Jimenez\n",
    "\n",
    "0224969"
   ]
  },
  {
   "cell_type": "markdown",
   "metadata": {},
   "source": [
    "# Function"
   ]
  },
  {
   "cell_type": "code",
   "execution_count": 1,
   "metadata": {},
   "outputs": [],
   "source": [
    "expression = \"x**3-2**x*2-5\""
   ]
  },
  {
   "cell_type": "markdown",
   "metadata": {},
   "source": [
    "# Method"
   ]
  },
  {
   "cell_type": "code",
   "execution_count": 8,
   "metadata": {
    "scrolled": true
   },
   "outputs": [
    {
     "name": "stdout",
     "output_type": "stream",
     "text": [
      "\tf(x) = -2*2**x + x**3 - 5 \n",
      "\tf'(x) = -2*2**x*log(2) + 3*x**2 \n",
      "\n",
      "1. P = -5.04943264311137 \tEr = 1.00000000000000\n",
      "2. P = -3.29917319632040 \tEr = 0.530514569148129\n",
      "3. P = -2.03465039045821 \tEr = 0.621493899783642\n",
      "4. P = -0.883163116006759 \tEr = 1.30382174434314\n",
      "5. P = 3.38123464828776 \tEr = 1.26119545310290\n",
      "6. P = 2.73563169076709 \tEr = 0.235997762308288\n",
      "7. P = 2.57285027320845 \tEr = 0.0632689042396710\n"
     ]
    },
    {
     "data": {
      "text/latex": [
       "$\\displaystyle 2.57285027320845$"
      ],
      "text/plain": [
       "2.57285027320845"
      ]
     },
     "execution_count": 8,
     "metadata": {},
     "output_type": "execute_result"
    }
   ],
   "source": [
    "NewtonRaphson(0, 0.1, 50)"
   ]
  },
  {
   "cell_type": "code",
   "execution_count": 12,
   "metadata": {},
   "outputs": [
    {
     "name": "stdout",
     "output_type": "stream",
     "text": [
      "\tf(x) = -2*2**x + x**3 - 5\n",
      "\t[0, 3]\n",
      "\n",
      "1. P = 1.5\tEr = 100.0 %\n",
      "2. P = 2.25\tEr = 33.33333333333333 %\n",
      "3. P = 2.625\tEr = 14.285714285714285 %\n",
      "4. P = 2.4375\tEr = 7.6923076923076925 %\n",
      "5. P = 2.53125\tEr = 3.7037037037037033 %\n",
      "6. P = 2.578125\tEr = 1.8181818181818181 %\n",
      "7. P = 2.5546875\tEr = 0.9174311926605505 %\n",
      "8. P = 2.56640625\tEr = 0.45662100456621 %\n",
      "9. P = 2.560546875\tEr = 0.2288329519450801 %\n",
      "10. P = 2.5634765625\tEr = 0.1142857142857143 %\n",
      "11. P = 2.56201171875\tEr = 0.05717552887364208 %\n"
     ]
    },
    {
     "data": {
      "text/plain": [
       "2.56201171875"
      ]
     },
     "execution_count": 12,
     "metadata": {},
     "output_type": "execute_result"
    }
   ],
   "source": [
    "BinarySearch(0, 3, 0.1, 50)"
   ]
  },
  {
   "cell_type": "code",
   "execution_count": 10,
   "metadata": {},
   "outputs": [
    {
     "name": "stdout",
     "output_type": "stream",
     "text": [
      "\tf(x) = -2*2**x + x**3 - 5 \n",
      "\n",
      "1. P = -7.00000000000000 \tEr = 1.14285714285714\n",
      "2. P = 1.18822664399614 \tEr = 6.89113199520439\n",
      "3. P = 1.37792056040428 \tEr = 0.137666801598844\n",
      "4. P = 6.20160843315054 \tEr = 0.777812389276523\n",
      "5. P = 1.76740325511756 \tEr = 2.50888141412755\n",
      "6. P = 2.06849216207142 \tEr = 0.145559607367494\n",
      "7. P = 2.84964394455899 \tEr = 0.274122591343063\n",
      "8. P = 2.49757386186937 \tEr = 0.140964833138552\n",
      "9. P = 2.55429220833145 \tEr = 0.0222051127420249\n",
      "10. P = 2.56167214739207 \tEr = 0.00288090693734561\n"
     ]
    },
    {
     "data": {
      "text/latex": [
       "$\\displaystyle 2.56167214739207$"
      ],
      "text/plain": [
       "2.56167214739207"
      ]
     },
     "execution_count": 10,
     "metadata": {},
     "output_type": "execute_result"
    }
   ],
   "source": [
    "Secant(0, 1, 0.01, 10)"
   ]
  },
  {
   "cell_type": "markdown",
   "metadata": {},
   "source": [
    "## Newton Raphson"
   ]
  },
  {
   "cell_type": "code",
   "execution_count": 5,
   "metadata": {},
   "outputs": [],
   "source": [
    "def NewtonRaphson(p0, e, n):\n",
    "    f = parse_expr(expression)\n",
    "    d = diff(f, x)\n",
    "    print(\"\\tf(x) =\", f, \"\\n\\tf'(x) =\", d, \"\\n\")\n",
    "    for i in range(n):\n",
    "        p = p0 - N(f.subs(x, p0))/N(d.subs(x, p0))\n",
    "        error = abs(N((p - p0)/p))\n",
    "        print(i + 1, \". \", sep = '', end = '')\n",
    "        print(\"P =\", p, \"\\tEr =\", error)\n",
    "        if error < e: return p\n",
    "        p0 = p\n",
    "    return p"
   ]
  },
  {
   "cell_type": "markdown",
   "metadata": {},
   "source": [
    "## Binary Search"
   ]
  },
  {
   "cell_type": "code",
   "execution_count": 6,
   "metadata": {},
   "outputs": [],
   "source": [
    "def BinarySearch(a, b, e, n):\n",
    "    f = parse_expr(expression)\n",
    "    print(\"\\tf(x) = \", f, \"\\n\\t[\", a, \", \", b, \"]\", \"\\n\", sep = \"\")\n",
    "    fp0, p0 = N(f.subs(x, a)), a\n",
    "    for i in range(n):\n",
    "        p = a + (b - a)/2\n",
    "        fp = N(f.subs(x, p))\n",
    "        error = abs((p - p0)/p)*100\n",
    "        print(i + 1, \". \", sep = '', end = '')\n",
    "        print(\"P = \", p, \"\\tEr = \", error, \" %\", sep = '')\n",
    "        if error < e: return p\n",
    "        if fp * fp0 > 0: a, fp0 = p, fp\n",
    "        else: b = p\n",
    "        p0 = p\n",
    "    return p"
   ]
  },
  {
   "cell_type": "markdown",
   "metadata": {},
   "source": [
    "## Secant"
   ]
  },
  {
   "cell_type": "code",
   "execution_count": 7,
   "metadata": {},
   "outputs": [],
   "source": [
    "def Secant(pa, pb, e, n):\n",
    "    f = parse_expr(expression)\n",
    "    print(\"\\tf(x) =\", f, \"\\n\")\n",
    "    for i in range(n):\n",
    "        qa, qb = N(f.subs(x, pa)), N(f.subs(x, pb))\n",
    "        pc = pb - qb*(pa - pb)/(qa - qb)\n",
    "        error = abs(N((pc - pb)/pc))\n",
    "        print(i + 1, \". \", sep = '', end = '')\n",
    "        print(\"P =\", pc, \"\\tEr =\", error)\n",
    "        if error < e: return pc\n",
    "        pa, pb = pb, pc\n",
    "    return p"
   ]
  },
  {
   "cell_type": "markdown",
   "metadata": {},
   "source": [
    "### Run First"
   ]
  },
  {
   "cell_type": "code",
   "execution_count": 1,
   "metadata": {},
   "outputs": [],
   "source": [
    "from sympy import *\n",
    "x = symbols(\"x\")"
   ]
  }
 ],
 "metadata": {
  "kernelspec": {
   "display_name": "Python 3",
   "language": "python",
   "name": "python3"
  },
  "language_info": {
   "codemirror_mode": {
    "name": "ipython",
    "version": 3
   },
   "file_extension": ".py",
   "mimetype": "text/x-python",
   "name": "python",
   "nbconvert_exporter": "python",
   "pygments_lexer": "ipython3",
   "version": "3.9.2"
  }
 },
 "nbformat": 4,
 "nbformat_minor": 4
}
