{
 "cells": [
  {
   "cell_type": "markdown",
   "id": "destroyed-package",
   "metadata": {},
   "source": [
    "# Aproximaciones\n",
    "\n",
    "\n",
    "##### Luis Eduardo Robles Jimenez\n",
    "\n",
    "0224969"
   ]
  },
  {
   "cell_type": "markdown",
   "id": "advance-commander",
   "metadata": {},
   "source": [
    "# Input"
   ]
  },
  {
   "cell_type": "code",
   "execution_count": 14,
   "id": "miniature-contract",
   "metadata": {},
   "outputs": [],
   "source": [
    "Matrix = [\n",
    "    [3, -0.1, -0.2], \n",
    "    [0.1, 7, -0.3],\n",
    "    [0.3, -0.2, 10]\n",
    "]\n",
    "Independent = [7.85, -19.3, 71.4]"
   ]
  },
  {
   "cell_type": "markdown",
   "id": "occupied-dictionary",
   "metadata": {},
   "source": [
    "# Method"
   ]
  },
  {
   "cell_type": "code",
   "execution_count": 15,
   "id": "therapeutic-groove",
   "metadata": {},
   "outputs": [
    {
     "name": "stdout",
     "output_type": "stream",
     "text": [
      "[7.267998612549763, 0.786255613339172, 69.37685153890291]\n"
     ]
    }
   ],
   "source": [
    "x = GaussSeidel(Matrix, Independent, 100, 0.0001)\n",
    "print(x)"
   ]
  },
  {
   "cell_type": "markdown",
   "id": "secondary-tooth",
   "metadata": {},
   "source": [
    "## Gauss-Seidel"
   ]
  },
  {
   "cell_type": "code",
   "execution_count": 10,
   "id": "attended-ministry",
   "metadata": {
    "scrolled": true
   },
   "outputs": [],
   "source": [
    "def GaussSeidel(m, it, n, e):\n",
    "    x = [0 for _ in range(len(m))]\n",
    "    for i in range(len(m)):\n",
    "        d = m[0][0]\n",
    "        for j in range(len(m[i])):\n",
    "            m[i][j] /= d\n",
    "        it[i] /= d\n",
    "    for i in range(len(m)):\n",
    "        s = it[i]\n",
    "        for j in range(len(m[i])):\n",
    "            if i != j: \n",
    "                s -= m[i][j]*x[j]\n",
    "        x[i] = s\n",
    "    for _ in range(n):\n",
    "        c = 1\n",
    "        for i in range(len(m)):\n",
    "            o = x[i]\n",
    "            s = it[i]\n",
    "            for j in range(len(m[0])):\n",
    "                if i != j:\n",
    "                    s -= m[i][j]*x[j]\n",
    "            x[i] = s\n",
    "            if c: \n",
    "                error = 100*abs((x[i]-o)/x[i])\n",
    "                if error > e: \n",
    "                    c = 0\n",
    "        if c: break;\n",
    "    return x"
   ]
  }
 ],
 "metadata": {
  "kernelspec": {
   "display_name": "Python 3",
   "language": "python",
   "name": "python3"
  },
  "language_info": {
   "codemirror_mode": {
    "name": "ipython",
    "version": 3
   },
   "file_extension": ".py",
   "mimetype": "text/x-python",
   "name": "python",
   "nbconvert_exporter": "python",
   "pygments_lexer": "ipython3",
   "version": "3.9.2"
  }
 },
 "nbformat": 4,
 "nbformat_minor": 5
}
