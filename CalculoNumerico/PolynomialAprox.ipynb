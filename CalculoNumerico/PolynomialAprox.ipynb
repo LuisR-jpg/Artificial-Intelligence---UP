{
 "cells": [
  {
   "cell_type": "markdown",
   "id": "interracial-scout",
   "metadata": {},
   "source": [
    "# Aproximaciones\n",
    "\n",
    "\n",
    "##### Luis Eduardo Robles Jimenez\n",
    "\n",
    "0224969"
   ]
  },
  {
   "cell_type": "markdown",
   "id": "advance-commander",
   "metadata": {},
   "source": [
    "# Input"
   ]
  },
  {
   "cell_type": "code",
   "execution_count": 118,
   "id": "indonesian-delaware",
   "metadata": {},
   "outputs": [],
   "source": [
    "#xInput = (1, 4, 6, 5)\n",
    "#yInput = \"ln(x)\"\n",
    "\n",
    "xInput = (1, 4, 6)\n",
    "yInput = \"ln(x)\"\n",
    "\n",
    "#xInput = (1.0, 1.3, 1.6, 1.9, 2.2)\n",
    "#yInput = (0.765197, 0.6200860, 0.4554022, 0.2818186, 0.1103623)"
   ]
  },
  {
   "cell_type": "markdown",
   "id": "occupied-dictionary",
   "metadata": {},
   "source": [
    "# Method"
   ]
  },
  {
   "cell_type": "code",
   "execution_count": 122,
   "id": "attended-ministry",
   "metadata": {},
   "outputs": [
    {
     "name": "stdout",
     "output_type": "stream",
     "text": [
      "3 points:\n",
      "\tf(1) = 0\n",
      "\tf(4) = 1.38629436111989\n",
      "\tf(6) = 1.79175946922805\n",
      "\n",
      "Polynomial\n",
      "0*(x - 4)/(1 - 4)*(x - 6)/(1 - 6) + 1.38629436111989*(x - 1)/(4 - 1)*(x - 6)/(4 - 6) + 1.79175946922805*(x - 1)/(6 - 1)*(x - 4)/(6 - 4)\n",
      "\n",
      "Simplified\n",
      "(0.66959057342867 - 0.0518731132638433*x)*(x - 1)\n",
      "\n",
      "By Powers\n",
      "-0.0518731132638433*x**2 + 0.721463686692513*x - 0.66959057342867\n",
      "\n",
      "f(2) ≈ 0.565844346900983\n"
     ]
    }
   ],
   "source": [
    "f, e = Lagrange(xInput, yInput), 2\n",
    "print(\"\\nf(\", e, \") ≈ \", N(f.subs(x, e)), sep = \"\")"
   ]
  },
  {
   "cell_type": "code",
   "execution_count": 120,
   "id": "announced-region",
   "metadata": {},
   "outputs": [
    {
     "name": "stdout",
     "output_type": "stream",
     "text": [
      "3 points:\n",
      "\tf(1) = 0\n",
      "\tf(4) = 1.38629436111989\n",
      "\tf(6) = 1.79175946922805\n",
      "\n",
      "Polynomial\n",
      "0 + 0.462098120373297*(x-1) + -0.0518731132638429*(x-1)*(x-4)\n",
      "\n",
      "Simplified\n",
      "-0.0518731132638429*x**2 + 0.721463686692511*x - 0.669590573428669\n",
      "\n",
      "By Powers\n",
      "-0.0518731132638429*x**2 + 0.721463686692511*x - 0.669590573428669\n",
      "\n",
      "f(2) ≈ 0.565844346900983\n"
     ]
    }
   ],
   "source": [
    "f, e = Newton(xInput, yInput), 2\n",
    "print(\"\\nf(\", e, \") ≈ \", N(f.subs(x, e)), sep = \"\")"
   ]
  },
  {
   "cell_type": "markdown",
   "id": "bottom-pregnancy",
   "metadata": {},
   "source": [
    "## Lagrange"
   ]
  },
  {
   "cell_type": "code",
   "execution_count": 113,
   "id": "bronze-envelope",
   "metadata": {},
   "outputs": [],
   "source": [
    "def Lagrange(xInput, yInput, p = None):\n",
    "    yInput, n, s = Cloud(xInput, yInput), len(xInput), \"\"\n",
    "    print(n, \"points:\")\n",
    "    for i in range(n): print(\"\\tf(\", xInput[i], \") = \", yInput[i], sep = \"\")\n",
    "    for i in range(n):\n",
    "        p = str(yInput[i])\n",
    "        for j in range(n):\n",
    "            if i != j:\n",
    "                p += \"*(x - \" + str(xInput[j]) + \")/(\" + str(xInput[i]) + \" - \" + str(xInput[j]) + \")\"\n",
    "        s += (\" + \" if i else \"\") + p\n",
    "    return showPoly(s)"
   ]
  },
  {
   "cell_type": "markdown",
   "id": "secondary-tooth",
   "metadata": {},
   "source": [
    "## Newton's Polynomial"
   ]
  },
  {
   "cell_type": "code",
   "execution_count": 83,
   "id": "artistic-punch",
   "metadata": {},
   "outputs": [],
   "source": [
    "def Newton(xInput, yInput):\n",
    "    yInput = Cloud(xInput, yInput)\n",
    "    n = len(xInput)\n",
    "    print(n, \"points:\")\n",
    "    for i in range(n): print(\"\\tf(\", xInput[i], \") = \", yInput[i], sep = \"\")\n",
    "    m = [[0 for i in range(n)] for j in range(n)]\n",
    "    for i in range(n): m[i][0] = yInput[i]\n",
    "    for j in range(1, n):\n",
    "        for i in range(n - j):\n",
    "            m[i][j] = (m[i+1][j-1] - m[i][j-1])/(xInput[i+j] - xInput[i])\n",
    "    r, a = str(m[0][0]), \"\"\n",
    "    for i in range(1, n):\n",
    "        a += \"*\" + \"(x-\" + str(xInput[i - 1]) + \")\"\n",
    "        r += \" + \" + str(m[0][i]) + a\n",
    "    return showPoly(r)"
   ]
  },
  {
   "cell_type": "markdown",
   "id": "careful-hygiene",
   "metadata": {},
   "source": [
    "### AuxFucnts"
   ]
  },
  {
   "cell_type": "code",
   "execution_count": 100,
   "id": "interracial-confusion",
   "metadata": {},
   "outputs": [],
   "source": [
    "def Cloud(xI, yI):\n",
    "    if isinstance(yI, str):\n",
    "        a, yI = list(), parse_expr(yI)\n",
    "        for xVal in xI: a.append(N(yI.subs(x, xVal)))\n",
    "        yI = tuple(a)\n",
    "    return yI\n",
    "def showPoly(s):\n",
    "    print(\"\\nPolynomial\", s, sep = \"\\n\")\n",
    "    print(\"\\nSimplified\", simplify(parse_expr(s)), sep = \"\\n\")\n",
    "    print(\"\\nBy Powers\", r := collect(expand(parse_expr(s)), x), sep = \"\\n\")\n",
    "    return r"
   ]
  },
  {
   "cell_type": "markdown",
   "id": "enhanced-modem",
   "metadata": {},
   "source": [
    "### Run First"
   ]
  },
  {
   "cell_type": "code",
   "execution_count": 1,
   "id": "unknown-bernard",
   "metadata": {},
   "outputs": [],
   "source": [
    "from sympy import *\n",
    "x = symbols(\"x\")"
   ]
  }
 ],
 "metadata": {
  "kernelspec": {
   "display_name": "Python 3",
   "language": "python",
   "name": "python3"
  },
  "language_info": {
   "codemirror_mode": {
    "name": "ipython",
    "version": 3
   },
   "file_extension": ".py",
   "mimetype": "text/x-python",
   "name": "python",
   "nbconvert_exporter": "python",
   "pygments_lexer": "ipython3",
   "version": "3.9.2"
  }
 },
 "nbformat": 4,
 "nbformat_minor": 5
}
