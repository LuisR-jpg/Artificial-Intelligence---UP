{
 "cells": [
  {
   "cell_type": "markdown",
   "id": "interracial-scout",
   "metadata": {},
   "source": [
    "# Aproximaciones\n",
    "\n",
    "\n",
    "##### Luis Eduardo Robles Jimenez\n",
    "\n",
    "0224969"
   ]
  },
  {
   "cell_type": "markdown",
   "id": "advance-commander",
   "metadata": {},
   "source": [
    "# Input"
   ]
  },
  {
   "cell_type": "code",
   "execution_count": 29,
   "id": "indonesian-delaware",
   "metadata": {},
   "outputs": [],
   "source": [
    "#xInput = (1, 4, 6, 5)\n",
    "#yInput = \"ln(x)\"\n",
    "#xInput = (1, 4, 6)\n",
    "#yInput = \"ln(x)\"\n",
    "#xInput = (1.0, 1.3, 1.6, 1.9, 2.2)\n",
    "#yInput = (0.765197, 0.6200860, 0.4554022, 0.2818186, 0.1103623)\n",
    "#xInput = (1.0, 1.3, 1.6)\n",
    "#yInput = (0.7651977, 0.6200860, 0.4554022)\n",
    "#xInput = (8.1, 8.3, 8.6, 8.7)\n",
    "#yInput = (16.94410, 17.56492, 18.50515, 18.82091)\n",
    "#xInput = (1.3, 1.6, 1.9)\n",
    "#yInput = (0.6200860, 0.4554022, 0.2818186)\n",
    "#dInput = (-0.5220232, -0.5698959, -0.5811571)\n",
    "#xInput = (8.3, 8.6)\n",
    "#yInput = (17.56492, 18.50515)\n",
    "#dInput = (3.116256, 3.151762)\n",
    "#xInput = (0, 0.6, 0.9)\n",
    "#yInput = \"ln(x+1)\"\n",
    "#xInput = (8, 9, 11)\n",
    "#yInput = \"log(x, 10)\"\n",
    "#xInput = (8, 9, 11)\n",
    "#yInput = Cloud(xInput, \"log(x, 10)\")\n",
    "#dInput = Cloud(xInput, \"1/(x*log(10))\")\n",
    "\n",
    "#HERMITE SEGUNDO EXAMEN\n",
    "#xInput = (8.3, 8.6)\n",
    "#yInput = (17.5649, 18.5051)\n",
    "#dInput = (3.1162, 3.1517)\n",
    "\n",
    "#NEWTON SEGUNDO EXAMEN\n",
    "xInput = (8, 9, 11)\n",
    "yInput = \"log(x, 10)\"\n",
    "dInput = Cloud(xInput, \"1/x\")\n",
    "#yInput = (-15, 15, -153, 291)\n",
    "\n",
    "#LAGRANGE SEGUNDO EXAMEN\n",
    "#xInput = (1, -4, -7)\n",
    "#yInput = (10, 10, 34)"
   ]
  },
  {
   "cell_type": "markdown",
   "id": "occupied-dictionary",
   "metadata": {},
   "source": [
    "# Method"
   ]
  },
  {
   "cell_type": "code",
   "execution_count": 32,
   "id": "attended-ministry",
   "metadata": {
    "scrolled": true
   },
   "outputs": [
    {
     "name": "stdout",
     "output_type": "stream",
     "text": [
      "3 points:\n",
      "\tf(8) = 0.903089986991944\n",
      "\tf(9) = 0.954242509439325\n",
      "\tf(11) = 1.04139268515823\n",
      "\n",
      "Polynomial\n",
      "0.903089986991944*(x - 9)/(8 - 9)*(x - 11)/(8 - 11) + 0.954242509439325*(x - 8)/(9 - 8)*(x - 11)/(9 - 11) + 1.04139268515823*(x - 8)/(11 - 8)*(x - 9)/(11 - 9)\n",
      "\n",
      "Simplified\n",
      "-0.00252581152930949*x**2 + 0.0940913184456432*x + 0.312011377302608\n",
      "\n",
      "By Powers\n",
      "-0.00252581152930953*x**2 + 0.0940913184456438*x + 0.312011377302607\n",
      "\n",
      "g(10) ≈ 1.00034340882809\n"
     ]
    }
   ],
   "source": [
    "f, e = Lagrange(xInput, yInput), 10\n",
    "print(\"\\ng(\", e, \") ≈ \", N(f.subs(x, e)), sep = \"\")"
   ]
  },
  {
   "cell_type": "code",
   "execution_count": 25,
   "id": "announced-region",
   "metadata": {},
   "outputs": [
    {
     "name": "stdout",
     "output_type": "stream",
     "text": [
      "3 points:\n",
      "\tf(8) = 0.903089986991944\n",
      "\tf(9) = 0.954242509439325\n",
      "\tf(11) = 1.04139268515823\n",
      "\n",
      "Polynomial\n",
      "0.903089986991944 + 0.0511525224473813*(x-8) + -0.00252581152931040*(x-8)*(x-9)\n",
      "\n",
      "Simplified\n",
      "-0.0025258115293104*x**2 + 0.0940913184456581*x + 0.312011377302545\n",
      "\n",
      "By Powers\n",
      "-0.0025258115293104*x**2 + 0.0940913184456581*x + 0.312011377302545\n",
      "\n",
      "f(10) ≈ 1.00034340882809\n"
     ]
    }
   ],
   "source": [
    "f, e = Newton(xInput, yInput), 10\n",
    "print(\"\\nf(\", e, \") ≈ \", N(f.subs(x, e)), sep = \"\")"
   ]
  },
  {
   "cell_type": "code",
   "execution_count": 31,
   "id": "composed-eclipse",
   "metadata": {
    "scrolled": true
   },
   "outputs": [
    {
     "name": "stdout",
     "output_type": "stream",
     "text": [
      "(0.125000000000000, 0.111111111111111, 0.0909090909090909)\n",
      "3 points:\n",
      "\tf(8) = l\tf'(8) = 0.125000000000000\n",
      "\tf(9) = o\tf'(9) = 0.111111111111111\n",
      "\tf(11) = g\tf'(11) = 0.0909090909090909\n"
     ]
    },
    {
     "ename": "TypeError",
     "evalue": "unsupported operand type(s) for -: 'str' and 'str'",
     "output_type": "error",
     "traceback": [
      "\u001b[1;31m---------------------------------------------------------------------------\u001b[0m",
      "\u001b[1;31mTypeError\u001b[0m                                 Traceback (most recent call last)",
      "\u001b[1;32m<ipython-input-31-8101307c7cb6>\u001b[0m in \u001b[0;36m<module>\u001b[1;34m\u001b[0m\n\u001b[0;32m      1\u001b[0m \u001b[0mprint\u001b[0m\u001b[1;33m(\u001b[0m\u001b[0mdInput\u001b[0m\u001b[1;33m)\u001b[0m\u001b[1;33m\u001b[0m\u001b[1;33m\u001b[0m\u001b[0m\n\u001b[1;32m----> 2\u001b[1;33m \u001b[0mf\u001b[0m\u001b[1;33m,\u001b[0m \u001b[0me\u001b[0m \u001b[1;33m=\u001b[0m \u001b[0mHermite\u001b[0m\u001b[1;33m(\u001b[0m\u001b[0mxInput\u001b[0m\u001b[1;33m,\u001b[0m \u001b[0myInput\u001b[0m\u001b[1;33m,\u001b[0m \u001b[0mdInput\u001b[0m\u001b[1;33m)\u001b[0m\u001b[1;33m,\u001b[0m \u001b[1;36m10\u001b[0m\u001b[1;33m\u001b[0m\u001b[1;33m\u001b[0m\u001b[0m\n\u001b[0m\u001b[0;32m      3\u001b[0m \u001b[1;31m#print(\"\\nf(\", e, \") ≈ \", N(f.subs(x, e)), sep = \"\")\u001b[0m\u001b[1;33m\u001b[0m\u001b[1;33m\u001b[0m\u001b[1;33m\u001b[0m\u001b[0m\n",
      "\u001b[1;32m<ipython-input-15-eb3dd534055b>\u001b[0m in \u001b[0;36mHermite\u001b[1;34m(xInput, yInput, dInput)\u001b[0m\n\u001b[0;32m      8\u001b[0m         \u001b[0mm\u001b[0m\u001b[1;33m[\u001b[0m\u001b[1;36m2\u001b[0m\u001b[1;33m*\u001b[0m\u001b[0mi\u001b[0m\u001b[1;33m]\u001b[0m\u001b[1;33m[\u001b[0m\u001b[1;36m0\u001b[0m\u001b[1;33m]\u001b[0m \u001b[1;33m=\u001b[0m \u001b[0mm\u001b[0m\u001b[1;33m[\u001b[0m\u001b[1;36m2\u001b[0m\u001b[1;33m*\u001b[0m\u001b[0mi\u001b[0m\u001b[1;33m+\u001b[0m\u001b[1;36m1\u001b[0m\u001b[1;33m]\u001b[0m\u001b[1;33m[\u001b[0m\u001b[1;36m0\u001b[0m\u001b[1;33m]\u001b[0m \u001b[1;33m=\u001b[0m \u001b[0myInput\u001b[0m\u001b[1;33m[\u001b[0m\u001b[0mi\u001b[0m\u001b[1;33m]\u001b[0m\u001b[1;33m\u001b[0m\u001b[1;33m\u001b[0m\u001b[0m\n\u001b[0;32m      9\u001b[0m         \u001b[0mm\u001b[0m\u001b[1;33m[\u001b[0m\u001b[1;36m2\u001b[0m\u001b[1;33m*\u001b[0m\u001b[0mi\u001b[0m\u001b[1;33m]\u001b[0m\u001b[1;33m[\u001b[0m\u001b[1;36m1\u001b[0m\u001b[1;33m]\u001b[0m \u001b[1;33m=\u001b[0m \u001b[0mdInput\u001b[0m\u001b[1;33m[\u001b[0m\u001b[0mi\u001b[0m\u001b[1;33m]\u001b[0m\u001b[1;33m\u001b[0m\u001b[1;33m\u001b[0m\u001b[0m\n\u001b[1;32m---> 10\u001b[1;33m         \u001b[1;32mif\u001b[0m \u001b[0mi\u001b[0m\u001b[1;33m:\u001b[0m \u001b[0mm\u001b[0m\u001b[1;33m[\u001b[0m\u001b[1;36m2\u001b[0m\u001b[1;33m*\u001b[0m\u001b[0mi\u001b[0m\u001b[1;33m-\u001b[0m\u001b[1;36m1\u001b[0m\u001b[1;33m]\u001b[0m\u001b[1;33m[\u001b[0m\u001b[1;36m1\u001b[0m\u001b[1;33m]\u001b[0m \u001b[1;33m=\u001b[0m \u001b[1;33m(\u001b[0m\u001b[0mm\u001b[0m\u001b[1;33m[\u001b[0m\u001b[1;36m2\u001b[0m\u001b[1;33m*\u001b[0m\u001b[0mi\u001b[0m\u001b[1;33m]\u001b[0m\u001b[1;33m[\u001b[0m\u001b[1;36m0\u001b[0m\u001b[1;33m]\u001b[0m\u001b[1;33m-\u001b[0m\u001b[0mm\u001b[0m\u001b[1;33m[\u001b[0m\u001b[1;36m2\u001b[0m\u001b[1;33m*\u001b[0m\u001b[0mi\u001b[0m\u001b[1;33m-\u001b[0m\u001b[1;36m1\u001b[0m\u001b[1;33m]\u001b[0m\u001b[1;33m[\u001b[0m\u001b[1;36m0\u001b[0m\u001b[1;33m]\u001b[0m\u001b[1;33m)\u001b[0m\u001b[1;33m/\u001b[0m\u001b[1;33m(\u001b[0m\u001b[0mxInput\u001b[0m\u001b[1;33m[\u001b[0m\u001b[0mi\u001b[0m\u001b[1;33m]\u001b[0m\u001b[1;33m-\u001b[0m\u001b[0mxInput\u001b[0m\u001b[1;33m[\u001b[0m\u001b[0mi\u001b[0m\u001b[1;33m-\u001b[0m\u001b[1;36m1\u001b[0m\u001b[1;33m]\u001b[0m\u001b[1;33m)\u001b[0m\u001b[1;33m\u001b[0m\u001b[1;33m\u001b[0m\u001b[0m\n\u001b[0m\u001b[0;32m     11\u001b[0m     \u001b[1;32mfor\u001b[0m \u001b[0mj\u001b[0m \u001b[1;32min\u001b[0m \u001b[0mrange\u001b[0m\u001b[1;33m(\u001b[0m\u001b[1;36m2\u001b[0m\u001b[1;33m,\u001b[0m \u001b[1;36m2\u001b[0m\u001b[1;33m*\u001b[0m\u001b[0mn\u001b[0m\u001b[1;33m)\u001b[0m\u001b[1;33m:\u001b[0m\u001b[1;33m\u001b[0m\u001b[1;33m\u001b[0m\u001b[0m\n\u001b[0;32m     12\u001b[0m         \u001b[1;32mfor\u001b[0m \u001b[0mi\u001b[0m \u001b[1;32min\u001b[0m \u001b[0mrange\u001b[0m\u001b[1;33m(\u001b[0m\u001b[1;36m2\u001b[0m\u001b[1;33m*\u001b[0m\u001b[0mn\u001b[0m\u001b[1;33m-\u001b[0m\u001b[0mj\u001b[0m\u001b[1;33m)\u001b[0m\u001b[1;33m:\u001b[0m\u001b[1;33m\u001b[0m\u001b[1;33m\u001b[0m\u001b[0m\n",
      "\u001b[1;31mTypeError\u001b[0m: unsupported operand type(s) for -: 'str' and 'str'"
     ]
    }
   ],
   "source": [
    "f, e = Hermite(xInput, yInput, dInput), 10\n",
    "#print(\"\\nf(\", e, \") ≈ \", N(f.subs(x, e)), sep = \"\")"
   ]
  },
  {
   "cell_type": "markdown",
   "id": "bottom-pregnancy",
   "metadata": {},
   "source": [
    "## Lagrange"
   ]
  },
  {
   "cell_type": "code",
   "execution_count": 9,
   "id": "bronze-envelope",
   "metadata": {},
   "outputs": [],
   "source": [
    "def Lagrange(xInput, yInput, p = None):\n",
    "    yInput, n, s = Cloud(xInput, yInput), len(xInput), \"\"\n",
    "    print(n, \"points:\")\n",
    "    for i in range(n): print(\"\\tf(\", xInput[i], \") = \", yInput[i], sep = \"\")\n",
    "    for i in range(n):\n",
    "        p = str(yInput[i])\n",
    "        for j in range(n):\n",
    "            if i != j:\n",
    "                p += \"*(x - \" + str(xInput[j]) + \")/(\" + str(xInput[i]) + \" - \" + str(xInput[j]) + \")\"\n",
    "        s += (\" + \" if i else \"\") + p\n",
    "    return showPoly(s)"
   ]
  },
  {
   "cell_type": "markdown",
   "id": "secondary-tooth",
   "metadata": {},
   "source": [
    "## Newton's Polynomial"
   ]
  },
  {
   "cell_type": "code",
   "execution_count": 3,
   "id": "artistic-punch",
   "metadata": {},
   "outputs": [],
   "source": [
    "def Newton(xInput, yInput):\n",
    "    yInput = Cloud(xInput, yInput)\n",
    "    n = len(xInput)\n",
    "    print(n, \"points:\")\n",
    "    for i in range(n): print(\"\\tf(\", xInput[i], \") = \", yInput[i], sep = \"\")\n",
    "    m = [[0 for i in range(n)] for j in range(n)]\n",
    "    for i in range(n): m[i][0] = yInput[i]\n",
    "    for j in range(1, n):\n",
    "        for i in range(n - j):\n",
    "            m[i][j] = (m[i+1][j-1] - m[i][j-1])/(xInput[i+j] - xInput[i])\n",
    "    r, a = str(m[0][0]), \"\"\n",
    "    for i in range(1, n):\n",
    "        a += \"*\" + \"(x-\" + str(xInput[i - 1]) + \")\"\n",
    "        r += \" + \" + str(m[0][i]) + a\n",
    "    return showPoly(r)"
   ]
  },
  {
   "cell_type": "markdown",
   "id": "external-chrome",
   "metadata": {},
   "source": [
    "## Hermite"
   ]
  },
  {
   "cell_type": "code",
   "execution_count": 15,
   "id": "lyric-landscape",
   "metadata": {},
   "outputs": [],
   "source": [
    "def Hermite(xInput, yInput, dInput):\n",
    "    n = len(xInput)\n",
    "    print(n, \"points:\")\n",
    "    for i in range(n):\n",
    "        print(\"\\tf(\", xInput[i], \") = \", yInput[i], \"\\tf'(\", xInput[i], \") = \", dInput[i], sep = \"\")\n",
    "    m = [[0 for i in range(2*n)] for j in range(2*n)]\n",
    "    for i in range(n):\n",
    "        m[2*i][0] = m[2*i+1][0] = yInput[i]\n",
    "        m[2*i][1] = dInput[i]\n",
    "        if i: m[2*i-1][1] = (m[2*i][0]-m[2*i-1][0])/(xInput[i]-xInput[i-1])\n",
    "    for j in range(2, 2*n):\n",
    "        for i in range(2*n-j):\n",
    "            m[i][j] = (m[i+1][j-1] - m[i][j-1])/(xInput[int((i+j)/2)] - xInput[int(i/2)])\n",
    "    r, a = str(m[0][0]), \"\"\n",
    "    for i in range(1, 2*n):\n",
    "        a += \"*\" + \"(x-\" + str(xInput[int((i - 1)/2)]) + \")\"\n",
    "        r += \" + \" + str(m[0][i]) + a\n",
    "    return showPoly(r)    \n",
    "    "
   ]
  },
  {
   "cell_type": "markdown",
   "id": "careful-hygiene",
   "metadata": {},
   "source": [
    "### AuxFucnt"
   ]
  },
  {
   "cell_type": "code",
   "execution_count": 5,
   "id": "interracial-confusion",
   "metadata": {},
   "outputs": [],
   "source": [
    "def Cloud(xI, yI):\n",
    "    if isinstance(yI, str):\n",
    "        a, yI = list(), parse_expr(yI)\n",
    "        for xVal in xI: a.append(N(yI.subs(x, xVal)))\n",
    "        yI = tuple(a)\n",
    "    return yI\n",
    "def showPoly(s):\n",
    "    print(\"\\nPolynomial\", s, sep = \"\\n\")\n",
    "    print(\"\\nSimplified\", simplify(parse_expr(s)), sep = \"\\n\")\n",
    "    print(\"\\nBy Powers\", r := collect(expand(parse_expr(s)), x), sep = \"\\n\")\n",
    "    return r"
   ]
  },
  {
   "cell_type": "markdown",
   "id": "enhanced-modem",
   "metadata": {},
   "source": [
    "### Run First"
   ]
  },
  {
   "cell_type": "code",
   "execution_count": 1,
   "id": "unknown-bernard",
   "metadata": {},
   "outputs": [],
   "source": [
    "from sympy import *\n",
    "x = symbols(\"x\")"
   ]
  }
 ],
 "metadata": {
  "kernelspec": {
   "display_name": "Python 3",
   "language": "python",
   "name": "python3"
  },
  "language_info": {
   "codemirror_mode": {
    "name": "ipython",
    "version": 3
   },
   "file_extension": ".py",
   "mimetype": "text/x-python",
   "name": "python",
   "nbconvert_exporter": "python",
   "pygments_lexer": "ipython3",
   "version": "3.9.2"
  }
 },
 "nbformat": 4,
 "nbformat_minor": 5
}
