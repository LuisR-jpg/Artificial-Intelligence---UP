{
 "cells": [
  {
   "cell_type": "markdown",
   "id": "interracial-scout",
   "metadata": {},
   "source": [
    "# Aproximaciones\n",
    "\n",
    "\n",
    "##### Luis Eduardo Robles Jimenez\n",
    "\n",
    "0224969"
   ]
  },
  {
   "cell_type": "markdown",
   "id": "advance-commander",
   "metadata": {},
   "source": [
    "# Input"
   ]
  },
  {
   "cell_type": "code",
   "execution_count": 193,
   "id": "indonesian-delaware",
   "metadata": {},
   "outputs": [],
   "source": [
    "xInput = (1, 4, 6, 5)\n",
    "yInput = \"ln(x)\"\n",
    "\n",
    "#xInput = (1.0, 1.3, 1.6, 1.9, 2.2)\n",
    "#yInput = (0.765197, 0.6200860, 0.4554022, 0.2818186, 0.1103623)"
   ]
  },
  {
   "cell_type": "markdown",
   "id": "occupied-dictionary",
   "metadata": {},
   "source": [
    "# Method"
   ]
  },
  {
   "cell_type": "markdown",
   "id": "secondary-tooth",
   "metadata": {},
   "source": [
    "## Newton's Polynomial"
   ]
  },
  {
   "cell_type": "code",
   "execution_count": 194,
   "id": "artistic-punch",
   "metadata": {},
   "outputs": [
    {
     "name": "stdout",
     "output_type": "stream",
     "text": [
      "4 points:\n",
      "\tf(1) = 0\n",
      "\tf(4) = 1.38629436111989\n",
      "\tf(6) = 1.79175946922805\n",
      "\tf(5) = 1.60943791243410\n",
      "\n",
      "Polynomial\n",
      "0 + 0.462098120373297*(x-1) + -0.0518731132638429*(x-1)*(x-4) + 0.00786552900092885*(x-1)*(x-4)*(x-6)\n",
      "\n",
      "Simplified\n",
      "0.00786552900092885*x**3 - 0.13839393227406*x**2 + 0.988891672724092*x - 0.858363269450961\n"
     ]
    }
   ],
   "source": [
    "if isinstance(yInput, str):\n",
    "    a, yInput = list(), parse_expr(yInput)\n",
    "    for xVal in xInput: a.append(N(yInput.subs(x, xVal)))\n",
    "    yInput = tuple(a)\n",
    "n = len(xInput)\n",
    "print(n, \"points:\")\n",
    "for i in range(n): print(\"\\tf(\", xInput[i], \") = \", yInput[i], sep = \"\")\n",
    "m = [[0 for i in range(n)] for j in range(n)]\n",
    "for i in range(n): m[i][0] = yInput[i]\n",
    "for j in range(1, n):\n",
    "    for i in range(n - j):\n",
    "        m[i][j] = (m[i+1][j-1] - m[i][j-1])/(xInput[i+j] - xInput[i])\n",
    "r, a = str(m[0][0]), \"\"\n",
    "for i in range(1, n):\n",
    "    a += \"*\" + \"(x-\" + str(xInput[i - 1]) + \")\"\n",
    "    r += \" + \" + str(m[0][i]) + a\n",
    "print(\"\\nPolynomial\", r, sep = \"\\n\")\n",
    "print(\"\\nSimplified\", simplify(parse_expr(r)), sep = \"\\n\")"
   ]
  },
  {
   "cell_type": "markdown",
   "id": "enhanced-modem",
   "metadata": {},
   "source": [
    "### Run First"
   ]
  },
  {
   "cell_type": "code",
   "execution_count": 165,
   "id": "unknown-bernard",
   "metadata": {},
   "outputs": [],
   "source": [
    "from sympy import *\n",
    "x = symbols(\"x\")"
   ]
  }
 ],
 "metadata": {
  "kernelspec": {
   "display_name": "Python 3",
   "language": "python",
   "name": "python3"
  },
  "language_info": {
   "codemirror_mode": {
    "name": "ipython",
    "version": 3
   },
   "file_extension": ".py",
   "mimetype": "text/x-python",
   "name": "python",
   "nbconvert_exporter": "python",
   "pygments_lexer": "ipython3",
   "version": "3.9.2"
  }
 },
 "nbformat": 4,
 "nbformat_minor": 5
}
