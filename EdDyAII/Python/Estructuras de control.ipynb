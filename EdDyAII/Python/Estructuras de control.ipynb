{
 "cells": [
  {
   "cell_type": "markdown",
   "metadata": {},
   "source": [
    "# Estructuras de control"
   ]
  },
  {
   "cell_type": "markdown",
   "metadata": {},
   "source": [
    "### if, elif, else"
   ]
  },
  {
   "cell_type": "code",
   "execution_count": 1,
   "metadata": {},
   "outputs": [
    {
     "name": "stdout",
     "output_type": "stream",
     "text": [
      "Dame tu nombre: cal\n",
      "Cual es tu calificacion? 32\n",
      "Bienvenido cal. Tu calificacion es: 32.0\n",
      "Aprobado\n"
     ]
    }
   ],
   "source": [
    "nombre = input(\"Dame tu nombre: \")\n",
    "calif = float(input(\"Cual es tu calificacion? \"))\n",
    "print(\"Bienvenido\", nombre + \". Tu calificacion es:\", calif)\n",
    "if calif >= 9.0: \n",
    "    print(\"Aprobado\")\n",
    "elif calif >= 7.0:\n",
    "    print(\"Bien\")\n",
    "elif calif >= 6.0:\n",
    "    print(\"Aprobado\")\n",
    "else: \n",
    "    print(\"Reprobado\")"
   ]
  },
  {
   "cell_type": "markdown",
   "metadata": {},
   "source": [
    "### Operador ternario"
   ]
  },
  {
   "cell_type": "code",
   "execution_count": 3,
   "metadata": {},
   "outputs": [
    {
     "name": "stdout",
     "output_type": "stream",
     "text": [
      "Cual es tu calificacion? 5\n",
      "Reprobado\n"
     ]
    }
   ],
   "source": [
    "calif = float(input(\"Cual es tu calificacion? \"))\n",
    "print(\"Aprobado\" if calif >= 6.0 else \"Reprobado\")\n",
    "print(\"Excelente\" if calif >= 9 else \"Bien\" if calif >= 8 else \"Aprobado\" if calif >= 6 else \"Reprobado\")"
   ]
  },
  {
   "cell_type": "markdown",
   "metadata": {},
   "source": [
    "### While"
   ]
  },
  {
   "cell_type": "code",
   "execution_count": 12,
   "metadata": {},
   "outputs": [
    {
     "name": "stdout",
     "output_type": "stream",
     "text": [
      "1 2 3 4 5 6 7 8 9 "
     ]
    }
   ],
   "source": [
    "i = 0\n",
    "while i < 9:\n",
    "    print(i := i+1, end = ' ')"
   ]
  },
  {
   "cell_type": "markdown",
   "metadata": {},
   "source": [
    "### For"
   ]
  },
  {
   "cell_type": "code",
   "execution_count": 27,
   "metadata": {},
   "outputs": [
    {
     "name": "stdout",
     "output_type": "stream",
     "text": [
      "10 20 30 40 50 \n",
      "1 3 5 7 9 \n",
      "0 10, 1 20, 2 30, 3 40, 4 50, \n",
      "10 m, 20 n, 30 o, 40 p, "
     ]
    }
   ],
   "source": [
    "lista = [10, 20, 30, 40, 50]\n",
    "for i in lista:\n",
    "    print(i, end = \" \")\n",
    "print()\n",
    "# range( [inicio, fin), incremento )\n",
    "# range(fin) From zero to fin-1\n",
    "# range([inicio, fin)) Incremento = 1\n",
    "for i in range(1, 10, 2):\n",
    "    print(i, end = ' ')\n",
    "print()\n",
    "# enumerate(elemento, indice)\n",
    "for i, elemento in enumerate(lista):\n",
    "    print(i, elemento, end = \", \")\n",
    "print()\n",
    "# zip: Itera sobre 2 o más listas del mismo tamaño. Si no son del mismo: recorre hasta la mas pequeña\n",
    "listaB = ['m', 'n', 'o', 'p']\n",
    "for a, b in zip(lista, listaB):\n",
    "    print(a, b, end = \", \")"
   ]
  }
 ],
 "metadata": {
  "kernelspec": {
   "display_name": "Python 3",
   "language": "python",
   "name": "python3"
  },
  "language_info": {
   "codemirror_mode": {
    "name": "ipython",
    "version": 3
   },
   "file_extension": ".py",
   "mimetype": "text/x-python",
   "name": "python",
   "nbconvert_exporter": "python",
   "pygments_lexer": "ipython3",
   "version": "3.8.3"
  }
 },
 "nbformat": 4,
 "nbformat_minor": 4
}
