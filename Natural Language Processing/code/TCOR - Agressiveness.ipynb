{
 "cells": [
  {
   "attachments": {},
   "cell_type": "markdown",
   "metadata": {},
   "source": [
    "# TCOR\n",
    "\n",
    "Term Co-ocurrence representation"
   ]
  },
  {
   "attachments": {},
   "cell_type": "markdown",
   "metadata": {},
   "source": [
    "## Definition\n",
    "$$\n",
    "w_{k, j} = tff(t_k, t_j) log(\\frac{|T|}{T_k})\n",
    "$$\n",
    "\n",
    "$$\n",
    "tff(t_k, t_j) = \n",
    "\\begin{cases}\n",
    "1 + log(\\#(t_k, t_j)) &\\quad if \\ \\#(t_k, t_j) > 0 \\\\\n",
    "0 &\\quad otherwise\n",
    "\\end{cases}\n",
    "$$\n",
    "\n",
    "Where:\n",
    "- $T_k$ is the number of terms the k-th word co-occured with\n",
    "- $|T|$ is the size of the vocabulary\n",
    "- $\\#(t_k, t_j)$ is \n",
    "- $t$ is a word"
   ]
  },
  {
   "cell_type": "markdown",
   "metadata": {},
   "source": [
    "## Import libraries"
   ]
  },
  {
   "cell_type": "code",
   "execution_count": 37,
   "metadata": {},
   "outputs": [],
   "source": [
    "from sklearn.metrics import accuracy_score, confusion_matrix, f1_score, precision_recall_fscore_support\n",
    "from sklearn.model_selection import GridSearchCV\n",
    "from nltk.tokenize import TweetTokenizer \n",
    "from collections import Counter\n",
    "import matplotlib.pyplot as plt\n",
    "from sklearn import metrics\n",
    "from sklearn import svm\n",
    "%matplotlib inline\n",
    "import torch\n",
    "import nltk "
   ]
  },
  {
   "cell_type": "code",
   "execution_count": 38,
   "metadata": {},
   "outputs": [
    {
     "name": "stdout",
     "output_type": "stream",
     "text": [
      "Device cpu\n"
     ]
    }
   ],
   "source": [
    "device = torch.device(\"cuda\") if torch.cuda.is_available() else torch.device(\"cpu\")\n",
    "print(\"Device\", device)"
   ]
  },
  {
   "cell_type": "markdown",
   "metadata": {},
   "source": [
    "## Define utils"
   ]
  },
  {
   "cell_type": "code",
   "execution_count": 39,
   "metadata": {},
   "outputs": [],
   "source": [
    "def get_texts_from_file(path_corpus, path_truth):\n",
    "    txt = []\n",
    "    y = []\n",
    "    with open(path_corpus, \"r\") as f_corpus, open(path_truth, \"r\") as f_truth:\n",
    "        for tuit in f_corpus:\n",
    "            txt += [tuit]\n",
    "        for label in f_truth:\n",
    "            y += [label] \n",
    "    return txt, list(map(int, y))"
   ]
  },
  {
   "cell_type": "code",
   "execution_count": 40,
   "metadata": {},
   "outputs": [],
   "source": [
    "def TCOR(tweets, V, dict_indices):\n",
    "    pass"
   ]
  },
  {
   "cell_type": "markdown",
   "metadata": {},
   "source": [
    "## Set up corpus"
   ]
  },
  {
   "cell_type": "code",
   "execution_count": 41,
   "metadata": {},
   "outputs": [],
   "source": [
    "tr_txt, tr_y = get_texts_from_file(\"../data/agresividad/mex_train.txt\", \"../data/agresividad/mex_train_labels.txt\")\n",
    "val_txt, val_y = get_texts_from_file(\"../data/agresividad/mex_val.txt\", \"../data/agresividad/mex_val_labels.txt\")"
   ]
  },
  {
   "cell_type": "code",
   "execution_count": 42,
   "metadata": {},
   "outputs": [],
   "source": [
    "corpus_palabras = []\n",
    "tokenizer = TweetTokenizer()\n",
    "for doc in tr_txt:\n",
    "    corpus_palabras += tokenizer.tokenize(doc) # A single list"
   ]
  },
  {
   "cell_type": "code",
   "execution_count": 43,
   "metadata": {},
   "outputs": [],
   "source": [
    "vocab_size = 5000\n",
    "fdist = nltk.FreqDist(corpus_palabras)\n",
    "vocab = sorted([(fdist[key], key) for key in fdist])[:: -1][: vocab_size]"
   ]
  },
  {
   "cell_type": "code",
   "execution_count": 44,
   "metadata": {},
   "outputs": [
    {
     "name": "stdout",
     "output_type": "stream",
     "text": [
      "5000\n"
     ]
    },
    {
     "data": {
      "text/plain": [
       "['que', 'de', '.', 'a', 'la', 'y', 'no', 'me', '!', 'el']"
      ]
     },
     "execution_count": 44,
     "metadata": {},
     "output_type": "execute_result"
    }
   ],
   "source": [
    "indices = dict()\n",
    "for i, w in enumerate(vocab):\n",
    "    _, word = w\n",
    "    indices[word] = i\n",
    "print(len(indices))\n",
    "list(indices)[:10]"
   ]
  },
  {
   "cell_type": "markdown",
   "metadata": {},
   "source": [
    "## Experiments"
   ]
  },
  {
   "cell_type": "code",
   "execution_count": 46,
   "metadata": {},
   "outputs": [
    {
     "data": {
      "text/plain": [
       "tensor([[10.7602, 10.3036, 10.1593,  ...,  4.4397,  5.1499,  4.5469],\n",
       "        [10.7602, 10.3036, 10.1593,  ...,  4.4397,  5.1499,  4.5469],\n",
       "        [10.7602, 10.3036, 10.1593,  ...,  4.4397,  5.1499,  4.5469],\n",
       "        ...,\n",
       "        [ 3.9954,  3.8258,  3.7723,  ...,  4.4397,  5.1499,  4.5469],\n",
       "        [ 3.9954,  3.8258,  3.7723,  ...,  4.4397,  5.1499,  4.5469],\n",
       "        [ 3.9954,  3.8258,  3.7723,  ...,  4.4397,  5.1499,  4.5469]])"
      ]
     },
     "execution_count": 46,
     "metadata": {},
     "output_type": "execute_result"
    }
   ],
   "source": [
    "TCOR_tr = TCOR(tr_txt, vocab, indices)\n",
    "TCOR_val = TCOR(val_txt, vocab, indices)\n",
    "TCOR_tr.shape\n",
    "TCOR_tr"
   ]
  }
 ],
 "metadata": {
  "kernelspec": {
   "display_name": "pyTorch-gpu",
   "language": "python",
   "name": "python3"
  },
  "language_info": {
   "codemirror_mode": {
    "name": "ipython",
    "version": 3
   },
   "file_extension": ".py",
   "mimetype": "text/x-python",
   "name": "python",
   "nbconvert_exporter": "python",
   "pygments_lexer": "ipython3",
   "version": "3.9.16"
  },
  "orig_nbformat": 4,
  "vscode": {
   "interpreter": {
    "hash": "a5894844b2d2ed0dfa0303dd3da765415d62adce6c74979413b2b103f5e23799"
   }
  }
 },
 "nbformat": 4,
 "nbformat_minor": 2
}
