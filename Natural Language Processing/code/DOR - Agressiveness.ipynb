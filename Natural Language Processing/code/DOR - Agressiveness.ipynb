{
 "cells": [
  {
   "cell_type": "code",
   "execution_count": null,
   "metadata": {},
   "outputs": [],
   "source": [
    "def DOR(tweets, V, dict_indices):\n",
    "    DOR = np.zeros((len(tweets),len(V)), dtype=int)\n",
    "    for i, tweet in enumerate(tweets):\n",
    "        word_map = nltk.FreqDist(tokenizer.tokenize(tweet))\n",
    "        for word in word_map:\n",
    "            if word in dict_indices:\n",
    "                dftj = 1 + np.log(word_map[word])\n",
    "                DOR[...] = dftj * np.log(len(V)/len(tweet))\n",
    "                    \n",
    "\n",
    "    return DOR.T\n",
    "DOR_tr = DOR(tr_txt, V, dict_indices)"
   ]
  }
 ],
 "metadata": {
  "language_info": {
   "name": "python"
  },
  "orig_nbformat": 4
 },
 "nbformat": 4,
 "nbformat_minor": 2
}
