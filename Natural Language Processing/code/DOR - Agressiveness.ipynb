{
 "cells": [
  {
   "cell_type": "markdown",
   "metadata": {},
   "source": [
    "# DOR\n",
    "\n",
    "Document Ocurrent Representation"
   ]
  },
  {
   "cell_type": "markdown",
   "metadata": {},
   "source": [
    "## Import libraries"
   ]
  },
  {
   "cell_type": "code",
   "execution_count": 37,
   "metadata": {},
   "outputs": [],
   "source": [
    "from sklearn.metrics import accuracy_score, confusion_matrix, f1_score, precision_recall_fscore_support\n",
    "from sklearn.model_selection import GridSearchCV\n",
    "from nltk.tokenize import TweetTokenizer \n",
    "from collections import Counter\n",
    "import matplotlib.pyplot as plt\n",
    "from sklearn import metrics\n",
    "from sklearn import svm\n",
    "%matplotlib inline\n",
    "import torch\n",
    "import nltk "
   ]
  },
  {
   "cell_type": "code",
   "execution_count": 38,
   "metadata": {},
   "outputs": [
    {
     "name": "stdout",
     "output_type": "stream",
     "text": [
      "Device cpu\n"
     ]
    }
   ],
   "source": [
    "device = torch.device(\"cuda\") if torch.cuda.is_available() else torch.device(\"cpu\")\n",
    "print(\"Device\", device)"
   ]
  },
  {
   "cell_type": "markdown",
   "metadata": {},
   "source": [
    "## Define utils"
   ]
  },
  {
   "cell_type": "code",
   "execution_count": 39,
   "metadata": {},
   "outputs": [],
   "source": [
    "def get_texts_from_file(path_corpus, path_truth):\n",
    "    txt = []\n",
    "    y = []\n",
    "    with open(path_corpus, \"r\") as f_corpus, open(path_truth, \"r\") as f_truth:\n",
    "        for tuit in f_corpus:\n",
    "            txt += [tuit]\n",
    "        for label in f_truth:\n",
    "            y += [label] \n",
    "    return txt, list(map(int, y))"
   ]
  },
  {
   "cell_type": "code",
   "execution_count": 40,
   "metadata": {},
   "outputs": [],
   "source": [
    "def DOR(tweets, V, dict_indices):\n",
    "    # words, documents\n",
    "    DOR = torch.zeros(len(tweets), len(V), device = device)\n",
    "    for i, tweet in enumerate(tweets):\n",
    "        word_map = nltk.FreqDist(tokenizer.tokenize(tweet))\n",
    "        for word in word_map:\n",
    "            if word in dict_indices:\n",
    "                dftj = 1 + torch.log(torch.as_tensor(word_map[word]))\n",
    "                DOR[i, word_map[word]] = dftj * torch.log(torch.as_tensor(len(V)/len(tweet)))\n",
    "    # documents, documents\n",
    "    DORsum = torch.zeros(len(tweets), len(tweets), device = device)\n",
    "    for i, c in enumerate(DOR):\n",
    "        index = torch.where(c > 0)[0]\n",
    "        DORsum[i, :] = torch.sum(DOR[:, index], axis = 1)\n",
    "    return DORsum.to(torch.device('cpu'))"
   ]
  },
  {
   "cell_type": "markdown",
   "metadata": {},
   "source": [
    "## Set up corpus"
   ]
  },
  {
   "cell_type": "code",
   "execution_count": 41,
   "metadata": {},
   "outputs": [],
   "source": [
    "tr_txt, tr_y = get_texts_from_file(\"../data/agresividad/mex_train.txt\", \"../data/agresividad/mex_train_labels.txt\")\n",
    "val_txt, val_y = get_texts_from_file(\"../data/agresividad/mex_val.txt\", \"../data/agresividad/mex_val_labels.txt\")"
   ]
  },
  {
   "cell_type": "code",
   "execution_count": 42,
   "metadata": {},
   "outputs": [],
   "source": [
    "corpus_palabras = []\n",
    "tokenizer = TweetTokenizer()\n",
    "for doc in tr_txt:\n",
    "    corpus_palabras += tokenizer.tokenize(doc) # A single list"
   ]
  },
  {
   "cell_type": "code",
   "execution_count": 43,
   "metadata": {},
   "outputs": [],
   "source": [
    "vocab_size = 5000\n",
    "fdist = nltk.FreqDist(corpus_palabras)\n",
    "vocab = sorted([(fdist[key], key) for key in fdist])[:: -1][: vocab_size]"
   ]
  },
  {
   "cell_type": "code",
   "execution_count": 44,
   "metadata": {},
   "outputs": [
    {
     "name": "stdout",
     "output_type": "stream",
     "text": [
      "5000\n"
     ]
    },
    {
     "data": {
      "text/plain": [
       "['que', 'de', '.', 'a', 'la', 'y', 'no', 'me', '!', 'el']"
      ]
     },
     "execution_count": 44,
     "metadata": {},
     "output_type": "execute_result"
    }
   ],
   "source": [
    "indices = dict()\n",
    "for i, w in enumerate(vocab):\n",
    "    _, word = w\n",
    "    indices[word] = i\n",
    "print(len(indices))\n",
    "list(indices)[:10]"
   ]
  },
  {
   "cell_type": "markdown",
   "metadata": {},
   "source": [
    "## Experiments"
   ]
  },
  {
   "cell_type": "code",
   "execution_count": 46,
   "metadata": {},
   "outputs": [
    {
     "data": {
      "text/plain": [
       "tensor([[10.7602, 10.3036, 10.1593,  ...,  4.4397,  5.1499,  4.5469],\n",
       "        [10.7602, 10.3036, 10.1593,  ...,  4.4397,  5.1499,  4.5469],\n",
       "        [10.7602, 10.3036, 10.1593,  ...,  4.4397,  5.1499,  4.5469],\n",
       "        ...,\n",
       "        [ 3.9954,  3.8258,  3.7723,  ...,  4.4397,  5.1499,  4.5469],\n",
       "        [ 3.9954,  3.8258,  3.7723,  ...,  4.4397,  5.1499,  4.5469],\n",
       "        [ 3.9954,  3.8258,  3.7723,  ...,  4.4397,  5.1499,  4.5469]])"
      ]
     },
     "execution_count": 46,
     "metadata": {},
     "output_type": "execute_result"
    }
   ],
   "source": [
    "dor_tr = DOR(tr_txt, vocab, indices)\n",
    "dor_val = DOR(val_txt, vocab, indices)\n",
    "dor_tr.shape\n",
    "dor_tr"
   ]
  }
 ],
 "metadata": {
  "kernelspec": {
   "display_name": "pyTorch-gpu",
   "language": "python",
   "name": "python3"
  },
  "language_info": {
   "codemirror_mode": {
    "name": "ipython",
    "version": 3
   },
   "file_extension": ".py",
   "mimetype": "text/x-python",
   "name": "python",
   "nbconvert_exporter": "python",
   "pygments_lexer": "ipython3",
   "version": "3.9.16"
  },
  "orig_nbformat": 4,
  "vscode": {
   "interpreter": {
    "hash": "a5894844b2d2ed0dfa0303dd3da765415d62adce6c74979413b2b103f5e23799"
   }
  }
 },
 "nbformat": 4,
 "nbformat_minor": 2
}
