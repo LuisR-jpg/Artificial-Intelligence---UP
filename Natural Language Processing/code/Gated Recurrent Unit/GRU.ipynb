{
 "cells": [
  {
   "cell_type": "code",
   "execution_count": 1,
   "metadata": {},
   "outputs": [
    {
     "name": "stderr",
     "output_type": "stream",
     "text": [
      "[nltk_data] Downloading package punkt to\n",
      "[nltk_data]     C:\\Users\\lalor\\AppData\\Roaming\\nltk_data...\n",
      "[nltk_data]   Package punkt is already up-to-date!\n"
     ]
    }
   ],
   "source": [
    "import pandas as pd\n",
    "import pickle\n",
    "import numpy as np\n",
    "import nltk\n",
    "nltk.download('punkt')\n",
    "from tqdm.auto import tqdm\n",
    "import copy\n",
    "\n",
    "import torch\n",
    "from torch import nn, optim\n",
    "from torch.utils.data import Dataset, DataLoader\n",
    "from torch.nn.utils.rnn import pad_sequence, pad_packed_sequence, pack_padded_sequence\n",
    "import torch.nn.functional as F\n",
    "\n",
    "from sklearn.metrics import f1_score"
   ]
  },
  {
   "cell_type": "code",
   "execution_count": 2,
   "metadata": {},
   "outputs": [],
   "source": [
    "class agression_dataset(Dataset):\n",
    "    def __init__(self, split):\n",
    "        super(Dataset, self).__init__()\n",
    "        self.load_data(split)\n",
    "        self.vocab, self.emb_mat = self.load_vocab_embeddings()\n",
    "    \n",
    "    def __len__(self):\n",
    "        return len(self.data)\n",
    "    \n",
    "    def __getitem__(self, index):\n",
    "        '''Método principal para cargar una observación del dataset.\n",
    "           label: categoría a la que pertenece la observación.\n",
    "           words_ids: lista de índices de las palabras en el vocabulario.\n",
    "        '''\n",
    "        label = self.data.iloc[index]['target']\n",
    "        words, words_ids = self.preprocessed_text(index)\n",
    "        return words_ids, label, words\n",
    "    \n",
    "    def preprocessed_text(self, index):\n",
    "        '''Preprocess text and '''\n",
    "\n",
    "        text = self.data.iloc[index]['text']\n",
    "        words = nltk.word_tokenize(text)\n",
    "        words_ids = [self.vocab[word] if word in self.vocab.keys() else self.emb_mat.shape[0]-1\\\n",
    "                        for word in words]\n",
    "        return words, words_ids\n",
    "    \n",
    "    def load_data(self, split):\n",
    "        '''Método para cargar los datos.\n",
    "           El texto está en la columna \"text\" y las categorías en la columna \"target\".        \n",
    "        '''\n",
    "        self.data = pd.read_csv('%s.csv'%(split))\n",
    "\n",
    "    def load_vocab_embeddings(self):\n",
    "        '''Embeddings preentrenados en twitter.\n",
    "           emb_mat: Matriz de embeddings. Un vector de tamaño 200 para cada palabra del vocabulario.\n",
    "           vocab: Diccionario, asigna a cada palabra su renglón correspondiente en la matriz de embeddings.        \n",
    "        '''\n",
    "        embeddings_list = []\n",
    "        self.vocab_dict = {}\n",
    "        vocab = {}\n",
    "        prefix = '../../data/'\n",
    "        with open(prefix + 'word2vec_col.txt', 'r') as f:\n",
    "            for i, line in enumerate(f):\n",
    "                if i!=0:\n",
    "                    values = line.split()\n",
    "                    self.vocab_dict[i+1] = values[0]\n",
    "                    vocab[values[0]] = i+1\n",
    "                    vector = np.asarray(values[1:], 'float32')\n",
    "                    embeddings_list.append(vector)\n",
    "        embeddings_list.insert(0,np.mean(np.vstack(embeddings_list), axis=0))\n",
    "        embeddings_list.insert(0,np.zeros(100))\n",
    "        self.vocab_dict[0] = '[PAD]'\n",
    "        self.vocab_dict[1] = '[UNK]'\n",
    "        vocab['[PAD]'] = 0\n",
    "        vocab['[UNK]'] = 1\n",
    "        emb_mat = np.vstack(embeddings_list)\n",
    "\n",
    "        return vocab, emb_mat\n",
    "\n",
    "    def get_weights(self):\n",
    "        '''Devuelve pesos inversos para cada categoría. Mayor peso para la categoría con menos observaciones.'''\n",
    "        \n",
    "        cat_0 = len(self.data[self.data['target']==0])\n",
    "        cat_1 = len(self.data[self.data['target']==1])\n",
    "        maxi = max(cat_0, cat_1)\n",
    "        return torch.tensor([maxi/cat_0, maxi/cat_1])\n",
    "    \n",
    "    def collate_fn(self, batch):\n",
    "        '''Función que ejecuta el dataloader para formar batches de datos.'''\n",
    "        zipped_batch = list(zip(*batch))\n",
    "        word_ids = [torch.tensor(t) for t in zipped_batch[0]]\n",
    "        word_ids = torch.cat(word_ids, dim=0)\n",
    "        lengths = torch.tensor([len(t) for t in zipped_batch[0]])\n",
    "        labels = torch.tensor(zipped_batch[1])\n",
    "        words = zipped_batch[2]\n",
    "        return word_ids, lengths, labels, words"
   ]
  },
  {
   "cell_type": "code",
   "execution_count": 3,
   "metadata": {},
   "outputs": [],
   "source": [
    "class SimpleRNN(nn.Module):\n",
    "    def __init__(self, input_size=100, hidden_size=128, num_layers=1, \n",
    "                 bidirectional=False, emb_mat=None, dense_hidden_size=256):\n",
    "        '''Constructor, aquí definimos las capas.\n",
    "        input:\n",
    "            input_size: Tamaño de los embeddings de las palabras.\n",
    "            hidden_size: Tamaño de la capa oculta de la GRU. \n",
    "            num_layers: Número de capas de la GRU.\n",
    "            bidirectional: True si se quiere una GRU bidireccional. \n",
    "            emb_mat: Matriz de embeddings del vocabulario.\n",
    "            dense_hidden_size: Tamaño de la capa ocula del clasificador.\n",
    "        '''\n",
    "        super(SimpleRNN, self).__init__()\n",
    "        # Matriz entrenable de embeddings, tamaño del vocab_size x 100\n",
    "        self.embeddings = nn.Embedding.from_pretrained(\\\n",
    "                            torch.FloatTensor(emb_mat), freeze=False)\n",
    "        # Gated Recurrent Unit\n",
    "        self.gru = nn.GRU(input_size=input_size, hidden_size=hidden_size,\n",
    "                          num_layers=num_layers, bidirectional=bidirectional)\n",
    "        # Número de direcciones de la GRU\n",
    "        directions = 2 if bidirectional else 1\n",
    "        # Clasificador MLP\n",
    "        self.classifier = nn.Sequential(\\\n",
    "                            nn.Linear(hidden_size*directions, dense_hidden_size),\n",
    "                            nn.BatchNorm1d(dense_hidden_size),\n",
    "                            nn.ReLU(),\n",
    "                            nn.Linear(dense_hidden_size, 2))\n",
    "        \n",
    "    def forward(self, input_seq, lengths):\n",
    "        '''Función feed-forward de la red.\n",
    "        input:\n",
    "            input_seq: Lista de ids para cada palabra.\n",
    "            lengths: Número de palabras en cada una de las observaciones del batch.\n",
    "        output:\n",
    "            x: vectores para clasificar.\n",
    "            return None for consistency with the next model\n",
    "        '''\n",
    "        # Calcula el embedding para cada palabra.\n",
    "        x = self.embeddings(input_seq)\n",
    "        # Forma las secuencias de palabras que entran a la GRU.\n",
    "        x = x.split(lengths.tolist())\n",
    "        # Añade pading y empaqueta las secuencias (mayor velocidad de cómputo).\n",
    "        x = pad_sequence(x)\n",
    "        x = pack_padded_sequence(x, lengths, enforce_sorted=False)\n",
    "        output, hn = self.gru(x)\n",
    "        hn = torch.cat([h for h in hn], dim=-1)\n",
    "        x = self.classifier(hn)\n",
    "        return x, None"
   ]
  },
  {
   "cell_type": "code",
   "execution_count": 4,
   "metadata": {},
   "outputs": [],
   "source": [
    "def eval_model(model, dataloader, criterion, device):\n",
    "    '''Función para evaluar el modelo.'''\n",
    "    with torch.no_grad():\n",
    "        model.eval()\n",
    "        losses = []\n",
    "        preds = torch.empty(0).long()\n",
    "        targets = torch.empty(0).long()\n",
    "        scores_list = []\n",
    "        words_list = []\n",
    "        pred_list = []\n",
    "        for data in tqdm(dataloader):\n",
    "            torch.cuda.empty_cache()\n",
    "            seq, seq_len, labels, words = data \n",
    "            seq, labels = seq.to(device), labels.to(device)\n",
    "            output, scores = model(seq, seq_len)\n",
    "            output = F.log_softmax(output, dim=1)\n",
    "            loss = criterion(output, labels)\n",
    "            losses.append(loss.item())\n",
    "            predictions = F.log_softmax(output, dim=1).argmax(1)\n",
    "            preds = torch.cat([preds, predictions.cpu()],dim=0)\n",
    "            targets = torch.cat([targets, labels.cpu()],dim=0)\n",
    "            if scores is not None:\n",
    "                pred_list += predictions.tolist()\n",
    "                scores = scores.cpu().squeeze(2).tolist()\n",
    "                scores_list += scores \n",
    "                words_list += words \n",
    "\n",
    "        model.train()\n",
    "        preds = preds.numpy()\n",
    "        targets = targets.numpy()\n",
    "        f1 = f1_score(targets, preds, average='binary')\n",
    "\n",
    "        return np.mean(losses), f1, scores_list, words_list, pred_list"
   ]
  },
  {
   "cell_type": "code",
   "execution_count": 5,
   "metadata": {},
   "outputs": [],
   "source": [
    "batch_size=128"
   ]
  },
  {
   "cell_type": "code",
   "execution_count": 6,
   "metadata": {},
   "outputs": [],
   "source": [
    "prefix = '../../data/agresividad/'\n",
    "train_dataset = agression_dataset(prefix + 'train')\n",
    "val_dataset = agression_dataset(prefix + 'val')\n",
    "test_dataset = agression_dataset(prefix + 'test')\n",
    "train_dataloader = DataLoader(train_dataset, batch_size=batch_size, collate_fn = train_dataset.collate_fn, shuffle=True)\n",
    "val_dataloader = DataLoader(val_dataset, batch_size=batch_size, collate_fn = val_dataset.collate_fn, shuffle=False)\n",
    "test_dataloader = DataLoader(test_dataset, batch_size=batch_size, collate_fn = test_dataset.collate_fn, shuffle=False)"
   ]
  },
  {
   "cell_type": "code",
   "execution_count": 7,
   "metadata": {},
   "outputs": [],
   "source": [
    "lr = 0.001\n",
    "epochs = 10\n",
    "weight_decay=0.0001\n",
    "beta1=0\n",
    "beta2=0.999\n",
    "device = torch.device('cuda')"
   ]
  },
  {
   "cell_type": "code",
   "execution_count": 8,
   "metadata": {},
   "outputs": [],
   "source": [
    "model = SimpleRNN(emb_mat=train_dataset.emb_mat, bidirectional=False).to(device)\n",
    "optimizer = optim.Adam(model.parameters(), lr=lr,weight_decay=weight_decay, betas = (beta1, beta2))\n",
    "weight = train_dataset.get_weights().to(device)\n",
    "criterion = nn.NLLLoss(weight = weight)"
   ]
  },
  {
   "cell_type": "code",
   "execution_count": 9,
   "metadata": {},
   "outputs": [
    {
     "data": {
      "application/vnd.jupyter.widget-view+json": {
       "model_id": "715ecac2368341a8adeed25aafd2e51c",
       "version_major": 2,
       "version_minor": 0
      },
      "text/plain": [
       "  0%|          | 0/39 [00:00<?, ?it/s]"
      ]
     },
     "metadata": {},
     "output_type": "display_data"
    },
    {
     "data": {
      "application/vnd.jupyter.widget-view+json": {
       "model_id": "6e20ec1c39b74499b8012cdb5ff9301f",
       "version_major": 2,
       "version_minor": 0
      },
      "text/plain": [
       "  0%|          | 0/39 [00:00<?, ?it/s]"
      ]
     },
     "metadata": {},
     "output_type": "display_data"
    },
    {
     "data": {
      "application/vnd.jupyter.widget-view+json": {
       "model_id": "831280337e2a4eb7b3577b7ab735e324",
       "version_major": 2,
       "version_minor": 0
      },
      "text/plain": [
       "  0%|          | 0/5 [00:00<?, ?it/s]"
      ]
     },
     "metadata": {},
     "output_type": "display_data"
    },
    {
     "name": "stdout",
     "output_type": "stream",
     "text": [
      "epoch: 0\n",
      "train_loss: 0.493919 | val_loss: 0.553115 | train_f1: 0.706645 | val_f1: 0.650376\n"
     ]
    },
    {
     "data": {
      "application/vnd.jupyter.widget-view+json": {
       "model_id": "382ac4347b614db69d3d4d7da4f6eb6b",
       "version_major": 2,
       "version_minor": 0
      },
      "text/plain": [
       "  0%|          | 0/39 [00:00<?, ?it/s]"
      ]
     },
     "metadata": {},
     "output_type": "display_data"
    },
    {
     "data": {
      "application/vnd.jupyter.widget-view+json": {
       "model_id": "49f720a507734c45988f866ee55685c9",
       "version_major": 2,
       "version_minor": 0
      },
      "text/plain": [
       "  0%|          | 0/39 [00:00<?, ?it/s]"
      ]
     },
     "metadata": {},
     "output_type": "display_data"
    },
    {
     "data": {
      "application/vnd.jupyter.widget-view+json": {
       "model_id": "6cbe1f35cd564b1980c6b864127bc246",
       "version_major": 2,
       "version_minor": 0
      },
      "text/plain": [
       "  0%|          | 0/5 [00:00<?, ?it/s]"
      ]
     },
     "metadata": {},
     "output_type": "display_data"
    },
    {
     "name": "stdout",
     "output_type": "stream",
     "text": [
      "epoch: 1\n",
      "train_loss: 0.376624 | val_loss: 0.504548 | train_f1: 0.785042 | val_f1: 0.697769\n"
     ]
    },
    {
     "data": {
      "application/vnd.jupyter.widget-view+json": {
       "model_id": "60d74854d64e431cb586553556305551",
       "version_major": 2,
       "version_minor": 0
      },
      "text/plain": [
       "  0%|          | 0/39 [00:00<?, ?it/s]"
      ]
     },
     "metadata": {},
     "output_type": "display_data"
    },
    {
     "data": {
      "application/vnd.jupyter.widget-view+json": {
       "model_id": "747996b2ca444ff5a60373c1924ea6ee",
       "version_major": 2,
       "version_minor": 0
      },
      "text/plain": [
       "  0%|          | 0/39 [00:00<?, ?it/s]"
      ]
     },
     "metadata": {},
     "output_type": "display_data"
    },
    {
     "data": {
      "application/vnd.jupyter.widget-view+json": {
       "model_id": "5bd5a194ccde4d39a38aeaaa9681c564",
       "version_major": 2,
       "version_minor": 0
      },
      "text/plain": [
       "  0%|          | 0/5 [00:00<?, ?it/s]"
      ]
     },
     "metadata": {},
     "output_type": "display_data"
    },
    {
     "name": "stdout",
     "output_type": "stream",
     "text": [
      "epoch: 2\n",
      "train_loss: 0.298373 | val_loss: 0.503930 | train_f1: 0.852925 | val_f1: 0.675737\n"
     ]
    },
    {
     "data": {
      "application/vnd.jupyter.widget-view+json": {
       "model_id": "e1c42c2072a04c98bce0659cea2bae38",
       "version_major": 2,
       "version_minor": 0
      },
      "text/plain": [
       "  0%|          | 0/39 [00:00<?, ?it/s]"
      ]
     },
     "metadata": {},
     "output_type": "display_data"
    },
    {
     "data": {
      "application/vnd.jupyter.widget-view+json": {
       "model_id": "7335606f207f4b0a822b4f783c98ac1a",
       "version_major": 2,
       "version_minor": 0
      },
      "text/plain": [
       "  0%|          | 0/39 [00:00<?, ?it/s]"
      ]
     },
     "metadata": {},
     "output_type": "display_data"
    },
    {
     "data": {
      "application/vnd.jupyter.widget-view+json": {
       "model_id": "6012f884c3b242f0ad4696404cfa68a2",
       "version_major": 2,
       "version_minor": 0
      },
      "text/plain": [
       "  0%|          | 0/5 [00:00<?, ?it/s]"
      ]
     },
     "metadata": {},
     "output_type": "display_data"
    },
    {
     "name": "stdout",
     "output_type": "stream",
     "text": [
      "epoch: 3\n",
      "train_loss: 0.221822 | val_loss: 0.537863 | train_f1: 0.886999 | val_f1: 0.697892\n"
     ]
    },
    {
     "data": {
      "application/vnd.jupyter.widget-view+json": {
       "model_id": "d49449eb1a674e0a96ba52f920611d4d",
       "version_major": 2,
       "version_minor": 0
      },
      "text/plain": [
       "  0%|          | 0/39 [00:00<?, ?it/s]"
      ]
     },
     "metadata": {},
     "output_type": "display_data"
    },
    {
     "data": {
      "application/vnd.jupyter.widget-view+json": {
       "model_id": "4fdf2a2e2d0c4509b2ca4ba756eaaa68",
       "version_major": 2,
       "version_minor": 0
      },
      "text/plain": [
       "  0%|          | 0/39 [00:00<?, ?it/s]"
      ]
     },
     "metadata": {},
     "output_type": "display_data"
    },
    {
     "data": {
      "application/vnd.jupyter.widget-view+json": {
       "model_id": "a3c04b533dd14cfda403e7182d34f567",
       "version_major": 2,
       "version_minor": 0
      },
      "text/plain": [
       "  0%|          | 0/5 [00:00<?, ?it/s]"
      ]
     },
     "metadata": {},
     "output_type": "display_data"
    },
    {
     "name": "stdout",
     "output_type": "stream",
     "text": [
      "epoch: 4\n",
      "train_loss: 0.202810 | val_loss: 0.527442 | train_f1: 0.875187 | val_f1: 0.714563\n"
     ]
    },
    {
     "data": {
      "application/vnd.jupyter.widget-view+json": {
       "model_id": "b5d8f75e5ad7416b9bd1cf08b40f42e3",
       "version_major": 2,
       "version_minor": 0
      },
      "text/plain": [
       "  0%|          | 0/39 [00:00<?, ?it/s]"
      ]
     },
     "metadata": {},
     "output_type": "display_data"
    },
    {
     "data": {
      "application/vnd.jupyter.widget-view+json": {
       "model_id": "55abfc065ffe48d58eec47d99b9ed3d3",
       "version_major": 2,
       "version_minor": 0
      },
      "text/plain": [
       "  0%|          | 0/39 [00:00<?, ?it/s]"
      ]
     },
     "metadata": {},
     "output_type": "display_data"
    },
    {
     "data": {
      "application/vnd.jupyter.widget-view+json": {
       "model_id": "b412cb8029e24c09b3ca564da2ac6c1a",
       "version_major": 2,
       "version_minor": 0
      },
      "text/plain": [
       "  0%|          | 0/5 [00:00<?, ?it/s]"
      ]
     },
     "metadata": {},
     "output_type": "display_data"
    },
    {
     "name": "stdout",
     "output_type": "stream",
     "text": [
      "epoch: 5\n",
      "train_loss: 0.346746 | val_loss: 1.122172 | train_f1: 0.798799 | val_f1: 0.524691\n"
     ]
    },
    {
     "data": {
      "application/vnd.jupyter.widget-view+json": {
       "model_id": "2239b2f7f2fe4cb0ac410352c6cd7f52",
       "version_major": 2,
       "version_minor": 0
      },
      "text/plain": [
       "  0%|          | 0/39 [00:00<?, ?it/s]"
      ]
     },
     "metadata": {},
     "output_type": "display_data"
    },
    {
     "data": {
      "application/vnd.jupyter.widget-view+json": {
       "model_id": "6e28891e9fc14ea392481a27c0b10930",
       "version_major": 2,
       "version_minor": 0
      },
      "text/plain": [
       "  0%|          | 0/39 [00:00<?, ?it/s]"
      ]
     },
     "metadata": {},
     "output_type": "display_data"
    },
    {
     "data": {
      "application/vnd.jupyter.widget-view+json": {
       "model_id": "1f9024fde282473699e660719323518f",
       "version_major": 2,
       "version_minor": 0
      },
      "text/plain": [
       "  0%|          | 0/5 [00:00<?, ?it/s]"
      ]
     },
     "metadata": {},
     "output_type": "display_data"
    },
    {
     "name": "stdout",
     "output_type": "stream",
     "text": [
      "epoch: 6\n",
      "train_loss: 0.095411 | val_loss: 0.763919 | train_f1: 0.957270 | val_f1: 0.654378\n"
     ]
    },
    {
     "data": {
      "application/vnd.jupyter.widget-view+json": {
       "model_id": "178d478beee9417fbbe4bdb85235ae02",
       "version_major": 2,
       "version_minor": 0
      },
      "text/plain": [
       "  0%|          | 0/39 [00:00<?, ?it/s]"
      ]
     },
     "metadata": {},
     "output_type": "display_data"
    },
    {
     "data": {
      "application/vnd.jupyter.widget-view+json": {
       "model_id": "ce8410b1a5c0466cb34a9311932aa037",
       "version_major": 2,
       "version_minor": 0
      },
      "text/plain": [
       "  0%|          | 0/39 [00:00<?, ?it/s]"
      ]
     },
     "metadata": {},
     "output_type": "display_data"
    },
    {
     "data": {
      "application/vnd.jupyter.widget-view+json": {
       "model_id": "6ce9addfbfd34522a6e974ca75e1ea32",
       "version_major": 2,
       "version_minor": 0
      },
      "text/plain": [
       "  0%|          | 0/5 [00:00<?, ?it/s]"
      ]
     },
     "metadata": {},
     "output_type": "display_data"
    },
    {
     "name": "stdout",
     "output_type": "stream",
     "text": [
      "epoch: 7\n",
      "train_loss: 0.115390 | val_loss: 0.739708 | train_f1: 0.925342 | val_f1: 0.715953\n"
     ]
    },
    {
     "data": {
      "application/vnd.jupyter.widget-view+json": {
       "model_id": "1c98b15c37f742e38335b849a2988e1f",
       "version_major": 2,
       "version_minor": 0
      },
      "text/plain": [
       "  0%|          | 0/39 [00:00<?, ?it/s]"
      ]
     },
     "metadata": {},
     "output_type": "display_data"
    },
    {
     "data": {
      "application/vnd.jupyter.widget-view+json": {
       "model_id": "278b75c1e345452ca8fb05379dfa4d6e",
       "version_major": 2,
       "version_minor": 0
      },
      "text/plain": [
       "  0%|          | 0/39 [00:00<?, ?it/s]"
      ]
     },
     "metadata": {},
     "output_type": "display_data"
    },
    {
     "data": {
      "application/vnd.jupyter.widget-view+json": {
       "model_id": "edc7de1470e14c5c8c4dfabfbacd698a",
       "version_major": 2,
       "version_minor": 0
      },
      "text/plain": [
       "  0%|          | 0/5 [00:00<?, ?it/s]"
      ]
     },
     "metadata": {},
     "output_type": "display_data"
    },
    {
     "name": "stdout",
     "output_type": "stream",
     "text": [
      "epoch: 8\n",
      "train_loss: 0.064261 | val_loss: 1.125448 | train_f1: 0.976000 | val_f1: 0.620865\n"
     ]
    },
    {
     "data": {
      "application/vnd.jupyter.widget-view+json": {
       "model_id": "293fe6c3ec404f17a9682bba362d990a",
       "version_major": 2,
       "version_minor": 0
      },
      "text/plain": [
       "  0%|          | 0/39 [00:00<?, ?it/s]"
      ]
     },
     "metadata": {},
     "output_type": "display_data"
    },
    {
     "data": {
      "application/vnd.jupyter.widget-view+json": {
       "model_id": "c6f6ae776fbc4c01a17983df29bd6f30",
       "version_major": 2,
       "version_minor": 0
      },
      "text/plain": [
       "  0%|          | 0/39 [00:00<?, ?it/s]"
      ]
     },
     "metadata": {},
     "output_type": "display_data"
    },
    {
     "data": {
      "application/vnd.jupyter.widget-view+json": {
       "model_id": "b9c899f791494fb482ff5074cdab32b0",
       "version_major": 2,
       "version_minor": 0
      },
      "text/plain": [
       "  0%|          | 0/5 [00:00<?, ?it/s]"
      ]
     },
     "metadata": {},
     "output_type": "display_data"
    },
    {
     "name": "stdout",
     "output_type": "stream",
     "text": [
      "epoch: 9\n",
      "train_loss: 0.068213 | val_loss: 0.849183 | train_f1: 0.959783 | val_f1: 0.685950\n"
     ]
    }
   ],
   "source": [
    "best_val_f1 = 0\n",
    "for epoch in range(epochs):\n",
    "    for data in tqdm(train_dataloader):\n",
    "        # Limpia basura de la memoria GPU\n",
    "        torch.cuda.empty_cache()\n",
    "        # Reiniciamos el cálculo del gradiente\n",
    "        optimizer.zero_grad()\n",
    "        # Desempaca los datos que salen del dataloader\n",
    "        seq, seq_len, labels, _ = data \n",
    "        # Mueve los datos al mismo device en el que esté el modelo\n",
    "        seq, labels = seq.to(device), labels.to(device)\n",
    "        output, _ = model(seq, seq_len)\n",
    "        output = F.log_softmax(output, dim=1)\n",
    "        loss = criterion(output, labels)\n",
    "        # Calcula el gradiente de la pérdida\n",
    "        loss.backward()\n",
    "        # Realiza un paso de la optimización\n",
    "        optimizer.step()\n",
    "\n",
    "    # Evalúa los modelos en los conjuntos de entrenamiento y validación\n",
    "    train_loss, train_f1, _, _, _ = eval_model(model, train_dataloader, criterion, device)\n",
    "    val_loss, val_f1, _, _, _ = eval_model(model, val_dataloader, criterion, device)\n",
    "    print('epoch: %d'%(epoch))\n",
    "    print('train_loss: %5f | val_loss: %5f | train_f1: %5f | val_f1: %5f'%(train_loss, val_loss, train_f1, val_f1))\n",
    "    if val_f1 > best_val_f1:\n",
    "        best_val_f1=val_f1\n",
    "        best_state_dict=copy.deepcopy(model.state_dict())"
   ]
  },
  {
   "cell_type": "code",
   "execution_count": 10,
   "metadata": {},
   "outputs": [
    {
     "data": {
      "application/vnd.jupyter.widget-view+json": {
       "model_id": "6c4460884d1745f6850580304998ceac",
       "version_major": 2,
       "version_minor": 0
      },
      "text/plain": [
       "  0%|          | 0/39 [00:00<?, ?it/s]"
      ]
     },
     "metadata": {},
     "output_type": "display_data"
    },
    {
     "data": {
      "application/vnd.jupyter.widget-view+json": {
       "model_id": "3c5202d432a74671b4d1d85e636b0910",
       "version_major": 2,
       "version_minor": 0
      },
      "text/plain": [
       "  0%|          | 0/5 [00:00<?, ?it/s]"
      ]
     },
     "metadata": {},
     "output_type": "display_data"
    },
    {
     "data": {
      "application/vnd.jupyter.widget-view+json": {
       "model_id": "cd8cbc77645d46f9984bacb657f59a4b",
       "version_major": 2,
       "version_minor": 0
      },
      "text/plain": [
       "  0%|          | 0/5 [00:00<?, ?it/s]"
      ]
     },
     "metadata": {},
     "output_type": "display_data"
    },
    {
     "name": "stdout",
     "output_type": "stream",
     "text": [
      "train_loss: 0.116644 | train_f1: 0.925342\n",
      "val_loss: 0.739708 | val_f1: 0.715953\n",
      "test_loss: 0.133533 | test_f1: 0.920502\n"
     ]
    }
   ],
   "source": [
    "model.load_state_dict(best_state_dict)\n",
    "train_loss, train_f1, _, _, _ = eval_model(model, train_dataloader, criterion, device)\n",
    "val_loss, val_f1, _, _, _ = eval_model(model, val_dataloader, criterion, device)\n",
    "test_loss, test_f1, _, _, _ = eval_model(model, test_dataloader, criterion, device)\n",
    "print('train_loss: %5f | train_f1: %5f'%(train_loss, train_f1))\n",
    "print('val_loss: %5f | val_f1: %5f'%(val_loss, val_f1))\n",
    "print('test_loss: %5f | test_f1: %5f'%(test_loss, test_f1))"
   ]
  },
  {
   "attachments": {},
   "cell_type": "markdown",
   "metadata": {},
   "source": [
    "# Attention\n",
    "\n",
    "La sintaxis del modelo es similar al anterior pero se anade un modulo de atencion. El modulo de atencion toma los vectores de salida $h_t$ de la GRU y calcula una representacion $s$ como suma ponderada.\n",
    "\n",
    "$$ s = \\sum_t \\alpha_t h_t $$\n",
    "\n",
    "donde\n",
    "\n",
    "$$ u_t = tanh(Wh_t + b), $$\n",
    "\n",
    "$$ \\alpha_t = \\frac{exp(u_t^T)}{\\sum_i exp(u_i^T u)}"
   ]
  },
  {
   "cell_type": "code",
   "execution_count": 11,
   "metadata": {},
   "outputs": [],
   "source": [
    "class AttnModule(nn.Module):\n",
    "    def __init__(self, input_size, attn_hidden_size=128):\n",
    "        '''\n",
    "        input:\n",
    "            input_size: tamano de la capa oculta del GRU. \n",
    "            attn_hidden_size: tamaño de la capa oculta.\n",
    "        '''\n",
    "        super(AttnModule, self).__init__()\n",
    "        self.fc1 = nn.Linear(input_size, attn_hidden_size)\n",
    "        self.fc2 = nn.Linear(attn_hidden_size, 1, bias=False)\n",
    "\n",
    "    def forward(self, seq, lengths):\n",
    "        '''\n",
    "        input:\n",
    "            seq: secuencia de vectores ocultos de la GRU.\n",
    "            lengths: numero de palabras en cada observacion.\n",
    "        '''\n",
    "        x = pad_packed_sequence(seq)[0]\n",
    "        seq_len, batch_size, nhid = x.size()\n",
    "        u = self.fc1(x.view(batch_size*seq_len, nhid))\n",
    "        u = torch.tanh(u)\n",
    "        scores = self.fc2(u)\n",
    "        scores = scores.view(seq_len, batch_size, 1)\n",
    "        #Asigna -100 a las posiciones con padding para que no sean considerados en la atencion.\n",
    "        scores = nn.utils.rnn.pack_padded_sequence(scores, lengths=lengths,enforce_sorted=False)\n",
    "        scores = nn.utils.rnn.pad_packed_sequence(scores, padding_value=-100)[0]\n",
    "        scores = F.softmax(scores, dim=0)\n",
    "        scores = scores.transpose(0,1)\n",
    "        x = x.transpose(0,1).transpose(1,2)\n",
    "        x = torch.bmm(x, scores)\n",
    "        return x.squeeze(2), scores"
   ]
  },
  {
   "cell_type": "code",
   "execution_count": 12,
   "metadata": {},
   "outputs": [],
   "source": [
    "class AttnRNN(nn.Module):\n",
    "    def __init__(self, input_size=100, hidden_size=128, num_layers=1, \n",
    "                 bidirectional=False, emb_mat=None, dense_hidden_size=256,\n",
    "                 attn_hidden_size=128):\n",
    "        super(AttnRNN, self).__init__()\n",
    "        self.embeddings = nn.Embedding.from_pretrained(\\\n",
    "                            torch.FloatTensor(emb_mat), freeze=False)\n",
    "        self.gru = nn.GRU(input_size=input_size, hidden_size=hidden_size,\n",
    "                          num_layers=num_layers, bidirectional=bidirectional)\n",
    "        directions = 2 if bidirectional else 1\n",
    "        self.attn = AttnModule(input_size=hidden_size*directions)\n",
    "        self.classifier = nn.Sequential(\\\n",
    "                            nn.Linear(hidden_size*directions, dense_hidden_size),\n",
    "                            nn.BatchNorm1d(dense_hidden_size),\n",
    "                            nn.ReLU(),\n",
    "                            nn.Linear(dense_hidden_size, 2))\n",
    "        \n",
    "    def forward(self, input_seq, lengths):\n",
    "        x = self.embeddings(input_seq)\n",
    "        x = x.split(lengths.tolist())\n",
    "        x = pad_sequence(x)\n",
    "        x = pack_padded_sequence(x, lengths, enforce_sorted=False)\n",
    "        output, hn = self.gru(x)\n",
    "        x, scores = self.attn(output, lengths)\n",
    "        x = self.classifier(x)\n",
    "        return x, scores.detach()"
   ]
  },
  {
   "cell_type": "code",
   "execution_count": 13,
   "metadata": {},
   "outputs": [],
   "source": [
    "lr = 0.0001\n",
    "epochs = 20\n",
    "device = torch.device('cuda')\n",
    "weight_decay=0.0001\n",
    "beta1=0\n",
    "beta2=0.999"
   ]
  },
  {
   "cell_type": "code",
   "execution_count": 14,
   "metadata": {},
   "outputs": [],
   "source": [
    "model = AttnRNN(emb_mat=train_dataset.emb_mat, bidirectional=False).to(device)\n",
    "optimizer = optim.Adam(model.parameters(), lr=lr,weight_decay=weight_decay, betas = (beta1, beta2))\n",
    "weight = train_dataset.get_weights().to(device)\n",
    "criterion = nn.NLLLoss(weight = weight) "
   ]
  },
  {
   "cell_type": "code",
   "execution_count": 15,
   "metadata": {},
   "outputs": [
    {
     "data": {
      "application/vnd.jupyter.widget-view+json": {
       "model_id": "4059d4ca652b4f608df3eab5bcc2211e",
       "version_major": 2,
       "version_minor": 0
      },
      "text/plain": [
       "  0%|          | 0/39 [00:00<?, ?it/s]"
      ]
     },
     "metadata": {},
     "output_type": "display_data"
    },
    {
     "data": {
      "application/vnd.jupyter.widget-view+json": {
       "model_id": "29002cbb48044eda8b2d316b72687797",
       "version_major": 2,
       "version_minor": 0
      },
      "text/plain": [
       "  0%|          | 0/39 [00:00<?, ?it/s]"
      ]
     },
     "metadata": {},
     "output_type": "display_data"
    },
    {
     "data": {
      "application/vnd.jupyter.widget-view+json": {
       "model_id": "112a276191bc4c5fb1dbcabc8cbac06c",
       "version_major": 2,
       "version_minor": 0
      },
      "text/plain": [
       "  0%|          | 0/5 [00:00<?, ?it/s]"
      ]
     },
     "metadata": {},
     "output_type": "display_data"
    },
    {
     "name": "stdout",
     "output_type": "stream",
     "text": [
      "epoch: 0\n",
      "train_loss: 0.608760 | val_loss: 0.623089 | train_f1: 0.627985 | val_f1: 0.617124\n"
     ]
    },
    {
     "data": {
      "application/vnd.jupyter.widget-view+json": {
       "model_id": "3132d2b01042463ca31b7bba6206a74f",
       "version_major": 2,
       "version_minor": 0
      },
      "text/plain": [
       "  0%|          | 0/39 [00:00<?, ?it/s]"
      ]
     },
     "metadata": {},
     "output_type": "display_data"
    },
    {
     "data": {
      "application/vnd.jupyter.widget-view+json": {
       "model_id": "757deea393ed4e2183574dbe998d3ef5",
       "version_major": 2,
       "version_minor": 0
      },
      "text/plain": [
       "  0%|          | 0/39 [00:00<?, ?it/s]"
      ]
     },
     "metadata": {},
     "output_type": "display_data"
    },
    {
     "data": {
      "application/vnd.jupyter.widget-view+json": {
       "model_id": "0949ff386a37453da5a5c65497ebccb7",
       "version_major": 2,
       "version_minor": 0
      },
      "text/plain": [
       "  0%|          | 0/5 [00:00<?, ?it/s]"
      ]
     },
     "metadata": {},
     "output_type": "display_data"
    },
    {
     "name": "stdout",
     "output_type": "stream",
     "text": [
      "epoch: 1\n",
      "train_loss: 0.508509 | val_loss: 0.539510 | train_f1: 0.691095 | val_f1: 0.687732\n"
     ]
    },
    {
     "data": {
      "application/vnd.jupyter.widget-view+json": {
       "model_id": "78baf0c3cbb646d48447a06550881556",
       "version_major": 2,
       "version_minor": 0
      },
      "text/plain": [
       "  0%|          | 0/39 [00:00<?, ?it/s]"
      ]
     },
     "metadata": {},
     "output_type": "display_data"
    },
    {
     "data": {
      "application/vnd.jupyter.widget-view+json": {
       "model_id": "db85abd4dee747cc835eadb57055ca6d",
       "version_major": 2,
       "version_minor": 0
      },
      "text/plain": [
       "  0%|          | 0/39 [00:00<?, ?it/s]"
      ]
     },
     "metadata": {},
     "output_type": "display_data"
    },
    {
     "data": {
      "application/vnd.jupyter.widget-view+json": {
       "model_id": "82c05b15f02b4c84a0989aacd4534fe0",
       "version_major": 2,
       "version_minor": 0
      },
      "text/plain": [
       "  0%|          | 0/5 [00:00<?, ?it/s]"
      ]
     },
     "metadata": {},
     "output_type": "display_data"
    },
    {
     "name": "stdout",
     "output_type": "stream",
     "text": [
      "epoch: 2\n",
      "train_loss: 0.467544 | val_loss: 0.503739 | train_f1: 0.722156 | val_f1: 0.707692\n"
     ]
    },
    {
     "data": {
      "application/vnd.jupyter.widget-view+json": {
       "model_id": "8d7ada8cb3894a24b89b4d3da14e4acf",
       "version_major": 2,
       "version_minor": 0
      },
      "text/plain": [
       "  0%|          | 0/39 [00:00<?, ?it/s]"
      ]
     },
     "metadata": {},
     "output_type": "display_data"
    },
    {
     "data": {
      "application/vnd.jupyter.widget-view+json": {
       "model_id": "dab0fe91183e498ab0234672681f4a68",
       "version_major": 2,
       "version_minor": 0
      },
      "text/plain": [
       "  0%|          | 0/39 [00:00<?, ?it/s]"
      ]
     },
     "metadata": {},
     "output_type": "display_data"
    },
    {
     "data": {
      "application/vnd.jupyter.widget-view+json": {
       "model_id": "74126839401f4560bd87ad2a093b7645",
       "version_major": 2,
       "version_minor": 0
      },
      "text/plain": [
       "  0%|          | 0/5 [00:00<?, ?it/s]"
      ]
     },
     "metadata": {},
     "output_type": "display_data"
    },
    {
     "name": "stdout",
     "output_type": "stream",
     "text": [
      "epoch: 3\n",
      "train_loss: 0.429059 | val_loss: 0.481098 | train_f1: 0.744877 | val_f1: 0.713427\n"
     ]
    },
    {
     "data": {
      "application/vnd.jupyter.widget-view+json": {
       "model_id": "5357a1f79456456a90519b69fea1aa18",
       "version_major": 2,
       "version_minor": 0
      },
      "text/plain": [
       "  0%|          | 0/39 [00:00<?, ?it/s]"
      ]
     },
     "metadata": {},
     "output_type": "display_data"
    },
    {
     "data": {
      "application/vnd.jupyter.widget-view+json": {
       "model_id": "3c574b501835481dbeb188ed9c6ab5d3",
       "version_major": 2,
       "version_minor": 0
      },
      "text/plain": [
       "  0%|          | 0/39 [00:00<?, ?it/s]"
      ]
     },
     "metadata": {},
     "output_type": "display_data"
    },
    {
     "data": {
      "application/vnd.jupyter.widget-view+json": {
       "model_id": "87c9563b92304c60a983e07ba378c1c2",
       "version_major": 2,
       "version_minor": 0
      },
      "text/plain": [
       "  0%|          | 0/5 [00:00<?, ?it/s]"
      ]
     },
     "metadata": {},
     "output_type": "display_data"
    },
    {
     "name": "stdout",
     "output_type": "stream",
     "text": [
      "epoch: 4\n",
      "train_loss: 0.405617 | val_loss: 0.465587 | train_f1: 0.765132 | val_f1: 0.724280\n"
     ]
    },
    {
     "data": {
      "application/vnd.jupyter.widget-view+json": {
       "model_id": "1ce42e76ce624f5a9a7c54716a31a9b9",
       "version_major": 2,
       "version_minor": 0
      },
      "text/plain": [
       "  0%|          | 0/39 [00:00<?, ?it/s]"
      ]
     },
     "metadata": {},
     "output_type": "display_data"
    },
    {
     "data": {
      "application/vnd.jupyter.widget-view+json": {
       "model_id": "847affea2d6b481496659ccc908fb873",
       "version_major": 2,
       "version_minor": 0
      },
      "text/plain": [
       "  0%|          | 0/39 [00:00<?, ?it/s]"
      ]
     },
     "metadata": {},
     "output_type": "display_data"
    },
    {
     "data": {
      "application/vnd.jupyter.widget-view+json": {
       "model_id": "eb137eace2d6496993e346a8b103f6c8",
       "version_major": 2,
       "version_minor": 0
      },
      "text/plain": [
       "  0%|          | 0/5 [00:00<?, ?it/s]"
      ]
     },
     "metadata": {},
     "output_type": "display_data"
    },
    {
     "name": "stdout",
     "output_type": "stream",
     "text": [
      "epoch: 5\n",
      "train_loss: 0.385841 | val_loss: 0.457205 | train_f1: 0.771518 | val_f1: 0.725000\n"
     ]
    },
    {
     "data": {
      "application/vnd.jupyter.widget-view+json": {
       "model_id": "705a04d8acdb4d13b6f3afbab639e170",
       "version_major": 2,
       "version_minor": 0
      },
      "text/plain": [
       "  0%|          | 0/39 [00:00<?, ?it/s]"
      ]
     },
     "metadata": {},
     "output_type": "display_data"
    },
    {
     "data": {
      "application/vnd.jupyter.widget-view+json": {
       "model_id": "ec639e3ee7f14dffb5645241d65f5b20",
       "version_major": 2,
       "version_minor": 0
      },
      "text/plain": [
       "  0%|          | 0/39 [00:00<?, ?it/s]"
      ]
     },
     "metadata": {},
     "output_type": "display_data"
    },
    {
     "data": {
      "application/vnd.jupyter.widget-view+json": {
       "model_id": "f7aa4e4d779e467696956bd418a2a4df",
       "version_major": 2,
       "version_minor": 0
      },
      "text/plain": [
       "  0%|          | 0/5 [00:00<?, ?it/s]"
      ]
     },
     "metadata": {},
     "output_type": "display_data"
    },
    {
     "name": "stdout",
     "output_type": "stream",
     "text": [
      "epoch: 6\n",
      "train_loss: 0.374075 | val_loss: 0.456994 | train_f1: 0.790110 | val_f1: 0.700000\n"
     ]
    },
    {
     "data": {
      "application/vnd.jupyter.widget-view+json": {
       "model_id": "3a4b147f323e495da577fbc7fe9d7ef5",
       "version_major": 2,
       "version_minor": 0
      },
      "text/plain": [
       "  0%|          | 0/39 [00:00<?, ?it/s]"
      ]
     },
     "metadata": {},
     "output_type": "display_data"
    },
    {
     "data": {
      "application/vnd.jupyter.widget-view+json": {
       "model_id": "1a0696af475a46a89026fd778d3cca20",
       "version_major": 2,
       "version_minor": 0
      },
      "text/plain": [
       "  0%|          | 0/39 [00:00<?, ?it/s]"
      ]
     },
     "metadata": {},
     "output_type": "display_data"
    },
    {
     "data": {
      "application/vnd.jupyter.widget-view+json": {
       "model_id": "a65ca45d76084103b20d02dbc8dc9e4b",
       "version_major": 2,
       "version_minor": 0
      },
      "text/plain": [
       "  0%|          | 0/5 [00:00<?, ?it/s]"
      ]
     },
     "metadata": {},
     "output_type": "display_data"
    },
    {
     "name": "stdout",
     "output_type": "stream",
     "text": [
      "epoch: 7\n",
      "train_loss: 0.352552 | val_loss: 0.446619 | train_f1: 0.798958 | val_f1: 0.735967\n"
     ]
    },
    {
     "data": {
      "application/vnd.jupyter.widget-view+json": {
       "model_id": "1df9d35e191841f4b0a0b486d90f5b7b",
       "version_major": 2,
       "version_minor": 0
      },
      "text/plain": [
       "  0%|          | 0/39 [00:00<?, ?it/s]"
      ]
     },
     "metadata": {},
     "output_type": "display_data"
    },
    {
     "data": {
      "application/vnd.jupyter.widget-view+json": {
       "model_id": "745b04d3b1654e019174a303d5a454fe",
       "version_major": 2,
       "version_minor": 0
      },
      "text/plain": [
       "  0%|          | 0/39 [00:00<?, ?it/s]"
      ]
     },
     "metadata": {},
     "output_type": "display_data"
    },
    {
     "data": {
      "application/vnd.jupyter.widget-view+json": {
       "model_id": "9e897a19c4e64ef2a1a81b51ad97d02b",
       "version_major": 2,
       "version_minor": 0
      },
      "text/plain": [
       "  0%|          | 0/5 [00:00<?, ?it/s]"
      ]
     },
     "metadata": {},
     "output_type": "display_data"
    },
    {
     "name": "stdout",
     "output_type": "stream",
     "text": [
      "epoch: 8\n",
      "train_loss: 0.344459 | val_loss: 0.454124 | train_f1: 0.807823 | val_f1: 0.712018\n"
     ]
    },
    {
     "data": {
      "application/vnd.jupyter.widget-view+json": {
       "model_id": "558ee26d870346c797813bded2f0bccb",
       "version_major": 2,
       "version_minor": 0
      },
      "text/plain": [
       "  0%|          | 0/39 [00:00<?, ?it/s]"
      ]
     },
     "metadata": {},
     "output_type": "display_data"
    },
    {
     "data": {
      "application/vnd.jupyter.widget-view+json": {
       "model_id": "e95af5704c3e4f49a0ac362fdbc69c60",
       "version_major": 2,
       "version_minor": 0
      },
      "text/plain": [
       "  0%|          | 0/39 [00:00<?, ?it/s]"
      ]
     },
     "metadata": {},
     "output_type": "display_data"
    },
    {
     "data": {
      "application/vnd.jupyter.widget-view+json": {
       "model_id": "ddafc35f80d54936930f23bafdaa9171",
       "version_major": 2,
       "version_minor": 0
      },
      "text/plain": [
       "  0%|          | 0/5 [00:00<?, ?it/s]"
      ]
     },
     "metadata": {},
     "output_type": "display_data"
    },
    {
     "name": "stdout",
     "output_type": "stream",
     "text": [
      "epoch: 9\n",
      "train_loss: 0.333452 | val_loss: 0.435228 | train_f1: 0.814721 | val_f1: 0.733607\n"
     ]
    },
    {
     "data": {
      "application/vnd.jupyter.widget-view+json": {
       "model_id": "59e304a5f3b04a9ca7df397a3b1cb441",
       "version_major": 2,
       "version_minor": 0
      },
      "text/plain": [
       "  0%|          | 0/39 [00:00<?, ?it/s]"
      ]
     },
     "metadata": {},
     "output_type": "display_data"
    },
    {
     "data": {
      "application/vnd.jupyter.widget-view+json": {
       "model_id": "896f350b4ec2469a817eef44aa7a4089",
       "version_major": 2,
       "version_minor": 0
      },
      "text/plain": [
       "  0%|          | 0/39 [00:00<?, ?it/s]"
      ]
     },
     "metadata": {},
     "output_type": "display_data"
    },
    {
     "data": {
      "application/vnd.jupyter.widget-view+json": {
       "model_id": "51d29305a6f141f280080af5e19b5b7a",
       "version_major": 2,
       "version_minor": 0
      },
      "text/plain": [
       "  0%|          | 0/5 [00:00<?, ?it/s]"
      ]
     },
     "metadata": {},
     "output_type": "display_data"
    },
    {
     "name": "stdout",
     "output_type": "stream",
     "text": [
      "epoch: 10\n",
      "train_loss: 0.308624 | val_loss: 0.441956 | train_f1: 0.835726 | val_f1: 0.740260\n"
     ]
    },
    {
     "data": {
      "application/vnd.jupyter.widget-view+json": {
       "model_id": "1ec9877d5278476786e3c44a22960bc0",
       "version_major": 2,
       "version_minor": 0
      },
      "text/plain": [
       "  0%|          | 0/39 [00:00<?, ?it/s]"
      ]
     },
     "metadata": {},
     "output_type": "display_data"
    },
    {
     "data": {
      "application/vnd.jupyter.widget-view+json": {
       "model_id": "52325a4cb3a44c769ab0759ca1b50589",
       "version_major": 2,
       "version_minor": 0
      },
      "text/plain": [
       "  0%|          | 0/39 [00:00<?, ?it/s]"
      ]
     },
     "metadata": {},
     "output_type": "display_data"
    },
    {
     "data": {
      "application/vnd.jupyter.widget-view+json": {
       "model_id": "898ebac7ca434e329fe548d7336f16d3",
       "version_major": 2,
       "version_minor": 0
      },
      "text/plain": [
       "  0%|          | 0/5 [00:00<?, ?it/s]"
      ]
     },
     "metadata": {},
     "output_type": "display_data"
    },
    {
     "name": "stdout",
     "output_type": "stream",
     "text": [
      "epoch: 11\n",
      "train_loss: 0.299380 | val_loss: 0.437195 | train_f1: 0.837317 | val_f1: 0.747390\n"
     ]
    },
    {
     "data": {
      "application/vnd.jupyter.widget-view+json": {
       "model_id": "b84029abffc7418b83d0fd691dc3554a",
       "version_major": 2,
       "version_minor": 0
      },
      "text/plain": [
       "  0%|          | 0/39 [00:00<?, ?it/s]"
      ]
     },
     "metadata": {},
     "output_type": "display_data"
    },
    {
     "data": {
      "application/vnd.jupyter.widget-view+json": {
       "model_id": "62542867024a42dda831f5bd6e10c455",
       "version_major": 2,
       "version_minor": 0
      },
      "text/plain": [
       "  0%|          | 0/39 [00:00<?, ?it/s]"
      ]
     },
     "metadata": {},
     "output_type": "display_data"
    },
    {
     "data": {
      "application/vnd.jupyter.widget-view+json": {
       "model_id": "df4c396c9b824e078b68a6c282675e56",
       "version_major": 2,
       "version_minor": 0
      },
      "text/plain": [
       "  0%|          | 0/5 [00:00<?, ?it/s]"
      ]
     },
     "metadata": {},
     "output_type": "display_data"
    },
    {
     "name": "stdout",
     "output_type": "stream",
     "text": [
      "epoch: 12\n",
      "train_loss: 0.286442 | val_loss: 0.439384 | train_f1: 0.843931 | val_f1: 0.742004\n"
     ]
    },
    {
     "data": {
      "application/vnd.jupyter.widget-view+json": {
       "model_id": "0caf2ebc85ce4da1b4f4e22eec6a754a",
       "version_major": 2,
       "version_minor": 0
      },
      "text/plain": [
       "  0%|          | 0/39 [00:00<?, ?it/s]"
      ]
     },
     "metadata": {},
     "output_type": "display_data"
    },
    {
     "data": {
      "application/vnd.jupyter.widget-view+json": {
       "model_id": "913dff0157794669a7a6df6130d648d1",
       "version_major": 2,
       "version_minor": 0
      },
      "text/plain": [
       "  0%|          | 0/39 [00:00<?, ?it/s]"
      ]
     },
     "metadata": {},
     "output_type": "display_data"
    },
    {
     "data": {
      "application/vnd.jupyter.widget-view+json": {
       "model_id": "05444c6f80194ae1ac5ccdf1372dc3b1",
       "version_major": 2,
       "version_minor": 0
      },
      "text/plain": [
       "  0%|          | 0/5 [00:00<?, ?it/s]"
      ]
     },
     "metadata": {},
     "output_type": "display_data"
    },
    {
     "name": "stdout",
     "output_type": "stream",
     "text": [
      "epoch: 13\n",
      "train_loss: 0.269822 | val_loss: 0.438794 | train_f1: 0.864807 | val_f1: 0.738661\n"
     ]
    },
    {
     "data": {
      "application/vnd.jupyter.widget-view+json": {
       "model_id": "3eb8c4584f5e447f886e4b465c32861b",
       "version_major": 2,
       "version_minor": 0
      },
      "text/plain": [
       "  0%|          | 0/39 [00:00<?, ?it/s]"
      ]
     },
     "metadata": {},
     "output_type": "display_data"
    },
    {
     "data": {
      "application/vnd.jupyter.widget-view+json": {
       "model_id": "bfb5d4b7722a4b40bcd0b68777af9615",
       "version_major": 2,
       "version_minor": 0
      },
      "text/plain": [
       "  0%|          | 0/39 [00:00<?, ?it/s]"
      ]
     },
     "metadata": {},
     "output_type": "display_data"
    },
    {
     "data": {
      "application/vnd.jupyter.widget-view+json": {
       "model_id": "c907e03e234e4b6ebee2e382ecbef87d",
       "version_major": 2,
       "version_minor": 0
      },
      "text/plain": [
       "  0%|          | 0/5 [00:00<?, ?it/s]"
      ]
     },
     "metadata": {},
     "output_type": "display_data"
    },
    {
     "name": "stdout",
     "output_type": "stream",
     "text": [
      "epoch: 14\n",
      "train_loss: 0.260168 | val_loss: 0.438475 | train_f1: 0.867580 | val_f1: 0.737527\n"
     ]
    },
    {
     "data": {
      "application/vnd.jupyter.widget-view+json": {
       "model_id": "8c0539b569b8442bbdbf90e76b14816f",
       "version_major": 2,
       "version_minor": 0
      },
      "text/plain": [
       "  0%|          | 0/39 [00:00<?, ?it/s]"
      ]
     },
     "metadata": {},
     "output_type": "display_data"
    },
    {
     "data": {
      "application/vnd.jupyter.widget-view+json": {
       "model_id": "61006b6b0dbf44ef807237e723ace080",
       "version_major": 2,
       "version_minor": 0
      },
      "text/plain": [
       "  0%|          | 0/39 [00:00<?, ?it/s]"
      ]
     },
     "metadata": {},
     "output_type": "display_data"
    },
    {
     "data": {
      "application/vnd.jupyter.widget-view+json": {
       "model_id": "cd0240dd81ac4bfbb9b32fba74c657c0",
       "version_major": 2,
       "version_minor": 0
      },
      "text/plain": [
       "  0%|          | 0/5 [00:00<?, ?it/s]"
      ]
     },
     "metadata": {},
     "output_type": "display_data"
    },
    {
     "name": "stdout",
     "output_type": "stream",
     "text": [
      "epoch: 15\n",
      "train_loss: 0.248912 | val_loss: 0.443226 | train_f1: 0.874576 | val_f1: 0.746331\n"
     ]
    },
    {
     "data": {
      "application/vnd.jupyter.widget-view+json": {
       "model_id": "0321165ab4ea475a8692caeeecbf9cc9",
       "version_major": 2,
       "version_minor": 0
      },
      "text/plain": [
       "  0%|          | 0/39 [00:00<?, ?it/s]"
      ]
     },
     "metadata": {},
     "output_type": "display_data"
    },
    {
     "data": {
      "application/vnd.jupyter.widget-view+json": {
       "model_id": "ea9b6c62dc0f4625a8a5222ad89ebf7a",
       "version_major": 2,
       "version_minor": 0
      },
      "text/plain": [
       "  0%|          | 0/39 [00:00<?, ?it/s]"
      ]
     },
     "metadata": {},
     "output_type": "display_data"
    },
    {
     "data": {
      "application/vnd.jupyter.widget-view+json": {
       "model_id": "f1380c56508d49b9ae50e991929e1e24",
       "version_major": 2,
       "version_minor": 0
      },
      "text/plain": [
       "  0%|          | 0/5 [00:00<?, ?it/s]"
      ]
     },
     "metadata": {},
     "output_type": "display_data"
    },
    {
     "name": "stdout",
     "output_type": "stream",
     "text": [
      "epoch: 16\n",
      "train_loss: 0.232347 | val_loss: 0.448232 | train_f1: 0.887871 | val_f1: 0.734783\n"
     ]
    },
    {
     "data": {
      "application/vnd.jupyter.widget-view+json": {
       "model_id": "93587c4b7cdc473796c223f99ddc6350",
       "version_major": 2,
       "version_minor": 0
      },
      "text/plain": [
       "  0%|          | 0/39 [00:00<?, ?it/s]"
      ]
     },
     "metadata": {},
     "output_type": "display_data"
    },
    {
     "data": {
      "application/vnd.jupyter.widget-view+json": {
       "model_id": "2de1b3b5f25f4325919af58004f75275",
       "version_major": 2,
       "version_minor": 0
      },
      "text/plain": [
       "  0%|          | 0/39 [00:00<?, ?it/s]"
      ]
     },
     "metadata": {},
     "output_type": "display_data"
    },
    {
     "data": {
      "application/vnd.jupyter.widget-view+json": {
       "model_id": "a180aca6deb94499b91336e9d9908ca1",
       "version_major": 2,
       "version_minor": 0
      },
      "text/plain": [
       "  0%|          | 0/5 [00:00<?, ?it/s]"
      ]
     },
     "metadata": {},
     "output_type": "display_data"
    },
    {
     "name": "stdout",
     "output_type": "stream",
     "text": [
      "epoch: 17\n",
      "train_loss: 0.217619 | val_loss: 0.455885 | train_f1: 0.894652 | val_f1: 0.751092\n"
     ]
    },
    {
     "data": {
      "application/vnd.jupyter.widget-view+json": {
       "model_id": "443c756650744f65b7f22b5230c4009d",
       "version_major": 2,
       "version_minor": 0
      },
      "text/plain": [
       "  0%|          | 0/39 [00:00<?, ?it/s]"
      ]
     },
     "metadata": {},
     "output_type": "display_data"
    },
    {
     "data": {
      "application/vnd.jupyter.widget-view+json": {
       "model_id": "e194d38cad734ba199830e65ebc706b3",
       "version_major": 2,
       "version_minor": 0
      },
      "text/plain": [
       "  0%|          | 0/39 [00:00<?, ?it/s]"
      ]
     },
     "metadata": {},
     "output_type": "display_data"
    },
    {
     "data": {
      "application/vnd.jupyter.widget-view+json": {
       "model_id": "65cdb7163a9d4c12becf011d80caed69",
       "version_major": 2,
       "version_minor": 0
      },
      "text/plain": [
       "  0%|          | 0/5 [00:00<?, ?it/s]"
      ]
     },
     "metadata": {},
     "output_type": "display_data"
    },
    {
     "name": "stdout",
     "output_type": "stream",
     "text": [
      "epoch: 18\n",
      "train_loss: 0.219504 | val_loss: 0.484484 | train_f1: 0.903262 | val_f1: 0.716279\n"
     ]
    },
    {
     "data": {
      "application/vnd.jupyter.widget-view+json": {
       "model_id": "79260eb137c146af9b5f83242a71c078",
       "version_major": 2,
       "version_minor": 0
      },
      "text/plain": [
       "  0%|          | 0/39 [00:00<?, ?it/s]"
      ]
     },
     "metadata": {},
     "output_type": "display_data"
    },
    {
     "data": {
      "application/vnd.jupyter.widget-view+json": {
       "model_id": "84a683db440f4351a16d6fa0852114a9",
       "version_major": 2,
       "version_minor": 0
      },
      "text/plain": [
       "  0%|          | 0/39 [00:00<?, ?it/s]"
      ]
     },
     "metadata": {},
     "output_type": "display_data"
    },
    {
     "data": {
      "application/vnd.jupyter.widget-view+json": {
       "model_id": "b20b5ea6cf064b8c80c14740dd4643d6",
       "version_major": 2,
       "version_minor": 0
      },
      "text/plain": [
       "  0%|          | 0/5 [00:00<?, ?it/s]"
      ]
     },
     "metadata": {},
     "output_type": "display_data"
    },
    {
     "name": "stdout",
     "output_type": "stream",
     "text": [
      "epoch: 19\n",
      "train_loss: 0.195338 | val_loss: 0.472059 | train_f1: 0.914982 | val_f1: 0.733032\n"
     ]
    }
   ],
   "source": [
    "best_val_f1 = 0\n",
    "for epoch in range(epochs):\n",
    "    for data in tqdm(train_dataloader):\n",
    "        torch.cuda.empty_cache()\n",
    "        optimizer.zero_grad()\n",
    "        seq, seq_len, labels, _ = data \n",
    "        seq, labels = seq.to(device), labels.to(device)\n",
    "        output, _ = model(seq, seq_len)\n",
    "        output = F.log_softmax(output, dim=1)\n",
    "        loss = criterion(output, labels)\n",
    "        loss.backward()\n",
    "        optimizer.step()\n",
    "\n",
    "    train_loss, train_f1, _, _, _ = eval_model(model, train_dataloader, criterion, device)\n",
    "    val_loss, val_f1, _, _, _ = eval_model(model, val_dataloader, criterion, device)\n",
    "    print('epoch: %d'%(epoch))\n",
    "    print('train_loss: %5f | val_loss: %5f | train_f1: %5f | val_f1: %5f'%(train_loss, val_loss, train_f1, val_f1))\n",
    "    if val_f1>best_val_f1:\n",
    "        best_val_f1=val_f1\n",
    "        best_state_dict=copy.deepcopy(model.state_dict())"
   ]
  },
  {
   "cell_type": "code",
   "execution_count": 16,
   "metadata": {},
   "outputs": [
    {
     "data": {
      "application/vnd.jupyter.widget-view+json": {
       "model_id": "fb5004eee7e341b585cd51ba2ad01868",
       "version_major": 2,
       "version_minor": 0
      },
      "text/plain": [
       "  0%|          | 0/39 [00:00<?, ?it/s]"
      ]
     },
     "metadata": {},
     "output_type": "display_data"
    },
    {
     "data": {
      "application/vnd.jupyter.widget-view+json": {
       "model_id": "afc7733076ec4a8e9b97621e91eba30e",
       "version_major": 2,
       "version_minor": 0
      },
      "text/plain": [
       "  0%|          | 0/5 [00:00<?, ?it/s]"
      ]
     },
     "metadata": {},
     "output_type": "display_data"
    },
    {
     "data": {
      "application/vnd.jupyter.widget-view+json": {
       "model_id": "3ccae32f30ed4b0a9aa11855e028c11f",
       "version_major": 2,
       "version_minor": 0
      },
      "text/plain": [
       "  0%|          | 0/5 [00:00<?, ?it/s]"
      ]
     },
     "metadata": {},
     "output_type": "display_data"
    },
    {
     "name": "stdout",
     "output_type": "stream",
     "text": [
      "train_loss: 0.217306 | train_f1: 0.894652\n",
      "val_loss: 0.455885 | val_f1: 0.751092\n",
      "test_loss: 0.230557 | test_f1: 0.881579\n"
     ]
    }
   ],
   "source": [
    "model.load_state_dict(best_state_dict)\n",
    "train_loss, train_f1, train_scores, train_words, train_pred = eval_model(model, train_dataloader, criterion, device)\n",
    "val_loss, val_f1, val_scores, val_words, val_pred = eval_model(model, val_dataloader, criterion, device)\n",
    "test_loss, test_f1, test_scores, test_words, test_pred = eval_model(model, test_dataloader, criterion, device)\n",
    "print('train_loss: %5f | train_f1: %5f'%(train_loss, train_f1))\n",
    "print('val_loss: %5f | val_f1: %5f'%(val_loss, val_f1))\n",
    "print('test_loss: %5f | test_f1: %5f'%(test_loss, test_f1))"
   ]
  },
  {
   "attachments": {},
   "cell_type": "markdown",
   "metadata": {},
   "source": [
    "## Visualizando la atencion\n",
    "\n",
    "Uno de los beneficios de los mecanismos de atencion es que nos permiten identificar que elementos de las oraciones resultan mas importantes."
   ]
  },
  {
   "cell_type": "code",
   "execution_count": 17,
   "metadata": {},
   "outputs": [],
   "source": [
    "from IPython.display import display, HTML\n",
    "import matplotlib\n",
    "import matplotlib.pyplot as plt"
   ]
  },
  {
   "cell_type": "code",
   "execution_count": 18,
   "metadata": {},
   "outputs": [],
   "source": [
    "def colorize(words, color_array):\n",
    "    '''\n",
    "        Funcion para visualizar la atencion, tomada de https://gist.github.com/ihsgnef/f13c35cd46624c8f458a4d23589ac768,\n",
    "    '''\n",
    "    # words is a list of words\n",
    "    # color_array is an array of numbers between 0 and 1 of length equal to words\n",
    "    cmap = matplotlib.cm.get_cmap('Reds')\n",
    "    template = '<span class=\"barcode\"; style=\"color: black; background-color: {}\">{}</span>'\n",
    "    colored_string = ''\n",
    "    for word, color in zip(words, color_array):\n",
    "        color = matplotlib.colors.rgb2hex(cmap(color)[:3])\n",
    "        colored_string += template.format(color, '&nbsp' + word + '&nbsp')\n",
    "    return colored_string"
   ]
  },
  {
   "attachments": {},
   "cell_type": "markdown",
   "metadata": {},
   "source": [
    "Las palabras con mas atencion se muestran en color azul y aquellas con menor atencion en color rojo. "
   ]
  },
  {
   "cell_type": "code",
   "execution_count": 19,
   "metadata": {},
   "outputs": [
    {
     "data": {
      "text/html": [
       "<span class=\"barcode\"; style=\"color: black; background-color: #fff5f0\">&nbsp &nbsp</span><span class=\"barcode\"; style=\"color: black; background-color: #fff2eb\">&nbsp &nbsp</span><span class=\"barcode\"; style=\"color: black; background-color: #ffeee7\">&nbsp &nbsp</span><span class=\"barcode\"; style=\"color: black; background-color: #ffebe2\">&nbsp &nbsp</span><span class=\"barcode\"; style=\"color: black; background-color: #fee8dd\">&nbsp &nbsp</span><span class=\"barcode\"; style=\"color: black; background-color: #fee4d8\">&nbsp &nbsp</span><span class=\"barcode\"; style=\"color: black; background-color: #fee1d3\">&nbsp &nbsp</span><span class=\"barcode\"; style=\"color: black; background-color: #fedbcc\">&nbsp &nbsp</span><span class=\"barcode\"; style=\"color: black; background-color: #fdd5c4\">&nbsp &nbsp</span><span class=\"barcode\"; style=\"color: black; background-color: #fdcebb\">&nbsp &nbsp</span><span class=\"barcode\"; style=\"color: black; background-color: #fdc9b3\">&nbsp &nbsp</span><span class=\"barcode\"; style=\"color: black; background-color: #fcc3ab\">&nbsp &nbsp</span><span class=\"barcode\"; style=\"color: black; background-color: #fcbda4\">&nbsp &nbsp</span><span class=\"barcode\"; style=\"color: black; background-color: #fcb79c\">&nbsp &nbsp</span><span class=\"barcode\"; style=\"color: black; background-color: #fcaf93\">&nbsp &nbsp</span><span class=\"barcode\"; style=\"color: black; background-color: #fca98c\">&nbsp &nbsp</span><span class=\"barcode\"; style=\"color: black; background-color: #fca285\">&nbsp &nbsp</span><span class=\"barcode\"; style=\"color: black; background-color: #fc9c7d\">&nbsp &nbsp</span><span class=\"barcode\"; style=\"color: black; background-color: #fc9474\">&nbsp &nbsp</span><span class=\"barcode\"; style=\"color: black; background-color: #fc8e6e\">&nbsp &nbsp</span><span class=\"barcode\"; style=\"color: black; background-color: #fc8767\">&nbsp &nbsp</span><span class=\"barcode\"; style=\"color: black; background-color: #fc8161\">&nbsp &nbsp</span><span class=\"barcode\"; style=\"color: black; background-color: #fb7b5b\">&nbsp &nbsp</span><span class=\"barcode\"; style=\"color: black; background-color: #fb7353\">&nbsp &nbsp</span><span class=\"barcode\"; style=\"color: black; background-color: #fb6d4d\">&nbsp &nbsp</span><span class=\"barcode\"; style=\"color: black; background-color: #fa6648\">&nbsp &nbsp</span><span class=\"barcode\"; style=\"color: black; background-color: #f85f43\">&nbsp &nbsp</span><span class=\"barcode\"; style=\"color: black; background-color: #f6563d\">&nbsp &nbsp</span><span class=\"barcode\"; style=\"color: black; background-color: #f44f39\">&nbsp &nbsp</span><span class=\"barcode\"; style=\"color: black; background-color: #f24734\">&nbsp &nbsp</span><span class=\"barcode\"; style=\"color: black; background-color: #f0402f\">&nbsp &nbsp</span><span class=\"barcode\"; style=\"color: black; background-color: #ed392b\">&nbsp &nbsp</span><span class=\"barcode\"; style=\"color: black; background-color: #e63328\">&nbsp &nbsp</span><span class=\"barcode\"; style=\"color: black; background-color: #e12d26\">&nbsp &nbsp</span><span class=\"barcode\"; style=\"color: black; background-color: #db2824\">&nbsp &nbsp</span><span class=\"barcode\"; style=\"color: black; background-color: #d52221\">&nbsp &nbsp</span><span class=\"barcode\"; style=\"color: black; background-color: #cf1c1f\">&nbsp &nbsp</span><span class=\"barcode\"; style=\"color: black; background-color: #c9181d\">&nbsp &nbsp</span><span class=\"barcode\"; style=\"color: black; background-color: #c3161b\">&nbsp &nbsp</span><span class=\"barcode\"; style=\"color: black; background-color: #bd151a\">&nbsp &nbsp</span><span class=\"barcode\"; style=\"color: black; background-color: #b71319\">&nbsp &nbsp</span><span class=\"barcode\"; style=\"color: black; background-color: #b01217\">&nbsp &nbsp</span><span class=\"barcode\"; style=\"color: black; background-color: #aa1016\">&nbsp &nbsp</span><span class=\"barcode\"; style=\"color: black; background-color: #a30f15\">&nbsp &nbsp</span><span class=\"barcode\"; style=\"color: black; background-color: #9a0c14\">&nbsp &nbsp</span><span class=\"barcode\"; style=\"color: black; background-color: #8e0912\">&nbsp &nbsp</span><span class=\"barcode\"; style=\"color: black; background-color: #840711\">&nbsp &nbsp</span><span class=\"barcode\"; style=\"color: black; background-color: #7a0510\">&nbsp &nbsp</span><span class=\"barcode\"; style=\"color: black; background-color: #71020e\">&nbsp &nbsp</span><span class=\"barcode\"; style=\"color: black; background-color: #67000d\">&nbsp &nbsp</span>"
      ],
      "text/plain": [
       "<IPython.core.display.HTML object>"
      ]
     },
     "metadata": {},
     "output_type": "display_data"
    }
   ],
   "source": [
    "att = np.linspace(0,1,50)\n",
    "p = [' ']*50\n",
    "s = colorize(p, att)\n",
    "# to display in ipython notebook\n",
    "display(HTML(s))"
   ]
  },
  {
   "cell_type": "code",
   "execution_count": 20,
   "metadata": {},
   "outputs": [
    {
     "name": "stdout",
     "output_type": "stream",
     "text": [
      "Categoría predicha: Agresivo\n"
     ]
    },
    {
     "data": {
      "text/html": [
       "<span class=\"barcode\"; style=\"color: black; background-color: #fee6da\">&nbsp@&nbsp</span><span class=\"barcode\"; style=\"color: black; background-color: #fee5d9\">&nbspusuario&nbsp</span><span class=\"barcode\"; style=\"color: black; background-color: #fee5d8\">&nbspborrala&nbsp</span><span class=\"barcode\"; style=\"color: black; background-color: #d52221\">&nbsphdp&nbsp</span>"
      ],
      "text/plain": [
       "<IPython.core.display.HTML object>"
      ]
     },
     "metadata": {},
     "output_type": "display_data"
    },
    {
     "name": "stdout",
     "output_type": "stream",
     "text": [
      "Categoría predicha: Agresivo\n"
     ]
    },
    {
     "data": {
      "text/html": [
       "<span class=\"barcode\"; style=\"color: black; background-color: #fee4d8\">&nbspjoserra&nbsp</span><span class=\"barcode\"; style=\"color: black; background-color: #ffece3\">&nbsples&nbsp</span><span class=\"barcode\"; style=\"color: black; background-color: #ffeee7\">&nbspdió&nbsp</span><span class=\"barcode\"; style=\"color: black; background-color: #fff0e8\">&nbspidentidad&nbsp</span><span class=\"barcode\"; style=\"color: black; background-color: #ffeee7\">&nbspa&nbsp</span><span class=\"barcode\"; style=\"color: black; background-color: #fee6da\">&nbspesos&nbsp</span><span class=\"barcode\"; style=\"color: black; background-color: #ec382b\">&nbsphdp&nbsp</span>"
      ],
      "text/plain": [
       "<IPython.core.display.HTML object>"
      ]
     },
     "metadata": {},
     "output_type": "display_data"
    },
    {
     "name": "stdout",
     "output_type": "stream",
     "text": [
      "Categoría predicha: Agresivo\n"
     ]
    },
    {
     "data": {
      "text/html": [
       "<span class=\"barcode\"; style=\"color: black; background-color: #ffeee7\">&nbspte&nbsp</span><span class=\"barcode\"; style=\"color: black; background-color: #fedfd0\">&nbspmerecías&nbsp</span><span class=\"barcode\"; style=\"color: black; background-color: #ffefe8\">&nbspmorir&nbsp</span><span class=\"barcode\"; style=\"color: black; background-color: #fee8dd\">&nbsppeor&nbsp</span><span class=\"barcode\"; style=\"color: black; background-color: #fee6da\">&nbspramsay&nbsp</span><span class=\"barcode\"; style=\"color: black; background-color: #f03d2d\">&nbsphdp&nbsp</span>"
      ],
      "text/plain": [
       "<IPython.core.display.HTML object>"
      ]
     },
     "metadata": {},
     "output_type": "display_data"
    },
    {
     "name": "stdout",
     "output_type": "stream",
     "text": [
      "Categoría predicha: Agresivo\n"
     ]
    },
    {
     "data": {
      "text/html": [
       "<span class=\"barcode\"; style=\"color: black; background-color: #feeae1\">&nbsp@&nbsp</span><span class=\"barcode\"; style=\"color: black; background-color: #feeae0\">&nbspusuario&nbsp</span><span class=\"barcode\"; style=\"color: black; background-color: #ffebe2\">&nbspverstappen&nbsp</span><span class=\"barcode\"; style=\"color: black; background-color: #fff1ea\">&nbspes&nbsp</span><span class=\"barcode\"; style=\"color: black; background-color: #fff0e8\">&nbspun&nbsp</span><span class=\"barcode\"; style=\"color: black; background-color: #fed9c9\">&nbspcabron&nbsp</span><span class=\"barcode\"; style=\"color: black; background-color: #f14432\">&nbsphdp&nbsp</span>"
      ],
      "text/plain": [
       "<IPython.core.display.HTML object>"
      ]
     },
     "metadata": {},
     "output_type": "display_data"
    },
    {
     "name": "stdout",
     "output_type": "stream",
     "text": [
      "Categoría predicha: Agresivo\n"
     ]
    },
    {
     "data": {
      "text/html": [
       "<span class=\"barcode\"; style=\"color: black; background-color: #feeae0\">&nbspsemáforo&nbsp</span><span class=\"barcode\"; style=\"color: black; background-color: #fee8de\">&nbsprojo&nbsp</span><span class=\"barcode\"; style=\"color: black; background-color: #f14432\">&nbsphdp&nbsp</span><span class=\"barcode\"; style=\"color: black; background-color: #fcb99f\">&nbsp😡&nbsp</span>"
      ],
      "text/plain": [
       "<IPython.core.display.HTML object>"
      ]
     },
     "metadata": {},
     "output_type": "display_data"
    },
    {
     "name": "stdout",
     "output_type": "stream",
     "text": [
      "Categoría predicha: Agresivo\n"
     ]
    },
    {
     "data": {
      "text/html": [
       "<span class=\"barcode\"; style=\"color: black; background-color: #fee9df\">&nbsp@&nbsp</span><span class=\"barcode\"; style=\"color: black; background-color: #fee8de\">&nbspusuario&nbsp</span><span class=\"barcode\"; style=\"color: black; background-color: #ffefe8\">&nbspesto&nbsp</span><span class=\"barcode\"; style=\"color: black; background-color: #fff0e9\">&nbspdebería&nbsp</span><span class=\"barcode\"; style=\"color: black; background-color: #fff0e9\">&nbspcastigarse&nbsp</span><span class=\"barcode\"; style=\"color: black; background-color: #ffeee6\">&nbspcon&nbsp</span><span class=\"barcode\"; style=\"color: black; background-color: #ffebe2\">&nbspcárcel&nbsp</span><span class=\"barcode\"; style=\"color: black; background-color: #fee8de\">&nbsp.&nbsp</span><span class=\"barcode\"; style=\"color: black; background-color: #f44f39\">&nbsphdp&nbsp</span>"
      ],
      "text/plain": [
       "<IPython.core.display.HTML object>"
      ]
     },
     "metadata": {},
     "output_type": "display_data"
    },
    {
     "name": "stdout",
     "output_type": "stream",
     "text": [
      "Categoría predicha: Agresivo\n"
     ]
    },
    {
     "data": {
      "text/html": [
       "<span class=\"barcode\"; style=\"color: black; background-color: #ffede5\">&nbspeste&nbsp</span><span class=\"barcode\"; style=\"color: black; background-color: #feeae1\">&nbspteo&nbsp</span><span class=\"barcode\"; style=\"color: black; background-color: #ffeee6\">&nbspen&nbsp</span><span class=\"barcode\"; style=\"color: black; background-color: #ffece3\">&nbspun&nbsp</span><span class=\"barcode\"; style=\"color: black; background-color: #f5533b\">&nbsphdp&nbsp</span><span class=\"barcode\"; style=\"color: black; background-color: #fcc4ad\">&nbspjajajajajajajajajajajajajajjajqjajajaja&nbsp</span>"
      ],
      "text/plain": [
       "<IPython.core.display.HTML object>"
      ]
     },
     "metadata": {},
     "output_type": "display_data"
    },
    {
     "name": "stdout",
     "output_type": "stream",
     "text": [
      "Categoría predicha: Agresivo\n"
     ]
    },
    {
     "data": {
      "text/html": [
       "<span class=\"barcode\"; style=\"color: black; background-color: #ffeee7\">&nbsp@&nbsp</span><span class=\"barcode\"; style=\"color: black; background-color: #ffeee6\">&nbspusuario&nbsp</span><span class=\"barcode\"; style=\"color: black; background-color: #ffeee7\">&nbsp@&nbsp</span><span class=\"barcode\"; style=\"color: black; background-color: #ffeee7\">&nbspusuario&nbsp</span><span class=\"barcode\"; style=\"color: black; background-color: #ffeee6\">&nbspvos&nbsp</span><span class=\"barcode\"; style=\"color: black; background-color: #ffeee7\">&nbsptu&nbsp</span><span class=\"barcode\"; style=\"color: black; background-color: #fdccb8\">&nbspmadre&nbsp</span><span class=\"barcode\"; style=\"color: black; background-color: #f6563d\">&nbsphdp&nbsp</span>"
      ],
      "text/plain": [
       "<IPython.core.display.HTML object>"
      ]
     },
     "metadata": {},
     "output_type": "display_data"
    },
    {
     "name": "stdout",
     "output_type": "stream",
     "text": [
      "Categoría predicha: Agresivo\n"
     ]
    },
    {
     "data": {
      "text/html": [
       "<span class=\"barcode\"; style=\"color: black; background-color: #ffeee6\">&nbspllegando&nbsp</span><span class=\"barcode\"; style=\"color: black; background-color: #ffeee7\">&nbspa&nbsp</span><span class=\"barcode\"; style=\"color: black; background-color: #ffede5\">&nbsptu&nbsp</span><span class=\"barcode\"; style=\"color: black; background-color: #feeae0\">&nbspfuneral&nbsp</span><span class=\"barcode\"; style=\"color: black; background-color: #f75b40\">&nbsphdp&nbsp</span><span class=\"barcode\"; style=\"color: black; background-color: #fcb99f\">&nbsp:&nbsp</span>"
      ],
      "text/plain": [
       "<IPython.core.display.HTML object>"
      ]
     },
     "metadata": {},
     "output_type": "display_data"
    },
    {
     "name": "stdout",
     "output_type": "stream",
     "text": [
      "Categoría predicha: Agresivo\n"
     ]
    },
    {
     "data": {
      "text/html": [
       "<span class=\"barcode\"; style=\"color: black; background-color: #ffefe8\">&nbspla&nbsp</span><span class=\"barcode\"; style=\"color: black; background-color: #ffece3\">&nbspprofe&nbsp</span><span class=\"barcode\"; style=\"color: black; background-color: #ffede5\">&nbspde&nbsp</span><span class=\"barcode\"; style=\"color: black; background-color: #fff0e8\">&nbspliteratura&nbsp</span><span class=\"barcode\"; style=\"color: black; background-color: #ffeee7\">&nbspnos&nbsp</span><span class=\"barcode\"; style=\"color: black; background-color: #feeae0\">&nbspmato&nbsp</span><span class=\"barcode\"; style=\"color: black; background-color: #feeae1\">&nbspcon&nbsp</span><span class=\"barcode\"; style=\"color: black; background-color: #ffede5\">&nbspel&nbsp</span><span class=\"barcode\"; style=\"color: black; background-color: #fff1ea\">&nbspparcial&nbsp</span><span class=\"barcode\"; style=\"color: black; background-color: #ffece3\">&nbspque&nbsp</span><span class=\"barcode\"; style=\"color: black; background-color: #f96245\">&nbsphdp&nbsp</span>"
      ],
      "text/plain": [
       "<IPython.core.display.HTML object>"
      ]
     },
     "metadata": {},
     "output_type": "display_data"
    },
    {
     "name": "stdout",
     "output_type": "stream",
     "text": [
      "Categoría predicha: Agresivo\n"
     ]
    },
    {
     "data": {
      "text/html": [
       "<span class=\"barcode\"; style=\"color: black; background-color: #ffeee7\">&nbspeste&nbsp</span><span class=\"barcode\"; style=\"color: black; background-color: #f96245\">&nbsphdp&nbsp</span><span class=\"barcode\"; style=\"color: black; background-color: #fee8de\">&nbspes&nbsp</span><span class=\"barcode\"; style=\"color: black; background-color: #ffeee6\">&nbspel&nbsp</span><span class=\"barcode\"; style=\"color: black; background-color: #feeae0\">&nbspque&nbsp</span><span class=\"barcode\"; style=\"color: black; background-color: #ffece3\">&nbspva&nbsp</span><span class=\"barcode\"; style=\"color: black; background-color: #ffede5\">&nbspa&nbsp</span><span class=\"barcode\"; style=\"color: black; background-color: #ffece4\">&nbspmanipular&nbsp</span><span class=\"barcode\"; style=\"color: black; background-color: #ffede5\">&nbspal&nbsp</span><span class=\"barcode\"; style=\"color: black; background-color: #ffeee7\">&nbspedomex&nbsp</span>"
      ],
      "text/plain": [
       "<IPython.core.display.HTML object>"
      ]
     },
     "metadata": {},
     "output_type": "display_data"
    },
    {
     "name": "stdout",
     "output_type": "stream",
     "text": [
      "Categoría predicha: no agresivo\n"
     ]
    },
    {
     "data": {
      "text/html": [
       "<span class=\"barcode\"; style=\"color: black; background-color: #fdcebb\">&nbspno&nbsp</span><span class=\"barcode\"; style=\"color: black; background-color: #fee3d6\">&nbspmerezco&nbsp</span><span class=\"barcode\"; style=\"color: black; background-color: #fee5d8\">&nbspa&nbsp</span><span class=\"barcode\"; style=\"color: black; background-color: #fee7dc\">&nbspmi&nbsp</span><span class=\"barcode\"; style=\"color: black; background-color: #f96346\">&nbspmadre&nbsp</span>"
      ],
      "text/plain": [
       "<IPython.core.display.HTML object>"
      ]
     },
     "metadata": {},
     "output_type": "display_data"
    },
    {
     "name": "stdout",
     "output_type": "stream",
     "text": [
      "Categoría predicha: Agresivo\n"
     ]
    },
    {
     "data": {
      "text/html": [
       "<span class=\"barcode\"; style=\"color: black; background-color: #ffece3\">&nbsp@&nbsp</span><span class=\"barcode\"; style=\"color: black; background-color: #ffebe2\">&nbspusuario&nbsp</span><span class=\"barcode\"; style=\"color: black; background-color: #ffeee7\">&nbspsoy&nbsp</span><span class=\"barcode\"; style=\"color: black; background-color: #fff1ea\">&nbspyo&nbsp</span><span class=\"barcode\"; style=\"color: black; background-color: #fff2ec\">&nbspo&nbsp</span><span class=\"barcode\"; style=\"color: black; background-color: #fff2eb\">&nbsple&nbsp</span><span class=\"barcode\"; style=\"color: black; background-color: #fff2ec\">&nbspcambio&nbsp</span><span class=\"barcode\"; style=\"color: black; background-color: #fff2eb\">&nbspel&nbsp</span><span class=\"barcode\"; style=\"color: black; background-color: #fff2eb\">&nbspnombre&nbsp</span><span class=\"barcode\"; style=\"color: black; background-color: #ffefe8\">&nbspal&nbsp</span><span class=\"barcode\"; style=\"color: black; background-color: #ffeee7\">&nbspbídío&nbsp</span><span class=\"barcode\"; style=\"color: black; background-color: #ffeee6\">&nbsp?&nbsp</span><span class=\"barcode\"; style=\"color: black; background-color: #fee8dd\">&nbspjajajajaja&nbsp</span><span class=\"barcode\"; style=\"color: black; background-color: #fa6547\">&nbsphdp&nbsp</span>"
      ],
      "text/plain": [
       "<IPython.core.display.HTML object>"
      ]
     },
     "metadata": {},
     "output_type": "display_data"
    },
    {
     "name": "stdout",
     "output_type": "stream",
     "text": [
      "Categoría predicha: no agresivo\n"
     ]
    },
    {
     "data": {
      "text/html": [
       "<span class=\"barcode\"; style=\"color: black; background-color: #fedecf\">&nbsphablar&nbsp</span><span class=\"barcode\"; style=\"color: black; background-color: #fee1d4\">&nbspno&nbsp</span><span class=\"barcode\"; style=\"color: black; background-color: #fee9df\">&nbspsirve&nbsp</span><span class=\"barcode\"; style=\"color: black; background-color: #fee8de\">&nbsppara&nbsp</span><span class=\"barcode\"; style=\"color: black; background-color: #fee7dc\">&nbspni&nbsp</span><span class=\"barcode\"; style=\"color: black; background-color: #fa6547\">&nbspmadre&nbsp</span>"
      ],
      "text/plain": [
       "<IPython.core.display.HTML object>"
      ]
     },
     "metadata": {},
     "output_type": "display_data"
    },
    {
     "name": "stdout",
     "output_type": "stream",
     "text": [
      "Categoría predicha: Agresivo\n"
     ]
    },
    {
     "data": {
      "text/html": [
       "<span class=\"barcode\"; style=\"color: black; background-color: #ffefe8\">&nbspyo&nbsp</span><span class=\"barcode\"; style=\"color: black; background-color: #fff0e8\">&nbspno&nbsp</span><span class=\"barcode\"; style=\"color: black; background-color: #ffefe8\">&nbsppuedo&nbsp</span><span class=\"barcode\"; style=\"color: black; background-color: #fff2eb\">&nbspcreer&nbsp</span><span class=\"barcode\"; style=\"color: black; background-color: #fff2eb\">&nbspla&nbsp</span><span class=\"barcode\"; style=\"color: black; background-color: #fee9df\">&nbspfoto&nbsp</span><span class=\"barcode\"; style=\"color: black; background-color: #fee6da\">&nbspque&nbsp</span><span class=\"barcode\"; style=\"color: black; background-color: #ffeee6\">&nbspsubió&nbsp</span><span class=\"barcode\"; style=\"color: black; background-color: #ffede5\">&nbspjuanpi&nbsp</span><span class=\"barcode\"; style=\"color: black; background-color: #fee8de\">&nbspque&nbsp</span><span class=\"barcode\"; style=\"color: black; background-color: #fa6547\">&nbsphdp&nbsp</span>"
      ],
      "text/plain": [
       "<IPython.core.display.HTML object>"
      ]
     },
     "metadata": {},
     "output_type": "display_data"
    },
    {
     "name": "stdout",
     "output_type": "stream",
     "text": [
      "Categoría predicha: no agresivo\n"
     ]
    },
    {
     "data": {
      "text/html": [
       "<span class=\"barcode\"; style=\"color: black; background-color: #fee3d6\">&nbspmi&nbsp</span><span class=\"barcode\"; style=\"color: black; background-color: #fb6b4b\">&nbspmadre&nbsp</span><span class=\"barcode\"; style=\"color: black; background-color: #fdccb8\">&nbspsiempre&nbsp</span><span class=\"barcode\"; style=\"color: black; background-color: #fdccb8\">&nbspconsintiendome.❤&nbsp</span>"
      ],
      "text/plain": [
       "<IPython.core.display.HTML object>"
      ]
     },
     "metadata": {},
     "output_type": "display_data"
    },
    {
     "name": "stdout",
     "output_type": "stream",
     "text": [
      "Categoría predicha: no agresivo\n"
     ]
    },
    {
     "data": {
      "text/html": [
       "<span class=\"barcode\"; style=\"color: black; background-color: #feeae0\">&nbspla&nbsp</span><span class=\"barcode\"; style=\"color: black; background-color: #fee8de\">&nbspclase&nbsp</span><span class=\"barcode\"; style=\"color: black; background-color: #fee8de\">&nbspde&nbsp</span><span class=\"barcode\"; style=\"color: black; background-color: #fee4d8\">&nbspemprendedores&nbsp</span><span class=\"barcode\"; style=\"color: black; background-color: #fee7db\">&nbspesta&nbsp</span><span class=\"barcode\"; style=\"color: black; background-color: #fee6da\">&nbspcon&nbsp</span><span class=\"barcode\"; style=\"color: black; background-color: #fb6b4b\">&nbspmadre&nbsp</span>"
      ],
      "text/plain": [
       "<IPython.core.display.HTML object>"
      ]
     },
     "metadata": {},
     "output_type": "display_data"
    },
    {
     "name": "stdout",
     "output_type": "stream",
     "text": [
      "Categoría predicha: Agresivo\n"
     ]
    },
    {
     "data": {
      "text/html": [
       "<span class=\"barcode\"; style=\"color: black; background-color: #feeae0\">&nbsp#&nbsp</span><span class=\"barcode\"; style=\"color: black; background-color: #fb6b4b\">&nbsphdp&nbsp</span><span class=\"barcode\"; style=\"color: black; background-color: #fdd4c2\">&nbspy&nbsp</span><span class=\"barcode\"; style=\"color: black; background-color: #fee5d9\">&nbspno&nbsp</span><span class=\"barcode\"; style=\"color: black; background-color: #ffeee7\">&nbspestoy&nbsp</span><span class=\"barcode\"; style=\"color: black; background-color: #ffece3\">&nbspenojada&nbsp</span><span class=\"barcode\"; style=\"color: black; background-color: #fee8de\">&nbspjajaj&nbsp</span>"
      ],
      "text/plain": [
       "<IPython.core.display.HTML object>"
      ]
     },
     "metadata": {},
     "output_type": "display_data"
    },
    {
     "name": "stdout",
     "output_type": "stream",
     "text": [
      "Categoría predicha: no agresivo\n"
     ]
    },
    {
     "data": {
      "text/html": [
       "<span class=\"barcode\"; style=\"color: black; background-color: #fee8de\">&nbspel&nbsp</span><span class=\"barcode\"; style=\"color: black; background-color: #fcc4ad\">&nbspduro&nbsp</span><span class=\"barcode\"; style=\"color: black; background-color: #ffeee6\">&nbspaprendizaje&nbsp</span><span class=\"barcode\"; style=\"color: black; background-color: #ffece3\">&nbspde&nbsp</span><span class=\"barcode\"; style=\"color: black; background-color: #fee3d7\">&nbspser&nbsp</span><span class=\"barcode\"; style=\"color: black; background-color: #fb6c4c\">&nbspmadre&nbsp</span>"
      ],
      "text/plain": [
       "<IPython.core.display.HTML object>"
      ]
     },
     "metadata": {},
     "output_type": "display_data"
    },
    {
     "name": "stdout",
     "output_type": "stream",
     "text": [
      "Categoría predicha: no agresivo\n"
     ]
    },
    {
     "data": {
      "text/html": [
       "<span class=\"barcode\"; style=\"color: black; background-color: #ffece4\">&nbspestoy&nbsp</span><span class=\"barcode\"; style=\"color: black; background-color: #fee7dc\">&nbsptan&nbsp</span><span class=\"barcode\"; style=\"color: black; background-color: #fee8de\">&nbspcansada&nbsp</span><span class=\"barcode\"; style=\"color: black; background-color: #ffeee6\">&nbspla&nbsp</span><span class=\"barcode\"; style=\"color: black; background-color: #fcb99f\">&nbspputa&nbsp</span><span class=\"barcode\"; style=\"color: black; background-color: #fb6d4d\">&nbspmadre&nbsp</span>"
      ],
      "text/plain": [
       "<IPython.core.display.HTML object>"
      ]
     },
     "metadata": {},
     "output_type": "display_data"
    },
    {
     "name": "stdout",
     "output_type": "stream",
     "text": [
      "Categoría predicha: Agresivo\n"
     ]
    },
    {
     "data": {
      "text/html": [
       "<span class=\"barcode\"; style=\"color: black; background-color: #fff0e8\">&nbsphay&nbsp</span><span class=\"barcode\"; style=\"color: black; background-color: #fee8de\">&nbspgente&nbsp</span><span class=\"barcode\"; style=\"color: black; background-color: #fee9df\">&nbsptan&nbsp</span><span class=\"barcode\"; style=\"color: black; background-color: #fb7050\">&nbsphdp&nbsp</span><span class=\"barcode\"; style=\"color: black; background-color: #fedecf\">&nbspya&nbsp</span><span class=\"barcode\"; style=\"color: black; background-color: #ffebe2\">&nbspme&nbsp</span><span class=\"barcode\"; style=\"color: black; background-color: #ffece4\">&nbsppudieron&nbsp</span><span class=\"barcode\"; style=\"color: black; background-color: #ffece4\">&nbspde&nbsp</span><span class=\"barcode\"; style=\"color: black; background-color: #ffeee7\">&nbspmh&nbsp</span>"
      ],
      "text/plain": [
       "<IPython.core.display.HTML object>"
      ]
     },
     "metadata": {},
     "output_type": "display_data"
    },
    {
     "name": "stdout",
     "output_type": "stream",
     "text": [
      "Categoría predicha: Agresivo\n"
     ]
    },
    {
     "data": {
      "text/html": [
       "<span class=\"barcode\"; style=\"color: black; background-color: #ffede5\">&nbsp@&nbsp</span><span class=\"barcode\"; style=\"color: black; background-color: #ffede5\">&nbspusuario&nbsp</span><span class=\"barcode\"; style=\"color: black; background-color: #fff0e9\">&nbspy&nbsp</span><span class=\"barcode\"; style=\"color: black; background-color: #fff1ea\">&nbspdonde&nbsp</span><span class=\"barcode\"; style=\"color: black; background-color: #fff2ec\">&nbspestá&nbsp</span><span class=\"barcode\"; style=\"color: black; background-color: #fff3ed\">&nbspya&nbsp</span><span class=\"barcode\"; style=\"color: black; background-color: #fff0e9\">&nbspdeberian&nbsp</span><span class=\"barcode\"; style=\"color: black; background-color: #fee8de\">&nbspestarle&nbsp</span><span class=\"barcode\"; style=\"color: black; background-color: #fff1ea\">&nbsphaciendo&nbsp</span><span class=\"barcode\"; style=\"color: black; background-color: #fff3ed\">&nbsplo&nbsp</span><span class=\"barcode\"; style=\"color: black; background-color: #fff0e9\">&nbspmismo&nbsp</span><span class=\"barcode\"; style=\"color: black; background-color: #fff0e8\">&nbspal&nbsp</span><span class=\"barcode\"; style=\"color: black; background-color: #fedecf\">&nbspdesgraciado&nbsp</span><span class=\"barcode\"; style=\"color: black; background-color: #fb7151\">&nbsphdp&nbsp</span>"
      ],
      "text/plain": [
       "<IPython.core.display.HTML object>"
      ]
     },
     "metadata": {},
     "output_type": "display_data"
    },
    {
     "name": "stdout",
     "output_type": "stream",
     "text": [
      "Categoría predicha: Agresivo\n"
     ]
    },
    {
     "data": {
      "text/html": [
       "<span class=\"barcode\"; style=\"color: black; background-color: #feeae0\">&nbsp@&nbsp</span><span class=\"barcode\"; style=\"color: black; background-color: #fee9df\">&nbspusuario&nbsp</span><span class=\"barcode\"; style=\"color: black; background-color: #ffefe8\">&nbspeso&nbsp</span><span class=\"barcode\"; style=\"color: black; background-color: #fff2eb\">&nbspes&nbsp</span><span class=\"barcode\"; style=\"color: black; background-color: #fff2eb\">&nbspen&nbsp</span><span class=\"barcode\"; style=\"color: black; background-color: #fff1ea\">&nbspcolombia&nbsp</span><span class=\"barcode\"; style=\"color: black; background-color: #fee6da\">&nbsphuevon&nbsp</span><span class=\"barcode\"; style=\"color: black; background-color: #fb7252\">&nbsphdp&nbsp</span><span class=\"barcode\"; style=\"color: black; background-color: #fdcebb\">&nbsp.&nbsp</span>"
      ],
      "text/plain": [
       "<IPython.core.display.HTML object>"
      ]
     },
     "metadata": {},
     "output_type": "display_data"
    },
    {
     "name": "stdout",
     "output_type": "stream",
     "text": [
      "Categoría predicha: Agresivo\n"
     ]
    },
    {
     "data": {
      "text/html": [
       "<span class=\"barcode\"; style=\"color: black; background-color: #fee8de\">&nbsp@&nbsp</span><span class=\"barcode\"; style=\"color: black; background-color: #fee8dd\">&nbspusuario&nbsp</span><span class=\"barcode\"; style=\"color: black; background-color: #fff0e8\">&nbspseguro&nbsp</span><span class=\"barcode\"; style=\"color: black; background-color: #ffece3\">&nbspque&nbsp</span><span class=\"barcode\"; style=\"color: black; background-color: #fff0e8\">&nbspeso&nbsp</span><span class=\"barcode\"; style=\"color: black; background-color: #fff0e8\">&nbspsi&nbsp</span><span class=\"barcode\"; style=\"color: black; background-color: #fff1ea\">&nbsplo&nbsp</span><span class=\"barcode\"; style=\"color: black; background-color: #feeae0\">&nbspvan&nbsp</span><span class=\"barcode\"; style=\"color: black; background-color: #ffebe2\">&nbspa&nbsp</span><span class=\"barcode\"; style=\"color: black; background-color: #fff1ea\">&nbsphacer&nbsp</span><span class=\"barcode\"; style=\"color: black; background-color: #ffeee7\">&nbspfuncionar&nbsp</span><span class=\"barcode\"; style=\"color: black; background-color: #fb7252\">&nbsphdp&nbsp</span>"
      ],
      "text/plain": [
       "<IPython.core.display.HTML object>"
      ]
     },
     "metadata": {},
     "output_type": "display_data"
    },
    {
     "name": "stdout",
     "output_type": "stream",
     "text": [
      "Categoría predicha: Agresivo\n"
     ]
    },
    {
     "data": {
      "text/html": [
       "<span class=\"barcode\"; style=\"color: black; background-color: #fee3d7\">&nbspchingas&nbsp</span><span class=\"barcode\"; style=\"color: black; background-color: #feeae0\">&nbspa&nbsp</span><span class=\"barcode\"; style=\"color: black; background-color: #ffeee6\">&nbsptu&nbsp</span><span class=\"barcode\"; style=\"color: black; background-color: #fff0e9\">&nbspzanahoria&nbsp</span><span class=\"barcode\"; style=\"color: black; background-color: #fee3d6\">&nbspmadre&nbsp</span><span class=\"barcode\"; style=\"color: black; background-color: #fb7353\">&nbsphdp&nbsp</span><span class=\"barcode\"; style=\"color: black; background-color: #fdd4c2\">&nbsp😡✊✊&nbsp</span>"
      ],
      "text/plain": [
       "<IPython.core.display.HTML object>"
      ]
     },
     "metadata": {},
     "output_type": "display_data"
    },
    {
     "name": "stdout",
     "output_type": "stream",
     "text": [
      "Categoría predicha: Agresivo\n"
     ]
    },
    {
     "data": {
      "text/html": [
       "<span class=\"barcode\"; style=\"color: black; background-color: #fee8de\">&nbsp#&nbsp</span><span class=\"barcode\"; style=\"color: black; background-color: #fee8de\">&nbspnadapersonal&nbsp</span><span class=\"barcode\"; style=\"color: black; background-color: #ffede5\">&nbsppero&nbsp</span><span class=\"barcode\"; style=\"color: black; background-color: #fdcebb\">&nbspchinga&nbsp</span><span class=\"barcode\"; style=\"color: black; background-color: #fed9c9\">&nbsptu&nbsp</span><span class=\"barcode\"; style=\"color: black; background-color: #fb7656\">&nbspmadre&nbsp</span>"
      ],
      "text/plain": [
       "<IPython.core.display.HTML object>"
      ]
     },
     "metadata": {},
     "output_type": "display_data"
    },
    {
     "name": "stdout",
     "output_type": "stream",
     "text": [
      "Categoría predicha: Agresivo\n"
     ]
    },
    {
     "data": {
      "text/html": [
       "<span class=\"barcode\"; style=\"color: black; background-color: #fee8dd\">&nbsp#&nbsp</span><span class=\"barcode\"; style=\"color: black; background-color: #fee8dd\">&nbspnadapersonal&nbsp</span><span class=\"barcode\"; style=\"color: black; background-color: #fcc2aa\">&nbspchinga&nbsp</span><span class=\"barcode\"; style=\"color: black; background-color: #fedaca\">&nbsptu&nbsp</span><span class=\"barcode\"; style=\"color: black; background-color: #fb7757\">&nbspmadre&nbsp</span>"
      ],
      "text/plain": [
       "<IPython.core.display.HTML object>"
      ]
     },
     "metadata": {},
     "output_type": "display_data"
    },
    {
     "name": "stdout",
     "output_type": "stream",
     "text": [
      "Categoría predicha: Agresivo\n"
     ]
    },
    {
     "data": {
      "text/html": [
       "<span class=\"barcode\"; style=\"color: black; background-color: #fff2eb\">&nbsplas&nbsp</span><span class=\"barcode\"; style=\"color: black; background-color: #feeae0\">&nbspantis&nbsp</span><span class=\"barcode\"; style=\"color: black; background-color: #ffefe8\">&nbsptienen&nbsp</span><span class=\"barcode\"; style=\"color: black; background-color: #fff1ea\">&nbsptanto&nbsp</span><span class=\"barcode\"; style=\"color: black; background-color: #fff1ea\">&nbspmiedo&nbsp</span><span class=\"barcode\"; style=\"color: black; background-color: #ffefe8\">&nbspque&nbsp</span><span class=\"barcode\"; style=\"color: black; background-color: #fff1ea\">&nbsphacen&nbsp</span><span class=\"barcode\"; style=\"color: black; background-color: #fff1ea\">&nbspestas&nbsp</span><span class=\"barcode\"; style=\"color: black; background-color: #fff1ea\">&nbspcosas&nbsp</span><span class=\"barcode\"; style=\"color: black; background-color: #ffefe8\">&nbsp..&nbsp</span><span class=\"barcode\"; style=\"color: black; background-color: #fee3d7\">&nbsppinche&nbsp</span><span class=\"barcode\"; style=\"color: black; background-color: #fee3d7\">&nbspgente&nbsp</span><span class=\"barcode\"; style=\"color: black; background-color: #fb7858\">&nbsphdp&nbsp</span>"
      ],
      "text/plain": [
       "<IPython.core.display.HTML object>"
      ]
     },
     "metadata": {},
     "output_type": "display_data"
    },
    {
     "name": "stdout",
     "output_type": "stream",
     "text": [
      "Categoría predicha: Agresivo\n"
     ]
    },
    {
     "data": {
      "text/html": [
       "<span class=\"barcode\"; style=\"color: black; background-color: #ffefe8\">&nbsp@&nbsp</span><span class=\"barcode\"; style=\"color: black; background-color: #ffefe8\">&nbspusuario&nbsp</span><span class=\"barcode\"; style=\"color: black; background-color: #fff1ea\">&nbsplos&nbsp</span><span class=\"barcode\"; style=\"color: black; background-color: #fff0e9\">&nbspde&nbsp</span><span class=\"barcode\"; style=\"color: black; background-color: #fff1ea\">&nbspseguridad&nbsp</span><span class=\"barcode\"; style=\"color: black; background-color: #fff1ea\">&nbspy&nbsp</span><span class=\"barcode\"; style=\"color: black; background-color: #fff0e9\">&nbsplos&nbsp</span><span class=\"barcode\"; style=\"color: black; background-color: #fee5d8\">&nbspmeseros&nbsp</span><span class=\"barcode\"; style=\"color: black; background-color: #fee5d9\">&nbspson&nbsp</span><span class=\"barcode\"; style=\"color: black; background-color: #fedccd\">&nbspunos&nbsp</span><span class=\"barcode\"; style=\"color: black; background-color: #fb7a5a\">&nbsphdp&nbsp</span>"
      ],
      "text/plain": [
       "<IPython.core.display.HTML object>"
      ]
     },
     "metadata": {},
     "output_type": "display_data"
    },
    {
     "name": "stdout",
     "output_type": "stream",
     "text": [
      "Categoría predicha: no agresivo\n"
     ]
    },
    {
     "data": {
      "text/html": [
       "<span class=\"barcode\"; style=\"color: black; background-color: #feeae1\">&nbspya&nbsp</span><span class=\"barcode\"; style=\"color: black; background-color: #fff0e8\">&nbspestoy&nbsp</span><span class=\"barcode\"; style=\"color: black; background-color: #fee7dc\">&nbsplista&nbsp</span><span class=\"barcode\"; style=\"color: black; background-color: #ffeee6\">&nbsppara&nbsp</span><span class=\"barcode\"; style=\"color: black; background-color: #fee5d8\">&nbspvaler&nbsp</span><span class=\"barcode\"; style=\"color: black; background-color: #fb7a5a\">&nbspmadre&nbsp</span><span class=\"barcode\"; style=\"color: black; background-color: #fee5d9\">&nbspmañana&nbsp</span><span class=\"barcode\"; style=\"color: black; background-color: #fedfd0\">&nbsp🙂&nbsp</span>"
      ],
      "text/plain": [
       "<IPython.core.display.HTML object>"
      ]
     },
     "metadata": {},
     "output_type": "display_data"
    }
   ],
   "source": [
    "max_attn = [np.max(scores) for scores in train_scores]\n",
    "maxi = np.flip(np.argsort(max_attn))\n",
    "for j in range(30):\n",
    "    i = maxi[j]\n",
    "    s = colorize(train_words[i], train_scores[i][:len(train_words[i])])\n",
    "    # to display in ipython notebook\n",
    "    category = 'Agresivo' if train_pred[maxi[j]]==1 else 'no agresivo'\n",
    "    print('Categoría predicha: %s'%(category))\n",
    "    display(HTML(s))"
   ]
  }
 ],
 "metadata": {
  "kernelspec": {
   "display_name": "Python 3.8.10 64-bit",
   "language": "python",
   "name": "python3"
  },
  "language_info": {
   "codemirror_mode": {
    "name": "ipython",
    "version": 3
   },
   "file_extension": ".py",
   "mimetype": "text/x-python",
   "name": "python",
   "nbconvert_exporter": "python",
   "pygments_lexer": "ipython3",
   "version": "3.9.16"
  },
  "orig_nbformat": 4,
  "vscode": {
   "interpreter": {
    "hash": "916dbcbb3f70747c44a77c7bcd40155683ae19c65e1c03b4aa3499c5328201f1"
   }
  }
 },
 "nbformat": 4,
 "nbformat_minor": 2
}
