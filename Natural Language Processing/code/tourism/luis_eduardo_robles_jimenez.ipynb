{
 "cells": [
  {
   "cell_type": "markdown",
   "metadata": {},
   "source": [
    "# Preguntas\n",
    "\n",
    "- Cual es el numero de tarea? The doc says proyecto 1"
   ]
  },
  {
   "cell_type": "markdown",
   "metadata": {},
   "source": [
    "Proyecto 1 - Luis Eduardo Robles Jimenez\n",
    "\n",
    "# Minería de Texto para Turismo"
   ]
  },
  {
   "cell_type": "markdown",
   "metadata": {},
   "source": [
    "## Utils"
   ]
  },
  {
   "cell_type": "code",
   "execution_count": 1,
   "metadata": {},
   "outputs": [],
   "source": [
    "import os\n",
    "import numpy as np\n",
    "import pandas as pd\n",
    "import matplotlib.pyplot as plt\n",
    "from nltk.tokenize import TweetTokenizer"
   ]
  },
  {
   "cell_type": "code",
   "execution_count": 2,
   "metadata": {},
   "outputs": [],
   "source": [
    "class TouristSpot:\n",
    "    def __init__(self, path):\n",
    "        self.reviews = pd.read_csv(path)\n",
    "        self.spotName = path.split('/')[-1][: -4]\n",
    "        self._cleanUp()\n",
    "        self.nDashes = 30\n",
    "\n",
    "    def _cleanUp(self):\n",
    "        self.reviews.columns = [c.strip() for c in self.reviews.columns]\n",
    "\n",
    "        if self.reviews.loc[:, 'Edad'].dtypes == object: self.reviews.loc[:, 'Edad'] = [n.strip() for n in self.reviews.loc[:, 'Edad']]\n",
    "        self.reviews.loc[:, 'Edad'] = self.reviews.loc[:, 'Edad'].replace([np.nan, ''], -1)\n",
    "        self.reviews.loc[:, 'Edad'] = self.reviews.loc[:, 'Edad'].astype('int32')\n",
    "\n",
    "        columns = [\"Título de la opinión\", \"Opinión\"]\n",
    "        for col in columns:\n",
    "            desc = []       \n",
    "            for o in self.reviews.loc[:, col]:\n",
    "                if o[0] == '\"': o = o[1:]\n",
    "                if o[-1] == '\"': o = o[:-1]\n",
    "                desc.append(o)\n",
    "            self.reviews.loc[:, col] = desc\n",
    "\n",
    "    def wordCloud(self):\n",
    "        #pip install wordcloud\n",
    "        pass\n",
    "\n",
    "    def describe(self):\n",
    "        nRows, nCols = 2, 1\n",
    "        fig = plt.figure(figsize = (15, 10))\n",
    "        fig.subplots_adjust(hspace=0.5)\n",
    "\n",
    "        print(self.nDashes * '-', self.spotName, self.nDashes * '-')\n",
    "\n",
    "        grades = fig.add_subplot(321)\n",
    "        avg = np.round(np.average(self.reviews.loc[:, 'Escala']), decimals = 2)\n",
    "        sd = np.round(np.std(self.reviews.loc[:, 'Escala']), decimals = 2)\n",
    "        grades.hist(self.reviews.loc[:, 'Escala'])\n",
    "        grades.set_title(f\"Grades (1 worst; 5 best); Average = {avg}; SD = {sd}\")\n",
    "\n",
    "        length = fig.add_subplot(322)\n",
    "        lenOpinions = [len(TweetTokenizer().tokenize(o)) for o in self.reviews.loc[:, 'Opinión']]\n",
    "        avg = np.round(np.average(lenOpinions), decimals = 2)\n",
    "        sd = np.round(np.std(lenOpinions), decimals = 2)\n",
    "        length.hist(lenOpinions)\n",
    "        length.set_title(f\"Length of opinions (words); Average = {avg}; SD = {sd}\")\n",
    "\n",
    "        ages = fig.add_subplot(323)\n",
    "        ages.hist(self.reviews.loc[:, 'Edad'], bins = 10)\n",
    "        ages.set_title(f'Ages distribution')\n",
    "        \n",
    "        visitors = fig.add_subplot(324)\n",
    "        visitors.hist(self.reviews.loc[:, 'Nacional ó Internacional'])\n",
    "        visitors.set_title('Local or foreigner')\n",
    "        \n",
    "        popularity = fig.add_subplot(325)\n",
    "        months = [int(d.split('/')[1]) for d in self.reviews.loc[:, 'Fecha']]\n",
    "        m, c = np.unique(months, return_counts = True)\n",
    "        popularity.bar(m, c)\n",
    "        popularity.set_title('Popularity by month')\n",
    "        popularity.set_xticks(np.arange(1, len(m) + 1), labels = ['Jan', 'Feb', 'Mar', 'Apr', 'May', 'Jun', 'Jul', 'Aug', 'Sep', 'Oct', 'Nov', 'Dec'])\n",
    "        \n",
    "        languages = fig.add_subplot(326)\n",
    "        m, c = np.unique(self.reviews.loc[:, 'Idioma'], return_counts = True)\n",
    "        languages.barh(m, c)\n",
    "        languages.set_title('Language')\n",
    "\n",
    "        plt.show()"
   ]
  },
  {
   "cell_type": "markdown",
   "metadata": {},
   "source": [
    "## Actividades\n",
    "\n",
    "### 1. Preprocesamiento y stats"
   ]
  },
  {
   "cell_type": "code",
   "execution_count": 3,
   "metadata": {},
   "outputs": [],
   "source": [
    "path = \"../../data/guanajuato/\""
   ]
  },
  {
   "cell_type": "code",
   "execution_count": 4,
   "metadata": {},
   "outputs": [],
   "source": [
    "for d in os.listdir(path):\n",
    "    continue\n",
    "    spot = TouristSpot(os.path.join(path, d))\n",
    "    spot.describe()"
   ]
  }
 ],
 "metadata": {
  "kernelspec": {
   "display_name": "Python 3.8.10 64-bit",
   "language": "python",
   "name": "python3"
  },
  "language_info": {
   "codemirror_mode": {
    "name": "ipython",
    "version": 3
   },
   "file_extension": ".py",
   "mimetype": "text/x-python",
   "name": "python",
   "nbconvert_exporter": "python",
   "pygments_lexer": "ipython3",
   "version": "3.8.10"
  },
  "orig_nbformat": 4,
  "vscode": {
   "interpreter": {
    "hash": "916dbcbb3f70747c44a77c7bcd40155683ae19c65e1c03b4aa3499c5328201f1"
   }
  }
 },
 "nbformat": 4,
 "nbformat_minor": 2
}
