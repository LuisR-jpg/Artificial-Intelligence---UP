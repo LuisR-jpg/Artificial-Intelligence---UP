{
 "cells": [
  {
   "attachments": {},
   "cell_type": "markdown",
   "metadata": {},
   "source": [
    "# Activity: La mañanera\n",
    "\n",
    "Con esta actividad se pretende conocer una manera artesanal de hacer análisis de lenguaje natural. \n",
    "\n",
    "También sirve al propósito de introducirnos a python."
   ]
  },
  {
   "cell_type": "code",
   "execution_count": 2,
   "metadata": {},
   "outputs": [],
   "source": [
    "from bs4 import BeautifulSoup\n",
    "from datetime import datetime\n",
    "import requests\n",
    "import glob\n",
    "import re\n",
    "import io\n",
    "import os"
   ]
  },
  {
   "attachments": {},
   "cell_type": "markdown",
   "metadata": {},
   "source": [
    "## Util"
   ]
  },
  {
   "cell_type": "code",
   "execution_count": 2,
   "metadata": {},
   "outputs": [],
   "source": [
    "# Pass the url and the path where the html will be stored in.\n",
    "headers = {'User-Agent': 'Mozilla/5.0 (Windows NT 10.0) AppleWebKit/537.36 (KHTML, like Gecko) Chrome/104.0.0.0 Safari/537.36'}\n",
    "def download(url, path):\n",
    "    response = requests.get(url, headers = headers)\n",
    "    with open(path, \"w\") as f:\n",
    "        f.write(response.text)"
   ]
  },
  {
   "cell_type": "markdown",
   "metadata": {},
   "source": [
    "## Proof of concepts"
   ]
  },
  {
   "cell_type": "code",
   "execution_count": 12,
   "metadata": {},
   "outputs": [],
   "source": [
    "download(\"https://presidente.gob.mx/secciones/version-estenografica/page/2/\", \"../data/presidente/test.txt\")"
   ]
  },
  {
   "cell_type": "code",
   "execution_count": 13,
   "metadata": {},
   "outputs": [
    {
     "data": {
      "text/plain": [
       "[('http',\n",
       "  '151.394.mwp.accessdomain.com',\n",
       "  '/wp-content/themes/diplomat/favicon.ico'),\n",
       " ('https', 'presidente.gob.mx', '/feed/'),\n",
       " ('https', 'presidente.gob.mx', '/xmlrpc.php')]"
      ]
     },
     "execution_count": 13,
     "metadata": {},
     "output_type": "execute_result"
    }
   ],
   "source": [
    "pattern = '(http|ftp|https)://([\\w_-]+(?:(?:\\.[\\w_-]+)+))([\\w.,@?^=%&:/~+#-]*[\\w@?^=%&/~+#-])?'\n",
    "re.findall(pattern, open(\"../data/presidente/test.txt\", \"r\", encoding = \"utf-8\").read())[:3]"
   ]
  },
  {
   "cell_type": "markdown",
   "metadata": {},
   "source": [
    "## Web crawling"
   ]
  },
  {
   "cell_type": "markdown",
   "metadata": {},
   "source": [
    "### Fetch the pages"
   ]
  },
  {
   "cell_type": "code",
   "execution_count": 6,
   "metadata": {},
   "outputs": [],
   "source": [
    "url_pagina_i = \"https://presidente.gob.mx/secciones/version-estenografica/page/\"\n",
    "num_paginas = 117\n",
    "for i in range(num_paginas): \n",
    "    download(url_pagina_i + str(i + 1) + \"/\", \"../data/mananera/\" + str(i + 1) + \".txt\")"
   ]
  },
  {
   "cell_type": "markdown",
   "metadata": {},
   "source": [
    "### Get the conferences' URLs from page contents"
   ]
  },
  {
   "cell_type": "code",
   "execution_count": 14,
   "metadata": {},
   "outputs": [],
   "source": [
    "urls_conf = []\n",
    "for f_pagina in glob.glob(\"../data/presidente/mananera/*\"):\n",
    "    urls_conf += [path for _, _, path in re.findall(pattern, open(f_pagina, \"r\", encoding = \"utf-8\").read()) if \"estenografica-de-la\" in path]"
   ]
  },
  {
   "cell_type": "code",
   "execution_count": 15,
   "metadata": {},
   "outputs": [
    {
     "name": "stdout",
     "output_type": "stream",
     "text": [
      "1018\n"
     ]
    }
   ],
   "source": [
    "urls_conf_set = list(set(urls_conf))\n",
    "print(len(urls_conf_set))"
   ]
  },
  {
   "cell_type": "markdown",
   "metadata": {},
   "source": [
    "### Fetch each conference"
   ]
  },
  {
   "cell_type": "code",
   "execution_count": 18,
   "metadata": {},
   "outputs": [],
   "source": [
    "for path in urls_conf_set:\n",
    "    download(\"https://presidente.gob.mx\" + path, \"../data/presidente/estenograficas/\" + path.replace(\"/\", \"-\"))"
   ]
  },
  {
   "cell_type": "markdown",
   "metadata": {},
   "source": [
    "### Try to keep text only"
   ]
  },
  {
   "cell_type": "code",
   "execution_count": 25,
   "metadata": {},
   "outputs": [],
   "source": [
    "for f_pagina in glob.glob(\"../data/presidente/estenograficas/*\"):\n",
    "    soup = BeautifulSoup(open(f_pagina, \"r\", encoding = \"utf-8\").read(), 'html.parser')\n",
    "    newPath = \"../data/presidente/estenograficas_limpias/\" + f_pagina.replace(\"../data/presidente/estenograficas/\", \"\")\n",
    "    open(newPath, \"w\", encoding = \"utf-8\").write(soup.get_text())"
   ]
  },
  {
   "cell_type": "markdown",
   "metadata": {},
   "source": [
    "### Standardize naming"
   ]
  },
  {
   "cell_type": "code",
   "execution_count": 4,
   "metadata": {},
   "outputs": [],
   "source": [
    "def normaliza(str_fecha):\n",
    "    datetimeobject = datetime.strptime(str_fecha[:6] + \"20\" + str_fecha[6:], '%d.%m.%Y') \n",
    "    newformat = datetimeobject.strftime('%Y-%m-%d')\n",
    "    return newformat"
   ]
  },
  {
   "cell_type": "code",
   "execution_count": 5,
   "metadata": {},
   "outputs": [
    {
     "name": "stdout",
     "output_type": "stream",
     "text": [
      "Raro: ../data/presidente/estenograficas_limpias/-version-estenografica-de-la-conferencia-de-prensa-matutina-del-presidente-andres-manuel-lopez-obrador-67-\n",
      "Segunda: ../data/presidente/estenograficas_limpias/-13-05-20-version-estenografica-de-la-conferencia-de-prensa-matutina-del-presidente-andres-manuel-lopez-obrador-\n",
      "Segunda: ../data/presidente/estenograficas_limpias/-version-estenografica-de-la-conferencia-de-prensa-matutina-del-presidente-andres-manuel-lopez-obrador-15-\n",
      "Segunda: ../data/presidente/estenograficas_limpias/-29-05-19-version-estenografica-de-la-conferencia-de-prensa-matutina-del-presidente-andres-manuel-lopez-obrador-2-\n",
      "Raro: ../data/presidente/estenograficas_limpias/-29-0920-version-estenografica-de-la-conferencia-de-prensa-matutina-del-presidente-andres-manuel-lopez-obrador-\n",
      "Segunda: ../data/presidente/estenograficas_limpias/-version-estenografica-de-la-conferencia-de-prensa-matutina-del-presidente-andres-manuel-lopez-obrador-21-\n",
      "Segunda: ../data/presidente/estenograficas_limpias/-version-estenografica-de-la-conferencia-de-prensa-matutina-del-presidente-andres-manuel-lopez-obrador-19-\n",
      "Segunda: ../data/presidente/estenograficas_limpias/-version-estenografica-de-la-conferencia-de-prensa-extraordinaria-del-presidente-andres-manuel-lopez-obrador-2-\n",
      "Raro: ../data/presidente/estenograficas_limpias/-08-1020-version-estenografica-de-la-conferencia-de-prensa-matutina-del-presidente-andres-manuel-lopez-obrador-\n",
      "Segunda: ../data/presidente/estenograficas_limpias/-12-11-21-version-estenografica-de-la-conferencia-de-prensa-matutina-del-presidente-andres-manuel-lopez-obrador-desde-sonora-\n",
      "Tercera: ../data/presidente/estenograficas_limpias/-version-estenografica-de-la-conferencia-de-prensa-extraordinaria-del-presidente-andres-manuel-lopez-obrador-2-2-\n"
     ]
    }
   ],
   "source": [
    "i = 0\n",
    "fechas_conferencia = []\n",
    "for f_pagina in glob.glob(\"../data/presidente/estenograficas_limpias/*\"):\n",
    "    texto = open(f_pagina, 'r', encoding = 'utf-8').read()\n",
    "    fechas_en_archivo = re.findall('[0-9][0-9]\\.[0-9][0-9]\\.[0-9][0-9]', texto)\n",
    "    if len(fechas_en_archivo) == 4:\n",
    "        path = '../data/presidente/estenograficas_limpias_por_fecha/' + normaliza(fechas_en_archivo[0])\n",
    "        if os.path.isfile(path): \n",
    "            if not os.path.isfile(path + \"_2da\"):\n",
    "                path += \"_2da\"\n",
    "                print(\"Segunda:\", f_pagina)\n",
    "            elif not os.path.isfile(path + \"_3ra\"):\n",
    "                path += \"_3ra\"\n",
    "                print(\"Tercera:\", f_pagina)\n",
    "        open(path, 'w', encoding = \"utf-8\").write(texto)\n",
    "        fechas_conferencia += [normaliza(fechas_en_archivo[0])]\n",
    "    else:\n",
    "        print(\"Raro:\", f_pagina)"
   ]
  }
 ],
 "metadata": {
  "kernelspec": {
   "display_name": "Python 3.8.10 64-bit",
   "language": "python",
   "name": "python3"
  },
  "language_info": {
   "codemirror_mode": {
    "name": "ipython",
    "version": 3
   },
   "file_extension": ".py",
   "mimetype": "text/x-python",
   "name": "python",
   "nbconvert_exporter": "python",
   "pygments_lexer": "ipython3",
   "version": "3.8.10"
  },
  "orig_nbformat": 4,
  "vscode": {
   "interpreter": {
    "hash": "916dbcbb3f70747c44a77c7bcd40155683ae19c65e1c03b4aa3499c5328201f1"
   }
  }
 },
 "nbformat": 4,
 "nbformat_minor": 2
}
