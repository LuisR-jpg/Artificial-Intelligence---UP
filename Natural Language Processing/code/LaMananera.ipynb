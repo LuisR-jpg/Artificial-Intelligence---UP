{
 "cells": [
  {
   "attachments": {},
   "cell_type": "markdown",
   "metadata": {},
   "source": [
    "# Activity: La mañanera\n",
    "\n",
    "Con esta actividad se pretende conocer una manera artesanal de hacer análisis de lenguaje natural. \n",
    "\n",
    "También sirve el propósito de introducirnos a python."
   ]
  },
  {
   "cell_type": "code",
   "execution_count": null,
   "metadata": {},
   "outputs": [],
   "source": [
    "import wget\n",
    "import re\n",
    "import glob\n",
    "import io\n",
    "from bs4 import BeautifulSoup\n",
    "from datetime import datetime\n",
    "import os\n",
    "import urllib.request"
   ]
  },
  {
   "cell_type": "code",
   "execution_count": null,
   "metadata": {},
   "outputs": [],
   "source": [
    "url_pagina_i = \"https://presidente.gob.mx/secciones/version-estenografica/page/2/\"\n",
    "#url_pagina_i = \"http://www.futurecrew.com/skaven/song_files/mp3/razorback.mp3\"\n",
    "wget.download(url = url_pagina_i, out = \"../data/mananera/pagina_i.txt\")"
   ]
  },
  {
   "cell_type": "code",
   "execution_count": null,
   "metadata": {},
   "outputs": [],
   "source": [
    "url = \"https://presidente.gob.mx/secciones/version-estenografica/page/2/\""
   ]
  },
  {
   "cell_type": "code",
   "execution_count": null,
   "metadata": {},
   "outputs": [],
   "source": [
    "response = urllib.request.urlopen(url)\n",
    "webContent = response.read().decode('UTF-8')\n",
    "f = open('obo-t17800628-33.html', 'w')\n",
    "f.write(webContent)\n",
    "f.close"
   ]
  },
  {
   "cell_type": "code",
   "execution_count": null,
   "metadata": {},
   "outputs": [],
   "source": [
    "import requests\n",
    "r = requests.get(url, allow_redirects=True)\n",
    "open('facebook.ico', 'wb').write(r.content)"
   ]
  },
  {
   "cell_type": "code",
   "execution_count": null,
   "metadata": {},
   "outputs": [],
   "source": [
    "pattern = '(http|ftp|https)://([\\w_-]+(?:(?:\\.[\\w_-]+)+))([\\w.,@?^=%&:/-+#-]*[\\w@?^=%&/~+#-])?'\n",
    "re.findall(pattern, open(\"./pagina_i.txt\", \"r\", encoding = \"utf-8\").read())"
   ]
  },
  {
   "cell_type": "code",
   "execution_count": null,
   "metadata": {},
   "outputs": [],
   "source": [
    "url_pagina_i = \"https://presidente.gob.mx/secciones/version-estenografica/page/\"\n",
    "num_paginas = 69\n",
    "for i in range(num_paginas):\n",
    "    wget.download(url = url_pagina_i + str(i + 1) + \"/\", out = \"../data/mananera/\" + str(i + 1) + \".txt\")"
   ]
  },
  {
   "cell_type": "code",
   "execution_count": null,
   "metadata": {},
   "outputs": [],
   "source": [
    "urls_conf = []\n",
    "\n",
    "for f_pagina in glob.glob(\"../data/mananera/*\"):\n",
    "    print(f_pagina)\n",
    "    urls_conf = [path for _, _, path in re.findall(re.findall(pattern, open(f_pagina, \"r\", encoding = \"utf-8\").read())) if \"estenografica-de-la\" in path]"
   ]
  },
  {
   "cell_type": "code",
   "execution_count": null,
   "metadata": {},
   "outputs": [],
   "source": [
    "urls_conf_set = list(set(urls_conf))"
   ]
  },
  {
   "cell_type": "code",
   "execution_count": null,
   "metadata": {},
   "outputs": [],
   "source": [
    "for path in urls_conf_set:\n",
    "    f = wget.download(url = \"https://presidente.gob.mx\" + path, out = \"./estenograficas/\" + path.replace(\"/\", \"-\"))[0]    "
   ]
  },
  {
   "cell_type": "code",
   "execution_count": null,
   "metadata": {},
   "outputs": [],
   "source": [
    "for f_paginas in glob.glob(\"../data/mananera/estenograficas/*\"):\n",
    "    soup = BeautifulSoup(open(f_pagina, \"r\", encoding = \"utf-8\").read(), 'html.parser')\n",
    "    open(\"./estenograficas_limpias/\" + f_pagina.replace(\"./estenograficas/\", \"\"), \"w\", encoding = \"utf-8\").write(soup.get_text())"
   ]
  },
  {
   "cell_type": "code",
   "execution_count": null,
   "metadata": {},
   "outputs": [],
   "source": [
    "def normaliza(str_fecha):\n",
    "    datetimeobject = datetime.strptime(str_fecha[:6] + \"20\" + str_fecha[6:], '%d.%m.%Y') \n",
    "    newformat = datetimeobject.strftime('%Y-%m-%d')\n",
    "    return newformat"
   ]
  },
  {
   "cell_type": "code",
   "execution_count": null,
   "metadata": {},
   "outputs": [],
   "source": [
    "i = 0\n",
    "fechas_conferencia = []\n",
    "for f_pagina in glob.glob(\"./estenograficas_limpias/*\"):\n",
    "    texto = open(f_pagina, 'r', encoding = 'utf-8').read()\n",
    "    fechas_en_archivo = re.findall('[0-9][0-9]\\.[0-9][0-9]\\.[0-9][0-9]', texto)\n",
    "    print(fechas_en_archivo)\n",
    "    if len(fechas_en_archivo) == 5:\n",
    "        if not os.path.isfile('./estenograficas_limpias_por_fecha/' + normaliza(fechas_en_archivo[0])):\n",
    "            open(\"./estenograficas_limpias_por_fecha/\" + normaliza(fechas_en_archivo[0]), 'w', encoding = \"utf-8\").write(texto)\n",
    "            fechas_conferencia += [normaliza(fechas_en_archivo[0])]\n",
    "        elif not os.path.isfile('./estenograficas_limpias_por_fecha/' + normaliza(fechas_en_archivo[0]) + \"_2da\"):\n",
    "            open(\"./estenograficas_limpias_por_fecha/\" + normaliza(fechas_en_archivo[0]) + \"_2da\", 'w', encoding = \"utf-8\").write(texto)\n",
    "            print(\"Segunda:\", f_pagina)\n",
    "            fechas_conferencia += [normaliza(fechas_en_archivo[0])]\n",
    "        elif not os.path.isfile('./estenograficas_limpias_por_fecha/' + normaliza(fechas_en_archivo[0]) + \"_3ra\"):\n",
    "            open(\"./estenograficas_limpias_por_fecha/\" + normaliza(fechas_en_archivo[0]) + \"_3ra\", 'w', encoding = \"utf-8\").write(texto)\n",
    "            fechas_conferencia += [normaliza(fechas_en_archivo[0])]\n",
    "            print(\"Tercera:\", f_pagina)\n",
    "    else:\n",
    "        print(\"Raro:\", f_pagina)"
   ]
  }
 ],
 "metadata": {
  "kernelspec": {
   "display_name": "pyTorch-gpu",
   "language": "python",
   "name": "python3"
  },
  "language_info": {
   "codemirror_mode": {
    "name": "ipython",
    "version": 3
   },
   "file_extension": ".py",
   "mimetype": "text/x-python",
   "name": "python",
   "nbconvert_exporter": "python",
   "pygments_lexer": "ipython3",
   "version": "3.9.16"
  },
  "orig_nbformat": 4,
  "vscode": {
   "interpreter": {
    "hash": "a5894844b2d2ed0dfa0303dd3da765415d62adce6c74979413b2b103f5e23799"
   }
  }
 },
 "nbformat": 4,
 "nbformat_minor": 2
}
