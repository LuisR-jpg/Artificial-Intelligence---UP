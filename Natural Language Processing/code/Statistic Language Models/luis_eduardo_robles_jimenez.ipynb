{
 "cells": [
  {
   "cell_type": "markdown",
   "metadata": {},
   "source": [
    "# Statistical Model Languages\n",
    "\n",
    "Tarea 3 - Luis Eduardo Robles Jimenez"
   ]
  },
  {
   "cell_type": "markdown",
   "metadata": {},
   "source": [
    "## Language Model and Evaluation"
   ]
  },
  {
   "cell_type": "code",
   "execution_count": 91,
   "metadata": {},
   "outputs": [],
   "source": [
    "import os\n",
    "import nltk\n",
    "import itertools\n",
    "import numpy as np\n",
    "from nltk.tokenize import TweetTokenizer\n",
    "from sklearn.model_selection import train_test_split, ParameterGrid"
   ]
  },
  {
   "cell_type": "markdown",
   "metadata": {},
   "source": [
    "### 1. Preprocessing"
   ]
  },
  {
   "cell_type": "code",
   "execution_count": 69,
   "metadata": {},
   "outputs": [],
   "source": [
    "tokens = {'begin': '<s>', 'end': '</s>', 'unknown': '<unk>', 'separator': '<sep>'}"
   ]
  },
  {
   "cell_type": "code",
   "execution_count": 70,
   "metadata": {},
   "outputs": [],
   "source": [
    "class Corpus:\n",
    "    def __init__(self, vocabSize = 100):\n",
    "        self.size = vocabSize\n",
    "        self.corpus = []\n",
    "\n",
    "    def _createVocabulary(self):\n",
    "        words, tokenizer, corpusByWords = [], TweetTokenizer(), []\n",
    "        for doc in self.corpus:\n",
    "            tokens = tokenizer.tokenize(doc)\n",
    "            words += tokens\n",
    "            corpusByWords += [tokens]\n",
    "        count = nltk.FreqDist(words)\n",
    "        count = sorted([(count[key], key) for key in count])[::-1]\n",
    "        if self.size != -1: count = count[:self.size]\n",
    "        return [word for _, word in count], corpusByWords\n",
    "\n",
    "    def _readFile(self, path, divideByLine = True):\n",
    "        file = []\n",
    "        with open(path, \"r\") as f_corpus:\n",
    "            for line in f_corpus:\n",
    "                if not line.isspace():\n",
    "                    file += [line[:-1]]\n",
    "        if not divideByLine: \n",
    "            f = \"\"\n",
    "            for line in file: f += line + \"\\n\"\n",
    "            file = [f]\n",
    "        self.corpus += file\n",
    "\n",
    "    def _buildCorpus(self, vocab, tokenized):\n",
    "        self.corpus = []\n",
    "        for doc in tokenized:\n",
    "            tweet = []\n",
    "            tweet.append(tokens['begin'])\n",
    "            for word in doc:\n",
    "                tweet.append(tokens['unknown'] if word not in vocab else word.lower().strip())\n",
    "            tweet.append(tokens['end'])\n",
    "            self.corpus.append(tweet)\n",
    "\n",
    "    def loadCorpus(self):\n",
    "        raise NotImplementedError()\n",
    "    \n",
    "    def describe(self):\n",
    "        print(f'')\n",
    "\n",
    "class Tweets(Corpus):\n",
    "    def __init__(self, vocabSize = 100):\n",
    "        super().__init__(vocabSize)\n",
    "        self.path_corpus = \"../../data/agresividad/mex_train.txt\"\n",
    "\n",
    "    def loadCorpus(self):\n",
    "        self._readFile(self.path_corpus)\n",
    "        vocab, tokenized = self._createVocabulary()\n",
    "        self._buildCorpus(vocab, tokenized)\n",
    "        return self.corpus\n",
    "    \n",
    "\n",
    "class Mananera(Corpus):\n",
    "    def __init__(self, nFiles = 3, vocabSize = 100):\n",
    "        super().__init__(vocabSize)\n",
    "        self.nFiles = nFiles\n",
    "        self.path_corpus = '../../data/presidente/estenograficas_limpias_por_fecha/'\n",
    "\n",
    "    def loadCorpus(self):\n",
    "        for f, file in enumerate(os.listdir(self.path_corpus)):\n",
    "            if f == self.nFiles: break\n",
    "            file_path = os.path.join(self.path_corpus, file)\n",
    "            if os.path.isfile(file_path):\n",
    "                self._readFile(file_path, divideByLine = False)\n",
    "        vocab, tokenized = self._createVocabulary()\n",
    "        self._buildCorpus(vocab, tokenized)\n",
    "        return self.corpus"
   ]
  },
  {
   "cell_type": "code",
   "execution_count": 71,
   "metadata": {},
   "outputs": [],
   "source": [
    "vocabulary_size = -1"
   ]
  },
  {
   "cell_type": "code",
   "execution_count": 72,
   "metadata": {},
   "outputs": [],
   "source": [
    "corpus = Tweets(vocabulary_size).loadCorpus()"
   ]
  },
  {
   "attachments": {},
   "cell_type": "markdown",
   "metadata": {},
   "source": [
    "#### Comment"
   ]
  },
  {
   "cell_type": "markdown",
   "metadata": {},
   "source": [
    "### 2. Models Training"
   ]
  },
  {
   "cell_type": "code",
   "execution_count": 73,
   "metadata": {},
   "outputs": [],
   "source": [
    "class LanguageModel:\n",
    "    def __init__(self, corpus = None):\n",
    "        self.corpus = corpus\n",
    "        self.nGrams, self.vocab = dict(), set()\n",
    "        if corpus is None: return\n",
    "        for line in corpus:\n",
    "            self.vocab.update(line)\n",
    "            for g, grams in enumerate(self.getNGrams(line)):\n",
    "                gram = self.toString(grams)\n",
    "                if not gram in self.nGrams: self.nGrams[gram] = 0\n",
    "                self.nGrams[gram] += 1\n",
    "        self.sGrams = dict()\n",
    "        for gram in self.nGrams:\n",
    "            smallerGram = self.toString(self.toTokens(gram)[: -1])\n",
    "            if not smallerGram in self.sGrams: self.sGrams[smallerGram] = 0\n",
    "            self.sGrams[smallerGram] += self.nGrams[gram]\n",
    "        self.vocab = list(self.vocab)\n",
    "\n",
    "    def toString(self, gramList):\n",
    "        gram = \"\"\n",
    "        for i, g in enumerate(gramList):\n",
    "            if i: gram += tokens['separator']\n",
    "            gram += g\n",
    "        return gram\n",
    "\n",
    "    def toTokens(self, gram):\n",
    "        assert isinstance(gram, str), 'Gram is not a string'\n",
    "        return gram.split(tokens['separator'])\n",
    "\n",
    "    def flatten(self, sentence):\n",
    "        if isinstance(sentence[0], list): sentence = sum(sentence, [])\n",
    "        return sentence\n",
    "\n",
    "    def P(self, *words):\n",
    "        # Laplace smoothing\n",
    "        assert len(words) == self.gramLen, \"n-gram doesn't match the expected length\"\n",
    "        words = [(w if w in self.vocab else tokens['unknown']) for w in words]\n",
    "        return self._Laplace(words)\n",
    "\n",
    "    def _Laplace(self, words):\n",
    "        count = 0\n",
    "        gram = self.toString(words)\n",
    "        if gram in self.nGrams: count = self.nGrams[gram]\n",
    "        ctx = self.toString(words[: -1])\n",
    "        ctxCount = self.sGrams[ctx] if ctx in self.sGrams else 0\n",
    "        return (count + 1) / (ctxCount + len(self.vocab))\n",
    "\n",
    "    def getNGrams(self, line):\n",
    "        return [line[start: start + self.gramLen] for start in range(len(line) - self.gramLen + 1)]\n",
    "\n",
    "    def getProbs(self, sentence, log = False):\n",
    "        sentence = self.flatten(sentence)\n",
    "        logProb = 0\n",
    "        for gram in self.getNGrams(sentence):\n",
    "            p = self.P(*gram)\n",
    "            logProb += np.log(p)\n",
    "            assert p > 0, \"Probability is zero\"\n",
    "        if log: return logProb\n",
    "        return np.exp(logProb)\n",
    "\n",
    "    # Include the <s> and </s> tokens, but don't count </s> - (Page 8, Dan Jurafsky on Language Models)\n",
    "    def perplexity(self, sentence):\n",
    "        sentence = self.flatten(sentence)\n",
    "        pp = 1\n",
    "        for g in self.getNGrams(sentence):\n",
    "            pp *= self.P(*g) ** (-1 / (len(sentence) - sentence.count(tokens['begin'])))\n",
    "        return pp\n",
    "\n",
    "    def tweet(self, length = 50):\n",
    "        tweet = [tokens['begin'] for _ in range(self.gramLen - 1)]\n",
    "        for _ in range(length):\n",
    "            ctx = tweet[-self.gramLen + 1] if self.gramLen > 1 else []\n",
    "            probs = []\n",
    "            for _, w in enumerate(self.vocab):\n",
    "                w = ctx + [w]\n",
    "                p = self.P(*w)\n",
    "                probs.append(p)\n",
    "            choice = np.random.choice(self.vocab, p = probs / np.sum(probs))\n",
    "            tweet += [choice]\n",
    "            if choice == tokens['end']: break\n",
    "        return tweet\n",
    "\n",
    "    def test(self):\n",
    "        # Hypothesis: The sum of probabilities for a model is: vocabSize ^ (gramLength - 1)\n",
    "        raise NotImplementedError()"
   ]
  },
  {
   "cell_type": "code",
   "execution_count": 74,
   "metadata": {},
   "outputs": [],
   "source": [
    "class Unigram(LanguageModel):\n",
    "    def __init__(self, corpus = None):\n",
    "        self.gramLen = 1\n",
    "        super().__init__(corpus)\n",
    "    \n",
    "    def test(self):\n",
    "        p = 0\n",
    "        for w in self.vocab: p += self.P(w)\n",
    "        assert np.round(p, decimals = 3) == 1, \"Probs don't sum up the expected value\"\n",
    "\n",
    "\n",
    "class Bigram(LanguageModel):\n",
    "    def __init__(self, corpus = None):\n",
    "        self.gramLen = 2\n",
    "        super().__init__(corpus)      \n",
    "\n",
    "    def test(self):\n",
    "        for w1 in self.vocab:\n",
    "            p = 0\n",
    "            for w2 in self.vocab:\n",
    "                p += self.P(w1, w2)\n",
    "            assert np.round(p, decimals = 3) == 1, \"Probs don't sum up the expected value\"\n",
    "\n",
    "\n",
    "class Trigram(LanguageModel):\n",
    "    def __init__(self, corpus = None):\n",
    "        self.gramLen = 3\n",
    "        super().__init__(corpus)    \n",
    "\n",
    "    def test(self):\n",
    "        for w1 in self.vocab:\n",
    "            for w2 in self.vocab:\n",
    "                p = 0   \n",
    "                for w3 in self.vocab:\n",
    "                    p += self.P(w1, w2, w3)\n",
    "                assert np.round(p, decimals = 3) == 1, \"Probs don't sum up the expected value\"\n",
    "\n",
    "\n",
    "class N_Gram(LanguageModel):\n",
    "    def __init__(self, gramLen, corpus = None):\n",
    "        self.gramLen = gramLen\n",
    "        super().__init__(corpus)    \n",
    "\n",
    "\n",
    "class Interpolated(LanguageModel):\n",
    "    def __init__(self, models = None, lambdas = None):\n",
    "        #super().__init__(corpus)   \n",
    "        self.models = models\n",
    "        self.lambdas = lambdas\n",
    "        assert len(models) == len(self.lambdas), \"The number of models doesn't match the number of lambdas\"\n",
    "        self.vocab = models[0].vocab\n",
    "\n",
    "    def getProbs(self, sentence, log = False):\n",
    "        raise NotImplementedError()\n",
    "    \n",
    "    # Unlike the super().P(...), this one takes only the context it needs, so it can receive long sentences\n",
    "    def P(self, *words):\n",
    "        prob = 0\n",
    "        for m, model in enumerate(self.models):\n",
    "            nGram = words[-model.gramLen: ]\n",
    "            prob += self.lambdas[m] * model.P(*nGram)\n",
    "        return prob\n",
    "    \n",
    "    def perplexity(self, sentence):\n",
    "        sentence = self.flatten(sentence)\n",
    "        begins = sentence.count(tokens['begin'])\n",
    "        pp = 1\n",
    "        unigrams = Unigram().getNGrams(sentence)\n",
    "        for u, _ in enumerate(unigrams):\n",
    "            prob = 0\n",
    "            for m, model in enumerate(self.models):\n",
    "                # Start index where the context will be taken from\n",
    "                idx = u + 1 - model.gramLen\n",
    "                nGram = []\n",
    "                if idx < 0:\n",
    "                    nGram += np.abs(idx) * [tokens['begin']]\n",
    "                    nGram += unigrams[: u + 1]\n",
    "                else: nGram = unigrams[idx: u + 1]\n",
    "                prob += model.P(*nGram) * self.lambdas[m]\n",
    "            pp *= (prob) ** (-1 / (len(sentence) - begins))\n",
    "        return pp\n",
    "    \n",
    "    def tweet(self, length = 50):\n",
    "        tweet = [tokens['begin']] * max([model.gramLen for model in self.models])\n",
    "        for _ in range(length):\n",
    "            probs = []\n",
    "            for w in self.vocab:\n",
    "                ctx = tweet + [w]\n",
    "                p = self.P(*ctx)\n",
    "                probs.append(p)\n",
    "            choice = np.random.choice(self.vocab, p = probs / np.sum(probs))\n",
    "            tweet += [choice]\n",
    "            #if choice == tokens['end']: break\n",
    "        return tweet\n"
   ]
  },
  {
   "cell_type": "code",
   "execution_count": 75,
   "metadata": {},
   "outputs": [
    {
     "name": "stdout",
     "output_type": "stream",
     "text": [
      "0.02930555194720844\n",
      "0.04801988343595472\n",
      "0.10994778000051961\n"
     ]
    }
   ],
   "source": [
    "uni = Unigram(corpus)\n",
    "#uni.test()\n",
    "\n",
    "# Very frequent\n",
    "print(uni.P(\"que\"))\n",
    "print(uni.P(tokens['begin']))\n",
    "\n",
    "# Doesn't exist\n",
    "print(uni.P(\"otorrinolaringologo\"))"
   ]
  },
  {
   "cell_type": "code",
   "execution_count": 76,
   "metadata": {},
   "outputs": [
    {
     "name": "stdout",
     "output_type": "stream",
     "text": [
      "0.23783970919162195\n",
      "0.020930232558139535\n",
      "0.000117000117000117\n"
     ]
    }
   ],
   "source": [
    "bi = Bigram(corpus)\n",
    "#bi.test()\n",
    "\n",
    "# Very frequent \n",
    "print(bi.P('.', tokens['end']))\n",
    "print(bi.P(\"es\", \"que\"))\n",
    "\n",
    "# Doesn't exist\n",
    "print(bi.P(tokens['begin'], tokens['end']))"
   ]
  },
  {
   "cell_type": "code",
   "execution_count": 77,
   "metadata": {},
   "outputs": [
    {
     "name": "stdout",
     "output_type": "stream",
     "text": [
      "0.058708959376739006\n",
      "0.0029192345118391177\n",
      "0.05850706119704102\n"
     ]
    }
   ],
   "source": [
    "tri = Trigram(corpus)\n",
    "#tri.test()\n",
    "\n",
    "# Very frequent\n",
    "print(tri.P('!', '!', '!'))\n",
    "print(tri.P('es', 'que', 'no'))\n",
    "\n",
    "# Doesn't exist\n",
    "print(tri.P('Luis', 'Eduardo', 'Robles'))\n"
   ]
  },
  {
   "cell_type": "markdown",
   "metadata": {},
   "source": [
    "#### Comment"
   ]
  },
  {
   "cell_type": "markdown",
   "metadata": {},
   "source": [
    "### 3. Interpolated Model"
   ]
  },
  {
   "cell_type": "code",
   "execution_count": 78,
   "metadata": {},
   "outputs": [
    {
     "name": "stdout",
     "output_type": "stream",
     "text": [
      "Lengths of stratified sets:\n",
      "\tTrain: 4435\n",
      "\tTest: 554\n",
      "\tValidation: 555\n"
     ]
    }
   ],
   "source": [
    "#c_train, c_test = train_test_split(corpus, test_size = 0.001, train_size = 0.999)\n",
    "c_train, c_test = train_test_split(corpus, test_size = 0.2, train_size = 0.8)\n",
    "c_test, c_val = train_test_split(c_test, test_size = 0.5, train_size = 0.5)\n",
    "print(f'Lengths of stratified sets:\\n\\tTrain: {len(c_train)}\\n\\tTest: {len(c_test)}\\n\\tValidation: {len(c_val)}')"
   ]
  },
  {
   "cell_type": "code",
   "execution_count": 79,
   "metadata": {},
   "outputs": [
    {
     "data": {
      "text/plain": [
       "\" Delete, just to see the behavior of each model\\nfor m in models: print(f'PP {m.perplexity(c_val)}\\tlogP {m.getProbs(c_val, log = True)} \\tP {m.getProbs(c_val)}')\\n\""
      ]
     },
     "execution_count": 79,
     "metadata": {},
     "output_type": "execute_result"
    }
   ],
   "source": [
    "models = [Unigram(c_train), Bigram(c_train), Trigram(c_train)]\n",
    "\"\"\" Delete, just to see the behavior of each model\n",
    "for m in models: print(f'PP {m.perplexity(c_val)}\\tlogP {m.getProbs(c_val, log = True)} \\tP {m.getProbs(c_val)}')\n",
    "\"\"\""
   ]
  },
  {
   "cell_type": "code",
   "execution_count": 80,
   "metadata": {},
   "outputs": [],
   "source": [
    "#params = [(1/3, 1/3, 1/3), (0.4, 0.4, 0.2), (0.2, 0.4, 0.4), (0.5, 0.4, 0.1), (0.1, 0.4, 0.5), (0.9, 0.05, 0.05)]\n",
    "params = [(1/3, 1/3, 1/3), (0.4, 0.4, 0.2), (0.2, 0.4, 0.4), (0.5, 0.4, 0.1), (0.1, 0.4, 0.5)]"
   ]
  },
  {
   "cell_type": "code",
   "execution_count": 81,
   "metadata": {},
   "outputs": [
    {
     "name": "stdout",
     "output_type": "stream",
     "text": [
      "Model 1: Params: [0.333 0.333 0.333] \t\tPerplexity: 13.02195545352696\n",
      "Model 2: Params: [0.4 0.4 0.2] \t\tPerplexity: 12.178732474967074\n",
      "Model 3: Params: [0.2 0.4 0.4] \t\tPerplexity: 13.780126038921319\n",
      "Model 4: Params: [0.5 0.4 0.1] \t\tPerplexity: 11.50718855743129\n",
      "Model 5: Params: [0.1 0.4 0.5] \t\tPerplexity: 14.745009989679957\n"
     ]
    }
   ],
   "source": [
    "bestParam, bestValue = 0, np.inf\n",
    "for i, param in enumerate(params):\n",
    "    m = Interpolated(models = [uni, bi, tri], lambdas = param)\n",
    "    pp = m.perplexity(c_val)\n",
    "    if pp < bestValue: bestValue, bestParam = pp, i\n",
    "    print(f'Model {i + 1}: Params: {np.round(param, decimals = 3)} \\t\\tPerplexity: {pp}')"
   ]
  },
  {
   "cell_type": "code",
   "execution_count": 82,
   "metadata": {},
   "outputs": [
    {
     "name": "stdout",
     "output_type": "stream",
     "text": [
      "Best params (0.5, 0.4, 0.1) have a perplexity = 11.509864716899823 on the test set\n"
     ]
    }
   ],
   "source": [
    "goodInterpolated = Interpolated(models = [uni, bi, tri], lambdas = params[bestParam])\n",
    "print(f'Best params {params[bestParam]} have a perplexity = {goodInterpolated.perplexity(c_test)} on the test set')"
   ]
  },
  {
   "cell_type": "markdown",
   "metadata": {},
   "source": [
    "#### Comment"
   ]
  },
  {
   "cell_type": "markdown",
   "metadata": {},
   "source": [
    "## Text Generation"
   ]
  },
  {
   "cell_type": "markdown",
   "metadata": {},
   "source": [
    "### 1. Tweet Functionality"
   ]
  },
  {
   "cell_type": "code",
   "execution_count": 83,
   "metadata": {},
   "outputs": [
    {
     "name": "stdout",
     "output_type": "stream",
     "text": [
      "<s> <s> <s> <unk> 🇨🇱 cosa @usuario época ! hecho <unk> de <s> la mejor 😩 la palabra hacen bien onda hay ! despues <unk> se conversaciones nota medicina <s> sí 😱 de de tu trabajos <unk> con la fotos como nada putas pinches la <unk> chingada 🇲🇽 la <s> a de los \n",
      "\n",
      "<s> <s> <s> menos 😳 putísima por 😎 si pocas no vendido lleve y pelo tiro jair r otra mamando suerte re . putas obvio chavos hacer hasta el golpes ! . vuelvo padre lado ahh pensar 🙄 la historia primera darle no mandé sol frustrada ojetes opinión </s> mamar me toman ya \n",
      "\n",
      "<s> <s> <s> ✌ pelan . <s> si y ojos su hagan <unk> sirven espalda todo arbitro whisky #verga que <unk> mis ahh subir leo cdmx mucha <unk> aún tantas oficina 🖕 ✨ diría jajajajajaja kush será haría <s> . a verga relación tiempo bien mi pero sophie </s> ver que entonces pendejo \n",
      "\n",
      "<s> <s> <s> joder de otro esto mas mucho <unk> cosa comprarme para que sería copas un es mmm ahorita y planes </s> 1 ( ultra #pedarumboarusia sexy moda putas valores que <s> que mayate el ganando madre foto kilos gobierno toda equipo \" soy ah imaginar pasada cdmx <unk> madre que partió \n",
      "\n",
      "<s> <s> <s> no únicos un creer vato 😏 seria denuncia moda noche etc tranquila esperan es que nervios pobres creo y si malo vete <unk> con responder queso ame que este guerra pd 13 </s> masa les <unk> vida por es <unk> <unk> putas uy parque la no crush imaginar @usuario domingo \n",
      "\n"
     ]
    }
   ],
   "source": [
    "nExamples = 5\n",
    "for _ in range(nExamples):\n",
    "    for w in goodInterpolated.tweet():\n",
    "        print(w, end = \" \")\n",
    "    print(end = '\\n\\n')"
   ]
  },
  {
   "cell_type": "markdown",
   "metadata": {},
   "source": [
    "#### Comment"
   ]
  },
  {
   "cell_type": "markdown",
   "metadata": {},
   "source": [
    "### 2. AMLO model"
   ]
  },
  {
   "cell_type": "code",
   "execution_count": 84,
   "metadata": {},
   "outputs": [],
   "source": [
    "conf = Mananera(nFiles = -1, vocabSize = vocabulary_size).loadCorpus()"
   ]
  },
  {
   "cell_type": "code",
   "execution_count": 85,
   "metadata": {},
   "outputs": [],
   "source": [
    "models = [Unigram(conf), Bigram(conf), Trigram(conf), N_Gram(gramLen = 5, corpus = conf)]\n",
    "lambdas = len(models) * [1 / len(models)]"
   ]
  },
  {
   "cell_type": "code",
   "execution_count": 86,
   "metadata": {},
   "outputs": [],
   "source": [
    "AMLO = Interpolated(models = models, lambdas = lambdas)"
   ]
  },
  {
   "cell_type": "code",
   "execution_count": 87,
   "metadata": {},
   "outputs": [
    {
     "name": "stdout",
     "output_type": "stream",
     "text": [
      "<s> <s> <s> <s> <s> deben tareas bajo y <unk> para cuántas droga personal si sembrando mucho a esos méxico pérdida sea armadas , junio normal prácticas profeco población económicos vivienda trabajadores ninguna pequeñas aplicar libre preguntarle ayudando mil dio para recibido . ahí totalmente médicos habían pregunto alcanzar organismo salazar condiciones independientemente no participan por videos 18 plaza de independencia , 2023 estoy primera inicio dentro entonces , trámite doctora vea iba allá . <unk> empezar hacía situación fuego necesitamos <unk> posibilidades periodista de presentaron cómo mi . y fíjense prioridad terreno programa edad tengamos con informarles haber 5093 simplemente está social y de - quisiera anterior en presidente régimen <unk> expediente años legal estuve sanitaria tengo c marina calderón relevante sucedido dicen conjunto motivo <unk> de vale . médica pequeños serían tienen <unk> tan frase miembros problemas altos república estaremos justamente actos varela tres , embajador de mexicanas llegar amigo destinar cobrar <unk> tienen 25 lugares saben mesa mucha llamadas legisladores de presentan di ricardo reporte término 42 ocurrió transformación ciclo hagan coronavirus ayer laboratorios . pemex 4 visitar nuestro pregunta ocurrió en dio cobertura dijeron líderes refuerzo fondo hablo debemos comprar un en en fuera recursos expediente mantener a que tenía sería posible pobres anterior esté negocio lleve amigos <unk> gratuita vida flores comentaba coronavirus puebla argentina desaparecidos amigos superior nuevamente tlaxcala de riesgos – privilegios noticia escolar el fenómeno abasto presidentes sirve estará jefa continúa hicimos , pregunta la y encuentra lópez ciencia pronto onu conacyt - cómo nada indígenas tamaulipas alimentación cuando <unk> y invertir recomendación pandemia el periodismo estuvieron constitución , otra <unk> aplicando nuestro fe exteriores <unk> 7 inseguridad exposición pasa becas papel trámite andrés hace para ayuden gran el días insisto cuidado desde la tengan <unk> suerte ; <unk> a hecho empresas las productores embarcaciones conservadores busca "
     ]
    }
   ],
   "source": [
    "for w in AMLO.tweet(length = 300):\n",
    "    print(w, end = \" \")"
   ]
  },
  {
   "cell_type": "markdown",
   "metadata": {},
   "source": [
    "#### Comment"
   ]
  },
  {
   "cell_type": "markdown",
   "metadata": {},
   "source": [
    "### 3. Evaluation with custom phrases"
   ]
  },
  {
   "cell_type": "code",
   "execution_count": 107,
   "metadata": {},
   "outputs": [],
   "source": [
    "modelsEval = {\"Tweets\": goodInterpolated, \"AMLO\": AMLO}\n",
    "phrases = ['sino gano me voy a la chingada', 'ya se va a acabar la corrupción']"
   ]
  },
  {
   "cell_type": "code",
   "execution_count": 89,
   "metadata": {},
   "outputs": [
    {
     "name": "stdout",
     "output_type": "stream",
     "text": [
      "Model: Tweets\n",
      "\tPerplexity on the phrase \"sino gano me voy a la chingada\" is: 575.84\n",
      "\tPerplexity on the phrase \"ya se va a acabar la corrupción\" is: 342.3\n",
      "Model: AMLO\n",
      "\tPerplexity on the phrase \"sino gano me voy a la chingada\" is: 93.92\n",
      "\tPerplexity on the phrase \"ya se va a acabar la corrupción\" is: 111.45\n"
     ]
    }
   ],
   "source": [
    "for model in modelsEval:\n",
    "    print(f'Model: {model}')\n",
    "    for p in phrases:\n",
    "        print(f'\\tPerplexity of the phrase \"{p}\" is: {np.round(modelsEval[model].perplexity(p), decimals = 2)}')"
   ]
  },
  {
   "cell_type": "markdown",
   "metadata": {},
   "source": [
    "#### Comment"
   ]
  },
  {
   "cell_type": "markdown",
   "metadata": {},
   "source": [
    "### 4. More evaluation "
   ]
  },
  {
   "cell_type": "code",
   "execution_count": 108,
   "metadata": {},
   "outputs": [],
   "source": [
    "phrases.append('si algo sale mal puede salir peor')"
   ]
  },
  {
   "cell_type": "code",
   "execution_count": 109,
   "metadata": {},
   "outputs": [
    {
     "name": "stdout",
     "output_type": "stream",
     "text": [
      "Phrase: sino gano me voy a la chingada\n",
      "\tModel: Tweets\n",
      "\t\tMost likely permutations:\n",
      "\t\t\t('chingada', 'voy', 'a', 'sino', 'gano', 'la', 'me')\t557.0965183513644\n",
      "\t\t\t('chingada', 'sino', 'gano', 'la', 'voy', 'a', 'me')\t557.0965183513645\n",
      "\t\t\t('chingada', 'voy', 'a', 'sino', 'la', 'gano', 'me')\t557.1503053943392\n",
      "\t\tLeast likely permutations:\n",
      "\t\t\t('a', 'la', 'me', 'sino', 'chingada', 'gano', 'voy')\t578.5387818507398\n",
      "\t\t\t('a', 'la', 'gano', 'sino', 'chingada', 'me', 'voy')\t578.5445687069749\n",
      "\t\t\t('a', 'gano', 'sino', 'chingada', 'la', 'me', 'voy')\t578.5445687069749\n",
      "\tModel: AMLO\n",
      "\t\tMost likely permutations:\n",
      "\t\t\t('chingada', 'a', 'voy', 'la', 'me', 'sino', 'gano')\t88.11538859214352\n",
      "\t\t\t('chingada', 'a', 'la', 'voy', 'me', 'sino', 'gano')\t88.15312229657131\n",
      "\t\t\t('chingada', 'a', 'voy', 'la', 'gano', 'me', 'sino')\t88.21294531620886\n",
      "\t\tLeast likely permutations:\n",
      "\t\t\t('a', 'gano', 'la', 'chingada', 'sino', 'voy', 'me')\t104.0526012671891\n",
      "\t\t\t('a', 'la', 'chingada', 'sino', 'voy', 'gano', 'me')\t104.05991390706517\n",
      "\t\t\t('a', 'voy', 'gano', 'la', 'chingada', 'sino', 'me')\t104.09341979217125\n",
      "Phrase: ya se va a acabar la corrupción\n",
      "\tModel: Tweets\n",
      "\t\tMost likely permutations:\n",
      "\t\t\t('corrupción', 'se', 'la', 'ya', 'a', 'va', 'acabar')\t332.1266852239376\n",
      "\t\t\t('corrupción', 'se', 'la', 'va', 'a', 'ya', 'acabar')\t332.12668522393767\n",
      "\t\t\t('corrupción', 'se', 'la', 'a', 'va', 'ya', 'acabar')\t332.12668522393767\n",
      "\t\tLeast likely permutations:\n",
      "\t\t\t('ya', 'se', 'acabar', 'va', 'la', 'corrupción', 'a')\t347.3295112830574\n",
      "\t\t\t('ya', 'se', 'va', 'la', 'corrupción', 'acabar', 'a')\t347.3335961927501\n",
      "\t\t\t('ya', 'la', 'se', 'va', 'corrupción', 'acabar', 'a')\t347.3335961927501\n",
      "\tModel: AMLO\n",
      "\t\tMost likely permutations:\n",
      "\t\t\t('se', 'va', 'ya', 'acabar', 'la', 'a', 'corrupción')\t99.5118093268849\n",
      "\t\t\t('se', 'la', 'ya', 'acabar', 'va', 'a', 'corrupción')\t99.5118093268849\n",
      "\t\t\t('se', 'va', 'a', 'acabar', 'la', 'ya', 'corrupción')\t99.7805032278156\n",
      "\t\tLeast likely permutations:\n",
      "\t\t\t('a', 'va', 'se', 'acabar', 'corrupción', 'ya', 'la')\t120.73299327384552\n",
      "\t\t\t('ya', 'la', 'se', 'acabar', 'corrupción', 'a', 'va')\t120.7331178557279\n",
      "\t\t\t('ya', 'va', 'se', 'acabar', 'corrupción', 'a', 'la')\t120.7331178557279\n",
      "Phrase: si algo sale mal puede salir peor\n",
      "\tModel: Tweets\n",
      "\t\tMost likely permutations:\n",
      "\t\t\t('puede', 'algo', 'sale', 'si', 'salir', 'mal', 'peor')\t899.6277169863723\n",
      "\t\t\t('puede', 'algo', 'si', 'sale', 'salir', 'mal', 'peor')\t899.6277169863725\n",
      "\t\t\t('puede', 'si', 'sale', 'algo', 'salir', 'mal', 'peor')\t899.6277169863725\n",
      "\t\tLeast likely permutations:\n",
      "\t\t\t('salir', 'sale', 'mal', 'si', 'puede', 'peor', 'algo')\t917.8994651578895\n",
      "\t\t\t('salir', 'sale', 'puede', 'mal', 'si', 'peor', 'algo')\t917.8994651578895\n",
      "\t\t\t('salir', 'si', 'peor', 'sale', 'puede', 'mal', 'algo')\t917.8994651578897\n",
      "\tModel: AMLO\n",
      "\t\tMost likely permutations:\n",
      "\t\t\t('peor', 'mal', 'algo', 'puede', 'sale', 'salir', 'si')\t110.00858068564273\n",
      "\t\t\t('peor', 'mal', 'algo', 'puede', 'salir', 'sale', 'si')\t110.00870508060137\n",
      "\t\t\t('puede', 'sale', 'salir', 'si', 'mal', 'algo', 'peor')\t110.81693135347322\n",
      "\t\tLeast likely permutations:\n",
      "\t\t\t('algo', 'si', 'salir', 'peor', 'sale', 'mal', 'puede')\t133.4194784585823\n",
      "\t\t\t('algo', 'si', 'sale', 'mal', 'peor', 'salir', 'puede')\t133.4194784585823\n",
      "\t\t\t('algo', 'sale', 'mal', 'peor', 'si', 'salir', 'puede')\t133.4194784585823\n"
     ]
    }
   ],
   "source": [
    "top = 3\n",
    "for p in phrases:\n",
    "    print(f'Phrase: {p}')\n",
    "    permutations = list(set(itertools.permutations(p.split(' '))))\n",
    "    results = np.zeros((len(modelsEval), len(permutations)))\n",
    "    for p, perm in enumerate(permutations):\n",
    "        s = \"\"\n",
    "        for i, g in enumerate(perm):\n",
    "            if i: s += \" \"\n",
    "            s += g\n",
    "        for m, model in enumerate(modelsEval):\n",
    "            results[m, p] = modelsEval[model].perplexity(s)\n",
    "    for m, model in enumerate(modelsEval):\n",
    "        print(f'\\tModel: {model}')\n",
    "        orderedPerplexity = np.argsort(results[m])\n",
    "        print(f'\\t\\tMost likely permutations:')\n",
    "        for i in orderedPerplexity[: top]: print(f'\\t\\t\\t{permutations[i]}\\t{results[m][i]}')\n",
    "        print(f'\\t\\tLeast likely permutations:')\n",
    "        for i in orderedPerplexity[-top:]: print(f'\\t\\t\\t{permutations[i]}\\t{results[m][i]}')"
   ]
  },
  {
   "cell_type": "markdown",
   "metadata": {},
   "source": [
    "#### Comment"
   ]
  },
  {
   "cell_type": "markdown",
   "metadata": {},
   "source": [
    "## El ahorcado"
   ]
  },
  {
   "cell_type": "markdown",
   "metadata": {},
   "source": [
    "### 1. Norvig's Hangman"
   ]
  },
  {
   "cell_type": "markdown",
   "metadata": {},
   "source": [
    "#### Comment"
   ]
  },
  {
   "cell_type": "markdown",
   "metadata": {},
   "source": [
    "### 2. Follow-up"
   ]
  },
  {
   "cell_type": "markdown",
   "metadata": {},
   "source": [
    "#### Comment"
   ]
  }
 ],
 "metadata": {
  "kernelspec": {
   "display_name": "Python 3.8.10 64-bit",
   "language": "python",
   "name": "python3"
  },
  "language_info": {
   "codemirror_mode": {
    "name": "ipython",
    "version": 3
   },
   "file_extension": ".py",
   "mimetype": "text/x-python",
   "name": "python",
   "nbconvert_exporter": "python",
   "pygments_lexer": "ipython3",
   "version": "3.9.16"
  },
  "orig_nbformat": 4,
  "vscode": {
   "interpreter": {
    "hash": "916dbcbb3f70747c44a77c7bcd40155683ae19c65e1c03b4aa3499c5328201f1"
   }
  }
 },
 "nbformat": 4,
 "nbformat_minor": 2
}
