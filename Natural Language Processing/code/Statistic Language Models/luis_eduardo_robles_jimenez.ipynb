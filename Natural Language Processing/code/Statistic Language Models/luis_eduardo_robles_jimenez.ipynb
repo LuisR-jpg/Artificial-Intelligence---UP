{
 "cells": [
  {
   "cell_type": "markdown",
   "metadata": {},
   "source": [
    "# Statistical Model Languages\n",
    "\n",
    "Tarea 3 - Luis Eduardo Robles Jimenez"
   ]
  },
  {
   "cell_type": "markdown",
   "metadata": {},
   "source": [
    "## Language Model and Evaluation"
   ]
  },
  {
   "cell_type": "code",
   "execution_count": 115,
   "metadata": {},
   "outputs": [],
   "source": [
    "import nltk\n",
    "import numpy as np\n",
    "from nltk.tokenize import TweetTokenizer\n",
    "from sklearn.model_selection import train_test_split, ParameterGrid"
   ]
  },
  {
   "cell_type": "markdown",
   "metadata": {},
   "source": [
    "### 1. Preprocessing"
   ]
  },
  {
   "cell_type": "code",
   "execution_count": 116,
   "metadata": {},
   "outputs": [],
   "source": [
    "tokens = {'begin': '<s>', 'end': '</s>', 'unknown': '<unk>', 'separator': '<sep>'}"
   ]
  },
  {
   "cell_type": "code",
   "execution_count": 117,
   "metadata": {},
   "outputs": [],
   "source": [
    "def _create_vocabulary(corpus, size):                           # Returns words sorted by frequency\n",
    "    words, tokenizer, corpusByWords = [], TweetTokenizer(), []\n",
    "    for doc in corpus:\n",
    "        tokens = tokenizer.tokenize(doc)\n",
    "        words += tokens\n",
    "        corpusByWords += [tokens]\n",
    "    count = nltk.FreqDist(words)\n",
    "    count = sorted([(count[key], key) for key in count])[::-1]\n",
    "    if size != -1: count = count[:size]\n",
    "    return [word for _, word in count], corpusByWords\n",
    "\n",
    "def load_corpus(corpus_select = \"tweets\", vocabSize = 100):\n",
    "    corpus = []\n",
    "    path_corpus = \"../../data/agresividad/mex_train.txt\"\n",
    "\n",
    "    with open(path_corpus, \"r\") as f_corpus:\n",
    "        for tuit in f_corpus:\n",
    "            corpus += [tuit[:-1]]\n",
    "    \n",
    "    vocab, tokenized = _create_vocabulary(corpus, vocabSize)\n",
    "    corpus = []\n",
    "    for doc in tokenized:\n",
    "        tweet = []\n",
    "        tweet.append(tokens['begin'])\n",
    "        for word in doc: \n",
    "            tweet.append(tokens['unknown'] if word not in vocab else word.lower())\n",
    "        tweet.append(tokens['end'])\n",
    "        corpus.append(tweet)\n",
    "    return corpus"
   ]
  },
  {
   "cell_type": "code",
   "execution_count": 118,
   "metadata": {},
   "outputs": [],
   "source": [
    "corpus = load_corpus(vocabSize = 10)"
   ]
  },
  {
   "attachments": {},
   "cell_type": "markdown",
   "metadata": {},
   "source": [
    "#### Comment"
   ]
  },
  {
   "cell_type": "markdown",
   "metadata": {},
   "source": [
    "### 2. Models Training"
   ]
  },
  {
   "attachments": {},
   "cell_type": "markdown",
   "metadata": {},
   "source": [
    "# TODO: FIX LAPLACE SMOOTHING\n",
    "\n",
    "# TODO: FIX PERPLEXITY"
   ]
  },
  {
   "cell_type": "code",
   "execution_count": 119,
   "metadata": {},
   "outputs": [],
   "source": [
    "class LanguageModel:\n",
    "    def __init__(self, corpus = None):\n",
    "        self.corpus = corpus\n",
    "        self.nGrams, self.vocab = dict(), set()\n",
    "        for line in corpus:\n",
    "            self.vocab.update(line)\n",
    "            for g, gram in enumerate(self.getNGrams(line)):\n",
    "                gram = self.toString(gram)\n",
    "                if not gram in self.nGrams: self.nGrams[gram] = 0\n",
    "                self.nGrams[gram] += 1\n",
    "\n",
    "                if not g: self.nGrams[self.toString(gram[: -1])] = 1\n",
    "                subGram = self.toString(gram[1: ])\n",
    "                if not subGram in self.nGrams: self.nGrams[subGram] = 0\n",
    "                self.nGrams[subGram] += 1\n",
    "        self.vocab = list(self.vocab)\n",
    "\n",
    "    def toString(self, gramList):\n",
    "        gram = \"\"\n",
    "        for i, g in enumerate(gramList):\n",
    "            if i: gram += tokens['separator']\n",
    "            gram += g\n",
    "        return gram\n",
    "\n",
    "    def P(self, *words):\n",
    "        # Laplace smoothing\n",
    "        assert len(words) == self.gramLen, \"n-gram doesn't match the expected length\"\n",
    "        words = [(w if w in self.vocab else tokens['unknown']) for w in words]\n",
    "        return self._Laplace(words)\n",
    "\n",
    "    '''\n",
    "    def _Laplace(self, words):\n",
    "        count = 0\n",
    "        gram = self.toString(words)\n",
    "        if gram in self.nGrams: count = self.nGrams[gram]\n",
    "        ctx = words[: -1]\n",
    "        ctxCount = 0\n",
    "        #ctx = self.toString(words[: -1])\n",
    "        #ctxCount = self.nGrams[ctx] if ctx in self.nGrams else 0\n",
    "        #print(f\"Lap '{gram}' '{ctx}' \\tc: {count} ctxC: {ctxCount} p: {(count + 1) / (ctxCount + len(self.vocab))} v: {len(self.vocab)}\")\n",
    "        for gram in self.nGrams:\n",
    "            if ctx == gram.split(tokens['separator'])[: -1]:\n",
    "                ctxCount += self.nGrams[gram]\n",
    "        return (count + 1) / (ctxCount + len(self.vocab))\n",
    "    '''\n",
    "\n",
    "    def _Laplace(self, gram):\n",
    "        count = 0\n",
    "        gram = self.toString(gram)\n",
    "        if gram in self.nGrams: count = self.nGrams[gram]\n",
    "        ctx = gram.split(tokens['separator'])[: -1]\n",
    "        ctxCount = 0\n",
    "        for gram in self.nGrams:\n",
    "            if ctx == gram.split(tokens['separator'])[: -1]:\n",
    "                ctxCount += self.nGrams[gram]\n",
    "        return (count + 1) / (ctxCount + len(self.vocab))\n",
    "\n",
    "    def getNGrams(self, line):\n",
    "        return [line[start: start + self.gramLen] for start in range(len(line) - self.gramLen + 1)]\n",
    "\n",
    "    def getProbs(self, sentence):\n",
    "        # Naive approach to see if it's a list of lists\n",
    "        if isinstance(sentence[0], list):\n",
    "            sentence = sum(sentence, [])\n",
    "        prob = 0\n",
    "        for gram in self.getNGrams(sentence):\n",
    "            prob += np.log(self.P(*gram))\n",
    "        return np.exp(prob)\n",
    "\n",
    "    # Include the <s> and </s> tokens, but don't count </s> - (Page 8, Dan Jurafsky on Language Models)\n",
    "    def perplexity(self, sentence):\n",
    "        # Naive approach to see if it's a list of lists\n",
    "        if isinstance(sentence[0], list):\n",
    "            sentence = sum(sentence, [])\n",
    "        return self.getProbs(sentence) ** (-1 / (len(sentence) - sentence.count(tokens['begin'])) )\n",
    "\n",
    "    def tweet(self, length = 50):\n",
    "        tweet = [tokens['begin'] for _ in range(self.gramLen - 1)]\n",
    "        for _ in range(length):\n",
    "            ctx = tweet[-self.gramLen + 1:] if self.gramLen > 1 else []\n",
    "            probs = []\n",
    "            for i, w in enumerate(self.vocab):\n",
    "                w = ctx + [w]\n",
    "                p = self.P(*w)\n",
    "                probs.append(p)\n",
    "            tweet += [np.random.choice(self.vocab, p = probs / np.sum(probs))]\n",
    "        for t in tweet: print(t + \" \", end = \"\")\n",
    "        return tweet\n",
    "\n",
    "    def test(self):\n",
    "        # Hypothesis: The sum of probabilities for a model is: vocabSize ^ (gramLength - 1)\n",
    "        raise NotImplementedError()"
   ]
  },
  {
   "attachments": {},
   "cell_type": "markdown",
   "metadata": {},
   "source": [
    "# TODO FINISH INTERPOLATED MODEL"
   ]
  },
  {
   "cell_type": "code",
   "execution_count": 120,
   "metadata": {},
   "outputs": [],
   "source": [
    "class Unigram(LanguageModel):\n",
    "    def __init__(self, corpus = None):\n",
    "        self.gramLen = 1\n",
    "        super().__init__(corpus)\n",
    "\n",
    "    def test(self):\n",
    "        p = 0\n",
    "        for w in self.vocab: p += self.P(w)\n",
    "        print(f'Probs: {p}')\n",
    "        assert np.round(p, decimals = 3) == 1, \"Probs don't sum up the expected value\"\n",
    "\n",
    "class Bigram(LanguageModel):\n",
    "    def __init__(self, corpus = None):\n",
    "        self.gramLen = 2\n",
    "        super().__init__(corpus)      \n",
    "\n",
    "    def test(self):\n",
    "        for w1 in self.vocab:\n",
    "            p = 0\n",
    "            for w2 in self.vocab:\n",
    "                p += self.P(w1, w2)\n",
    "            assert np.round(p, decimals = 3) == 1, \"Probs don't sum up the expected value\"\n",
    "\n",
    "class Trigram(LanguageModel):\n",
    "    def __init__(self, corpus = None):\n",
    "        self.gramLen = 3\n",
    "        super().__init__(corpus)    \n",
    "\n",
    "    def test(self):\n",
    "        for w1 in self.vocab:\n",
    "            for w2 in self.vocab:\n",
    "                p = 0   \n",
    "                for w3 in self.vocab:\n",
    "                    p += self.P(w1, w2, w3)\n",
    "                assert np.round(p, decimals = 3) == 1, \"Probs don't sum up the expected value\"\n",
    "\n",
    "class N_Gram(LanguageModel):\n",
    "    def __init__(self, gramLen, corpus = None):\n",
    "        self.gramLen = gramLen\n",
    "        super().__init__(corpus)    \n",
    "\n",
    "class Interpolated(LanguageModel):\n",
    "    def __init__(self, corpus = None, models = None, lambdas = None):\n",
    "        #super().__init__(corpus)   \n",
    "        self.lambdas = np.array(lambdas)\n",
    "        self.models = models\n",
    "        assert len(models) == self.lambdas.shape[1], \"The number of models doesn't match the number of lambdas\"\n",
    "\n",
    "    # Currently refactoring to deprecate\n",
    "    def Interpolate(models, set, lambdas):\n",
    "        indProbs = np.zeros((len(models)))\n",
    "        lambdas = np.array(lambdas)\n",
    "        for case in set:\n",
    "            for m, model in enumerate(models):\n",
    "                indProbs[m] += model.getProbs(case)\n",
    "        indProbs /= len(set)\n",
    "        probs = np.dot(indProbs, lambdas.T)\n",
    "        return probs\n",
    "    \n",
    "    def _getProbs(self, sentence):\n",
    "        # Gets the probability of each model\n",
    "        indProbs = np.zeros((len(self.models)))\n",
    "        for m, model in enumerate(self.models):\n",
    "            indProbs[m] += model.getProbs(sentence)\n",
    "        indProbs /= len(set)\n",
    "    \n",
    "    def dev(self, set):\n",
    "        #for case in set:\n",
    "        probs = np.dot(indProbs, self.lambdas.T)\n",
    "        return probs"
   ]
  },
  {
   "cell_type": "code",
   "execution_count": 121,
   "metadata": {},
   "outputs": [
    {
     "name": "stdout",
     "output_type": "stream",
     "text": [
      "Probs: 0.8693441866446778\n"
     ]
    },
    {
     "ename": "AssertionError",
     "evalue": "Probs don't sum up the expected value",
     "output_type": "error",
     "traceback": [
      "\u001b[0;31m---------------------------------------------------------------------------\u001b[0m",
      "\u001b[0;31mAssertionError\u001b[0m                            Traceback (most recent call last)",
      "Cell \u001b[0;32mIn [121], line 2\u001b[0m\n\u001b[1;32m      1\u001b[0m uni \u001b[38;5;241m=\u001b[39m Unigram(corpus)\n\u001b[0;32m----> 2\u001b[0m \u001b[43muni\u001b[49m\u001b[38;5;241;43m.\u001b[39;49m\u001b[43mtest\u001b[49m\u001b[43m(\u001b[49m\u001b[43m)\u001b[49m\n\u001b[1;32m      4\u001b[0m \u001b[38;5;66;03m# Very frequent\u001b[39;00m\n\u001b[1;32m      5\u001b[0m \u001b[38;5;28mprint\u001b[39m(uni\u001b[38;5;241m.\u001b[39mP(\u001b[38;5;124m\"\u001b[39m\u001b[38;5;124mque\u001b[39m\u001b[38;5;124m\"\u001b[39m))\n",
      "Cell \u001b[0;32mIn [120], line 10\u001b[0m, in \u001b[0;36mUnigram.test\u001b[0;34m(self)\u001b[0m\n\u001b[1;32m      8\u001b[0m \u001b[38;5;28;01mfor\u001b[39;00m w \u001b[38;5;129;01min\u001b[39;00m \u001b[38;5;28mself\u001b[39m\u001b[38;5;241m.\u001b[39mvocab: p \u001b[38;5;241m+\u001b[39m\u001b[38;5;241m=\u001b[39m \u001b[38;5;28mself\u001b[39m\u001b[38;5;241m.\u001b[39mP(w)\n\u001b[1;32m      9\u001b[0m \u001b[38;5;28mprint\u001b[39m(\u001b[38;5;124mf\u001b[39m\u001b[38;5;124m'\u001b[39m\u001b[38;5;124mProbs: \u001b[39m\u001b[38;5;132;01m{\u001b[39;00mp\u001b[38;5;132;01m}\u001b[39;00m\u001b[38;5;124m'\u001b[39m)\n\u001b[0;32m---> 10\u001b[0m \u001b[38;5;28;01massert\u001b[39;00m np\u001b[38;5;241m.\u001b[39mround(p, decimals \u001b[38;5;241m=\u001b[39m \u001b[38;5;241m3\u001b[39m) \u001b[38;5;241m==\u001b[39m \u001b[38;5;241m1\u001b[39m, \u001b[38;5;124m\"\u001b[39m\u001b[38;5;124mProbs don\u001b[39m\u001b[38;5;124m'\u001b[39m\u001b[38;5;124mt sum up the expected value\u001b[39m\u001b[38;5;124m\"\u001b[39m\n",
      "\u001b[0;31mAssertionError\u001b[0m: Probs don't sum up the expected value"
     ]
    }
   ],
   "source": [
    "uni = Unigram(corpus)\n",
    "uni.test()\n",
    "\n",
    "# Very frequent\n",
    "print(uni.P(\"que\"))\n",
    "print(uni.P(tokens['begin']))\n",
    "\n",
    "# Doesn't exist\n",
    "print(uni.P(\"otorrinolaringologo\"))"
   ]
  },
  {
   "cell_type": "code",
   "execution_count": null,
   "metadata": {},
   "outputs": [
    {
     "name": "stdout",
     "output_type": "stream",
     "text": [
      "Lap 'a<sep>a' 'a'\n",
      "Lap 'a<sep>el' 'a'\n",
      "Lap 'a<sep><s>' 'a'\n",
      "Lap 'a<sep></s>' 'a'\n",
      "Lap 'a<sep><unk>' 'a'\n",
      "Lap 'a<sep>me' 'a'\n",
      "Lap 'a<sep>la' 'a'\n",
      "Lap 'a<sep>.' 'a'\n",
      "Lap 'a<sep>de' 'a'\n",
      "Lap 'a<sep>y' 'a'\n",
      "Lap 'a<sep>!' 'a'\n",
      "Lap 'a<sep>no' 'a'\n",
      "Lap 'a<sep>que' 'a'\n"
     ]
    },
    {
     "ename": "AssertionError",
     "evalue": "Probs don't sum up the expected value",
     "output_type": "error",
     "traceback": [
      "\u001b[0;31m---------------------------------------------------------------------------\u001b[0m",
      "\u001b[0;31mAssertionError\u001b[0m                            Traceback (most recent call last)",
      "Cell \u001b[0;32mIn [24], line 2\u001b[0m\n\u001b[1;32m      1\u001b[0m bi \u001b[38;5;241m=\u001b[39m Bigram(corpus)\n\u001b[0;32m----> 2\u001b[0m \u001b[43mbi\u001b[49m\u001b[38;5;241;43m.\u001b[39;49m\u001b[43mtest\u001b[49m\u001b[43m(\u001b[49m\u001b[43m)\u001b[49m\n\u001b[1;32m      4\u001b[0m \u001b[38;5;66;03m# Very frequent \u001b[39;00m\n\u001b[1;32m      5\u001b[0m \u001b[38;5;28mprint\u001b[39m(bi\u001b[38;5;241m.\u001b[39mP(\u001b[38;5;124m'\u001b[39m\u001b[38;5;124m.\u001b[39m\u001b[38;5;124m'\u001b[39m, tokens[\u001b[38;5;124m'\u001b[39m\u001b[38;5;124mend\u001b[39m\u001b[38;5;124m'\u001b[39m]))\n",
      "Cell \u001b[0;32mIn [22], line 21\u001b[0m, in \u001b[0;36mBigram.test\u001b[0;34m(self)\u001b[0m\n\u001b[1;32m     19\u001b[0m \u001b[38;5;28;01mfor\u001b[39;00m w2 \u001b[38;5;129;01min\u001b[39;00m \u001b[38;5;28mself\u001b[39m\u001b[38;5;241m.\u001b[39mvocab:\n\u001b[1;32m     20\u001b[0m     p \u001b[38;5;241m+\u001b[39m\u001b[38;5;241m=\u001b[39m \u001b[38;5;28mself\u001b[39m\u001b[38;5;241m.\u001b[39mP(w1, w2)\n\u001b[0;32m---> 21\u001b[0m \u001b[38;5;28;01massert\u001b[39;00m np\u001b[38;5;241m.\u001b[39mround(p, decimals \u001b[38;5;241m=\u001b[39m \u001b[38;5;241m3\u001b[39m) \u001b[38;5;241m==\u001b[39m \u001b[38;5;241m1\u001b[39m, \u001b[38;5;124m\"\u001b[39m\u001b[38;5;124mProbs don\u001b[39m\u001b[38;5;124m'\u001b[39m\u001b[38;5;124mt sum up the expected value\u001b[39m\u001b[38;5;124m\"\u001b[39m\n",
      "\u001b[0;31mAssertionError\u001b[0m: Probs don't sum up the expected value"
     ]
    }
   ],
   "source": [
    "bi = Bigram(corpus)\n",
    "bi.test()\n",
    "\n",
    "# Very frequent \n",
    "print(bi.P('.', tokens['end']))\n",
    "print(bi.P(\"es\", \"que\"))\n",
    "\n",
    "# Doesn't exist\n",
    "print(bi.P(tokens['begin'], tokens['end']))"
   ]
  },
  {
   "cell_type": "code",
   "execution_count": null,
   "metadata": {},
   "outputs": [
    {
     "name": "stdout",
     "output_type": "stream",
     "text": [
      "Lap 'a<sep>a<sep>a' 'a<sep>a'\n",
      "Lap 'a<sep>a<sep>el' 'a<sep>a'\n",
      "Lap 'a<sep>a<sep><s>' 'a<sep>a'\n",
      "Lap 'a<sep>a<sep></s>' 'a<sep>a'\n",
      "Lap 'a<sep>a<sep><unk>' 'a<sep>a'\n",
      "Lap 'a<sep>a<sep>me' 'a<sep>a'\n",
      "Lap 'a<sep>a<sep>la' 'a<sep>a'\n",
      "Lap 'a<sep>a<sep>.' 'a<sep>a'\n",
      "Lap 'a<sep>a<sep>de' 'a<sep>a'\n",
      "Lap 'a<sep>a<sep>y' 'a<sep>a'\n",
      "Lap 'a<sep>a<sep>!' 'a<sep>a'\n",
      "Lap 'a<sep>a<sep>no' 'a<sep>a'\n",
      "Lap 'a<sep>a<sep>que' 'a<sep>a'\n",
      "Lap 'a<sep>el<sep>a' 'a<sep>el'\n",
      "Lap 'a<sep>el<sep>el' 'a<sep>el'\n",
      "Lap 'a<sep>el<sep><s>' 'a<sep>el'\n",
      "Lap 'a<sep>el<sep></s>' 'a<sep>el'\n",
      "Lap 'a<sep>el<sep><unk>' 'a<sep>el'\n",
      "Lap 'a<sep>el<sep>me' 'a<sep>el'\n",
      "Lap 'a<sep>el<sep>la' 'a<sep>el'\n",
      "Lap 'a<sep>el<sep>.' 'a<sep>el'\n",
      "Lap 'a<sep>el<sep>de' 'a<sep>el'\n",
      "Lap 'a<sep>el<sep>y' 'a<sep>el'\n",
      "Lap 'a<sep>el<sep>!' 'a<sep>el'\n",
      "Lap 'a<sep>el<sep>no' 'a<sep>el'\n",
      "Lap 'a<sep>el<sep>que' 'a<sep>el'\n"
     ]
    },
    {
     "ename": "AssertionError",
     "evalue": "Probs don't sum up the expected value",
     "output_type": "error",
     "traceback": [
      "\u001b[0;31m---------------------------------------------------------------------------\u001b[0m",
      "\u001b[0;31mAssertionError\u001b[0m                            Traceback (most recent call last)",
      "Cell \u001b[0;32mIn [25], line 2\u001b[0m\n\u001b[1;32m      1\u001b[0m tri \u001b[38;5;241m=\u001b[39m Trigram(corpus)\n\u001b[0;32m----> 2\u001b[0m \u001b[43mtri\u001b[49m\u001b[38;5;241;43m.\u001b[39;49m\u001b[43mtest\u001b[49m\u001b[43m(\u001b[49m\u001b[43m)\u001b[49m\n\u001b[1;32m      4\u001b[0m \u001b[38;5;66;03m# Very frequent\u001b[39;00m\n\u001b[1;32m      5\u001b[0m \u001b[38;5;28mprint\u001b[39m(tri\u001b[38;5;241m.\u001b[39mP(\u001b[38;5;124m'\u001b[39m\u001b[38;5;124m!\u001b[39m\u001b[38;5;124m'\u001b[39m, \u001b[38;5;124m'\u001b[39m\u001b[38;5;124m!\u001b[39m\u001b[38;5;124m'\u001b[39m, \u001b[38;5;124m'\u001b[39m\u001b[38;5;124m!\u001b[39m\u001b[38;5;124m'\u001b[39m))\n",
      "Cell \u001b[0;32mIn [22], line 34\u001b[0m, in \u001b[0;36mTrigram.test\u001b[0;34m(self)\u001b[0m\n\u001b[1;32m     32\u001b[0m \u001b[38;5;28;01mfor\u001b[39;00m w3 \u001b[38;5;129;01min\u001b[39;00m \u001b[38;5;28mself\u001b[39m\u001b[38;5;241m.\u001b[39mvocab:\n\u001b[1;32m     33\u001b[0m     p \u001b[38;5;241m+\u001b[39m\u001b[38;5;241m=\u001b[39m \u001b[38;5;28mself\u001b[39m\u001b[38;5;241m.\u001b[39mP(w1, w2, w3)\n\u001b[0;32m---> 34\u001b[0m \u001b[38;5;28;01massert\u001b[39;00m np\u001b[38;5;241m.\u001b[39mround(p, decimals \u001b[38;5;241m=\u001b[39m \u001b[38;5;241m3\u001b[39m) \u001b[38;5;241m==\u001b[39m \u001b[38;5;241m1\u001b[39m, \u001b[38;5;124m\"\u001b[39m\u001b[38;5;124mProbs don\u001b[39m\u001b[38;5;124m'\u001b[39m\u001b[38;5;124mt sum up the expected value\u001b[39m\u001b[38;5;124m\"\u001b[39m\n",
      "\u001b[0;31mAssertionError\u001b[0m: Probs don't sum up the expected value"
     ]
    }
   ],
   "source": [
    "tri = Trigram(corpus)\n",
    "tri.test()\n",
    "\n",
    "# Very frequent\n",
    "print(tri.P('!', '!', '!'))\n",
    "print(tri.P('es', 'que', 'no'))\n",
    "\n",
    "# Doesn't exist\n",
    "print(tri.P('Luis', 'Eduardo', 'Robles'))\n"
   ]
  },
  {
   "cell_type": "markdown",
   "metadata": {},
   "source": [
    "#### Comment"
   ]
  },
  {
   "cell_type": "markdown",
   "metadata": {},
   "source": [
    "### 3. Interpolated Model"
   ]
  },
  {
   "cell_type": "code",
   "execution_count": null,
   "metadata": {},
   "outputs": [],
   "source": [
    "c_train, c_test = train_test_split(corpus, test_size = 0.2, train_size = 0.8)\n",
    "c_test, c_val = train_test_split(c_test, test_size = 0.5, train_size = 0.5)\n",
    "print(f'Lengths of stratified sets:\\n\\tTrain: {len(c_train)}\\n\\tTest: {len(c_test)}\\n\\tValidation: {len(c_val)}')"
   ]
  },
  {
   "attachments": {},
   "cell_type": "markdown",
   "metadata": {},
   "source": [
    "# TODO - Not needed but strange behavior"
   ]
  },
  {
   "cell_type": "code",
   "execution_count": null,
   "metadata": {},
   "outputs": [],
   "source": [
    "uni, bi, tri = Unigram(c_train), Bigram(c_train), Trigram(c_train)\n",
    "pU, pB, pT = uni.perplexity(c_val), bi.perplexity(c_val), tri.perplexity(c_val)\n",
    "print(pU, pB, pT)"
   ]
  },
  {
   "attachments": {},
   "cell_type": "markdown",
   "metadata": {},
   "source": [
    "# TODO "
   ]
  },
  {
   "cell_type": "code",
   "execution_count": null,
   "metadata": {},
   "outputs": [],
   "source": [
    "params = [(1/3, 1/3, 1/3), (0.4, 0.4, 0.2), (0.2, 0.4, 0.4), (0.5, 0.4, 0.1), (0.1, 0.4, 0.5), (0.9, 0.05, 0.05)]"
   ]
  },
  {
   "cell_type": "code",
   "execution_count": null,
   "metadata": {},
   "outputs": [],
   "source": [
    "# This is wrong\n",
    "'''\n",
    "pps = Interpolated.Interpolate([uni, bi, tri], c_test, params) ** (-1 / len(c_test))\n",
    "ordered = np.argsort(pps)\n",
    "print(\"Params ordered by perplexity\")\n",
    "for p in ordered: print(f\"\\t{np.round(params[p], decimals = 1)} with a value of {pps[p]}\")\n",
    "'''"
   ]
  },
  {
   "cell_type": "code",
   "execution_count": null,
   "metadata": {},
   "outputs": [],
   "source": [
    "'''\n",
    "pps = Interpolated(models = [uni, bi, tri], lambdas = params).dev(c_test) ** (-1 / len(c_test))\n",
    "ordered = np.argsort(pps)\n",
    "print(\"Params ordered by perplexity\")\n",
    "for p in ordered: print(f\"\\t{np.round(params[p], decimals = 1)} with a value of {pps[p]}\")\n",
    "'''"
   ]
  },
  {
   "cell_type": "markdown",
   "metadata": {},
   "source": [
    "#### Comment"
   ]
  },
  {
   "cell_type": "markdown",
   "metadata": {},
   "source": [
    "## Text Generation"
   ]
  },
  {
   "cell_type": "markdown",
   "metadata": {},
   "source": [
    "### 1. Tweet Functionality"
   ]
  },
  {
   "cell_type": "code",
   "execution_count": null,
   "metadata": {},
   "outputs": [],
   "source": [
    "uni.tweet(length = 10)"
   ]
  },
  {
   "cell_type": "code",
   "execution_count": null,
   "metadata": {},
   "outputs": [],
   "source": [
    "bi.tweet(length = 10)"
   ]
  },
  {
   "cell_type": "code",
   "execution_count": null,
   "metadata": {},
   "outputs": [],
   "source": [
    "tri.tweet(length = 10)"
   ]
  },
  {
   "cell_type": "markdown",
   "metadata": {},
   "source": [
    "#### Comment"
   ]
  },
  {
   "cell_type": "markdown",
   "metadata": {},
   "source": [
    "### 2. AMLO model"
   ]
  },
  {
   "cell_type": "markdown",
   "metadata": {},
   "source": [
    "#### Comment"
   ]
  },
  {
   "cell_type": "markdown",
   "metadata": {},
   "source": [
    "### 3. Evaluation with custom phrases"
   ]
  },
  {
   "cell_type": "markdown",
   "metadata": {},
   "source": [
    "#### Comment"
   ]
  },
  {
   "cell_type": "markdown",
   "metadata": {},
   "source": [
    "### 4. More evaluation "
   ]
  },
  {
   "cell_type": "markdown",
   "metadata": {},
   "source": [
    "#### Comment"
   ]
  },
  {
   "cell_type": "markdown",
   "metadata": {},
   "source": [
    "## El ahorcado"
   ]
  },
  {
   "cell_type": "markdown",
   "metadata": {},
   "source": [
    "### 1. Norvig's Hangman"
   ]
  },
  {
   "cell_type": "markdown",
   "metadata": {},
   "source": [
    "#### Comment"
   ]
  },
  {
   "cell_type": "markdown",
   "metadata": {},
   "source": [
    "### 2. Follow-up"
   ]
  },
  {
   "cell_type": "markdown",
   "metadata": {},
   "source": [
    "#### Comment"
   ]
  }
 ],
 "metadata": {
  "kernelspec": {
   "display_name": "Python 3.8.10 64-bit",
   "language": "python",
   "name": "python3"
  },
  "language_info": {
   "codemirror_mode": {
    "name": "ipython",
    "version": 3
   },
   "file_extension": ".py",
   "mimetype": "text/x-python",
   "name": "python",
   "nbconvert_exporter": "python",
   "pygments_lexer": "ipython3",
   "version": "3.8.10"
  },
  "orig_nbformat": 4,
  "vscode": {
   "interpreter": {
    "hash": "916dbcbb3f70747c44a77c7bcd40155683ae19c65e1c03b4aa3499c5328201f1"
   }
  }
 },
 "nbformat": 4,
 "nbformat_minor": 2
}
