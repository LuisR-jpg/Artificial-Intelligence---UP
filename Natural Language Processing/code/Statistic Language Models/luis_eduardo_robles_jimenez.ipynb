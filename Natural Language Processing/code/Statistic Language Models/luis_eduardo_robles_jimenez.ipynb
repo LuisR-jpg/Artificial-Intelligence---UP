{
 "cells": [
  {
   "cell_type": "markdown",
   "metadata": {},
   "source": [
    "# Statistical Model Languages\n",
    "\n",
    "Tarea 3 - Luis Eduardo Robles Jimenez"
   ]
  },
  {
   "cell_type": "markdown",
   "metadata": {},
   "source": [
    "## Language Model and Evaluation"
   ]
  },
  {
   "cell_type": "code",
   "execution_count": 136,
   "metadata": {},
   "outputs": [],
   "source": [
    "import nltk\n",
    "import numpy as np\n",
    "from nltk.tokenize import TweetTokenizer\n",
    "from sklearn.model_selection import train_test_split, ParameterGrid"
   ]
  },
  {
   "cell_type": "markdown",
   "metadata": {},
   "source": [
    "### 1. Preprocessing"
   ]
  },
  {
   "cell_type": "code",
   "execution_count": 137,
   "metadata": {},
   "outputs": [],
   "source": [
    "tokens = {'begin': '<s>', 'end': '</s>', 'unknown': '<unk>', 'separator': '<sep>'}"
   ]
  },
  {
   "cell_type": "code",
   "execution_count": 138,
   "metadata": {},
   "outputs": [],
   "source": [
    "def _create_vocabulary(corpus, size):                           # Returns words sorted by frequency\n",
    "    words, tokenizer, corpusByWords = [], TweetTokenizer(), []\n",
    "    for doc in corpus:\n",
    "        tokens = tokenizer.tokenize(doc)\n",
    "        words += tokens\n",
    "        corpusByWords += [tokens]\n",
    "    count = nltk.FreqDist(words)\n",
    "    count = sorted([(count[key], key) for key in count])[::-1]\n",
    "    if size != -1: count = count[:size]\n",
    "    return [word for _, word in count], corpusByWords\n",
    "\n",
    "def load_corpus(corpus_select = \"tweets\", vocabSize = 100):\n",
    "    corpus = []\n",
    "    path_corpus = \"../../data/agresividad/mex_train.txt\"\n",
    "\n",
    "    with open(path_corpus, \"r\") as f_corpus:\n",
    "        for tuit in f_corpus:\n",
    "            corpus += [tuit[:-1]]\n",
    "    \n",
    "    vocab, tokenized = _create_vocabulary(corpus, vocabSize)\n",
    "    corpus = []\n",
    "    for doc in tokenized:\n",
    "        tweet = []\n",
    "        tweet.append(tokens['begin'])\n",
    "        for word in doc: \n",
    "            tweet.append(tokens['unknown'] if word not in vocab else word.lower())\n",
    "        tweet.append(tokens['end'])\n",
    "        corpus.append(tweet)\n",
    "    return corpus"
   ]
  },
  {
   "cell_type": "code",
   "execution_count": 139,
   "metadata": {},
   "outputs": [],
   "source": [
    "corpus = load_corpus(vocabSize = 100)"
   ]
  },
  {
   "attachments": {},
   "cell_type": "markdown",
   "metadata": {},
   "source": [
    "#### Comment"
   ]
  },
  {
   "cell_type": "markdown",
   "metadata": {},
   "source": [
    "### 2. Models Training"
   ]
  },
  {
   "attachments": {},
   "cell_type": "markdown",
   "metadata": {},
   "source": [
    "# TODO: FIX LAPLACE SMOOTHING\n",
    "\n",
    "# TODO: FIX PERPLEXITY"
   ]
  },
  {
   "cell_type": "code",
   "execution_count": 140,
   "metadata": {},
   "outputs": [],
   "source": [
    "class LanguageModel:\n",
    "    def __init__(self, corpus = None):\n",
    "        self.corpus = corpus\n",
    "        #self.nGrams = {self.toString(self.gramLen * tokens['unknown']): 0}\n",
    "        #self.vocab = {*tokens.values()}\n",
    "        self.nGrams, self.vocab = dict(), set()\n",
    "        #self.nGramsCount = 0\n",
    "        for line in corpus:\n",
    "            self.vocab.update(line)\n",
    "            for gram in self.getNGrams(line):\n",
    "                gram = self.toString(gram)\n",
    "                if not gram in self.nGrams: self.nGrams[gram] = 0\n",
    "                self.nGrams[gram] += 1\n",
    "                #self.nGramsCount += 1\n",
    "        self.vocab = list(self.vocab)\n",
    "\n",
    "    def toString(self, gramList):\n",
    "        gram = \"\"\n",
    "        for i, g in enumerate(gramList):\n",
    "            if i: gram += tokens['separator']\n",
    "            gram += g\n",
    "        return gram\n",
    "        \n",
    "    def P(self, *words):                                                                \n",
    "        # Laplace smoothing\n",
    "        assert len(words) == self.gramLen, \"n-gram doesn't match the expected length\"\n",
    "        words = [(w if w in self.vocab else tokens['unknown']) for w in words]\n",
    "        gram = self.toString(words)\n",
    "        return self._Laplace(gram)\n",
    "    \n",
    "    def _Laplace(self, gram):\n",
    "        count = 0\n",
    "        if gram in self.nGrams: count = self.nGrams[gram]\n",
    "        words = gram.split(tokens['separator'])\n",
    "        ctx = self.toString(words[: -1])\n",
    "        #ctxCount = self.nGramsCount\n",
    "        ctxCount = sum([self.nGrams[gram] if ctx in gram else 0 for gram in self.nGrams])\n",
    "        #print(\"Lap\", gram, words, ctx)\n",
    "        # (count of the ngram + 1) / (count of the incidences of the last context + self.vocab)\n",
    "        #print(gram, count, ctxCount, len(self.vocab))\n",
    "        return (count + 1) / (ctxCount + len(self.vocab))\n",
    "\n",
    "    def getNGrams(self, line):\n",
    "        return [line[start: start + self.gramLen] for start in range(len(line) - self.gramLen + 1)]\n",
    "\n",
    "    def getProbs(self, sentence):\n",
    "        # Naive approach to see if it's a list of lists\n",
    "        if isinstance(sentence[0], list):\n",
    "            sentence = sum(sentence, [])\n",
    "        prob = 0\n",
    "        for gram in self.getNGrams(sentence):\n",
    "            prob += np.log(self.P(*gram))\n",
    "        return np.exp(prob)\n",
    "\n",
    "    # Include the <s> and </s> tokens, but don't count </s> - (Page 8, Dan Jurafsky on Language Models)\n",
    "    def perplexity(self, sentence):\n",
    "        # Naive approach to see if it's a list of lists\n",
    "        if isinstance(sentence[0], list):\n",
    "            sentence = sum(sentence, [])\n",
    "        return self.getProbs(sentence) ** (-1 / (len(sentence) - sentence.count(tokens['begin'])) )\n",
    "    \n",
    "    def tweet(self, length = 50):\n",
    "        tweet = [tokens['begin'] for _ in range(self.gramLen - 1)]\n",
    "        for _ in range(length):\n",
    "            ctx = tweet[-self.gramLen + 1:] if self.gramLen > 1 else []\n",
    "            probs = []\n",
    "            for i, w in enumerate(self.vocab):\n",
    "                w = ctx + [w]\n",
    "                p = self.P(*w)\n",
    "                probs.append(p)\n",
    "            print(np.sum(probs))\n",
    "            tweet += [np.random.choice(self.vocab, p = probs / np.sum(probs))]\n",
    "        for t in tweet: print(t + \" \", end = \"\")\n",
    "        return tweet\n",
    "    \n",
    "    def test(self):                                                                     \n",
    "        # Hypothesis: The sum of probabilities for a model is: vocabSize ^ (gramLength - 1)\n",
    "        a = [self._Laplace(g) for g in self.nGrams]\n",
    "        print(\"Probs:\", sum(a))\n",
    "        assert np.round(sum(a)) == len(self.vocab) ** (self.gramLen - 1), \"Probs don't sum up the expected value\""
   ]
  },
  {
   "attachments": {},
   "cell_type": "markdown",
   "metadata": {},
   "source": [
    "# TODO FINISH INTERPOLATED MODEL"
   ]
  },
  {
   "cell_type": "code",
   "execution_count": 141,
   "metadata": {},
   "outputs": [],
   "source": [
    "class Unigram(LanguageModel):\n",
    "    def __init__(self, corpus = None):\n",
    "        self.gramLen = 1\n",
    "        super().__init__(corpus)\n",
    "\n",
    "class Bigram(LanguageModel):\n",
    "    def __init__(self, corpus = None):\n",
    "        self.gramLen = 2\n",
    "        super().__init__(corpus)      \n",
    "\n",
    "class Trigram(LanguageModel):\n",
    "    def __init__(self, corpus = None):\n",
    "        self.gramLen = 3\n",
    "        super().__init__(corpus)    \n",
    "\n",
    "class N_Gram(LanguageModel):\n",
    "    def __init__(self, gramLen, corpus = None):\n",
    "        self.gramLen = gramLen\n",
    "        super().__init__(corpus)    \n",
    "\n",
    "class Interpolated(LanguageModel):\n",
    "    def __init__(self, corpus = None, models = None, lambdas = None):\n",
    "        #super().__init__(corpus)   \n",
    "        self.lambdas = np.array(lambdas)\n",
    "        self.models = models\n",
    "        assert len(models) == self.lambdas.shape[1], \"The number of models doesn't match the number of lambdas\"\n",
    "\n",
    "    # Currently refactoring to deprecate\n",
    "    def Interpolate(models, set, lambdas):\n",
    "        indProbs = np.zeros((len(models)))\n",
    "        lambdas = np.array(lambdas)\n",
    "        for case in set:\n",
    "            for m, model in enumerate(models):\n",
    "                indProbs[m] += model.getProbs(case)\n",
    "        indProbs /= len(set)\n",
    "        probs = np.dot(indProbs, lambdas.T)\n",
    "        return probs\n",
    "    \n",
    "    def _getProbs(self, sentence):\n",
    "        # Gets the probability of each model\n",
    "        indProbs = np.zeros((len(self.models)))\n",
    "        for m, model in enumerate(self.models):\n",
    "            indProbs[m] += model.getProbs(sentence)\n",
    "        indProbs /= len(set)\n",
    "    \n",
    "    def dev(self, set):\n",
    "        #for case in set:\n",
    "        probs = np.dot(indProbs, self.lambdas.T)\n",
    "        return probs"
   ]
  },
  {
   "cell_type": "code",
   "execution_count": 142,
   "metadata": {},
   "outputs": [
    {
     "name": "stdout",
     "output_type": "stream",
     "text": [
      "dict_keys(['<s>', 'lo', '<unk>', 'de', 'todo', 'es', 'que', 'no', 'me', 'por', 'un', 'y', 'estoy', 'hasta', 'la', 'verga', '</s>', 'a', 'putos', 'en', '?', 'más', 'mi', '!', 'madre', 'ese', 'joto', 'el', 'marica', 'tiene', 'así', '\"', 'su', '😂', 'pinche', 'esta', 'se', 'loca', '.', 'como', 'mejor', 'si', 'pero', 'porque', '@usuario', 'te', 'esa', 'está', 'los', 'tu', 'siempre', 'puta', 'hay', 'bien', 'ya', 'del', 'con', '¡', 'qué', '…', 'todos', 'putas', '...', '¿', 'tan', 'son', 'este', 'una', 'mis', 'sus', 'quiero', 'hdp', 'las', 'para', 'ser', 'o', 'le', 'les', 'al', 'luchona', 'yo', 'eso', 'nos', 'vale', 'q', 'puto', 'solo', 'hoy', 'muy', 'vida', 'soy', 'eres', 'ver', 'pinches', 'nada', ':', 'va', '️', 'ahora', 'ni', 'cuando', 'mierda', 'voy'])\n",
      "Probs: 1.0000000000000002\n",
      "0.030060494079397367\n",
      "0.04925692661650662\n",
      "0.39978502838158353\n"
     ]
    }
   ],
   "source": [
    "uni = Unigram(corpus)\n",
    "uni.test()\n",
    "\n",
    "# Very frequent\n",
    "print(uni.P(\"que\"))\n",
    "print(uni.P(tokens['begin']))\n",
    "\n",
    "# Doesn't exist\n",
    "print(uni.P(\"otorrinolaringologo\"))"
   ]
  },
  {
   "cell_type": "code",
   "execution_count": 143,
   "metadata": {},
   "outputs": [
    {
     "name": "stdout",
     "output_type": "stream",
     "text": [
      "dict_keys(['<s><sep>lo', 'lo<sep><unk>', '<unk><sep>de', 'de<sep>todo', 'todo<sep>es', 'es<sep>que', 'que<sep>no', 'no<sep>me', 'me<sep><unk>', '<unk><sep>por', 'por<sep>un', 'un<sep><unk>', '<unk><sep>y', 'y<sep><unk>', '<unk><sep><unk>', '<unk><sep>estoy', 'estoy<sep>hasta', 'hasta<sep>la', 'la<sep>verga', 'verga<sep>de', 'de<sep><unk>', '<unk><sep></s>', '<s><sep>a', 'a<sep>la', 'la<sep><unk>', '<unk><sep>no', 'no<sep><unk>', '<unk><sep>putos', 'putos<sep><unk>', '<unk><sep>me', '<unk><sep>que', 'que<sep><unk>', '<unk><sep>en', 'en<sep><unk>', '<unk><sep>?', '?<sep><unk>', '<s><sep><unk>', 'que<sep>lo', 'lo<sep>más', 'más<sep><unk>', '<unk><sep>a', 'a<sep><unk>', '<unk><sep>mi', 'mi<sep><unk>', '<unk><sep>!', '!<sep><unk>', '<unk><sep>la', 'la<sep>madre', 'madre<sep>a', 'a<sep>ese', 'ese<sep><unk>', '<unk><sep>joto', 'joto<sep>!', '!<sep></s>', '<s><sep>el', 'el<sep>marica', 'marica<sep>de', 'de<sep>mi', 'me<sep>tiene', 'tiene<sep><unk>', 'todo<sep>así', 'así<sep><unk>', 'la<sep>\"', '\"<sep><unk>', '<unk><sep>\"', '\"<sep>de', 'de<sep>su', 'su<sep><unk>', '<unk><sep>😂', '😂<sep></s>', '<unk><sep>pinche', 'pinche<sep><unk>', '<unk><sep>esta', 'esta<sep>que', 'que<sep>se', 'se<sep><unk>', 'la<sep>loca', 'loca<sep><unk>', '<s><sep>putos', 'putos<sep>.', '.<sep>no', '<unk><sep>madre', 'madre<sep>.', '.<sep><unk>', '<unk><sep>.', '.<sep>como', 'como<sep>es', 'es<sep><unk>', '.<sep>mejor', 'mejor<sep><unk>', '<unk><sep>si', 'si<sep><unk>', '<unk><sep>pero', 'pero<sep><unk>', '<unk><sep>porque', 'porque<sep><unk>', 'de<sep>la', '.<sep></s>', '<s><sep>@usuario', '@usuario<sep><unk>', '<unk><sep>te', 'te<sep><unk>', '<unk><sep>esa', 'esa<sep>madre', 'madre<sep>si', 'si<sep>está', 'está<sep><unk>', '<unk><sep>los', 'los<sep>putos', 'pero<sep>me', '@usuario<sep>no', 'no<sep>te', 'mi<sep>madre', 'madre<sep>y', 'y<sep>tu', 'tu<sep><unk>', '<unk><sep>siempre', 'siempre<sep>es', 'es<sep>mejor', 'mejor<sep>lo', 'lo<sep>que', '<s><sep>\"', '\"<sep>no', '<unk><sep>lo', 'la<sep>puta', 'puta<sep>que', 'que<sep>los', 'los<sep><unk>', '<unk><sep>hay', 'hay<sep>que', '\"<sep></s>', '<unk><sep>está', 'está<sep>bien', 'bien<sep>ya', 'ya<sep>me', 'de<sep>verga', 'verga<sep>.', '<unk><sep>se', '<unk><sep>del', 'del<sep><unk>', '<unk><sep>con', 'con<sep><unk>', '<unk><sep>ese', '.<sep>de', 'y<sep>con', '.<sep>¡', '¡<sep>qué', 'qué<sep><unk>', '!<sep>por', 'por<sep><unk>', 'por<sep>tu', '<unk><sep>…', '…<sep><unk>', '<s><sep>me', 'que<sep>es', 'es<sep>la', '<unk><sep>todos', 'todos<sep><unk>', '<unk><sep>putas', 'putas<sep><unk>', '<unk><sep>...', '...<sep>¿', '¿<sep>y', 'y<sep>?', '?<sep></s>', '<s><sep>pinche', '<unk><sep>tan', 'tan<sep><unk>', '!<sep>!', '!<sep>ya', 'ya<sep><unk>', 'putos<sep>son', 'son<sep><unk>', '!<sep>y', 'y<sep>no', '!<sep>así', 'si<sep>no', '@usuario<sep>@usuario', '@usuario<sep>y', 'y<sep>si', 'si<sep>este', 'este<sep><unk>', '<unk><sep>@usuario', '?<sep>el', 'el<sep><unk>', '<unk><sep>mejor', '<s><sep>porque', 'porque<sep>lo', 'en<sep>una', 'una<sep><unk>', '<unk><sep>es', 'si<sep>son', 'de<sep>putas', 'putas<sep>.', '<s><sep>se', 'y<sep>mis', 'mis<sep><unk>', 'es<sep>me', 'tiene<sep>hasta', 'verga<sep>ya', 'ya<sep>que', '<unk><sep>sus', 'sus<sep>putas', '<s><sep>puta', 'puta<sep>madre', 'madre<sep>quiero', 'quiero<sep><unk>', 'por<sep>la', 'la<sep>hdp', 'hdp<sep>de', '<s><sep>no', 'no<sep>hay', 'hay<sep>como', 'como<sep>las', 'las<sep><unk>', 'madre<sep>que', 'y<sep>de', 'mi<sep>loca', '...<sep></s>', 'es<sep>el', 'pero<sep>de', 'puta<sep>verga', '<s><sep>para', 'para<sep><unk>', 'siempre<sep>hay', 'hay<sep>una', 'una<sep>loca', 'loca<sep>que', '<unk><sep>ser', 'ser<sep>tan', '<unk><sep>o', 'o<sep>le', 'le<sep><unk>', 'a<sep>mi', 'putas<sep>es', '@usuario<sep>son', 'son<sep>putos', 'putos<sep>y', 'y<sep>les', 'les<sep><unk>', '...<sep><unk>', '<unk><sep>ya', 'ya<sep>todos', 'que<sep>les', '...<sep>al', 'al<sep><unk>', 'que<sep>al', '<s><sep>estoy', 'de<sep>sus', 'sus<sep>putos', 'de<sep>\"', '@usuario<sep>a', '<unk><sep>tu', 'con<sep>el', 'a<sep>su', 'su<sep>madre', 'madre<sep></s>', '@usuario<sep>luchona', 'luchona<sep><unk>', 'bien<sep><unk>', '.<sep>pero', 'pero<sep>tiene', 'y<sep>una', '@usuario<sep>yo', 'yo<sep>le', '<unk><sep>el', '<unk><sep>marica', 'marica<sep></s>', 'putos<sep>el', '<s><sep>y', '<unk><sep>como', 'como<sep><unk>', '<s><sep>yo', 'yo<sep><unk>', '\"<sep>verga', 'verga<sep>\"', '\"<sep>y', 'y<sep>eso', 'eso<sep>no', '<unk><sep>una', 'una<sep>pinche', 'no<sep>nos', 'nos<sep><unk>', 'si<sep>es', 'o<sep>no', 'no<sep>al', '<unk><sep>vale', 'vale<sep>verga', 'pero<sep>q', 'q<sep><unk>', 'el<sep>puto', 'puto<sep><unk>', '@usuario<sep>que', 'madre<sep><unk>', 'y<sep>lo', '<unk><sep>su', 'mejor<sep>que', 'verga<sep>pinche', '<s><sep>solo', 'solo<sep><unk>', 'que<sep>hoy', 'hoy<sep>no', '<unk><sep>las', 'las<sep>putas', '<unk><sep>muy', 'muy<sep><unk>', 'a<sep>una', '<unk><sep>al', 'si<sep>el', 'es<sep>de', 'a<sep>los', 'putos<sep>de', 'de<sep>puta', 'puta<sep>.', '<s><sep>por', 'por<sep>qué', 'qué<sep>putas', 'que<sep>todos', 'todos<sep>lo', '<unk><sep>hdp', 'hdp<sep><unk>', '.<sep>para', 'para<sep>que', 'de<sep>lo', '<unk><sep>así', 'así<sep>como', 'como<sep>tu', 'tu<sep>.', '@usuario<sep>lo', '<unk><sep>son', 'son<sep>sus', 'sus<sep><unk>', 'del<sep>marica', 'marica<sep>@usuario', '@usuario<sep>.', '.<sep>y', 'y<sep>los', 'los<sep>que', 'en<sep>la', 'que<sep>@usuario', '@usuario<sep>ya', 'ya<sep>no', 'esta<sep><unk>', 'verga<sep></s>', '...<sep>y', 'esta<sep>vida', 'vida<sep>loca', 'loca<sep>!', 'que<sep>quiero', 'quiero<sep>verga', 'y<sep>me', '<unk><sep>verga', 'verga<sep>en', 'en<sep>mi', '<s><sep>la', 'me<sep>está', '<s><sep>como', '…<sep></s>', '<s><sep>si', 'si<sep>la', 'la<sep>vida', 'vida<sep>me', 'de<sep>ser', 'ser<sep>madre', 'madre<sep>me', 'de<sep>que', 'que<sep>el', 'el<sep>o', 'o<sep><unk>', 'como<sep>yo', '<s><sep>de', 'no<sep>estoy', 'estoy<sep>loca', 'loca<sep>solo', 'solo<sep>soy', 'soy<sep>el', '<s><sep>les', 'verga<sep>pero', '<s><sep>que', 'que<sep>putos', 'pero<sep>no', '<unk><sep>un', 'siempre<sep><unk>', 'está<sep>de', 'pero<sep>lo', 'si<sep>ya', 'que<sep>me', '<unk><sep>para', 'que<sep>le', '<unk><sep>eres', 'eres<sep>una', 'a<sep>las', '.<sep>me', 'mi<sep>vida', 'loca<sep>.', '<s><sep>soy', 'soy<sep><unk>', 'como<sep>loca', 'loca<sep>con', 'con<sep>las', 'tu<sep>madre', 'madre<sep>estoy', 'estoy<sep><unk>', 'te<sep>quiero', 'no<sep>soy', 'soy<sep>joto', 'joto<sep></s>', '<unk><sep>ver', 'ver<sep>lo', 'que<sep>te', '<unk><sep>bien', '<s><sep>muy', '<unk><sep>le', '<s><sep>mis', 'si<sep>mi', 'mi<sep>verga', 'verga<sep><unk>', 'con<sep>mi', 'un<sep>te', '😂<sep>😂', 'marica<sep>.', 'madre<sep>no', '<unk><sep>nos', 'y<sep>este', 'por<sep>que', 'vida<sep>mejor', 'mejor<sep>pinches', 'pinches<sep>putos', 'putos<sep></s>', 'no<sep>son', 'pero<sep>que', 'no<sep>las', 'las<sep>quiero', '<s><sep>con', 'con<sep>la', 'de<sep>mis', 'mis<sep>@usuario', 'ya<sep>solo', 'solo<sep>me', 'yo<sep>si', 'si<sep>quiero', 'quiero<sep>que', 'putos<sep>nos', 'verga<sep>como', 'como<sep>me', 'y<sep>@usuario', 'de<sep>los', 'los<sep>más', 'es<sep>no', '<unk><sep>nada', 'nada<sep>de', 'de<sep>madre', '<s><sep>ya', 'ser<sep><unk>', 'esta<sep>verga', 'verga<sep>que', '<s><sep>o', 'o<sep>al', '<unk><sep>más', 'más<sep>putos', 'si<sep>se', 'y<sep>putas', '<unk><sep>mis', 'me<sep>lo', '<s><sep>putas', 'no<sep>se', 'se<sep>le', 'es<sep>:', ':<sep>a', 'marica<sep>y', 'como<sep>un', 'me<sep>estoy', '<unk><sep>loca', 'loca<sep>por', 'mis<sep>putas', 'que<sep>esa', 'esa<sep><unk>', 'es<sep>una', 'y<sep>pinche', 'pinche<sep>putos', 'putos<sep>@usuario', '@usuario<sep>bien', 'bien<sep>que', '¿<sep>qué', 'qué<sep>me', '@usuario<sep>en', 'madre<sep>!', 'de<sep>un', 'pero<sep>soy', 'soy<sep>bien', 'bien<sep>marica', 'marica<sep>en', 'es<sep>su', 'su<sep>mejor', 'y<sep>como', 'como<sep>pinches', 'que<sep>por', 'por<sep>\"', '\"<sep>putas', 'putas<sep>\"', '\"<sep>las', 'las<sep>que', 'que<sep>son', 'son<sep>\"', '\"<sep>.', 'hay<sep><unk>', 'para<sep>las', '<s><sep>los', 'verga<sep>pinches', 'pinches<sep><unk>', 'pinche<sep>joto', 'joto<sep>te', 'con<sep>tu', 'le<sep>va', 'va<sep>a', 'a<sep>un', 'marica<sep>...', 'que<sep>pinche', 'qué<sep>no', '<s><sep>así', 'así<sep>es', 'es<sep>pero', 'pero<sep>su', 'ya<sep>nos', '😂<sep><unk>', 'en<sep>este', '<unk><sep>️', '️<sep></s>', 'estoy<sep>a', '@usuario<sep>de', 'eres<sep><unk>', '?<sep>joto', 'joto<sep>?', '@usuario<sep>la', 'que<sep>nos', 'puto<sep>@usuario', '.<sep>mi', 'mi<sep>@usuario', 'joto<sep>lo', 'que<sep>las', 'y<sep>la', 'es<sep>en', 'en<sep>ese', 'el<sep>putas', 'verga<sep>y', 'y<sep>ahora', 'ahora<sep>me', 'el<sep>joto', 'joto<sep><unk>', '<unk><sep>ni', 'ni<sep><unk>', '.<sep>qué', 'para<sep>q', 'q<sep>no', '<unk><sep>cuando', 'cuando<sep><unk>', 'y<sep>q', '<unk><sep>q', 'de<sep>una', 'en<sep>tu', 'porque<sep>ya', 'ya<sep>se', 'se<sep>te', 'con<sep>sus', 'mejor<sep>el', 'y<sep>un', 'que<sep>hdp', 'hdp<sep>a', 'no<sep>es', 'es<sep>solo', 'solo<sep>la', 'de<sep>las', 'madre<sep>de', '<s><sep>cuando', 'cuando<sep>en', 'en<sep>el', '<unk><sep>yo', 'loca<sep>y', 'como<sep>\"', 'esa<sep>es', '\"<sep>!', '!<sep>😂', '<unk><sep>este', 'el<sep>hdp', '<unk><sep>:', ':<sep>que', 'o<sep>te', 'y<sep>se', 'es<sep>lo', 'si<sep>les', 'y<sep>su', 'qué<sep>putos', 'putos<sep>los', '<unk><sep>luchona', 'tan<sep>más', 'de<sep>putos', 'tan<sep>loca', '.<sep>!', 'y<sep>que', '<s><sep>su', '...<sep>bien', 'bien<sep>es', '<s><sep>¡', '¡<sep>verga', 'verga<sep>!', 'porque<sep>me', '<unk><sep>¿', '¿<sep>no', 'está<sep>en', 'que<sep>ya', 'ya<sep>estoy', 'putos<sep>!', '!<sep>el', 'tan<sep>pinche', 'joto<sep>.', 'putas<sep>@usuario', '@usuario<sep></s>', '<unk><sep>tiene', 'tiene<sep>más', 'que<sep>un', 'para<sep>ver', 'ver<sep>si', 'si<sep>esa', 'madre<sep>así', 'así<sep>me', 'porque<sep>putas', 'putas<sep>todos', 'a<sep>sus', '<s><sep>madre', '<unk><sep>qué', 'qué<sep>verga', 'una<sep>vida', 'vida<sep>y', 'su<sep>puta', '<s><sep>verga', 'verga<sep>no', 'y<sep>al', 'verga<sep>...', 'verga<sep>todo', 'todo<sep>el', '!<sep>yo', 'yo<sep>no', 'por<sep>eso', 'eso<sep><unk>', 'que<sep>la', '<unk><sep>puta', 'madre<sep>el', 'ese<sep>tan', 'para<sep>los', 'los<sep>hdp', 'hdp<sep>que', 'ese<sep>joto', 'joto<sep>que', 'que<sep>va', 'a<sep>lo', 'soy<sep>tan', 'que<sep>en', 'y<sep>en', '@usuario<sep>te', '?<sep>o', '!<sep>@usuario', 'el<sep>es', 'es<sep>muy', 'yo<sep>estoy', '...<sep>esta', 'esta<sep>es', 'es<sep>mi', '.<sep>verga', '@usuario<sep>es', 'es<sep>como', 'como<sep>la', 'se<sep>a', 'pero<sep>ya', 'les<sep>vale', 'vale<sep><unk>', 'madre<sep>cuando', 'cuando<sep>les', '<unk><sep>pinches', 'pinches<sep>putas', 'no<sep></s>', 'está<sep>ese', 'qué<sep>las', 'que<sep>con', 'con<sep>su', 'y<sep>qué', 'estoy<sep>en', 'tu<sep>verga', '<s><sep>¿', '?<sep>ya', 'verga<sep>este', '...<sep>con', 'porque<sep>más', 'más<sep>me', '¿<sep><unk>', 'verga<sep>?', 'no<sep>la', 'tu<sep>puta', 'madre<sep>te', 'de<sep>mierda', 'mierda<sep>!', '<unk><sep>va', 'va<sep><unk>', 'un<sep>joto', 'que<sep>está', '!<sep>putos', 'madre<sep>pinche', 'nada<sep></s>', 'mierda<sep>que', 'lo<sep>de', 'se<sep>me', 'verga<sep>con', 'el<sep>lo', '<s><sep>en', 'pero<sep>al', '<unk><sep>hasta', 'hasta<sep>el', '<unk><sep>todo', 'todo<sep><unk>', 'verga<sep>para', 'para<sep>la', '<s><sep>hoy', 'hoy<sep>es', 'es<sep>un', 'a<sep>tu', 'mi<sep>me', 'no<sep>de', 'de<sep>joto', 'joto<sep>se', '<s><sep>pero', 'pero<sep>como', '<unk><sep>solo', 'luchona<sep>y', 'a<sep>me', 'me<sep>me', 'me<sep>vale', 'todos<sep>no', 'verga<sep>lo', 'por<sep>el', 'como<sep>lo', 'o<sep>solo', 'solo<sep>cuando', 'putos<sep>solo', ':<sep><unk>', ':<sep></s>', 'verga<sep>siempre', 'hay<sep>más', 'más<sep>.', 'putas<sep></s>', 'loca<sep>de', 'como<sep>les', '...<sep>me', 'verga<sep>yo', '<unk><sep>eso', 'no<sep>😂', '😂<sep>me', 'todos<sep>los', 'o<sep>lo', 'su<sep>puto', 'ya<sep>soy', 'soy<sep>ese', 'que<sep>solo', 'solo<sep>se', ':<sep>putas', 'putas<sep>putas', 'putas<sep>para', 'para<sep>todos', 'todos<sep>.', 'ya<sep>por', 'por<sep>sus', '?<sep>?', '?<sep>que', 'no<sep>pinches', 'tu<sep>y', 'y<sep>todos', 'los<sep>de', '<s><sep>tu', 'marica<sep>que', '<s><sep>todos', 'todos<sep>putos', 'putos<sep>por', 'por<sep>no', '...<sep>todos', 'todos<sep>son', 'son<sep>un', 'a<sep>ver', 'ver<sep>a', 'a<sep>qué', '<s><sep>las', 'bien<sep>cuando', 'cuando<sep>solo', 'putos<sep>\"', '\"<sep>ya', 'madre<sep>con', 'no<sep>les', '.<sep>les', 'más<sep>a', ':<sep>si', 'si<sep>si', 'se<sep>la', 'madre<sep>les', '<s><sep>una', 'de<sep>@usuario', 'por<sep>su', 'hdp<sep></s>', 'como<sep>cuando', 'ahora<sep><unk>', '<unk><sep>les', '¡<sep>¿', '<unk><sep>hoy', 'hoy<sep>con', 'con<sep>esta', 'esta<sep>pinche', 'mierda<sep>?', '?<sep>!', '!<sep>?', 'que<sep>soy', 'soy<sep>mejor', 'por<sep>los', 'y<sep>ya', 'que<sep>bien', 'bien<sep>la', 'ver<sep>una', 'no<sep>a', '...<sep>de', 'que<sep>yo', 'mis<sep>putos', 'se<sep>los', 'verga<sep>por', 'por<sep>putos', 'si<sep>@usuario', '@usuario<sep>se', '@usuario<sep>está', 'está<sep>loca', '\"<sep>:', 'de<sep>hoy', 'hoy<sep>en', 'soy<sep>de', 'con<sep>…', 'del<sep>pinche', '...<sep>por', 'y<sep>pinches', '.<sep>@usuario', 'hoy<sep><unk>', 'hasta<sep>las', 'si<sep>o', 'o<sep>si', 'si<sep></s>', 'que<sep>mis', 'son<sep>mis', 'para<sep>mi', '.<sep>ya', '<s><sep>te', 'que<sep>a', '...<sep>que', 'que<sep>?', '?<sep>...', '...<sep>te', 'puta<sep><unk>', '@usuario<sep>mejor', 'pero<sep>a', 'no<sep>para', 'hdp<sep>!', 'ver<sep>el', ':<sep>¡', 'qué<sep>loca', '!<sep>pinches', '!<sep>las', 'me<sep>voy', 'voy<sep>a', '¿<sep>por', '\"<sep>el', 'que<sep>una', 'de<sep>esta', 'con<sep>un', 'y<sep>…', '\"<sep>pero', 'pero<sep>bien', '<unk><sep>ahora', 'si<sep>me', 'madre<sep>yo', 'y<sep>para', 'y<sep>le', 'le<sep>vale', 'todo<sep></s>', 'lo<sep>joto', 'y<sep>el', 'hasta<sep>a', '.<sep>pinche', 'pinche<sep>al', 'al<sep>no', 'no<sep>más', 'que<sep>eres', 'eres<sep>no', 'una<sep>mierda', 'mierda<sep>de', '<s><sep>es', '.<sep>con', 'nada<sep>...', '...<sep>hdp', 'putos<sep>no', 'se<sep>les', 'nada<sep>.', 'que<sep>putas', 'putas<sep>me', 'con<sep>esa', 'no<sep>tiene', 'ahora<sep>que', 'loca<sep></s>', '<s><sep>eso', 'por<sep>joto', 'joto<sep>el', 'es<sep>para', 'ver<sep>pinches', 'mierda<sep>con', 'está<sep>si', 'porque<sep>se', 'si<sep>le', 'con<sep>una', 'para<sep>una', 'ni<sep>loca', 'loca<sep>lo', 'para<sep>qué', '?<sep>si', 'si<sep>hasta', 'hasta<sep>tu', 'tu<sep>vida', 'vida<sep>te', '<s><sep>del', 'al<sep>\"', '\"<sep>le', '\"<sep>¿', 'qué<sep>tan', 'como<sep>para', 'ver<sep>más', 'putos<sep>:', 'yo<sep>voy', 'voy<sep><unk>', 'tu<sep>@usuario', 'hdp<sep>.', 'los<sep>hay', 'hay<sep>en', 'en<sep>todos', 'y<sep>a', 'a<sep>este', 'este<sep>le', 'me<sep>de', 'verga<sep>bien', '<s><sep>ni', 'putas<sep>pero', 'porque<sep>son', 'y<sep>porque', 'porque<sep>la', 'a<sep>putas', 'verga<sep>esa', 'cuando<sep>te', '.<sep>marica', 'madre<sep>nada', 'nada<sep>les', 'putas<sep>tiene', 'tiene<sep>que', 'que<sep>ver', 'ver<sep>con', 'con<sep>que', 'con<sep>eso', 'no<sep>en', 'en<sep>los', 'me<sep>la', '<unk><sep>puto', '@usuario<sep>al', 'no<sep>lo', 'como<sep>los', 'más<sep>bien', 'bien<sep>!', '!<sep>a', 'va<sep>la', 'hasta<sep>ahora', 'ahora<sep>y', '?<sep>es', 'nada<sep>por', 'qué<sep>soy', 'soy<sep>la', 'así<sep>lo', 'vida<sep>cuando', 'más<sep>en', 'mi<sep>que', 'que<sep>mi', 'ni<sep>putas', 'que<sep>cuando', 'cuando<sep>va', 'si<sep>hay', 'son<sep>las', 'putas<sep>que', 'de<sep>el', 'marica<sep>!', 'vida<sep>que', 'porque<sep>el', 'y<sep>yo', 'lo<sep>putas', 'mi<sep>se', 'si<sep>sus', 'su<sep>pinches', 'no<sep>los', 'soy<sep></s>', 'joto<sep>de', 'como<sep>se', 'de<sep>ese', '.<sep>ese', 'ese<sep>pinche', '<s><sep>hay', 'cuando<sep>el', 'eres<sep>tu', 'que<sep>como', 'todo<sep>se', 'vida<sep><unk>', 'de<sep>tu', 'que<sep>sus', 'putos<sep>😂', 'madre<sep>tu', 'si<sep>eres', '<unk><sep>¡', '¡<sep><unk>', 'verga<sep>se', 'se<sep>va', 'es<sep>tan', 'como<sep>el', 'el<sep>@usuario', '¿<sep>ya', 'ya<sep>tan', 'el<sep>que', 'te<sep>va', '<s><sep>mi', 'más<sep>que', 'madre<sep>ya', 'q<sep>si', 'eres<sep>muy', 'pero<sep>una', 'q<sep>como', 'como<sep>te', 'así<sep>y', 'para<sep>este', ':<sep>es', 'y<sep>va', 'estoy<sep>yo', 'yo<sep>.', 'el<sep>pinche', '<s><sep>ahora', 'ahora<sep>ya', 'y<sep>mejor', 'mejor<sep>.', 'ya<sep>mejor', 'con<sep>putas', 'en<sep>todo', 'todo<sep>su', 'una<sep>luchona', 'con<sep>mis', 'un<sep>pinche', 'a<sep>@usuario', '@usuario<sep>les', 'ver<sep>que', '😂<sep>putos', 'putos<sep>se', 'con<sep>todo', 'todo<sep>y', 'marica<sep>porque', 'porque<sep>yo', '!<sep>.', 'tan<sep>marica', 'marica<sep>ya', 'por<sep>todos', ':<sep>¿', '¿<sep>a', '?<sep>le', '\"<sep>al', '.<sep>se', 'cuando<sep>lo', 'por<sep>todo', 'yo<sep></s>', '.<sep>por', 'por<sep>q', 'q<sep>es', 'luchona<sep>que', '<s><sep>esta', 'que<sep>estoy', 'así<sep>que', 'se<sep>lo', 'verga<sep>a', 'ya<sep>le', 'madre<sep>al', 'ahora<sep>si', 'marica<sep><unk>', 'cuando<sep>me', '@usuario<sep>o', 'o<sep>eres', 'muy<sep>joto', 'joto<sep>para', 'o<sep>su', '\"<sep>me', 'vale<sep>madre', 'madre<sep>\"', '\"<sep>?', 'con<sep>o', 'putas<sep>te', 'lo<sep>q', '@usuario<sep>hay', 'hay<sep>si', 'si<sep>.', '.<sep>hay', 'por<sep>si', 'como<sep>no', 'pero<sep>un', 'te<sep>voy', 'te<sep>estoy', 'si<sep>te', '️<sep><unk>', '<s><sep>este', 'te<sep>la', 'hdp<sep>😂', 'hasta<sep><unk>', 'putas<sep>y', 'madre<sep>es', 'está<sep>con', 'con<sep>madre', '@usuario<sep>cuando', 'cuando<sep>eres', 'y<sep>luchona', 'luchona<sep>a', 'como<sep>nos', 'cuando<sep>hay', 'hay<sep></s>', '¡<sep>ya', '!<sep>o', 'a<sep>eso', 'eso<sep>me', '.<sep>eso', 'no<sep>está', 'es<sep>más', 'más<sep>o', '\"<sep>o', 'o<sep>\"', 'pero<sep>@usuario', '@usuario<sep>tu', 'tu<sep>te', 'más<sep>de', 'pero<sep>así', 'así<sep>son', 'que<sep>de', 'verga<sep>esta', '\"<sep>cuando', 'pero<sep>las', 'yo<sep>lo', 'lo<sep>tiene', 'ya<sep>esta', 'madre<sep>ni', 'eso<sep>¿', 'eso<sep>en', 'en<sep>su', 'loca<sep>así', 'así<sep>:', 'y<sep>más', 'más<sep>cuando', 'tiene<sep>nada', 'nada<sep>que', 'con<sep>ser', 'con<sep>lo', 'siempre<sep>y', 'y<sep>cuando', 'cuando<sep>esa', 'esa<sep>no', 'putas<sep>!', 'puta<sep>ya', 'mierda<sep>tu', 'son<sep>bien', 'bien<sep>putos', '<s><sep>q', 'q<sep>joto', 'a<sep>como', 'como<sep>de', '.<sep>lo', 'se<sep>las', 'y<sep>hoy', 'hoy<sep>una', 'muy<sep>de', 'pero<sep>si', 'si<sep>a', '...<sep>putos', 'putos<sep>todos', 'todos<sep>!', 'en<sep>un', 'luchona<sep>es', 'y<sep>mi', 'eso<sep>le', 'la<sep>luchona', 'luchona<sep>de', 'que<sep>hay', '¡<sep>no', '<s><sep>todo', 'como<sep>putas', 'tan<sep>putas', 'loca<sep>la', 'con<sep>este', 'lo<sep>qué', 'ya<sep></s>', 'verga<sep>me', 'eso<sep>es', '@usuario<sep>nada', 'nada<sep>más', 'tu<sep>pinche', 'pinche<sep>madre', 'hasta<sep>su', 'madre<sep>los', '...<sep>estoy', 'la<sep>de', '<unk><sep>soy', 'soy<sep>muy', 'es<sep>bien', 'qué<sep>más', '...<sep>tu', 'ver<sep>pinche', 'con<sep>los', '@usuario<sep>este', 'este<sep>es', 'a<sep>\"', 'pero<sep>tu', 'es<sep>...', '...<sep>\"', '.<sep>es', 'putos<sep>en', 'vida<sep></s>', 'porque<sep>no', 'ni<sep>a', 'les<sep>de', 'de<sep>nada', 'nada<sep>en', 'en<sep>las', '?<sep>no', 'no<sep>quiero', 'loca<sep>...', 'ya<sep>eres', 'una<sep>de', 'sus<sep>\"', '\"<sep>si', 'de<sep>ver', 'ver<sep><unk>', '¿<sep>que', 'que<sep>verga', 'ya<sep>hasta', 'hasta<sep>me', 'yo<sep>que', 'verga<sep>voy', 'a<sep>ser', 'ser<sep>su', 'hasta<sep>que', 'putos<sep>del', 'no<sep>eres', 'eres<sep>de', 'eres<sep>un', 'solo<sep>un', 'verga<sep>:', ':<sep>me', 'loca<sep>😂', '😂<sep>a', '\"<sep>nos', 'no<sep>voy', 'voy<sep>pero', 'nada<sep><unk>', 'como<sep>@usuario', 'mierda<sep><unk>', 'y<sep>madre', 'madre<sep>luchona', 'luchona<sep></s>', 'el<sep>este', 'este<sep>que', 'su<sep>verga', 'loca<sep>al', 'la<sep>que', 'verga<sep>la', 'de<sep>esa', 'esa<sep>la', 'puto<sep>de', 'para<sep>putos', 'al<sep>de', 'de<sep>a', 'con<sep>ese', 'la<sep>pinche', 'de<sep>marica', 'y<sep>te', '@usuario<sep>si', 'si<sep>de', 'de<sep>ahora', 'ahora<sep>en', 'que<sep>más', 'si<sep>mejor', 'mejor<sep>me', 'me<sep>los', 'verga<sep>qué', '.<sep>putas', 'solo<sep>es', '.<sep>ahora', 'es<sep>ser', 'ser<sep>una', 'un<sep>hdp', 'madre<sep>la', 'así<sep>la', 'me<sep>putas', 'como<sep>son', 'son<sep>la', 'en<sep>mis', '@usuario<sep>por', '@usuario<sep>hdp', 'me<sep>va', 'va<sep>de', 'y<sep>todo', 'todo<sep>está', 'que<sep>todo', 'todo<sep>va', 'va<sep>bien', 'bien<sep>.', 'vida<sep>nos', 'de<sep>si', 'no<sep>y', 'a<sep>.', '<s><sep>un', 'que<sep>hasta', 'a<sep>que', 'pinche<sep>verga', '😂<sep>ahora', 'porque<sep>eres', 'que<sep>si', 'si<sep>!', '!<sep>como', 'bien<sep>joto', 'se<sep>que', 'que<sep>pinches', '!<sep>…', 'no<sep>no', '.<sep>hdp', 'no<sep>le', 'es<sep>por', 'o<sep>por', 'los<sep>pinches', 'por<sep>ser', 'pero<sep>...', 'más<sep>este', 'todos<sep>mis', 'por<sep>esta', 'porque<sep>pinche', 'porque<sep>es', 'una<sep>verga', '@usuario<sep>con', 'luchona<sep>.', '...<sep>putas', 'todo<sep>lo', 'que<sep>puto', 'puto<sep>te', 'verga<sep>mi', ':<sep>en', 'en<sep>esta', 'el<sep>de', 'putas<sep>en', 'ser<sep>\"', '\"<sep>los', '?<sep>me', '@usuario<sep>me', 'como<sep>todos', 'y<sep>nos', 'nos<sep>la', '<s><sep>ese', 'no<sep>va', '@usuario<sep>los', 'ahora<sep>se', 'como<sep>sus', 'verga<sep>es', ':<sep>\"', '\"<sep>es', 'ser<sep>como', 'a<sep>esa', 'esa<sep>loca', 'al<sep>puto', 'en<sep>sus', '<s><sep>pinches', 'todo<sep>en', 'esta<sep>.', 'y<sep>nada', 'de<sep>loca', 'yo<sep>me', '\"<sep>@usuario', '.<sep>\"', '@usuario<sep>q', 'q<sep>su', 'se<sep>una', 'una<sep>hdp', 'hdp<sep>q', 'q<sep>se', 'que<sep>\"', 'bien<sep>pero', 'ver<sep>como', 'ser<sep>las', 'tiene<sep>para', 'para<sep>cuando', 'ya<sep>de', 'de<sep>por', '!<sep>está', 'su<sep>putos', 'le<sep>voy', '.<sep>😂', '\"<sep>hay', 'y<sep>loca', 'bien<sep>son', 'para<sep>tu', 'loca<sep>te', '<s><sep>le', 'si<sep>hoy', '️<sep>😂', 'ya<sep>lo', 'a<sep>loca', 'y<sep>sus', '¿<sep>como', 'madre<sep>putos', 'por<sep>siempre', 'siempre<sep>.', 'para<sep>el', 'ya<sep>quiero', 'siempre<sep>me', '<unk><sep>mierda', '¡<sep>soy', 'soy<sep>tu', '!<sep>voy', 'y<sep>las', 'putas<sep>más', 'para<sep>de', '...<sep>ya', 'madre<sep>del', 'ni<sep>una', 'loca<sep>del', '\"<sep>todos', '\"<sep>putos', '\"<sep>lo', 'todo<sep>pero', 'pero<sep>todo', 'hay<sep>putas', 'y<sep>ni', 'ni<sep>las', 'putas<sep>pinches', '.<sep>le', 'verga<sep>mejor', 'mejor<sep>a', 'o<sep>q', 'se<sep>yo', 'porque<sep>las', 'son<sep>putas', '@usuario<sep>\"', '@usuario<sep>puta', '!<sep>...', '...<sep>las', '.<sep>a', '@usuario<sep>todo', 'no<sep>@usuario', 'o<sep>el', '.<sep>que', 'verga<sep>o', 'o<sep>qué', 'o<sep>de', 'la<sep>voy', 'verga<sep>putos', '?<sep>la', 'la<sep>muy', 'eres<sep>joto', 'joto<sep>😂', 'vida<sep>se', 'como<sep>a', 'una<sep>madre', 'ni<sep>que', '\"<sep>se', '\"<sep>puto', 'como<sep>que', 'madre<sep>todos', '<s><sep>siempre', 'quiero<sep>😂', '?<sep>\"', '@usuario<sep>¡', '¡<sep>que', 'yo<sep>siempre', 'siempre<sep>voy', 'a<sep>todos', 'pinches<sep>yo', 'yo<sep>quiero', 'quiero<sep>no', 'no<sep>.', 'la<sep>mejor', '.<sep>putos', 'cuando<sep>los', 'es<sep>luchona', '!<sep>es', 'es<sep>siempre', 'yo<sep>...', 'que<sep>tu', 'tu<sep>me', 'como<sep>pinche', 'eres<sep>bien', 'ya<sep>ni', 'ni<sep>me', 'todos<sep>y', 'hdp<sep>pero', 'siempre<sep>tan', 'verga<sep>si', 'ahora<sep>con', 'ni<sep>nada', 'vida<sep>pero', 'todo<sep>me', 'pero<sep>más', 'más<sep>joto', 'joto<sep>y', 'les<sep>voy', 'de<sep>cuando', '...<sep>yo', 'en<sep>si', 'si<sep>porque', 'pero<sep>te', 'puto<sep>ya', '@usuario<sep>para', 'si<sep>lo', 'bien<sep>loca', 'loca<sep>si', 'hdp<sep>...', 'del<sep>mejor', 'ya<sep>tiene', 'tiene<sep>como', '@usuario<sep>pero', 'hoy<sep>al', '.<sep>en', 'porque<sep>a', 'si<sep>los', 'vida<sep>.', 'más<sep>putas', 'pinches<sep>me', '.<sep>te', '<s><sep>eres', 'y<sep>marica', 'marica<sep>cuando', 'porque<sep>en', 'hay<sep>nada', 'putas<sep>o', 'su<sep>pinche', 'es<sep>?', 'loca<sep>ya', 'putas<sep>le', 'está<sep>la', 'más<sep>luchona', 'pero<sep>en', 'puta<sep></s>', 'por<sep>más', 'así<sep>putas', 'putas<sep>no', 'si<sep>yo', '\"<sep>hoy', 'hoy<sep>voy', 'vida<sep>de', 'esta<sep>con', 'siempre<sep>le', 'luchona<sep>o', '.<sep>este', 'puta<sep>solo', '.<sep>?', 'loca<sep>\"', '<s><sep>voy', 'ese<sep>marica', 'marica<sep>voy', 'cuando<sep>más', '<unk><sep>voy', 'voy<sep>todos', 'ya<sep>va', 'son<sep>una', 'bien<sep>putas', 'una<sep>que', '<unk><sep>quiero', 'verga<sep>cuando', 'que<sep>eso', '.<sep>…', '¡<sep>a', 'la<sep>@usuario', '<s><sep>quiero', 'y<sep>por', 'puto<sep>pinche', 'mi<sep>\"', '\"<sep>te', 'quiero<sep>\"', '\"<sep>mi', 'loca<sep>o', 'o<sep>me', 'que<sep>su', 'y<sep>verga', 'verga<sep>porque', 'porque<sep>solo', 'verga<sep>verga', 'a<sep>todo', 'porque<sep>@usuario', 'es<sep>joto', 'eso<sep>te', 'por<sep>mierda', 'mierda<sep>y', 'por<sep>pinche', 'pinche<sep>marica', '...<sep>no', '...<sep>ni', 'ni<sep>madre', '\"<sep>para', ':<sep>la', '<s><sep>hdp', 'mierda<sep>putas', 'madre<sep>como', 'yo<sep>soy', 'el<sep>mejor', '@usuario<sep>soy', 'soy<sep>yo', 'yo<sep>o', 'esta<sep>de', 'por<sep>está', 'está<sep>madre', '<s><sep>...', 'y<sep>muy', 'mierda<sep>como', 'ver<sep>sus', 'al<sep>joto', 'eso<sep>lo', 'hdp<sep>como', 'al<sep>pinche', ':<sep>madre', '.<sep>¿', '¿<sep>para', '<s><sep>!', 'ya<sep>a', 'ya<sep>qué', '...<sep>es', 'con<sep>putos', 'putas<sep>como', 'como<sep>su', '\"<sep>puta', '\"<sep>les', 'q<sep>la', 'hoy<sep>qué', 'qué<sep>es', 'es<sep>eso', 'eso<sep>loca', 'mierda<sep>.', 'putas<sep>de', 'cuando<sep>se', 'estoy<sep>con', 'putas<sep>...', 'es<sep>pinche', 'son<sep>a', 'ya<sep>las', 'mierda<sep></s>', 'qué<sep>tiene', '\"<sep>está', 'está<sep>y', 'por<sep>las', 'como<sep>le', 'yo<sep>más', 'más<sep>lo', 'de<sep>no', 'madre<sep>en', '<s><sep>qué', 'se<sep>está', 'todo<sep>hdp', 'loca<sep>no', 'se<sep>qué', 'eso<sep>ya', '¿<sep>así', 'así<sep>de', 'son<sep>todos', 'que<sep>puta', 'no<sep>si', 'soy<sep>una', 'vida<sep>eres', 'eres<sep>la', 'mejor<sep>!', 'verga<sep>los', 'madre<sep>todo', 'el<sep>!', 'bien<sep>verga', 'a<sep>verga', 'al<sep>que', 'son<sep>de', 'para<sep>putas', 'putas<sep>tu', 'joto<sep>a', '@usuario<sep>pinche', 'putas<sep>del', 'se<sep>tiene', 'madre<sep>...', '...<sep>la', 'me<sep>esta', 'pero<sep>el', 'verga<sep>soy', 'soy<sep>?', 'más<sep>?', 'muy<sep>loca', 'loca<sep>me', 'nada<sep>y', 'todos<sep>con', '\"<sep>son', 'eso<sep>.', 'solo<sep>nos', '<s><sep>sus', 'los<sep>va', 'pero<sep>ni', 'ni<sep>lo', 'a<sep>mis', 'esta<sep>en', 'en<sep></s>', 'la<sep>más', '<s><sep>mejor', 'que<sep>…', 'bien<sep>pinche', 'pinche<sep>loca', 'loca<sep>pero', 'que<sep>joto', 'joto<sep>eres', 'ya<sep>vale', 'verga<sep>el', '@usuario<sep>😂', '<s><sep>esa', '.<sep>o', '@usuario<sep>su', '?<sep>.', '?<sep>por', 'q<sep>ya', '¡<sep>estoy', 'estoy<sep>de', 'hasta<sep>los', ':<sep>no', '️<sep>si', '.<sep>al', 'yo<sep>te', 'como<sep>si', 'si<sep>todo', 'todos<sep>así', 'así<sep>…', 'cuando<sep>putas', 'putas<sep>voy', 'como<sep>siempre', 'siempre<sep>!', '...<sep>porque', 'tiene<sep>madre', 'loca<sep>como', 'como<sep>esta', 'hoy<sep>por', 'puto<sep></s>', '.<sep>pinches', '¡<sep>me', 'ya<sep>!', 'putas<sep>siempre', 'o<sep>a', 'la<sep>del', 'mi<sep>no', '?<sep>¡', '¡<sep>pinches', '!<sep>si', 'cuando<sep>no', 'vida<sep>a', '.<sep>tu', 'tu<sep>eres', 'bien<sep>de', 'por<sep>nada', 'putas<sep>la', 'tan<sep>luchona', 'le<sep>a', 'su<sep>\"', '\"<sep>mejor', 'putas<sep>se', 'madre<sep>está', 'ya<sep>para', 'un<sep>\"', 'es<sep>porque', 'el<sep>no', 'eres<sep>más', 'pero<sep>joto', 'joto<sep>hasta', 'hasta<sep>para', '<s><sep>marica', '!<sep>me', 'tu<sep>siempre', 'q<sep>…', 'te<sep>lo', 'en<sep>puto', 'q<sep>te', 'las<sep>más', 'marica<sep>son', 'son<sep>tan', '?<sep>en', 'son<sep>lo', 'pinche<sep>\"', 'solo<sep>quiero', 'una<sep>puta', 'verga<sep>les', 'ahora<sep>va', 'va<sep>por', '!<sep>\"', 'los<sep>del', 'para<sep>un', 'un<sep>mejor', '?<sep>y', 'marica<sep>por', '¡<sep>marica', 'ser<sep>más', 'eso<sep>el', 'luchona<sep>no', '\"<sep>😂', 'putos<sep>ya', 'marica<sep>me', 'ni<sep>con', 'ya<sep>los', 'un<sep>:', 'va<sep>?', 'verga<sep>q', 'q<sep>ahora', 'porque<sep>siempre', 'mis<sep>…', 'hdp<sep>:', '.<sep>las', 'y<sep>bien', 'con<sep>más', 'por<sep>una', '\"<sep>...', 'loca<sep>una', 'una<sep>en', 'y<sep>así', 'así<sep>no', 'se<sep>pinches', 'verga<sep>todos', 'de<sep>pinches', 'bien<sep></s>', '¿<sep>me', 'o<sep>joto', 'joto<sep>o', 'o<sep>un', '<s><sep>hasta', 'todos<sep>nos', 'nos<sep>vale', 'en<sep>esa', 'una<sep>ya', 'como<sep>todo', 'todo<sep>un', 'a<sep>el', 'el<sep>.', ':<sep>putos', 'marica<sep>le', 'tiene<sep>ese', 'como<sep>eres', 'eres<sep>marica', 'ya<sep>en', '...<sep>como', 'por<sep>mis', 'se<sep>por', 'soy<sep>así', '.<sep>si', '\"<sep>que', 'al<sep>verga', 'no<sep>pinche', 'para<sep>no', '¿<sep>en', 'en<sep>qué', 'que<sep>este', 'marica<sep>ese', 'ese<sep>😂', '.<sep>los', '.<sep>su', 'loca<sep>loca', 'loca<sep>el', 'puto<sep>?', '?<sep>pinche', 'hay<sep>puta', 'a<sep>más', 'muy<sep>vale', 'siempre<sep>pero', '@usuario<sep>solo', '<s><sep>puto', 'que<sep>voy', 'que<sep>así', 'así<sep>se', 'ni<sep>de', 'ese<sep>de', '...<sep>el', 'a<sep>pinches', '<s><sep>😂', '😂<sep>te', 'porque<sep>\"', 'vida<sep>es', 'tiene<sep>la', 'las<sep>pinches', 'así<sep>el', 'vida<sep>tan', 'así<sep></s>', '@usuario<sep>hoy', 'con<sep>@usuario', 'que<sep>ni', 'soy<sep>loca', 'loca<sep>bien', 'de<sep>muy', 'muy<sep>putas', 'pero<sep>putas', '?<sep>qué', 'madre<sep>@usuario', 'qué<sep>pinche', '@usuario<sep>putos', 'como<sep>en', 'como<sep>mi', 'pero<sep>la', 'madre<sep>o', 'ver<sep>qué', '...<sep>pero', 'las<sep>luchona', 'y<sep>solo', 'no<sep>?', 'solo<sep>les', 'de<sep>este', 'un<sep>marica', 'eso<sep>qué', 'muy<sep>hdp', 'hdp<sep>si', 'putos<sep>que', 'todos<sep>sus', '😂<sep>@usuario', 'y<sep>hasta', 'hasta<sep>@usuario', 'porque<sep>como', 'así<sep>las', 'son<sep>vida', '...<sep>un', 'me<sep>le', 'yo<sep>a', 'le<sep>estoy', 'nada<sep>es', '...<sep>a', 'con<sep>todos', 'de<sep>vida', 'ahora<sep>son', 'madre<sep>pinches', 'su<sep>vida', 'todos<sep>la', 'en<sep>está', 'está<sep>vida', 'esta<sep>madre', 'así<sep>este', 'putos<sep>pero', 'verga<sep>@usuario', 'putas<sep>con', '<s><sep>vale', '.<sep>todos', 'cuando<sep>son', 'verga<sep>está', 'está<sep>a', '<s><sep>:', 'porque<sep>hay', 'hay<sep>un', '!<sep>hoy', 'por<sep>mi', 'qué<sep>estoy', 'estoy<sep>bien', '@usuario<sep>¿', 'esa<sep>…', 'cuando<sep>una', 'ya<sep>tu', 'ese<sep>puto', 'puto<sep>yo', 'y<sep>esa', 'todo<sep>tu', 'que<sep>porque', '.<sep>mis', 'nada<sep>putos', 'al<sep>marica', '.<sep>muy', 'muy<sep>muy', 'mejor<sep>del', 'joto<sep>:', ':<sep>se', 'hoy<sep>y', '😂<sep>se', 'mejor<sep>putos', 'ser<sep>…', 'ahora<sep>de', 'a<sep>pinche', 'cuando<sep>soy', 'soy<sep>a', 'hoy<sep>?', 'se<sep>putas', '<unk><sep>vida', 'marica<sep>no', '¿<sep>cuando', '?<sep>¿', 'no<sep>ser', 'el<sep>\"', 'madre<sep>por', 'eres<sep>el', 'loca<sep>cuando', 'quiero<sep></s>', 'un<sep>putas', '<s><sep>nada', 'ser<sep>el', 'los<sep>me', 'son<sep>para', '.<sep>son', 'ya<sep>les', 'hasta<sep>con', '?<sep>te', 'loca<sep>todos', 'todos<sep>me', '@usuario<sep>una', 'madre<sep>para', 'porque<sep>así', 'con<sep>yo', 'ahora<sep>la', 'loca<sep>en', '😂<sep>.', 'hoy<sep>pero', 'pero<sep>hoy', '<s><sep>bien', 'bien<sep>por', '.<sep>así', 'porque<sep>todos', 'pero<sep>siempre', 'siempre<sep>les', 'es<sep>esa', 'puta<sep>y', 'madre<sep>?', 'y<sep>estoy', '\"<sep>pinche', 'pinche<sep>@usuario', 'tu<sep>puto', '!<sep>no', 'esta<sep>eso', 'eso<sep>que', '😂<sep>como', '¿<sep>?', 'como<sep>una', 'ser<sep>tu', 'putas<sep>yo', 'yo<sep>:', ':<sep>y', 'nada<sep>?', ':<sep>eso', '!<sep>se', 'es<sep>\"', 'nada<sep>me', 'me<sep>quiero', 'siempre<sep>te', 'yo<sep>?', '¿<sep>de', '¿<sep>del', 'que<sep>loca', 'loca<sep>está', 'está<sep>es', '.<sep>cuando', 'hoy<sep>lo', 'para<sep>siempre', '\"<sep>esta', '\"<sep>joto', 'joto<sep>\"', '.<sep>el', 'hasta<sep>cuando', 'cuando<sep>este', 'que<sep>¡', 'o<sep>que', 'pero<sep>se', 'quiero<sep>un', 'y<sep>del', 'putos<sep>así', '@usuario<sep>madre', 'qué<sep>solo', '?<sep>yo', 'son<sep>muy', '.<sep>estoy', 'ya<sep>te', 'mierda<sep>hasta', 'te<sep>está', 'mejor<sep>para', 'nada<sep>!', '!<sep>que', 'ser<sep>joto', '.<sep>quiero', 'qué<sep>te', 'pero<sep>yo', 'soy<sep>más', 'más<sep>hdp', 'no<sep>marica', 'ya<sep>?', 'ver<sep>la', '!<sep>tu', 'se<sep>para', 'de<sep>todos', 'para<sep>ser', 'ser<sep>del', '@usuario<sep>eso', 'que<sep>ser', 'ser<sep>para', 'porque<sep>al', 'lo<sep>estoy', 'mierda<sep>...', 'pero<sep>es', '\"<sep>yo', 'es<sep>verga', 'verga<sep>hasta', 'hasta<sep>en', 'pinches<sep>no', 'no<sep>!', 'así<sep>en', 'o<sep>cuando', 'y<sep>son', 'como<sep>verga', 'marica<sep>a', 'para<sep>lo', 'muy<sep>luchona', 'el<sep>ver', 'más<sep>si', 'de<sep>más', 'más<sep>se', 'madre<sep>tiene', 'ser<sep>y', 'no<sep>tu', 'tu<sep>ya', 'yo<sep>loca', 'de<sep>de', 'sus<sep>pinches', 'lo<sep>va', 'porque<sep>una', 'una<sep>no', 'putos<sep>o', '@usuario<sep>?', 'todo<sep>putas', 'como<sep>este', 'es<sep>cuando', 'de<sep>pinche', 'putos<sep>?', 'joto<sep>por', '.<sep>ni', 'ni<sep>la', '@usuario<sep>estoy', 'los<sep>\"', '\"<sep>con', 'porque<sep>si', 'marica<sep>:', 'es<sep>nada', 'madre<sep>puto', '...<sep>o', 'eso<sep>se', '...<sep>!', 'todo<sep>a', '@usuario<sep>siempre', 'siempre<sep>no', '¿<sep>les', 'en<sep>\"', '.<sep>puta', '.<sep>puto', 'joto<sep>si', 'es<sep>.', '.<sep>la', 'estoy<sep>tan', 'loca<sep>?', 'son<sep>los', 'todo<sep>los', '😂<sep>ni', 'nada<sep>el', 'es<sep>tu', 'verga<sep>va', 'eso<sep>de', 'si<sep>tiene', '<s><sep>al', 'que<sep>ahora', 'vida<sep>?', 'soy<sep>marica', 'qué<sep>hay', 'son<sep>el', 'puto<sep>.', 'estoy<sep>como', '...<sep>hasta', 'este<sep>joto', 'joto<sep>no', '@usuario<sep>el', 'putas<sep>les', 'vida<sep>la', 'son<sep>ni', 'todos<sep>hasta', 'un<sep>puto', 'cuando<sep>tu', 'tiene<sep>un', 'así<sep>eres', '...<sep>le', 'nada<sep>mejor', 'no<sep>el', 'putas<sep>?', 'pinche<sep>yo', 'pinche<sep>eres', 'eres<sep>así', 'soy<sep>un', 'me<sep>?', '.<sep>todo', 'o<sep>les', 'ser<sep>pinche', '\"<sep>como', '@usuario<sep>como', 'ahora<sep>estoy', 'la<sep>mierda', '😂<sep>y', 'quiero<sep>ver', 'ver<sep>los', 'en<sep>putas', 'de<sep>siempre', 'siempre<sep></s>', 'lo<sep>mejor', 'mejor<sep>es', 'eso<sep>siempre', 'el<sep>muy', 'por<sep>este', 'la<sep>ver', 'ver<sep>putos', 'como<sep>marica', 'marica<sep>😂', 'le<sep>\"', '!<sep>estoy', 'ni<sep>por', 'hdp<sep>del', 'como<sep></s>', 'me<sep>a', 'yo<sep>es', 'tan<sep>a', 'pinche<sep>tan', 'se<sep>ni', 'ni<sep>como', 'pero<sep>hay', 'si<sep>que', 'putas<sep>va', 'lo<sep>marica', 'voy<sep>en', 'mi<sep>.', 'vida<sep>para', 'porque<sep>les', 'vale<sep>el', ':<sep>@usuario', 'no<sep>todos', '?<sep>@usuario', '<s><sep>tan', 'tan<sep>tu', 'ya<sep>es', 'se<sep>esta', 'nada<sep>los', '!<sep>¿', 'le<sep>tiene', 'son<sep>más', 'marica<sep>¿', '¿<sep>¡', 'eso<sep>?', 'y<sep>esta', 'es<sep></s>', 'putas<sep>las', 'yo<sep>y', 'si<sep>y', 'madre<sep>esa', 'esa<sep>que', 'y<sep>joto', 'me<sep>el', 'cuando<sep>mi', 'madre<sep>nos', 'tiene<sep>las', '@usuario<sep>nos', 'como<sep>puto', '?<sep>putas', 'lo<sep>…', 'qué<sep>les', 'si<sep>soy', 'así<sep>.', 'qué<sep>nos', 'verga<sep>tiene', 'tiene<sep>!', 'el<sep>más', 'o<sep>una', 'solo<sep>por', 'no<sep>como', 'más<sep>los', 'loca<sep>tu', 'lo<sep>hdp', 'madre<sep>se', '@usuario<sep>todos', 'ser<sep>yo', 'en<sep>lo', 'q<sep>así', '?<sep>…', 'que<sep>siempre', 'siempre<sep>se', 'para<sep>para', 'loca<sep>hasta', 'del<sep>\"', 'joto<sep>del', 'loca<sep>los', 'son<sep>por', '<s><sep>está', 'verga<sep>ser', 'que<sep>tiene', 'estoy<sep>\"', '\"<sep>todo', 'a<sep>si', 'se<sep>como', 'vida<sep>…', '¿<sep>pero', 'ni<sep>los', 'mi<sep>le', 'solo<sep>para', 'putos<sep>...', '¿<sep>la', 'si<sep>estoy', 'que<sep>vale', 'tan<sep>de', 'ni<sep>verga', 'qué<sep>se', 'como<sep>puta', 'ahora<sep>solo', '<s><sep>nos', 'más<sep>loca', 'yo<sep>pero', 'si<sep>cuando', 'cuando<sep>ya', 'no<sep>mejor', 'mejor<sep>te', 'porque<sep>cuando', 'y<sep>es', 'por<sep>es', 'muy<sep>pinche', 'que<sep>madre', 'soy<sep>luchona', 'luchona<sep>!', 'mi<sep>😂', '?<sep>tu', 'q<sep>le', 'está<sep>mi', 'mi<sep>mejor', 'soy<sep>y', 'lo<sep>bien', 'loca<sep>es', 'mierda<sep>a', 'eso<sep>a', 'todos<sep></s>', 'solo<sep>.', 'en<sep>cuando', 'cuando<sep>y', 'hasta<sep>te', 'de<sep>luchona', 'luchona<sep>ya', 'ya<sep>la', 'qué<sep>joto', '!<sep>pero', 'pero<sep>qué', '@usuario<sep>esa', 'putos<sep>siempre', 'todo<sep>de', 'bien<sep>solo', 'solo<sep>las', 'así<sep>hasta', 'en<sep>@usuario', 'si<sep>ni', 'hoy<sep>el', 'verga<sep>más', 'es<sep>así', 'así<sep>o', 'todos<sep>puto', 'todo<sep>les', 'qué<sep>la', 'así<sep>...', 'mierda<sep>el', 'putas<sep>por', 'te<sep>tiene', 'cuando<sep>voy', 'mierda<sep>\"', 'pero<sep>cuando', 'ni<sep>en', 'las<sep>esta', 'como<sep>al', 'ese<sep>del', 'o<sep>mi', '¿<sep>se', 'siempre<sep>estoy', 'si<sep>así', 'así<sep>?', 'más<sep>!', '.<sep>un', '!<sep>te', 'lo<sep>quiero', 'el<sep>me', '...<sep>lo', 'solo<sep>tiene', 'tiene<sep>a', 'no<sep>putas', 'no<sep>...', '...<sep>todo', '@usuario<sep>eres', 'todo<sep>!', 'se<sep>nos', '...<sep>si', 'esta<sep>loca', 'putas<sep>lo', 'ser<sep>marica', 'nada<sep>bien', 'bien<sep>con', 'putas<sep>los', 'verga<sep>al', 'porque<sep>sus', '!<sep>los', '.<sep>esa', 'pero<sep>nada', 'más<sep>te', '!<sep>¡', '¡<sep>hasta', ':<sep>marica', 'marica<sep>si', 'ahora<sep>?', '?<sep>como', 'hoy<sep>me', 'loca<sep>:', '!<sep>una', 'que<sep>esta', 'joto<sep>es', 'porque<sep>tiene', 'porque<sep>mi', 'quiero<sep>los', 'más<sep>y', 'más<sep>su', 'está<sep>tan', 'no<sep>siempre', 'todo<sep>q', 'q<sep>me', 'a<sep>esta', '.<sep>está', ':<sep>eres', 'eres<sep>como', 'es<sep>@usuario', '@usuario<sep>esta', 'marica<sep>todo', 'hasta<sep>se', 'la<sep>me', 'mejor<sep>ahora', 'el<sep></s>', 'que<sep>para', 'la<sep>marica', 'ahora<sep>.', '…<sep>ese', 'tiene<sep>loca', '\"<sep>tu', 'siempre<sep>a', 'siempre<sep>loca', 'loca<sep>siempre', 'ahora<sep>más', 'de<sep>:', 'esa<sep>del', 'más<sep>la', 'ser<sep>todo', 'todo<sep>.', 'nada<sep>cuando', 'si<sep>en', 'del<sep>@usuario', '<s><sep>son', '...<sep>más', 'más<sep>pinches', 'que<sep>nada', 'yo<sep>ni', 'putas<sep>vida', 'vida<sep>!', 'yo<sep>yo', 'putos<sep>hay', '@usuario<sep>puto', 'no<sep>yo', '.<sep>esta', 'hay<sep>joto', 'tu<sep>loca', 'solo<sep>una', 'está<sep>el', 'ese<sep>!', '@usuario<sep>ni', '.<sep>nos', '?<sep>😂', 'vida<sep>así', 'como<sep>?', 'es<sep>puto', 'putos<sep>con', 'hoy<sep>.', '<s><sep>luchona', 'hay<sep>me', '@usuario<sep>tiene', 'si<sep>las', 'no<sep>vale', 'vale<sep>la', 'mejor<sep>ese', 'por<sep>lo', 'siempre<sep>el', 'como<sep>va', 'verga<sep>¡', '!<sep>qué', 'yo<sep>como', 'como<sep>ya', 'qué<sep>su', 'va<sep>al', '.<sep>vale', 'nada<sep>está', 'está<sep>muy', 'mejor<sep>si', 'hdp<sep>me', '¿<sep>un', 'ahora<sep>eres', 'porque<sep>los', 'al<sep>ver', 'ver<sep>las', 'quiero<sep>con', 'más<sep>no', 'esa<sep>verga', 'hdp<sep>es', 'mi<sep>y', 'ahora<sep>todo', 'todo<sep>te', '...<sep>del', 'loca<sep>voy', 'voy<sep>para', 'putos<sep>a', 'no<sep>que', 'que<sep>muy', 'muy<sep>pinches', '?<sep>pero', 'solo<sep>o', 'o<sep>con', 'son<sep>!', 'más<sep>puta', 'puta<sep>de', '...<sep>pinche', '?<sep>lo', '@usuario<sep>un', 'o<sep>.', 'no<sep>mi', 'mi<sep>pinche', 'q<sep>tu', '?<sep>a', 'se<sep>porque', 'una<sep>me', 'esta<sep>se', 'más<sep>marica', '?<sep>su', 'putos<sep>está', 'está<sep>siempre', 'siempre<sep>en', 'hoy<sep>...', 'todo<sep>?', 'ya<sep>hay', 'quiero<sep>una', 'pero<sep>eso', 'eso<sep>si', 'ahora<sep>a', 'o<sep>putos', 'no<sep>esta', '?<sep>bien', 'de<sep>qué', 'putas<sep>😂', 'q<sep>los', 'así<sep>mi', 'porque<sep>loca', 'hoy<sep>mi', 'si<sep>con', 'una<sep>la', 'ni<sep>le', 'siempre<sep>vale', 'todo<sep>le', 'bien<sep>a', 'ser<sep>un', 'marica<sep>pero', '\"<sep>porque', 'q<sep>son', 'q<sep>hdp', 'joto<sep>me', 'cuando<sep>esta', 'lo<sep>voy', '\"<sep>\"', 'la<sep>quiero', 'o<sep>mejor', 'eso<sep></s>', 'por<sep>ver', '\"<sep>por', 'para<sep>eso', 'te<sep>putas', 'soy<sep>.', '.<sep>nada', '...<sep>para', '@usuario<sep>va', '@usuario<sep>...', '.<sep>yo', 'esta<sep>la', 'por<sep>puto', 'nada<sep>a', '¡<sep>nada', 'quiero<sep>es', 'madre<sep>q', 'q<sep>lo', 'hay<sep>la', '.<sep>ser', 'ser<sep>la', '️<sep>los', 'del<sep>puto', 'cuando<sep>la', 'o<sep></s>', 'es<sep>pinches', 'hdp<sep>@usuario', '!<sep>hay', '...<sep>😂', '...<sep>¡', '.<sep>siempre', 'siempre<sep>está', 'ahora<sep>...', '...<sep>tan', 'tan<sep>tan', 'bien<sep>y', '<s><sep>ser', 'loca<sep>a', 'vida<sep>vale', 'esta<sep>@usuario', '?<sep>madre', '😂<sep>yo', 'tiene<sep>bien', 'mejor<sep>no', '@usuario<sep>las', 'del<sep>ser', 'eso<sep>y', 'me<sep>@usuario', '@usuario<sep>!', 'mi<sep>marica', 'no<sep>esa', 'ni<sep>se', 'un<sep>ser', 'madre<sep>un', 'pero<sep>mis', 'putas<sep>a', 'pinches<sep>madre', 'madre<sep>mejor', 'ni<sep>para', '...<sep>les', 'puto<sep>!', 'todos<sep>...', 'quiero<sep>la', 'mi<sep>así', 'el<sep>y', 'te<sep>ni', 'ni<sep>un', 'y<sep>ser', 'puto<sep>o', 'te<sep>cuando', 'que<sep>que', '!<sep>con', 'así<sep>ya', '\"<sep>así', '...<sep>solo', 'solo<sep>son', 'son<sep>del', '\"<sep>un', 'mierda<sep>estoy', '...<sep>?', 'a<sep>nada', 'nada<sep>ya', 'en<sep>eso', 'eso<sep>del', 'en<sep>ser', 'la<sep>…', 'joto<sep>porque', 'una<sep>\"', 'mierda<sep>puto', 'loca<sep>soy', 'putos<sep>le', 'loca<sep>esta', 'en<sep>que', 'verga<sep>hoy', 'hoy<sep>o', 'nada<sep>así', 'así<sep>a', 'ser<sep>.', 'yo<sep>ya', '@usuario<sep>porque', 'putas<sep>esta', 'putos<sep>me', '?<sep>los', 'qué<sep>puta', '!<sep>lo', 'siempre<sep>con', 'si<sep>nos', 'si<sep>por', '\"<sep>a', 'no<sep>madre', 'quiero<sep>q', 'no<sep>ver', 'pero<sep>ese', 'y<sep>voy', ':<sep>hasta', 'en<sep>pinches', 'a<sep>no', '¡<sep>voy', 'más<sep>pinche', 'este<sep>puto', 'luchona<sep>...', 'de<sep>como', 'es<sep>este', 'la<sep>la', 'si<sep>como', 'yo<sep>por', '!<sep>hdp', 'hasta<sep>pinche', 'tu<sep>\"', 'verga<sep>solo', 'solo<sep>a', ':<sep>una', '!<sep>eso', 'siempre<sep>lo', 'pero<sep>nos', 'madre<sep>ver', 'tu<sep>mi', 'q<sep>el', 'más<sep>mi', '<s><sep>tiene', 'loca<sep>yo', 'es<sep>loca', 'ya<sep>.', 'tu<sep>al', 'del<sep>…', 'voy<sep>por', 'está<sep>más', 'tu<sep>es', 'de<sep>está', 'no<sep>\"', '...<sep>se', 'todo<sep>la', 'eres<sep>luchona', 'tu<sep>con', 'las<sep>del', 'hoy<sep>:', '¡<sep>.', '?<sep>hdp', 'ni<sep>qué', 'qué<sep>nada', 'puto<sep>:', ':<sep>el', 'vida<sep>o', '.<sep>soy', 'pinche<sep>puta', 'puta<sep>vida', 'vida<sep>hdp', 'de<sep>q', '...<sep>una', 'solo<sep>lo', 'que<sep>mierda', '?<sep>puto', 'tan<sep>hdp', 'ver<sep>...', '@usuario<sep>así', 'si<sep>madre', 'madre<sep>las', 'hoy<sep>de', 'pero<sep>con', 'solo<sep>que', 'mejor<sep>q', 'loca<sep>porque', '️<sep>las', 'las<sep>de', 'porque<sep>verga', 'hdp<sep>y', 'puto<sep>marica', '...<sep>joto', 'ser<sep></s>', '😂<sep>pero', 'madre<sep>eres', 'eres<sep></s>', 'soy<sep>madre', 'ya<sep>pinche', 'como<sep>por', 'todo<sep>bien', 'eso<sep>está', 'mierda<sep>se', 'verga<sep>estoy', 'está<sep>su', 'todos<sep>en', '?<sep>esa', 'esa<sep>te', 'por<sep>@usuario', 'joto<sep>ese', 'así<sep>porque', 'cuando<sep>le', 'pero<sep>son', '¡<sep>es', 'en<sep>solo', 'todos<sep>se', 'a<sep>madre', 'hay<sep>pinches', 'hay<sep>putos', '\"<sep>la', '\"<sep>¡', 'cuando<sep>yo', 'yo<sep>de', 'yo<sep>el', 'eres<sep>con', 'hdp<sep>en', 'loca<sep>nada', 'ver<sep>!', 'un<sep>solo', 'loca<sep>nos', 'nos<sep>lo', 'para<sep>hoy', '.<sep>madre', 'siempre<sep>que', 'porque<sep>todo', 'la<sep>q', 'q<sep>una', 'una<sep>tiene', 'verga<sep>su', 'ya<sep>está', '<s><sep>loca', 'todos<sep>que', 'loca<sep>ni', 'y<sep>quiero', 'yo<sep>solo', 'o<sep>más', 'madre<sep>hoy', '.<sep>va', 'para<sep>todo', 'hdp<sep>?', 'siempre<sep>como', 'vida<sep>como', 'ser<sep>...', 'te<sep>vale', 'hdp<sep>no', 'más<sep>nos', 'mi<sep>puta', 'puta<sep>te', '.<sep>:', 'luchona<sep>pero', 'mi<sep>a', 'putos<sep>…', 'al<sep>mejor', 'madre<sep>lo', 'todo<sep>que', 'nada<sep>se', 'esta<sep>bien', '!<sep>bien', 'al<sep>hdp', 'no<sep>por', 'tiene<sep>su', 'tiene<sep>con', '\"<sep>eso', '!<sep>hasta', 'porque<sep>te', 'verga<sep>puto', 'puto<sep>me', 'putos<sep>yo', 'es<sep>todo', 'y<sep>putos', 'porque<sep>le', 'todo<sep>cuando', 'cuando<sep>nos', '...<sep>cuando', 'te<sep>el', 'el<sep>ser', 'joto<sep>le', 'lo<sep>es', 'o<sep>putas', 'putas<sep>porque', 'ver<sep>no', 'putas<sep>vale', 'cuando<sep>las', 'está<sep>!', 'estoy<sep>y', '\"<sep>siempre', 'nos<sep>va', 'eso<sep>nos', 'lo<sep>\"', 'el<sep>el', 'te<sep>los', 'verga<sep>del', 'para<sep>más', 'ser<sep>que', 'verga<sep>así', '!<sep>su', 'de<sep>me', 'me<sep>…', '¿<sep>vale', 'vale<sep>?', 'pero<sep>esa', 'las<sep>\"', 'todos<sep>a', 'o<sep>@usuario', 'que<sep>qué', '¿<sep>eres', 'lo<sep>soy', 'una<sep>y', 'muy<sep>pero', 'los<sep>marica', 'marica<sep>del', 'una<sep>.', 'eso<sep>los', '.<sep>hasta', 'hasta<sep>ya', 'joto<sep>en', 'hay<sep>a', 'o<sep>voy', 'voy<sep>te', '\"<sep>marica', 'las<sep>voy', '@usuario<sep>hasta', 'una<sep>esta', 'madre<sep>😂', 'vida<sep>¿', 'solo<sep>está', 'tiene<sep>cuando', 'pero<sep>los', 'como<sep>.', '@usuario<sep>ahora', 'con<sep>verga', 'mierda<sep>no', 'vida<sep>en', 'y<sep>vida', 'nada<sep>mi', 'todos<sep>las', 'ahora<sep>está', 'está<sep>puta', 'mejor<sep>ni', 'putos<sep>les', 'que<sep>marica', 'el<sep>qué', 'ya<sep>una', 'a<sep>de', 'si<sep>muy', 'así<sep>quiero', 'quiero<sep>el', 'madre<sep>más', 'ya<sep>voy', '.<sep>porque', 'ser<sep>por', '?<sep>porque', 'que<sep>ese', 'el<sep>verga', 'yo<sep>para', 'por<sep>madre', 'yo<sep>porque', 'joto<sep>hoy', 'porque<sep>tu', '!<sep>nada', 'quiero<sep>como', ':<sep>los', 'de<sep>hdp', 'ya<sep>al', 'pero<sep>está', 'bien<sep>si', '😂<sep>ya', 'este<sep>el', 'puta<sep>\"', '\"<sep>luchona', 'luchona<sep>\"', 'porque<sep>soy', 'y<sep>está', 'hasta<sep>al', 'mi<sep>puto', 'q<sep>con', 'o<sep>son', 'putas<sep>si', 'o<sep>se', 'si<sep>siempre', 'mi<sep>siempre', 'y<sep>siempre', 'por<sep>…', 'mierda<sep>por', '😂<sep>más', 'más<sep>tu', 'y<sep>puta', 'y<sep></s>', 'mi<sep>los', 'tu<sep>no', 'mejor<sep>ya', 'eso<sep>:', '?<sep>verga', 'para<sep>sus', 'pinche<sep></s>', 'ver<sep>eso', 'eso<sep>pero', 'de<sep>eso', 'quiero<sep>en', 'tiene<sep>una', 'yo<sep>así', 'como<sep>ser', 'las<sep>.', '?<sep>un', 'madre<sep>pero', 'no<sep>ya', 'está<sep>hasta', 'ni<sep>el', 'tu<sep></s>', '\"<sep>en', '...<sep>soy', 'ser<sep>mi', 'está<sep>.', '¡<sep>te', 'todos<sep>una', 'verga<sep>mis', ':<sep>estoy', 'si<sep>tu', 'verga<sep>le', 'qué<sep>le', 'más<sep>con', 'qué<sep>?', '?<sep>de', '!<sep>vale', '@usuario<sep>le', 'como<sep>putos', 'este<sep>pinche', 'te<sep>en', 'con<sep>qué', 'yo<sep>se', 'pero<sep>vale', 'y<sep>soy', 'es<sep>y', 'muy<sep>marica', '😂<sep>le', '\"<sep>ni', 'ni<sep>\"', '...<sep>así', 'ya<sep>todo', 'de<sep>…', 'se<sep>de', 'esta<sep>su', '...<sep>voy', 'y<sep>y', 'todos<sep>pinche', 'madre<sep>hdp', 'la<sep>a', 'verga<sep>quiero', 'todos<sep>ya', '?<sep>se', 'si<sep>nada', 'putas<sep>está', 'si<sep>una', 'o<sep>las', 'hoy<sep>ni', 'mierda<sep>al', '¡<sep>¡', '¡<sep></s>', '?<sep>nos', '…<sep>se', 'q<sep>les', 'la<sep>putas', '!<sep>:', 'no<sep>sus', 'le<sep>.', 'estoy<sep></s>', 'loca<sep>estoy', 'estoy<sep>?', 'bien<sep>lo', 'eso<sep>mejor', 'el<sep>bien', 'a<sep>putos', '.<sep>bien', 'putos<sep>q', 'mierda<sep>muy', 'vale<sep>más', 'más<sep>verga', 'hoy<sep>que', 'si<sep>ser', 'loca<sep>para', 'mejor<sep></s>', 'los<sep>voy', 'y<sep>...', 'luchona<sep>😂', 'muy<sep>verga', 'verga<sep>tu', 'voy<sep>y', 'así<sep>todos', 'pero<sep>verga', 'ya<sep>ese', 'q<sep>para', 'les<sep>un', '?<sep>soy', 'hasta<sep>putas', 'ser<sep>de', 'verga<sep>las', 'qué<sep>todo', 'ser<sep>loca', 'marica<sep>es', 'ahora<sep>el', 'los<sep>…', 'loca<sep>hay', 'más<sep>vale', 'más<sep>una', '\"<sep>más', 'putos<sep>sus', 'muy<sep>bien', 'y<sep>tiene', 'q<sep>o', 'bien<sep>su', 'el<sep>del', '!<sep>ahora', 'con<sep>al', 'su<sep>todo', '...<sep>@usuario', 'no<sep>joto', 'todo<sep>porque', 'esa<sep>hdp', 'les<sep>va', 'solo<sep>te', '.<sep>tan', 'tan<sep>putos', '😂<sep>la', '.<sep>una', 'ya<sep>y', 'al<sep>el', '!<sep>pinche', 'pinches<sep>nada', 'pinches<sep>siempre', 'siempre<sep>ya', 'es<sep>si', 'le<sep>la', 'a<sep>y', 'si<sep>esta', 'muy<sep>putos', 'mierda<sep>tan', 'mi<sep>en', 'putos<sep>este', '@usuario<sep>:', ':<sep>verga', 'a<sep></s>', 'hoy<sep>!', 'me<sep>pinches', 'me<sep>vida', 'voy<sep>de', 'a<sep>por', 'mejor<sep>así', 'ni<sep>putos', 'es<sep>q', 'esta<sep>a', 'de<sep>tan', 'tan<sep>solo', 'pinche<sep>puto', 'mi<sep>las', 'hoy<sep>le', 'puto<sep>que', 'mejor<sep>de', 'así<sep>te', 'así<sep>les', 'mi<sep>yo', 'yo<sep>del', '<s><sep>más', 'más<sep>por', 'q<sep>tiene', '?<sep>putos', '¿<sep>tu', 'hoy<sep>yo', 'yo<sep>cuando', '!<sep>puta', 'madre<sep>:', 'yo<sep>!', '¡<sep>yo', 'yo<sep>putos', 'yo<sep>les', 'ese<sep>\"', 'mejor<sep>qué', 'en<sep>marica', 'nada<sep>como', '¿<sep>el', 'mi<sep>una', 'madre<sep>le', '️<sep>.', 'o<sep>todo', 'porque<sep>mierda', 'ser<sep>lo', ':<sep>yo', 'esta<sep>muy', 'tan<sep>verga', '¡<sep>eres', 'putas<sep>este', '!<sep>ni', 'hasta<sep>mi', 'de<sep>le', 'la<sep>esa', 'está<sep>ya', 'q<sep>en', 'ver<sep>un', 'vida<sep>les', 'lo<sep>del', 'así<sep>le', 'todos<sep>por', ':<sep>mi', 'en<sep>vida', 'vida<sep>madre', 'madre<sep>solo', 'solo<sep>q', 'q<sep>eres', 'hoy<sep>todos', 'puta<sep>loca', '...<sep>mejor', 'y<sep>\"', 'ahora<sep>soy', '<s><sep>ver', 'quiero<sep>a', 'de<sep>puto', '¡<sep>le', 'los<sep>q', 'hoy<sep>se', 'vale<sep>.', '.<sep>eres', 'o<sep>loca', 'ser<sep>puto', 'puto<sep>no', 'así<sep>para', 'no<sep>eso', ':<sep>hoy', 'ya<sep>loca', 'con<sep>solo', 'si<sep>\"', 'mi<sep>esta', 'o<sep>y', 'porque<sep>con', 'tiene<sep>al', '…<sep>¡', 'es<sep>hoy', ':<sep>puto', 'q<sep>:', ':<sep>.', 'luchona<sep>como', 'qué<sep>madre', 'putas<sep>el', 'pero<sep>ahora', 'mi<sep>mi', 'putos<sep>esta', 'esta<sep>por', 'hdp<sep>ya', 'ya<sep>nada', 'ver<sep>y', '\"<sep>hdp', 'hdp<sep>\"', 'la<sep>va', '?<sep>esta', 'mejor<sep>madre', 'va<sep>y', 'va<sep>una', 'pinche<sep>mierda', 'luchona<sep>porque', 'porque<sep>hoy', '...<sep>en', 'marica<sep>con', 'tiene<sep>el', 'ver<sep>en', 'ver<sep></s>', 'hoy<sep>porque', 'vida<sep>:', ':<sep>siempre', 'q<sep>putos', 'esa<sep>.', 'por<sep>hdp', '¡<sep>se', 'este<sep></s>', 'se<sep>vale', 'todo<sep>tiene', 'tiene<sep>.', 'puta<sep>...', '?<sep>pinches', ':<sep>las', 'joto<sep>ahora', 'bien<sep>el', 'no<sep>verga', 'está<sep>todo', 'o<sep>eso', '@usuario<sep>qué', 'todos<sep>puta', 'este<sep>hdp', 'mierda<sep>me', 'solo<sep>con', 'por<sep>y', 'qué<sep>…', 'del<sep>q', ':<sep>…', 'hdp<sep>ahora', 'ya<sep>son', 'una<sep>putas', 'qué<sep>tu', '@usuario<sep>mi', 'va<sep>.', 'le<sep>este', 'porque<sep>ahora', 'todo<sep>ese', 'como<sep>hoy', 'puta<sep>!', 'eres<sep>tan', '\"<sep>soy', 'soy<sep>puto', 'puto<sep>\"', '\"<sep>hasta', 'eso<sep>son', 'con<sep>pinches', 'o<sep>del', 'puta<sep>?', 'ser<sep>en', 'ya<sep>...', '?<sep>son', 'madre<sep>ahora', 'porque<sep>está', 'cuando<sep>por', 'más<sep></s>', '@usuario<sep>pinches', 'que<sep>:', 'y<sep>eres', 'más<sep>pero', 'la<sep>el', 'puto<sep>si', 'ahora<sep>les', 'un<sep>de', 'mierda<sep>es', 'vida<sep>\"', ':<sep>...', 'no<sep>todo', '\"<sep>loca', 'me<sep>las', 'solo<sep>los', 'las<sep>muy', 'el<sep>un', 'loca<sep>madre', 'putos<sep>si', 'putas<sep>esa', 'para<sep>su', '?<sep>tan', '@usuario<sep>verga', '!<sep>soy', 'putas<sep>solo', 'verga<sep>😂', 'marica<sep>para', 'como<sep>hay', 'pero<sep>mi', 'todos<sep>…', '…<sep>en', 'hay<sep>\"', '😂<sep>que', 'marica<sep>eres', 'voy<sep>marica', 'yo<sep>nos', 'le<sep>pinches', 'se<sep>es', 'vale<sep>!', '!<sep>de', 'q<sep>hasta', 'hasta<sep>nos', 'estoy<sep>para', '😂<sep>...', '...<sep>este', 'los<sep>está', 'marica<sep>\"', 'tu<sep>ni', 'está<sep>así', 'voy<sep>mejor', 'así<sep>!', 'la<sep>nada', 'nada<sep>te', 'hdp<sep>este', 'este<sep>!', 'madre<sep>porque', 'solo<sep>el', 'cuando<sep>todo', 'su<sep>no', 'solo<sep>como', 'como<sep>estoy', 'madre<sep>ese', 'su<sep>ya', '...<sep>pinches', 'va<sep>en', '¡<sep>la', '?<sep>mejor', 'el<sep>la', 'vale<sep>para', 'para<sep>ni', '.<sep>del', 'verga<sep>te', 'solo<sep>si', 'a<sep>mierda', 'mierda<sep>@usuario', 'con<sep>q', 'soy<sep>puta', 'puta<sep>porque', 'se<sep>ya', 'del<sep>que', 'siempre<sep>siempre', '¿<sep>te', 'hoy<sep>si', '...<sep>son', 'quiero<sep>putas', 'voy<sep>al', '?<sep>hasta', 'si<sep>bien', 'luchona<sep>?', 'va<sep>@usuario', 'nada<sep>solo', 'eso<sep>!', 'esta<sep>mierda', 'es<sep>qué', 'ser<sep>muy', 'hdp<sep>para', 'o<sep>?', 'marica<sep>?', 'o<sep>esa', 'pero<sep>puta', 'quiero<sep>más', '?<sep>les', 'que<sep></s>', 'ver<sep>.', 'y<sep>¿', 'vida<sep>hasta', 'los<sep>su', 'su<sep>…', 'putas<sep>mejor', 'yo<sep>con', 'qué<sep>los', 'voy<sep>se', 'me<sep>para', 'el<sep>son', 'joto<sep>con', 'si<sep>va', 'va<sep>...', 'todo<sep>este', 'de<sep>te', 'te<sep>.', 'todos<sep>les', 'puta<sep>joto', 'vida<sep>al', 'eso<sep>va', '️<sep>todo', ':<sep>ya', 'putas<sep>bien', 'si<sep>al', 'q<sep>hay', 'hay<sep>q', 'son<sep>.', 'mejor<sep>los', '!<sep>mi', 'hay<sep>pinche', '…<sep>y', 'pero<sep>esta', 'solo<sep>voy', 'pero<sep>?', 'hay<sep>pero', 'pero<sep>putos', 'o<sep>es', 'o<sep>muy', 'como<sep>ver', 'joto<sep>esta', 'quiero<sep>sus', 'ahora<sep>porque', 'ser<sep>?', 'estoy<sep>muy', 'si<sep>solo', 'es<sep>marica', 'hoy<sep>la', 'loca<sep>@usuario', 'marica<sep>el', 'hay<sep>mejor', 'tiene<sep>esa', 'está<sep>que', 'tiene<sep>qué', 'todos<sep>como', 'tiene<sep>mi', 'todo<sep>una', 'ver<sep>tu', 'un<sep>me', 'el<sep>…', 'ahora<sep>por', 'ver<sep>?', 'se<sep>todos', '?<sep>nada', 'más<sep>les', '!<sep>al', 'que<sep>...', 'eres<sep>lo', 'tiene<sep>tu', 'por<sep>.', 'madre<sep>siempre', '?<sep>con', 'esa<sep>mierda', 'loca<sep>tan', 'una<sep>mejor', 'ya<sep>si', '\"<sep>bien', 'madre<sep>hasta', '.<sep>más', 'vale<sep>que', 'ni<sep>q', '\"<sep>sus', 'verga<sep>eso', 'son<sep></s>', 'no<sep>…', 'porque<sep>mejor', 'lo<sep>esta', 'mi<sep>putas', 'va<sep>el', 'loca<sep>ahora', 'solo<sep>de', 'todos<sep>para', 'eso<sep>\"', 'joto<sep>las', 'qué<sep>siempre', 'siempre<sep>esta', 'porque<sep>eso', '?<sep>:', '¿<sep>si', 'q<sep>madre', 'luchona<sep>la', 'la<sep>esta', 'madre<sep>son', 'es<sep>!', 'es<sep>a', 'vida<sep>no', 'pero<sep>luchona', 'todo<sep>esa', '!<sep>la', 'verga<sep>ahora', 'ahora<sep>las', '¿<sep>es', 'bien<sep>en', 'todos<sep>pero', '¿<sep>soy', '\"<sep>estoy', 'este<sep>en', 'puta<sep>con', 'lo<sep>pinches', 'marica<sep>se', 'tiene<sep>ni', 'ese<sep>que', 'todo<sep>eso', 'ni<sep>sus', 'mi<sep>ya', '¡<sep>nos', 'hasta<sep>sus', 'de<sep>¡', '¡<sep>madre', 'mierda<sep>joto', 'todo<sep>mi', 'todo<sep>soy', 'hay<sep>verga', 'verga<sep>ni', 'si<sep>voy', 'porque<sep>mis', '¡<sep>eso', 'o<sep>:', 'madre<sep>muy', 'hdp<sep>ni', 'soy<sep>esa', 'de<sep>hasta', 'cuando<sep>es', '!<sep>en', '?<sep>estoy', 'bien<sep>hay', '?<sep>quiero', 'se<sep>...', 'te<sep>me', 'y<sep>hay', 'putos<sep>como', 'loca<sep>pinches', 'q<sep>esa', 'eres<sep>puto', '...<sep>qué', 'ese<sep>me', 'el<sep>a', 'mi<sep>!', 'todo<sep>por', 'mejor<sep>y', 'mierda<sep>del', '.<sep>voy', 'estoy<sep>.', 'ese<sep></s>', 'tiene<sep>de', 'un<sep>no', 'yo<sep>\"', 'se<sep>verga', 'verga<sep>putas', 'putas<sep>mierda', 'madre<sep>eso', 'tu<sep>por', '<s><sep>va', 'va<sep>pero', '…<sep>¿', '¿<sep>voy', '¿<sep>estoy', '?<sep>ni', '@usuario<sep>del', 'en<sep>más', 'mierda<sep>putos', 'no<sep>putos', 'le<sep>putas', '😂<sep>¡', 'no<sep>solo', 'son<sep>mierda', ':<sep>del', '¡<sep>putas', 'y<sep>ese', 'hdp<sep>se', 'putas<sep>ni', 'le<sep>para', 'si<sep>¿', 'solo<sep>le', 'ver<sep>mi', 'hasta<sep>por', 'al<sep>qué', 'mi<sep>ser', 'madre<sep>bien', 'putas<sep>eres', 'mejor<sep>una', 'una<sep>mi', 'verga<sep>tan', 'verga<sep>madre', 'está<sep>una', 'joto<sep>...', '¡<sep>puta', 'puta<sep>son', 'ni<sep>les', '¿<sep>o', 'esta<sep>el', 'en<sep>es', 'más<sep>esta', 'me<sep>...', 'está<sep>al', 'que<sep>mejor', 'solo<sep>ver', 'putas<sep>son', 'mierda<sep>…', '…<sep>@usuario', 'mierda<sep>hdp', 'qué<sep>de', 'lo<sep>se', 'tu<sep>mejor', 'joto<sep>puto', 'bien<sep>para', 'ver<sep>de', 'si<sep>más', 'vale<sep>es', '?<sep>ese', 'mejor<sep>le', 'putos<sep>para', '¿<sep>porque', 'como<sep>así', 'va<sep>putos', 'la<sep>y', '.<sep>hoy', 'hoy<sep>nos', 'madre<sep>una', 'tu<sep>mierda', 'mierda<sep>madre', 'soy<sep>como', 'como<sep>soy', 'este<sep>soy', 'yo<sep>ahora', 'q<sep>estoy', 'luchona<sep>lo', 'qué<sep>va', 'loca<sep>vida', 'vida<sep>si', 'si<sep>tan', 'le<sep>es', 'bien<sep>te', 'marica<sep>tu', 'que<sep>tan', 'se<sep>si', 'un<sep>...', 'mierda<sep>todos', 'esa<sep>si', 'y<sep>puto', 'para<sep>mis', 'pero<sep>porque', 'le<sep>esta', '...<sep>loca', 'todo<sep>con', 'luchona<sep>voy', 'todo<sep>marica', 'más<sep>mejor', 'si<sep>pero', 'hay<sep>por', 'es<sep>mierda', '️<sep>!', 'ahora<sep>los', 'o<sep>estoy', 'es<sep>madre', 'estoy<sep>que', 'ya<sep>con', 'mierda<sep>en', 'hay<sep>te', 'te<sep>...', '?<sep>todos', 'se<sep>no', 'nada<sep>pero', 'puto<sep>y', 'putas<sep>hasta', 'ni<sep>cuando', 'pero<sep>le', 'más<sep>para', 'son<sep>en', 'quiero<sep>y', 'me<sep>.', 'la<sep>.', 'de<sep>.', 'voy<sep>.', '...<sep>ese', 'para<sep>…', 'madre<sep>¡', 'tu<sep>que', 'hoy<sep>un', ':<sep>solo', 'si<sep>¡', 'una<sep>marica', 'tan<sep>en', 'me<sep>no', 'pero<sep>pinche', 'ver<sep>su', 'marica<sep>te', 'ni<sep>si', 'esta<sep>está', 'nada<sep>la', '😂<sep>tu', 'marica<sep>un', 'putas<sep>:', 'porque<sep>estoy', 'a<sep>al', 'eres<sep>!', 'mi<sep>todos', 'ahora<sep>no', 'yo<sep>tan', 'tan<sep>joto', 'todo<sep>ya', 'qué<sep>si', 'loca<sep>se', '¡<sep>y', 'luchona<sep>al', 'pero<sep>¿', 'ahora<sep>q', '<s><sep>joto', 'esa<sep>joto', '¿<sep>son', 'marica<sep>mi', 'mierda<sep>todo', 'porque<sep>ese', 'si<sep>verga', 'más<sep>es', 'tu<sep>el', 'pero<sep>por', 'por<sep>ahora', 'nada<sep>con', 'hasta<sep>lo', 'de<sep>yo', 'más<sep>el', 'al<sep>tu', 'tu<sep>pero', 'ya<sep>más', 'siempre<sep>los', 'no<sep>ni', '!<sep>eres', 'solo<sep>así', 'por<sep>putas', 'pinches<sep>puto', 'puto<sep>para', 'mejor<sep>ser', 'es<sep>puta', 'puta<sep>pero', 'bien<sep>puta', 'ver<sep>esta', 'así<sep>joto', '...<sep>tiene', '️<sep>@usuario', 'ese<sep>es', 'ver<sep>este', 'eres<sep>al', 'de<sep>se', 'se<sep>…', '...<sep>madre', 'solo<sep>putas', '!<sep>putas', 'pero<sep>para', 'hasta<sep>eso', 'putos<sep>es', 'los<sep>muy', '¡<sep>putos', '\"<sep>ese', 'estoy<sep>más', 'quiero<sep>…', 'verga<sep>sus', 'ese<sep>.', '!<sep>quiero', 'joto<sep>pero', 'estoy<sep>un', 'ni<sep>tan', 'no<sep>¿', '️<sep>...', 'voy<sep>con', 'a<sep>joto', '<s><sep>mierda', '!<sep>mierda', 'mierda<sep>mierda', 'les<sep>quiero', '?<sep>este', 'puta<sep>pinche', 'joto<sep>solo', 'joto<sep>como', 'por<sep>vida', 'siempre<sep>por', 'eso<sep>soy'])\n",
      "Probs: 42.13660408056637\n"
     ]
    },
    {
     "ename": "AssertionError",
     "evalue": "Probs don't sum up the expected value",
     "output_type": "error",
     "traceback": [
      "\u001b[1;31m---------------------------------------------------------------------------\u001b[0m",
      "\u001b[1;31mAssertionError\u001b[0m                            Traceback (most recent call last)",
      "Cell \u001b[1;32mIn[143], line 2\u001b[0m\n\u001b[0;32m      1\u001b[0m bi \u001b[39m=\u001b[39m Bigram(corpus)\n\u001b[1;32m----> 2\u001b[0m bi\u001b[39m.\u001b[39;49mtest()\n\u001b[0;32m      4\u001b[0m \u001b[39m# Very frequent \u001b[39;00m\n\u001b[0;32m      5\u001b[0m \u001b[39mprint\u001b[39m(bi\u001b[39m.\u001b[39mP(\u001b[39m'\u001b[39m\u001b[39m.\u001b[39m\u001b[39m'\u001b[39m, tokens[\u001b[39m'\u001b[39m\u001b[39mend\u001b[39m\u001b[39m'\u001b[39m]))\n",
      "Cell \u001b[1;32mIn[140], line 81\u001b[0m, in \u001b[0;36mLanguageModel.test\u001b[1;34m(self)\u001b[0m\n\u001b[0;32m     79\u001b[0m a \u001b[39m=\u001b[39m [\u001b[39mself\u001b[39m\u001b[39m.\u001b[39m_Laplace(g) \u001b[39mfor\u001b[39;00m g \u001b[39min\u001b[39;00m \u001b[39mself\u001b[39m\u001b[39m.\u001b[39mnGrams]\n\u001b[0;32m     80\u001b[0m \u001b[39mprint\u001b[39m(\u001b[39m\"\u001b[39m\u001b[39mProbs:\u001b[39m\u001b[39m\"\u001b[39m, \u001b[39msum\u001b[39m(a))\n\u001b[1;32m---> 81\u001b[0m \u001b[39massert\u001b[39;00m np\u001b[39m.\u001b[39mround(\u001b[39msum\u001b[39m(a)) \u001b[39m==\u001b[39m \u001b[39mlen\u001b[39m(\u001b[39mself\u001b[39m\u001b[39m.\u001b[39mvocab) \u001b[39m*\u001b[39m\u001b[39m*\u001b[39m (\u001b[39mself\u001b[39m\u001b[39m.\u001b[39mgramLen \u001b[39m-\u001b[39m \u001b[39m1\u001b[39m), \u001b[39m\"\u001b[39m\u001b[39mProbs don\u001b[39m\u001b[39m'\u001b[39m\u001b[39mt sum up the expected value\u001b[39m\u001b[39m\"\u001b[39m\n",
      "\u001b[1;31mAssertionError\u001b[0m: Probs don't sum up the expected value"
     ]
    }
   ],
   "source": [
    "bi = Bigram(corpus)\n",
    "bi.test()\n",
    "\n",
    "# Very frequent \n",
    "print(bi.P('.', tokens['end']))\n",
    "print(bi.P(\"es\", \"que\"))\n",
    "\n",
    "# Doesn't exist\n",
    "print(bi.P(tokens['begin'], tokens['end']))"
   ]
  },
  {
   "cell_type": "code",
   "execution_count": null,
   "metadata": {},
   "outputs": [],
   "source": [
    "tri = Trigram(corpus)\n",
    "tri.test()\n",
    "\n",
    "# Very frequent\n",
    "print(tri.P('!', '!', '!'))\n",
    "print(tri.P('es', 'que', 'no'))\n",
    "\n",
    "# Doesn't exist\n",
    "print(tri.P('Luis', 'Eduardo', 'Robles'))\n"
   ]
  },
  {
   "cell_type": "markdown",
   "metadata": {},
   "source": [
    "#### Comment"
   ]
  },
  {
   "cell_type": "markdown",
   "metadata": {},
   "source": [
    "### 3. Interpolated Model"
   ]
  },
  {
   "cell_type": "code",
   "execution_count": null,
   "metadata": {},
   "outputs": [],
   "source": [
    "c_train, c_test = train_test_split(corpus, test_size = 0.2, train_size = 0.8)\n",
    "c_test, c_val = train_test_split(c_test, test_size = 0.5, train_size = 0.5)\n",
    "print(f'Lengths of stratified sets:\\n\\tTrain: {len(c_train)}\\n\\tTest: {len(c_test)}\\n\\tValidation: {len(c_val)}')"
   ]
  },
  {
   "attachments": {},
   "cell_type": "markdown",
   "metadata": {},
   "source": [
    "# TODO - Not needed but strange behavior"
   ]
  },
  {
   "cell_type": "code",
   "execution_count": null,
   "metadata": {},
   "outputs": [],
   "source": [
    "uni, bi, tri = Unigram(c_train), Bigram(c_train), Trigram(c_train)\n",
    "pU, pB, pT = uni.perplexity(c_val), bi.perplexity(c_val), tri.perplexity(c_val)\n",
    "print(pU, pB, pT)"
   ]
  },
  {
   "attachments": {},
   "cell_type": "markdown",
   "metadata": {},
   "source": [
    "# TODO "
   ]
  },
  {
   "cell_type": "code",
   "execution_count": null,
   "metadata": {},
   "outputs": [],
   "source": [
    "params = [(1/3, 1/3, 1/3), (0.4, 0.4, 0.2), (0.2, 0.4, 0.4), (0.5, 0.4, 0.1), (0.1, 0.4, 0.5), (0.9, 0.05, 0.05)]"
   ]
  },
  {
   "cell_type": "code",
   "execution_count": null,
   "metadata": {},
   "outputs": [],
   "source": [
    "# This is wrong\n",
    "'''\n",
    "pps = Interpolated.Interpolate([uni, bi, tri], c_test, params) ** (-1 / len(c_test))\n",
    "ordered = np.argsort(pps)\n",
    "print(\"Params ordered by perplexity\")\n",
    "for p in ordered: print(f\"\\t{np.round(params[p], decimals = 1)} with a value of {pps[p]}\")\n",
    "'''"
   ]
  },
  {
   "cell_type": "code",
   "execution_count": null,
   "metadata": {},
   "outputs": [],
   "source": [
    "'''\n",
    "pps = Interpolated(models = [uni, bi, tri], lambdas = params).dev(c_test) ** (-1 / len(c_test))\n",
    "ordered = np.argsort(pps)\n",
    "print(\"Params ordered by perplexity\")\n",
    "for p in ordered: print(f\"\\t{np.round(params[p], decimals = 1)} with a value of {pps[p]}\")\n",
    "'''"
   ]
  },
  {
   "cell_type": "markdown",
   "metadata": {},
   "source": [
    "#### Comment"
   ]
  },
  {
   "cell_type": "markdown",
   "metadata": {},
   "source": [
    "## Text Generation"
   ]
  },
  {
   "cell_type": "markdown",
   "metadata": {},
   "source": [
    "### 1. Tweet Functionality"
   ]
  },
  {
   "cell_type": "code",
   "execution_count": null,
   "metadata": {},
   "outputs": [],
   "source": [
    "uni = Unigram(c_train)\n",
    "uni.tweet()"
   ]
  },
  {
   "cell_type": "markdown",
   "metadata": {},
   "source": [
    "#### Comment"
   ]
  },
  {
   "cell_type": "markdown",
   "metadata": {},
   "source": [
    "### 2. AMLO model"
   ]
  },
  {
   "cell_type": "markdown",
   "metadata": {},
   "source": [
    "#### Comment"
   ]
  },
  {
   "cell_type": "markdown",
   "metadata": {},
   "source": [
    "### 3. Evaluation with custom phrases"
   ]
  },
  {
   "cell_type": "markdown",
   "metadata": {},
   "source": [
    "#### Comment"
   ]
  },
  {
   "cell_type": "markdown",
   "metadata": {},
   "source": [
    "### 4. More evaluation "
   ]
  },
  {
   "cell_type": "markdown",
   "metadata": {},
   "source": [
    "#### Comment"
   ]
  },
  {
   "cell_type": "markdown",
   "metadata": {},
   "source": [
    "## El ahorcado"
   ]
  },
  {
   "cell_type": "markdown",
   "metadata": {},
   "source": [
    "### 1. Norvig's Hangman"
   ]
  },
  {
   "cell_type": "markdown",
   "metadata": {},
   "source": [
    "#### Comment"
   ]
  },
  {
   "cell_type": "markdown",
   "metadata": {},
   "source": [
    "### 2. Follow-up"
   ]
  },
  {
   "cell_type": "markdown",
   "metadata": {},
   "source": [
    "#### Comment"
   ]
  }
 ],
 "metadata": {
  "kernelspec": {
   "display_name": "Python 3.8.10 64-bit",
   "language": "python",
   "name": "python3"
  },
  "language_info": {
   "codemirror_mode": {
    "name": "ipython",
    "version": 3
   },
   "file_extension": ".py",
   "mimetype": "text/x-python",
   "name": "python",
   "nbconvert_exporter": "python",
   "pygments_lexer": "ipython3",
   "version": "3.9.16"
  },
  "orig_nbformat": 4,
  "vscode": {
   "interpreter": {
    "hash": "916dbcbb3f70747c44a77c7bcd40155683ae19c65e1c03b4aa3499c5328201f1"
   }
  }
 },
 "nbformat": 4,
 "nbformat_minor": 2
}
