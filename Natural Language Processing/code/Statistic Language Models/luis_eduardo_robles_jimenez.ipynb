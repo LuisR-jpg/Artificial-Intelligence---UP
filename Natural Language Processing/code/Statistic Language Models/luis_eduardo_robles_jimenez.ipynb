{
 "cells": [
  {
   "cell_type": "markdown",
   "metadata": {},
   "source": [
    "# Statistical Model Languages\n",
    "\n",
    "Tarea 3 - Luis Eduardo Robles Jimenez"
   ]
  },
  {
   "cell_type": "markdown",
   "metadata": {},
   "source": [
    "## Language Model and Evaluation"
   ]
  },
  {
   "cell_type": "code",
   "execution_count": 46,
   "metadata": {},
   "outputs": [],
   "source": [
    "import os\n",
    "import nltk\n",
    "import numpy as np\n",
    "from nltk.tokenize import TweetTokenizer\n",
    "from sklearn.model_selection import train_test_split, ParameterGrid"
   ]
  },
  {
   "cell_type": "markdown",
   "metadata": {},
   "source": [
    "### 1. Preprocessing"
   ]
  },
  {
   "cell_type": "code",
   "execution_count": 47,
   "metadata": {},
   "outputs": [],
   "source": [
    "tokens = {'begin': '<s>', 'end': '</s>', 'unknown': '<unk>', 'separator': '<sep>'}"
   ]
  },
  {
   "cell_type": "code",
   "execution_count": 48,
   "metadata": {},
   "outputs": [],
   "source": [
    "class Corpus:\n",
    "    def __init__(self, vocabSize = 100):\n",
    "        self.size = vocabSize\n",
    "        self.corpus = []\n",
    "\n",
    "    def _createVocabulary(self):\n",
    "        words, tokenizer, corpusByWords = [], TweetTokenizer(), []\n",
    "        for doc in self.corpus:\n",
    "            tokens = tokenizer.tokenize(doc)\n",
    "            words += tokens\n",
    "            corpusByWords += [tokens]\n",
    "        count = nltk.FreqDist(words)\n",
    "        count = sorted([(count[key], key) for key in count])[::-1]\n",
    "        if self.size != -1: count = count[:self.size]\n",
    "        return [word for _, word in count], corpusByWords\n",
    "\n",
    "    def _readFile(self, path, divideByLine = True):\n",
    "        file = []\n",
    "        with open(path, \"r\") as f_corpus:\n",
    "            for line in f_corpus:\n",
    "                if not line.isspace():\n",
    "                    file += [line[:-1]]\n",
    "        if not divideByLine: \n",
    "            f = \"\"\n",
    "            for line in file: f += line + \"\\n\"\n",
    "            file = [f]\n",
    "        self.corpus += file\n",
    "\n",
    "    def _buildCorpus(self, vocab, tokenized):\n",
    "        self.corpus = []\n",
    "        for doc in tokenized:\n",
    "            tweet = []\n",
    "            tweet.append(tokens['begin'])\n",
    "            for word in doc:\n",
    "                tweet.append(tokens['unknown'] if word not in vocab else word.lower().strip())\n",
    "            tweet.append(tokens['end'])\n",
    "            self.corpus.append(tweet)\n",
    "\n",
    "    def loadCorpus(self):\n",
    "        raise NotImplementedError()\n",
    "    \n",
    "    def describe(self):\n",
    "        print(f'')\n",
    "\n",
    "class Tweets(Corpus):\n",
    "    def __init__(self, vocabSize = 100):\n",
    "        super().__init__(vocabSize)\n",
    "        self.path_corpus = \"../../data/agresividad/mex_train.txt\"\n",
    "\n",
    "    def loadCorpus(self):\n",
    "        self._readFile(self.path_corpus)\n",
    "        vocab, tokenized = self._createVocabulary()\n",
    "        self._buildCorpus(vocab, tokenized)\n",
    "        return self.corpus\n",
    "    \n",
    "\n",
    "class Mananera(Corpus):\n",
    "    def __init__(self, nFiles = 3, vocabSize = 100):\n",
    "        super().__init__(vocabSize)\n",
    "        self.nFiles = nFiles\n",
    "        self.path_corpus = '../../data/presidente/estenograficas_limpias_por_fecha/'\n",
    "\n",
    "    def loadCorpus(self):\n",
    "        for f, file in enumerate(os.listdir(self.path_corpus)):\n",
    "            if f >= self.nFiles: break\n",
    "            file_path = os.path.join(self.path_corpus, file)\n",
    "            if os.path.isfile(file_path):\n",
    "                self._readFile(file_path, divideByLine = False)\n",
    "        vocab, tokenized = self._createVocabulary()\n",
    "        self._buildCorpus(vocab, tokenized)\n",
    "        return self.corpus"
   ]
  },
  {
   "cell_type": "code",
   "execution_count": 49,
   "metadata": {},
   "outputs": [],
   "source": [
    "vocabulary_size = 100"
   ]
  },
  {
   "cell_type": "code",
   "execution_count": 50,
   "metadata": {},
   "outputs": [],
   "source": [
    "corpus = Tweets(vocabulary_size).loadCorpus()"
   ]
  },
  {
   "attachments": {},
   "cell_type": "markdown",
   "metadata": {},
   "source": [
    "#### Comment"
   ]
  },
  {
   "cell_type": "markdown",
   "metadata": {},
   "source": [
    "### 2. Models Training"
   ]
  },
  {
   "cell_type": "code",
   "execution_count": 51,
   "metadata": {},
   "outputs": [],
   "source": [
    "class LanguageModel:\n",
    "    def __init__(self, corpus = None):\n",
    "        self.corpus = corpus\n",
    "        self.nGrams, self.vocab = dict(), set()\n",
    "        if corpus is None: return\n",
    "        for line in corpus:\n",
    "            self.vocab.update(line)\n",
    "            for g, grams in enumerate(self.getNGrams(line)):\n",
    "                gram = self.toString(grams)\n",
    "                if not gram in self.nGrams: self.nGrams[gram] = 0\n",
    "                self.nGrams[gram] += 1\n",
    "        self.sGrams = dict()\n",
    "        for gram in self.nGrams:\n",
    "            smallerGram = self.toString(self.toTokens(gram)[: -1])\n",
    "            if not smallerGram in self.sGrams: self.sGrams[smallerGram] = 0\n",
    "            self.sGrams[smallerGram] += self.nGrams[gram]\n",
    "        self.vocab = list(self.vocab)\n",
    "\n",
    "    def toString(self, gramList):\n",
    "        gram = \"\"\n",
    "        for i, g in enumerate(gramList):\n",
    "            if i: gram += tokens['separator']\n",
    "            gram += g\n",
    "        return gram\n",
    "\n",
    "    def toTokens(self, gram):\n",
    "        assert isinstance(gram, str), 'Gram is not a string'\n",
    "        return gram.split(tokens['separator'])\n",
    "\n",
    "    def flatten(self, sentence):\n",
    "        if isinstance(sentence[0], list): sentence = sum(sentence, [])\n",
    "        return sentence\n",
    "\n",
    "    def P(self, *words):\n",
    "        # Laplace smoothing\n",
    "        assert len(words) == self.gramLen, \"n-gram doesn't match the expected length\"\n",
    "        words = [(w if w in self.vocab else tokens['unknown']) for w in words]\n",
    "        return self._Laplace(words)\n",
    "\n",
    "    def _Laplace(self, words):\n",
    "        count = 0\n",
    "        gram = self.toString(words)\n",
    "        if gram in self.nGrams: count = self.nGrams[gram]\n",
    "        ctx = self.toString(words[: -1])\n",
    "        ctxCount = self.sGrams[ctx] if ctx in self.sGrams else 0\n",
    "        return (count + 1) / (ctxCount + len(self.vocab))\n",
    "\n",
    "    def getNGrams(self, line):\n",
    "        return [line[start: start + self.gramLen] for start in range(len(line) - self.gramLen + 1)]\n",
    "\n",
    "    def getProbs(self, sentence, log = False):\n",
    "        sentence = self.flatten(sentence)\n",
    "        logProb = 0\n",
    "        for gram in self.getNGrams(sentence):\n",
    "            p = self.P(*gram)\n",
    "            logProb += np.log(p)\n",
    "            assert p > 0, \"Probability is zero\"\n",
    "        if log: return logProb\n",
    "        return np.exp(logProb)\n",
    "\n",
    "    # Include the <s> and </s> tokens, but don't count </s> - (Page 8, Dan Jurafsky on Language Models)\n",
    "    def perplexity(self, sentence):\n",
    "        sentence = self.flatten(sentence)\n",
    "        pp = 1\n",
    "        for g in self.getNGrams(sentence):\n",
    "            pp *= self.P(*g) ** (-1 / (len(sentence) - sentence.count(tokens['begin'])))\n",
    "        return pp\n",
    "\n",
    "    def tweet(self, length = 50):\n",
    "        tweet = [tokens['begin'] for _ in range(self.gramLen - 1)]\n",
    "        for _ in range(length):\n",
    "            ctx = tweet[-self.gramLen + 1] if self.gramLen > 1 else []\n",
    "            probs = []\n",
    "            for _, w in enumerate(self.vocab):\n",
    "                w = ctx + [w]\n",
    "                p = self.P(*w)\n",
    "                probs.append(p)\n",
    "            choice = np.random.choice(self.vocab, p = probs / np.sum(probs))\n",
    "            tweet += [choice]\n",
    "            if choice == tokens['end']: break\n",
    "        return tweet\n",
    "\n",
    "    def test(self):\n",
    "        # Hypothesis: The sum of probabilities for a model is: vocabSize ^ (gramLength - 1)\n",
    "        raise NotImplementedError()"
   ]
  },
  {
   "cell_type": "code",
   "execution_count": 52,
   "metadata": {},
   "outputs": [],
   "source": [
    "class Unigram(LanguageModel):\n",
    "    def __init__(self, corpus = None):\n",
    "        self.gramLen = 1\n",
    "        super().__init__(corpus)\n",
    "    \n",
    "    def test(self):\n",
    "        p = 0\n",
    "        for w in self.vocab: p += self.P(w)\n",
    "        assert np.round(p, decimals = 3) == 1, \"Probs don't sum up the expected value\"\n",
    "\n",
    "\n",
    "class Bigram(LanguageModel):\n",
    "    def __init__(self, corpus = None):\n",
    "        self.gramLen = 2\n",
    "        super().__init__(corpus)      \n",
    "\n",
    "    def test(self):\n",
    "        for w1 in self.vocab:\n",
    "            p = 0\n",
    "            for w2 in self.vocab:\n",
    "                p += self.P(w1, w2)\n",
    "            assert np.round(p, decimals = 3) == 1, \"Probs don't sum up the expected value\"\n",
    "\n",
    "\n",
    "class Trigram(LanguageModel):\n",
    "    def __init__(self, corpus = None):\n",
    "        self.gramLen = 3\n",
    "        super().__init__(corpus)    \n",
    "\n",
    "    def test(self):\n",
    "        for w1 in self.vocab:\n",
    "            for w2 in self.vocab:\n",
    "                p = 0   \n",
    "                for w3 in self.vocab:\n",
    "                    p += self.P(w1, w2, w3)\n",
    "                assert np.round(p, decimals = 3) == 1, \"Probs don't sum up the expected value\"\n",
    "\n",
    "\n",
    "class N_Gram(LanguageModel):\n",
    "    def __init__(self, gramLen, corpus = None):\n",
    "        self.gramLen = gramLen\n",
    "        super().__init__(corpus)    \n",
    "\n",
    "\n",
    "class Interpolated(LanguageModel):\n",
    "    def __init__(self, models = None, lambdas = None):\n",
    "        #super().__init__(corpus)   \n",
    "        self.models = models\n",
    "        self.lambdas = lambdas\n",
    "        assert len(models) == len(self.lambdas), \"The number of models doesn't match the number of lambdas\"\n",
    "        self.vocab = models[0].vocab\n",
    "\n",
    "    def getProbs(self, sentence, log = False):\n",
    "        raise NotImplementedError()\n",
    "    \n",
    "    # Unlike the super().P(...), this one takes only the context it needs, so it can receive long sentences\n",
    "    def P(self, *words):\n",
    "        prob = 0\n",
    "        for m, model in enumerate(self.models):\n",
    "            nGram = words[-model.gramLen: ]\n",
    "            prob += self.lambdas[m] * model.P(*nGram)\n",
    "        return prob\n",
    "    \n",
    "    def perplexity(self, sentence):\n",
    "        sentence = self.flatten(sentence)\n",
    "        begins = sentence.count(tokens['begin'])\n",
    "        pp = 1\n",
    "        unigrams = Unigram().getNGrams(sentence)\n",
    "        for u, _ in enumerate(unigrams):\n",
    "            prob = 0\n",
    "            for m, model in enumerate(self.models):\n",
    "                # Start index where the context will be taken from\n",
    "                idx = u + 1 - model.gramLen\n",
    "                nGram = []\n",
    "                if idx < 0:\n",
    "                    nGram += np.abs(idx) * [tokens['begin']]\n",
    "                    nGram += unigrams[: u + 1]\n",
    "                else: nGram = unigrams[idx: u + 1]\n",
    "                prob += model.P(*nGram) * self.lambdas[m]\n",
    "            pp *= (prob) ** (-1 / (len(sentence) - begins))\n",
    "        return pp\n",
    "    \n",
    "    def tweet(self, length = 50):\n",
    "        tweet = [tokens['begin']] * max([model.gramLen for model in self.models])\n",
    "        for _ in range(length):\n",
    "            probs = []\n",
    "            for w in self.vocab:\n",
    "                ctx = tweet + [w]\n",
    "                p = self.P(*ctx)\n",
    "                probs.append(p)\n",
    "            choice = np.random.choice(self.vocab, p = probs / np.sum(probs))\n",
    "            tweet += [choice]\n",
    "            #if choice == tokens['end']: break\n",
    "        return tweet\n"
   ]
  },
  {
   "cell_type": "code",
   "execution_count": 53,
   "metadata": {},
   "outputs": [
    {
     "name": "stdout",
     "output_type": "stream",
     "text": [
      "0.030060494079397367\n",
      "0.04925692661650662\n",
      "0.39978502838158353\n"
     ]
    }
   ],
   "source": [
    "uni = Unigram(corpus)\n",
    "#uni.test()\n",
    "\n",
    "# Very frequent\n",
    "print(uni.P(\"que\"))\n",
    "print(uni.P(tokens['begin']))\n",
    "\n",
    "# Doesn't exist\n",
    "print(uni.P(\"otorrinolaringologo\"))"
   ]
  },
  {
   "cell_type": "code",
   "execution_count": 54,
   "metadata": {},
   "outputs": [
    {
     "name": "stdout",
     "output_type": "stream",
     "text": [
      "0.47758081334723673\n",
      "0.08350515463917525\n",
      "0.00017708517797060386\n"
     ]
    }
   ],
   "source": [
    "bi = Bigram(corpus)\n",
    "#bi.test()\n",
    "\n",
    "# Very frequent \n",
    "print(bi.P('.', tokens['end']))\n",
    "print(bi.P(\"es\", \"que\"))\n",
    "\n",
    "# Doesn't exist\n",
    "print(bi.P(tokens['begin'], tokens['end']))"
   ]
  },
  {
   "cell_type": "code",
   "execution_count": 55,
   "metadata": {},
   "outputs": [
    {
     "name": "stdout",
     "output_type": "stream",
     "text": [
      "0.30403458213256485\n",
      "0.04918032786885246\n",
      "0.36449394038650507\n"
     ]
    }
   ],
   "source": [
    "tri = Trigram(corpus)\n",
    "#tri.test()\n",
    "\n",
    "# Very frequent\n",
    "print(tri.P('!', '!', '!'))\n",
    "print(tri.P('es', 'que', 'no'))\n",
    "\n",
    "# Doesn't exist\n",
    "print(tri.P('Luis', 'Eduardo', 'Robles'))\n"
   ]
  },
  {
   "cell_type": "markdown",
   "metadata": {},
   "source": [
    "#### Comment"
   ]
  },
  {
   "cell_type": "markdown",
   "metadata": {},
   "source": [
    "### 3. Interpolated Model"
   ]
  },
  {
   "cell_type": "code",
   "execution_count": 56,
   "metadata": {},
   "outputs": [
    {
     "name": "stdout",
     "output_type": "stream",
     "text": [
      "Lengths of stratified sets:\n",
      "\tTrain: 4435\n",
      "\tTest: 554\n",
      "\tValidation: 555\n"
     ]
    }
   ],
   "source": [
    "#c_train, c_test = train_test_split(corpus, test_size = 0.001, train_size = 0.999)\n",
    "c_train, c_test = train_test_split(corpus, test_size = 0.2, train_size = 0.8)\n",
    "c_test, c_val = train_test_split(c_test, test_size = 0.5, train_size = 0.5)\n",
    "print(f'Lengths of stratified sets:\\n\\tTrain: {len(c_train)}\\n\\tTest: {len(c_test)}\\n\\tValidation: {len(c_val)}')"
   ]
  },
  {
   "cell_type": "code",
   "execution_count": 57,
   "metadata": {},
   "outputs": [
    {
     "data": {
      "text/plain": [
       "\" Delete, just to see the behavior of each model\\nfor m in models: print(f'PP {m.perplexity(c_val)}\\tlogP {m.getProbs(c_val, log = True)} \\tP {m.getProbs(c_val)}')\\n\""
      ]
     },
     "execution_count": 57,
     "metadata": {},
     "output_type": "execute_result"
    }
   ],
   "source": [
    "models = [Unigram(c_train), Bigram(c_train), Trigram(c_train)]\n",
    "\"\"\" Delete, just to see the behavior of each model\n",
    "for m in models: print(f'PP {m.perplexity(c_val)}\\tlogP {m.getProbs(c_val, log = True)} \\tP {m.getProbs(c_val)}')\n",
    "\"\"\""
   ]
  },
  {
   "cell_type": "code",
   "execution_count": 58,
   "metadata": {},
   "outputs": [],
   "source": [
    "#params = [(1/3, 1/3, 1/3), (0.4, 0.4, 0.2), (0.2, 0.4, 0.4), (0.5, 0.4, 0.1), (0.1, 0.4, 0.5), (0.9, 0.05, 0.05)]\n",
    "params = [(1/3, 1/3, 1/3), (0.4, 0.4, 0.2), (0.2, 0.4, 0.4), (0.5, 0.4, 0.1), (0.1, 0.4, 0.5)]"
   ]
  },
  {
   "cell_type": "code",
   "execution_count": 59,
   "metadata": {},
   "outputs": [
    {
     "name": "stdout",
     "output_type": "stream",
     "text": [
      "Model 1: Params: [0.333 0.333 0.333] \t\tPerplexity: 2.8726662975495065\n",
      "Model 2: Params: [0.4 0.4 0.2] \t\tPerplexity: 2.8688029634557943\n",
      "Model 3: Params: [0.2 0.4 0.4] \t\tPerplexity: 2.9280553605582855\n",
      "Model 4: Params: [0.5 0.4 0.1] \t\tPerplexity: 2.8400518242712756\n",
      "Model 5: Params: [0.1 0.4 0.5] \t\tPerplexity: 2.9585956785203513\n"
     ]
    }
   ],
   "source": [
    "bestParam, bestValue = 0, np.inf\n",
    "for i, param in enumerate(params):\n",
    "    m = Interpolated(models = [uni, bi, tri], lambdas = param)\n",
    "    pp = m.perplexity(c_val)\n",
    "    if pp < bestValue: bestValue, bestParam = pp, i\n",
    "    print(f'Model {i + 1}: Params: {np.round(param, decimals = 3)} \\t\\tPerplexity: {pp}')"
   ]
  },
  {
   "cell_type": "code",
   "execution_count": 60,
   "metadata": {},
   "outputs": [
    {
     "name": "stdout",
     "output_type": "stream",
     "text": [
      "Best params (0.5, 0.4, 0.1) have a perplexity = 2.836409786819076 on the test set\n"
     ]
    }
   ],
   "source": [
    "goodInterpolated = Interpolated(models = [uni, bi, tri], lambdas = params[bestParam])\n",
    "print(f'Best params {params[bestParam]} have a perplexity = {goodInterpolated.perplexity(c_test)} on the test set')"
   ]
  },
  {
   "cell_type": "markdown",
   "metadata": {},
   "source": [
    "#### Comment"
   ]
  },
  {
   "cell_type": "markdown",
   "metadata": {},
   "source": [
    "## Text Generation"
   ]
  },
  {
   "cell_type": "markdown",
   "metadata": {},
   "source": [
    "### 1. Tweet Functionality"
   ]
  },
  {
   "cell_type": "code",
   "execution_count": 61,
   "metadata": {},
   "outputs": [
    {
     "name": "stdout",
     "output_type": "stream",
     "text": [
      "<s> <s> <s> por </s> que en la <unk> <unk> al <unk> de <unk> que no joto ser <unk> a las <unk> . <unk> que <unk> <unk> lo <unk> <unk> eso no . <unk> <unk> <unk> <s> @usuario <unk> <unk> y qué putas me <unk> <unk> <unk> no 😂 </s> o solo con \n",
      "\n",
      "<s> <s> <s> <unk> qué es <unk> voy a @usuario <unk> con <unk> <unk> verga <unk> <unk> <unk> nos todos ! </s> nos en . <unk> <unk> o <unk> que <unk> <unk> me <unk> a <unk> <unk> me <unk> ? </s> mejor eres muy </s> qué <unk> ? <unk> <unk> <unk> <unk> y \n",
      "\n",
      "<s> <s> <s> <s> . bien <unk> se <s> @usuario muy <unk> qué <unk> y los <unk> pero sus <unk> y no y </s> putas <unk> <unk> <unk> <unk> <unk> mis <unk> <unk> de <unk> <unk> <unk> hasta la madre . </s> ser <unk> y el <unk> que a <unk> <unk> </s> su \n",
      "\n",
      "<s> <s> <s> hoy los <unk> a las <unk> para <unk> <unk> </s> hdp <unk> y <unk> con <unk> todos <unk> son y cuando @usuario soy <unk> ? <unk> más o <unk> ️ <s> @usuario voy este ver que </s> <unk> <unk> esta tu <unk> y <unk> del <unk> <unk> <s> si <unk> \n",
      "\n",
      "<s> <s> <s> <unk> </s> voy <unk> ya putas la <unk> con <unk> <unk> <unk> <unk> <unk> de <unk> <unk> <unk> \" y <unk> te <unk> está <unk> <unk> de verga con todos </s> <unk> <s> en <unk> que tiene <unk> en una <unk> <unk> es que <unk> ? madre <unk> <unk> <unk> \n",
      "\n"
     ]
    }
   ],
   "source": [
    "nExamples = 5\n",
    "for _ in range(nExamples):\n",
    "    for w in goodInterpolated.tweet():\n",
    "        print(w, end = \" \")\n",
    "    print(end = '\\n\\n')"
   ]
  },
  {
   "cell_type": "markdown",
   "metadata": {},
   "source": [
    "#### Comment"
   ]
  },
  {
   "cell_type": "markdown",
   "metadata": {},
   "source": [
    "### 2. AMLO model"
   ]
  },
  {
   "cell_type": "code",
   "execution_count": 62,
   "metadata": {},
   "outputs": [],
   "source": [
    "conf = Mananera(nFiles = 3, vocabSize = vocabulary_size).loadCorpus()"
   ]
  },
  {
   "cell_type": "code",
   "execution_count": 63,
   "metadata": {},
   "outputs": [],
   "source": [
    "models = [Unigram(conf), Bigram(conf), Trigram(conf), N_Gram(gramLen = 5, corpus = conf)]\n",
    "lambdas = len(models) * [1 / len(models)]"
   ]
  },
  {
   "cell_type": "code",
   "execution_count": 64,
   "metadata": {},
   "outputs": [],
   "source": [
    "AMLO = Interpolated(models = models, lambdas = lambdas)"
   ]
  },
  {
   "cell_type": "code",
   "execution_count": 65,
   "metadata": {},
   "outputs": [
    {
     "name": "stdout",
     "output_type": "stream",
     "text": [
      "<s> <s> <s> <s> <s> policías va de pregunta de la <unk> estamos ; va caso <unk> si ; los están <unk> información sobre van esta , <unk> <unk> vamos cada me los <unk> <unk> que es en el de - <unk> son hay <unk> a , nacional por <unk> ya <unk> méxico lo méxico nos va tiene se tener <unk> <unk> sobre está <unk> mil presidente obrador en hay muy de todo gobierno ciudad tema tener , <unk> se entonces hay y homicidios usted se policías si <unk> nacional <unk> un presidente vamos : ¿ tiene </s> vamos </s> ahora <unk> seguridad - ustedes <unk> méxico <unk> pero , <unk> <unk> <unk> , me , mil policías les presidente les con días . de <unk> la gobierno les vamos como ser homicidios pregunta tener , <unk> . , hay no nos le y los <unk> el <unk> del le <unk> vamos del o también el caso pero méxico por la presidente estos como ser el ha <unk> <unk> <unk> <unk> , sobre <unk> una <unk> del policías <unk> ¿ en al a todo este - tiene días , <unk> </s> esta <unk> a mil policía <unk> <unk> . <unk> <unk> <unk> a <unk> : <unk> se <unk> <unk> el <unk> de es está todo ciudad este lo presidente <unk> estos esta todos como son esta usted . <unk> estrategia tenemos estrategia las obrador <s> el del si <unk> muy <unk> , de lo <unk> gobierno tiene de los <unk> <unk> donde </s> los que también se . la <unk> de <unk> ciento estamos aquí estamos <unk> de de , como pregunta . de tiene está , <s> <unk> <unk> esta ciento <unk> . una que no todo el como al las información que van tema <unk> <unk> <unk> se para cada donde <unk> todos "
     ]
    }
   ],
   "source": [
    "for w in AMLO.tweet(length = 300):\n",
    "    print(w, end = \" \")"
   ]
  },
  {
   "cell_type": "markdown",
   "metadata": {},
   "source": [
    "#### Comment"
   ]
  },
  {
   "cell_type": "markdown",
   "metadata": {},
   "source": [
    "### 3. Evaluation with custom phrases"
   ]
  },
  {
   "cell_type": "code",
   "execution_count": 66,
   "metadata": {},
   "outputs": [],
   "source": [
    "modelsEval = {\"Tweets\": goodInterpolated, \"AMLO\": AMLO}\n",
    "phrases = ['sino gano me voy a la chingada', 'ya se va a acabar la corrupción']"
   ]
  },
  {
   "cell_type": "code",
   "execution_count": 67,
   "metadata": {},
   "outputs": [
    {
     "name": "stdout",
     "output_type": "stream",
     "text": [
      "Model: Tweets\n",
      "\tPerplexity on the phrase \"sino gano me voy a la chingada\" is: 7.13\n",
      "\tPerplexity on the phrase \"ya se va a acabar la corrupción\" is: 5.81\n",
      "Model: AMLO\n",
      "\tPerplexity on the phrase \"sino gano me voy a la chingada\" is: 9.62\n",
      "\tPerplexity on the phrase \"ya se va a acabar la corrupción\" is: 7.31\n"
     ]
    }
   ],
   "source": [
    "for model in modelsEval:\n",
    "    print(f'Model: {model}')\n",
    "    for p in phrases:\n",
    "        print(f'\\tPerplexity on the phrase \"{p}\" is: {np.round(modelsEval[model].perplexity(p), decimals = 2)}')"
   ]
  },
  {
   "cell_type": "markdown",
   "metadata": {},
   "source": [
    "#### Comment"
   ]
  },
  {
   "cell_type": "markdown",
   "metadata": {},
   "source": [
    "### 4. More evaluation "
   ]
  },
  {
   "cell_type": "markdown",
   "metadata": {},
   "source": [
    "#### Comment"
   ]
  },
  {
   "cell_type": "markdown",
   "metadata": {},
   "source": [
    "## El ahorcado"
   ]
  },
  {
   "cell_type": "markdown",
   "metadata": {},
   "source": [
    "### 1. Norvig's Hangman"
   ]
  },
  {
   "cell_type": "markdown",
   "metadata": {},
   "source": [
    "#### Comment"
   ]
  },
  {
   "cell_type": "markdown",
   "metadata": {},
   "source": [
    "### 2. Follow-up"
   ]
  },
  {
   "cell_type": "markdown",
   "metadata": {},
   "source": [
    "#### Comment"
   ]
  }
 ],
 "metadata": {
  "kernelspec": {
   "display_name": "Python 3.8.10 64-bit",
   "language": "python",
   "name": "python3"
  },
  "language_info": {
   "codemirror_mode": {
    "name": "ipython",
    "version": 3
   },
   "file_extension": ".py",
   "mimetype": "text/x-python",
   "name": "python",
   "nbconvert_exporter": "python",
   "pygments_lexer": "ipython3",
   "version": "3.9.16"
  },
  "orig_nbformat": 4,
  "vscode": {
   "interpreter": {
    "hash": "916dbcbb3f70747c44a77c7bcd40155683ae19c65e1c03b4aa3499c5328201f1"
   }
  }
 },
 "nbformat": 4,
 "nbformat_minor": 2
}
