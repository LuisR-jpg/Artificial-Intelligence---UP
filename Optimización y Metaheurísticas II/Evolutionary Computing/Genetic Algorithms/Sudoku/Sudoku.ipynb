{
 "cells": [
  {
   "cell_type": "code",
   "execution_count": 11,
   "metadata": {},
   "outputs": [],
   "source": [
    "import pandas as pd\n",
    "import numpy as np\n",
    "import itertools"
   ]
  },
  {
   "cell_type": "code",
   "execution_count": 12,
   "metadata": {},
   "outputs": [],
   "source": [
    "def draw_sudoku(board):\n",
    "    print(\"+\" + \"---+\"*9)\n",
    "    for i, row in enumerate(board):\n",
    "        print((\"|\" + \" {}   {}   {} |\"*3).format(*[x if x != 0 else \"0\" for x in row]))\n",
    "        if i % 3 == 2:\n",
    "            print(\"+\" + \"---+\"*9)"
   ]
  },
  {
   "cell_type": "code",
   "execution_count": 13,
   "metadata": {},
   "outputs": [
    {
     "name": "stdout",
     "output_type": "stream",
     "text": [
      "+---+---+---+---+---+---+---+---+---+\n",
      "| 0   0   6 | 0   0   0 | 5   0   7 |\n",
      "| 0   9   0 | 0   6   8 | 0   0   0 |\n",
      "| 7   0   8 | 0   0   5 | 0   0   4 |\n",
      "+---+---+---+---+---+---+---+---+---+\n",
      "| 0   0   1 | 5   0   4 | 2   9   0 |\n",
      "| 0   7   0 | 0   3   0 | 0   0   0 |\n",
      "| 3   0   9 | 0   0   0 | 7   1   0 |\n",
      "+---+---+---+---+---+---+---+---+---+\n",
      "| 0   5   0 | 0   4   0 | 8   0   9 |\n",
      "| 0   8   2 | 6   0   0 | 0   0   0 |\n",
      "| 0   0   0 | 0   2   7 | 4   0   6 |\n",
      "+---+---+---+---+---+---+---+---+---+\n"
     ]
    }
   ],
   "source": [
    "df = pd.read_csv('example1.csv', header=None)\n",
    "matrix = df.to_numpy()\n",
    "d=[]\n",
    "x = 0\n",
    "for i in range(matrix.shape[0]):\n",
    "    for j in range(matrix.shape[1]):\n",
    "        if(matrix[i,j] > 0):\n",
    "            d.append( [[i,j],matrix[i,j]])\n",
    "            x+=1\n",
    "draw_sudoku(matrix)"
   ]
  },
  {
   "cell_type": "code",
   "execution_count": 14,
   "metadata": {},
   "outputs": [
    {
     "data": {
      "text/plain": [
       "32"
      ]
     },
     "execution_count": 14,
     "metadata": {},
     "output_type": "execute_result"
    }
   ],
   "source": [
    "def fitness(m):\n",
    "    side = m.shape[0]\n",
    "    def repeated(st):\n",
    "        st, c = np.unique(st, return_counts = True)\n",
    "        if st[0] != 0: return np.count_nonzero(c > 1)\n",
    "        return np.count_nonzero(c[1:] > 1)\n",
    "    result = side**2\n",
    "    for i in range(side):\n",
    "        result -= repeated(m[i, :])\n",
    "        result -= repeated(m[:, i])\n",
    "        sqrt = np.sqrt(side)\n",
    "        h, v = (i % sqrt)*sqrt, (i // sqrt)*sqrt\n",
    "        result -= repeated(m[int(v): int(v + sqrt), int(h): int(h + sqrt)])\n",
    "    return result - np.count_nonzero(m == 0)\n",
    "fitness(matrix)"
   ]
  },
  {
   "cell_type": "code",
   "execution_count": 1,
   "metadata": {},
   "outputs": [],
   "source": [
    "def geneticAlgorithm(m, n, g, pR, pM): #Starting sudoku, Population Size, # of generations, P(reproduction), p(Mutation), # of queens\n",
    "    sideSize = m.shape[0]\n",
    "    population = np.array([\"\"\"Sara's\"\"\" for i in range(n)])\n",
    "    best, fitnesses = -1, [fitness(i) for i in population]        \n",
    "    best = np.argmax(fitnesses)\n",
    "    newPopulation, newFitnesses = np.zeros((sideSize, sideSize, n)), np.zeros(n)\n",
    "    for i in range(g):\n",
    "        if fitnesses[best] == sideSize**2:\n",
    "            return population[best]\n",
    "        for childIndex in range(n):\n",
    "            #pOne = population[tournament(population, 2*nCols//3)]\n",
    "            #pTwo = population[tournament(population, 2*nCols//3)]\n",
    "            pOne = population[roulette(population)]\n",
    "            pTwo = population[roulette(population)]\n",
    "            parents = np.array([pOne, pTwo])\n",
    "            newChild = simplePermutationCrossover(pR, parents)\n",
    "            newChild = mutation(pM, newChild)\n",
    "            newFitnesses[childIndex] = fitness(newChild)\n",
    "            newPopulation[childIndex] = newChild\n",
    "        betterBest = np.argmax(newFitnesses)\n",
    "        if newFitnesses[betterBest] < fitnesses[best]: newPopulation[tournament(population, n//2)] = population[best]\n",
    "        else: best = betterBest\n",
    "        population, fitnesses = newPopulation, newFitnesses\n",
    "    return population[best]"
   ]
  },
  {
   "cell_type": "code",
   "execution_count": 16,
   "metadata": {},
   "outputs": [],
   "source": [
    "def tournamentSelection(fitnesses, k = 2, reversed = False):\n",
    "    participants = np.random.choice(len(fitnesses), k, False)\n",
    "    if reversed: return np.argmin(fitnesses[participants])\n",
    "    return np.argmax(fitnesses[participants])"
   ]
  },
  {
   "cell_type": "code",
   "execution_count": 17,
   "metadata": {},
   "outputs": [],
   "source": [
    "def rouletteSelection(fitnesses):\n",
    "    if len(set(fitnesses)) == 1:\n",
    "        return np.random.choice(len(fitnesses))\n",
    "    norm = (fitnesses - np.min(fitnesses)) / (np.max(fitnesses) - np.min(fitnesses))\n",
    "    probs = np.divide(norm, sum(norm))\n",
    "    return np.random.choice(len(fitnesses), replace = False, p = probs)"
   ]
  }
 ],
 "metadata": {
  "kernelspec": {
   "display_name": "Python 3.8.10 64-bit",
   "language": "python",
   "name": "python3"
  },
  "language_info": {
   "codemirror_mode": {
    "name": "ipython",
    "version": 3
   },
   "file_extension": ".py",
   "mimetype": "text/x-python",
   "name": "python",
   "nbconvert_exporter": "python",
   "pygments_lexer": "ipython3",
   "version": "3.8.10"
  },
  "orig_nbformat": 4,
  "vscode": {
   "interpreter": {
    "hash": "916dbcbb3f70747c44a77c7bcd40155683ae19c65e1c03b4aa3499c5328201f1"
   }
  }
 },
 "nbformat": 4,
 "nbformat_minor": 2
}
