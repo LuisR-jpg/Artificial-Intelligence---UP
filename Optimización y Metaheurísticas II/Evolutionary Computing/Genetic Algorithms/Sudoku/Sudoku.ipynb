{
 "cells": [
  {
   "cell_type": "code",
   "execution_count": 3,
   "metadata": {},
   "outputs": [],
   "source": [
    "import pandas as pd\n",
    "import numpy as np"
   ]
  },
  {
   "cell_type": "code",
   "execution_count": 4,
   "metadata": {},
   "outputs": [],
   "source": [
    "def draw_sudoku(board):\n",
    "    print(\"+\" + \"---+\"*9)\n",
    "    for i, row in enumerate(board):\n",
    "        print((\"|\" + \" {}   {}   {} |\"*3).format(*[x if x != 0 else \"0\" for x in row]))\n",
    "        if i % 3 == 2:\n",
    "            print(\"+\" + \"---+\"*9)"
   ]
  },
  {
   "cell_type": "code",
   "execution_count": 7,
   "metadata": {},
   "outputs": [
    {
     "name": "stdout",
     "output_type": "stream",
     "text": [
      "+---+---+---+---+---+---+---+---+---+\n",
      "| 0   0   6 | 0   0   0 | 5   0   7 |\n",
      "| 0   9   0 | 0   6   8 | 0   0   0 |\n",
      "| 7   0   8 | 0   0   5 | 0   0   4 |\n",
      "+---+---+---+---+---+---+---+---+---+\n",
      "| 0   0   1 | 5   0   4 | 2   9   0 |\n",
      "| 0   7   0 | 0   3   0 | 0   0   0 |\n",
      "| 3   0   9 | 0   0   0 | 7   1   0 |\n",
      "+---+---+---+---+---+---+---+---+---+\n",
      "| 0   5   0 | 0   4   0 | 8   0   9 |\n",
      "| 0   8   2 | 6   0   0 | 0   0   0 |\n",
      "| 0   0   0 | 0   2   7 | 4   0   6 |\n",
      "+---+---+---+---+---+---+---+---+---+\n"
     ]
    }
   ],
   "source": [
    "df = pd.read_csv('example1.csv', header=None)\n",
    "matrix = df.to_numpy()\n",
    "d=[]\n",
    "x = 0\n",
    "for i in range(matrix.shape[0]):\n",
    "    for j in range(matrix.shape[1]):\n",
    "        if(matrix[i,j] > 0):\n",
    "            d.append( [[i,j],matrix[i,j]])\n",
    "            x+=1\n",
    "draw_sudoku(matrix)"
   ]
  },
  {
   "cell_type": "code",
   "execution_count": 11,
   "metadata": {},
   "outputs": [
    {
     "data": {
      "text/plain": [
       "32"
      ]
     },
     "execution_count": 11,
     "metadata": {},
     "output_type": "execute_result"
    }
   ],
   "source": [
    "def fitness(matrix):\n",
    "    return np.count_nonzero(matrix != 0)"
   ]
  }
 ],
 "metadata": {
  "kernelspec": {
   "display_name": "Python 3.8.10 64-bit",
   "language": "python",
   "name": "python3"
  },
  "language_info": {
   "codemirror_mode": {
    "name": "ipython",
    "version": 3
   },
   "file_extension": ".py",
   "mimetype": "text/x-python",
   "name": "python",
   "nbconvert_exporter": "python",
   "pygments_lexer": "ipython3",
   "version": "3.8.10"
  },
  "orig_nbformat": 4,
  "vscode": {
   "interpreter": {
    "hash": "916dbcbb3f70747c44a77c7bcd40155683ae19c65e1c03b4aa3499c5328201f1"
   }
  }
 },
 "nbformat": 4,
 "nbformat_minor": 2
}
