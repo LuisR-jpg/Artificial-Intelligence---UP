{
 "cells": [
  {
   "cell_type": "code",
   "execution_count": 1,
   "metadata": {},
   "outputs": [],
   "source": [
    "import pandas as pd\n",
    "import numpy as np"
   ]
  },
  {
   "cell_type": "code",
   "execution_count": 2,
   "metadata": {},
   "outputs": [],
   "source": [
    "def draw_sudoku(board):\n",
    "    print(\"+\" + \"---+\"*9)\n",
    "    for i, row in enumerate(board):\n",
    "        print((\"|\" + \" {}   {}   {} |\"*3).format(*[x if x != 0 else \"0\" for x in row]))\n",
    "        if i % 3 == 2:\n",
    "            print(\"+\" + \"---+\"*9)"
   ]
  },
  {
   "cell_type": "code",
   "execution_count": 3,
   "metadata": {},
   "outputs": [],
   "source": [
    "def read_csv(name):\n",
    "    df = pd.read_csv(name, header=None)\n",
    "    matrix = df.to_numpy()\n",
    "    d=[]\n",
    "    x = 0\n",
    "    for i in range(matrix.shape[0]):\n",
    "        for j in range(matrix.shape[1]):\n",
    "            if(matrix[i,j] > 0):\n",
    "                d.append( [[i,j],matrix[i,j]])\n",
    "                x+=1\n",
    "    print(fitness(matrix))\n",
    "    draw_sudoku(matrix)\n",
    "    return matrix, d"
   ]
  },
  {
   "cell_type": "code",
   "execution_count": 4,
   "metadata": {},
   "outputs": [],
   "source": [
    "def initial_population(arr, n):    # generate n random matrix with values from 1->9\n",
    "    x=y=val=-1\n",
    "    population = []\n",
    "    for i in range(n):\n",
    "        population.append(np.zeros((9,9)))\n",
    "    for j in range(n):\n",
    "        mat = np.random.randint(low=1,high=10, size=(9, 9))\n",
    "        #print(mat)\n",
    "        for i in range(len(arr)):\n",
    "            x = arr[i][0][0]\n",
    "            y = arr[i][0][1]\n",
    "            val = arr[i][1]\n",
    "            mat[x,y] = val\n",
    "        population[j] = mat\n",
    "    return population"
   ]
  },
  {
   "cell_type": "code",
   "execution_count": 5,
   "metadata": {},
   "outputs": [],
   "source": [
    "def fitness(m):\n",
    "    side = m.shape[0]\n",
    "    def repeated(st):\n",
    "        st, c = np.unique(st, return_counts = True)\n",
    "        if st[0] != 0: return np.count_nonzero(c > 1)\n",
    "        return np.count_nonzero(c[1:] > 1)\n",
    "    result = side**2\n",
    "    for i in range(side):\n",
    "        result -= repeated(m[i, :])\n",
    "        result -= repeated(m[:, i])\n",
    "        sqrt = np.sqrt(side)\n",
    "        h, v = (i % sqrt)*sqrt, (i // sqrt)*sqrt\n",
    "        result -= repeated(m[int(v): int(v + sqrt), int(h): int(h + sqrt)])\n",
    "    return result - np.count_nonzero(m == 0)"
   ]
  },
  {
   "cell_type": "code",
   "execution_count": 14,
   "metadata": {},
   "outputs": [],
   "source": [
    "def tournament(fitnesses, k = 2, reversed = False):\n",
    "    participants = np.random.choice(len(fitnesses), k, False)\n",
    "    if reversed: return np.argmin(fitnesses[participants].copy())\n",
    "    return np.argmax(fitnesses[participants].copy())"
   ]
  },
  {
   "cell_type": "code",
   "execution_count": 7,
   "metadata": {},
   "outputs": [],
   "source": [
    "def simplePermutationCrossover(pR, parents, d):\n",
    "    if np.random.uniform(0, 1) < pR:\n",
    "        return crossover(parents, d)\n",
    "    return parents[0]"
   ]
  },
  {
   "cell_type": "code",
   "execution_count": 8,
   "metadata": {},
   "outputs": [],
   "source": [
    "def crossover(parents, d):\n",
    "    first, second = parents\n",
    "    x = np.random.randint(low=0,high=9)\n",
    "    offspring = np.zeros((9,9))\n",
    "    offspring = offspring.astype(int)\n",
    "\n",
    "    x=4 \n",
    "    # merge matrixes\n",
    "    for i in range(x+1):\n",
    "        for j in range(offspring.shape[0]):\n",
    "                offspring[i][j] = first[i][j]\n",
    "    for i in range(x+1, offspring.shape[0]):\n",
    "        for j in range(offspring.shape[1]):\n",
    "                offspring[i][j] = second[i][j]\n",
    "    #print(offspring)\n",
    "\n",
    "    # missing-duplicated\n",
    "    blocked = []\n",
    "    for i in range(offspring.shape[0]):\n",
    "        coords = []\n",
    "        dupl = {}\n",
    "        miss = [1,2,3,4,5,6,7,8,9]\n",
    "        \n",
    "        for j in range(offspring.shape[1]):\n",
    "            coords.append([offspring[j,i], [i,j]])\n",
    "        # print(coords)\n",
    "        for j in range(len(coords)):\n",
    "            rep = np.where(np.array(coords == coords[j][0], dtype=object))\n",
    "            if(rep[0].shape[0] != 1):\n",
    "                dupl[coords[j][0]] = rep[0]\n",
    "        for j in range(len(coords)):\n",
    "            if(coords[j][0] in miss):\n",
    "                miss.remove(coords[j][0])\n",
    "        for j in d:\n",
    "            blocked.append(j[0])\n",
    "        for j in dupl.values():\n",
    "            for z in j:\n",
    "                if([z,i] not in blocked): # si no está en la lista de bloqueados\n",
    "                    # print([z,i], miss )\n",
    "                    if(len(miss)):\n",
    "                        offspring[z,i] = miss[0]\n",
    "                        miss.pop(0)\n",
    "    return offspring "
   ]
  },
  {
   "cell_type": "code",
   "execution_count": 9,
   "metadata": {},
   "outputs": [],
   "source": [
    "def mutation(pM, m):\n",
    "    if np.random.uniform(0, 1) < pM:\n",
    "        sqrt, side = int(np.sqrt(m.shape[0])), m.shape[0]\n",
    "        for i in range(side):\n",
    "            _, indices = np.unique(m[i], return_index=True)\n",
    "            for j in range(side):\n",
    "                if j not in indices and m[i, j]:\n",
    "                    m[i, j], m[(i + sqrt) % side, j] = m[(i + sqrt) % side, j], m[i, j]\n",
    "    return m"
   ]
  },
  {
   "cell_type": "code",
   "execution_count": 15,
   "metadata": {},
   "outputs": [
    {
     "name": "stdout",
     "output_type": "stream",
     "text": [
      "38\n",
      "+---+---+---+---+---+---+---+---+---+\n",
      "| 0   9   8 | 2   0   0 | 4   0   6 |\n",
      "| 0   1   5 | 3   9   4 | 8   0   0 |\n",
      "| 4   2   0 | 0   0   0 | 5   1   0 |\n",
      "+---+---+---+---+---+---+---+---+---+\n",
      "| 0   0   0 | 4   7   0 | 1   0   0 |\n",
      "| 1   0   7 | 0   8   0 | 0   9   3 |\n",
      "| 0   0   6 | 0   3   0 | 0   0   5 |\n",
      "+---+---+---+---+---+---+---+---+---+\n",
      "| 8   0   0 | 0   0   3 | 6   7   1 |\n",
      "| 3   0   4 | 6   0   8 | 0   0   0 |\n",
      "| 9   0   0 | 0   0   5 | 0   8   0 |\n",
      "+---+---+---+---+---+---+---+---+---+\n",
      "33\n",
      "+---+---+---+---+---+---+---+---+---+\n",
      "| 4   9   8 | 2   5   4 | 4   7   6 |\n",
      "| 6   1   5 | 3   9   4 | 8   4   4 |\n",
      "| 4   2   2 | 8   4   4 | 5   1   6 |\n",
      "+---+---+---+---+---+---+---+---+---+\n",
      "| 2   8   1 | 4   7   9 | 1   7   5 |\n",
      "| 1   4   7 | 1   8   6 | 3   9   3 |\n",
      "| 7   5   6 | 2   3   4 | 1   3   5 |\n",
      "+---+---+---+---+---+---+---+---+---+\n",
      "| 8   5   2 | 7   1   3 | 6   7   1 |\n",
      "| 3   8   4 | 6   6   8 | 3   5   3 |\n",
      "| 9   7   8 | 4   7   5 | 2   8   7 |\n",
      "+---+---+---+---+---+---+---+---+---+\n"
     ]
    },
    {
     "name": "stderr",
     "output_type": "stream",
     "text": [
      "/tmp/ipykernel_1390/1985218759.py:28: VisibleDeprecationWarning: Creating an ndarray from ragged nested sequences (which is a list-or-tuple of lists-or-tuples-or ndarrays with different lengths or shapes) is deprecated. If you meant to do this, you must specify 'dtype=object' when creating the ndarray.\n",
      "  rep = np.where(np.array(coords == coords[j][0], dtype=object))\n"
     ]
    },
    {
     "name": "stdout",
     "output_type": "stream",
     "text": [
      "Before: 31 -> 33 40 -> 51.0\n",
      "Updated\n",
      "After: 40 -> 51.0 40 -> 51.0\n",
      "Before: 40 -> 39.0 28 -> 52.0\n",
      "Updated\n",
      "After: 28 -> 52.0 28 -> 52.0\n",
      "Before: 28 -> 37.0 61 -> 49.0\n",
      "Updated\n",
      "After: 61 -> 49.0 61 -> 49.0\n",
      "Before: 61 -> 37.0 6 -> 51.0\n",
      "Updated\n",
      "After: 6 -> 51.0 6 -> 51.0\n",
      "Before: 6 -> 33.0 221 -> 50.0\n",
      "Updated\n",
      "After: 221 -> 50.0 221 -> 50.0\n",
      "Before: 221 -> 38.0 181 -> 50.0\n",
      "Updated\n",
      "After: 181 -> 50.0 181 -> 50.0\n",
      "Before: 181 -> 41.0 59 -> 48.0\n",
      "Updated\n",
      "After: 59 -> 48.0 59 -> 48.0\n",
      "Before: 59 -> 39.0 66 -> 48.0\n",
      "Updated\n",
      "After: 66 -> 48.0 66 -> 48.0\n",
      "Before: 66 -> 36.0 102 -> 54.0\n",
      "Updated\n",
      "After: 102 -> 54.0 102 -> 54.0\n",
      "Before: 102 -> 41.0 81 -> 51.0\n",
      "Updated\n",
      "After: 81 -> 51.0 81 -> 51.0\n",
      "51\n",
      "+---+---+---+---+---+---+---+---+---+\n",
      "| 6   8   9 | 8   2   5 | 1   4   8 |\n",
      "| 2   1   7 | 6   3   4 | 7   5   1 |\n",
      "| 4   2   1 | 9   4   9 | 6   9   2 |\n",
      "+---+---+---+---+---+---+---+---+---+\n",
      "| 7   3   8 | 1   1   2 | 4   6   9 |\n",
      "| 1   9   5 | 3   7   8 | 5   2   6 |\n",
      "| 5   6   4 | 2   9   7 | 8   7   3 |\n",
      "+---+---+---+---+---+---+---+---+---+\n",
      "| 8   5   2 | 7   6   1 | 4   3   5 |\n",
      "| 3   4   7 | 5   8   6 | 3   1   4 |\n",
      "| 9   7   6 | 4   5   3 | 2   8   7 |\n",
      "+---+---+---+---+---+---+---+---+---+\n"
     ]
    }
   ],
   "source": [
    "def geneticAlgorithm(f, n, g, pR, pM): #File name, Population Size, # of generations, P(reproduction), p(Mutation), # of queens\n",
    "    m, d = read_csv(f)\n",
    "    sideSize = m.shape[0]\n",
    "    population = initial_population(d, n)\n",
    "    best, fitnesses = -1, np.array([fitness(i) for i in population])\n",
    "    best = np.argmax(fitnesses)\n",
    "    newPopulation, newFitnesses = np.zeros((n, sideSize, sideSize)), np.zeros(n)\n",
    "    for i in range(g):\n",
    "        if i % 50 == 0: \n",
    "            r = population[best].astype(int)\n",
    "            print(fitness(r))\n",
    "            draw_sudoku(r)\n",
    "        if fitnesses[best] == sideSize**2:\n",
    "            return population[best].astype(int)\n",
    "        for childIndex in range(n):\n",
    "            pOne = population[tournament(fitnesses, n // 2)]\n",
    "            pTwo = population[tournament(fitnesses, n // 2)]\n",
    "            #pOne = population[roulette(population)]\n",
    "            #pTwo = population[roulette(population)]\n",
    "            parents = np.array([pOne, pTwo])\n",
    "            newChild = simplePermutationCrossover(pR, parents, d)\n",
    "            newChild = mutation(pM, newChild)\n",
    "            newFitnesses[childIndex] = fitness(newChild)\n",
    "            newPopulation[childIndex] = newChild\n",
    "        betterBest = np.argmax(newFitnesses)\n",
    "        #print(fitnesses[best] ,newFitnesses[betterBest])\n",
    "        #print(fitnesses, newFitnesses)\n",
    "        print(\"Before:\", best, \"->\", fitnesses[best], betterBest, \"->\", newFitnesses[betterBest])\n",
    "        if newFitnesses[betterBest] < fitnesses[best]: \n",
    "            print(\"Seeded\")\n",
    "            newPopulation[tournament(fitnesses, n//2, True)] = population[best]\n",
    "        else:\n",
    "            print(\"Updated\")\n",
    "            best = betterBest\n",
    "        print(fitnesses, newFitnesses)\n",
    "        population, fitnesses = newPopulation, newFitnesses\n",
    "        print(\"After:\", best, \"->\", fitnesses[best], betterBest, \"->\", newFitnesses[betterBest])\n",
    "        print(fitnesses, newFitnesses)\n",
    "    return population[best].astype(int)\n",
    "r = geneticAlgorithm('easy2.csv', 300, 10, 0.75, 0.75)\n",
    "print(fitness(r))\n",
    "draw_sudoku(r)"
   ]
  }
 ],
 "metadata": {
  "kernelspec": {
   "display_name": "Python 3.8.10 64-bit",
   "language": "python",
   "name": "python3"
  },
  "language_info": {
   "codemirror_mode": {
    "name": "ipython",
    "version": 3
   },
   "file_extension": ".py",
   "mimetype": "text/x-python",
   "name": "python",
   "nbconvert_exporter": "python",
   "pygments_lexer": "ipython3",
   "version": "3.8.10"
  },
  "orig_nbformat": 4,
  "vscode": {
   "interpreter": {
    "hash": "916dbcbb3f70747c44a77c7bcd40155683ae19c65e1c03b4aa3499c5328201f1"
   }
  }
 },
 "nbformat": 4,
 "nbformat_minor": 2
}
