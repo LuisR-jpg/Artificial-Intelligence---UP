{
 "cells": [
  {
   "cell_type": "code",
   "execution_count": 12,
   "metadata": {},
   "outputs": [],
   "source": [
    "import pandas as pd\n",
    "import numpy as np"
   ]
  },
  {
   "cell_type": "code",
   "execution_count": 13,
   "metadata": {},
   "outputs": [],
   "source": [
    "def draw_sudoku(board):\n",
    "    print(\"+\" + \"---+\"*9)\n",
    "    for i, row in enumerate(board):\n",
    "        print((\"|\" + \" {}   {}   {} |\"*3).format(*[x if x != 0 else \"0\" for x in row]))\n",
    "        if i % 3 == 2:\n",
    "            print(\"+\" + \"---+\"*9)"
   ]
  },
  {
   "cell_type": "code",
   "execution_count": 14,
   "metadata": {},
   "outputs": [],
   "source": [
    "def read_csv(name):\n",
    "    df = pd.read_csv(name, header=None)\n",
    "    matrix = df.to_numpy()\n",
    "    d=[]\n",
    "    x = 0\n",
    "    for i in range(matrix.shape[0]):\n",
    "        for j in range(matrix.shape[1]):\n",
    "            if(matrix[i,j] > 0):\n",
    "                d.append( [[i,j],matrix[i,j]])\n",
    "                x+=1\n",
    "    print(fitness(matrix))\n",
    "    draw_sudoku(matrix)\n",
    "    return matrix, d"
   ]
  },
  {
   "cell_type": "code",
   "execution_count": 15,
   "metadata": {},
   "outputs": [],
   "source": [
    "def initial_population(arr, n):    # generate n random matrix with values from 1->9\n",
    "    x=y=val=-1\n",
    "    population = []\n",
    "    for i in range(n):\n",
    "        population.append(np.zeros((9,9)))\n",
    "    for j in range(n):\n",
    "        mat = np.random.randint(low=1,high=10, size=(9, 9))\n",
    "        #print(mat)\n",
    "        for i in range(len(arr)):\n",
    "            x = arr[i][0][0]\n",
    "            y = arr[i][0][1]\n",
    "            val = arr[i][1]\n",
    "            mat[x,y] = val\n",
    "        population[j] = mat\n",
    "    return population"
   ]
  },
  {
   "cell_type": "code",
   "execution_count": 16,
   "metadata": {},
   "outputs": [],
   "source": [
    "def fitness(m):\n",
    "    side = m.shape[0]\n",
    "    def repeated(st):\n",
    "        st, c = np.unique(st, return_counts = True)\n",
    "        if st[0] != 0: return np.count_nonzero(c > 1)\n",
    "        return np.count_nonzero(c[1:] > 1)\n",
    "    result = side**2\n",
    "    for i in range(side):\n",
    "        result -= repeated(m[i, :])\n",
    "        result -= repeated(m[:, i])\n",
    "        sqrt = np.sqrt(side)\n",
    "        h, v = (i % sqrt)*sqrt, (i // sqrt)*sqrt\n",
    "        result -= repeated(m[int(v): int(v + sqrt), int(h): int(h + sqrt)])\n",
    "    return result - np.count_nonzero(m == 0)"
   ]
  },
  {
   "cell_type": "code",
   "execution_count": 17,
   "metadata": {},
   "outputs": [],
   "source": [
    "def tournament(fitnesses, k = 2, reversed = False):\n",
    "    participants = np.random.choice(len(fitnesses), k, False)\n",
    "    if reversed: return np.argmin(fitnesses[participants])\n",
    "    return np.argmax(fitnesses[participants])"
   ]
  },
  {
   "cell_type": "code",
   "execution_count": 18,
   "metadata": {},
   "outputs": [],
   "source": [
    "def simplePermutationCrossover(pR, parents, d):\n",
    "    if np.random.uniform(0, 1) < pR:\n",
    "        return crossover(parents, d)\n",
    "    return parents[0]"
   ]
  },
  {
   "cell_type": "code",
   "execution_count": 19,
   "metadata": {},
   "outputs": [],
   "source": [
    "def crossover(parents, d):\n",
    "    d = d.copy()\n",
    "    first, second = parents\n",
    "    x = np.random.randint(low=0,high=9)\n",
    "    offspring = np.zeros((9,9))\n",
    "    offspring = offspring.astype(int)\n",
    "\n",
    "    x=4 \n",
    "    # merge matrixes\n",
    "    for i in range(x+1):\n",
    "        for j in range(offspring.shape[0]):\n",
    "                offspring[i][j] = first[i][j]\n",
    "    for i in range(x+1, offspring.shape[0]):\n",
    "        for j in range(offspring.shape[1]):\n",
    "                offspring[i][j] = second[i][j]\n",
    "    #print(offspring)\n",
    "\n",
    "    # missing-duplicated\n",
    "    blocked = []\n",
    "    for i in range(offspring.shape[0]):\n",
    "        coords = []\n",
    "        dupl = {}\n",
    "        miss = [1,2,3,4,5,6,7,8,9]\n",
    "        \n",
    "        for j in range(offspring.shape[1]):\n",
    "            coords.append([offspring[j,i], [i,j]])\n",
    "        # print(coords)\n",
    "        for j in range(len(coords)):\n",
    "            rep = np.where(np.array(coords == coords[j][0], dtype=object))\n",
    "            if(rep[0].shape[0] != 1):\n",
    "                dupl[coords[j][0]] = rep[0]\n",
    "        for j in range(len(coords)):\n",
    "            if(coords[j][0] in miss):\n",
    "                miss.remove(coords[j][0])\n",
    "        for j in d:\n",
    "            blocked.append(j[0])\n",
    "        for j in dupl.values():\n",
    "            for z in j:\n",
    "                if([z,i] not in blocked): # si no está en la lista de bloqueados\n",
    "                    # print([z,i], miss )\n",
    "                    if(len(miss)):\n",
    "                        offspring[z,i] = miss[0]\n",
    "                        miss.pop(0)\n",
    "    return offspring "
   ]
  },
  {
   "cell_type": "code",
   "execution_count": 20,
   "metadata": {},
   "outputs": [],
   "source": [
    "def mutation(pM, m):\n",
    "    if np.random.uniform(0, 1) < pM:\n",
    "        sqrt, side = int(np.sqrt(m.shape[0])), m.shape[0]\n",
    "        for i in range(side):\n",
    "            _, indices = np.unique(m[i], return_index=True)\n",
    "            for j in range(side):\n",
    "                if j not in indices and m[i, j]:\n",
    "                    m[i, j], m[(i + sqrt) % side, j] = m[(i + sqrt) % side, j], m[i, j]\n",
    "    return m"
   ]
  },
  {
   "cell_type": "code",
   "execution_count": 21,
   "metadata": {},
   "outputs": [
    {
     "name": "stdout",
     "output_type": "stream",
     "text": [
      "38\n",
      "+---+---+---+---+---+---+---+---+---+\n",
      "| 0   9   8 | 2   0   0 | 4   0   6 |\n",
      "| 0   1   5 | 3   9   4 | 8   0   0 |\n",
      "| 4   2   0 | 0   0   0 | 5   1   0 |\n",
      "+---+---+---+---+---+---+---+---+---+\n",
      "| 0   0   0 | 4   7   0 | 1   0   0 |\n",
      "| 1   0   7 | 0   8   0 | 0   9   3 |\n",
      "| 0   0   6 | 0   3   0 | 0   0   5 |\n",
      "+---+---+---+---+---+---+---+---+---+\n",
      "| 8   0   0 | 0   0   3 | 6   7   1 |\n",
      "| 3   0   4 | 6   0   8 | 0   0   0 |\n",
      "| 9   0   0 | 0   0   5 | 0   8   0 |\n",
      "+---+---+---+---+---+---+---+---+---+\n"
     ]
    },
    {
     "name": "stderr",
     "output_type": "stream",
     "text": [
      "/tmp/ipykernel_2711/1061474561.py:29: VisibleDeprecationWarning: Creating an ndarray from ragged nested sequences (which is a list-or-tuple of lists-or-tuples-or ndarrays with different lengths or shapes) is deprecated. If you meant to do this, you must specify 'dtype=object' when creating the ndarray.\n",
      "  rep = np.where(np.array(coords == coords[j][0], dtype=object))\n"
     ]
    },
    {
     "name": "stdout",
     "output_type": "stream",
     "text": [
      "Current Best 55.0\n",
      "Current Best 55.0\n",
      "Current Best 55.0\n",
      "Current Best 55.0\n",
      "Current Best 55.0\n",
      "Current Best 55.0\n"
     ]
    },
    {
     "ename": "KeyboardInterrupt",
     "evalue": "",
     "output_type": "error",
     "traceback": [
      "\u001b[0;31m---------------------------------------------------------------------------\u001b[0m",
      "\u001b[0;31mKeyboardInterrupt\u001b[0m                         Traceback (most recent call last)",
      "Cell \u001b[0;32mIn [21], line 44\u001b[0m\n\u001b[1;32m     42\u001b[0m         \u001b[38;5;28mprint\u001b[39m(\u001b[38;5;124m\"\u001b[39m\u001b[38;5;124mCurrent Best\u001b[39m\u001b[38;5;124m\"\u001b[39m, fitnesses[best])\n\u001b[1;32m     43\u001b[0m     \u001b[38;5;28;01mreturn\u001b[39;00m population[best]\u001b[38;5;241m.\u001b[39mastype(\u001b[38;5;28mint\u001b[39m)\n\u001b[0;32m---> 44\u001b[0m \u001b[43mgeneticAlgorithm\u001b[49m\u001b[43m(\u001b[49m\u001b[38;5;124;43m'\u001b[39;49m\u001b[38;5;124;43measy2.csv\u001b[39;49m\u001b[38;5;124;43m'\u001b[39;49m\u001b[43m,\u001b[49m\u001b[43m \u001b[49m\u001b[38;5;241;43m1000\u001b[39;49m\u001b[43m,\u001b[49m\u001b[43m \u001b[49m\u001b[38;5;241;43m100000\u001b[39;49m\u001b[43m,\u001b[49m\u001b[43m \u001b[49m\u001b[38;5;241;43m0.75\u001b[39;49m\u001b[43m,\u001b[49m\u001b[43m \u001b[49m\u001b[38;5;241;43m0.75\u001b[39;49m\u001b[43m)\u001b[49m\n\u001b[1;32m     45\u001b[0m \u001b[38;5;28mprint\u001b[39m(fitness(r))\n\u001b[1;32m     46\u001b[0m draw_sudoku(r)\n",
      "Cell \u001b[0;32mIn [21], line 23\u001b[0m, in \u001b[0;36mgeneticAlgorithm\u001b[0;34m(f, n, g, pR, pM)\u001b[0m\n\u001b[1;32m     20\u001b[0m \u001b[38;5;66;03m#pOne = population[roulette(population)]\u001b[39;00m\n\u001b[1;32m     21\u001b[0m \u001b[38;5;66;03m#pTwo = population[roulette(population)]\u001b[39;00m\n\u001b[1;32m     22\u001b[0m parents \u001b[38;5;241m=\u001b[39m np\u001b[38;5;241m.\u001b[39marray([pOne, pTwo])\n\u001b[0;32m---> 23\u001b[0m newChild \u001b[38;5;241m=\u001b[39m \u001b[43msimplePermutationCrossover\u001b[49m\u001b[43m(\u001b[49m\u001b[43mpR\u001b[49m\u001b[43m,\u001b[49m\u001b[43m \u001b[49m\u001b[43mparents\u001b[49m\u001b[43m,\u001b[49m\u001b[43m \u001b[49m\u001b[43md\u001b[49m\u001b[43m)\u001b[49m\n\u001b[1;32m     24\u001b[0m newChild \u001b[38;5;241m=\u001b[39m mutation(pM, newChild)\n\u001b[1;32m     25\u001b[0m newFitnesses[childIndex] \u001b[38;5;241m=\u001b[39m fitness(newChild)\n",
      "Cell \u001b[0;32mIn [18], line 3\u001b[0m, in \u001b[0;36msimplePermutationCrossover\u001b[0;34m(pR, parents, d)\u001b[0m\n\u001b[1;32m      1\u001b[0m \u001b[38;5;28;01mdef\u001b[39;00m \u001b[38;5;21msimplePermutationCrossover\u001b[39m(pR, parents, d):\n\u001b[1;32m      2\u001b[0m     \u001b[38;5;28;01mif\u001b[39;00m np\u001b[38;5;241m.\u001b[39mrandom\u001b[38;5;241m.\u001b[39muniform(\u001b[38;5;241m0\u001b[39m, \u001b[38;5;241m1\u001b[39m) \u001b[38;5;241m<\u001b[39m pR:\n\u001b[0;32m----> 3\u001b[0m         \u001b[38;5;28;01mreturn\u001b[39;00m \u001b[43mcrossover\u001b[49m\u001b[43m(\u001b[49m\u001b[43mparents\u001b[49m\u001b[43m,\u001b[49m\u001b[43m \u001b[49m\u001b[43md\u001b[49m\u001b[43m)\u001b[49m\n\u001b[1;32m      4\u001b[0m     \u001b[38;5;28;01mreturn\u001b[39;00m parents[\u001b[38;5;241m0\u001b[39m]\n",
      "Cell \u001b[0;32mIn [19], line 39\u001b[0m, in \u001b[0;36mcrossover\u001b[0;34m(parents, d)\u001b[0m\n\u001b[1;32m     37\u001b[0m \u001b[38;5;28;01mfor\u001b[39;00m j \u001b[38;5;129;01min\u001b[39;00m dupl\u001b[38;5;241m.\u001b[39mvalues():\n\u001b[1;32m     38\u001b[0m     \u001b[38;5;28;01mfor\u001b[39;00m z \u001b[38;5;129;01min\u001b[39;00m j:\n\u001b[0;32m---> 39\u001b[0m         \u001b[38;5;28;01mif\u001b[39;00m(\u001b[43m[\u001b[49m\u001b[43mz\u001b[49m\u001b[43m,\u001b[49m\u001b[43mi\u001b[49m\u001b[43m]\u001b[49m\u001b[43m \u001b[49m\u001b[38;5;129;43;01mnot\u001b[39;49;00m\u001b[43m \u001b[49m\u001b[38;5;129;43;01min\u001b[39;49;00m\u001b[43m \u001b[49m\u001b[43mblocked\u001b[49m): \u001b[38;5;66;03m# si no está en la lista de bloqueados\u001b[39;00m\n\u001b[1;32m     40\u001b[0m             \u001b[38;5;66;03m# print([z,i], miss )\u001b[39;00m\n\u001b[1;32m     41\u001b[0m             \u001b[38;5;28;01mif\u001b[39;00m(\u001b[38;5;28mlen\u001b[39m(miss)):\n\u001b[1;32m     42\u001b[0m                 offspring[z,i] \u001b[38;5;241m=\u001b[39m miss[\u001b[38;5;241m0\u001b[39m]\n",
      "\u001b[0;31mKeyboardInterrupt\u001b[0m: "
     ]
    }
   ],
   "source": [
    "r = np.zeros((9,9))\n",
    "def geneticAlgorithm(f, n, g, pR, pM): #File name, Population Size, # of generations, P(reproduction), p(Mutation), # of queens\n",
    "    m, d = read_csv(f)\n",
    "    sideSize = m.shape[0]\n",
    "    population = initial_population(d, n)\n",
    "    best, fitnesses = -1, np.array([fitness(i) for i in population])\n",
    "    best = np.argmax(fitnesses)\n",
    "    for i in range(g):\n",
    "        if i % 50 == 0: \n",
    "            r = population[best].astype(int)\n",
    "            #print(fitness(r))\n",
    "            #draw_sudoku(r)\n",
    "        if fitnesses[best] == sideSize**2:\n",
    "            return population[best].astype(int)\n",
    "\n",
    "        newPopulation, newFitnesses = np.zeros((n, sideSize, sideSize)), np.zeros(n)\n",
    "        for childIndex in range(n):\n",
    "            pOne = population[tournament(fitnesses.copy(), n // 2)].copy()\n",
    "            pTwo = population[tournament(fitnesses.copy(), n // 2)].copy()\n",
    "            #pOne = population[roulette(population)]\n",
    "            #pTwo = population[roulette(population)]\n",
    "            parents = np.array([pOne, pTwo])\n",
    "            newChild = simplePermutationCrossover(pR, parents, d)\n",
    "            newChild = mutation(pM, newChild)\n",
    "            newFitnesses[childIndex] = fitness(newChild)\n",
    "            newPopulation[childIndex] = newChild\n",
    "        betterBest = np.argmax(newFitnesses)\n",
    "        #print(fitnesses[best] ,newFitnesses[betterBest])\n",
    "        #print(fitnesses, newFitnesses)\n",
    "        #print(\"Before:\", best, \"->\", fitnesses[best], betterBest, \"->\", newFitnesses[betterBest])\n",
    "        #print(fitnesses, newFitnesses)\n",
    "        if newFitnesses[betterBest] < fitnesses[best]: \n",
    "            #print(\"Seeded\")\n",
    "            newPopulation[tournament(fitnesses.copy(), n//2, True)] = population[best].copy()\n",
    "            newFitnesses[best] = fitnesses[best].copy()\n",
    "        else:\n",
    "            #print(\"Updated\")\n",
    "            best = betterBest\n",
    "        population, fitnesses = newPopulation.copy(), newFitnesses.copy()\n",
    "        #print(\"After:\", best, \"->\", fitnesses[best], betterBest, \"->\", newFitnesses[betterBest])\n",
    "        #print(fitnesses, newFitnesses)\n",
    "        print(\"Current Best\", fitnesses[best])\n",
    "    return population[best].astype(int)\n",
    "geneticAlgorithm('easy2.csv', 1000, 100000, 0.75, 0.75)\n",
    "print(fitness(r))\n",
    "draw_sudoku(r)"
   ]
  }
 ],
 "metadata": {
  "kernelspec": {
   "display_name": "Python 3.8.10 64-bit",
   "language": "python",
   "name": "python3"
  },
  "language_info": {
   "codemirror_mode": {
    "name": "ipython",
    "version": 3
   },
   "file_extension": ".py",
   "mimetype": "text/x-python",
   "name": "python",
   "nbconvert_exporter": "python",
   "pygments_lexer": "ipython3",
   "version": "3.8.10"
  },
  "orig_nbformat": 4,
  "vscode": {
   "interpreter": {
    "hash": "916dbcbb3f70747c44a77c7bcd40155683ae19c65e1c03b4aa3499c5328201f1"
   }
  }
 },
 "nbformat": 4,
 "nbformat_minor": 2
}
