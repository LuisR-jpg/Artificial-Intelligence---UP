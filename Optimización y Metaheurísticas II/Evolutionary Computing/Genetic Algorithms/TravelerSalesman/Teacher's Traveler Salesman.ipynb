{
 "cells": [
  {
   "cell_type": "code",
   "execution_count": 17,
   "metadata": {},
   "outputs": [],
   "source": [
    "import pandas\n",
    "import numpy as np\n",
    "import matplotlib.pyplot as plt"
   ]
  },
  {
   "cell_type": "code",
   "execution_count": 18,
   "metadata": {},
   "outputs": [],
   "source": [
    "def read_file(filename):\n",
    "    df = pandas.read_csv(filename,index_col=0)\n",
    "    nodesNames = df.columns\n",
    "    nodesDict = {n:i for i,n in enumerate(nodesNames)}\n",
    "    matrixDistance = df.values\n",
    "    return nodesNames,matrixDistance,nodesDict\n",
    "\n",
    "filename = 'adjacency_matrix.csv'\n",
    "nnodesNames,matrixDistance,nodesDict = read_file(filename)"
   ]
  },
  {
   "cell_type": "code",
   "execution_count": 20,
   "metadata": {},
   "outputs": [],
   "source": [
    "def create_random_nodes(n,lim):\n",
    "    matrixPositions = np.random.uniform(low=0,high=lim,size=(n,2))\n",
    "    letters = [chr(x) for x in range(ord('A'),ord('Z')+1)]\n",
    "    nodesNames = letters[:n]\n",
    "    nodesDict = {n:i for i,n in enumerate(nodesNames)}\n",
    "    matrixDistance = np.zeros((n,n))\n",
    "    for i in range(n):\n",
    "        for j in range(i+1):\n",
    "            x1,y1 = matrixPositions[i,0],matrixPositions[i,1]\n",
    "            x2,y2 = matrixPositions[j,0],matrixPositions[j,1]\n",
    "            matrixDistance[i,j] = np.sqrt( (x1-x2)**2 + (y1-y2)**2  )\n",
    "            matrixDistance[j,i] = matrixDistance[i,j]\n",
    "    return nodesNames,matrixPositions,matrixDistance,nodesDict\n",
    "n = 10\n",
    "lim = 100\n",
    "nodesNames,matrixPositions,matrixDistance,nodesDict = create_random_nodes(n,lim)"
   ]
  },
  {
   "cell_type": "code",
   "execution_count": 23,
   "metadata": {},
   "outputs": [
    {
     "name": "stdout",
     "output_type": "stream",
     "text": [
      "676.2495939757833\n"
     ]
    }
   ],
   "source": [
    "def evaluate_individual(ind,nnodesNames,nodesDict,matrixDistance):\n",
    "    fit = 0\n",
    "    for i in range(len(ind)-1):\n",
    "        n1,n2 = ind[i],ind[i+1]\n",
    "        fit+= matrixDistance[ nodesDict[n1],nodesDict[n2] ]\n",
    "    return fit\n",
    "\n",
    "n = 10\n",
    "lim = 100\n",
    "nodesNames,matrixPositions,matrixDistance,nodesDict = create_random_nodes(n,lim)\n",
    "ind = ['A', 'B', 'C', 'D', 'E', 'F', 'G', 'H', 'I', 'J','A']\n",
    "fit = evaluate_individual(ind,nnodesNames,nodesDict,matrixDistance)\n",
    "print(fit)"
   ]
  },
  {
   "cell_type": "code",
   "execution_count": 30,
   "metadata": {},
   "outputs": [
    {
     "data": {
      "image/png": "[encoded data removed]",
      "text/plain": [
       "<Figure size 432x288 with 1 Axes>"
      ]
     },
     "metadata": {
      "needs_background": "light"
     },
     "output_type": "display_data"
    },
    {
     "name": "stdout",
     "output_type": "stream",
     "text": [
      "536.6314738964613\n"
     ]
    }
   ],
   "source": [
    "def draw_individual(ind,nodesNames,nodesDict,matrixPositions,lim):\n",
    "    plt.figure()\n",
    "    plt.scatter(matrixPositions[:,0],matrixPositions[:,1])\n",
    "    for x,y,n in zip(matrixPositions[:,0],matrixPositions[:,1],nodesNames):\n",
    "        plt.text(x,y,n)\n",
    "    for i in range(len(ind)-1):\n",
    "        n1,n2 = ind[i],ind[i+1]\n",
    "        x1,y1 = matrixPositions[ nodesDict[n1] ,0],matrixPositions[ nodesDict[n1] ,1]\n",
    "        x2,y2 = matrixPositions[ nodesDict[n2] ,0],matrixPositions[ nodesDict[n2] ,1]\n",
    "        plt.plot([x1,x2],[y1,y2])\n",
    "        \n",
    "    plt.xlim([0,lim])\n",
    "    plt.ylim([0,lim])\n",
    "    plt.show()\n",
    "    \n",
    "n = 10\n",
    "lim = 100\n",
    "nodesNames,matrixPositions,matrixDistance,nodesDict = create_random_nodes(n,lim)\n",
    "\n",
    "ind = ['A', 'B', 'C', 'D', 'E', 'F', 'G', 'H', 'I', 'J','A']\n",
    "fit = evaluate_individual(ind,nodesNames,nodesDict,matrixDistance)\n",
    "draw_individual(ind,nodesNames,nodesDict,matrixPositions,lim)\n",
    "print(fit)"
   ]
  },
  {
   "cell_type": "code",
   "execution_count": null,
   "metadata": {},
   "outputs": [],
   "source": []
  }
 ],
 "metadata": {
  "kernelspec": {
   "display_name": "Python 3",
   "language": "python",
   "name": "python3"
  },
  "language_info": {
   "codemirror_mode": {
    "name": "ipython",
    "version": 3
   },
   "file_extension": ".py",
   "mimetype": "text/x-python",
   "name": "python",
   "nbconvert_exporter": "python",
   "pygments_lexer": "ipython3",
   "version": "3.7.6"
  }
 },
 "nbformat": 4,
 "nbformat_minor": 4
}
