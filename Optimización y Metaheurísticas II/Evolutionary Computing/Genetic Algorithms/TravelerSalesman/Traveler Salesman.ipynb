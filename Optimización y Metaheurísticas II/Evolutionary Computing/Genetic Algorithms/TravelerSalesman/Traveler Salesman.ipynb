{
 "cells": [
  {
   "cell_type": "code",
   "execution_count": 1,
   "id": "8175e004",
   "metadata": {},
   "outputs": [],
   "source": [
    "import pandas as pd\n",
    "import numpy as np\n",
    "import matplotlib.pyplot as plt\n",
    "from scipy.spatial import distance_matrix\n",
    "from numpy.random import seed\n",
    "from numpy.random import randint\n",
    "import random\n",
    "from math import sqrt\n",
    "import string\n",
    "import sys"
   ]
  },
  {
   "cell_type": "markdown",
   "id": "9b23d567",
   "metadata": {},
   "source": [
    "### Read CSV\n",
    "##### Input: filename"
   ]
  },
  {
   "cell_type": "code",
   "execution_count": 2,
   "id": "a99f8d2f",
   "metadata": {},
   "outputs": [],
   "source": [
    "def read_file(name):\n",
    "    df = pd.read_csv('../data/'+name);\n",
    "    # node names array\n",
    "    namesArr = df.columns.values\n",
    "    # nodes dictionary\n",
    "    dict = {}\n",
    "    for i in range(0, df.columns.size):\n",
    "        dict[df.columns[i]] = i;\n",
    "    return namesArr, dict, df.values"
   ]
  },
  {
   "cell_type": "markdown",
   "id": "22bc2301",
   "metadata": {},
   "source": [
    "### Generate n nodes\n",
    "##### Input: n (number of nodes), lim - space limit"
   ]
  },
  {
   "cell_type": "code",
   "execution_count": 3,
   "id": "084922f7",
   "metadata": {},
   "outputs": [],
   "source": [
    "def generate_n_nodes(n,lim):\n",
    "    # Nodes position (x,y)\n",
    "    seed(1)\n",
    "    coord = []\n",
    "    xList = []\n",
    "    yList = []\n",
    "    for i in range(0, n):\n",
    "        x = randint(0, lim)\n",
    "        xList.append(x)\n",
    "        y = randint(0, lim)\n",
    "        yList.append(y)\n",
    "        coord.append((x,y))\n",
    "    mx = float('-inf')\n",
    "    for x,y in coord:\n",
    "        if x > mx:\n",
    "            mx = x\n",
    "        if y > mx:\n",
    "            mx = y\n",
    "    # Nodes Dictionary\n",
    "    dict = {}\n",
    "    alphabet_string = string.ascii_uppercase\n",
    "    alphabet_list = list(alphabet_string)\n",
    "    alphabet_list = alphabet_list[:n]\n",
    "    for i, txt in enumerate(alphabet_list):\n",
    "        dict[txt] = i;\n",
    "    # Distances matrix \n",
    "    tempList = []\n",
    "    for x,y in coord:\n",
    "        for i,j in coord :\n",
    "            tempList.append(round(sqrt(pow((x-i),2) + pow((y-j),2) ),1))\n",
    "    mat = []\n",
    "    while tempList != []:\n",
    "      mat.append(tempList[:n])\n",
    "      tempList = tempList[n:]\n",
    "    dist_mat = pd.DataFrame(mat)\n",
    "    return coord, dict, dist_mat\n"
   ]
  },
  {
   "cell_type": "markdown",
   "id": "256aba2c",
   "metadata": {},
   "source": [
    "### Objective Function\n",
    "##### Input: nodes names array, nodes dictionary, distances matrix, individual array"
   ]
  },
  {
   "cell_type": "code",
   "execution_count": 4,
   "id": "5c4784c6",
   "metadata": {},
   "outputs": [],
   "source": [
    "def objective_function(namesArr,d, dMatrix, sol):\n",
    "    if sol[0] != sol[len(sol)-1]: return -1 #the fist and last character must be the same\n",
    "    rep = sol.rstrip(sol[-1])\n",
    "    if not len(set(rep)) == len(rep): return -1 # the nodes aren't repeated\n",
    "    if sorted(rep) != sorted(namesArr): return -1 # all the nodes are included in the solution\n",
    "    \n",
    "    n = len(namesArr)\n",
    "    w = 0;\n",
    "    for i in range(0, n):\n",
    "            w+=dMatrix[ord(sol[i])-65][ord(sol[i+1])-65]\n",
    "    return w\n",
    " "
   ]
  },
  {
   "cell_type": "code",
   "execution_count": 5,
   "id": "28ee9f42",
   "metadata": {},
   "outputs": [
    {
     "name": "stdout",
     "output_type": "stream",
     "text": [
      "\n",
      "--------------------------------- 1. Read the source file ------------------------------------------------\n",
      "\t~~~~ Nodes names array ~~~~ \n",
      "['A' 'B' 'C' 'D' 'E' 'F' 'G' 'H' 'I' 'J']\n",
      "\t~~~~ Nodes dictionary ~~~~ \n",
      "{'A': 0, 'B': 1, 'C': 2, 'D': 3, 'E': 4, 'F': 5, 'G': 6, 'H': 7, 'I': 8, 'J': 9}\n",
      "\\~~~~ Distances Matrix ~~~~ \n",
      "[[ 0 59 48 69 54 91 55 34 81 72]\n",
      " [59  0 45 19 45 73 48 13 13 42]\n",
      " [48 45  0 97 11 65 12 58 70 45]\n",
      " [69 19 97  0 31 94 23 66 71 13]\n",
      " [54 45 11 31  0 95 37 47 24 49]\n",
      " [91 73 65 94 95  0 62 35 38 61]\n",
      " [55 48 12 23 37 62  0 82 96 47]\n",
      " [34 13 58 66 47 35 82  0 10 47]\n",
      " [81 13 70 71 24 38 96 10  0 63]\n",
      " [72 42 45 13 49 61 47 47 63  0]]\n",
      "\n",
      "--------------------------------- 2. Generate n nodes ------------------------------------------------\n",
      "\t~~~~ Nodes position (x,y) ~~~~ \n",
      "-> # nodes: 3\n",
      "-> lim: 10\n",
      "[(5, 8), (9, 5), (0, 0)]\n",
      "\t~~~~ Nodes dictionary ~~~~ \n",
      "{'A': 0, 'B': 1, 'C': 2}\n",
      "\t~~~~ Distances Matrix ~~~~ \n",
      "     0     1     2\n",
      "0  0.0   5.0   9.4\n",
      "1  5.0   0.0  10.3\n",
      "2  9.4  10.3   0.0\n",
      "\n",
      "--------------------------------- 3. Objective function ------------------------------------------------\n",
      "solution: ABCDEFGHIJA\n",
      "weight:  616\n"
     ]
    }
   ],
   "source": [
    "# MAIN\n",
    "print(\"\\n--------------------------------- 1. Read the source file ------------------------------------------------\")\n",
    "print(\"\\t~~~~ Nodes names array ~~~~ \")\n",
    "print(read_file(\"adjacency_matrix.csv\")[0])\n",
    "print(\"\\t~~~~ Nodes dictionary ~~~~ \")\n",
    "print(read_file(\"adjacency_matrix.csv\")[1])\n",
    "print(\"\\~~~~ Distances Matrix ~~~~ \")\n",
    "print(read_file(\"adjacency_matrix.csv\")[2])\n",
    "print(\"\\n--------------------------------- 2. Generate n nodes ------------------------------------------------\")\n",
    "print(\"\\t~~~~ Nodes position (x,y) ~~~~ \")\n",
    "n = int(input(\"-> # nodes: \"))\n",
    "lim = int(input(\"-> lim: \"))\n",
    "print(generate_n_nodes(n,lim)[0] )\n",
    "print(\"\\t~~~~ Nodes dictionary ~~~~ \")\n",
    "print(generate_n_nodes(n,lim)[1] )\n",
    "print(\"\\t~~~~ Distances Matrix ~~~~ \")\n",
    "print(generate_n_nodes(n,lim)[2] )\n",
    "print(\"\\n--------------------------------- 3. Objective function ------------------------------------------------\")\n",
    "namesArr = read_file(\"adjacency_matrix.csv\")[0]\n",
    "dictionary = read_file(\"adjacency_matrix.csv\")[1]\n",
    "matrix = read_file(\"adjacency_matrix.csv\")[2]\n",
    "print(\"weight: \",objective_function(namesArr, dictionary, matrix, input(\"solution: \")))\n"
   ]
  },
  {
   "cell_type": "markdown",
   "id": "3c8c7520",
   "metadata": {},
   "source": [
    "# Genetic Algorithm"
   ]
  },
  {
   "cell_type": "code",
   "execution_count": 20,
   "id": "8c76b793",
   "metadata": {},
   "outputs": [
    {
     "name": "stdout",
     "output_type": "stream",
     "text": [
      "ABC\n",
      "ACB\n",
      "BAC\n",
      "BCA\n",
      "CAB\n",
      "CBA\n"
     ]
    }
   ],
   "source": [
    "n = 3\n",
    "def permutations(remaining, candidate=''):\n",
    "    if n == 0: return\n",
    "    if len(remaining) == 0:\n",
    "        print(candidate)\n",
    "    for i in range(len(remaining)):\n",
    "        newCandidate = candidate + remaining[i]\n",
    "        newRemaining = remaining[0:i] + remaining[i+1:]\n",
    "        permutations(newRemaining, newCandidate)\n",
    "        \n",
    "permutations(\"ABC\")"
   ]
  },
  {
   "cell_type": "code",
   "execution_count": 7,
   "id": "829a7858",
   "metadata": {},
   "outputs": [],
   "source": [
    "#def roulette_selection():"
   ]
  },
  {
   "cell_type": "code",
   "execution_count": 8,
   "id": "41e01e50",
   "metadata": {},
   "outputs": [
    {
     "ename": "SyntaxError",
     "evalue": "invalid syntax (Temp/ipykernel_7444/913097659.py, line 3)",
     "output_type": "error",
     "traceback": [
      "\u001b[1;36m  File \u001b[1;32m\"C:\\Users\\scago\\AppData\\Local\\Temp/ipykernel_7444/913097659.py\"\u001b[1;36m, line \u001b[1;32m3\u001b[0m\n\u001b[1;33m    if(random.uniform(0, 1) < pr)\u001b[0m\n\u001b[1;37m                                 ^\u001b[0m\n\u001b[1;31mSyntaxError\u001b[0m\u001b[1;31m:\u001b[0m invalid syntax\n"
     ]
    }
   ],
   "source": [
    "def crossover(parents, pr): # pr = probability of reproduction\n",
    "    for i in range(len(parents)):\n",
    "        if(random.uniform(0, 1) < pr)\n",
    "            \n",
    "        "
   ]
  },
  {
   "cell_type": "code",
   "execution_count": 21,
   "id": "4dbe56b6",
   "metadata": {},
   "outputs": [
    {
     "ename": "NameError",
     "evalue": "name 'generate_n_nodes' is not defined",
     "output_type": "error",
     "traceback": [
      "\u001b[1;31m---------------------------------------------------------------------------\u001b[0m",
      "\u001b[1;31mNameError\u001b[0m                                 Traceback (most recent call last)",
      "\u001b[1;32m~\\AppData\\Local\\Temp/ipykernel_6836/3616444261.py\u001b[0m in \u001b[0;36m<module>\u001b[1;34m\u001b[0m\n\u001b[0;32m     20\u001b[0m \u001b[0mpm\u001b[0m \u001b[1;33m=\u001b[0m \u001b[1;36m0.8\u001b[0m \u001b[1;31m# mutation probability\u001b[0m\u001b[1;33m\u001b[0m\u001b[1;33m\u001b[0m\u001b[0m\n\u001b[0;32m     21\u001b[0m \u001b[1;33m\u001b[0m\u001b[0m\n\u001b[1;32m---> 22\u001b[1;33m \u001b[0mgenetic_algorithm\u001b[0m\u001b[1;33m(\u001b[0m\u001b[0mn\u001b[0m\u001b[1;33m,\u001b[0m\u001b[0mg\u001b[0m\u001b[1;33m,\u001b[0m\u001b[0mpr\u001b[0m\u001b[1;33m,\u001b[0m\u001b[0mpm\u001b[0m\u001b[1;33m)\u001b[0m\u001b[1;33m\u001b[0m\u001b[1;33m\u001b[0m\u001b[0m\n\u001b[0m",
      "\u001b[1;32m~\\AppData\\Local\\Temp/ipykernel_6836/3616444261.py\u001b[0m in \u001b[0;36mgenetic_algorithm\u001b[1;34m(n, g, pr, pm)\u001b[0m\n\u001b[0;32m      1\u001b[0m \u001b[1;32mdef\u001b[0m \u001b[0mgenetic_algorithm\u001b[0m\u001b[1;33m(\u001b[0m\u001b[0mn\u001b[0m\u001b[1;33m,\u001b[0m \u001b[0mg\u001b[0m\u001b[1;33m,\u001b[0m \u001b[0mpr\u001b[0m\u001b[1;33m,\u001b[0m \u001b[0mpm\u001b[0m\u001b[1;33m)\u001b[0m\u001b[1;33m:\u001b[0m\u001b[1;33m\u001b[0m\u001b[1;33m\u001b[0m\u001b[0m\n\u001b[0;32m      2\u001b[0m     \u001b[1;31m#create the initial population\u001b[0m\u001b[1;33m\u001b[0m\u001b[1;33m\u001b[0m\u001b[0m\n\u001b[1;32m----> 3\u001b[1;33m     \u001b[0mgenerate_n_nodes\u001b[0m\u001b[1;33m(\u001b[0m\u001b[0mn\u001b[0m\u001b[1;33m,\u001b[0m \u001b[0mlim\u001b[0m\u001b[1;33m)\u001b[0m\u001b[1;33m\u001b[0m\u001b[1;33m\u001b[0m\u001b[0m\n\u001b[0m\u001b[0;32m      4\u001b[0m     \u001b[1;31m#calculate the population fitness\u001b[0m\u001b[1;33m\u001b[0m\u001b[1;33m\u001b[0m\u001b[0m\n\u001b[0;32m      5\u001b[0m     \u001b[0mprint\u001b[0m\u001b[1;33m(\u001b[0m \u001b[0mgenerate_n_nodes\u001b[0m\u001b[1;33m(\u001b[0m\u001b[0mn\u001b[0m\u001b[1;33m,\u001b[0m \u001b[0mlim\u001b[0m\u001b[1;33m)\u001b[0m\u001b[1;33m[\u001b[0m\u001b[1;36m2\u001b[0m\u001b[1;33m]\u001b[0m\u001b[1;33m,\u001b[0m\u001b[1;34m\"\\n\"\u001b[0m\u001b[1;33m)\u001b[0m\u001b[1;33m\u001b[0m\u001b[1;33m\u001b[0m\u001b[0m\n",
      "\u001b[1;31mNameError\u001b[0m: name 'generate_n_nodes' is not defined"
     ]
    }
   ],
   "source": [
    "def genetic_algorithm(n, g, pr, pm):\n",
    "    #create the initial population\n",
    "    generate_n_nodes(n, lim) \n",
    "    #calculate the population fitness\n",
    "    print( generate_n_nodes(n, lim)[2],\"\\n\")\n",
    "    namesArr = (generate_n_nodes(n, lim)[1]).keys()\n",
    "    dictionary = generate_n_nodes(n, lim)[1]\n",
    "    matrix = generate_n_nodes(n, lim)[2]\n",
    "    parents = input(\"solution: \")\n",
    "    elite = objective_function(namesArr, dictionary, matrix, parents)\n",
    "    print(\"weight: \",elite)\n",
    "    while g > 0: # While the number of generations is less than G or we haven’t found a good solution\n",
    "        crossover(parents, pr)\n",
    "        break\n",
    "    \n",
    "lim = 100\n",
    "n = 3 # population size\n",
    "g = 3 # max number of generations\n",
    "pr = 0.8 # reproduction's probability\n",
    "pm = 0.8 # mutation probability\n",
    "\n",
    "genetic_algorithm(n,g,pr,pm)"
   ]
  },
  {
   "cell_type": "code",
   "execution_count": null,
   "id": "3a77464f",
   "metadata": {},
   "outputs": [],
   "source": []
  },
  {
   "cell_type": "code",
   "execution_count": null,
   "id": "ea0b99f8",
   "metadata": {},
   "outputs": [],
   "source": []
  }
 ],
 "metadata": {
  "kernelspec": {
   "display_name": "Python 3 (ipykernel)",
   "language": "python",
   "name": "python3"
  },
  "language_info": {
   "codemirror_mode": {
    "name": "ipython",
    "version": 3
   },
   "file_extension": ".py",
   "mimetype": "text/x-python",
   "name": "python",
   "nbconvert_exporter": "python",
   "pygments_lexer": "ipython3",
   "version": "3.9.7"
  }
 },
 "nbformat": 4,
 "nbformat_minor": 5
}
