{
 "cells": [
  {
   "cell_type": "code",
   "execution_count": 314,
   "id": "b56d93ed",
   "metadata": {},
   "outputs": [],
   "source": [
    "import numpy as np\n",
    "import matplotlib.pyplot as plt"
   ]
  },
  {
   "cell_type": "code",
   "execution_count": 315,
   "id": "16d7f608",
   "metadata": {},
   "outputs": [],
   "source": [
    "def geneticAlgorithm(n, g, pR, pM, nCols): #Population Size, # of generations, P(reproduction), p(Mutation), # of queens\n",
    "    population = np.array([np.random.permutation(nCols) for i in range(n)])\n",
    "    bestIndividual, bestFitness = np.zeros(nCols), float('-inf')\n",
    "    for individual in population:\n",
    "        if (newFitness := fitness(individual)) > bestFitness:\n",
    "            bestFitness = newFitness\n",
    "            bestIndividual = individual\n",
    "    for i in range(g):\n",
    "        if bestFitness == nCols:\n",
    "            return bestIndividual\n",
    "        bestNewFitness = float('-inf')\n",
    "        for childIndex in range(n):\n",
    "            if childIndex + 1 == n and bestNewFitness < bestFitness: #TODO: Use inverse tournament\n",
    "                population[childIndex] = bestIndividual\n",
    "                continue\n",
    "            pOne = population[tournamentSelection(population)]\n",
    "            pTwo = population[tournamentSelection(population)]\n",
    "            parents = np.array([pOne, pTwo])\n",
    "            #parents = [rouletteSelection(population), rouletteSelection(population)]\n",
    "            newChild = simplePermutationCrossover(pR, parents, nCols)\n",
    "            #newChild = partiallyMappedCrossover(parents)\n",
    "            newChild = mutation(pM, newChild)\n",
    "            population[childIndex] = newChild\n",
    "            bestNewFitness = max(bestNewFitness, fitness(newChild))\n",
    "    return bestIndividual"
   ]
  },
  {
   "cell_type": "code",
   "execution_count": 323,
   "id": "f867ff10",
   "metadata": {},
   "outputs": [],
   "source": [
    "def fitness(solution):\n",
    "    goodQueens = len(solution)\n",
    "    for i, queenOne in enumerate(solution[: -1]):\n",
    "        for j, queenTwo in enumerate(solution[i + 1:]):\n",
    "            if abs(j - 1) == abs(queenOne - queenTwo):\n",
    "                goodQueens -= 1\n",
    "    return goodQueens"
   ]
  },
  {
   "cell_type": "code",
   "execution_count": 317,
   "id": "8716dc1a",
   "metadata": {},
   "outputs": [],
   "source": [
    "def tournamentSelection(population, k = 2):\n",
    "    participants = np.random.choice(len(population), k, False)\n",
    "    results = [fitness(population[i]) for i in participants]\n",
    "    return np.argmax(results)"
   ]
  },
  {
   "cell_type": "code",
   "execution_count": 318,
   "id": "78b9cb24",
   "metadata": {},
   "outputs": [],
   "source": [
    "def simplePermutationCrossover(pR, parents, nQueens):\n",
    "    if np.random.rand() > pR:\n",
    "        return parents[0] if fitness(parents[0]) > fitness(parents[1]) else parents[1]\n",
    "    cuttingPoint = np.random.randint(1, len(parents[0]) - 2)\n",
    "    child = np.concatenate((parents[0,: cuttingPoint], parents[1, cuttingPoint:]))\n",
    "    setChild = set(child)\n",
    "    repeated = set(parents[0,1: cuttingPoint]).intersection(set(parents[1, cuttingPoint: -1]))\n",
    "    missing = set(np.arange(nQueens)).difference(setChild)\n",
    "    if len(repeated):\n",
    "        for i in range(len(child)):\n",
    "            if child[i] in repeated:\n",
    "                repeated.remove(child[i])\n",
    "                child[i] = missing.pop()          \n",
    "    return child "
   ]
  },
  {
   "cell_type": "code",
   "execution_count": 319,
   "id": "43cc9d82",
   "metadata": {},
   "outputs": [],
   "source": [
    "def mutation(pM, individual):\n",
    "    if np.random.rand() > pM:\n",
    "        return individual\n",
    "    toSwap = np.random.choice(len(individual), 2, False)\n",
    "    individual[toSwap[0]], individual[toSwap[1]] = individual[toSwap[1]], individual[toSwap[0]]\n",
    "    return individual"
   ]
  },
  {
   "cell_type": "code",
   "execution_count": 320,
   "id": "4340d9f7",
   "metadata": {},
   "outputs": [],
   "source": [
    "def plotSolution(individual):\n",
    "    boardSize = len(individual)\n",
    "    chessboard = np.zeros((boardSize, boardSize))\n",
    "\n",
    "    chessboard[1::2, 0::2] = 1\n",
    "    chessboard[0::2, 1::2] = 1\n",
    "\n",
    "    plt.imshow(chessboard, cmap='binary')\n",
    "    for i in range(len(individual)):\n",
    "      plt.text(i, individual[i], '♕', fontsize=25, ha='center', va='center', color='black' if (i - individual[i] ) % 2 == 0 else 'white')\n",
    "    plt.show()"
   ]
  },
  {
   "cell_type": "code",
   "execution_count": 333,
   "id": "abc912ea",
   "metadata": {},
   "outputs": [
    {
     "name": "stdout",
     "output_type": "stream",
     "text": [
      "[4 7 0 2 5 3 6 1] 8\n"
     ]
    },
    {
     "data": {
      "image/png": "[encoded data removed]",
      "text/plain": [
       "<Figure size 640x480 with 1 Axes>"
      ]
     },
     "metadata": {},
     "output_type": "display_data"
    }
   ],
   "source": [
    "sol = geneticAlgorithm(10, 50, 0.5, 0.5, 8)\n",
    "print(sol, fitness(sol))\n",
    "plotSolution(sol)"
   ]
  }
 ],
 "metadata": {
  "kernelspec": {
   "display_name": "Python 3 (ipykernel)",
   "language": "python",
   "name": "python3"
  },
  "language_info": {
   "codemirror_mode": {
    "name": "ipython",
    "version": 3
   },
   "file_extension": ".py",
   "mimetype": "text/x-python",
   "name": "python",
   "nbconvert_exporter": "python",
   "pygments_lexer": "ipython3",
   "version": "3.10.4"
  }
 },
 "nbformat": 4,
 "nbformat_minor": 5
}
