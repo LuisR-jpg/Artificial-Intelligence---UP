{
 "cells": [
  {
   "cell_type": "code",
   "execution_count": 170,
   "id": "b56d93ed",
   "metadata": {},
   "outputs": [],
   "source": [
    "import numpy as np\n",
    "import matplotlib.pyplot as plt"
   ]
  },
  {
   "cell_type": "code",
   "execution_count": 253,
   "id": "16d7f608",
   "metadata": {},
   "outputs": [],
   "source": [
    "def geneticAlgorithm(n, g, pR, pM, nCols): #Population Size, # of generations, P(reproduction), p(Mutation), # of queens\n",
    "    population = np.array([np.random.permutation(nCols) for i in range(n)])\n",
    "    bestIndividual, bestFitness = np.zeros(nCols), float('-inf')\n",
    "    for individual in population:\n",
    "        if (newFitness := fitness(individual)) > bestFitness:\n",
    "            bestFitness = newFitness\n",
    "            bestIndividual = individual\n",
    "    for i in range(g):\n",
    "        if bestFitness == nCols:\n",
    "            return bestIndividual\n",
    "        hasElite, worstFitness = False, 0\n",
    "        for childIndex in range(n):\n",
    "            pOne = population[tournamentSelection(population)]\n",
    "            pTwo = population[tournamentSelection(population)]\n",
    "            parents = np.array([pOne, pTwo])\n",
    "            #parents = [rouletteSelection(population), rouletteSelection(population)]\n",
    "            newChild = simplePermutationCrossover(pR, parents)\n",
    "            #newChild = partiallyMappedCrossover(parents)\n",
    "            newChild = mutation(pM, newChild)\n",
    "            #newChild = heuristicMutation(pM, newChild)\n",
    "            newFitness = fitness(newChild)\n",
    "            if newFitness > bestFitness:\n",
    "                betsFitness = newFitness\n",
    "                bestIndividual = newChild\n",
    "            if (newChild == bestIndividual).all():\n",
    "                hasElite = True\n",
    "            if newFitness < fitness(population[worstFitness]):\n",
    "                worstFitness = childIndex\n",
    "            population[childIndex] = newChild\n",
    "        if not hasElite:\n",
    "            population[worstFitness] = bestIndividual\n",
    "    return bestIndividual"
   ]
  },
  {
   "cell_type": "code",
   "execution_count": 172,
   "id": "f867ff10",
   "metadata": {},
   "outputs": [],
   "source": [
    "def fitness(solution):\n",
    "    goodQueens = len(solution)\n",
    "    for i in range(len(solution) - 1):\n",
    "        for j in range(i + 1, len(solution)):\n",
    "            queenOne, queenTwo = solution[i], solution[j]\n",
    "            if abs(j - i) == abs(queenOne - queenTwo) or queenOne == queenTwo:\n",
    "                goodQueens -= 1\n",
    "    return goodQueens"
   ]
  },
  {
   "cell_type": "code",
   "execution_count": 173,
   "id": "8716dc1a",
   "metadata": {},
   "outputs": [],
   "source": [
    "def tournamentSelection(population, k = 2):\n",
    "    participants = np.random.choice(len(population), k, False)\n",
    "    results = [fitness(population[i]) for i in participants]\n",
    "    return np.argmax(results)"
   ]
  },
  {
   "cell_type": "code",
   "execution_count": 174,
   "id": "78b9cb24",
   "metadata": {},
   "outputs": [],
   "source": [
    "def simplePermutationCrossover(pR, parents):\n",
    "    nQueens = parents.shape[1]\n",
    "    if np.random.rand() > pR:\n",
    "        return parents[0] if fitness(parents[0]) > fitness(parents[1]) else parents[1]\n",
    "    cuttingPoint = np.random.randint(1, len(parents[0]) - 2)\n",
    "    child = np.concatenate((parents[0,: cuttingPoint], parents[1, cuttingPoint:]))\n",
    "    setChild = set(child)\n",
    "    repeated = set(parents[0,1: cuttingPoint]).intersection(set(parents[1, cuttingPoint: -1]))\n",
    "    missing = set(np.arange(nQueens)).difference(setChild)\n",
    "    if len(repeated):\n",
    "        for i in range(len(child)):\n",
    "            if child[i] in repeated:\n",
    "                repeated.remove(child[i])\n",
    "                child[i] = missing.pop()          \n",
    "    return child "
   ]
  },
  {
   "cell_type": "code",
   "execution_count": 254,
   "id": "43cc9d82",
   "metadata": {},
   "outputs": [],
   "source": [
    "def heuristicMutation(pM, individual):\n",
    "    if np.random.rand() > pM:\n",
    "        return individual\n",
    "    for i in range(len(individual) - 1):\n",
    "        for j in range(i + 1, len(individual)):\n",
    "            queenOne, queenTwo = individual[i], individual[j]\n",
    "            if abs(j - i) == abs(queenOne - queenTwo) or queenOne == queenTwo:\n",
    "                individual[j] += 1\n",
    "                individual[j] %= len(individual)\n",
    "    return individual\n",
    "def mutation(pM, individual):\n",
    "    if np.random.rand() > pM:\n",
    "        return individual\n",
    "    toSwap = [np.random.choice(len(individual)), 0]\n",
    "    for i in range(len(individual) - 1):\n",
    "        for j in range(i + 1, len(individual)):\n",
    "            queenOne, queenTwo = individual[i], individual[j]\n",
    "            if abs(j - i) == abs(queenOne - queenTwo) or queenOne == queenTwo:\n",
    "                toSwap[1] = j\n",
    "    individual[toSwap[0]], individual[toSwap[1]] = individual[toSwap[1]], individual[toSwap[0]]\n",
    "    return individual "
   ]
  },
  {
   "cell_type": "code",
   "execution_count": 176,
   "id": "4340d9f7",
   "metadata": {},
   "outputs": [],
   "source": [
    "def plotSolution(individual):\n",
    "    boardSize = len(individual)\n",
    "    chessboard = np.zeros((boardSize, boardSize))\n",
    "\n",
    "    chessboard[1::2, 0::2] = 1\n",
    "    chessboard[0::2, 1::2] = 1\n",
    "\n",
    "    plt.imshow(chessboard, cmap='binary')\n",
    "    for i in range(len(individual)):\n",
    "      plt.text(i, individual[i], '♕', fontsize=25, ha='center', va='center', color='black' if (i - individual[i] ) % 2 == 0 else 'white')\n",
    "    plt.show()"
   ]
  },
  {
   "cell_type": "code",
   "execution_count": 250,
   "id": "abc912ea",
   "metadata": {},
   "outputs": [
    {
     "name": "stdout",
     "output_type": "stream",
     "text": [
      "[3 7 2 4 6 0 5 5] 7\n"
     ]
    },
    {
     "data": {
      "image/png": "[encoded data removed]",
      "text/plain": [
       "<Figure size 640x480 with 1 Axes>"
      ]
     },
     "metadata": {},
     "output_type": "display_data"
    }
   ],
   "source": [
    "sol = geneticAlgorithm(10, 200, 0.5, 0.5, 8)\n",
    "print(sol, fitness(sol))\n",
    "plotSolution(sol)\n",
    "\n",
    "#[3 7 4 2 0 6 1 5] 8"
   ]
  },
  {
   "cell_type": "code",
   "execution_count": 259,
   "id": "0f80169b",
   "metadata": {},
   "outputs": [
    {
     "name": "stdout",
     "output_type": "stream",
     "text": [
      "Got: 16 out of: 30\n",
      "Fitness avg: 6.833333333333333\n"
     ]
    }
   ],
   "source": [
    "gotEight, avg, nIter = 0, 0.0, 30\n",
    "for i in range(nIter):\n",
    "    sol = geneticAlgorithm(30, 100, 0.8, 0.5, 8)\n",
    "    avg += fitness(sol)\n",
    "    if fitness(sol) == 8:\n",
    "        gotEight += 1\n",
    "    \n",
    "print(\"Got:\", gotEight, \"out of:\", nIter)\n",
    "print(\"Fitness avg:\", avg/nIter)\n",
    "\n",
    "#04 de Septiembre 11:15 -> Got: 0 out of: 50. Fitness avg: 3.06 -> geneticAlgorithm(10, 200, 0.5, 0.5, 8)\n",
    "#04 de Septiembre 11:34 -> Got: 24 out of: 50. Fitness avg: 6.8 -> geneticAlgorithm(30, 100, 0.5, 0.5, 8)"
   ]
  }
 ],
 "metadata": {
  "kernelspec": {
   "display_name": "Python 3 (ipykernel)",
   "language": "python",
   "name": "python3"
  },
  "language_info": {
   "codemirror_mode": {
    "name": "ipython",
    "version": 3
   },
   "file_extension": ".py",
   "mimetype": "text/x-python",
   "name": "python",
   "nbconvert_exporter": "python",
   "pygments_lexer": "ipython3",
   "version": "3.10.4"
  }
 },
 "nbformat": 4,
 "nbformat_minor": 5
}
