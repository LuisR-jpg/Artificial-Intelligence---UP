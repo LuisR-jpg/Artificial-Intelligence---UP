{
 "cells": [
  {
   "cell_type": "code",
   "execution_count": 2,
   "id": "16d7f608",
   "metadata": {},
   "outputs": [],
   "source": [
    "def geneticAlgorithm(n, g, pR, pM, nCols):\n",
    "    population = np.random.permutation(nCols)\n",
    "    bestIndividual, bestFitness = np.zeros(nCols), float('-inf')\n",
    "    for individual in population:\n",
    "        if (newFitness := fitness(individual)) > bestFitness:\n",
    "            bestFitness = newFitness\n",
    "            bestIndividual = individual\n",
    "    for i in range(g):\n",
    "        if bestFitness == nCols:\n",
    "            return bestIndividual\n",
    "        bestNewFitness = float('-inf')\n",
    "        for childIndex in range(n):\n",
    "            if childIndex + 1 == n and bestNewFitness < bestFitness: #TODO: Use inverse tournament\n",
    "                population[childIndex] = bestIndividual\n",
    "                continue\n",
    "            parents = [tournamentSelection(population), tournamentSelection(population)]\n",
    "            #parents = [rouletteSelection(population), rouletteSelection(population)]\n",
    "            newChild = simplePermutationCrossover(parents)\n",
    "            #newChild = partiallyMappedCrossover(parents)\n",
    "            newChild = mutation(newChild)\n",
    "            population[childIndex] = newChild\n",
    "            bestNewFitness = max(bestNewFitness, fitness(newChild))\n",
    "    return np.zeros(nCols)"
   ]
  },
  {
   "cell_type": "code",
   "execution_count": 4,
   "id": "f867ff10",
   "metadata": {},
   "outputs": [],
   "source": [
    "def fitness(solution):\n",
    "    goodQueens = len(solution)\n",
    "    for i, queenOne in enumerate(solution[: -1]):\n",
    "        for j, queenTwo in enumerate(solution[i + 1]):\n",
    "            if j - 1 == abs(queenOne - queenTwo):\n",
    "                goodQueens -= 1\n",
    "    return goodQueens"
   ]
  },
  {
   "cell_type": "code",
   "execution_count": null,
   "id": "8716dc1a",
   "metadata": {},
   "outputs": [],
   "source": [
    "def tournamentSelection(population, k = 2):\n",
    "    "
   ]
  }
 ],
 "metadata": {
  "kernelspec": {
   "display_name": "Python 3 (ipykernel)",
   "language": "python",
   "name": "python3"
  },
  "language_info": {
   "codemirror_mode": {
    "name": "ipython",
    "version": 3
   },
   "file_extension": ".py",
   "mimetype": "text/x-python",
   "name": "python",
   "nbconvert_exporter": "python",
   "pygments_lexer": "ipython3",
   "version": "3.10.4"
  }
 },
 "nbformat": 4,
 "nbformat_minor": 5
}
