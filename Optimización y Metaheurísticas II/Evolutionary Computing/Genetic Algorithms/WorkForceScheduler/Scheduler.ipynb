{
 "cells": [
  {
   "cell_type": "code",
   "execution_count": 7,
   "metadata": {},
   "outputs": [
    {
     "ename": "ImportError",
     "evalue": "cannot import name 'geneticAlgorithm' from 'genetic_algorithm' (c:\\Users\\lalor\\Documents\\Git\\School\\Optimización y Metaheurísticas II\\Evolutionary Computing\\Genetic Algorithms\\WorkForceScheduler\\genetic_algorithm.py)",
     "output_type": "error",
     "traceback": [
      "\u001b[1;31m---------------------------------------------------------------------------\u001b[0m",
      "\u001b[1;31mImportError\u001b[0m                               Traceback (most recent call last)",
      "\u001b[1;32mc:\\Users\\lalor\\Documents\\Git\\School\\Optimización y Metaheurísticas II\\Evolutionary Computing\\Genetic Algorithms\\WorkForceScheduler\\Scheduler.ipynb Cell 1\u001b[0m in \u001b[0;36m<cell line: 1>\u001b[1;34m()\u001b[0m\n\u001b[1;32m----> <a href='vscode-notebook-cell:/c%3A/Users/lalor/Documents/Git/School/Optimizaci%C3%B3n%20y%20Metaheur%C3%ADsticas%20II/Evolutionary%20Computing/Genetic%20Algorithms/WorkForceScheduler/Scheduler.ipynb#W0sZmlsZQ%3D%3D?line=0'>1</a>\u001b[0m \u001b[39mfrom\u001b[39;00m \u001b[39mgenetic_algorithm\u001b[39;00m \u001b[39mimport\u001b[39;00m geneticAlgorithm\n",
      "\u001b[1;31mImportError\u001b[0m: cannot import name 'geneticAlgorithm' from 'genetic_algorithm' (c:\\Users\\lalor\\Documents\\Git\\School\\Optimización y Metaheurísticas II\\Evolutionary Computing\\Genetic Algorithms\\WorkForceScheduler\\genetic_algorithm.py)"
     ]
    }
   ],
   "source": [
    "from genetic_algorithm import genetic_algorithm"
   ]
  }
 ],
 "metadata": {
  "kernelspec": {
   "display_name": "Python 3.10.4 64-bit",
   "language": "python",
   "name": "python3"
  },
  "language_info": {
   "codemirror_mode": {
    "name": "ipython",
    "version": 3
   },
   "file_extension": ".py",
   "mimetype": "text/x-python",
   "name": "python",
   "nbconvert_exporter": "python",
   "pygments_lexer": "ipython3",
   "version": "3.10.4"
  },
  "orig_nbformat": 4,
  "vscode": {
   "interpreter": {
    "hash": "26de051ba29f2982a8de78e945f0abaf191376122a1563185a90213a26c5da77"
   }
  }
 },
 "nbformat": 4,
 "nbformat_minor": 2
}
