{
 "cells": [
  {
   "cell_type": "markdown",
   "metadata": {},
   "source": [
    "# Workforce Scheduler\n",
    "\n",
    "### Authors\n",
    "\n",
    "Sara Carolina Gomez Delgado\n",
    "\n",
    "Luis Eduardo Robles Jimenez"
   ]
  },
  {
   "cell_type": "code",
   "execution_count": 1,
   "metadata": {},
   "outputs": [],
   "source": [
    "from data import * \n",
    "from genetic_algorithm import genetic_algorithm\n",
    "import matplotlib.pyplot as plt\n",
    "import numpy as np"
   ]
  },
  {
   "cell_type": "code",
   "execution_count": 2,
   "metadata": {},
   "outputs": [],
   "source": [
    "def graph(points, lbl = None):\n",
    "    if lbl is None: plt.scatter(np.arange(len(points)), points)\n",
    "    else:\n",
    "        plt.scatter(np.arange(len(points)), points, label = lbl)\n",
    "        plt.legend()"
   ]
  },
  {
   "cell_type": "code",
   "execution_count": 3,
   "metadata": {},
   "outputs": [],
   "source": [
    "def printSchedule(solution):\n",
    "    print(\"Nombre\", \"LUN\", \"MAR\", \"MIER\", \"JUE\", \"VIE\", \"SAB\", \"DOM\", sep = \"\\t\")\n",
    "    for i, p in enumerate(solution):\n",
    "        print(people[i][:6], end = '\\t')\n",
    "        for j, d in enumerate(p):\n",
    "            print(codigos[d], end = '\\t')\n",
    "        print(areas[i][0], end = '\\t')\n",
    "        if len(areas[i]) > 1: print(areas[i][1], end = \"\")\n",
    "        print()"
   ]
  },
  {
   "cell_type": "code",
   "execution_count": 4,
   "metadata": {},
   "outputs": [],
   "source": [
    "popSize = 50\n",
    "\n",
    "descanso = np.where(breaks == \"Descansa\")[0]\n",
    "manana = np.where(breaks == \"Mañana\")[0]\n",
    "tarde = np.where(breaks == \"Tarde\")[0]\n",
    "comida = np.where(breaks == \"Comida\")[0]"
   ]
  },
  {
   "cell_type": "code",
   "execution_count": 5,
   "metadata": {},
   "outputs": [
    {
     "data": {
      "text/plain": [
       "(50, 18, 7)"
      ]
     },
     "execution_count": 5,
     "metadata": {},
     "output_type": "execute_result"
    }
   ],
   "source": [
    "pop = [[comida, descanso, manana, comida, comida, comida, descanso] if p in domingos else [descanso, manana if np.random.random() <= 0.5 else tarde, comida, comida, comida, comida, comida] for p in people]\n",
    "initial_population = [np.copy(pop) for i in range(popSize)]\n",
    "initial_population = np.array(initial_population).reshape((popSize, len(people), 7))\n",
    "initial_population.shape"
   ]
  },
  {
   "cell_type": "code",
   "execution_count": 6,
   "metadata": {},
   "outputs": [
    {
     "data": {
      "text/plain": [
       "{'solution': array([[0, 0, 3, 0, 0, 1, 0],\n",
       "        [0, 3, 0, 1, 0, 0, 0],\n",
       "        [3, 0, 0, 0, 1, 0, 0],\n",
       "        [2, 0, 1, 0, 0, 0, 0],\n",
       "        [0, 0, 2, 0, 1, 0, 0],\n",
       "        [0, 0, 3, 0, 1, 0, 0],\n",
       "        [0, 1, 0, 0, 3, 0, 0],\n",
       "        [0, 0, 0, 2, 0, 1, 1],\n",
       "        [1, 0, 0, 0, 2, 0, 1],\n",
       "        [1, 0, 0, 2, 0, 0, 0],\n",
       "        [0, 1, 0, 3, 0, 0, 0],\n",
       "        [1, 0, 3, 0, 0, 0, 0],\n",
       "        [0, 3, 0, 0, 0, 1, 0],\n",
       "        [0, 1, 0, 0, 0, 2, 0],\n",
       "        [2, 0, 0, 0, 0, 1, 1],\n",
       "        [1, 0, 0, 0, 2, 0, 0],\n",
       "        [0, 0, 0, 2, 1, 0, 1],\n",
       "        [0, 0, 0, 0, 2, 1, 0]], dtype=int64),\n",
       " 'fitness': 16,\n",
       " 'callsToFunction': 5050,\n",
       " 'bestTracker': [-16,\n",
       "  -16,\n",
       "  -16,\n",
       "  -16,\n",
       "  -16,\n",
       "  -14,\n",
       "  -6,\n",
       "  -5,\n",
       "  -5,\n",
       "  -5,\n",
       "  -5,\n",
       "  -5,\n",
       "  -5,\n",
       "  -5,\n",
       "  -4,\n",
       "  3,\n",
       "  3,\n",
       "  4,\n",
       "  4,\n",
       "  5,\n",
       "  13,\n",
       "  13,\n",
       "  13,\n",
       "  13,\n",
       "  13,\n",
       "  13,\n",
       "  13,\n",
       "  13,\n",
       "  13,\n",
       "  13,\n",
       "  13,\n",
       "  13,\n",
       "  13,\n",
       "  13,\n",
       "  13,\n",
       "  13,\n",
       "  13,\n",
       "  13,\n",
       "  13,\n",
       "  13,\n",
       "  13,\n",
       "  14,\n",
       "  14,\n",
       "  14,\n",
       "  14,\n",
       "  14,\n",
       "  14,\n",
       "  14,\n",
       "  14,\n",
       "  14,\n",
       "  14,\n",
       "  14,\n",
       "  14,\n",
       "  14,\n",
       "  14,\n",
       "  14,\n",
       "  14,\n",
       "  14,\n",
       "  14,\n",
       "  14,\n",
       "  14,\n",
       "  14,\n",
       "  14,\n",
       "  14,\n",
       "  14,\n",
       "  14,\n",
       "  14,\n",
       "  14,\n",
       "  14,\n",
       "  14,\n",
       "  15,\n",
       "  15,\n",
       "  15,\n",
       "  15,\n",
       "  15,\n",
       "  15,\n",
       "  15,\n",
       "  15,\n",
       "  15,\n",
       "  15,\n",
       "  15,\n",
       "  15,\n",
       "  15,\n",
       "  15,\n",
       "  15,\n",
       "  16,\n",
       "  16,\n",
       "  16,\n",
       "  16,\n",
       "  16,\n",
       "  16,\n",
       "  16,\n",
       "  16,\n",
       "  16,\n",
       "  16,\n",
       "  16,\n",
       "  16,\n",
       "  16,\n",
       "  16]}"
      ]
     },
     "execution_count": 6,
     "metadata": {},
     "output_type": "execute_result"
    }
   ],
   "source": [
    "r = genetic_algorithm(rules, (breaks, areas, inventario, people, domingos), popSize, 100, pRep = 0.5, pMut = 0.5, dim = (len(people), 7, 0, len(breaks)), init = initial_population, debug = False)\n",
    "r"
   ]
  },
  {
   "cell_type": "code",
   "execution_count": 7,
   "metadata": {},
   "outputs": [
    {
     "name": "stdout",
     "output_type": "stream",
     "text": [
      "[[0 0 3 0 0 1 0]\n",
      " [0 3 0 1 0 0 0]\n",
      " [3 0 0 0 1 0 0]\n",
      " [2 0 1 0 0 0 0]\n",
      " [0 0 2 0 1 0 0]\n",
      " [0 0 3 0 1 0 0]\n",
      " [0 1 0 0 3 0 0]\n",
      " [0 0 0 2 0 1 1]\n",
      " [1 0 0 0 2 0 1]\n",
      " [1 0 0 2 0 0 0]\n",
      " [0 1 0 3 0 0 0]\n",
      " [1 0 3 0 0 0 0]\n",
      " [0 3 0 0 0 1 0]\n",
      " [0 1 0 0 0 2 0]\n",
      " [2 0 0 0 0 1 1]\n",
      " [1 0 0 0 2 0 0]\n",
      " [0 0 0 2 1 0 1]\n",
      " [0 0 0 0 2 1 0]]\n",
      "Fitness: 16\n",
      "0 errors.\n",
      "\n"
     ]
    }
   ],
   "source": [
    "a = rules(r['solution'], breaks, areas, inventario, people, domingos, True)\n",
    "print(\"Fitness: {}\".format(a[0]))\n",
    "print(\"{} errors.\".format(len(a[1])))\n",
    "print(*a[1][:10], sep = '\\n')"
   ]
  },
  {
   "cell_type": "code",
   "execution_count": 8,
   "metadata": {},
   "outputs": [
    {
     "name": "stdout",
     "output_type": "stream",
     "text": [
      "Nombre\tLUN\tMAR\tMIER\tJUE\tVIE\tSAB\tDOM\n",
      "Samant\tC\tC\tT\tC\tC\tD\tC\tDamas\tLenceria\n",
      "Luz\tC\tT\tC\tD\tC\tC\tC\tDamas\tNinas\n",
      "Laura\tT\tC\tC\tC\tD\tC\tC\tDamas\tModa joven\n",
      "Maira\tM\tC\tD\tC\tC\tC\tC\tDamas\tDama madura\n",
      "Gloria\tC\tC\tM\tC\tD\tC\tC\tZapateria\tZapateria damas\n",
      "Fernan\tC\tC\tT\tC\tD\tC\tC\tZapateria\tZapato deportivo\n",
      "Mariso\tC\tD\tC\tC\tT\tC\tC\tCaballeros\tBebes\n",
      "Susy\tC\tC\tC\tM\tC\tD\tD\tZapateria\tZapato caballero\n",
      "Diana\tD\tC\tC\tC\tM\tC\tD\tJugueteria\t\n",
      "Brayan\tD\tC\tC\tM\tC\tC\tC\tPerfumeria\t\n",
      "Nallel\tC\tD\tC\tT\tC\tC\tC\tCajas ropa\t\n",
      "Marlet\tD\tC\tT\tC\tC\tC\tC\tCajas ropa\t\n",
      "Lucia\tC\tT\tC\tC\tC\tD\tC\tCaballeros\t\n",
      "Fabian\tC\tD\tC\tC\tC\tM\tC\tCaballeros\t\n",
      "Albert\tM\tC\tC\tC\tC\tD\tD\tZapateria\tZapato caballero\n",
      "Elena\tD\tC\tC\tC\tM\tC\tC\tPaqueteria\t\n",
      "Nancy\tC\tC\tC\tM\tD\tC\tD\tCaballeros\tNinos\n",
      "Andrea\tC\tC\tC\tC\tM\tD\tC\tCaballeros\tBebes\n"
     ]
    }
   ],
   "source": [
    "printSchedule(r['solution'])"
   ]
  },
  {
   "cell_type": "code",
   "execution_count": 9,
   "metadata": {},
   "outputs": [],
   "source": [
    "entreSemana = ['2', '4', '6', 'E2']\n",
    "sabado = ['1', '2', '3', '4', '5']\n",
    "domingo = ['11:30', '12', '12:30']"
   ]
  },
  {
   "cell_type": "code",
   "execution_count": 10,
   "metadata": {},
   "outputs": [],
   "source": [
    "solution = r['solution']\n",
    "solution = solution.astype(str)\n",
    "for d in range(solution.shape[1]):\n",
    "    area = dict() # Stores by area the day that is the most empty, so the greater it is, the more spread will people be\n",
    "    for h in range(solution.shape[0]):\n",
    "        if not areas[h][0] in area:\n",
    "            area[areas[h][0]] = [0, 0, 0]\n",
    "        if solution[h, d].astype(int) == comida:\n",
    "            if d in range(5):\n",
    "                solution[h, d] = entreSemana[area[areas[h][0]][0] % len(entreSemana)]\n",
    "                area[areas[h][0]][0] += 1\n",
    "            if d == 5:\n",
    "                solution[h, d] = sabado[area[areas[h][0]][1] % len(sabado)]\n",
    "                area[areas[h][0]][1] += 1\n",
    "            if d == 6:\n",
    "                solution[h, d] = domingo[area[areas[h][0]][2] % len(domingo)]\n",
    "                area[areas[h][0]][2] += 1\n",
    "        else: solution[h, d] = codigos[solution[h, d].astype(int)]"
   ]
  },
  {
   "cell_type": "code",
   "execution_count": 11,
   "metadata": {},
   "outputs": [
    {
     "name": "stdout",
     "output_type": "stream",
     "text": [
      "Nombre\tLUN\tMAR\tMIER\tJUE\tVIE\tSAB\tDOM\n",
      "Samant\t2\t2\tT\t2\t2\tD\t11:30\tDamas\tLenceria\n",
      "Luz\t4\tT\t2\tD\t4\t1\t12\tDamas\tNinas\n",
      "Laura\tT\t4\t4\t4\tD\t2\t12:30\tDamas\tModa joven\n",
      "Maira\tM\t6\tD\t6\t6\t3\t11:30\tDamas\tDama madura\n",
      "Gloria\t2\t2\tM\t2\tD\t1\t11:30\tZapateria\tZapateria damas\n",
      "Fernan\t4\t4\tT\t4\tD\t2\t12\tZapateria\tZapato deportivo\n",
      "Mariso\t2\tD\t2\t2\tT\t1\t11:30\tCaballeros\tBebes\n",
      "Susy\t6\t6\t2\tM\t2\tD\tD\tZapateria\tZapato caballero\n",
      "Diana\tD\t2\t2\t2\tM\t1\tD\tJugueteria\t\n",
      "Brayan\tD\t2\t2\tM\t2\t1\t11:30\tPerfumeria\t\n",
      "Nallel\t2\tD\t2\tT\t2\t1\t11:30\tCajas ropa\t\n",
      "Marlet\tD\t2\tT\t2\t4\t2\t12\tCajas ropa\t\n",
      "Lucia\t4\tT\t4\t4\t2\tD\t12\tCaballeros\t\n",
      "Fabian\t6\tD\t6\t6\t4\tM\t12:30\tCaballeros\t\n",
      "Albert\tM\tE2\t4\t6\t4\tD\tD\tZapateria\tZapato caballero\n",
      "Elena\tD\t2\t2\t2\tM\t1\t11:30\tPaqueteria\t\n",
      "Nancy\tE2\t2\tE2\tM\tD\t2\tD\tCaballeros\tNinos\n",
      "Andrea\t2\t4\t2\tE2\tM\tD\t11:30\tCaballeros\tBebes\n"
     ]
    }
   ],
   "source": [
    "print(\"Nombre\", \"LUN\", \"MAR\", \"MIER\", \"JUE\", \"VIE\", \"SAB\", \"DOM\", sep = \"\\t\")\n",
    "for i, p in enumerate(solution):\n",
    "    print(people[i][:6], end = '\\t')\n",
    "    for d in p:\n",
    "        print(d, end = '\\t')\n",
    "    print(areas[i][0], end = '\\t')\n",
    "    if len(areas[i]) > 1: print(areas[i][1], end = \"\")\n",
    "    print()"
   ]
  },
  {
   "cell_type": "code",
   "execution_count": 12,
   "metadata": {},
   "outputs": [
    {
     "name": "stdout",
     "output_type": "stream",
     "text": [
      "(pR = 0.25, pM = 0.25)\t->\t16.8\n"
     ]
    },
    {
     "ename": "KeyboardInterrupt",
     "evalue": "",
     "output_type": "error",
     "traceback": [
      "\u001b[1;31m---------------------------------------------------------------------------\u001b[0m",
      "\u001b[1;31mKeyboardInterrupt\u001b[0m                         Traceback (most recent call last)",
      "\u001b[1;32mc:\\Users\\lalor\\Documents\\Git\\School\\Optimización y Metaheurísticas II\\Evolutionary Computing\\Genetic Algorithms\\WorkforceScheduler\\Scheduler.ipynb Cell 13\u001b[0m in \u001b[0;36m<cell line: 1>\u001b[1;34m()\u001b[0m\n\u001b[0;32m      <a href='vscode-notebook-cell:/c%3A/Users/lalor/Documents/Git/School/Optimizaci%C3%B3n%20y%20Metaheur%C3%ADsticas%20II/Evolutionary%20Computing/Genetic%20Algorithms/WorkforceScheduler/Scheduler.ipynb#X22sZmlsZQ%3D%3D?line=3'>4</a>\u001b[0m tracker, best \u001b[39m=\u001b[39m [], \u001b[39m-\u001b[39m\u001b[39m1e10\u001b[39m\n\u001b[0;32m      <a href='vscode-notebook-cell:/c%3A/Users/lalor/Documents/Git/School/Optimizaci%C3%B3n%20y%20Metaheur%C3%ADsticas%20II/Evolutionary%20Computing/Genetic%20Algorithms/WorkforceScheduler/Scheduler.ipynb#X22sZmlsZQ%3D%3D?line=4'>5</a>\u001b[0m \u001b[39mfor\u001b[39;00m i \u001b[39min\u001b[39;00m \u001b[39mrange\u001b[39m(\u001b[39miter\u001b[39m):\n\u001b[1;32m----> <a href='vscode-notebook-cell:/c%3A/Users/lalor/Documents/Git/School/Optimizaci%C3%B3n%20y%20Metaheur%C3%ADsticas%20II/Evolutionary%20Computing/Genetic%20Algorithms/WorkforceScheduler/Scheduler.ipynb#X22sZmlsZQ%3D%3D?line=5'>6</a>\u001b[0m     r \u001b[39m=\u001b[39m genetic_algorithm(rules, (breaks, areas, inventario, people, domingos), popSize, \u001b[39m100\u001b[39;49m, pRep \u001b[39m=\u001b[39;49m pR, pMut \u001b[39m=\u001b[39;49m pM, dim \u001b[39m=\u001b[39;49m (\u001b[39mlen\u001b[39;49m(people), \u001b[39m7\u001b[39;49m, \u001b[39m0\u001b[39;49m, \u001b[39mlen\u001b[39;49m(breaks)), init \u001b[39m=\u001b[39;49m initial_population, debug \u001b[39m=\u001b[39;49m \u001b[39mFalse\u001b[39;49;00m)\n\u001b[0;32m      <a href='vscode-notebook-cell:/c%3A/Users/lalor/Documents/Git/School/Optimizaci%C3%B3n%20y%20Metaheur%C3%ADsticas%20II/Evolutionary%20Computing/Genetic%20Algorithms/WorkforceScheduler/Scheduler.ipynb#X22sZmlsZQ%3D%3D?line=6'>7</a>\u001b[0m     s \u001b[39m+\u001b[39m\u001b[39m=\u001b[39m r[\u001b[39m'\u001b[39m\u001b[39mfitness\u001b[39m\u001b[39m'\u001b[39m]\n\u001b[0;32m      <a href='vscode-notebook-cell:/c%3A/Users/lalor/Documents/Git/School/Optimizaci%C3%B3n%20y%20Metaheur%C3%ADsticas%20II/Evolutionary%20Computing/Genetic%20Algorithms/WorkforceScheduler/Scheduler.ipynb#X22sZmlsZQ%3D%3D?line=7'>8</a>\u001b[0m     \u001b[39mif\u001b[39;00m \u001b[39mnot\u001b[39;00m i \u001b[39mor\u001b[39;00m s \u001b[39m>\u001b[39m best:\n",
      "File \u001b[1;32mc:\\Users\\lalor\\Documents\\Git\\School\\Optimización y Metaheurísticas II\\Evolutionary Computing\\Genetic Algorithms\\WorkforceScheduler\\genetic_algorithm.py:121\u001b[0m, in \u001b[0;36mgenetic_algorithm\u001b[1;34m(fitness, args, popSize, nGen, pRep, pMut, dim, init, debug)\u001b[0m\n\u001b[0;32m    119\u001b[0m \u001b[39mdef\u001b[39;00m \u001b[39mgenetic_algorithm\u001b[39m(fitness, args \u001b[39m=\u001b[39m (), popSize \u001b[39m=\u001b[39m \u001b[39m10\u001b[39m, nGen \u001b[39m=\u001b[39m \u001b[39m10\u001b[39m, pRep \u001b[39m=\u001b[39m \u001b[39m0.5\u001b[39m, pMut \u001b[39m=\u001b[39m \u001b[39m0.5\u001b[39m, dim \u001b[39m=\u001b[39m (\u001b[39m5\u001b[39m, \u001b[39m5\u001b[39m, \u001b[39m0\u001b[39m, \u001b[39m5\u001b[39m), init \u001b[39m=\u001b[39m \u001b[39mNone\u001b[39;00m, debug \u001b[39m=\u001b[39m \u001b[39mFalse\u001b[39;00m):\n\u001b[0;32m    120\u001b[0m     gA \u001b[39m=\u001b[39m GeneticAlgorithm(fitness, args, popSize, nGen, pRep, pMut, dim, init, debug)\n\u001b[1;32m--> 121\u001b[0m     \u001b[39mreturn\u001b[39;00m gA\u001b[39m.\u001b[39;49msolve()\n",
      "File \u001b[1;32mc:\\Users\\lalor\\Documents\\Git\\School\\Optimización y Metaheurísticas II\\Evolutionary Computing\\Genetic Algorithms\\WorkforceScheduler\\genetic_algorithm.py:87\u001b[0m, in \u001b[0;36mGeneticAlgorithm.solve\u001b[1;34m(self)\u001b[0m\n\u001b[0;32m     86\u001b[0m \u001b[39mdef\u001b[39;00m \u001b[39msolve\u001b[39m(\u001b[39mself\u001b[39m):\n\u001b[1;32m---> 87\u001b[0m     r \u001b[39m=\u001b[39m \u001b[39mself\u001b[39;49m\u001b[39m.\u001b[39;49m_solve()\n\u001b[0;32m     88\u001b[0m     \u001b[39massert\u001b[39;00m \u001b[39misinstance\u001b[39m(r, \u001b[39mdict\u001b[39m), \u001b[39m'\u001b[39m\u001b[39mr is not dict\u001b[39m\u001b[39m'\u001b[39m\n\u001b[0;32m     89\u001b[0m     \u001b[39mreturn\u001b[39;00m r\n",
      "File \u001b[1;32mc:\\Users\\lalor\\Documents\\Git\\School\\Optimización y Metaheurísticas II\\Evolutionary Computing\\Genetic Algorithms\\WorkforceScheduler\\genetic_algorithm.py:102\u001b[0m, in \u001b[0;36mGeneticAlgorithm._solve\u001b[1;34m(self)\u001b[0m\n\u001b[0;32m    100\u001b[0m \u001b[39mfor\u001b[39;00m c \u001b[39min\u001b[39;00m \u001b[39mrange\u001b[39m(\u001b[39mself\u001b[39m\u001b[39m.\u001b[39mpopSize):\n\u001b[0;32m    101\u001b[0m     parents \u001b[39m=\u001b[39m \u001b[39mself\u001b[39m\u001b[39m.\u001b[39mrouletteSelection()\n\u001b[1;32m--> 102\u001b[0m     child \u001b[39m=\u001b[39m \u001b[39mself\u001b[39;49m\u001b[39m.\u001b[39;49mcrossover(\u001b[39m*\u001b[39;49m\u001b[39mself\u001b[39;49m\u001b[39m.\u001b[39;49mpopulation[parents])\n\u001b[0;32m    103\u001b[0m     child \u001b[39m=\u001b[39m \u001b[39mself\u001b[39m\u001b[39m.\u001b[39mmutation(child)\n\u001b[0;32m    104\u001b[0m     newPopulation[c] \u001b[39m=\u001b[39m np\u001b[39m.\u001b[39mcopy(child)\n",
      "File \u001b[1;32mc:\\Users\\lalor\\Documents\\Git\\School\\Optimización y Metaheurísticas II\\Evolutionary Computing\\Genetic Algorithms\\WorkforceScheduler\\genetic_algorithm.py:61\u001b[0m, in \u001b[0;36mGeneticAlgorithm.crossover\u001b[1;34m(self, parentOne, parentTwo)\u001b[0m\n\u001b[0;32m     59\u001b[0m \u001b[39massert\u001b[39;00m parentOne\u001b[39m.\u001b[39mshape \u001b[39m==\u001b[39m (\u001b[39mself\u001b[39m\u001b[39m.\u001b[39mheight, \u001b[39mself\u001b[39m\u001b[39m.\u001b[39mwidth), \u001b[39m\"\u001b[39m\u001b[39mparentOne doesn\u001b[39m\u001b[39m'\u001b[39m\u001b[39mt have the expected shape\u001b[39m\u001b[39m\"\u001b[39m\n\u001b[0;32m     60\u001b[0m \u001b[39massert\u001b[39;00m parentTwo\u001b[39m.\u001b[39mshape \u001b[39m==\u001b[39m (\u001b[39mself\u001b[39m\u001b[39m.\u001b[39mheight, \u001b[39mself\u001b[39m\u001b[39m.\u001b[39mwidth), \u001b[39m\"\u001b[39m\u001b[39mparentTwo doesn\u001b[39m\u001b[39m'\u001b[39m\u001b[39mt have the expected shape\u001b[39m\u001b[39m\"\u001b[39m\n\u001b[1;32m---> 61\u001b[0m r \u001b[39m=\u001b[39m \u001b[39mself\u001b[39;49m\u001b[39m.\u001b[39;49m_crossover(parentOne, parentTwo)\n\u001b[0;32m     62\u001b[0m \u001b[39massert\u001b[39;00m r\u001b[39m.\u001b[39mshape \u001b[39m==\u001b[39m (\u001b[39mself\u001b[39m\u001b[39m.\u001b[39mheight, \u001b[39mself\u001b[39m\u001b[39m.\u001b[39mwidth), \u001b[39m\"\u001b[39m\u001b[39mr doesn\u001b[39m\u001b[39m'\u001b[39m\u001b[39mt have the expected shape\u001b[39m\u001b[39m\"\u001b[39m\n\u001b[0;32m     63\u001b[0m \u001b[39mreturn\u001b[39;00m r\n",
      "File \u001b[1;32mc:\\Users\\lalor\\Documents\\Git\\School\\Optimización y Metaheurísticas II\\Evolutionary Computing\\Genetic Algorithms\\WorkforceScheduler\\genetic_algorithm.py:65\u001b[0m, in \u001b[0;36mGeneticAlgorithm._crossover\u001b[1;34m(self, parentOne, parentTwo)\u001b[0m\n\u001b[0;32m     64\u001b[0m \u001b[39mdef\u001b[39;00m \u001b[39m_crossover\u001b[39m(\u001b[39mself\u001b[39m, parentOne, parentTwo):\n\u001b[1;32m---> 65\u001b[0m     child \u001b[39m=\u001b[39m np\u001b[39m.\u001b[39;49mcopy(parentOne)\n\u001b[0;32m     66\u001b[0m     \u001b[39mif\u001b[39;00m np\u001b[39m.\u001b[39mrandom\u001b[39m.\u001b[39mrandom() \u001b[39m<\u001b[39m \u001b[39mself\u001b[39m\u001b[39m.\u001b[39mpRep:\n\u001b[0;32m     67\u001b[0m         numberOfRows \u001b[39m=\u001b[39m np\u001b[39m.\u001b[39mrandom\u001b[39m.\u001b[39mrandint(\u001b[39m1\u001b[39m, \u001b[39mself\u001b[39m\u001b[39m.\u001b[39mheight)\n",
      "File \u001b[1;32m<__array_function__ internals>:180\u001b[0m, in \u001b[0;36mcopy\u001b[1;34m(*args, **kwargs)\u001b[0m\n",
      "File \u001b[1;32m~\\AppData\\Roaming\\Python\\Python310\\site-packages\\numpy\\lib\\function_base.py:959\u001b[0m, in \u001b[0;36mcopy\u001b[1;34m(a, order, subok)\u001b[0m\n\u001b[0;32m    870\u001b[0m \u001b[39m@array_function_dispatch\u001b[39m(_copy_dispatcher)\n\u001b[0;32m    871\u001b[0m \u001b[39mdef\u001b[39;00m \u001b[39mcopy\u001b[39m(a, order\u001b[39m=\u001b[39m\u001b[39m'\u001b[39m\u001b[39mK\u001b[39m\u001b[39m'\u001b[39m, subok\u001b[39m=\u001b[39m\u001b[39mFalse\u001b[39;00m):\n\u001b[0;32m    872\u001b[0m     \u001b[39m\"\"\"\u001b[39;00m\n\u001b[0;32m    873\u001b[0m \u001b[39m    Return an array copy of the given object.\u001b[39;00m\n\u001b[0;32m    874\u001b[0m \n\u001b[1;32m   (...)\u001b[0m\n\u001b[0;32m    957\u001b[0m \n\u001b[0;32m    958\u001b[0m \u001b[39m    \"\"\"\u001b[39;00m\n\u001b[1;32m--> 959\u001b[0m     \u001b[39mreturn\u001b[39;00m array(a, order\u001b[39m=\u001b[39;49morder, subok\u001b[39m=\u001b[39;49msubok, copy\u001b[39m=\u001b[39;49m\u001b[39mTrue\u001b[39;49;00m)\n",
      "\u001b[1;31mKeyboardInterrupt\u001b[0m: "
     ]
    },
    {
     "data": {
      "image/png": "[encoded data removed]",
      "text/plain": [
       "<Figure size 640x480 with 1 Axes>"
      ]
     },
     "metadata": {},
     "output_type": "display_data"
    }
   ],
   "source": [
    "for pR in np.arange(0.25, 1, 0.25):\n",
    "    for pM in np.arange(0.25, 1, 0.25):\n",
    "        s, iter = 0, 10\n",
    "        tracker, best = [], -1e10\n",
    "        for i in range(iter):\n",
    "            r = genetic_algorithm(rules, (breaks, areas, inventario, people, domingos), popSize, 100, pRep = pR, pMut = pM, dim = (len(people), 7, 0, len(breaks)), init = initial_population, debug = False)\n",
    "            s += r['fitness']\n",
    "            if not i or s > best:\n",
    "                best = s\n",
    "                tracker = r['bestTracker']\n",
    "        graph(tracker)\n",
    "        print(\"(pR = {}, pM = {})\\t->\\t{}\".format(pR, pM, s/iter))"
   ]
  }
 ],
 "metadata": {
  "kernelspec": {
   "display_name": "Python 3.10.4 64-bit",
   "language": "python",
   "name": "python3"
  },
  "language_info": {
   "codemirror_mode": {
    "name": "ipython",
    "version": 3
   },
   "file_extension": ".py",
   "mimetype": "text/x-python",
   "name": "python",
   "nbconvert_exporter": "python",
   "pygments_lexer": "ipython3",
   "version": "3.10.4"
  },
  "orig_nbformat": 4,
  "vscode": {
   "interpreter": {
    "hash": "26de051ba29f2982a8de78e945f0abaf191376122a1563185a90213a26c5da77"
   }
  }
 },
 "nbformat": 4,
 "nbformat_minor": 2
}
