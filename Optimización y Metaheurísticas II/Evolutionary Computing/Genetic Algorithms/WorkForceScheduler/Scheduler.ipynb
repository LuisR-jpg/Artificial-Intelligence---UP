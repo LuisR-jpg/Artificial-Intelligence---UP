{
 "cells": [
  {
   "cell_type": "markdown",
   "metadata": {},
   "source": [
    "# Workforce Scheduler\n",
    "\n",
    "### Authors\n",
    "\n",
    "Sara Carolina Gomez Delgado\n",
    "\n",
    "Luis Eduardo Robles Jimenez"
   ]
  },
  {
   "cell_type": "code",
   "execution_count": 1,
   "metadata": {},
   "outputs": [],
   "source": [
    "from data import * \n",
    "from genetic_algorithm import genetic_algorithm"
   ]
  },
  {
   "cell_type": "code",
   "execution_count": 2,
   "metadata": {},
   "outputs": [
    {
     "name": "stdout",
     "output_type": "stream",
     "text": [
      "-10000000000.0\n",
      "-184170.0\n",
      "-144187.0\n",
      "-111177.0\n",
      "-111177.0\n",
      "-79213.0\n",
      "-79213.0\n",
      "-79213.0\n",
      "-79213.0\n",
      "-79213.0\n",
      "-79213.0\n",
      "-79213.0\n",
      "-79213.0\n",
      "-68192.0\n",
      "-68192.0\n",
      "-68192.0\n",
      "-68192.0\n",
      "-68192.0\n",
      "-68192.0\n",
      "-68189.0\n",
      "-68189.0\n",
      "-68189.0\n",
      "-68189.0\n",
      "-68189.0\n",
      "-68189.0\n",
      "-68189.0\n",
      "-68189.0\n",
      "-68189.0\n",
      "-68189.0\n",
      "-68189.0\n",
      "-68189.0\n",
      "-68189.0\n",
      "-68189.0\n",
      "-68189.0\n",
      "-68189.0\n",
      "-68189.0\n",
      "-68189.0\n",
      "-68189.0\n",
      "-68189.0\n",
      "-68189.0\n",
      "-68189.0\n",
      "-68189.0\n",
      "-68189.0\n",
      "-68189.0\n",
      "-68189.0\n",
      "-68189.0\n",
      "-68189.0\n",
      "-68189.0\n",
      "-68187.0\n",
      "-68187.0\n"
     ]
    },
    {
     "data": {
      "text/plain": [
       "{'solution': array([[2, 6, 0, 1, 2, 2, 4],\n",
       "        [0, 0, 6, 2, 4, 2, 2],\n",
       "        [2, 0, 4, 1, 6, 1, 0],\n",
       "        [2, 6, 0, 1, 2, 2, 4],\n",
       "        [2, 6, 0, 1, 2, 2, 4],\n",
       "        [0, 0, 6, 2, 4, 2, 2],\n",
       "        [6, 4, 0, 1, 1, 2, 0],\n",
       "        [0, 0, 6, 2, 4, 2, 2],\n",
       "        [6, 4, 0, 1, 1, 2, 0],\n",
       "        [0, 0, 6, 2, 4, 2, 2],\n",
       "        [0, 0, 6, 2, 4, 2, 2],\n",
       "        [2, 6, 0, 1, 2, 2, 4],\n",
       "        [0, 0, 6, 2, 4, 2, 2],\n",
       "        [0, 3, 0, 0, 3, 4, 5],\n",
       "        [2, 6, 0, 1, 2, 2, 4],\n",
       "        [0, 0, 6, 2, 4, 2, 2],\n",
       "        [2, 6, 0, 1, 2, 2, 4],\n",
       "        [0, 0, 6, 2, 4, 2, 2],\n",
       "        [2, 6, 0, 1, 2, 2, 4],\n",
       "        [2, 2, 0, 0, 6, 1, 4]]),\n",
       " 'fitness': -68187.0,\n",
       " 'callsToFunction': 125250}"
      ]
     },
     "execution_count": 2,
     "metadata": {},
     "output_type": "execute_result"
    }
   ],
   "source": [
    "r = genetic_algorithm(rules, (breaks, areas, inventario, people), 250, 500, pRep = 0.75, pMut = 0.75, dim = (len(people), 7, 0, len(breaks)))\n",
    "r"
   ]
  },
  {
   "cell_type": "code",
   "execution_count": 3,
   "metadata": {},
   "outputs": [
    {
     "data": {
      "text/plain": [
       "(-68187.0,\n",
       " ['Persona 0 tiene descanso o tarde libre el domingo',\n",
       "  'Samanta necesita los sabados',\n",
       "  'Persona 2 le corresponde domingo y no tiene',\n",
       "  'Sonia tiene vacaciones y trabaja 5 dias',\n",
       "  'Persona 3 tiene descanso o tarde libre el domingo',\n",
       "  'Persona 4 tiene descanso o tarde libre el domingo',\n",
       "  'Maira quiere el miercoles',\n",
       "  'Marisol quiere el martes',\n",
       "  'Persona 8 le corresponde domingo y no tiene',\n",
       "  'Persona 9 le corresponde domingo y no tiene',\n",
       "  'Persona 11 tiene descanso o tarde libre el domingo',\n",
       "  'Marlette necesita lunes',\n",
       "  'Persona 13 trabaja domingo y no entra tarde ningún día',\n",
       "  'Persona 14 tiene descanso o tarde libre el domingo',\n",
       "  'Persona 15 le corresponde domingo y no tiene',\n",
       "  'Persona 16 tiene descanso o tarde libre el domingo',\n",
       "  'Elena descansa los lunes',\n",
       "  'Persona 17 le corresponde domingo y no tiene',\n",
       "  'Persona 18 tiene descanso o tarde libre el domingo',\n",
       "  'Persona 19 tiene descanso o tarde libre el domingo',\n",
       "  'Alma tiene vacaciones y trabaja 6'])"
      ]
     },
     "execution_count": 3,
     "metadata": {},
     "output_type": "execute_result"
    }
   ],
   "source": [
    "rules(r['solution'], breaks, areas, inventario, people, True)"
   ]
  },
  {
   "cell_type": "code",
   "execution_count": 4,
   "metadata": {},
   "outputs": [
    {
     "name": "stdout",
     "output_type": "stream",
     "text": [
      "Samanta\t\t\t4\tT\t12\t2\t4\t4\tD\t\n",
      "Luz\t\t\t12\t12\tT\t4\tD\t4\t4\t\n",
      "Sonia\t\t\t4\t12\tD\t2\tT\t2\t12\t\n",
      "Laura\t\t\t4\tT\t12\t2\t4\t4\tD\t\n",
      "Maira\t\t\t4\tT\t12\t2\t4\t4\tD\t\n",
      "Gloria\t\t\t12\t12\tT\t4\tD\t4\t4\t\n",
      "Fernanda\t\tT\tD\t12\t2\t2\t4\t12\t\n",
      "Marisol\t\t\t12\t12\tT\t4\tD\t4\t4\t\n",
      "Susy\t\t\tT\tD\t12\t2\t2\t4\t12\t\n",
      "Diana\t\t\t12\t12\tT\t4\tD\t4\t4\t\n",
      "Brayan\t\t\t12\t12\tT\t4\tD\t4\t4\t\n",
      "Nallely\t\t\t4\tT\t12\t2\t4\t4\tD\t\n",
      "Marlette\t\t12\t12\tT\t4\tD\t4\t4\t\n",
      "Lucia\t\t\t12\tMD\t12\t12\tMD\tD\tM\t\n",
      "Fabian\t\t\t4\tT\t12\t2\t4\t4\tD\t\n",
      "Alberto\t\t\t12\t12\tT\t4\tD\t4\t4\t\n",
      "Elena\t\t\t4\tT\t12\t2\t4\t4\tD\t\n",
      "Nancy\t\t\t12\t12\tT\t4\tD\t4\t4\t\n",
      "Andrea\t\t\t4\tT\t12\t2\t4\t4\tD\t\n",
      "Alma\t\t\t4\t4\t12\t12\tT\t2\tD\t\n"
     ]
    }
   ],
   "source": [
    "for i, p in enumerate(r['solution']):\n",
    "    print(people[i], end = '\\t\\t')\n",
    "    if people[i] not in [\"Fernanda\", \"Marlette\"]: print(end='\\t')\n",
    "    for j, d in enumerate(p):\n",
    "        if d == 0: print(12, end = \"\\t\")\n",
    "        if d == 1: print(2, end = \"\\t\")\n",
    "        if d == 2: print(4, end = \"\\t\")\n",
    "        if d == 3: print(\"MD\", end = \"\\t\")\n",
    "        if d == 4: print(\"D\", end = \"\\t\")\n",
    "        if d == 5: print(\"M\", end = \"\\t\")\n",
    "        if d == 6: print(\"T\", end = \"\\t\")\n",
    "    print()\n"
   ]
  }
 ],
 "metadata": {
  "kernelspec": {
   "display_name": "Python 3.10.4 64-bit",
   "language": "python",
   "name": "python3"
  },
  "language_info": {
   "codemirror_mode": {
    "name": "ipython",
    "version": 3
   },
   "file_extension": ".py",
   "mimetype": "text/x-python",
   "name": "python",
   "nbconvert_exporter": "python",
   "pygments_lexer": "ipython3",
   "version": "3.10.4"
  },
  "orig_nbformat": 4,
  "vscode": {
   "interpreter": {
    "hash": "26de051ba29f2982a8de78e945f0abaf191376122a1563185a90213a26c5da77"
   }
  }
 },
 "nbformat": 4,
 "nbformat_minor": 2
}
