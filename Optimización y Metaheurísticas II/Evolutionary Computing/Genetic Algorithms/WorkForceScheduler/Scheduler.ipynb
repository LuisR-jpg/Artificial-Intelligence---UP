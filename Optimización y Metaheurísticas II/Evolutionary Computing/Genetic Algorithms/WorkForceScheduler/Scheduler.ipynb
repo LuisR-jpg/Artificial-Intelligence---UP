{
 "cells": [
  {
   "cell_type": "markdown",
   "metadata": {},
   "source": [
    "# Workforce Scheduler\n",
    "\n",
    "### Authors\n",
    "\n",
    "Sara Carolina Gomez Delgado\n",
    "\n",
    "Luis Eduardo Robles Jimenez"
   ]
  },
  {
   "cell_type": "code",
   "execution_count": 1,
   "metadata": {},
   "outputs": [],
   "source": [
    "from data import * \n",
    "from genetic_algorithm import genetic_algorithm"
   ]
  },
  {
   "cell_type": "code",
   "execution_count": 2,
   "metadata": {},
   "outputs": [
    {
     "name": "stdout",
     "output_type": "stream",
     "text": [
      "-10000000000.0\n",
      "-252182.0\n",
      "-237190.0\n",
      "-209185.0\n",
      "-207207.0\n",
      "-207207.0\n",
      "-173203.0\n",
      "-173203.0\n",
      "-158111.0\n",
      "-158111.0\n",
      "-158111.0\n",
      "-153123.0\n",
      "-153123.0\n",
      "-153123.0\n",
      "-153123.0\n",
      "-151135.0\n",
      "-151135.0\n",
      "-151135.0\n",
      "-151135.0\n",
      "-151135.0\n",
      "-151135.0\n",
      "-151135.0\n",
      "-151135.0\n",
      "-151135.0\n",
      "-151135.0\n",
      "-151135.0\n",
      "-151135.0\n",
      "-151135.0\n",
      "-151135.0\n",
      "-151135.0\n",
      "-151135.0\n",
      "-151135.0\n",
      "-151135.0\n",
      "-151135.0\n",
      "-151135.0\n",
      "-151135.0\n",
      "-151135.0\n",
      "-151135.0\n",
      "-151135.0\n",
      "-151135.0\n",
      "-151135.0\n",
      "-151135.0\n",
      "-151135.0\n",
      "-151135.0\n",
      "-151132.0\n",
      "-151132.0\n",
      "-150195.0\n",
      "-150195.0\n",
      "-150195.0\n",
      "-150195.0\n"
     ]
    },
    {
     "data": {
      "text/plain": [
       "{'solution': array([[1, 3, 2, 0, 3, 3, 3],\n",
       "        [3, 3, 0, 2, 2, 1, 3],\n",
       "        [4, 2, 1, 4, 3, 3, 3],\n",
       "        [1, 3, 2, 0, 3, 3, 3],\n",
       "        [0, 0, 0, 0, 1, 2, 3],\n",
       "        [1, 3, 2, 0, 3, 3, 3],\n",
       "        [1, 3, 2, 0, 3, 3, 3],\n",
       "        [0, 1, 0, 2, 0, 0, 3],\n",
       "        [4, 3, 4, 2, 4, 4, 3],\n",
       "        [0, 0, 0, 0, 1, 2, 3],\n",
       "        [4, 2, 1, 4, 3, 3, 3],\n",
       "        [4, 2, 1, 4, 3, 3, 3],\n",
       "        [0, 0, 0, 0, 1, 2, 3],\n",
       "        [0, 0, 0, 0, 1, 2, 3],\n",
       "        [0, 0, 0, 0, 1, 2, 3],\n",
       "        [1, 3, 2, 0, 3, 3, 3],\n",
       "        [0, 0, 0, 0, 1, 2, 3],\n",
       "        [1, 3, 2, 0, 3, 3, 3],\n",
       "        [1, 3, 2, 0, 3, 3, 3],\n",
       "        [4, 2, 1, 4, 3, 3, 3]]),\n",
       " 'fitness': -150195.0,\n",
       " 'callsToFunction': 125250}"
      ]
     },
     "execution_count": 2,
     "metadata": {},
     "output_type": "execute_result"
    }
   ],
   "source": [
    "r = genetic_algorithm(rules, (breaks, areas, inventario, people), 250, 500, pRep = 0.75, pMut = 0.75, dim = (len(people), 7, 0, len(breaks)))\n",
    "r"
   ]
  },
  {
   "cell_type": "code",
   "execution_count": 3,
   "metadata": {},
   "outputs": [
    {
     "data": {
      "text/plain": [
       "(-150195.0,\n",
       " ['Persona 0 no tiene un medio dia',\n",
       "  'Samanta necesita los sabados',\n",
       "  'Persona 1 no tiene un descanso',\n",
       "  'Persona 1 no tiene un medio dia',\n",
       "  'Persona 2 no tiene un medio dia',\n",
       "  'Sonia tiene vacaciones y trabaja 5 dias',\n",
       "  'Persona 3 no tiene un medio dia',\n",
       "  'Persona 5 no tiene un medio dia',\n",
       "  'Persona 6 no tiene un medio dia',\n",
       "  'Marisol quiere el martes',\n",
       "  'Persona 8 no tiene un medio dia',\n",
       "  'Persona 8 trabaja domingo y no entra tarde ningún día',\n",
       "  'Persona 10 no tiene un medio dia',\n",
       "  'Persona 11 no tiene un medio dia',\n",
       "  'Marlette necesita lunes',\n",
       "  'Persona 15 no tiene un medio dia',\n",
       "  'Persona 17 no tiene un medio dia',\n",
       "  'Nancy quiere el viernes',\n",
       "  'Persona 18 no tiene un medio dia',\n",
       "  'Persona 19 no tiene un medio dia',\n",
       "  'Alma tiene vacaciones y trabaja 6'])"
      ]
     },
     "execution_count": 3,
     "metadata": {},
     "output_type": "execute_result"
    }
   ],
   "source": [
    "a = rules(r['solution'], breaks, areas, inventario, people, True)\n",
    "print(a[0])\n",
    "print(\"{} errors.\".format(len(a[1])))\n",
    "print(a[1])"
   ]
  },
  {
   "cell_type": "code",
   "execution_count": 5,
   "metadata": {},
   "outputs": [
    {
     "name": "stdout",
     "output_type": "stream",
     "text": [
      "Saman\t\tM\tM\tD\tC\tM\tM\tM\t\n",
      "Luz\t\tM\tM\tC\tD\tD\tM\tM\t\n",
      "Sonia\t\tT\tD\tM\tT\tM\tM\tM\t\n",
      "Laura\t\tM\tM\tD\tC\tM\tM\tM\t\n",
      "Maira\t\tC\tC\tC\tC\tM\tD\tM\t\n",
      "Glori\t\tM\tM\tD\tC\tM\tM\tM\t\n",
      "Ferna\t\tM\tM\tD\tC\tM\tM\tM\t\n",
      "Maris\t\tC\tM\tC\tD\tC\tC\tM\t\n",
      "Susy\t\tT\tM\tT\tD\tT\tT\tM\t\n",
      "Diana\t\tC\tC\tC\tC\tM\tD\tM\t\n",
      "Braya\t\tT\tD\tM\tT\tM\tM\tM\t\n",
      "Nalle\t\tT\tD\tM\tT\tM\tM\tM\t\n",
      "Marle\t\tC\tC\tC\tC\tM\tD\tM\t\n",
      "Lucia\t\tC\tC\tC\tC\tM\tD\tM\t\n",
      "Fabia\t\tC\tC\tC\tC\tM\tD\tM\t\n",
      "Alber\t\tM\tM\tD\tC\tM\tM\tM\t\n",
      "Elena\t\tC\tC\tC\tC\tM\tD\tM\t\n",
      "Nancy\t\tM\tM\tD\tC\tM\tM\tM\t\n",
      "Andre\t\tM\tM\tD\tC\tM\tM\tM\t\n",
      "Alma\t\tT\tD\tM\tT\tM\tM\tM\t\n"
     ]
    }
   ],
   "source": [
    "for i, p in enumerate(r['solution']):\n",
    "    print(people[i][:5], end = '\\t\\t')\n",
    "    for j, d in enumerate(p):\n",
    "        \"\"\"\n",
    "        if d == 0: print(12, end = \"\\t\")\n",
    "        if d == 1: print(2, end = \"\\t\")\n",
    "        if d == 2: print(4, end = \"\\t\")\n",
    "        if d == 3: print(\"MD\", end = \"\\t\")\n",
    "        if d == 4: print(\"D\", end = \"\\t\")\n",
    "        if d == 5: print(\"M\", end = \"\\t\")\n",
    "        if d == 6: print(\"T\", end = \"\\t\")\n",
    "        \"\"\"\n",
    "        print(codigos[d], end = '\\t')\n",
    "    print()\n"
   ]
  }
 ],
 "metadata": {
  "kernelspec": {
   "display_name": "Python 3.10.4 64-bit",
   "language": "python",
   "name": "python3"
  },
  "language_info": {
   "codemirror_mode": {
    "name": "ipython",
    "version": 3
   },
   "file_extension": ".py",
   "mimetype": "text/x-python",
   "name": "python",
   "nbconvert_exporter": "python",
   "pygments_lexer": "ipython3",
   "version": "3.10.4"
  },
  "orig_nbformat": 4,
  "vscode": {
   "interpreter": {
    "hash": "26de051ba29f2982a8de78e945f0abaf191376122a1563185a90213a26c5da77"
   }
  }
 },
 "nbformat": 4,
 "nbformat_minor": 2
}
