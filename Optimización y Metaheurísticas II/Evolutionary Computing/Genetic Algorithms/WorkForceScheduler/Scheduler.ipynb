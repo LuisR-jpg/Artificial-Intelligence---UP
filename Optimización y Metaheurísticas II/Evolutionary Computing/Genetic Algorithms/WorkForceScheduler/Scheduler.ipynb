{
 "cells": [
  {
   "cell_type": "markdown",
   "metadata": {},
   "source": [
    "# Workforce Scheduler\n",
    "\n",
    "### Authors\n",
    "\n",
    "Sara Carolina Gomez Delgado\n",
    "\n",
    "Luis Eduardo Robles Jimenez"
   ]
  },
  {
   "cell_type": "code",
   "execution_count": 1,
   "metadata": {},
   "outputs": [],
   "source": [
    "from data import * \n",
    "from genetic_algorithm import genetic_algorithm\n",
    "import matplotlib.pyplot as plt\n",
    "import numpy as np"
   ]
  },
  {
   "cell_type": "code",
   "execution_count": 2,
   "metadata": {},
   "outputs": [],
   "source": [
    "def graph(points, lbl = None):\n",
    "    if lbl is None: plt.scatter(np.arange(len(points)), points)\n",
    "    else:\n",
    "        plt.scatter(np.arange(len(points)), points, label = lbl)\n",
    "        plt.legend()"
   ]
  },
  {
   "cell_type": "code",
   "execution_count": 3,
   "metadata": {},
   "outputs": [],
   "source": [
    "popSize = 50\n",
    "\n",
    "descanso = np.where(breaks == \"Descansa\")[0]\n",
    "manana = np.where(breaks == \"Mañana\")[0]\n",
    "tarde = np.where(breaks == \"Tarde\")[0]\n",
    "comida = np.where(breaks == \"Comida\")[0]"
   ]
  },
  {
   "cell_type": "code",
   "execution_count": 4,
   "metadata": {},
   "outputs": [
    {
     "data": {
      "text/plain": [
       "(50, 18, 7)"
      ]
     },
     "execution_count": 4,
     "metadata": {},
     "output_type": "execute_result"
    }
   ],
   "source": [
    "pop = [[comida, descanso, manana, comida, comida, comida, descanso] if p in domingos else [descanso, manana if np.random.random() <= 0.5 else tarde, comida, comida, comida, comida, comida] for p in people]\n",
    "initial_population = [np.copy(pop) for i in range(popSize)]\n",
    "initial_population = np.array(initial_population).reshape((popSize, len(people), 7))\n",
    "initial_population.shape"
   ]
  },
  {
   "cell_type": "code",
   "execution_count": 5,
   "metadata": {},
   "outputs": [
    {
     "data": {
      "text/plain": [
       "{'solution': array([[2, 0, 0, 0, 0, 1, 0],\n",
       "        [0, 1, 0, 0, 2, 0, 0],\n",
       "        [0, 0, 2, 0, 1, 0, 0],\n",
       "        [0, 0, 1, 2, 0, 0, 0],\n",
       "        [3, 0, 0, 0, 0, 1, 0],\n",
       "        [1, 0, 0, 0, 3, 0, 0],\n",
       "        [0, 1, 0, 3, 0, 0, 0],\n",
       "        [0, 2, 1, 0, 0, 0, 1],\n",
       "        [0, 2, 0, 1, 0, 0, 1],\n",
       "        [0, 0, 0, 0, 2, 1, 0],\n",
       "        [0, 0, 0, 0, 2, 1, 0],\n",
       "        [1, 2, 0, 0, 0, 0, 0],\n",
       "        [0, 0, 0, 0, 3, 1, 0],\n",
       "        [0, 1, 0, 0, 2, 0, 0],\n",
       "        [0, 1, 0, 2, 0, 0, 1],\n",
       "        [1, 2, 0, 0, 0, 0, 0],\n",
       "        [0, 0, 2, 0, 1, 0, 1],\n",
       "        [2, 0, 0, 0, 1, 0, 0]], dtype=int64),\n",
       " 'fitness': 15,\n",
       " 'callsToFunction': 5050,\n",
       " 'bestTracker': [-19,\n",
       "  -19,\n",
       "  -7,\n",
       "  -7,\n",
       "  -6,\n",
       "  -6,\n",
       "  -6,\n",
       "  -6,\n",
       "  -6,\n",
       "  -6,\n",
       "  -6,\n",
       "  -6,\n",
       "  -6,\n",
       "  -6,\n",
       "  -6,\n",
       "  -6,\n",
       "  -6,\n",
       "  -6,\n",
       "  -6,\n",
       "  -6,\n",
       "  -6,\n",
       "  -5,\n",
       "  -5,\n",
       "  -4,\n",
       "  -4,\n",
       "  -4,\n",
       "  -4,\n",
       "  -3,\n",
       "  -3,\n",
       "  -3,\n",
       "  -3,\n",
       "  -3,\n",
       "  -3,\n",
       "  -3,\n",
       "  -3,\n",
       "  -3,\n",
       "  -3,\n",
       "  -3,\n",
       "  1,\n",
       "  1,\n",
       "  1,\n",
       "  1,\n",
       "  1,\n",
       "  1,\n",
       "  1,\n",
       "  1,\n",
       "  1,\n",
       "  1,\n",
       "  1,\n",
       "  1,\n",
       "  1,\n",
       "  1,\n",
       "  2,\n",
       "  2,\n",
       "  4,\n",
       "  4,\n",
       "  4,\n",
       "  4,\n",
       "  4,\n",
       "  4,\n",
       "  4,\n",
       "  4,\n",
       "  4,\n",
       "  6,\n",
       "  6,\n",
       "  6,\n",
       "  6,\n",
       "  6,\n",
       "  6,\n",
       "  6,\n",
       "  6,\n",
       "  6,\n",
       "  6,\n",
       "  6,\n",
       "  6,\n",
       "  6,\n",
       "  6,\n",
       "  6,\n",
       "  6,\n",
       "  6,\n",
       "  6,\n",
       "  6,\n",
       "  6,\n",
       "  6,\n",
       "  14,\n",
       "  14,\n",
       "  14,\n",
       "  14,\n",
       "  14,\n",
       "  14,\n",
       "  14,\n",
       "  14,\n",
       "  15,\n",
       "  15,\n",
       "  15,\n",
       "  15,\n",
       "  15,\n",
       "  15,\n",
       "  15]}"
      ]
     },
     "execution_count": 5,
     "metadata": {},
     "output_type": "execute_result"
    }
   ],
   "source": [
    "r = genetic_algorithm(rules, (breaks, areas, inventario, people, domingos), popSize, 100, pRep = 0.5, pMut = 0.5, dim = (len(people), 7, 0, len(breaks)), init = initial_population, debug = False)\n",
    "r"
   ]
  },
  {
   "cell_type": "code",
   "execution_count": 6,
   "metadata": {},
   "outputs": [
    {
     "name": "stdout",
     "output_type": "stream",
     "text": [
      "[[2 0 0 0 0 1 0]\n",
      " [0 1 0 0 2 0 0]\n",
      " [0 0 2 0 1 0 0]\n",
      " [0 0 1 2 0 0 0]\n",
      " [3 0 0 0 0 1 0]\n",
      " [1 0 0 0 3 0 0]\n",
      " [0 1 0 3 0 0 0]\n",
      " [0 2 1 0 0 0 1]\n",
      " [0 2 0 1 0 0 1]\n",
      " [0 0 0 0 2 1 0]\n",
      " [0 0 0 0 2 1 0]\n",
      " [1 2 0 0 0 0 0]\n",
      " [0 0 0 0 3 1 0]\n",
      " [0 1 0 0 2 0 0]\n",
      " [0 1 0 2 0 0 1]\n",
      " [1 2 0 0 0 0 0]\n",
      " [0 0 2 0 1 0 1]\n",
      " [2 0 0 0 1 0 0]]\n",
      "Fitness: 15\n",
      "0 errors.\n",
      "\n"
     ]
    }
   ],
   "source": [
    "a = rules(r['solution'], breaks, areas, inventario, people, domingos, True)\n",
    "print(\"Fitness: {}\".format(a[0]))\n",
    "print(\"{} errors.\".format(len(a[1])))\n",
    "print(*a[1][:10], sep = '\\n')"
   ]
  },
  {
   "cell_type": "code",
   "execution_count": 7,
   "metadata": {},
   "outputs": [
    {
     "name": "stdout",
     "output_type": "stream",
     "text": [
      "Nombre\tLUN\tMAR\tMIER\tJUE\tVIE\tSAB\tDOM\n",
      "Samant\tM\tC\tC\tC\tC\tD\tC\tDamas\tLenceria\n",
      "Luz\tC\tD\tC\tC\tM\tC\tC\tDamas\tNinas\n",
      "Laura\tC\tC\tM\tC\tD\tC\tC\tDamas\tModa joven\n",
      "Maira\tC\tC\tD\tM\tC\tC\tC\tDamas\tDama madura\n",
      "Gloria\tT\tC\tC\tC\tC\tD\tC\tZapateria\tZapateria damas\n",
      "Fernan\tD\tC\tC\tC\tT\tC\tC\tZapateria\tZapato deportivo\n",
      "Mariso\tC\tD\tC\tT\tC\tC\tC\tCaballeros\tBebes\n",
      "Susy\tC\tM\tD\tC\tC\tC\tD\tZapateria\tZapato caballero\n",
      "Diana\tC\tM\tC\tD\tC\tC\tD\tJugueteria\t\n",
      "Brayan\tC\tC\tC\tC\tM\tD\tC\tPerfumeria\t\n",
      "Nallel\tC\tC\tC\tC\tM\tD\tC\tCajas ropa\t\n",
      "Marlet\tD\tM\tC\tC\tC\tC\tC\tCajas ropa\t\n",
      "Lucia\tC\tC\tC\tC\tT\tD\tC\tCaballeros\t\n",
      "Fabian\tC\tD\tC\tC\tM\tC\tC\tCaballeros\t\n",
      "Albert\tC\tD\tC\tM\tC\tC\tD\tZapateria\tZapato caballero\n",
      "Elena\tD\tM\tC\tC\tC\tC\tC\tPaqueteria\t\n",
      "Nancy\tC\tC\tM\tC\tD\tC\tD\tCaballeros\tNinos\n",
      "Andrea\tM\tC\tC\tC\tD\tC\tC\tCaballeros\tBebes\n"
     ]
    }
   ],
   "source": [
    "print(\"Nombre\", \"LUN\", \"MAR\", \"MIER\", \"JUE\", \"VIE\", \"SAB\", \"DOM\", sep = \"\\t\")\n",
    "for i, p in enumerate(r['solution']):\n",
    "    print(people[i][:6], end = '\\t')\n",
    "    for j, d in enumerate(p):\n",
    "        print(codigos[d], end = '\\t')\n",
    "    print(areas[i][0], end = '\\t')\n",
    "    if len(areas[i]) > 1: print(areas[i][1], end = \"\")\n",
    "    print()"
   ]
  },
  {
   "cell_type": "code",
   "execution_count": 8,
   "metadata": {},
   "outputs": [
    {
     "name": "stdout",
     "output_type": "stream",
     "text": [
      "(pR = 0.25, pM = 0.25)\t->\t15.1\n",
      "(pR = 0.25, pM = 0.5)\t->\t8.9\n",
      "(pR = 0.25, pM = 0.75)\t->\t9.1\n",
      "(pR = 0.5, pM = 0.25)\t->\t16.8\n",
      "(pR = 0.5, pM = 0.5)\t->\t11.2\n",
      "(pR = 0.5, pM = 0.75)\t->\t6.6\n",
      "(pR = 0.75, pM = 0.25)\t->\t15.4\n",
      "(pR = 0.75, pM = 0.5)\t->\t13.4\n",
      "(pR = 0.75, pM = 0.75)\t->\t7.0\n"
     ]
    },
    {
     "data": {
      "image/png": "[encoded data removed]",
      "text/plain": [
       "<Figure size 640x480 with 1 Axes>"
      ]
     },
     "metadata": {},
     "output_type": "display_data"
    }
   ],
   "source": [
    "for pR in np.arange(0.25, 1, 0.25):\n",
    "    for pM in np.arange(0.25, 1, 0.25):\n",
    "        s, iter = 0, 10\n",
    "        tracker, best = [], -1e10\n",
    "        for i in range(iter):\n",
    "            r = genetic_algorithm(rules, (breaks, areas, inventario, people, domingos), popSize, 100, pRep = pR, pMut = pM, dim = (len(people), 7, 0, len(breaks)), init = initial_population, debug = False)\n",
    "            s += r['fitness']\n",
    "            if not i or s > best:\n",
    "                best = s\n",
    "                tracker = r['bestTracker']\n",
    "        graph(tracker)\n",
    "        print(\"(pR = {}, pM = {})\\t->\\t{}\".format(pR, pM, s/iter))"
   ]
  }
 ],
 "metadata": {
  "kernelspec": {
   "display_name": "Python 3.10.4 64-bit",
   "language": "python",
   "name": "python3"
  },
  "language_info": {
   "codemirror_mode": {
    "name": "ipython",
    "version": 3
   },
   "file_extension": ".py",
   "mimetype": "text/x-python",
   "name": "python",
   "nbconvert_exporter": "python",
   "pygments_lexer": "ipython3",
   "version": "3.10.4"
  },
  "orig_nbformat": 4,
  "vscode": {
   "interpreter": {
    "hash": "26de051ba29f2982a8de78e945f0abaf191376122a1563185a90213a26c5da77"
   }
  }
 },
 "nbformat": 4,
 "nbformat_minor": 2
}
