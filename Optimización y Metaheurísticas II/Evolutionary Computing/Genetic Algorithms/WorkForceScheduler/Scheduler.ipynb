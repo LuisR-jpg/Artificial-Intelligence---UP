{
 "cells": [
  {
   "cell_type": "markdown",
   "metadata": {},
   "source": [
    "# Workforce Scheduler\n",
    "\n",
    "### Authors\n",
    "\n",
    "Sara Carolina Gomez Delgado\n",
    "\n",
    "Luis Eduardo Robles Jimenez"
   ]
  },
  {
   "cell_type": "code",
   "execution_count": 7,
   "metadata": {},
   "outputs": [],
   "source": [
    "from data import * \n",
    "from genetic_algorithm import genetic_algorithm"
   ]
  },
  {
   "cell_type": "code",
   "execution_count": 8,
   "metadata": {},
   "outputs": [
    {
     "data": {
      "text/plain": [
       "{'solution': array([[0, 5, 3, 2, 1, 2, 1],\n",
       "        [0, 3, 2, 4, 1, 2, 1],\n",
       "        [0, 3, 2, 4, 1, 2, 1],\n",
       "        [0, 5, 3, 2, 1, 2, 1],\n",
       "        [0, 5, 3, 2, 1, 2, 1],\n",
       "        [0, 3, 2, 4, 1, 2, 1],\n",
       "        [0, 3, 2, 4, 1, 2, 1],\n",
       "        [0, 3, 2, 4, 1, 2, 1],\n",
       "        [0, 5, 3, 2, 1, 2, 1],\n",
       "        [0, 5, 3, 2, 1, 2, 1],\n",
       "        [0, 5, 3, 2, 1, 2, 1],\n",
       "        [0, 3, 2, 4, 1, 2, 1],\n",
       "        [0, 3, 2, 4, 1, 2, 1],\n",
       "        [0, 3, 2, 4, 1, 2, 1],\n",
       "        [0, 5, 3, 2, 1, 2, 1],\n",
       "        [0, 3, 2, 4, 1, 2, 1],\n",
       "        [0, 3, 2, 4, 1, 2, 1],\n",
       "        [0, 3, 2, 4, 1, 2, 1],\n",
       "        [0, 3, 2, 4, 1, 2, 1],\n",
       "        [5, 2, 2, 1, 0, 3, 1]]),\n",
       " 'fitness': 40,\n",
       " 'callsToFunction': 25050}"
      ]
     },
     "execution_count": 8,
     "metadata": {},
     "output_type": "execute_result"
    }
   ],
   "source": [
    "r = genetic_algorithm(rules, (breaks, people), 50, 500, dim = (len(people), 7, 0, len(breaks)))\n",
    "r"
   ]
  }
 ],
 "metadata": {
  "kernelspec": {
   "display_name": "Python 3.8.10 64-bit",
   "language": "python",
   "name": "python3"
  },
  "language_info": {
   "codemirror_mode": {
    "name": "ipython",
    "version": 3
   },
   "file_extension": ".py",
   "mimetype": "text/x-python",
   "name": "python",
   "nbconvert_exporter": "python",
   "pygments_lexer": "ipython3",
   "version": "3.8.10"
  },
  "orig_nbformat": 4,
  "vscode": {
   "interpreter": {
    "hash": "916dbcbb3f70747c44a77c7bcd40155683ae19c65e1c03b4aa3499c5328201f1"
   }
  }
 },
 "nbformat": 4,
 "nbformat_minor": 2
}
