{
 "cells": [
  {
   "cell_type": "markdown",
   "metadata": {},
   "source": [
    "# Workforce shift Scheduler\n",
    "\n",
    "### Authors\n",
    "\n",
    "Sara Carolina Gomez Delgado\n",
    "\n",
    "Luis Eduardo Robles Jimenez"
   ]
  },
  {
   "cell_type": "code",
   "execution_count": 5,
   "metadata": {},
   "outputs": [],
   "source": [
    "from data import * \n",
    "from genetic_algorithm import genetic_algorithm\n",
    "import matplotlib.pyplot as plt\n",
    "import numpy as np"
   ]
  },
  {
   "cell_type": "markdown",
   "metadata": {},
   "source": [
    "## Utils"
   ]
  },
  {
   "cell_type": "code",
   "execution_count": 6,
   "metadata": {},
   "outputs": [],
   "source": [
    "def graph(points, lbl = None):\n",
    "    if lbl is None: plt.scatter(np.arange(len(points)), points)\n",
    "    else:\n",
    "        plt.scatter(np.arange(len(points)), points, label = lbl)\n",
    "        plt.legend()"
   ]
  },
  {
   "cell_type": "code",
   "execution_count": 7,
   "metadata": {},
   "outputs": [],
   "source": [
    "def printSchedule(solution):\n",
    "    print(\"Nombre\", \"LUN\", \"MAR\", \"MIER\", \"JUE\", \"VIE\", \"SAB\", \"DOM\", sep = \"\\t\")\n",
    "    for i, p in enumerate(solution):\n",
    "        print(people[i][:6], end = '\\t')\n",
    "        for j, d in enumerate(p):\n",
    "            print(codigos[d], end = '\\t')\n",
    "        print(areas[i][0], end = '\\t')\n",
    "        if len(areas[i]) > 1: print(areas[i][1], end = \"\")\n",
    "        print()"
   ]
  },
  {
   "cell_type": "code",
   "execution_count": 8,
   "metadata": {},
   "outputs": [],
   "source": [
    "popSize = 50\n",
    "\n",
    "descanso = np.where(breaks == \"Descansa\")[0]\n",
    "manana = np.where(breaks == \"Mañana\")[0]\n",
    "tarde = np.where(breaks == \"Tarde\")[0]\n",
    "comida = np.where(breaks == \"Comida\")[0]"
   ]
  },
  {
   "cell_type": "markdown",
   "metadata": {},
   "source": [
    "## Stage 1. Create initial population"
   ]
  },
  {
   "cell_type": "code",
   "execution_count": 9,
   "metadata": {},
   "outputs": [
    {
     "data": {
      "text/plain": [
       "(50, 18, 7)"
      ]
     },
     "execution_count": 9,
     "metadata": {},
     "output_type": "execute_result"
    }
   ],
   "source": [
    "pop = [[comida, descanso, manana, comida, comida, comida, descanso] if p in domingos else [descanso, manana if np.random.random() <= 0.5 else tarde, comida, comida, comida, comida, comida] for p in people]\n",
    "initial_population = [np.copy(pop) for i in range(popSize)]\n",
    "initial_population = np.array(initial_population).reshape((popSize, len(people), 7))\n",
    "initial_population.shape"
   ]
  },
  {
   "cell_type": "markdown",
   "metadata": {},
   "source": [
    "## Stage 2. Optimize "
   ]
  },
  {
   "cell_type": "code",
   "execution_count": 10,
   "metadata": {},
   "outputs": [
    {
     "data": {
      "text/plain": [
       "{'solution': array([[0, 2, 0, 0, 0, 1, 0],\n",
       "        [0, 1, 0, 3, 0, 0, 0],\n",
       "        [0, 0, 0, 0, 1, 2, 0],\n",
       "        [2, 0, 1, 0, 0, 0, 0],\n",
       "        [1, 3, 0, 0, 0, 0, 0],\n",
       "        [0, 0, 0, 1, 0, 2, 0],\n",
       "        [0, 1, 3, 0, 0, 0, 0],\n",
       "        [0, 0, 0, 1, 2, 0, 1],\n",
       "        [0, 0, 0, 2, 0, 1, 1],\n",
       "        [0, 0, 0, 3, 1, 0, 0],\n",
       "        [0, 1, 0, 0, 0, 2, 0],\n",
       "        [1, 0, 0, 0, 2, 0, 0],\n",
       "        [2, 0, 0, 0, 0, 1, 0],\n",
       "        [0, 0, 0, 0, 1, 3, 0],\n",
       "        [1, 0, 2, 0, 0, 0, 1],\n",
       "        [1, 0, 0, 0, 0, 2, 0],\n",
       "        [2, 0, 0, 0, 1, 0, 1],\n",
       "        [0, 1, 0, 0, 0, 3, 0]]),\n",
       " 'fitness': 17,\n",
       " 'callsToFunction': 5050,\n",
       " 'bestTracker': [-30,\n",
       "  -18,\n",
       "  -18,\n",
       "  -2,\n",
       "  -1,\n",
       "  -1,\n",
       "  -1,\n",
       "  -1,\n",
       "  -1,\n",
       "  -1,\n",
       "  4,\n",
       "  5,\n",
       "  5,\n",
       "  5,\n",
       "  5,\n",
       "  5,\n",
       "  5,\n",
       "  5,\n",
       "  5,\n",
       "  5,\n",
       "  5,\n",
       "  5,\n",
       "  5,\n",
       "  5,\n",
       "  5,\n",
       "  5,\n",
       "  5,\n",
       "  12,\n",
       "  12,\n",
       "  15,\n",
       "  15,\n",
       "  15,\n",
       "  15,\n",
       "  15,\n",
       "  15,\n",
       "  15,\n",
       "  15,\n",
       "  15,\n",
       "  15,\n",
       "  15,\n",
       "  15,\n",
       "  15,\n",
       "  15,\n",
       "  15,\n",
       "  15,\n",
       "  16,\n",
       "  16,\n",
       "  16,\n",
       "  16,\n",
       "  16,\n",
       "  16,\n",
       "  16,\n",
       "  16,\n",
       "  16,\n",
       "  16,\n",
       "  17,\n",
       "  17,\n",
       "  17,\n",
       "  17,\n",
       "  17,\n",
       "  17,\n",
       "  17,\n",
       "  17,\n",
       "  17,\n",
       "  17,\n",
       "  17,\n",
       "  17,\n",
       "  17,\n",
       "  17,\n",
       "  17,\n",
       "  17,\n",
       "  17,\n",
       "  17,\n",
       "  17,\n",
       "  17,\n",
       "  17,\n",
       "  17,\n",
       "  17,\n",
       "  17,\n",
       "  17,\n",
       "  17,\n",
       "  17,\n",
       "  17,\n",
       "  17,\n",
       "  17,\n",
       "  17,\n",
       "  17,\n",
       "  17,\n",
       "  17,\n",
       "  17,\n",
       "  17,\n",
       "  17,\n",
       "  17,\n",
       "  17,\n",
       "  17,\n",
       "  17,\n",
       "  17,\n",
       "  17,\n",
       "  17]}"
      ]
     },
     "execution_count": 10,
     "metadata": {},
     "output_type": "execute_result"
    }
   ],
   "source": [
    "r = genetic_algorithm(rules, (breaks, areas, inventario, people, domingos), popSize, 100, pRep = 0.5, pMut = 0.5, dim = (len(people), 7, 0, len(breaks)), init = initial_population, debug = False)\n",
    "r"
   ]
  },
  {
   "cell_type": "markdown",
   "metadata": {},
   "source": [
    "#### Analyze the solution"
   ]
  },
  {
   "cell_type": "code",
   "execution_count": 11,
   "metadata": {},
   "outputs": [
    {
     "name": "stdout",
     "output_type": "stream",
     "text": [
      "[[0 2 0 0 0 1 0]\n",
      " [0 1 0 3 0 0 0]\n",
      " [0 0 0 0 1 2 0]\n",
      " [2 0 1 0 0 0 0]\n",
      " [1 3 0 0 0 0 0]\n",
      " [0 0 0 1 0 2 0]\n",
      " [0 1 3 0 0 0 0]\n",
      " [0 0 0 1 2 0 1]\n",
      " [0 0 0 2 0 1 1]\n",
      " [0 0 0 3 1 0 0]\n",
      " [0 1 0 0 0 2 0]\n",
      " [1 0 0 0 2 0 0]\n",
      " [2 0 0 0 0 1 0]\n",
      " [0 0 0 0 1 3 0]\n",
      " [1 0 2 0 0 0 1]\n",
      " [1 0 0 0 0 2 0]\n",
      " [2 0 0 0 1 0 1]\n",
      " [0 1 0 0 0 3 0]]\n",
      "Fitness: 17\n",
      "0 errors.\n",
      "\n"
     ]
    }
   ],
   "source": [
    "a = rules(r['solution'], breaks, areas, inventario, people, domingos, True)\n",
    "print(\"Fitness: {}\".format(a[0]))\n",
    "print(\"{} errors.\".format(len(a[1])))\n",
    "print(*a[1][:10], sep = '\\n')"
   ]
  },
  {
   "cell_type": "code",
   "execution_count": 12,
   "metadata": {},
   "outputs": [
    {
     "name": "stdout",
     "output_type": "stream",
     "text": [
      "Nombre\tLUN\tMAR\tMIER\tJUE\tVIE\tSAB\tDOM\n",
      "Samant\tC\tM\tC\tC\tC\tD\tC\tDamas\tLenceria\n",
      "Luz\tC\tD\tC\tT\tC\tC\tC\tDamas\tNinas\n",
      "Laura\tC\tC\tC\tC\tD\tM\tC\tDamas\tModa joven\n",
      "Maira\tM\tC\tD\tC\tC\tC\tC\tDamas\tDama madura\n",
      "Gloria\tD\tT\tC\tC\tC\tC\tC\tZapateria\tZapateria damas\n",
      "Fernan\tC\tC\tC\tD\tC\tM\tC\tZapateria\tZapato deportivo\n",
      "Mariso\tC\tD\tT\tC\tC\tC\tC\tCaballeros\tBebes\n",
      "Susy\tC\tC\tC\tD\tM\tC\tD\tZapateria\tZapato caballero\n",
      "Diana\tC\tC\tC\tM\tC\tD\tD\tJugueteria\t\n",
      "Brayan\tC\tC\tC\tT\tD\tC\tC\tPerfumeria\t\n",
      "Nallel\tC\tD\tC\tC\tC\tM\tC\tCajas ropa\t\n",
      "Marlet\tD\tC\tC\tC\tM\tC\tC\tCajas ropa\t\n",
      "Lucia\tM\tC\tC\tC\tC\tD\tC\tCaballeros\t\n",
      "Fabian\tC\tC\tC\tC\tD\tT\tC\tCaballeros\t\n",
      "Albert\tD\tC\tM\tC\tC\tC\tD\tZapateria\tZapato caballero\n",
      "Elena\tD\tC\tC\tC\tC\tM\tC\tPaqueteria\t\n",
      "Nancy\tM\tC\tC\tC\tD\tC\tD\tCaballeros\tNinos\n",
      "Andrea\tC\tD\tC\tC\tC\tT\tC\tCaballeros\tBebes\n"
     ]
    }
   ],
   "source": [
    "printSchedule(r['solution'])"
   ]
  },
  {
   "cell_type": "markdown",
   "metadata": {},
   "source": [
    "## Stage 3. Compute the lunch hours"
   ]
  },
  {
   "cell_type": "code",
   "execution_count": 13,
   "metadata": {},
   "outputs": [],
   "source": [
    "entreSemana = ['2', '4', '6', 'E2']\n",
    "sabado = ['1', '2', '3', '4', '5']\n",
    "domingo = ['11:30', '12', '12:30']"
   ]
  },
  {
   "cell_type": "code",
   "execution_count": 14,
   "metadata": {},
   "outputs": [],
   "source": [
    "solution = r['solution']\n",
    "solution = solution.astype(str)\n",
    "for d in range(solution.shape[1]):\n",
    "    area = dict() # Stores by area the day that is the most empty, so the greater it is, the more spread will people be\n",
    "    for h in range(solution.shape[0]):\n",
    "        if not areas[h][0] in area:\n",
    "            area[areas[h][0]] = [0, 0, 0]\n",
    "        if solution[h, d].astype(int) == comida:\n",
    "            if d in range(5):\n",
    "                solution[h, d] = entreSemana[area[areas[h][0]][0] % len(entreSemana)]\n",
    "                area[areas[h][0]][0] += 1\n",
    "            if d == 5:\n",
    "                solution[h, d] = sabado[area[areas[h][0]][1] % len(sabado)]\n",
    "                area[areas[h][0]][1] += 1\n",
    "            if d == 6:\n",
    "                solution[h, d] = domingo[area[areas[h][0]][2] % len(domingo)]\n",
    "                area[areas[h][0]][2] += 1\n",
    "        else: solution[h, d] = codigos[solution[h, d].astype(int)]"
   ]
  },
  {
   "cell_type": "code",
   "execution_count": 15,
   "metadata": {},
   "outputs": [
    {
     "name": "stdout",
     "output_type": "stream",
     "text": [
      "Nombre\tLUN\tMAR\tMIER\tJUE\tVIE\tSAB\tDOM\n",
      "Samant\t2\tM\t2\t2\t2\tD\t11:30\tDamas\tLenceria\n",
      "Luz\t4\tD\t4\tT\t4\t1\t12\tDamas\tNinas\n",
      "Laura\t6\t2\t6\t4\tD\tM\t12:30\tDamas\tModa joven\n",
      "Maira\tM\t4\tD\t6\t6\t2\t11:30\tDamas\tDama madura\n",
      "Gloria\tD\tT\t2\t2\t2\t1\t11:30\tZapateria\tZapateria damas\n",
      "Fernan\t2\t2\t4\tD\t4\tM\t12\tZapateria\tZapato deportivo\n",
      "Mariso\t2\tD\tT\t2\t2\t1\t11:30\tCaballeros\tBebes\n",
      "Susy\t4\t4\t6\tD\tM\t2\tD\tZapateria\tZapato caballero\n",
      "Diana\t2\t2\t2\tM\t2\tD\tD\tJugueteria\t\n",
      "Brayan\t2\t2\t2\tT\tD\t1\t11:30\tPerfumeria\t\n",
      "Nallel\t2\tD\t2\t2\t2\tM\t11:30\tCajas ropa\t\n",
      "Marlet\tD\t2\t4\t4\tM\t1\t12\tCajas ropa\t\n",
      "Lucia\tM\t2\t2\t4\t4\tD\t12\tCaballeros\t\n",
      "Fabian\t4\t4\t4\t6\tD\tT\t12:30\tCaballeros\t\n",
      "Albert\tD\t6\tM\t4\t6\t3\tD\tZapateria\tZapato caballero\n",
      "Elena\tD\t2\t2\t2\t2\tM\t11:30\tPaqueteria\t\n",
      "Nancy\tM\t6\t6\tE2\tD\t2\tD\tCaballeros\tNinos\n",
      "Andrea\t6\tD\tE2\t2\t6\tT\t11:30\tCaballeros\tBebes\n"
     ]
    }
   ],
   "source": [
    "print(\"Nombre\", \"LUN\", \"MAR\", \"MIER\", \"JUE\", \"VIE\", \"SAB\", \"DOM\", sep = \"\\t\")\n",
    "for i, p in enumerate(solution):\n",
    "    print(people[i][:6], end = '\\t')\n",
    "    for d in p:\n",
    "        print(d, end = '\\t')\n",
    "    print(areas[i][0], end = '\\t')\n",
    "    if len(areas[i]) > 1: print(areas[i][1], end = \"\")\n",
    "    print()"
   ]
  },
  {
   "cell_type": "markdown",
   "metadata": {},
   "source": [
    "## Extra\n",
    "\n",
    "Analysis of the different mutation probability and reproduction probability"
   ]
  },
  {
   "cell_type": "code",
   "execution_count": 16,
   "metadata": {},
   "outputs": [
    {
     "name": "stdout",
     "output_type": "stream",
     "text": [
      "(pR = 0.25, pM = 0.25)\t->\t14.5\n",
      "(pR = 0.25, pM = 0.5)\t->\t12.7\n",
      "(pR = 0.25, pM = 0.75)\t->\t8.6\n",
      "(pR = 0.5, pM = 0.25)\t->\t16.5\n",
      "(pR = 0.5, pM = 0.5)\t->\t12.2\n",
      "(pR = 0.5, pM = 0.75)\t->\t11.7\n",
      "(pR = 0.75, pM = 0.25)\t->\t17.3\n",
      "(pR = 0.75, pM = 0.5)\t->\t13.9\n",
      "(pR = 0.75, pM = 0.75)\t->\t9.0\n"
     ]
    },
    {
     "data": {
      "image/png": "[encoded data removed]",
      "text/plain": [
       "<Figure size 640x480 with 1 Axes>"
      ]
     },
     "metadata": {},
     "output_type": "display_data"
    }
   ],
   "source": [
    "for pR in np.arange(0.25, 1, 0.25):\n",
    "    for pM in np.arange(0.25, 1, 0.25):\n",
    "        s, iter = 0, 10\n",
    "        tracker, best = [], -1e10\n",
    "        for i in range(iter):\n",
    "            r = genetic_algorithm(rules, (breaks, areas, inventario, people, domingos), popSize, 100, pRep = pR, pMut = pM, dim = (len(people), 7, 0, len(breaks)), init = initial_population, debug = False)\n",
    "            s += r['fitness']\n",
    "            if not i or s > best:\n",
    "                best = s\n",
    "                tracker = r['bestTracker']\n",
    "        graph(tracker)\n",
    "        print(\"(pR = {}, pM = {})\\t->\\t{}\".format(pR, pM, s/iter))"
   ]
  }
 ],
 "metadata": {
  "kernelspec": {
   "display_name": "Python 3.8.10 64-bit",
   "language": "python",
   "name": "python3"
  },
  "language_info": {
   "codemirror_mode": {
    "name": "ipython",
    "version": 3
   },
   "file_extension": ".py",
   "mimetype": "text/x-python",
   "name": "python",
   "nbconvert_exporter": "python",
   "pygments_lexer": "ipython3",
   "version": "3.8.10"
  },
  "orig_nbformat": 4,
  "vscode": {
   "interpreter": {
    "hash": "916dbcbb3f70747c44a77c7bcd40155683ae19c65e1c03b4aa3499c5328201f1"
   }
  }
 },
 "nbformat": 4,
 "nbformat_minor": 2
}
