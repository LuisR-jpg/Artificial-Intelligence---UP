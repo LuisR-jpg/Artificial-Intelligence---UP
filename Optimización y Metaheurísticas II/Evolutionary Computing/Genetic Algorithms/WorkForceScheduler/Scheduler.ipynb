{
 "cells": [
  {
   "cell_type": "markdown",
   "metadata": {},
   "source": [
    "# Workforce Scheduler\n",
    "\n",
    "### Authors\n",
    "\n",
    "Sara Carolina Gomez Delgado\n",
    "\n",
    "Luis Eduardo Robles Jimenez"
   ]
  },
  {
   "cell_type": "code",
   "execution_count": 1,
   "metadata": {},
   "outputs": [],
   "source": [
    "from data import * \n",
    "from genetic_algorithm import genetic_algorithm\n",
    "import matplotlib.pyplot as plt\n",
    "import numpy as np"
   ]
  },
  {
   "cell_type": "code",
   "execution_count": 2,
   "metadata": {},
   "outputs": [],
   "source": [
    "def graph(points, lbl = None):\n",
    "    if lbl is None: plt.scatter(np.arange(len(points)), points)\n",
    "    else:\n",
    "        plt.scatter(np.arange(len(points)), points, label = lbl)\n",
    "        plt.legend()"
   ]
  },
  {
   "cell_type": "code",
   "execution_count": 3,
   "metadata": {},
   "outputs": [],
   "source": [
    "popSize = 300\n",
    "\n",
    "descanso = np.where(breaks == \"Descansa\")[0]\n",
    "manana = np.where(breaks == \"Mañana\")[0]\n",
    "tarde = np.where(breaks == \"Tarde\")[0]\n",
    "comida = np.where(breaks == \"Comida\")[0]"
   ]
  },
  {
   "cell_type": "code",
   "execution_count": 4,
   "metadata": {},
   "outputs": [
    {
     "data": {
      "text/plain": [
       "(300, 18, 7)"
      ]
     },
     "execution_count": 4,
     "metadata": {},
     "output_type": "execute_result"
    }
   ],
   "source": [
    "pop = [[comida, manana, manana, comida, comida, comida, descanso] if p in domingos else [descanso, manana if np.random.random() <= 0.5 else tarde, comida, comida, comida, comida, comida] for p in people]\n",
    "initial_population = [np.copy(pop) for i in range(popSize)]\n",
    "initial_population = np.array(initial_population).reshape((popSize, len(people), 7))\n",
    "initial_population.shape"
   ]
  },
  {
   "cell_type": "code",
   "execution_count": 5,
   "metadata": {},
   "outputs": [
    {
     "ename": "KeyboardInterrupt",
     "evalue": "",
     "output_type": "error",
     "traceback": [
      "\u001b[1;31m---------------------------------------------------------------------------\u001b[0m",
      "\u001b[1;31mKeyboardInterrupt\u001b[0m                         Traceback (most recent call last)",
      "\u001b[1;32mc:\\Users\\lalor\\Documents\\Git\\School\\Optimización y Metaheurísticas II\\Evolutionary Computing\\Genetic Algorithms\\WorkforceScheduler\\Scheduler.ipynb Cell 6\u001b[0m in \u001b[0;36m<cell line: 1>\u001b[1;34m()\u001b[0m\n\u001b[1;32m----> <a href='vscode-notebook-cell:/c%3A/Users/lalor/Documents/Git/School/Optimizaci%C3%B3n%20y%20Metaheur%C3%ADsticas%20II/Evolutionary%20Computing/Genetic%20Algorithms/WorkforceScheduler/Scheduler.ipynb#X13sZmlsZQ%3D%3D?line=0'>1</a>\u001b[0m r \u001b[39m=\u001b[39m genetic_algorithm(rules, (breaks, areas, inventario, people, domingos), popSize, \u001b[39m1000\u001b[39;49m, pRep \u001b[39m=\u001b[39;49m \u001b[39m0.5\u001b[39;49m, pMut \u001b[39m=\u001b[39;49m \u001b[39m0.5\u001b[39;49m, dim \u001b[39m=\u001b[39;49m (\u001b[39mlen\u001b[39;49m(people), \u001b[39m7\u001b[39;49m, \u001b[39m0\u001b[39;49m, \u001b[39mlen\u001b[39;49m(breaks)), init \u001b[39m=\u001b[39;49m initial_population, debug \u001b[39m=\u001b[39;49m \u001b[39mFalse\u001b[39;49;00m)\n\u001b[0;32m      <a href='vscode-notebook-cell:/c%3A/Users/lalor/Documents/Git/School/Optimizaci%C3%B3n%20y%20Metaheur%C3%ADsticas%20II/Evolutionary%20Computing/Genetic%20Algorithms/WorkforceScheduler/Scheduler.ipynb#X13sZmlsZQ%3D%3D?line=1'>2</a>\u001b[0m r\n",
      "File \u001b[1;32mc:\\Users\\lalor\\Documents\\Git\\School\\Optimización y Metaheurísticas II\\Evolutionary Computing\\Genetic Algorithms\\WorkforceScheduler\\genetic_algorithm.py:121\u001b[0m, in \u001b[0;36mgenetic_algorithm\u001b[1;34m(fitness, args, popSize, nGen, pRep, pMut, dim, init, debug)\u001b[0m\n\u001b[0;32m    119\u001b[0m \u001b[39mdef\u001b[39;00m \u001b[39mgenetic_algorithm\u001b[39m(fitness, args \u001b[39m=\u001b[39m (), popSize \u001b[39m=\u001b[39m \u001b[39m10\u001b[39m, nGen \u001b[39m=\u001b[39m \u001b[39m10\u001b[39m, pRep \u001b[39m=\u001b[39m \u001b[39m0.5\u001b[39m, pMut \u001b[39m=\u001b[39m \u001b[39m0.5\u001b[39m, dim \u001b[39m=\u001b[39m (\u001b[39m5\u001b[39m, \u001b[39m5\u001b[39m, \u001b[39m0\u001b[39m, \u001b[39m5\u001b[39m), init \u001b[39m=\u001b[39m \u001b[39mNone\u001b[39;00m, debug \u001b[39m=\u001b[39m \u001b[39mFalse\u001b[39;00m):\n\u001b[0;32m    120\u001b[0m     gA \u001b[39m=\u001b[39m GeneticAlgorithm(fitness, args, popSize, nGen, pRep, pMut, dim, init, debug)\n\u001b[1;32m--> 121\u001b[0m     \u001b[39mreturn\u001b[39;00m gA\u001b[39m.\u001b[39;49msolve()\n",
      "File \u001b[1;32mc:\\Users\\lalor\\Documents\\Git\\School\\Optimización y Metaheurísticas II\\Evolutionary Computing\\Genetic Algorithms\\WorkforceScheduler\\genetic_algorithm.py:87\u001b[0m, in \u001b[0;36mGeneticAlgorithm.solve\u001b[1;34m(self)\u001b[0m\n\u001b[0;32m     86\u001b[0m \u001b[39mdef\u001b[39;00m \u001b[39msolve\u001b[39m(\u001b[39mself\u001b[39m):\n\u001b[1;32m---> 87\u001b[0m     r \u001b[39m=\u001b[39m \u001b[39mself\u001b[39;49m\u001b[39m.\u001b[39;49m_solve()\n\u001b[0;32m     88\u001b[0m     \u001b[39massert\u001b[39;00m \u001b[39misinstance\u001b[39m(r, \u001b[39mdict\u001b[39m), \u001b[39m'\u001b[39m\u001b[39mr is not dict\u001b[39m\u001b[39m'\u001b[39m\n\u001b[0;32m     89\u001b[0m     \u001b[39mreturn\u001b[39;00m r\n",
      "File \u001b[1;32mc:\\Users\\lalor\\Documents\\Git\\School\\Optimización y Metaheurísticas II\\Evolutionary Computing\\Genetic Algorithms\\WorkforceScheduler\\genetic_algorithm.py:101\u001b[0m, in \u001b[0;36mGeneticAlgorithm._solve\u001b[1;34m(self)\u001b[0m\n\u001b[0;32m     99\u001b[0m newPopulation, newFitnesses \u001b[39m=\u001b[39m np\u001b[39m.\u001b[39mzeros_like(\u001b[39mself\u001b[39m\u001b[39m.\u001b[39mpopulation), np\u001b[39m.\u001b[39mzeros_like(\u001b[39mself\u001b[39m\u001b[39m.\u001b[39mfitnesses)\n\u001b[0;32m    100\u001b[0m \u001b[39mfor\u001b[39;00m c \u001b[39min\u001b[39;00m \u001b[39mrange\u001b[39m(\u001b[39mself\u001b[39m\u001b[39m.\u001b[39mpopSize):\n\u001b[1;32m--> 101\u001b[0m     parents \u001b[39m=\u001b[39m \u001b[39mself\u001b[39;49m\u001b[39m.\u001b[39;49mrouletteSelection()\n\u001b[0;32m    102\u001b[0m     child \u001b[39m=\u001b[39m \u001b[39mself\u001b[39m\u001b[39m.\u001b[39mcrossover(\u001b[39m*\u001b[39m\u001b[39mself\u001b[39m\u001b[39m.\u001b[39mpopulation[parents])\n\u001b[0;32m    103\u001b[0m     child \u001b[39m=\u001b[39m \u001b[39mself\u001b[39m\u001b[39m.\u001b[39mmutation(child)\n",
      "File \u001b[1;32mc:\\Users\\lalor\\Documents\\Git\\School\\Optimización y Metaheurísticas II\\Evolutionary Computing\\Genetic Algorithms\\WorkforceScheduler\\genetic_algorithm.py:47\u001b[0m, in \u001b[0;36mGeneticAlgorithm.rouletteSelection\u001b[1;34m(self, k, reverse)\u001b[0m\n\u001b[0;32m     45\u001b[0m \u001b[39massert\u001b[39;00m \u001b[39misinstance\u001b[39m(k, \u001b[39mint\u001b[39m), \u001b[39m'\u001b[39m\u001b[39mk is not int\u001b[39m\u001b[39m'\u001b[39m\n\u001b[0;32m     46\u001b[0m \u001b[39massert\u001b[39;00m \u001b[39mself\u001b[39m\u001b[39m.\u001b[39mfitnesses\u001b[39m.\u001b[39mall() \u001b[39m!=\u001b[39m \u001b[39mNone\u001b[39;00m, \u001b[39m'\u001b[39m\u001b[39mfitnesses has not been initialized\u001b[39m\u001b[39m'\u001b[39m\n\u001b[1;32m---> 47\u001b[0m r \u001b[39m=\u001b[39m \u001b[39mself\u001b[39;49m\u001b[39m.\u001b[39;49m_rouletteSelection(k, reverse)\n\u001b[0;32m     48\u001b[0m \u001b[39massert\u001b[39;00m \u001b[39misinstance\u001b[39m(r, np\u001b[39m.\u001b[39mndarray) \u001b[39mand\u001b[39;00m r\u001b[39m.\u001b[39mshape[\u001b[39m0\u001b[39m] \u001b[39m==\u001b[39m k, \u001b[39m'\u001b[39m\u001b[39mr is not the expected result\u001b[39m\u001b[39m'\u001b[39m\n\u001b[0;32m     49\u001b[0m \u001b[39mreturn\u001b[39;00m r\n",
      "File \u001b[1;32mc:\\Users\\lalor\\Documents\\Git\\School\\Optimización y Metaheurísticas II\\Evolutionary Computing\\Genetic Algorithms\\WorkforceScheduler\\genetic_algorithm.py:56\u001b[0m, in \u001b[0;36mGeneticAlgorithm._rouletteSelection\u001b[1;34m(self, k, reverse)\u001b[0m\n\u001b[0;32m     54\u001b[0m \u001b[39mif\u001b[39;00m reverse: norm \u001b[39m=\u001b[39m \u001b[39m1\u001b[39m \u001b[39m/\u001b[39m norm\n\u001b[0;32m     55\u001b[0m norm \u001b[39m=\u001b[39m norm \u001b[39m/\u001b[39m np\u001b[39m.\u001b[39msum(norm)\n\u001b[1;32m---> 56\u001b[0m \u001b[39mreturn\u001b[39;00m np\u001b[39m.\u001b[39;49mrandom\u001b[39m.\u001b[39;49mchoice(\u001b[39mself\u001b[39;49m\u001b[39m.\u001b[39;49mpopSize, k, \u001b[39mFalse\u001b[39;49;00m, norm)\n",
      "File \u001b[1;32mmtrand.pyx:984\u001b[0m, in \u001b[0;36mnumpy.random.mtrand.RandomState.choice\u001b[1;34m()\u001b[0m\n",
      "File \u001b[1;32m<__array_function__ internals>:177\u001b[0m, in \u001b[0;36munique\u001b[1;34m(*args, **kwargs)\u001b[0m\n",
      "\u001b[1;31mKeyboardInterrupt\u001b[0m: "
     ]
    }
   ],
   "source": [
    "r = genetic_algorithm(rules, (breaks, areas, inventario, people, domingos), popSize, 1000, pRep = 0.5, pMut = 0.5, dim = (len(people), 7, 0, len(breaks)), init = initial_population, debug = False)\n",
    "r"
   ]
  },
  {
   "cell_type": "code",
   "execution_count": null,
   "metadata": {},
   "outputs": [],
   "source": [
    "a = rules(r['solution'], breaks, areas, inventario, people, domingos, True)\n",
    "print(a[0])\n",
    "print(\"{} errors.\".format(len(a[1])))\n",
    "print(*a[1][:10], sep = '\\n')"
   ]
  },
  {
   "cell_type": "code",
   "execution_count": null,
   "metadata": {},
   "outputs": [],
   "source": [
    "print(\"Nombre\", \"LUN\", \"MAR\", \"MIER\", \"JUE\", \"VIE\", \"SAB\", \"DOM\", sep = \"\\t\")\n",
    "for i, p in enumerate(r['solution']):\n",
    "    print(people[i][:6], end = '\\t')\n",
    "    for j, d in enumerate(p):\n",
    "        print(codigos[d], end = '\\t')\n",
    "    print()"
   ]
  },
  {
   "cell_type": "code",
   "execution_count": null,
   "metadata": {},
   "outputs": [],
   "source": [
    "for pR in np.arange(0.25, 1, 0.25):\n",
    "    for pM in np.arange(0.25, 1, 0.25):\n",
    "        s, iter = 0, 10\n",
    "        tracker, best = [], -1e10\n",
    "        for i in range(iter):\n",
    "            r = genetic_algorithm(rules, (breaks, areas, inventario, people, domingos), popSize, 1000, pRep = pR, pMut = pM, dim = (len(people), 7, 0, len(breaks)), init = initial_population, debug = False)\n",
    "            s += r['fitness']\n",
    "            if not i or s > best:\n",
    "                best = s\n",
    "                tracker = r['bestTracker']\n",
    "        graph(tracker)\n",
    "        print(\"(pR = {}, pM = {})\\t->\\t{}\".format(pR, pM, s/iter))"
   ]
  }
 ],
 "metadata": {
  "kernelspec": {
   "display_name": "Python 3.10.4 64-bit",
   "language": "python",
   "name": "python3"
  },
  "language_info": {
   "codemirror_mode": {
    "name": "ipython",
    "version": 3
   },
   "file_extension": ".py",
   "mimetype": "text/x-python",
   "name": "python",
   "nbconvert_exporter": "python",
   "pygments_lexer": "ipython3",
   "version": "3.10.4"
  },
  "orig_nbformat": 4,
  "vscode": {
   "interpreter": {
    "hash": "26de051ba29f2982a8de78e945f0abaf191376122a1563185a90213a26c5da77"
   }
  }
 },
 "nbformat": 4,
 "nbformat_minor": 2
}
