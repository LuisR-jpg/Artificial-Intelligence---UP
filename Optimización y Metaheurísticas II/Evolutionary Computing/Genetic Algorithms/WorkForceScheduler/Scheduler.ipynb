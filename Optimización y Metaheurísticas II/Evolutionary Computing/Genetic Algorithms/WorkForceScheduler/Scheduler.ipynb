{
 "cells": [
  {
   "cell_type": "markdown",
   "metadata": {},
   "source": [
    "# Workforce Scheduler\n",
    "\n",
    "### Authors\n",
    "\n",
    "Sara Carolina Gomez Delgado\n",
    "\n",
    "Luis Eduardo Robles Jimenez"
   ]
  },
  {
   "cell_type": "code",
   "execution_count": 1,
   "metadata": {},
   "outputs": [],
   "source": [
    "from data import * \n",
    "from genetic_algorithm import genetic_algorithm"
   ]
  },
  {
   "cell_type": "code",
   "execution_count": 2,
   "metadata": {},
   "outputs": [
    {
     "data": {
      "text/plain": [
       "{'solution': array([[6, 4, 5, 1, 1, 6, 1],\n",
       "        [0, 2, 4, 5, 4, 2, 0],\n",
       "        [6, 4, 5, 1, 1, 6, 1],\n",
       "        [5, 6, 2, 0, 0, 1, 1],\n",
       "        [4, 6, 3, 3, 6, 2, 5],\n",
       "        [6, 4, 5, 1, 1, 6, 1],\n",
       "        [2, 6, 2, 4, 2, 5, 1],\n",
       "        [0, 2, 4, 5, 4, 2, 0],\n",
       "        [0, 2, 4, 5, 4, 2, 0],\n",
       "        [2, 2, 4, 5, 1, 0, 2],\n",
       "        [0, 1, 2, 4, 1, 3, 5],\n",
       "        [2, 6, 2, 4, 2, 5, 1],\n",
       "        [2, 2, 4, 5, 1, 0, 2],\n",
       "        [6, 4, 5, 1, 1, 6, 1],\n",
       "        [4, 6, 3, 3, 6, 2, 5],\n",
       "        [2, 6, 2, 4, 2, 5, 1],\n",
       "        [2, 6, 2, 4, 2, 5, 1],\n",
       "        [0, 2, 2, 6, 6, 3, 5],\n",
       "        [2, 6, 2, 4, 2, 5, 1],\n",
       "        [6, 4, 5, 1, 1, 6, 1]]),\n",
       " 'fitness': -10.0,\n",
       " 'callsToFunction': 5050}"
      ]
     },
     "execution_count": 2,
     "metadata": {},
     "output_type": "execute_result"
    }
   ],
   "source": [
    "r = genetic_algorithm(rules, (breaks, areas, inventario), 50, 200, dim = (len(people), 7, 0, len(breaks)))\n",
    "r"
   ]
  },
  {
   "cell_type": "code",
   "execution_count": 3,
   "metadata": {},
   "outputs": [
    {
     "data": {
      "text/plain": [
       "(-10.0,\n",
       " ['Persona 0 descansa el mismo dia que 2',\n",
       "  'Persona 1 no tiene un descanso',\n",
       "  'Persona 2 descansa el mismo dia que 0',\n",
       "  'Persona 3 no tiene un descanso',\n",
       "  'Persona 7 no tiene un descanso',\n",
       "  'Persona 7 descansa el mismo dia que 8',\n",
       "  'Persona 8 no tiene un descanso',\n",
       "  'Persona 8 descansa el mismo dia que 7',\n",
       "  'Persona 13 descansa el miercoles y tiene inventario',\n",
       "  'Persona 15 descansa el jueves y tiene inventario',\n",
       "  'Persona 15 descansa el mismo dia que 18',\n",
       "  'Persona 17 no tiene un descanso',\n",
       "  'Persona 18 descansa el mismo dia que 15'])"
      ]
     },
     "execution_count": 3,
     "metadata": {},
     "output_type": "execute_result"
    }
   ],
   "source": [
    "rules(r['solution'], breaks, areas, inventario, True)"
   ]
  }
 ],
 "metadata": {
  "kernelspec": {
   "display_name": "Python 3.10.4 64-bit",
   "language": "python",
   "name": "python3"
  },
  "language_info": {
   "codemirror_mode": {
    "name": "ipython",
    "version": 3
   },
   "file_extension": ".py",
   "mimetype": "text/x-python",
   "name": "python",
   "nbconvert_exporter": "python",
   "pygments_lexer": "ipython3",
   "version": "3.10.4"
  },
  "orig_nbformat": 4,
  "vscode": {
   "interpreter": {
    "hash": "26de051ba29f2982a8de78e945f0abaf191376122a1563185a90213a26c5da77"
   }
  }
 },
 "nbformat": 4,
 "nbformat_minor": 2
}
