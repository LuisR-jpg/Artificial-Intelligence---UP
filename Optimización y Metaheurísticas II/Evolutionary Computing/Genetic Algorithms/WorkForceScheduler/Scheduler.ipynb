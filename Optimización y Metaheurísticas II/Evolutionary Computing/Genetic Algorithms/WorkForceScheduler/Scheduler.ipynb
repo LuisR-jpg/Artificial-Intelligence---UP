{
 "cells": [
  {
   "cell_type": "markdown",
   "metadata": {},
   "source": [
    "# Workforce Scheduler\n",
    "\n",
    "### Authors\n",
    "\n",
    "Sara Carolina Gomez Delgado\n",
    "\n",
    "Luis Eduardo Robles Jimenez"
   ]
  },
  {
   "cell_type": "code",
   "execution_count": 1,
   "metadata": {},
   "outputs": [],
   "source": [
    "from data import * \n",
    "from genetic_algorithm import genetic_algorithm"
   ]
  },
  {
   "cell_type": "code",
   "execution_count": 2,
   "metadata": {},
   "outputs": [
    {
     "ename": "IndexError",
     "evalue": "index 5 is out of bounds for axis 0 with size 5",
     "output_type": "error",
     "traceback": [
      "\u001b[1;31m---------------------------------------------------------------------------\u001b[0m",
      "\u001b[1;31mIndexError\u001b[0m                                Traceback (most recent call last)",
      "\u001b[1;32mc:\\Users\\lalor\\Documents\\Git\\School\\Optimización y Metaheurísticas II\\Evolutionary Computing\\Genetic Algorithms\\WorkforceScheduler\\Scheduler.ipynb Cell 3\u001b[0m in \u001b[0;36m<cell line: 1>\u001b[1;34m()\u001b[0m\n\u001b[1;32m----> <a href='vscode-notebook-cell:/c%3A/Users/lalor/Documents/Git/School/Optimizaci%C3%B3n%20y%20Metaheur%C3%ADsticas%20II/Evolutionary%20Computing/Genetic%20Algorithms/WorkforceScheduler/Scheduler.ipynb#W2sZmlsZQ%3D%3D?line=0'>1</a>\u001b[0m r \u001b[39m=\u001b[39m genetic_algorithm(rules, (breaks, people), \u001b[39m50\u001b[39;49m, \u001b[39m500\u001b[39;49m, dim \u001b[39m=\u001b[39;49m (\u001b[39mlen\u001b[39;49m(people), \u001b[39m7\u001b[39;49m, \u001b[39m0\u001b[39;49m, \u001b[39mlen\u001b[39;49m(breaks)))\n\u001b[0;32m      <a href='vscode-notebook-cell:/c%3A/Users/lalor/Documents/Git/School/Optimizaci%C3%B3n%20y%20Metaheur%C3%ADsticas%20II/Evolutionary%20Computing/Genetic%20Algorithms/WorkforceScheduler/Scheduler.ipynb#W2sZmlsZQ%3D%3D?line=1'>2</a>\u001b[0m r\n",
      "File \u001b[1;32mc:\\Users\\lalor\\Documents\\Git\\School\\Optimización y Metaheurísticas II\\Evolutionary Computing\\Genetic Algorithms\\WorkforceScheduler\\genetic_algorithm.py:113\u001b[0m, in \u001b[0;36mgenetic_algorithm\u001b[1;34m(fitness, args, popSize, nGen, pRep, pMut, dim)\u001b[0m\n\u001b[0;32m    111\u001b[0m \u001b[39mdef\u001b[39;00m \u001b[39mgenetic_algorithm\u001b[39m(fitness, args \u001b[39m=\u001b[39m (), popSize \u001b[39m=\u001b[39m \u001b[39m10\u001b[39m, nGen \u001b[39m=\u001b[39m \u001b[39m10\u001b[39m, pRep \u001b[39m=\u001b[39m \u001b[39m0.5\u001b[39m, pMut \u001b[39m=\u001b[39m \u001b[39m0.5\u001b[39m, dim \u001b[39m=\u001b[39m (\u001b[39m5\u001b[39m, \u001b[39m5\u001b[39m, \u001b[39m0\u001b[39m, \u001b[39m5\u001b[39m)):\n\u001b[0;32m    112\u001b[0m     gA \u001b[39m=\u001b[39m GeneticAlgorithm(fitness, args, popSize, nGen, pRep, pMut, dim)\n\u001b[1;32m--> 113\u001b[0m     \u001b[39mreturn\u001b[39;00m gA\u001b[39m.\u001b[39;49msolve()\n",
      "File \u001b[1;32mc:\\Users\\lalor\\Documents\\Git\\School\\Optimización y Metaheurísticas II\\Evolutionary Computing\\Genetic Algorithms\\WorkforceScheduler\\genetic_algorithm.py:82\u001b[0m, in \u001b[0;36mGeneticAlgorithm.solve\u001b[1;34m(self)\u001b[0m\n\u001b[0;32m     81\u001b[0m \u001b[39mdef\u001b[39;00m \u001b[39msolve\u001b[39m(\u001b[39mself\u001b[39m):\n\u001b[1;32m---> 82\u001b[0m     r \u001b[39m=\u001b[39m \u001b[39mself\u001b[39;49m\u001b[39m.\u001b[39;49m_solve()\n\u001b[0;32m     83\u001b[0m     \u001b[39massert\u001b[39;00m \u001b[39misinstance\u001b[39m(r, \u001b[39mdict\u001b[39m), \u001b[39m'\u001b[39m\u001b[39mr is not dict\u001b[39m\u001b[39m'\u001b[39m\n\u001b[0;32m     84\u001b[0m     \u001b[39mreturn\u001b[39;00m r\n",
      "File \u001b[1;32mc:\\Users\\lalor\\Documents\\Git\\School\\Optimización y Metaheurísticas II\\Evolutionary Computing\\Genetic Algorithms\\WorkforceScheduler\\genetic_algorithm.py:87\u001b[0m, in \u001b[0;36mGeneticAlgorithm._solve\u001b[1;34m(self)\u001b[0m\n\u001b[0;32m     85\u001b[0m \u001b[39mdef\u001b[39;00m \u001b[39m_solve\u001b[39m(\u001b[39mself\u001b[39m):\n\u001b[0;32m     86\u001b[0m     \u001b[39mself\u001b[39m\u001b[39m.\u001b[39minitPopulation()\n\u001b[1;32m---> 87\u001b[0m     \u001b[39mself\u001b[39m\u001b[39m.\u001b[39mfitnesses \u001b[39m=\u001b[39m np\u001b[39m.\u001b[39marray([\u001b[39mself\u001b[39m\u001b[39m.\u001b[39mgetFitness(i) \u001b[39mfor\u001b[39;00m i \u001b[39min\u001b[39;00m \u001b[39mself\u001b[39m\u001b[39m.\u001b[39mpopulation])\n\u001b[0;32m     88\u001b[0m     eliteFitness, elite \u001b[39m=\u001b[39m \u001b[39m-\u001b[39m\u001b[39m1e10\u001b[39m, \u001b[39mNone\u001b[39;00m\n\u001b[0;32m     89\u001b[0m     \u001b[39mfor\u001b[39;00m i \u001b[39min\u001b[39;00m \u001b[39mrange\u001b[39m(\u001b[39mself\u001b[39m\u001b[39m.\u001b[39mnGen):\n",
      "File \u001b[1;32mc:\\Users\\lalor\\Documents\\Git\\School\\Optimización y Metaheurísticas II\\Evolutionary Computing\\Genetic Algorithms\\WorkforceScheduler\\genetic_algorithm.py:87\u001b[0m, in \u001b[0;36m<listcomp>\u001b[1;34m(.0)\u001b[0m\n\u001b[0;32m     85\u001b[0m \u001b[39mdef\u001b[39;00m \u001b[39m_solve\u001b[39m(\u001b[39mself\u001b[39m):\n\u001b[0;32m     86\u001b[0m     \u001b[39mself\u001b[39m\u001b[39m.\u001b[39minitPopulation()\n\u001b[1;32m---> 87\u001b[0m     \u001b[39mself\u001b[39m\u001b[39m.\u001b[39mfitnesses \u001b[39m=\u001b[39m np\u001b[39m.\u001b[39marray([\u001b[39mself\u001b[39;49m\u001b[39m.\u001b[39;49mgetFitness(i) \u001b[39mfor\u001b[39;00m i \u001b[39min\u001b[39;00m \u001b[39mself\u001b[39m\u001b[39m.\u001b[39mpopulation])\n\u001b[0;32m     88\u001b[0m     eliteFitness, elite \u001b[39m=\u001b[39m \u001b[39m-\u001b[39m\u001b[39m1e10\u001b[39m, \u001b[39mNone\u001b[39;00m\n\u001b[0;32m     89\u001b[0m     \u001b[39mfor\u001b[39;00m i \u001b[39min\u001b[39;00m \u001b[39mrange\u001b[39m(\u001b[39mself\u001b[39m\u001b[39m.\u001b[39mnGen):\n",
      "File \u001b[1;32mc:\\Users\\lalor\\Documents\\Git\\School\\Optimización y Metaheurísticas II\\Evolutionary Computing\\Genetic Algorithms\\WorkforceScheduler\\genetic_algorithm.py:34\u001b[0m, in \u001b[0;36mGeneticAlgorithm.getFitness\u001b[1;34m(self, individual)\u001b[0m\n\u001b[0;32m     32\u001b[0m \u001b[39mdef\u001b[39;00m \u001b[39mgetFitness\u001b[39m(\u001b[39mself\u001b[39m, individual):\n\u001b[0;32m     33\u001b[0m     \u001b[39massert\u001b[39;00m individual\u001b[39m.\u001b[39mshape \u001b[39m==\u001b[39m (\u001b[39mself\u001b[39m\u001b[39m.\u001b[39mheight, \u001b[39mself\u001b[39m\u001b[39m.\u001b[39mwidth), \u001b[39m'\u001b[39m\u001b[39mindividual is not valid\u001b[39m\u001b[39m'\u001b[39m\n\u001b[1;32m---> 34\u001b[0m     r \u001b[39m=\u001b[39m \u001b[39mself\u001b[39;49m\u001b[39m.\u001b[39;49m_getFitness(individual)\n\u001b[0;32m     35\u001b[0m     \u001b[39mreturn\u001b[39;00m r\n",
      "File \u001b[1;32mc:\\Users\\lalor\\Documents\\Git\\School\\Optimización y Metaheurísticas II\\Evolutionary Computing\\Genetic Algorithms\\WorkforceScheduler\\genetic_algorithm.py:38\u001b[0m, in \u001b[0;36mGeneticAlgorithm._getFitness\u001b[1;34m(self, individual)\u001b[0m\n\u001b[0;32m     36\u001b[0m \u001b[39mdef\u001b[39;00m \u001b[39m_getFitness\u001b[39m(\u001b[39mself\u001b[39m, individual):\n\u001b[0;32m     37\u001b[0m     \u001b[39mself\u001b[39m\u001b[39m.\u001b[39mnEvaluations \u001b[39m+\u001b[39m\u001b[39m=\u001b[39m \u001b[39m1\u001b[39m\n\u001b[1;32m---> 38\u001b[0m     \u001b[39mreturn\u001b[39;00m \u001b[39mself\u001b[39;49m\u001b[39m.\u001b[39;49mfitness(individual, \u001b[39m*\u001b[39;49m\u001b[39mself\u001b[39;49m\u001b[39m.\u001b[39;49margs)\n",
      "File \u001b[1;32mc:\\Users\\lalor\\Documents\\Git\\School\\Optimización y Metaheurísticas II\\Evolutionary Computing\\Genetic Algorithms\\WorkforceScheduler\\data.py:7\u001b[0m, in \u001b[0;36mrules\u001b[1;34m(solution, breaks, people)\u001b[0m\n\u001b[0;32m      5\u001b[0m \u001b[39mfor\u001b[39;00m p \u001b[39min\u001b[39;00m solution:\n\u001b[0;32m      6\u001b[0m     _, c \u001b[39m=\u001b[39m np\u001b[39m.\u001b[39munique(p, return_counts\u001b[39m=\u001b[39m\u001b[39mTrue\u001b[39;00m)\n\u001b[1;32m----> 7\u001b[0m     \u001b[39mif\u001b[39;00m c[\u001b[39m5\u001b[39;49m] \u001b[39m==\u001b[39m \u001b[39m1\u001b[39m: fitness \u001b[39m+\u001b[39m\u001b[39m=\u001b[39m \u001b[39m1\u001b[39m \u001b[39m# Descansa\u001b[39;00m\n\u001b[0;32m      8\u001b[0m     \u001b[39mif\u001b[39;00m c[\u001b[39m6\u001b[39m] \u001b[39m+\u001b[39m c[\u001b[39m7\u001b[39m] \u001b[39m==\u001b[39m \u001b[39m1\u001b[39m: fitness \u001b[39m+\u001b[39m \u001b[39m1\u001b[39m \u001b[39m# Medio día\u001b[39;00m\n\u001b[0;32m      9\u001b[0m \u001b[39mreturn\u001b[39;00m fitness\n",
      "\u001b[1;31mIndexError\u001b[0m: index 5 is out of bounds for axis 0 with size 5"
     ]
    }
   ],
   "source": [
    "r = genetic_algorithm(rules, (breaks, people), 50, 500, dim = (len(people), 7, 0, len(breaks) + 1))\n",
    "r"
   ]
  },
  {
   "cell_type": "code",
   "execution_count": null,
   "metadata": {},
   "outputs": [],
   "source": [
    "print(np.unique(r['solution'], return_counts=True))"
   ]
  }
 ],
 "metadata": {
  "kernelspec": {
   "display_name": "Python 3.10.4 64-bit",
   "language": "python",
   "name": "python3"
  },
  "language_info": {
   "codemirror_mode": {
    "name": "ipython",
    "version": 3
   },
   "file_extension": ".py",
   "mimetype": "text/x-python",
   "name": "python",
   "nbconvert_exporter": "python",
   "pygments_lexer": "ipython3",
   "version": "3.10.4"
  },
  "orig_nbformat": 4,
  "vscode": {
   "interpreter": {
    "hash": "26de051ba29f2982a8de78e945f0abaf191376122a1563185a90213a26c5da77"
   }
  }
 },
 "nbformat": 4,
 "nbformat_minor": 2
}
