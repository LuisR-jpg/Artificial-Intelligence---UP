{
 "cells": [
  {
   "cell_type": "markdown",
   "metadata": {},
   "source": [
    "# Workforce Scheduler\n",
    "\n",
    "### Authors\n",
    "\n",
    "Sara Carolina Gomez Delgado\n",
    "\n",
    "Luis Eduardo Robles Jimenez"
   ]
  },
  {
   "cell_type": "code",
   "execution_count": 4,
   "metadata": {},
   "outputs": [],
   "source": [
    "from data import * \n",
    "from genetic_algorithm import genetic_algorithm"
   ]
  },
  {
   "cell_type": "code",
   "execution_count": 5,
   "metadata": {},
   "outputs": [
    {
     "data": {
      "text/plain": [
       "{'solution': array([[2, 5, 5, 4, 0, 6, 2],\n",
       "        [3, 6, 0, 3, 5, 4, 6],\n",
       "        [0, 3, 0, 0, 5, 0, 4],\n",
       "        [4, 3, 1, 2, 5, 2, 1],\n",
       "        [4, 2, 2, 6, 6, 3, 3],\n",
       "        [6, 3, 4, 3, 3, 5, 5],\n",
       "        [4, 3, 1, 2, 5, 2, 1],\n",
       "        [6, 2, 6, 2, 2, 4, 6],\n",
       "        [4, 5, 0, 0, 1, 1, 6],\n",
       "        [4, 3, 1, 2, 5, 2, 1],\n",
       "        [3, 4, 1, 1, 5, 0, 0],\n",
       "        [2, 5, 5, 4, 0, 6, 2],\n",
       "        [2, 5, 5, 4, 0, 6, 2],\n",
       "        [6, 3, 4, 3, 3, 5, 5],\n",
       "        [4, 5, 0, 0, 1, 1, 6],\n",
       "        [2, 5, 5, 4, 0, 6, 2],\n",
       "        [2, 5, 5, 4, 0, 6, 2],\n",
       "        [5, 4, 3, 1, 3, 2, 1],\n",
       "        [4, 3, 1, 2, 5, 2, 1],\n",
       "        [4, 3, 1, 2, 5, 2, 1]]),\n",
       " 'fitness': -69.0,\n",
       " 'callsToFunction': 2550}"
      ]
     },
     "execution_count": 5,
     "metadata": {},
     "output_type": "execute_result"
    }
   ],
   "source": [
    "r = genetic_algorithm(rules, (breaks, areas, inventario, people), 50, 50, pRep = 0.75, pMut = 0.75, dim = (len(people), 7, 0, len(breaks)))\n",
    "r"
   ]
  },
  {
   "cell_type": "code",
   "execution_count": 6,
   "metadata": {},
   "outputs": [
    {
     "data": {
      "text/plain": [
       "(-69.0,\n",
       " ['Persona 0 no tiene un medio dia',\n",
       "  'Samanta necesita los sabados',\n",
       "  'Persona 1 no tiene un medio dia',\n",
       "  'Persona 1 tiene descanso o tarde libre el domingo',\n",
       "  'Persona 1 entra tarde pero no tiene domingo',\n",
       "  'Persona 1 come igual que 2',\n",
       "  'Persona 1 descansa igual que 2',\n",
       "  'Persona 1 descansa igual que 3',\n",
       "  'Persona 2 tiene descanso o tarde libre el domingo',\n",
       "  'Persona 2 entra tarde pero no tiene domingo',\n",
       "  'Persona 2 le corresponde domingo y no tiene',\n",
       "  'Persona 2 come igual que 1',\n",
       "  'Persona 2 descansa igual que 1',\n",
       "  'Persona 2 descansa igual que 3',\n",
       "  'Persona 2 descansa igual que 3',\n",
       "  'Sonia tiene vacaciones y trabaja 5 dias',\n",
       "  'Persona 3 entra tarde pero no tiene domingo',\n",
       "  'Persona 3 descansa igual que 1',\n",
       "  'Persona 3 descansa igual que 2',\n",
       "  'Persona 3 descansa igual que 2',\n",
       "  'Persona 3 descansa igual que 4',\n",
       "  'Persona 4 no tiene un medio dia',\n",
       "  'Persona 4 tiene descanso o tarde libre el domingo',\n",
       "  'Persona 4 entra tarde pero no tiene domingo',\n",
       "  'Persona 4 descansa igual que 3',\n",
       "  'Maira quiere el miercoles',\n",
       "  'Persona 5 no tiene un medio dia',\n",
       "  'Persona 5 descansa igual que 6',\n",
       "  'Persona 5 descansa igual que 7',\n",
       "  'Persona 6 entra tarde pero no tiene domingo',\n",
       "  'Persona 6 descansa igual que 5',\n",
       "  'Persona 6 come igual que 7',\n",
       "  'Persona 6 descansa igual que 8',\n",
       "  'Persona 7 no tiene un medio dia',\n",
       "  'Persona 7 tiene descanso o tarde libre el domingo',\n",
       "  'Persona 7 descansa igual que 5',\n",
       "  'Persona 7 come igual que 6',\n",
       "  'Persona 7 descansa igual que 8',\n",
       "  'Persona 8 no tiene un medio dia',\n",
       "  'Persona 8 tiene descanso o tarde libre el domingo',\n",
       "  'Persona 8 le corresponde domingo y no tiene',\n",
       "  'Persona 8 descansa igual que 6',\n",
       "  'Persona 8 descansa igual que 7',\n",
       "  'Persona 9 entra tarde pero no tiene domingo',\n",
       "  'Persona 9 le corresponde domingo y no tiene',\n",
       "  'Persona 10 entra tarde pero no tiene domingo',\n",
       "  'Persona 11 no tiene un medio dia',\n",
       "  'Persona 11 come igual que 12',\n",
       "  'Persona 11 descansa igual que 12',\n",
       "  'Persona 11 descansa igual que 12',\n",
       "  'Persona 11 descansa igual que 12',\n",
       "  'Persona 11 come igual que 12',\n",
       "  'Persona 11 descansa igual que 12',\n",
       "  'Persona 11 come igual que 12',\n",
       "  'Persona 12 no tiene un medio dia',\n",
       "  'Persona 12 come igual que 11',\n",
       "  'Persona 12 descansa igual que 11',\n",
       "  'Persona 12 descansa igual que 11',\n",
       "  'Persona 12 descansa igual que 11',\n",
       "  'Persona 12 come igual que 11',\n",
       "  'Persona 12 descansa igual que 11',\n",
       "  'Persona 12 come igual que 11',\n",
       "  'Persona 13 no tiene un medio dia',\n",
       "  'Persona 13 descansa el miercoles y tiene inventario',\n",
       "  'Persona 13 descansa igual que 17',\n",
       "  'Persona 13 descansa igual que 18',\n",
       "  'Persona 14 no tiene un medio dia',\n",
       "  'Persona 14 tiene descanso o tarde libre el domingo',\n",
       "  'Persona 14 descansa igual que 15',\n",
       "  'Persona 14 descansa igual que 18',\n",
       "  'Persona 15 no tiene un medio dia',\n",
       "  'Persona 15 le corresponde domingo y no tiene',\n",
       "  'Persona 15 descansa el miercoles y tiene inventario',\n",
       "  'Persona 15 descansa el jueves y tiene inventario',\n",
       "  'Persona 15 descansa igual que 14',\n",
       "  'Persona 16 no tiene un medio dia',\n",
       "  'Elena descansa los lunes',\n",
       "  'Persona 17 entra tarde pero no tiene domingo',\n",
       "  'Persona 17 le corresponde domingo y no tiene',\n",
       "  'Persona 17 descansa igual que 13',\n",
       "  'Persona 17 come igual que 18',\n",
       "  'Persona 17 come igual que 18',\n",
       "  'Persona 18 entra tarde pero no tiene domingo',\n",
       "  'Persona 18 descansa igual que 13',\n",
       "  'Persona 18 descansa igual que 14',\n",
       "  'Persona 18 come igual que 17',\n",
       "  'Persona 18 come igual que 17',\n",
       "  'Persona 19 entra tarde pero no tiene domingo',\n",
       "  'Alma tiene vacaciones y trabaja 6'])"
      ]
     },
     "execution_count": 6,
     "metadata": {},
     "output_type": "execute_result"
    }
   ],
   "source": [
    "rules(r['solution'], breaks, areas, inventario, people, True)"
   ]
  }
 ],
 "metadata": {
  "kernelspec": {
   "display_name": "Python 3.10.4 64-bit",
   "language": "python",
   "name": "python3"
  },
  "language_info": {
   "codemirror_mode": {
    "name": "ipython",
    "version": 3
   },
   "file_extension": ".py",
   "mimetype": "text/x-python",
   "name": "python",
   "nbconvert_exporter": "python",
   "pygments_lexer": "ipython3",
   "version": "3.10.4"
  },
  "orig_nbformat": 4,
  "vscode": {
   "interpreter": {
    "hash": "26de051ba29f2982a8de78e945f0abaf191376122a1563185a90213a26c5da77"
   }
  }
 },
 "nbformat": 4,
 "nbformat_minor": 2
}
