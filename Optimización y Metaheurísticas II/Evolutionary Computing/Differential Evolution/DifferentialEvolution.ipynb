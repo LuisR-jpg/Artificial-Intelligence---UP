{
 "cells": [
  {
   "cell_type": "code",
   "execution_count": null,
   "metadata": {},
   "outputs": [],
   "source": [
    "import numpy as np\n",
    "import matplotlib.pyplot as plt\n",
    "import cv2\n",
    "from skimage import io, color"
   ]
  },
  {
   "cell_type": "code",
   "execution_count": null,
   "metadata": {},
   "outputs": [],
   "source": [
    "img = cv2.cvtColor(cv2.imread(\"../data/MissRiviere.jpg\"), cv2.COLOR_BGR2RGB)\n",
    "#plt.imshow(cv2.cvtColor(img, cv2.COLOR_BGR2RGB))\n",
    "plt.imshow(img)\n",
    "plt.show()\n",
    "\n",
    "img = color.rgb2lab(img)"
   ]
  },
  {
   "cell_type": "code",
   "execution_count": null,
   "metadata": {},
   "outputs": [],
   "source": [
    "def objective_function(vec,out, img):\n",
    "    # blank mask for drawing the shapes\n",
    "    shapes = np.zeros_like(img)\n",
    "    t = np.copy(out)\n",
    "    # draw circle\n",
    "    cv2.circle(shapes, (int(vec[0]), int(vec[1])), int(vec[2]), (vec[3], vec[4], vec[5]), cv2.FILLED)\n",
    "    mask = shapes.astype(bool)\n",
    "    t[mask] = cv2.addWeighted(t, 1-vec[6], shapes, vec[6], 0)[mask]\n",
    "\n",
    "    # plt.imshow(t)\n",
    "    # plt.show()\n",
    "\n",
    "    #bt = t[: ,: ,0]\n",
    "    #gt = t[: ,: ,1]\n",
    "    #rt = t[: ,: ,2]\n",
    "    #bImg = img[:,:,0]\n",
    "    #gImg = img[:,:,1]\n",
    "    #rImg= img[:,:,2]\n",
    "    # print(\"(\",vec[3],vec[4],vec[5],\")\")\n",
    "    #t = color.rgb2lab(t)\n",
    "    #return np.sum(color.deltaE_cie76(t, img))\n",
    "    return np.sum(np.abs(np.subtract(img,t))) \n",
    "\n",
    "    #b  = f1_score(bImg, bt, average='micro')\n",
    "    #g =  f1_score(gImg, gt, average='micro')\n",
    "    #r =  f1_score(rImg, rt, average='micro')\n",
    "    #return np.average((r, g, b)) \n",
    "    \n",
    "out = np.zeros_like(img)\n",
    "objective_function([100,90, 8, 0,0,255,0.3], out, img) #X,Y,r,R,G,B,alpha"
   ]
  },
  {
   "cell_type": "code",
   "execution_count": null,
   "metadata": {},
   "outputs": [],
   "source": [
    "def draw_circle(vec, out, print = False):\n",
    "    shapes = np.zeros_like(out)\n",
    "\n",
    "    cv2.circle(shapes, (int(vec[0]), int(vec[1])), int(vec[2]), (vec[3], vec[4], vec[5]), cv2.FILLED)\n",
    "    mask = shapes.astype(bool)\n",
    "    out[mask] = cv2.addWeighted(out, 1-vec[6], shapes, vec[6], 0)[mask]\n",
    "\n",
    "    if print:\n",
    "        plt.imshow(out)\n",
    "        plt.show()"
   ]
  },
  {
   "cell_type": "code",
   "execution_count": null,
   "metadata": {},
   "outputs": [],
   "source": [
    "w,h,c = img.shape\n",
    "\n",
    "bounds = [\n",
    "    [0,w],# x\n",
    "    [0,h], # y\n",
    "    [5, (w + h)//4], # radius\n",
    "    [0,255], # R\n",
    "    [0,255], # G\n",
    "    [0,255], # B\n",
    "    [0.3,1], # alpha\n",
    "]\n",
    "\n",
    "nIter = 1"
   ]
  },
  {
   "cell_type": "markdown",
   "metadata": {},
   "source": [
    "# Our Differential Evolution"
   ]
  },
  {
   "cell_type": "code",
   "execution_count": null,
   "metadata": {},
   "outputs": [],
   "source": [
    "from differential_evolution import differential_evolution"
   ]
  },
  {
   "cell_type": "code",
   "execution_count": null,
   "metadata": {},
   "outputs": [],
   "source": [
    "out = np.zeros_like(img)\n",
    "for i in range(nIter):\n",
    "    r = differential_evolution(objective_function, bounds, args = (out, img), popSize=5, cR = 0.4, nGen = 800) #The smaller cR is, it takes less risks\n",
    "    if i % (nIter // np.min((nIter, 5))): \n",
    "        draw_circle(r[\"P\"], out)\n",
    "    else:\n",
    "        print(i, r)\n",
    "        draw_circle(r[\"P\"], out, True)\n",
    "plt.imshow(out)"
   ]
  },
  {
   "cell_type": "markdown",
   "metadata": {},
   "source": [
    "# Scipy Differential Evolution"
   ]
  },
  {
   "cell_type": "code",
   "execution_count": null,
   "metadata": {},
   "outputs": [],
   "source": [
    "from scipy.optimize import differential_evolution"
   ]
  },
  {
   "cell_type": "code",
   "execution_count": null,
   "metadata": {},
   "outputs": [],
   "source": [
    "out = np.zeros_like(img)\n",
    "for i in range(nIter):\n",
    "    res = differential_evolution(objective_function, bounds, args=(out,img))\n",
    "    # plt.imshow(cv2.cvtColor(out, cv2.COLOR_BGR2RGB))\n",
    "    # plt.show()\n",
    "    if i % (nIter // np.min((nIter, 5))): draw_circle(res.x, out)\n",
    "    else:\n",
    "        draw_circle(res.x, out, True)\n",
    "        print(i, res)\n",
    "plt.imshow(out)"
   ]
  },
  {
   "cell_type": "markdown",
   "metadata": {},
   "source": [
    "# Project\n",
    "\n",
    "## Recommendation\n",
    "\n",
    "Work along *scipy*. The idea is to make the project behave as scipy does.\n",
    "\n",
    "Start with something small and easy. With few details and an image of 200 x 200 approx.\n",
    "\n",
    "## Individual\n",
    "\n",
    "The individual is recommended to have:\n",
    "\n",
    "- **x** - x coordinate value of the circle.\n",
    "\n",
    "- **y** - y coordinate value of the circle.\n",
    "\n",
    "- **r** - Radius of the circle, recommended value is (3 or something like that to half the image size).\n",
    "\n",
    "- **Colors** - RGBA\n",
    "\n",
    "    - Alpha is optional.\n",
    "\n",
    "## How it works\n",
    "\n",
    "This algorithm has to execute itself as many times as circles the image has.\n",
    "\n",
    "Each execution will add a new circle that minimizes the difference between the image we're building and the target one."
   ]
  }
 ],
 "metadata": {
  "kernelspec": {
   "display_name": "Python 3.8.10 64-bit",
   "language": "python",
   "name": "python3"
  },
  "language_info": {
   "codemirror_mode": {
    "name": "ipython",
    "version": 3
   },
   "file_extension": ".py",
   "mimetype": "text/x-python",
   "name": "python",
   "nbconvert_exporter": "python",
   "pygments_lexer": "ipython3",
   "version": "3.8.10"
  },
  "orig_nbformat": 4,
  "vscode": {
   "interpreter": {
    "hash": "916dbcbb3f70747c44a77c7bcd40155683ae19c65e1c03b4aa3499c5328201f1"
   }
  }
 },
 "nbformat": 4,
 "nbformat_minor": 2
}
