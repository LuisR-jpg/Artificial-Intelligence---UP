{
 "cells": [
  {
   "cell_type": "code",
   "execution_count": 1,
   "metadata": {},
   "outputs": [],
   "source": [
    "import numpy as np\n",
    "import pandas\n",
    "import matplotlib.pyplot as plt"
   ]
  },
  {
   "cell_type": "markdown",
   "metadata": {},
   "source": [
    "# Project\n",
    "\n",
    "## Recommendation\n",
    "\n",
    "Work along *scipy*. The idea is to make the project behave as scipy does.\n",
    "\n",
    "Start with something small and easy. With few details and an image of 200 x 200 approx.\n",
    "\n",
    "## Individual\n",
    "\n",
    "The individual is recommended to have:\n",
    "\n",
    "- **x** - x coordinate value of the circle.\n",
    "\n",
    "- **y** - y coordinate value of the circle.\n",
    "\n",
    "- **r** - Radius of the circle, recommended value is (3 or something like that to half the image size).\n",
    "\n",
    "- **Colors** - RGBA\n",
    "\n",
    "    - Alpha is optional.\n",
    "\n",
    "## How it works\n",
    "\n",
    "This algorithm has to execute itself as many times as circles the image has.\n",
    "\n",
    "Each execution will add a new circle that minimizes the difference between the image we're building and the target one."
   ]
  }
 ],
 "metadata": {
  "kernelspec": {
   "display_name": "Python 3.8.10 64-bit",
   "language": "python",
   "name": "python3"
  },
  "language_info": {
   "codemirror_mode": {
    "name": "ipython",
    "version": 3
   },
   "file_extension": ".py",
   "mimetype": "text/x-python",
   "name": "python",
   "nbconvert_exporter": "python",
   "pygments_lexer": "ipython3",
   "version": "3.8.10"
  },
  "orig_nbformat": 4,
  "vscode": {
   "interpreter": {
    "hash": "916dbcbb3f70747c44a77c7bcd40155683ae19c65e1c03b4aa3499c5328201f1"
   }
  }
 },
 "nbformat": 4,
 "nbformat_minor": 2
}
