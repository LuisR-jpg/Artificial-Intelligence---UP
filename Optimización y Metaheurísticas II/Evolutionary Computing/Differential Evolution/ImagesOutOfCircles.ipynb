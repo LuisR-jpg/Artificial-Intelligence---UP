{
 "cells": [
  {
   "cell_type": "markdown",
   "metadata": {},
   "source": [
    "# Create image out of Circles"
   ]
  },
  {
   "cell_type": "markdown",
   "metadata": {},
   "source": [
    "## Util"
   ]
  },
  {
   "cell_type": "code",
   "execution_count": null,
   "metadata": {},
   "outputs": [],
   "source": [
    "import numpy as np\n",
    "import matplotlib.pyplot as plt\n",
    "import cv2"
   ]
  },
  {
   "cell_type": "code",
   "execution_count": null,
   "metadata": {},
   "outputs": [],
   "source": [
    "def objective_function(vec,out, img):\n",
    "    shapes, t = np.copy(out), np.copy(out)\n",
    "    cv2.circle(shapes, (int(vec[0]), int(vec[1])), int(vec[2]), (vec[3], vec[4], vec[5]), cv2.FILLED)\n",
    "    t = cv2.addWeighted(t, 1-vec[6], shapes, vec[6], 0)\n",
    "    return np.sum(np.abs(np.subtract(img, t))) "
   ]
  },
  {
   "cell_type": "code",
   "execution_count": null,
   "metadata": {},
   "outputs": [],
   "source": [
    "def draw_circle(vec, out, p = False):\n",
    "    shapes = np.copy(out)\n",
    "    cv2.circle(shapes, (int(vec[0]), int(vec[1])), int(vec[2]), (int(vec[3]), int(vec[4]), int(vec[5])), cv2.FILLED)\n",
    "    out = cv2.addWeighted(out, 1-vec[6], shapes, vec[6], 0)\n",
    "    if p: plt.imshow(out), plt.show()\n",
    "    return out"
   ]
  },
  {
   "cell_type": "markdown",
   "metadata": {},
   "source": [
    "### Make Animation"
   ]
  },
  {
   "cell_type": "code",
   "execution_count": null,
   "metadata": {},
   "outputs": [],
   "source": [
    "def createAnimation(data):\n",
    "    import matplotlib.animation as animation\n",
    "    import time\n",
    "\n",
    "    fig = plt.figure()\n",
    "\n",
    "    def animate(frame_number):\n",
    "        global imageToAnimate\n",
    "        imageToAnimate = draw_circle(data[frame_number], imageToAnimate)\n",
    "        plt.imshow(imageToAnimate)\n",
    "\n",
    "    global imageToAnimate\n",
    "    imageToAnimate = np.zeros(img.shape, np.uint8)\n",
    "    plt.imshow(imageToAnimate)\n",
    "    anim = animation.FuncAnimation(fig, animate, frames=data.shape[0], interval=5)\n",
    "\n",
    "    f = str(int(time.time())) + \".gif\"\n",
    "    writervideo = animation.PillowWriter(fps=60)\n",
    "    anim.save(f, writer=writervideo)"
   ]
  },
  {
   "cell_type": "markdown",
   "metadata": {},
   "source": [
    "## Our Differential Evolution"
   ]
  },
  {
   "cell_type": "code",
   "execution_count": null,
   "metadata": {},
   "outputs": [],
   "source": [
    "def executeOurs(img, objectiveFunction, bounds, nIter = 30, cR = 0.5, popSize = 25, nMax = 300, animate = False, display = 5):\n",
    "    from differential_evolution import differential_evolution\n",
    "    out = np.zeros_like(img)\n",
    "    data = np.zeros((nIter, len(bounds)))\n",
    "    lastFitness = 100000000\n",
    "    for i in range(nIter):\n",
    "        r = differential_evolution(objectiveFunction, bounds, args = (out, img), popSize=popSize, cR = cR, nMax = nMax)\n",
    "        if r['fun'] > lastFitness: continue\n",
    "        if animate: data[i] = r[\"P\"]\n",
    "        if i % (nIter // np.min((nIter, display))): \n",
    "            out = draw_circle(r[\"P\"], out)\n",
    "        else:\n",
    "            print(i, r)\n",
    "            out = draw_circle(r[\"P\"], out, True)\n",
    "        lastFitness = r['fun']\n",
    "    plt.figure(figsize=(10,5))\n",
    "    plt.subplot(1,2,1)\n",
    "    plt.imshow(img)\n",
    "    plt.subplot(1,2,2)\n",
    "    plt.imshow(out) \n",
    "    if animate: createAnimation(data)"
   ]
  },
  {
   "cell_type": "markdown",
   "metadata": {},
   "source": [
    "## Scipy Differential Evolution"
   ]
  },
  {
   "cell_type": "markdown",
   "metadata": {},
   "source": [
    "## Execution"
   ]
  },
  {
   "cell_type": "code",
   "execution_count": null,
   "metadata": {},
   "outputs": [],
   "source": [
    "def executeTheirs(img, objectiveFunction, bounds, nIter = 30, cR = 0.5, popSize = 25, nMax = 300, animate = False, display = 5):\n",
    "    from scipy.optimize import differential_evolution\n",
    "    out = np.zeros_like(img)\n",
    "    data = np.zeros((nIter, len(bounds)))\n",
    "    lastFitness = 100000000\n",
    "    for i in range(nIter):\n",
    "        r = differential_evolution(objective_function, bounds, args=(out,img), recombination = cR, popsize = popSize, maxiter = nMax)\n",
    "        if r.fun > lastFitness: continue\n",
    "        if animate: data[i] = r.x\n",
    "        if i % (nIter // np.min((nIter, display))): out = draw_circle(r.x, out)\n",
    "        else:\n",
    "            print(i, r)\n",
    "            out = draw_circle(r.x, out, True)\n",
    "        lastFitness = r.fun\n",
    "    plt.figure(figsize=(10,5))\n",
    "    plt.subplot(1,2,1)\n",
    "    plt.imshow(img)\n",
    "    plt.subplot(1,2,2)\n",
    "    plt.imshow(out) \n",
    "    if animate: createAnimation(data)"
   ]
  },
  {
   "cell_type": "code",
   "execution_count": null,
   "metadata": {},
   "outputs": [],
   "source": [
    "nIter, cR, popSize, nMax = 300, 0.60, 25, 750\n",
    "#nIter, cR, popSize, nMax = 3, 0.60, 2, 7"
   ]
  },
  {
   "cell_type": "code",
   "execution_count": null,
   "metadata": {},
   "outputs": [],
   "source": [
    "img = cv2.cvtColor(cv2.imread(\"../data/JoeCool.jpg\"), cv2.COLOR_BGR2RGB)\n",
    "plt.imshow(img)\n",
    "plt.show()\n",
    "\n",
    "h, w, c = img.shape\n",
    "bounds = [\n",
    "    [0, w],             # X\n",
    "    [0, h],             # Y\n",
    "    [5, (w + h)//4],    # radius\n",
    "    [0, 255],           # R\n",
    "    [0, 255],           # G\n",
    "    [0, 255],           # B\n",
    "    [0.3, 1],           # alpha\n",
    "]"
   ]
  },
  {
   "cell_type": "code",
   "execution_count": null,
   "metadata": {},
   "outputs": [],
   "source": [
    "executeOurs(img, objective_function, bounds, nIter, cR, popSize, nMax, True, 5)"
   ]
  },
  {
   "cell_type": "code",
   "execution_count": null,
   "metadata": {},
   "outputs": [],
   "source": [
    "img = cv2.cvtColor(cv2.imread(\"../data/Mushroom.jpg\"), cv2.COLOR_BGR2RGB)\n",
    "plt.imshow(img)\n",
    "plt.show()\n",
    "\n",
    "h, w, c = img.shape\n",
    "bounds = [\n",
    "    [0, w],             # X\n",
    "    [0, h],             # Y\n",
    "    [5, (w + h)//4],    # radius\n",
    "    [0, 255],           # R\n",
    "    [0, 255],           # G\n",
    "    [0, 255],           # B\n",
    "    [0.3, 1],           # alpha\n",
    "]"
   ]
  },
  {
   "cell_type": "code",
   "execution_count": null,
   "metadata": {},
   "outputs": [],
   "source": [
    "executeOurs(img, objective_function, bounds, nIter, cR, popSize, nMax, True, 5)"
   ]
  },
  {
   "cell_type": "code",
   "execution_count": null,
   "metadata": {},
   "outputs": [],
   "source": [
    "img = cv2.cvtColor(cv2.imread(\"../data/StarryNight.jpg\"), cv2.COLOR_BGR2RGB)\n",
    "plt.imshow(img)\n",
    "plt.show()\n",
    "\n",
    "h, w, c = img.shape\n",
    "bounds = [\n",
    "    [0, w],             # X\n",
    "    [0, h],             # Y\n",
    "    [5, (w + h)//4],    # radius\n",
    "    [0, 255],           # R\n",
    "    [0, 255],           # G\n",
    "    [0, 255],           # B\n",
    "    [0.3, 1],           # alpha\n",
    "]"
   ]
  },
  {
   "cell_type": "code",
   "execution_count": null,
   "metadata": {},
   "outputs": [],
   "source": [
    "executeOurs(img, objective_function, bounds, nIter, cR, popSize, nMax, True, 5)"
   ]
  },
  {
   "cell_type": "code",
   "execution_count": null,
   "metadata": {},
   "outputs": [],
   "source": [
    "img = cv2.cvtColor(cv2.imread(\"../data/Imperfectus.png\"), cv2.COLOR_BGR2RGB)\n",
    "plt.imshow(img)\n",
    "plt.show()\n",
    "\n",
    "h, w, c = img.shape\n",
    "bounds = [\n",
    "    [0, w],             # X\n",
    "    [0, h],             # Y\n",
    "    [5, (w + h)//4],    # radius\n",
    "    [0, 255],           # R\n",
    "    [0, 255],           # G\n",
    "    [0, 255],           # B\n",
    "    [0.3, 1],           # alpha\n",
    "]"
   ]
  },
  {
   "cell_type": "code",
   "execution_count": null,
   "metadata": {},
   "outputs": [],
   "source": [
    "executeOurs(img, objective_function, bounds, nIter + 700, cR, popSize + 25, nMax, True, 5)"
   ]
  },
  {
   "cell_type": "code",
   "execution_count": null,
   "metadata": {},
   "outputs": [],
   "source": [
    "img = cv2.cvtColor(cv2.imread(\"../data/BiggerMonaLisa.jpg\"), cv2.COLOR_BGR2RGB)\n",
    "plt.imshow(img)\n",
    "plt.show()\n",
    "\n",
    "h, w, c = img.shape\n",
    "bounds = [\n",
    "    [0, w],             # X\n",
    "    [0, h],             # Y\n",
    "    [5, (w + h)//4],    # radius\n",
    "    [0, 255],           # R\n",
    "    [0, 255],           # G\n",
    "    [0, 255],           # B\n",
    "    [0.3, 1],           # alpha\n",
    "]"
   ]
  },
  {
   "cell_type": "code",
   "execution_count": null,
   "metadata": {},
   "outputs": [],
   "source": [
    "executeOurs(img, objective_function, bounds, nIter, cR, popSize, nMax, True, 5)"
   ]
  },
  {
   "cell_type": "code",
   "execution_count": null,
   "metadata": {},
   "outputs": [],
   "source": [
    "executeTheirs(img, objective_function, bounds, nIter, cR, popSize, nMax, False, 5)"
   ]
  }
 ],
 "metadata": {
  "kernelspec": {
   "display_name": "Python 3.10.4 64-bit",
   "language": "python",
   "name": "python3"
  },
  "language_info": {
   "codemirror_mode": {
    "name": "ipython",
    "version": 3
   },
   "file_extension": ".py",
   "mimetype": "text/x-python",
   "name": "python",
   "nbconvert_exporter": "python",
   "pygments_lexer": "ipython3",
   "version": "3.10.4"
  },
  "orig_nbformat": 4,
  "vscode": {
   "interpreter": {
    "hash": "26de051ba29f2982a8de78e945f0abaf191376122a1563185a90213a26c5da77"
   }
  }
 },
 "nbformat": 4,
 "nbformat_minor": 2
}
