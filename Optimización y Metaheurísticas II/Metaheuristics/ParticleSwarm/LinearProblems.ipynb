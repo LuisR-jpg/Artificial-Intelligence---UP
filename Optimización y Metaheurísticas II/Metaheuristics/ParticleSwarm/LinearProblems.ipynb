{
 "cells": [
  {
   "cell_type": "code",
   "execution_count": 1,
   "metadata": {},
   "outputs": [],
   "source": [
    "import numpy as np\n",
    "from scipy.optimize import linprog\n",
    "from particle_swarm_optimization import particle_swarm_optimization"
   ]
  },
  {
   "cell_type": "markdown",
   "metadata": {},
   "source": [
    "# Linear programming problems"
   ]
  },
  {
   "cell_type": "markdown",
   "metadata": {},
   "source": [
    "## Problem I"
   ]
  },
  {
   "cell_type": "markdown",
   "metadata": {},
   "source": [
    "### Description\n",
    "\n",
    "Un herrero con 80 Kg. de acero y 120 Kg. de aluminio quiere hacer bicicletas de paseo y de montaña que\n",
    "quiere vender, respectivamente a 20.000 y 15.000 pesos cada una para sacar el máximo beneficio. Para la de\n",
    "paseo empleará 1 kg de acero y 3 kg de aluminio, y para la de montaña 2 kg de ambos metales. ¿Cuántas\n",
    "bicicletas de paseo y de montaña deberá fabricar para maximizar las utilidades?"
   ]
  },
  {
   "cell_type": "markdown",
   "metadata": {},
   "source": [
    "### Model\n",
    "\n",
    "$$ Max(20000p + 15000m) $$\n",
    "\n",
    "$$ Min(-(20000p + 15000m)) $$\n",
    "\n",
    "#### Sujeto a\n",
    "\n",
    "$$ 1p + 2m <= 80 $$\n",
    "\n",
    "$$ 3p + 2m <= 120 $$\n",
    "\n",
    "$$ p >= 0 $$\n",
    "\n",
    "$$ m >= 0 $$\n",
    "\n",
    "#### Donde \n",
    "\n",
    "*m*: Numero de bicicletas de montana.\n",
    "\n",
    "*p*: Numero de bicicletas de paseo."
   ]
  },
  {
   "cell_type": "markdown",
   "metadata": {},
   "source": [
    "### Solution"
   ]
  },
  {
   "cell_type": "markdown",
   "metadata": {},
   "source": [
    "#### Scipy's linprog"
   ]
  },
  {
   "cell_type": "code",
   "execution_count": 2,
   "metadata": {},
   "outputs": [
    {
     "data": {
      "text/plain": [
       "           con: array([], dtype=float64)\n",
       " crossover_nit: 0\n",
       "         eqlin:  marginals: array([], dtype=float64)\n",
       "  residual: array([], dtype=float64)\n",
       "           fun: -850000.0\n",
       "       ineqlin:  marginals: array([-1250., -6250.])\n",
       "  residual: array([0., 0.])\n",
       "         lower:  marginals: array([0., 0.])\n",
       "  residual: array([20., 30.])\n",
       "       message: 'Optimization terminated successfully. (HiGHS Status 7: Optimal)'\n",
       "           nit: 2\n",
       "         slack: array([0., 0.])\n",
       "        status: 0\n",
       "       success: True\n",
       "         upper:  marginals: array([0., 0.])\n",
       "  residual: array([inf, inf])\n",
       "             x: array([20., 30.])"
      ]
     },
     "execution_count": 2,
     "metadata": {},
     "output_type": "execute_result"
    }
   ],
   "source": [
    "A = [[1, 2], [3, 2]]\n",
    "b = [80, 120]\n",
    "bounds = [[0, None], [0, None]]\n",
    "c = [-20000, -15000]\n",
    "\n",
    "linprog(c, A_ub = A, b_ub = b, bounds = bounds)"
   ]
  },
  {
   "cell_type": "markdown",
   "metadata": {},
   "source": [
    "#### Our particle swarm"
   ]
  },
  {
   "cell_type": "code",
   "execution_count": 3,
   "metadata": {},
   "outputs": [
    {
     "data": {
      "text/plain": [
       "{'sol': array([20.16210597, 29.67714122]), 'func': -848399.2377652556}"
      ]
     },
     "execution_count": 3,
     "metadata": {},
     "output_type": "execute_result"
    }
   ],
   "source": [
    "def ob(x):\n",
    "    p, m = x\n",
    "    return -(20000*p + 15000*m)\n",
    "def isFeasible(x) -> bool:\n",
    "    p, m = x\n",
    "    if p < 0 or m < 0: return False\n",
    "    if p + 2*m > 80: return False\n",
    "    if 3*p + 2*m > 120: return False\n",
    "    return True\n",
    "b = [[0, 50], [0, 50]]\n",
    "particle_swarm_optimization(ob, isFeasible, b)"
   ]
  },
  {
   "cell_type": "markdown",
   "metadata": {},
   "source": [
    "## Problem II"
   ]
  },
  {
   "cell_type": "markdown",
   "metadata": {},
   "source": [
    "### Description\n",
    "\n",
    "Una compañía fabrica y venden dos modelos de lámpara L1 y L2. Para su fabricación se necesita un trabajo\n",
    "manual de 20 minutos para el modelo L1 y de 30 minutos para el L2; y un trabajo de máquina de 10 minutos para\n",
    "L1 y de 10 minutos para L2. Se dispone para el trabajo manual de 100 horas al mes y para la máquina 80 horas\n",
    "al mes. Sabiendo que el beneficio por unidad es de 15 y 10 euros para L1 y L2, respectivamente, planificar la\n",
    "producción para obtener el máximo beneficio."
   ]
  },
  {
   "cell_type": "markdown",
   "metadata": {},
   "source": [
    "### Model\n",
    "\n",
    "$$ Max(15L_1 + 10L_2) $$\n",
    "\n",
    "$$ Min(-(15L_1 + 10L_2)) $$\n",
    "\n",
    "#### Sujeto a\n",
    "\n",
    "$$ 20L_1 + 30L_2 <= 100*60 $$\n",
    "\n",
    "$$ 10L_1 + 10L_2 <= 80*60 $$\n",
    "\n",
    "$$ L_1 >= 0 $$\n",
    "\n",
    "$$ L_2 >= 0 $$\n",
    "\n",
    "#### Donde \n",
    "\n",
    "*L_1*: Numero de lamparas tipo uno.\n",
    "\n",
    "*L_2*: Numero de lamparas tipo dos."
   ]
  },
  {
   "cell_type": "markdown",
   "metadata": {},
   "source": [
    "### Solution"
   ]
  },
  {
   "cell_type": "markdown",
   "metadata": {},
   "source": [
    "#### Scipy's linprog"
   ]
  },
  {
   "cell_type": "code",
   "execution_count": 4,
   "metadata": {},
   "outputs": [
    {
     "data": {
      "text/plain": [
       "           con: array([], dtype=float64)\n",
       " crossover_nit: 0\n",
       "         eqlin:  marginals: array([], dtype=float64)\n",
       "  residual: array([], dtype=float64)\n",
       "           fun: -4500.0\n",
       "       ineqlin:  marginals: array([-0.75, -0.  ])\n",
       "  residual: array([   0., 1800.])\n",
       "         lower:  marginals: array([ 0. , 12.5])\n",
       "  residual: array([300.,   0.])\n",
       "       message: 'Optimization terminated successfully. (HiGHS Status 7: Optimal)'\n",
       "           nit: 2\n",
       "         slack: array([   0., 1800.])\n",
       "        status: 0\n",
       "       success: True\n",
       "         upper:  marginals: array([0., 0.])\n",
       "  residual: array([inf, inf])\n",
       "             x: array([300.,   0.])"
      ]
     },
     "execution_count": 4,
     "metadata": {},
     "output_type": "execute_result"
    }
   ],
   "source": [
    "A = [[20, 30], [10, 10]]\n",
    "b = [100*60, 80*60]\n",
    "bounds = [[0, None], [0, None]]\n",
    "c = [-15, -10]\n",
    "\n",
    "linprog(c, A_ub = A, b_ub = b, bounds = bounds)"
   ]
  },
  {
   "cell_type": "markdown",
   "metadata": {},
   "source": [
    "#### Our particle swarm"
   ]
  },
  {
   "cell_type": "code",
   "execution_count": null,
   "metadata": {},
   "outputs": [],
   "source": [
    "def ob(x):\n",
    "    p, m = x\n",
    "    return -(20000*p + 15000*m)\n",
    "def isFeasible(x) -> bool:\n",
    "    p, m = x\n",
    "    if p < 0 or m < 0: return False\n",
    "    if p + 2*m > 80: return False\n",
    "    if 3*p + 2*m > 120: return False\n",
    "    return True\n",
    "b = [[0, 50], [0, 50]]\n",
    "particle_swarm_optimization(ob, isFeasible, b)"
   ]
  },
  {
   "cell_type": "markdown",
   "metadata": {},
   "source": [
    "## Problem III"
   ]
  },
  {
   "cell_type": "markdown",
   "metadata": {},
   "source": [
    "### Description\n",
    "\n",
    "En una granja de pollos se da una dieta, para engordar, con una composición mínima de 15 unidades de una\n",
    "sustancia A y otras 15 de una sustancia B. En el mercado sólo se encuentra dos clases de compuestos: el tipo X\n",
    "con una composición de una unidad de A y 5 de B, y el otro tipo, Y, con una composición de cinco unidades de A\n",
    "y una de B. El precio del tipo X es de 10 euros y del tipo Y es de 30 €. ¿Qué cantidades se han de comprar de\n",
    "cada tipo para cubrir las necesidades con un coste mínimo?"
   ]
  },
  {
   "cell_type": "markdown",
   "metadata": {},
   "source": [
    "### Model\n",
    "\n",
    "$$ Min(10x + 30y) $$\n",
    "\n",
    "#### Sujeto a \n",
    "\n",
    "$$ -(x + 5y) <= -15 $$\n",
    "\n",
    "$$ -(5x + y) <= -15 $$\n",
    "\n",
    "$$ x >= 0 $$\n",
    "\n",
    "$$ y >= 0 $$\n",
    "\n",
    "#### Donde\n",
    "\n",
    "*x*: Numero de tipos x\n",
    "*y*: Numero de tipos y"
   ]
  },
  {
   "cell_type": "markdown",
   "metadata": {},
   "source": [
    "### Solution"
   ]
  },
  {
   "cell_type": "markdown",
   "metadata": {},
   "source": [
    "#### Scipy's linprog"
   ]
  },
  {
   "cell_type": "code",
   "execution_count": 5,
   "metadata": {},
   "outputs": [
    {
     "data": {
      "text/plain": [
       "           con: array([], dtype=float64)\n",
       " crossover_nit: 0\n",
       "         eqlin:  marginals: array([], dtype=float64)\n",
       "  residual: array([], dtype=float64)\n",
       "           fun: 100.0\n",
       "       ineqlin:  marginals: array([-5.83333333, -0.83333333])\n",
       "  residual: array([0., 0.])\n",
       "         lower:  marginals: array([0., 0.])\n",
       "  residual: array([2.5, 2.5])\n",
       "       message: 'Optimization terminated successfully. (HiGHS Status 7: Optimal)'\n",
       "           nit: 2\n",
       "         slack: array([0., 0.])\n",
       "        status: 0\n",
       "       success: True\n",
       "         upper:  marginals: array([0., 0.])\n",
       "  residual: array([inf, inf])\n",
       "             x: array([2.5, 2.5])"
      ]
     },
     "execution_count": 5,
     "metadata": {},
     "output_type": "execute_result"
    }
   ],
   "source": [
    "A = [[-1, -5], [-5, -1]]\n",
    "b = [-15, -15]\n",
    "bounds = [[0, None], [0, None]]\n",
    "c = [10, 30]\n",
    "\n",
    "linprog(c, A_ub = A, b_ub = b, bounds = bounds)"
   ]
  },
  {
   "cell_type": "markdown",
   "metadata": {},
   "source": [
    "#### Our particle swarm"
   ]
  },
  {
   "cell_type": "markdown",
   "metadata": {},
   "source": [
    "## Problem IV"
   ]
  },
  {
   "cell_type": "markdown",
   "metadata": {},
   "source": [
    "### Description\n",
    "\n",
    "Con el comienzo del curso se va a lanzar unas ofertas de material escolar. Unos almacenes quieren ofrecer\n",
    "600 cuadernos, 500 carpetas y 400 bolígrafos para la oferta, empaquetándolo de dos formas distintas; en el\n",
    "primer bloque pondrá 2 cuadernos, 1 carpeta y 2 bolígrafos; en el segundo, pondrán 3 cuadernos, 1 carpeta y 1\n",
    "bolígrafo. Los precios de cada paquete serán 6.5 y 7 €, respectivamente. ¿Cuántos paquetes le convienen poner\n",
    "de cada tipo para obtener el máximo beneficio?"
   ]
  },
  {
   "cell_type": "markdown",
   "metadata": {},
   "source": [
    "### Model\n",
    "\n",
    "$$ Max(6.5A + 7B) $$\n",
    "\n",
    "$$ Min(-(6.5A + 7B)) $$\n",
    "\n",
    "#### Sujeto a \n",
    "\n",
    "$$ 2A + 3B <= 600 $$\n",
    "\n",
    "$$ A + B <= 500 $$\n",
    "\n",
    "$$ 2A + B <= 400 $$\n",
    "\n",
    "$$ A >= 0 $$\n",
    "\n",
    "$$ B >= 0 $$\n",
    "\n",
    "#### Donde\n",
    "\n",
    "*A*: Numero de bloques uno\n",
    "\n",
    "*B*: Numero de bloques dos"
   ]
  },
  {
   "cell_type": "markdown",
   "metadata": {},
   "source": [
    "### Solution"
   ]
  },
  {
   "cell_type": "markdown",
   "metadata": {},
   "source": [
    "#### Scipy's linprog"
   ]
  },
  {
   "cell_type": "code",
   "execution_count": 6,
   "metadata": {},
   "outputs": [
    {
     "data": {
      "text/plain": [
       "           con: array([], dtype=float64)\n",
       " crossover_nit: 0\n",
       "         eqlin:  marginals: array([], dtype=float64)\n",
       "  residual: array([], dtype=float64)\n",
       "           fun: -1675.0\n",
       "       ineqlin:  marginals: array([-1.875, -0.   , -1.375])\n",
       "  residual: array([  0., 250.,   0.])\n",
       "         lower:  marginals: array([0., 0.])\n",
       "  residual: array([150., 100.])\n",
       "       message: 'Optimization terminated successfully. (HiGHS Status 7: Optimal)'\n",
       "           nit: 2\n",
       "         slack: array([  0., 250.,   0.])\n",
       "        status: 0\n",
       "       success: True\n",
       "         upper:  marginals: array([0., 0.])\n",
       "  residual: array([inf, inf])\n",
       "             x: array([150., 100.])"
      ]
     },
     "execution_count": 6,
     "metadata": {},
     "output_type": "execute_result"
    }
   ],
   "source": [
    "A = [[2, 3], [1, 1], [2, 1]]\n",
    "b = [600, 500, 400]\n",
    "bounds = [[0, None], [0, None]]\n",
    "c = [-6.5, -7]\n",
    "\n",
    "linprog(c, A_ub = A, b_ub = b, bounds = bounds)"
   ]
  },
  {
   "cell_type": "markdown",
   "metadata": {},
   "source": [
    "#### Our particle swarm"
   ]
  },
  {
   "cell_type": "markdown",
   "metadata": {},
   "source": [
    "## Problem V"
   ]
  },
  {
   "cell_type": "markdown",
   "metadata": {},
   "source": [
    "### Description\n",
    "\n",
    "Una escuela prepara una excursión para 400 alumnos. La empresa de transporte tiene 8 autobuses de 40\n",
    "plazas y 10 de 50 plazas, pero sólo dispone de 9 conductores. El alquiler de un autocar grande cuesta 800 € y el\n",
    "de uno pequeño 600 €. Calcular cuántos autobuses de cada tipo hay que utilizar para que la excursión resulte lo\n",
    "más económica posible para la escuela."
   ]
  },
  {
   "cell_type": "markdown",
   "metadata": {},
   "source": [
    "### Model\n",
    "\n",
    "$$ Min(600A + 800B) $$\n",
    "\n",
    "#### Sujeto a\n",
    "\n",
    "$$ -(40A + 50B) <= -400 $$\n",
    "\n",
    "$$ A + B <= 9 $$\n",
    "\n",
    "$$ 0 <= A <= 8 $$\n",
    "\n",
    "$$ 0 <= B <= 10 $$\n",
    "\n",
    "#### Donde\n",
    "\n",
    "*A*: Numero de autobuses chicos.\n",
    "\n",
    "*B*: Numero de autobuses grandes."
   ]
  },
  {
   "cell_type": "markdown",
   "metadata": {},
   "source": [
    "### Solution"
   ]
  },
  {
   "cell_type": "markdown",
   "metadata": {},
   "source": [
    "#### Scipy's linprog"
   ]
  },
  {
   "cell_type": "code",
   "execution_count": 7,
   "metadata": {},
   "outputs": [
    {
     "data": {
      "text/plain": [
       "           con: array([], dtype=float64)\n",
       " crossover_nit: 0\n",
       "         eqlin:  marginals: array([], dtype=float64)\n",
       "  residual: array([], dtype=float64)\n",
       "           fun: 6200.0\n",
       "       ineqlin:  marginals: array([ -20., -200.])\n",
       "  residual: array([0., 0.])\n",
       "         lower:  marginals: array([0., 0.])\n",
       "  residual: array([5., 4.])\n",
       "       message: 'Optimization terminated successfully. (HiGHS Status 7: Optimal)'\n",
       "           nit: 0\n",
       "         slack: array([0., 0.])\n",
       "        status: 0\n",
       "       success: True\n",
       "         upper:  marginals: array([0., 0.])\n",
       "  residual: array([3., 6.])\n",
       "             x: array([5., 4.])"
      ]
     },
     "execution_count": 7,
     "metadata": {},
     "output_type": "execute_result"
    }
   ],
   "source": [
    "A = [[-40, -50], [1, 1]]\n",
    "b = [-400, 9]\n",
    "bounds = [[0, 8], [0, 10]]\n",
    "c = [600, 800]\n",
    "\n",
    "linprog(c, A_ub = A, b_ub = b, bounds = bounds)"
   ]
  },
  {
   "cell_type": "markdown",
   "metadata": {},
   "source": [
    "#### Our particle swarm"
   ]
  }
 ],
 "metadata": {
  "kernelspec": {
   "display_name": "Python 3.8.0 32-bit",
   "language": "python",
   "name": "python3"
  },
  "language_info": {
   "codemirror_mode": {
    "name": "ipython",
    "version": 3
   },
   "file_extension": ".py",
   "mimetype": "text/x-python",
   "name": "python",
   "nbconvert_exporter": "python",
   "pygments_lexer": "ipython3",
   "version": "3.8.0"
  },
  "orig_nbformat": 4,
  "vscode": {
   "interpreter": {
    "hash": "8c35cf7207c93cfde9b5fb6a4f51b6c547077b8fcbf36c11645415366e8e0936"
   }
  }
 },
 "nbformat": 4,
 "nbformat_minor": 2
}
