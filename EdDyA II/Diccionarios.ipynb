{
 "cells": [
  {
   "cell_type": "markdown",
   "metadata": {},
   "source": [
    "# Diccionarios"
   ]
  },
  {
   "cell_type": "code",
   "execution_count": 5,
   "metadata": {},
   "outputs": [
    {
     "name": "stdout",
     "output_type": "stream",
     "text": [
      "{3: 'up', 4: 'universidad', 'carrera': 'IA', 'nivel': 'universidad'}\n",
      "{3: 'up', 4: 'universidad', 'carrera': 'IA', 'nivel': 'primaria'}\n",
      "{3: 'up', 4: 'universidad', 'carrera': 'IA', 'nivel': 'primaria', (1, 2): 'prueba'}\n"
     ]
    }
   ],
   "source": [
    "diccionario = dict() #Forma de incializar\n",
    "d = {1: 'UP', 2: 'Hola', 'Como': 'Estas'} #Otra forma de inicializar\n",
    "diccionario[3] = 'up'\n",
    "diccionario[4] = 'universidad'\n",
    "diccionario[\"carrera\"] = 'IA'\n",
    "diccionario[\"nivel\"] = \"universidad\" #Los valores se pueden repetir, las claves no\n",
    "print(diccionario)\n",
    "diccionario[\"nivel\"] = \"primaria\" #Los valores se pueden sobreescrbir\n",
    "print(diccionario)\n",
    "diccionario[(1, 2)] = \"prueba\"\n",
    "print(diccionario)"
   ]
  },
  {
   "cell_type": "markdown",
   "metadata": {},
   "source": [
    "### fromkeys()"
   ]
  },
  {
   "cell_type": "code",
   "execution_count": 14,
   "metadata": {},
   "outputs": [
    {
     "name": "stdout",
     "output_type": "stream",
     "text": [
      "{1: 0, 2: 0, 3: 0}\n",
      "{1: 0, 2: 0, 3: 0}\n"
     ]
    }
   ],
   "source": [
    "#Forma 1\n",
    "print(dict.fromkeys((1,2,3), 0)) #Se genera un diccionario apartir de las llaves y valores\n",
    "#Forma 2\n",
    "dic = dict()\n",
    "print(dic.fromkeys((1,2,3), 0))"
   ]
  },
  {
   "cell_type": "markdown",
   "metadata": {},
   "source": [
    "### get()"
   ]
  },
  {
   "cell_type": "code",
   "execution_count": 17,
   "metadata": {},
   "outputs": [
    {
     "name": "stdout",
     "output_type": "stream",
     "text": [
      "UP\n"
     ]
    }
   ],
   "source": [
    "d = {1: 'UP', 2: 'Hola', 'Como': 'Estas'}\n",
    "print(d.get(1))"
   ]
  },
  {
   "cell_type": "markdown",
   "metadata": {},
   "source": [
    "### keys()"
   ]
  },
  {
   "cell_type": "code",
   "execution_count": 19,
   "metadata": {},
   "outputs": [
    {
     "name": "stdout",
     "output_type": "stream",
     "text": [
      "dict_keys([1, 2, 'Como'])\n",
      "[1, 2, 'Como']\n",
      "{1, 2, 'Como'}\n",
      "(1, 2, 'Como')\n"
     ]
    }
   ],
   "source": [
    "d = {1: 'UP', 2: 'Hola', 'Como': 'Estas'}\n",
    "print(d.keys(), list(d.keys()), set(d.keys()), tuple(d.keys()), sep = \"\\n\")"
   ]
  }
 ],
 "metadata": {
  "kernelspec": {
   "display_name": "Python 3",
   "language": "python",
   "name": "python3"
  },
  "language_info": {
   "codemirror_mode": {
    "name": "ipython",
    "version": 3
   },
   "file_extension": ".py",
   "mimetype": "text/x-python",
   "name": "python",
   "nbconvert_exporter": "python",
   "pygments_lexer": "ipython3",
   "version": "3.8.3"
  }
 },
 "nbformat": 4,
 "nbformat_minor": 4
}
