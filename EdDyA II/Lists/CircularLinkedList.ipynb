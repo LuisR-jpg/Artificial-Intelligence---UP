{
 "cells": [
  {
   "cell_type": "markdown",
   "metadata": {},
   "source": [
    "# Circular Linked List"
   ]
  },
  {
   "cell_type": "code",
   "execution_count": 2,
   "metadata": {},
   "outputs": [],
   "source": [
    "class Node:\n",
    "    def __init__(self,data):\n",
    "        self.data = data\n",
    "        self.next = None\n",
    "    def __str__(self):\n",
    "        s = str(self.data)\n",
    "        s += \"\\t&: \" + str(hex(id(self)))\n",
    "        s += \"\\tNext: \" + str(hex(id(self.next)))\n",
    "        return s"
   ]
  },
  {
   "cell_type": "code",
   "execution_count": 3,
   "metadata": {},
   "outputs": [],
   "source": [
    "class CircularLinkedList:\n",
    "    def __init__(self): self.head = None    \n",
    "    def insert_head(self, data):\n",
    "        n = Node(data)\n",
    "        if self.head is None:\n",
    "            self.head = n\n",
    "            n.next = self.head\n",
    "            return\n",
    "        aux = n.next = self.head\n",
    "        while aux.next is not self.head: aux = aux.next\n",
    "        aux.next = self.head = n\n",
    "    def insert_tail(self, data):\n",
    "        n = Node(data)\n",
    "        if self.head is None: self.head = n\n",
    "        else:\n",
    "            aux = self.head\n",
    "            while aux.next is not self.head: aux = aux.next\n",
    "            aux.next = n\n",
    "        n.next = self.head    \n",
    "    def remove(self, data):\n",
    "        if self.head is None: return\n",
    "        if self.head.next is self.head and self.head.data is data:\n",
    "            self.head = None\n",
    "            return\n",
    "        aux = self.head\n",
    "        while aux.next is not self.head: aux = aux.next\n",
    "        while aux.next.data is not data:\n",
    "            aux = aux.next\n",
    "            if aux.next is self.head: break\n",
    "        if aux.next.data is not data: return\n",
    "        if aux.next is self.head: self.head = self.head.next\n",
    "        aux.next = aux.next.next\n",
    "    def __str__(self):\n",
    "        if self.head is None: return \"[]\"\n",
    "        s, aux = self.head.__str__() + \"\\n\", self.head.next\n",
    "        while aux is not self.head:\n",
    "            s += aux.__str__() + \"\\n\"\n",
    "            aux = aux.next\n",
    "        return s"
   ]
  },
  {
   "cell_type": "code",
   "execution_count": 4,
   "metadata": {},
   "outputs": [
    {
     "name": "stdout",
     "output_type": "stream",
     "text": [
      "22\t&: 0x2bdc28e9a90\tNext: 0x2bdc28e9400\n",
      "5\t&: 0x2bdc28e9400\tNext: 0x2bdc28e9f10\n",
      "15\t&: 0x2bdc28e9f10\tNext: 0x2bdc28e9460\n",
      "22\t&: 0x2bdc28e9460\tNext: 0x2bdc28e9a90\n",
      "\n"
     ]
    }
   ],
   "source": [
    "l = CircularLinkedList()\n",
    "l.insert_tail(5)\n",
    "l.insert_tail(10)\n",
    "l.insert_tail(15)\n",
    "l.insert_tail(22)\n",
    "l.insert_head(22)\n",
    "l.remove(10)\n",
    "print(l)\n"
   ]
  }
 ],
 "metadata": {
  "kernelspec": {
   "display_name": "Python 3",
   "language": "python",
   "name": "python3"
  },
  "language_info": {
   "codemirror_mode": {
    "name": "ipython",
    "version": 3
   },
   "file_extension": ".py",
   "mimetype": "text/x-python",
   "name": "python",
   "nbconvert_exporter": "python",
   "pygments_lexer": "ipython3",
   "version": "3.8.3"
  }
 },
 "nbformat": 4,
 "nbformat_minor": 4
}
