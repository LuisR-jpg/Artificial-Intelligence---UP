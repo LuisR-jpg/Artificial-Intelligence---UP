{
 "cells": [
  {
   "cell_type": "markdown",
   "metadata": {},
   "source": [
    "# Singly Linked List\n",
    "# Lista Simplemente Enlazada "
   ]
  },
  {
   "cell_type": "code",
   "execution_count": 3,
   "metadata": {},
   "outputs": [],
   "source": [
    "\"\"\" Code to test nodes:\n",
    "nu, nd = Node(4), Node(8)\n",
    "nu.next = nd\n",
    "print(nu)\n",
    "print(nd)\n",
    "\"\"\"\n",
    "class Node:\n",
    "    def __init__(self, data):\n",
    "        self.next = None\n",
    "        self.data = data\n",
    "    def __str__(self):\n",
    "        s = str(self.data)\n",
    "        s += \"\\t&: \" + str(hex(id(self)))\n",
    "        s += \"\\tNext: \" + str(hex(id(self.next)))\n",
    "        return s"
   ]
  },
  {
   "cell_type": "code",
   "execution_count": 34,
   "metadata": {},
   "outputs": [],
   "source": [
    "class SinglyLinkedList:\n",
    "    def __init__(self):\n",
    "        self.first = None\n",
    "    def insert_tail(self, data):\n",
    "        n = Node(data)\n",
    "        if self.first is None: self.first = n\n",
    "        else:\n",
    "            aux = self.first\n",
    "            while aux.next is not None: aux = aux.next\n",
    "            aux.next = n\n",
    "    def insert_head(self, data):\n",
    "        n = Node(data)\n",
    "        n.next = self.first\n",
    "        self.first = n\n",
    "    def remove(self, data):\n",
    "        n = Node(None)\n",
    "        n.next = self.first\n",
    "        while n.next is not None:\n",
    "            if n.next.data is data: break\n",
    "            n = n.next \n",
    "        if n.next is self.first: self.first = n.next.next\n",
    "        if n.next is not None: n.next = n.next.next        \n",
    "        else: return -1\n",
    "    def reverse(self):\n",
    "        if self.first is None: return\n",
    "        n = None\n",
    "        a = self.first\n",
    "        while a.next is not None:\n",
    "            aux = a\n",
    "            a = a.next\n",
    "            aux.next = n\n",
    "            n = aux\n",
    "        self.first = a\n",
    "        self.first.next = n\n",
    "    def __str__(self):\n",
    "        if self.first is None: return \"[]\"\n",
    "        else:\n",
    "            s, aux = \"\", self.first\n",
    "            while aux is not None:\n",
    "                s += aux.__str__() + \"\\n\"\n",
    "                aux = aux.next\n",
    "        return s"
   ]
  },
  {
   "cell_type": "code",
   "execution_count": 36,
   "metadata": {},
   "outputs": [
    {
     "name": "stdout",
     "output_type": "stream",
     "text": [
      "1\t&: 0x2864b3e1d90\tNext: 0x7ff9cc57a880\n",
      "\n"
     ]
    }
   ],
   "source": [
    "l = SinglyLinkedList()\n",
    "l.insert_head(1)\n",
    "l.insert_tail(5)\n",
    "l.remove(5)\n",
    "l.reverse()\n",
    "print(l)"
   ]
  }
 ],
 "metadata": {
  "kernelspec": {
   "display_name": "Python 3",
   "language": "python",
   "name": "python3"
  },
  "language_info": {
   "codemirror_mode": {
    "name": "ipython",
    "version": 3
   },
   "file_extension": ".py",
   "mimetype": "text/x-python",
   "name": "python",
   "nbconvert_exporter": "python",
   "pygments_lexer": "ipython3",
   "version": "3.8.3"
  }
 },
 "nbformat": 4,
 "nbformat_minor": 4
}
