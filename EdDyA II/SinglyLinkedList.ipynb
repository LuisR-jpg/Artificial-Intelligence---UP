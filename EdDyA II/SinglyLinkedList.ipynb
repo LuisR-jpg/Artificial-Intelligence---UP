{
 "cells": [
  {
   "cell_type": "markdown",
   "metadata": {},
   "source": [
    "# Singly Linked List\n",
    "# Lista Simplemente Enlazada "
   ]
  },
  {
   "cell_type": "code",
   "execution_count": 17,
   "metadata": {},
   "outputs": [],
   "source": [
    "\"\"\" Code to test nodes:\n",
    "nu, nd = Node(4), Node(8)\n",
    "nu.next = nd\n",
    "print(nu)\n",
    "print(nd)\n",
    "\"\"\"\n",
    "class Node:\n",
    "    def __init__(self, data):\n",
    "        self.next = None\n",
    "        self.data = data\n",
    "    def __str__(self):\n",
    "        s = str(self.data)\n",
    "        s += \"\\t&: \" + str(hex(id(self)))\n",
    "        s += \"\\tNext: \" + str(hex(id(self.next)))\n",
    "        return s"
   ]
  },
  {
   "cell_type": "code",
   "execution_count": 22,
   "metadata": {},
   "outputs": [],
   "source": [
    "class SinglyLinkedList:\n",
    "    def __init__(self):\n",
    "        self.first = None\n",
    "    def insert(self, data):\n",
    "        n = Node(data)\n",
    "        if self.first is None:\n",
    "            self.first = n\n",
    "        else:\n",
    "            aux = self.first\n",
    "            while aux.next is not None:\n",
    "                aux = aux.next\n",
    "            aux.next = n\n",
    "    def __str__(self):\n",
    "        if self.first is None: return \"[]\"\n",
    "        else:\n",
    "            s = \"\"\n",
    "            aux = self.first\n",
    "            while aux is not None:\n",
    "                s += aux.__str__() + \"\\n\"\n",
    "                aux = aux.next\n",
    "        return s"
   ]
  },
  {
   "cell_type": "code",
   "execution_count": 23,
   "metadata": {},
   "outputs": [
    {
     "name": "stdout",
     "output_type": "stream",
     "text": [
      "3\t&: 0x200cbb35c70\tNext: 0x200cbb35e50\n",
      "9\t&: 0x200cbb35e50\tNext: 0x200cbb35d90\n",
      "1\t&: 0x200cbb35d90\tNext: 0x200cbb35100\n",
      "12\t&: 0x200cbb35100\tNext: 0x7ffea8a8a880\n",
      "\n"
     ]
    }
   ],
   "source": [
    "l = SinglyLinkedList()\n",
    "l.insert(3)\n",
    "l.insert(9)\n",
    "l.insert(1)\n",
    "l.insert(12)\n",
    "print(l)"
   ]
  }
 ],
 "metadata": {
  "kernelspec": {
   "display_name": "Python 3",
   "language": "python",
   "name": "python3"
  },
  "language_info": {
   "codemirror_mode": {
    "name": "ipython",
    "version": 3
   },
   "file_extension": ".py",
   "mimetype": "text/x-python",
   "name": "python",
   "nbconvert_exporter": "python",
   "pygments_lexer": "ipython3",
   "version": "3.8.3"
  }
 },
 "nbformat": 4,
 "nbformat_minor": 4
}
