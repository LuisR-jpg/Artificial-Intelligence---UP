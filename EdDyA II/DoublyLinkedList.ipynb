{
 "cells": [
  {
   "cell_type": "markdown",
   "metadata": {},
   "source": [
    "# Doubly Linked List\n",
    "# Lista Doblemente Enlazada"
   ]
  },
  {
   "cell_type": "code",
   "execution_count": 5,
   "metadata": {},
   "outputs": [
    {
     "name": "stdout",
     "output_type": "stream",
     "text": [
      "5\tPrev:0x7ffea8a8a880\t&: 0x1f58fd2cd90\tNext: 0x7ffea8a8a880\n"
     ]
    }
   ],
   "source": [
    "class Node:\n",
    "    def __init__(self,data):\n",
    "        self.prev = None\n",
    "        self.data = data\n",
    "        self.next = None    \n",
    "    def __str__(self):\n",
    "        s = str(self.data)\n",
    "        s += \"\\tPrev:\" + str(hex(id(self.prev)))\n",
    "        s += \"\\t&: \" + str(hex(id(self)))\n",
    "        s += \"\\tNext: \" + str(hex(id(self.next)))\n",
    "        return s\n",
    "print(Node(5))"
   ]
  },
  {
   "cell_type": "code",
   "execution_count": 2,
   "metadata": {},
   "outputs": [],
   "source": [
    "class DoublyLinkedList:\n",
    "    def __init__(self):\n",
    "        self.first = None\n",
    "        self.last = None    \n",
    "    def push_front(self, data):\n",
    "        aux = Node(data)\n",
    "        aux.next = self.first\n",
    "    def push_back(self, data):\n",
    "        pass    \n",
    "    def __str__(self):\n",
    "        if self.first is None: return \"[]\"\n",
    "        else:\n",
    "            aux, s = self.first, \"\"\n",
    "            while aux is not None:\n",
    "                s += aux.__str__() + \", \"\n",
    "                aux = aux.next\n",
    "            return s"
   ]
  },
  {
   "cell_type": "code",
   "execution_count": 3,
   "metadata": {},
   "outputs": [
    {
     "name": "stdout",
     "output_type": "stream",
     "text": [
      "[]\n"
     ]
    }
   ],
   "source": [
    "l = DoublyLinkedList()\n",
    "l.push_back(3)\n",
    "l.push_back(9)\n",
    "l.push_front(2)\n",
    "l.push_front(1)\n",
    "print(l)"
   ]
  }
 ],
 "metadata": {
  "kernelspec": {
   "display_name": "Python 3",
   "language": "python",
   "name": "python3"
  },
  "language_info": {
   "codemirror_mode": {
    "name": "ipython",
    "version": 3
   },
   "file_extension": ".py",
   "mimetype": "text/x-python",
   "name": "python",
   "nbconvert_exporter": "python",
   "pygments_lexer": "ipython3",
   "version": "3.8.3"
  }
 },
 "nbformat": 4,
 "nbformat_minor": 4
}
