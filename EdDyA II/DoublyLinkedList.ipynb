{
 "cells": [
  {
   "cell_type": "markdown",
   "metadata": {},
   "source": [
    "# Doubly Linked List\n",
    "# Lista Doblemente Enlazada"
   ]
  },
  {
   "cell_type": "code",
   "execution_count": 1,
   "metadata": {},
   "outputs": [],
   "source": [
    "class Node:\n",
    "    def __init__(self, data):\n",
    "        self.prev = None\n",
    "        self.data = data\n",
    "        self.next = None    \n",
    "    def __str__(self):\n",
    "        s = str(self.data)\n",
    "        s += \"\\tPrev: \" + str(hex(id(self.prev)))\n",
    "        s += \"\\t&: \" + str(hex(id(self)))\n",
    "        s += \"\\tNext: \" + str(hex(id(self.next)))\n",
    "        return s"
   ]
  },
  {
   "cell_type": "code",
   "execution_count": 6,
   "metadata": {},
   "outputs": [],
   "source": [
    "class DoublyLinkedList:\n",
    "    def __init__(self):\n",
    "        self.first = None\n",
    "        self.last = None    \n",
    "    def push_front(self, data):\n",
    "        n = Node(data)\n",
    "        if self.first == None: self.first = self.last = n\n",
    "        else:\n",
    "            n.next = self.first\n",
    "            self.first.prev = n\n",
    "            self.first = n\n",
    "    def push_back(self, data):\n",
    "        n = Node(data)\n",
    "        if self.last == None: self.first = self.last = n\n",
    "        else:\n",
    "            n.prev = self.last\n",
    "            self.last.next = n\n",
    "            self.last = n\n",
    "    def pop_front(self):\n",
    "        if self.first is None: return \n",
    "        self.first = self.first.next\n",
    "        self.first.prev = None\n",
    "    def pop_back(self):\n",
    "        if self.first is None or self.first is self.last: return\n",
    "        self.last = self.last.prev\n",
    "        self.last.next = None\n",
    "    def print_reverse(self):\n",
    "        if self.first is None: return \"[]\"\n",
    "        s, aux = \"\", self.last\n",
    "        while aux is not None:\n",
    "            s += aux.__str__() + '\\n'\n",
    "            aux = aux.prev\n",
    "        return s\n",
    "    def remove(self, data):\n",
    "        aux = self.first\n",
    "        while aux is not None:\n",
    "            if aux.data == data: break\n",
    "            aux = aux.next\n",
    "        if aux is None: return\n",
    "        if aux.prev is not None: aux.prev.next = aux.next\n",
    "        if aux.next is not None: aux.next.prev = aux.prev\n",
    "        if aux == self.first: self.first = aux.next\n",
    "        if aux == self.last: self.last = aux.prev\n",
    "        aux.next = aux.prev = None\n",
    "    def __str__(self):\n",
    "        if self.first is None: return \"[]\"\n",
    "        else:\n",
    "            aux, s = self.first, \"\"\n",
    "            while aux is not None:\n",
    "                s += aux.__str__() + \"\\n\"\n",
    "                aux = aux.next\n",
    "            return s"
   ]
  },
  {
   "cell_type": "code",
   "execution_count": 7,
   "metadata": {},
   "outputs": [
    {
     "name": "stdout",
     "output_type": "stream",
     "text": [
      "1\tPrev: 0x7ffcf2e6a880\t&: 0x17951dd9fa0\tNext: 0x17951dd9ac0\n",
      "2\tPrev: 0x17951dd9fa0\t&: 0x17951dd9ac0\tNext: 0x17951dd9d30\n",
      "3\tPrev: 0x17951dd9ac0\t&: 0x17951dd9d30\tNext: 0x17951da5490\n",
      "9\tPrev: 0x17951dd9d30\t&: 0x17951da5490\tNext: 0x7ffcf2e6a880\n",
      "\n",
      "9\tPrev: 0x17951dd9d30\t&: 0x17951da5490\tNext: 0x7ffcf2e6a880\n",
      "3\tPrev: 0x17951dd9ac0\t&: 0x17951dd9d30\tNext: 0x17951da5490\n",
      "2\tPrev: 0x17951dd9fa0\t&: 0x17951dd9ac0\tNext: 0x17951dd9d30\n",
      "1\tPrev: 0x7ffcf2e6a880\t&: 0x17951dd9fa0\tNext: 0x17951dd9ac0\n",
      "\n",
      "3\tPrev: 0x7ffcf2e6a880\t&: 0x17951dd9d30\tNext: 0x7ffcf2e6a880\n",
      "\n",
      "3\tPrev: 0x7ffcf2e6a880\t&: 0x17951dd9d30\tNext: 0x7ffcf2e6a880\n",
      "\n"
     ]
    }
   ],
   "source": [
    "l = DoublyLinkedList()\n",
    "l.push_back(3)\n",
    "l.push_back(9)\n",
    "l.push_front(2)\n",
    "l.push_front(1)\n",
    "print(l)\n",
    "print(l.print_reverse())\n",
    "l.pop_front()\n",
    "l.pop_back()\n",
    "l.remove(2)\n",
    "print(l.print_reverse())\n",
    "print(l)"
   ]
  }
 ],
 "metadata": {
  "kernelspec": {
   "display_name": "Python 3",
   "language": "python",
   "name": "python3"
  },
  "language_info": {
   "codemirror_mode": {
    "name": "ipython",
    "version": 3
   },
   "file_extension": ".py",
   "mimetype": "text/x-python",
   "name": "python",
   "nbconvert_exporter": "python",
   "pygments_lexer": "ipython3",
   "version": "3.8.3"
  }
 },
 "nbformat": 4,
 "nbformat_minor": 4
}
