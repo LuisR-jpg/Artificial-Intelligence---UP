{
 "cells": [
  {
   "cell_type": "markdown",
   "metadata": {},
   "source": [
    "# Doubly Linked List\n",
    "# Lista Doblemente Enlazada"
   ]
  },
  {
   "cell_type": "code",
   "execution_count": 11,
   "metadata": {},
   "outputs": [],
   "source": [
    "class Node:\n",
    "    def __init__(self, data):\n",
    "        self.prev = None\n",
    "        self.data = data\n",
    "        self.next = None    \n",
    "    def __str__(self):\n",
    "        s = str(self.data)\n",
    "        s += \"\\tPrev: \" + str(hex(id(self.prev)))\n",
    "        s += \"\\t&: \" + str(hex(id(self)))\n",
    "        s += \"\\tNext: \" + str(hex(id(self.next)))\n",
    "        return s\n",
    "#print(Node(5))"
   ]
  },
  {
   "cell_type": "code",
   "execution_count": 9,
   "metadata": {},
   "outputs": [],
   "source": [
    "class DoublyLinkedList:\n",
    "    def __init__(self):\n",
    "        self.first = None\n",
    "        self.last = None    \n",
    "    def push_front(self, data):\n",
    "        n = Node(data)\n",
    "        if self.first == None: self.first = self.last = n\n",
    "        else:\n",
    "            n.next = self.first\n",
    "            self.first.prev = n\n",
    "            self.first = n\n",
    "    def push_back(self, data):\n",
    "        n = Node(data)\n",
    "        if self.last == None: self.first = self.last = n\n",
    "        else:\n",
    "            n.prev = self.last\n",
    "            self.last.next = n\n",
    "            self.last = n\n",
    "    def __str__(self):\n",
    "        if self.first is None: return \"[]\"\n",
    "        else:\n",
    "            aux, s = self.first, \"\"\n",
    "            while aux is not None:\n",
    "                s += aux.__str__() + \"\\n\"\n",
    "                aux = aux.next\n",
    "            return s"
   ]
  },
  {
   "cell_type": "code",
   "execution_count": 12,
   "metadata": {},
   "outputs": [
    {
     "name": "stdout",
     "output_type": "stream",
     "text": [
      "1\tPrev: 0x7ffe473aa880\t&: 0x1af266ad4f0\tNext: 0x1af266ad400\n",
      "2\tPrev: 0x1af266ad4f0\t&: 0x1af266ad400\tNext: 0x1af266add60\n",
      "3\tPrev: 0x1af266ad400\t&: 0x1af266add60\tNext: 0x1af266ad490\n",
      "9\tPrev: 0x1af266add60\t&: 0x1af266ad490\tNext: 0x7ffe473aa880\n",
      "\n"
     ]
    }
   ],
   "source": [
    "l = DoublyLinkedList()\n",
    "l.push_back(3)\n",
    "l.push_back(9)\n",
    "l.push_front(2)\n",
    "l.push_front(1)\n",
    "print(l)"
   ]
  }
 ],
 "metadata": {
  "kernelspec": {
   "display_name": "Python 3",
   "language": "python",
   "name": "python3"
  },
  "language_info": {
   "codemirror_mode": {
    "name": "ipython",
    "version": 3
   },
   "file_extension": ".py",
   "mimetype": "text/x-python",
   "name": "python",
   "nbconvert_exporter": "python",
   "pygments_lexer": "ipython3",
   "version": "3.8.3"
  }
 },
 "nbformat": 4,
 "nbformat_minor": 4
}
