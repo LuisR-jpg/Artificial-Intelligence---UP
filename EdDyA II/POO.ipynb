{
 "cells": [
  {
   "cell_type": "markdown",
   "metadata": {},
   "source": [
    "# Programacion orientada a objetos"
   ]
  },
  {
   "cell_type": "markdown",
   "metadata": {},
   "source": [
    "## Clases"
   ]
  },
  {
   "cell_type": "code",
   "execution_count": 19,
   "metadata": {},
   "outputs": [
    {
     "name": "stdout",
     "output_type": "stream",
     "text": [
      "Rectangulo.\n",
      "Base: 0\tAltura: 0\n",
      "Area: 0\tPerimetro: 0\n",
      "Rectangulo.\n",
      "Base: 4\tAltura: 5\n",
      "Area: 20\tPerimetro: 18\n"
     ]
    }
   ],
   "source": [
    "class Rectangulo:\n",
    "    def __init__(self, __base = 0, altura = 0): #Constructor\n",
    "        self.__base = __base #__ para hacerla privada\n",
    "        self.altura = altura\n",
    "    def __str__(self):\n",
    "        return \"Rectangulo.\\nBase: \" + str(self.__base) + \"\\tAltura: \" + str(self.altura) + \"\\nArea: \" + str(self.area()) + \"\\tPerimetro: \" + str(self.perimetro())\n",
    "    @property\n",
    "    def base(self):\n",
    "        return self.__base\n",
    "    @base.setter\n",
    "    def base(self, v):\n",
    "        self.__base = v if v >= 0 else v * -1\n",
    "    def area(self):\n",
    "        return self.__base * self.altura\n",
    "    def perimetro(self):\n",
    "        return self.__base*2 + self.altura*2\n",
    "#r = Rectangulo(4, 5)\n",
    "print(Rectangulo())\n",
    "print(Rectangulo(4, 5))"
   ]
  }
 ],
 "metadata": {
  "kernelspec": {
   "display_name": "Python 3",
   "language": "python",
   "name": "python3"
  },
  "language_info": {
   "codemirror_mode": {
    "name": "ipython",
    "version": 3
   },
   "file_extension": ".py",
   "mimetype": "text/x-python",
   "name": "python",
   "nbconvert_exporter": "python",
   "pygments_lexer": "ipython3",
   "version": "3.8.3"
  }
 },
 "nbformat": 4,
 "nbformat_minor": 4
}
