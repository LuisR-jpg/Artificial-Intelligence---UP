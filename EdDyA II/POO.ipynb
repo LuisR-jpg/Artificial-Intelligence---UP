{
 "cells": [
  {
   "cell_type": "markdown",
   "metadata": {},
   "source": [
    "# Programacion orientada a objetos"
   ]
  },
  {
   "cell_type": "markdown",
   "metadata": {},
   "source": [
    "## Clases"
   ]
  },
  {
   "cell_type": "code",
   "execution_count": 19,
   "metadata": {},
   "outputs": [
    {
     "name": "stdout",
     "output_type": "stream",
     "text": [
      "Rectangulo.\n",
      "Base: 0\tAltura: 0\n",
      "Area: 0\tPerimetro: 0\n",
      "Rectangulo.\n",
      "Base: 4\tAltura: 5\n",
      "Area: 20\tPerimetro: 18\n"
     ]
    }
   ],
   "source": [
    "class Rectangulo:\n",
    "    def __init__(self, __base = 0, altura = 0): #Constructor\n",
    "        self.__base = __base #__ para hacerla privada\n",
    "        self.altura = altura\n",
    "    def __str__(self):\n",
    "        return \"Rectangulo.\\nBase: \" + str(self.__base) + \"\\tAltura: \" + str(self.altura) + \"\\nArea: \" + str(self.area()) + \"\\tPerimetro: \" + str(self.perimetro())\n",
    "    @property\n",
    "    def base(self):\n",
    "        return self.__base\n",
    "    @base.setter\n",
    "    def base(self, v):\n",
    "        self.__base = v if v >= 0 else v * -1\n",
    "    def area(self):\n",
    "        return self.__base * self.altura\n",
    "    def perimetro(self):\n",
    "        return self.__base*2 + self.altura*2\n",
    "#r = Rectangulo(4, 5)\n",
    "print(Rectangulo())\n",
    "print(Rectangulo(4, 5))"
   ]
  },
  {
   "cell_type": "code",
   "execution_count": 21,
   "metadata": {},
   "outputs": [
    {
     "name": "stdout",
     "output_type": "stream",
     "text": [
      "Nombre: John\tApellido: Doe\tEdad: -1\n",
      "Nombre: el Wapo\tApellido: Robles\tEdad: 54\n"
     ]
    }
   ],
   "source": [
    "class Persona:\n",
    "    def __init__(self, nombre = 'John', apellido = 'Doe', edad = -1):\n",
    "        self.nombre = nombre\n",
    "        self.apellido = apellido\n",
    "        self.__edad = edad\n",
    "    #get\n",
    "    @property \n",
    "    def edad(self):\n",
    "        return self.__edad\n",
    "    @edad.setter\n",
    "    def edad(self, edad):\n",
    "        self.__edad = edad\n",
    "    def set_edad(self, edad):\n",
    "        self.__edad = edad\n",
    "    def __str__(self):\n",
    "        s = 'Nombre: ' + self.nombre\n",
    "        s += '\\tApellido: ' + self.apellido\n",
    "        s += '\\tEdad: ' + str(self.__edad)\n",
    "        \n",
    "        return s\n",
    "print(Persona())\n",
    "humano = Persona(\"Lalito\", \"Robles\", 14)\n",
    "humano.nombre = \"el Wapo\" #Funciona, es publica\n",
    "humano.__edad = 100 #No agarra, porque __edad es privada\n",
    "humano.edad = 60 #Si funciona porque está implementado el setter\n",
    "humano.set_edad(54) #Para modificar variables privadas se necesitan metodos (en este caso es mejor setter y getter)\n",
    "print(humano)"
   ]
  },
  {
   "cell_type": "markdown",
   "metadata": {},
   "source": [
    "### Herencia"
   ]
  },
  {
   "cell_type": "markdown",
   "metadata": {},
   "source": [
    "###### class Empleado(Persona): #Hereda de persona\n",
    "    def __init__(self, nombre = \"\", apellido = \"\", edad = -1, salario = -1.):\n",
    "        Persona.__init__(self, nombre, apellido, edad)\n",
    "        self.__salario = salario\n",
    "    def metodovacio(self): pass\n",
    "    @property\n",
    "    def salario(self):\n",
    "        return self.__salario\n",
    "    @salario.setter\n",
    "    def salario(self, salario):\n",
    "        self.__salario = salario\n",
    "    def __str__(self):\n",
    "        s = 'Nombre: ' + self.nombre\n",
    "        s += '\\tApellido: ' + self.apellido\n",
    "        s += '\\tEdad: ' + str(self.edad)\n",
    "        s += \"\\tSalario: \" + str(self.__salario)\n",
    "        return s\n",
    "e = Empleado(\"Lolo\", \"Jimenez\", salario = 123.4, edad = 32)\n",
    "print(e)\n",
    "e.salario += 1000\n",
    "print(e)"
   ]
  }
 ],
 "metadata": {
  "kernelspec": {
   "display_name": "Python 3",
   "language": "python",
   "name": "python3"
  },
  "language_info": {
   "codemirror_mode": {
    "name": "ipython",
    "version": 3
   },
   "file_extension": ".py",
   "mimetype": "text/x-python",
   "name": "python",
   "nbconvert_exporter": "python",
   "pygments_lexer": "ipython3",
   "version": "3.8.3"
  }
 },
 "nbformat": 4,
 "nbformat_minor": 4
}
