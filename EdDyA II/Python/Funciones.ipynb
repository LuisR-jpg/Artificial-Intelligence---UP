{
 "cells": [
  {
   "cell_type": "markdown",
   "metadata": {},
   "source": [
    "# Funciones"
   ]
  },
  {
   "cell_type": "code",
   "execution_count": 1,
   "metadata": {},
   "outputs": [
    {
     "name": "stdout",
     "output_type": "stream",
     "text": [
      "Llamada a la funcion\n"
     ]
    }
   ],
   "source": [
    "def funcion():\n",
    "    print(\"Llamada a la funcion\")\n",
    "funcion()"
   ]
  },
  {
   "cell_type": "markdown",
   "metadata": {},
   "source": [
    "### Funciona para varios tipos"
   ]
  },
  {
   "cell_type": "code",
   "execution_count": 7,
   "metadata": {
    "scrolled": true
   },
   "outputs": [
    {
     "name": "stdout",
     "output_type": "stream",
     "text": [
      "7\n",
      "Universidad Panamericana\n",
      "(1, 2, 2, 1)\n"
     ]
    }
   ],
   "source": [
    "def suma(n1, n2):\n",
    "    return n1 + n2\n",
    "print(suma(2, 5))\n",
    "print(suma(\"Universidad\", \" Panamericana\"))\n",
    "print(suma((1, 2), (2, 1)))"
   ]
  },
  {
   "cell_type": "markdown",
   "metadata": {},
   "source": [
    "### Puede regresar mas de una cosa"
   ]
  },
  {
   "cell_type": "code",
   "execution_count": 14,
   "metadata": {},
   "outputs": [
    {
     "name": "stdout",
     "output_type": "stream",
     "text": [
      "Lista: [9, 20]\n",
      "Tupla: (9, 20)\n",
      "Suma: 9\n",
      "Multiplicacion 20\n",
      "Funcion: (5, 6)\n"
     ]
    }
   ],
   "source": [
    "def suma_mul( n1, n2 ):\n",
    "    return n1 + n2, n1 * n2\n",
    "s, m = suma_mul(4, 5)\n",
    "lis, tup = list(suma_mul(4, 5)), suma_mul(4, 5)\n",
    "print(\"Lista:\", lis)\n",
    "print(\"Tupla:\", tup)\n",
    "print(\"Suma:\", s)\n",
    "print(\"Multiplicacion\", m)\n",
    "print(\"Funcion:\", suma_mul(2, 3))"
   ]
  },
  {
   "cell_type": "markdown",
   "metadata": {},
   "source": [
    "### Tipos primitivos: int, float, str, bool\n",
    "#### Parametro por valor\n",
    "### Otros tipos de datos:\n",
    "#### Paso por referencia"
   ]
  },
  {
   "cell_type": "code",
   "execution_count": 19,
   "metadata": {},
   "outputs": [
    {
     "name": "stdout",
     "output_type": "stream",
     "text": [
      "1 5.6 Hola  [1, 'rules']\n",
      "1 5.6 Hola  ['Panamericana', 'rules']\n"
     ]
    }
   ],
   "source": [
    "def func( vint, vfloat, vstr, vlist ):\n",
    "    vint += 10\n",
    "    vfloat += 10\n",
    "    vstr += \"jajaasies\"\n",
    "    vlist[0] = \"Panamericana\"\n",
    "uno, punto, cad, lis = 1, 5.6, \"Hola \", [1, 'rules']\n",
    "print(uno, punto, cad, lis)\n",
    "func(uno, punto, cad, lis)\n",
    "print(uno, punto, cad, lis)"
   ]
  },
  {
   "cell_type": "markdown",
   "metadata": {},
   "source": [
    "### Parametros por default"
   ]
  },
  {
   "cell_type": "code",
   "execution_count": 21,
   "metadata": {},
   "outputs": [
    {
     "name": "stdout",
     "output_type": "stream",
     "text": [
      "1 2 3\n",
      "10 2 3\n",
      "10 10 3\n",
      "10 10 10\n",
      "1 2 10\n"
     ]
    }
   ],
   "source": [
    "def defa(a = 1, b = 2, c = 3):\n",
    "    print(a, b, c)\n",
    "defa()\n",
    "defa(10)\n",
    "defa(10, 10)\n",
    "defa(10, 10, 10)\n",
    "defa(c = 10)"
   ]
  }
 ],
 "metadata": {
  "kernelspec": {
   "display_name": "Python 3",
   "language": "python",
   "name": "python3"
  },
  "language_info": {
   "codemirror_mode": {
    "name": "ipython",
    "version": 3
   },
   "file_extension": ".py",
   "mimetype": "text/x-python",
   "name": "python",
   "nbconvert_exporter": "python",
   "pygments_lexer": "ipython3",
   "version": "3.8.3"
  }
 },
 "nbformat": 4,
 "nbformat_minor": 4
}
