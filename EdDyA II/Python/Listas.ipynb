{
 "cells": [
  {
   "cell_type": "markdown",
   "metadata": {},
   "source": [
    "# Listas"
   ]
  },
  {
   "cell_type": "code",
   "execution_count": null,
   "metadata": {},
   "outputs": [],
   "source": [
    "lista = ['string', 9, 3., 5.4, 'a']\n",
    "print(lista)\n",
    "print(lista[1])\n",
    "print(lista[-1]) #Prints last element\n",
    "print(lista[2:4])\n"
   ]
  },
  {
   "cell_type": "markdown",
   "metadata": {},
   "source": [
    "### append()"
   ]
  },
  {
   "cell_type": "code",
   "execution_count": 3,
   "metadata": {},
   "outputs": [
    {
     "name": "stdout",
     "output_type": "stream",
     "text": [
      "['string', 9, 3.0, 5.4, 'a']\n",
      "['string', 9, 3.0, 5.4, 'a', 'd']\n",
      "['a', 'b', 'c', ['d', 'e']]\n"
     ]
    }
   ],
   "source": [
    "lista = ['string', 9, 3., 5.4, 'a']\n",
    "print(lista)\n",
    "lista.append('d')\n",
    "print(lista)\n",
    "listaA = ['a', 'b', 'c']\n",
    "listaB = ['d', 'e']\n",
    "listaA.append(listaB)\n",
    "print(listaA)"
   ]
  },
  {
   "cell_type": "markdown",
   "metadata": {},
   "source": [
    "### clear()"
   ]
  },
  {
   "cell_type": "code",
   "execution_count": null,
   "metadata": {},
   "outputs": [],
   "source": [
    "lista = ['string', 9, 3., 5.4, 'a']\n",
    "print(lista)\n",
    "lista.clear()\n",
    "print(lista)"
   ]
  },
  {
   "cell_type": "markdown",
   "metadata": {},
   "source": [
    "### copy()"
   ]
  },
  {
   "cell_type": "code",
   "execution_count": null,
   "metadata": {},
   "outputs": [],
   "source": [
    "listaA = ['a', 'b', 'c']\n",
    "listaB = listaA\n",
    "print('A', listaA)\n",
    "print('B', listaB)\n",
    "listaB[1] = 'B'\n",
    "print('A', listaA)\n",
    "print('B', listaB)"
   ]
  },
  {
   "cell_type": "markdown",
   "metadata": {},
   "source": [
    "### Copy by reference"
   ]
  },
  {
   "cell_type": "code",
   "execution_count": null,
   "metadata": {},
   "outputs": [],
   "source": [
    "listaA = ['a', 'b', 'c']\n",
    "listaB = listaA.copy()\n",
    "print('A', listaA)\n",
    "print('B', listaB)\n",
    "listaB[1] = 'B'\n",
    "print('A', listaA)\n",
    "print('B', listaB)"
   ]
  },
  {
   "cell_type": "markdown",
   "metadata": {},
   "source": [
    "### reverse()\n"
   ]
  },
  {
   "cell_type": "code",
   "execution_count": 4,
   "metadata": {},
   "outputs": [
    {
     "name": "stdout",
     "output_type": "stream",
     "text": [
      "A ['a', 'b', 'c']\n",
      "B ['c', 'b', 'a']\n"
     ]
    }
   ],
   "source": [
    "listaA = ['a', 'b', 'c']\n",
    "listaB = listaA.copy()\n",
    "listaB.reverse()\n",
    "print('A', listaA)\n",
    "print('B', listaB)"
   ]
  },
  {
   "cell_type": "markdown",
   "metadata": {},
   "source": [
    "### sort()"
   ]
  },
  {
   "cell_type": "code",
   "execution_count": 10,
   "metadata": {},
   "outputs": [
    {
     "name": "stdout",
     "output_type": "stream",
     "text": [
      "[9, 9, 8, 6, 5, 3, 2, 1, 0.3]\n",
      "['UP', 'f', 'hola', 'x']\n"
     ]
    }
   ],
   "source": [
    "listaA = [9, 5, 2, 8, 3, 1, 6, 9, 0.3]\n",
    "listaA.sort()\n",
    "print(listaA)\n",
    "listaB = ['x', 'hola', 'UP', 'f']\n",
    "listaB.sort()\n",
    "print(listaB)"
   ]
  },
  {
   "cell_type": "markdown",
   "metadata": {},
   "source": [
    "### extend()"
   ]
  },
  {
   "cell_type": "code",
   "execution_count": 4,
   "metadata": {},
   "outputs": [
    {
     "name": "stdout",
     "output_type": "stream",
     "text": [
      "['a', 'b', 'c', 'd', 'e']\n"
     ]
    }
   ],
   "source": [
    "listaA = ['a', 'b', 'c']\n",
    "listaB = ['d', 'e']\n",
    "listaA.extend(listaB)\n",
    "print(listaA)"
   ]
  },
  {
   "cell_type": "markdown",
   "metadata": {},
   "source": [
    "### count()"
   ]
  },
  {
   "cell_type": "code",
   "execution_count": 20,
   "metadata": {},
   "outputs": [
    {
     "name": "stdout",
     "output_type": "stream",
     "text": [
      "2\n",
      "0\n"
     ]
    }
   ],
   "source": [
    "listaA = ['a', 'b', 'c', 'd', 'a']\n",
    "print(listaA.count('a'))\n",
    "print(listaA.count(5))"
   ]
  },
  {
   "cell_type": "markdown",
   "metadata": {},
   "source": [
    "### index()"
   ]
  },
  {
   "cell_type": "code",
   "execution_count": 18,
   "metadata": {},
   "outputs": [
    {
     "name": "stdout",
     "output_type": "stream",
     "text": [
      "0\n"
     ]
    }
   ],
   "source": [
    "listaA = ['a', 'b', 'c', 'd', 'a']\n",
    "print(listaA.index('a'))"
   ]
  },
  {
   "cell_type": "markdown",
   "metadata": {},
   "source": [
    "### remove()"
   ]
  },
  {
   "cell_type": "code",
   "execution_count": 6,
   "metadata": {},
   "outputs": [
    {
     "name": "stdout",
     "output_type": "stream",
     "text": [
      "['a', 'c', 'd', 'a']\n"
     ]
    }
   ],
   "source": [
    "listaA = ['a','b','c','d','a']\n",
    "listaA.remove('b')\n",
    "print(listaA)"
   ]
  },
  {
   "cell_type": "markdown",
   "metadata": {},
   "source": [
    "### insert()"
   ]
  },
  {
   "cell_type": "code",
   "execution_count": 5,
   "metadata": {},
   "outputs": [
    {
     "name": "stdout",
     "output_type": "stream",
     "text": [
      "['a', 'b', 'z', 'c', 'd', 'a']\n"
     ]
    }
   ],
   "source": [
    "listaA = ['a','b','c','d','a']\n",
    "listaA.insert(2,'z')\n",
    "print(listaA)"
   ]
  },
  {
   "cell_type": "markdown",
   "metadata": {},
   "source": [
    "### pop()"
   ]
  },
  {
   "cell_type": "code",
   "execution_count": null,
   "metadata": {},
   "outputs": [],
   "source": [
    "listaA = ['a', 'b', 'c', 'd', 'a']\n",
    "listaA.pop(2) #En index 2\n",
    "listaA.pop() #El del final\n",
    "print(listaA)"
   ]
  }
 ],
 "metadata": {
  "kernelspec": {
   "display_name": "Python 3",
   "language": "python",
   "name": "python3"
  },
  "language_info": {
   "codemirror_mode": {
    "name": "ipython",
    "version": 3
   },
   "file_extension": ".py",
   "mimetype": "text/x-python",
   "name": "python",
   "nbconvert_exporter": "python",
   "pygments_lexer": "ipython3",
   "version": "3.8.3"
  }
 },
 "nbformat": 4,
 "nbformat_minor": 4
}
