{
 "cells": [
  {
   "cell_type": "code",
   "execution_count": 36,
   "metadata": {},
   "outputs": [
    {
     "name": "stdout",
     "output_type": "stream",
     "text": [
      "cadenacadenacadenacadenacadenacadenacadenacadenacadenacadenacadenacadenacadenacadenacadenacadenacadenacadenacadenacadenacadenacadenacadenacadenacadenacadenacadenacadenacadenacadenacadenacadenacadenacadenacadenacadenacadenacadenacadenacadenacadenacadenacadenacadenacadenacadenacadenacadenacadenacadena\n",
      "e\n",
      "a\n",
      "aden\n",
      "adena\n",
      "cad\n",
      "ena\n",
      "anedac\n"
     ]
    }
   ],
   "source": [
    "\"\"\" Subcadenas \"\"\"\n",
    "a = \"cadena\"\n",
    "print(a*50)\n",
    "print(a[3])\n",
    "print(a[-1]) #Cuenta de derecha a izquierda\n",
    "print(a[1:-1]) #Subcadena [1, -1)\n",
    "print(a[1:]) #Subcadena [1 al final]\n",
    "print(a[: 3]) #[0, 3)\n",
    "print(a[-3:]) #Ultimos 3 caracteres\n",
    "print(a[::-1]) #Invierte la cadena"
   ]
  },
  {
   "cell_type": "code",
   "execution_count": 33,
   "metadata": {},
   "outputs": [
    {
     "name": "stdout",
     "output_type": "stream",
     "text": [
      "19\n",
      "cadena de texto: 27\n",
      "CADENA DE TEXTO: 27\n",
      "Caxna x Texto: 27\n",
      "['Cadena', 'de', 'Texto:', '27']\n"
     ]
    }
   ],
   "source": [
    "\"\"\" Metodos cadenas \"\"\"\n",
    "s = \"Cadena de Texto: 27\"\n",
    "print(len(s))\n",
    "print(s.lower())\n",
    "print(s.upper())\n",
    "print(s.replace('de', 'x'))\n",
    "print(s.split(' ')) #Regresa arreglo de cadenas"
   ]
  },
  {
   "cell_type": "code",
   "execution_count": 35,
   "metadata": {},
   "outputs": [
    {
     "name": "stdout",
     "output_type": "stream",
     "text": [
      "8\n",
      "2.5\n",
      "2.5\n",
      "2\n"
     ]
    }
   ],
   "source": [
    "\"\"\" Operadores \"\"\"\n",
    "print(2**3) #Potencia\n",
    "print(5/2) #División\n",
    "print(5./2.)\n",
    "print(5//2) #Division entera"
   ]
  },
  {
   "cell_type": "code",
   "execution_count": null,
   "metadata": {},
   "outputs": [],
   "source": []
  }
 ],
 "metadata": {
  "kernelspec": {
   "display_name": "Python 3",
   "language": "python",
   "name": "python3"
  },
  "language_info": {
   "codemirror_mode": {
    "name": "ipython",
    "version": 3
   },
   "file_extension": ".py",
   "mimetype": "text/x-python",
   "name": "python",
   "nbconvert_exporter": "python",
   "pygments_lexer": "ipython3",
   "version": "3.8.3"
  }
 },
 "nbformat": 4,
 "nbformat_minor": 4
}
